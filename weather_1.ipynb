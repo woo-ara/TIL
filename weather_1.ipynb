{
  "nbformat": 4,
  "nbformat_minor": 0,
  "metadata": {
    "colab": {
      "provenance": [],
      "collapsed_sections": [],
      "authorship_tag": "ABX9TyMOhy7471HM2Dn6Wp4PYb+8"
    },
    "kernelspec": {
      "name": "python3",
      "display_name": "Python 3"
    },
    "language_info": {
      "name": "python"
    },
    "accelerator": "GPU"
  },
  "cells": [
    {
      "cell_type": "code",
      "source": [
        "from google.colab import drive\n",
        "drive.mount('/content/drive')"
      ],
      "metadata": {
        "colab": {
          "base_uri": "https://localhost:8080/"
        },
        "id": "8BkS4L6zfU1j",
        "outputId": "c1bee381-5957-492d-9a51-f45baac5e56a"
      },
      "execution_count": null,
      "outputs": [
        {
          "output_type": "stream",
          "name": "stdout",
          "text": [
            "Mounted at /content/drive\n"
          ]
        }
      ]
    },
    {
      "cell_type": "code",
      "execution_count": null,
      "metadata": {
        "id": "Bv8wqgG1eFNE"
      },
      "outputs": [],
      "source": [
        "import pandas as pd\n",
        "import tensorflow as tf\n",
        "from tensorflow import keras"
      ]
    },
    {
      "cell_type": "code",
      "source": [
        "uvFile = '/content/drive/MyDrive/weather/uv_20_0506.csv'\n",
        "uv = pd.read_csv(uvFile)\n",
        "uv.drop(['Unnamed: 0'], axis = 1, inplace = True)\n",
        "print(uv.columns)\n",
        "uv.head()"
      ],
      "metadata": {
        "colab": {
          "base_uri": "https://localhost:8080/",
          "height": 389
        },
        "id": "9Qbc4EdvgKPe",
        "outputId": "81fe3339-31fe-4c0f-ffff-34859c118cf2"
      },
      "execution_count": null,
      "outputs": [
        {
          "output_type": "stream",
          "name": "stdout",
          "text": [
            "Index(['yyyymmdd', 'hhnn', 'stn', 'lon', 'lat', 'uv', 'band1', 'band2',\n",
            "       'band3', 'band4', 'band5', 'band6', 'band7', 'band8', 'band9', 'band10',\n",
            "       'band11', 'band12', 'band13', 'band14', 'band15', 'band16', 'solarza',\n",
            "       'sateza', 'esr', 'height', 'landtype'],\n",
            "      dtype='object')\n"
          ]
        },
        {
          "output_type": "execute_result",
          "data": {
            "text/plain": [
              "   yyyymmdd  hhnn  stn        lon       lat   uv    band1    band2    band3  \\\n",
              "0  20200501  1200  133  127.37212  36.37200  7.6  0.16542  0.15454  0.13590   \n",
              "1  20200501   750  165  126.38121  34.81689  0.7  0.16655  0.16253  0.15139   \n",
              "2  20200501   800   13  126.16000  33.30000  0.7  0.15239  0.14485  0.12696   \n",
              "3  20200501   800  105  128.89098  37.75147  1.5  0.09630  0.08554  0.06825   \n",
              "4  20200501   800  108  126.96500  37.57100  0.8  0.23793  0.23552  0.23067   \n",
              "\n",
              "     band4  ...     band12     band13     band14     band15     band16  \\\n",
              "0  0.24838  ...  264.79664  301.30719  300.56443  295.95717  274.95032   \n",
              "1  0.17955  ...  256.61276  286.47735  286.88642  285.54782  270.62243   \n",
              "2  0.13167  ...  249.15195  270.68154  269.08984  266.94653  255.14159   \n",
              "3  0.11177  ...  259.86773  291.81175  291.98452  289.67404  271.72665   \n",
              "4  0.26634  ...  255.06616  282.63889  283.15970  282.13972  268.43647   \n",
              "\n",
              "    solarza    sateza      esr  height  landtype  \n",
              "0  21.76548  42.40541  8.63443   68.94         3  \n",
              "1  65.25262  40.67788  2.13476   38.00         3  \n",
              "2  63.41637  38.96359  3.98237   71.00         0  \n",
              "3  61.21997  43.95463  4.30705   26.04         3  \n",
              "4  62.74639  43.77999  4.08461   85.50         3  \n",
              "\n",
              "[5 rows x 27 columns]"
            ],
            "text/html": [
              "\n",
              "  <div id=\"df-1e90529c-5999-4af0-9474-19595271fcba\">\n",
              "    <div class=\"colab-df-container\">\n",
              "      <div>\n",
              "<style scoped>\n",
              "    .dataframe tbody tr th:only-of-type {\n",
              "        vertical-align: middle;\n",
              "    }\n",
              "\n",
              "    .dataframe tbody tr th {\n",
              "        vertical-align: top;\n",
              "    }\n",
              "\n",
              "    .dataframe thead th {\n",
              "        text-align: right;\n",
              "    }\n",
              "</style>\n",
              "<table border=\"1\" class=\"dataframe\">\n",
              "  <thead>\n",
              "    <tr style=\"text-align: right;\">\n",
              "      <th></th>\n",
              "      <th>yyyymmdd</th>\n",
              "      <th>hhnn</th>\n",
              "      <th>stn</th>\n",
              "      <th>lon</th>\n",
              "      <th>lat</th>\n",
              "      <th>uv</th>\n",
              "      <th>band1</th>\n",
              "      <th>band2</th>\n",
              "      <th>band3</th>\n",
              "      <th>band4</th>\n",
              "      <th>...</th>\n",
              "      <th>band12</th>\n",
              "      <th>band13</th>\n",
              "      <th>band14</th>\n",
              "      <th>band15</th>\n",
              "      <th>band16</th>\n",
              "      <th>solarza</th>\n",
              "      <th>sateza</th>\n",
              "      <th>esr</th>\n",
              "      <th>height</th>\n",
              "      <th>landtype</th>\n",
              "    </tr>\n",
              "  </thead>\n",
              "  <tbody>\n",
              "    <tr>\n",
              "      <th>0</th>\n",
              "      <td>20200501</td>\n",
              "      <td>1200</td>\n",
              "      <td>133</td>\n",
              "      <td>127.37212</td>\n",
              "      <td>36.37200</td>\n",
              "      <td>7.6</td>\n",
              "      <td>0.16542</td>\n",
              "      <td>0.15454</td>\n",
              "      <td>0.13590</td>\n",
              "      <td>0.24838</td>\n",
              "      <td>...</td>\n",
              "      <td>264.79664</td>\n",
              "      <td>301.30719</td>\n",
              "      <td>300.56443</td>\n",
              "      <td>295.95717</td>\n",
              "      <td>274.95032</td>\n",
              "      <td>21.76548</td>\n",
              "      <td>42.40541</td>\n",
              "      <td>8.63443</td>\n",
              "      <td>68.94</td>\n",
              "      <td>3</td>\n",
              "    </tr>\n",
              "    <tr>\n",
              "      <th>1</th>\n",
              "      <td>20200501</td>\n",
              "      <td>750</td>\n",
              "      <td>165</td>\n",
              "      <td>126.38121</td>\n",
              "      <td>34.81689</td>\n",
              "      <td>0.7</td>\n",
              "      <td>0.16655</td>\n",
              "      <td>0.16253</td>\n",
              "      <td>0.15139</td>\n",
              "      <td>0.17955</td>\n",
              "      <td>...</td>\n",
              "      <td>256.61276</td>\n",
              "      <td>286.47735</td>\n",
              "      <td>286.88642</td>\n",
              "      <td>285.54782</td>\n",
              "      <td>270.62243</td>\n",
              "      <td>65.25262</td>\n",
              "      <td>40.67788</td>\n",
              "      <td>2.13476</td>\n",
              "      <td>38.00</td>\n",
              "      <td>3</td>\n",
              "    </tr>\n",
              "    <tr>\n",
              "      <th>2</th>\n",
              "      <td>20200501</td>\n",
              "      <td>800</td>\n",
              "      <td>13</td>\n",
              "      <td>126.16000</td>\n",
              "      <td>33.30000</td>\n",
              "      <td>0.7</td>\n",
              "      <td>0.15239</td>\n",
              "      <td>0.14485</td>\n",
              "      <td>0.12696</td>\n",
              "      <td>0.13167</td>\n",
              "      <td>...</td>\n",
              "      <td>249.15195</td>\n",
              "      <td>270.68154</td>\n",
              "      <td>269.08984</td>\n",
              "      <td>266.94653</td>\n",
              "      <td>255.14159</td>\n",
              "      <td>63.41637</td>\n",
              "      <td>38.96359</td>\n",
              "      <td>3.98237</td>\n",
              "      <td>71.00</td>\n",
              "      <td>0</td>\n",
              "    </tr>\n",
              "    <tr>\n",
              "      <th>3</th>\n",
              "      <td>20200501</td>\n",
              "      <td>800</td>\n",
              "      <td>105</td>\n",
              "      <td>128.89098</td>\n",
              "      <td>37.75147</td>\n",
              "      <td>1.5</td>\n",
              "      <td>0.09630</td>\n",
              "      <td>0.08554</td>\n",
              "      <td>0.06825</td>\n",
              "      <td>0.11177</td>\n",
              "      <td>...</td>\n",
              "      <td>259.86773</td>\n",
              "      <td>291.81175</td>\n",
              "      <td>291.98452</td>\n",
              "      <td>289.67404</td>\n",
              "      <td>271.72665</td>\n",
              "      <td>61.21997</td>\n",
              "      <td>43.95463</td>\n",
              "      <td>4.30705</td>\n",
              "      <td>26.04</td>\n",
              "      <td>3</td>\n",
              "    </tr>\n",
              "    <tr>\n",
              "      <th>4</th>\n",
              "      <td>20200501</td>\n",
              "      <td>800</td>\n",
              "      <td>108</td>\n",
              "      <td>126.96500</td>\n",
              "      <td>37.57100</td>\n",
              "      <td>0.8</td>\n",
              "      <td>0.23793</td>\n",
              "      <td>0.23552</td>\n",
              "      <td>0.23067</td>\n",
              "      <td>0.26634</td>\n",
              "      <td>...</td>\n",
              "      <td>255.06616</td>\n",
              "      <td>282.63889</td>\n",
              "      <td>283.15970</td>\n",
              "      <td>282.13972</td>\n",
              "      <td>268.43647</td>\n",
              "      <td>62.74639</td>\n",
              "      <td>43.77999</td>\n",
              "      <td>4.08461</td>\n",
              "      <td>85.50</td>\n",
              "      <td>3</td>\n",
              "    </tr>\n",
              "  </tbody>\n",
              "</table>\n",
              "<p>5 rows × 27 columns</p>\n",
              "</div>\n",
              "      <button class=\"colab-df-convert\" onclick=\"convertToInteractive('df-1e90529c-5999-4af0-9474-19595271fcba')\"\n",
              "              title=\"Convert this dataframe to an interactive table.\"\n",
              "              style=\"display:none;\">\n",
              "        \n",
              "  <svg xmlns=\"http://www.w3.org/2000/svg\" height=\"24px\"viewBox=\"0 0 24 24\"\n",
              "       width=\"24px\">\n",
              "    <path d=\"M0 0h24v24H0V0z\" fill=\"none\"/>\n",
              "    <path d=\"M18.56 5.44l.94 2.06.94-2.06 2.06-.94-2.06-.94-.94-2.06-.94 2.06-2.06.94zm-11 1L8.5 8.5l.94-2.06 2.06-.94-2.06-.94L8.5 2.5l-.94 2.06-2.06.94zm10 10l.94 2.06.94-2.06 2.06-.94-2.06-.94-.94-2.06-.94 2.06-2.06.94z\"/><path d=\"M17.41 7.96l-1.37-1.37c-.4-.4-.92-.59-1.43-.59-.52 0-1.04.2-1.43.59L10.3 9.45l-7.72 7.72c-.78.78-.78 2.05 0 2.83L4 21.41c.39.39.9.59 1.41.59.51 0 1.02-.2 1.41-.59l7.78-7.78 2.81-2.81c.8-.78.8-2.07 0-2.86zM5.41 20L4 18.59l7.72-7.72 1.47 1.35L5.41 20z\"/>\n",
              "  </svg>\n",
              "      </button>\n",
              "      \n",
              "  <style>\n",
              "    .colab-df-container {\n",
              "      display:flex;\n",
              "      flex-wrap:wrap;\n",
              "      gap: 12px;\n",
              "    }\n",
              "\n",
              "    .colab-df-convert {\n",
              "      background-color: #E8F0FE;\n",
              "      border: none;\n",
              "      border-radius: 50%;\n",
              "      cursor: pointer;\n",
              "      display: none;\n",
              "      fill: #1967D2;\n",
              "      height: 32px;\n",
              "      padding: 0 0 0 0;\n",
              "      width: 32px;\n",
              "    }\n",
              "\n",
              "    .colab-df-convert:hover {\n",
              "      background-color: #E2EBFA;\n",
              "      box-shadow: 0px 1px 2px rgba(60, 64, 67, 0.3), 0px 1px 3px 1px rgba(60, 64, 67, 0.15);\n",
              "      fill: #174EA6;\n",
              "    }\n",
              "\n",
              "    [theme=dark] .colab-df-convert {\n",
              "      background-color: #3B4455;\n",
              "      fill: #D2E3FC;\n",
              "    }\n",
              "\n",
              "    [theme=dark] .colab-df-convert:hover {\n",
              "      background-color: #434B5C;\n",
              "      box-shadow: 0px 1px 3px 1px rgba(0, 0, 0, 0.15);\n",
              "      filter: drop-shadow(0px 1px 2px rgba(0, 0, 0, 0.3));\n",
              "      fill: #FFFFFF;\n",
              "    }\n",
              "  </style>\n",
              "\n",
              "      <script>\n",
              "        const buttonEl =\n",
              "          document.querySelector('#df-1e90529c-5999-4af0-9474-19595271fcba button.colab-df-convert');\n",
              "        buttonEl.style.display =\n",
              "          google.colab.kernel.accessAllowed ? 'block' : 'none';\n",
              "\n",
              "        async function convertToInteractive(key) {\n",
              "          const element = document.querySelector('#df-1e90529c-5999-4af0-9474-19595271fcba');\n",
              "          const dataTable =\n",
              "            await google.colab.kernel.invokeFunction('convertToInteractive',\n",
              "                                                     [key], {});\n",
              "          if (!dataTable) return;\n",
              "\n",
              "          const docLinkHtml = 'Like what you see? Visit the ' +\n",
              "            '<a target=\"_blank\" href=https://colab.research.google.com/notebooks/data_table.ipynb>data table notebook</a>'\n",
              "            + ' to learn more about interactive tables.';\n",
              "          element.innerHTML = '';\n",
              "          dataTable['output_type'] = 'display_data';\n",
              "          await google.colab.output.renderOutput(dataTable, element);\n",
              "          const docLink = document.createElement('div');\n",
              "          docLink.innerHTML = docLinkHtml;\n",
              "          element.appendChild(docLink);\n",
              "        }\n",
              "      </script>\n",
              "    </div>\n",
              "  </div>\n",
              "  "
            ]
          },
          "metadata": {},
          "execution_count": 3
        }
      ]
    },
    {
      "cell_type": "code",
      "source": [
        "uv['height'].value_counts()"
      ],
      "metadata": {
        "colab": {
          "base_uri": "https://localhost:8080/"
        },
        "id": "gR9W_dfXlV7n",
        "outputId": "a0f2355c-36f1-46ee-ad1d-31bb9485ab42"
      },
      "execution_count": null,
      "outputs": [
        {
          "output_type": "execute_result",
          "data": {
            "text/plain": [
              "68.94     8721\n",
              "38.00     8721\n",
              "71.00     8721\n",
              "26.04     8721\n",
              "85.50     8721\n",
              "68.99     8721\n",
              "222.80    8721\n",
              "58.70     8721\n",
              "47.00     8721\n",
              "2.28      8721\n",
              "53.50     8721\n",
              "62.90     8721\n",
              "82.00     8721\n",
              "72.38     8721\n",
              "69.56     8721\n",
              "Name: height, dtype: int64"
            ]
          },
          "metadata": {},
          "execution_count": 4
        }
      ]
    },
    {
      "cell_type": "code",
      "source": [
        "uv['lon'].value_counts()"
      ],
      "metadata": {
        "colab": {
          "base_uri": "https://localhost:8080/"
        },
        "id": "NifWLNCrl8zE",
        "outputId": "23666118-e467-4e20-961b-c58ebdb3f095"
      },
      "execution_count": null,
      "outputs": [
        {
          "output_type": "execute_result",
          "data": {
            "text/plain": [
              "127.37212    8721\n",
              "126.38121    8721\n",
              "126.16000    8721\n",
              "128.89098    8721\n",
              "126.96500    8721\n",
              "126.62490    8721\n",
              "130.89864    8721\n",
              "127.44066    8721\n",
              "126.33000    8721\n",
              "129.37962    8721\n",
              "128.65295    8721\n",
              "127.11900    8721\n",
              "129.33472    8721\n",
              "126.89158    8721\n",
              "129.03203    8721\n",
              "Name: lon, dtype: int64"
            ]
          },
          "metadata": {},
          "execution_count": 5
        }
      ]
    },
    {
      "cell_type": "code",
      "source": [
        "uv['lat'].value_counts()"
      ],
      "metadata": {
        "colab": {
          "base_uri": "https://localhost:8080/"
        },
        "id": "894bXO2emY4z",
        "outputId": "9e5e4184-c8fb-4a39-fb5d-e357bde900b6"
      },
      "execution_count": null,
      "outputs": [
        {
          "output_type": "execute_result",
          "data": {
            "text/plain": [
              "36.37200    8721\n",
              "34.81689    8721\n",
              "33.30000    8721\n",
              "37.75147    8721\n",
              "37.57100    8721\n",
              "37.47772    8721\n",
              "37.48129    8721\n",
              "36.63924    8721\n",
              "36.54000    8721\n",
              "36.03259    8721\n",
              "35.87797    8721\n",
              "35.84080    8721\n",
              "35.58250    8721\n",
              "35.17294    8721\n",
              "35.10468    8721\n",
              "Name: lat, dtype: int64"
            ]
          },
          "metadata": {},
          "execution_count": 6
        }
      ]
    },
    {
      "cell_type": "code",
      "source": [
        "uv['stn'].value_counts()"
      ],
      "metadata": {
        "colab": {
          "base_uri": "https://localhost:8080/"
        },
        "id": "a6HOTYapl83c",
        "outputId": "184b5d08-3773-41ff-edb0-094df68c30c1"
      },
      "execution_count": null,
      "outputs": [
        {
          "output_type": "execute_result",
          "data": {
            "text/plain": [
              "133    8721\n",
              "165    8721\n",
              "13     8721\n",
              "105    8721\n",
              "108    8721\n",
              "112    8721\n",
              "115    8721\n",
              "131    8721\n",
              "132    8721\n",
              "138    8721\n",
              "143    8721\n",
              "146    8721\n",
              "152    8721\n",
              "156    8721\n",
              "159    8721\n",
              "Name: stn, dtype: int64"
            ]
          },
          "metadata": {},
          "execution_count": 7
        }
      ]
    },
    {
      "cell_type": "code",
      "source": [
        "uv['hhnn'].value_counts()"
      ],
      "metadata": {
        "colab": {
          "base_uri": "https://localhost:8080/"
        },
        "id": "L2WaeBl0-aj0",
        "outputId": "d9219fc2-1d5d-489a-8e8f-eb36be1d2ea0"
      },
      "execution_count": null,
      "outputs": [
        {
          "output_type": "execute_result",
          "data": {
            "text/plain": [
              "1200    915\n",
              "2350    915\n",
              "2300    915\n",
              "2310    915\n",
              "2230    915\n",
              "       ... \n",
              "50      915\n",
              "0       915\n",
              "10      915\n",
              "1550    915\n",
              "620     885\n",
              "Name: hhnn, Length: 143, dtype: int64"
            ]
          },
          "metadata": {},
          "execution_count": 8
        }
      ]
    },
    {
      "cell_type": "code",
      "source": [],
      "metadata": {
        "id": "3WLm4wjyAYdX"
      },
      "execution_count": null,
      "outputs": []
    },
    {
      "cell_type": "code",
      "source": [
        "#정규화\n",
        "mean = uv.mean(axis=0)\n",
        "uv -= mean\n",
        "std = uv.std(axis=0)\n",
        "uv /= std"
      ],
      "metadata": {
        "id": "-4GLg3Wx32VV"
      },
      "execution_count": null,
      "outputs": []
    },
    {
      "cell_type": "code",
      "source": [
        "uv.head()"
      ],
      "metadata": {
        "colab": {
          "base_uri": "https://localhost:8080/",
          "height": 300
        },
        "id": "b2WkVSvE4U9Y",
        "outputId": "444ddaba-7be5-49d8-ce6e-b9d192e0d3f9"
      },
      "execution_count": null,
      "outputs": [
        {
          "output_type": "execute_result",
          "data": {
            "text/plain": [
              "   yyyymmdd      hhnn       stn       lon       lat        uv     band1  \\\n",
              "0  -1.26564  0.024407  0.163144 -0.333807  0.226543  0.154470  0.188090   \n",
              "1  -1.26564 -0.629585  1.063249 -1.053752 -1.088364  0.046839  0.194456   \n",
              "2  -1.26564 -0.556919 -3.212249 -1.214473 -2.370955  0.046839  0.114685   \n",
              "3  -1.26564 -0.556919 -0.624448  0.769721  1.392940  0.059318 -0.201300   \n",
              "4  -1.26564 -0.556919 -0.540063 -0.629600  1.240346  0.048399  0.596578   \n",
              "\n",
              "      band2     band3     band4  ...    band12    band13    band14    band15  \\\n",
              "0  0.145271  0.083190  0.517266  ...  1.216700  1.361442  1.328524  1.251515   \n",
              "1  0.190087  0.169290  0.169805  ...  0.429592  0.617305  0.657218  0.723311   \n",
              "2  0.090919  0.033498 -0.071898  ... -0.287973 -0.175302 -0.216224 -0.220578   \n",
              "3 -0.241754 -0.292835 -0.172355  ...  0.742648  0.884977  0.907429  0.932689   \n",
              "4  0.599492  0.609959  0.607930  ...  0.280843  0.424698  0.474314  0.550373   \n",
              "\n",
              "     band16   solarza    sateza       esr    height  landtype  \n",
              "0  1.056161 -1.439207  0.217431  1.351759  0.006486  0.478343  \n",
              "1  0.757636 -0.225013 -1.072528  0.028463 -0.660935  0.478343  \n",
              "2 -0.310188 -0.276282 -2.352600  0.404626  0.050923 -1.913371  \n",
              "3  0.833802 -0.337607  1.374244  0.470729 -0.918929  0.478343  \n",
              "4  0.606855 -0.294988  1.243839  0.425442  0.363709  0.478343  \n",
              "\n",
              "[5 rows x 27 columns]"
            ],
            "text/html": [
              "\n",
              "  <div id=\"df-67c0d87b-c8bc-4a40-a93e-b30afe283e6f\">\n",
              "    <div class=\"colab-df-container\">\n",
              "      <div>\n",
              "<style scoped>\n",
              "    .dataframe tbody tr th:only-of-type {\n",
              "        vertical-align: middle;\n",
              "    }\n",
              "\n",
              "    .dataframe tbody tr th {\n",
              "        vertical-align: top;\n",
              "    }\n",
              "\n",
              "    .dataframe thead th {\n",
              "        text-align: right;\n",
              "    }\n",
              "</style>\n",
              "<table border=\"1\" class=\"dataframe\">\n",
              "  <thead>\n",
              "    <tr style=\"text-align: right;\">\n",
              "      <th></th>\n",
              "      <th>yyyymmdd</th>\n",
              "      <th>hhnn</th>\n",
              "      <th>stn</th>\n",
              "      <th>lon</th>\n",
              "      <th>lat</th>\n",
              "      <th>uv</th>\n",
              "      <th>band1</th>\n",
              "      <th>band2</th>\n",
              "      <th>band3</th>\n",
              "      <th>band4</th>\n",
              "      <th>...</th>\n",
              "      <th>band12</th>\n",
              "      <th>band13</th>\n",
              "      <th>band14</th>\n",
              "      <th>band15</th>\n",
              "      <th>band16</th>\n",
              "      <th>solarza</th>\n",
              "      <th>sateza</th>\n",
              "      <th>esr</th>\n",
              "      <th>height</th>\n",
              "      <th>landtype</th>\n",
              "    </tr>\n",
              "  </thead>\n",
              "  <tbody>\n",
              "    <tr>\n",
              "      <th>0</th>\n",
              "      <td>-1.26564</td>\n",
              "      <td>0.024407</td>\n",
              "      <td>0.163144</td>\n",
              "      <td>-0.333807</td>\n",
              "      <td>0.226543</td>\n",
              "      <td>0.154470</td>\n",
              "      <td>0.188090</td>\n",
              "      <td>0.145271</td>\n",
              "      <td>0.083190</td>\n",
              "      <td>0.517266</td>\n",
              "      <td>...</td>\n",
              "      <td>1.216700</td>\n",
              "      <td>1.361442</td>\n",
              "      <td>1.328524</td>\n",
              "      <td>1.251515</td>\n",
              "      <td>1.056161</td>\n",
              "      <td>-1.439207</td>\n",
              "      <td>0.217431</td>\n",
              "      <td>1.351759</td>\n",
              "      <td>0.006486</td>\n",
              "      <td>0.478343</td>\n",
              "    </tr>\n",
              "    <tr>\n",
              "      <th>1</th>\n",
              "      <td>-1.26564</td>\n",
              "      <td>-0.629585</td>\n",
              "      <td>1.063249</td>\n",
              "      <td>-1.053752</td>\n",
              "      <td>-1.088364</td>\n",
              "      <td>0.046839</td>\n",
              "      <td>0.194456</td>\n",
              "      <td>0.190087</td>\n",
              "      <td>0.169290</td>\n",
              "      <td>0.169805</td>\n",
              "      <td>...</td>\n",
              "      <td>0.429592</td>\n",
              "      <td>0.617305</td>\n",
              "      <td>0.657218</td>\n",
              "      <td>0.723311</td>\n",
              "      <td>0.757636</td>\n",
              "      <td>-0.225013</td>\n",
              "      <td>-1.072528</td>\n",
              "      <td>0.028463</td>\n",
              "      <td>-0.660935</td>\n",
              "      <td>0.478343</td>\n",
              "    </tr>\n",
              "    <tr>\n",
              "      <th>2</th>\n",
              "      <td>-1.26564</td>\n",
              "      <td>-0.556919</td>\n",
              "      <td>-3.212249</td>\n",
              "      <td>-1.214473</td>\n",
              "      <td>-2.370955</td>\n",
              "      <td>0.046839</td>\n",
              "      <td>0.114685</td>\n",
              "      <td>0.090919</td>\n",
              "      <td>0.033498</td>\n",
              "      <td>-0.071898</td>\n",
              "      <td>...</td>\n",
              "      <td>-0.287973</td>\n",
              "      <td>-0.175302</td>\n",
              "      <td>-0.216224</td>\n",
              "      <td>-0.220578</td>\n",
              "      <td>-0.310188</td>\n",
              "      <td>-0.276282</td>\n",
              "      <td>-2.352600</td>\n",
              "      <td>0.404626</td>\n",
              "      <td>0.050923</td>\n",
              "      <td>-1.913371</td>\n",
              "    </tr>\n",
              "    <tr>\n",
              "      <th>3</th>\n",
              "      <td>-1.26564</td>\n",
              "      <td>-0.556919</td>\n",
              "      <td>-0.624448</td>\n",
              "      <td>0.769721</td>\n",
              "      <td>1.392940</td>\n",
              "      <td>0.059318</td>\n",
              "      <td>-0.201300</td>\n",
              "      <td>-0.241754</td>\n",
              "      <td>-0.292835</td>\n",
              "      <td>-0.172355</td>\n",
              "      <td>...</td>\n",
              "      <td>0.742648</td>\n",
              "      <td>0.884977</td>\n",
              "      <td>0.907429</td>\n",
              "      <td>0.932689</td>\n",
              "      <td>0.833802</td>\n",
              "      <td>-0.337607</td>\n",
              "      <td>1.374244</td>\n",
              "      <td>0.470729</td>\n",
              "      <td>-0.918929</td>\n",
              "      <td>0.478343</td>\n",
              "    </tr>\n",
              "    <tr>\n",
              "      <th>4</th>\n",
              "      <td>-1.26564</td>\n",
              "      <td>-0.556919</td>\n",
              "      <td>-0.540063</td>\n",
              "      <td>-0.629600</td>\n",
              "      <td>1.240346</td>\n",
              "      <td>0.048399</td>\n",
              "      <td>0.596578</td>\n",
              "      <td>0.599492</td>\n",
              "      <td>0.609959</td>\n",
              "      <td>0.607930</td>\n",
              "      <td>...</td>\n",
              "      <td>0.280843</td>\n",
              "      <td>0.424698</td>\n",
              "      <td>0.474314</td>\n",
              "      <td>0.550373</td>\n",
              "      <td>0.606855</td>\n",
              "      <td>-0.294988</td>\n",
              "      <td>1.243839</td>\n",
              "      <td>0.425442</td>\n",
              "      <td>0.363709</td>\n",
              "      <td>0.478343</td>\n",
              "    </tr>\n",
              "  </tbody>\n",
              "</table>\n",
              "<p>5 rows × 27 columns</p>\n",
              "</div>\n",
              "      <button class=\"colab-df-convert\" onclick=\"convertToInteractive('df-67c0d87b-c8bc-4a40-a93e-b30afe283e6f')\"\n",
              "              title=\"Convert this dataframe to an interactive table.\"\n",
              "              style=\"display:none;\">\n",
              "        \n",
              "  <svg xmlns=\"http://www.w3.org/2000/svg\" height=\"24px\"viewBox=\"0 0 24 24\"\n",
              "       width=\"24px\">\n",
              "    <path d=\"M0 0h24v24H0V0z\" fill=\"none\"/>\n",
              "    <path d=\"M18.56 5.44l.94 2.06.94-2.06 2.06-.94-2.06-.94-.94-2.06-.94 2.06-2.06.94zm-11 1L8.5 8.5l.94-2.06 2.06-.94-2.06-.94L8.5 2.5l-.94 2.06-2.06.94zm10 10l.94 2.06.94-2.06 2.06-.94-2.06-.94-.94-2.06-.94 2.06-2.06.94z\"/><path d=\"M17.41 7.96l-1.37-1.37c-.4-.4-.92-.59-1.43-.59-.52 0-1.04.2-1.43.59L10.3 9.45l-7.72 7.72c-.78.78-.78 2.05 0 2.83L4 21.41c.39.39.9.59 1.41.59.51 0 1.02-.2 1.41-.59l7.78-7.78 2.81-2.81c.8-.78.8-2.07 0-2.86zM5.41 20L4 18.59l7.72-7.72 1.47 1.35L5.41 20z\"/>\n",
              "  </svg>\n",
              "      </button>\n",
              "      \n",
              "  <style>\n",
              "    .colab-df-container {\n",
              "      display:flex;\n",
              "      flex-wrap:wrap;\n",
              "      gap: 12px;\n",
              "    }\n",
              "\n",
              "    .colab-df-convert {\n",
              "      background-color: #E8F0FE;\n",
              "      border: none;\n",
              "      border-radius: 50%;\n",
              "      cursor: pointer;\n",
              "      display: none;\n",
              "      fill: #1967D2;\n",
              "      height: 32px;\n",
              "      padding: 0 0 0 0;\n",
              "      width: 32px;\n",
              "    }\n",
              "\n",
              "    .colab-df-convert:hover {\n",
              "      background-color: #E2EBFA;\n",
              "      box-shadow: 0px 1px 2px rgba(60, 64, 67, 0.3), 0px 1px 3px 1px rgba(60, 64, 67, 0.15);\n",
              "      fill: #174EA6;\n",
              "    }\n",
              "\n",
              "    [theme=dark] .colab-df-convert {\n",
              "      background-color: #3B4455;\n",
              "      fill: #D2E3FC;\n",
              "    }\n",
              "\n",
              "    [theme=dark] .colab-df-convert:hover {\n",
              "      background-color: #434B5C;\n",
              "      box-shadow: 0px 1px 3px 1px rgba(0, 0, 0, 0.15);\n",
              "      filter: drop-shadow(0px 1px 2px rgba(0, 0, 0, 0.3));\n",
              "      fill: #FFFFFF;\n",
              "    }\n",
              "  </style>\n",
              "\n",
              "      <script>\n",
              "        const buttonEl =\n",
              "          document.querySelector('#df-67c0d87b-c8bc-4a40-a93e-b30afe283e6f button.colab-df-convert');\n",
              "        buttonEl.style.display =\n",
              "          google.colab.kernel.accessAllowed ? 'block' : 'none';\n",
              "\n",
              "        async function convertToInteractive(key) {\n",
              "          const element = document.querySelector('#df-67c0d87b-c8bc-4a40-a93e-b30afe283e6f');\n",
              "          const dataTable =\n",
              "            await google.colab.kernel.invokeFunction('convertToInteractive',\n",
              "                                                     [key], {});\n",
              "          if (!dataTable) return;\n",
              "\n",
              "          const docLinkHtml = 'Like what you see? Visit the ' +\n",
              "            '<a target=\"_blank\" href=https://colab.research.google.com/notebooks/data_table.ipynb>data table notebook</a>'\n",
              "            + ' to learn more about interactive tables.';\n",
              "          element.innerHTML = '';\n",
              "          dataTable['output_type'] = 'display_data';\n",
              "          await google.colab.output.renderOutput(dataTable, element);\n",
              "          const docLink = document.createElement('div');\n",
              "          docLink.innerHTML = docLinkHtml;\n",
              "          element.appendChild(docLink);\n",
              "        }\n",
              "      </script>\n",
              "    </div>\n",
              "  </div>\n",
              "  "
            ]
          },
          "metadata": {},
          "execution_count": 10
        }
      ]
    },
    {
      "cell_type": "code",
      "source": [],
      "metadata": {
        "id": "3E97hxLy4U_v"
      },
      "execution_count": null,
      "outputs": []
    },
    {
      "cell_type": "code",
      "source": [
        "#feature, target 분류\n",
        "feature = uv[['band1', 'band2', 'band3', 'band4', 'band5', 'band6', 'band7', 'band8', 'band9', 'band10',\n",
        "                  'band11', 'band12', 'band13', 'band14', 'band15', 'band16', 'solarza', 'esr']]\n",
        "target = uv[['uv']]"
      ],
      "metadata": {
        "id": "_gPBzIdQgEFu"
      },
      "execution_count": null,
      "outputs": []
    },
    {
      "cell_type": "code",
      "source": [],
      "metadata": {
        "id": "s4Iv3C0x32X3"
      },
      "execution_count": null,
      "outputs": []
    },
    {
      "cell_type": "code",
      "source": [
        "# 모델 만들기\n",
        "X = tf.keras.layers.Input(shape=[18]) #피쳐의 개수 넣어줌\n",
        "H = tf.keras.layers.Dense(64, activation='swish')(X) # 10\n",
        "y = tf.keras.layers.Dense(1)(H)\n",
        "model = tf.keras.models.Model(X,y)\n",
        "model.compile(optimizer='rmsprop',loss='mae', metrics=[\"acc\"])"
      ],
      "metadata": {
        "id": "yH3ziAm_BRre"
      },
      "execution_count": null,
      "outputs": []
    },
    {
      "cell_type": "code",
      "source": [
        "history = model.fit(feature,target,batch_size=15,epochs=10)"
      ],
      "metadata": {
        "colab": {
          "base_uri": "https://localhost:8080/"
        },
        "id": "EfnX84b1BRuD",
        "outputId": "bffd7ac5-60b3-4d6f-9039-5ce77277f7e5"
      },
      "execution_count": null,
      "outputs": [
        {
          "output_type": "stream",
          "name": "stdout",
          "text": [
            "Epoch 1/10\n",
            "8721/8721 [==============================] - 19s 2ms/step - loss: 0.0801 - acc: 0.0000e+00\n",
            "Epoch 2/10\n",
            "8721/8721 [==============================] - 19s 2ms/step - loss: 0.0709 - acc: 0.0000e+00\n",
            "Epoch 3/10\n",
            "8721/8721 [==============================] - 18s 2ms/step - loss: 0.0696 - acc: 0.0000e+00\n",
            "Epoch 4/10\n",
            "8721/8721 [==============================] - 18s 2ms/step - loss: 0.0693 - acc: 0.0000e+00\n",
            "Epoch 5/10\n",
            "8721/8721 [==============================] - 18s 2ms/step - loss: 0.0692 - acc: 0.0000e+00\n",
            "Epoch 6/10\n",
            "8721/8721 [==============================] - 18s 2ms/step - loss: 0.0691 - acc: 0.0000e+00\n",
            "Epoch 7/10\n",
            "8721/8721 [==============================] - 18s 2ms/step - loss: 0.0690 - acc: 0.0000e+00\n",
            "Epoch 8/10\n",
            "8721/8721 [==============================] - 19s 2ms/step - loss: 0.0690 - acc: 0.0000e+00\n",
            "Epoch 9/10\n",
            "8721/8721 [==============================] - 19s 2ms/step - loss: 0.0689 - acc: 0.0000e+00\n",
            "Epoch 10/10\n",
            "8721/8721 [==============================] - 19s 2ms/step - loss: 0.0689 - acc: 0.0000e+00\n"
          ]
        }
      ]
    },
    {
      "cell_type": "code",
      "source": [
        "model.predict(feature[:5])"
      ],
      "metadata": {
        "colab": {
          "base_uri": "https://localhost:8080/"
        },
        "id": "PATA5fosBRwZ",
        "outputId": "355d9672-6772-4bdb-9a86-dd2d40a3a4b5"
      },
      "execution_count": null,
      "outputs": [
        {
          "output_type": "execute_result",
          "data": {
            "text/plain": [
              "array([[0.15381537],\n",
              "       [0.046101  ],\n",
              "       [0.0500645 ],\n",
              "       [0.06039992],\n",
              "       [0.04441442]], dtype=float32)"
            ]
          },
          "metadata": {},
          "execution_count": 26
        }
      ]
    },
    {
      "cell_type": "code",
      "source": [
        "target[:5]"
      ],
      "metadata": {
        "colab": {
          "base_uri": "https://localhost:8080/",
          "height": 206
        },
        "id": "GZ5J26vHBRzA",
        "outputId": "a0ce48ec-ca34-46c4-b0eb-a687785d7e3b"
      },
      "execution_count": null,
      "outputs": [
        {
          "output_type": "execute_result",
          "data": {
            "text/plain": [
              "         uv\n",
              "0  0.154470\n",
              "1  0.046839\n",
              "2  0.046839\n",
              "3  0.059318\n",
              "4  0.048399"
            ],
            "text/html": [
              "\n",
              "  <div id=\"df-67ee6459-539e-4100-989e-581eaccd0afa\">\n",
              "    <div class=\"colab-df-container\">\n",
              "      <div>\n",
              "<style scoped>\n",
              "    .dataframe tbody tr th:only-of-type {\n",
              "        vertical-align: middle;\n",
              "    }\n",
              "\n",
              "    .dataframe tbody tr th {\n",
              "        vertical-align: top;\n",
              "    }\n",
              "\n",
              "    .dataframe thead th {\n",
              "        text-align: right;\n",
              "    }\n",
              "</style>\n",
              "<table border=\"1\" class=\"dataframe\">\n",
              "  <thead>\n",
              "    <tr style=\"text-align: right;\">\n",
              "      <th></th>\n",
              "      <th>uv</th>\n",
              "    </tr>\n",
              "  </thead>\n",
              "  <tbody>\n",
              "    <tr>\n",
              "      <th>0</th>\n",
              "      <td>0.154470</td>\n",
              "    </tr>\n",
              "    <tr>\n",
              "      <th>1</th>\n",
              "      <td>0.046839</td>\n",
              "    </tr>\n",
              "    <tr>\n",
              "      <th>2</th>\n",
              "      <td>0.046839</td>\n",
              "    </tr>\n",
              "    <tr>\n",
              "      <th>3</th>\n",
              "      <td>0.059318</td>\n",
              "    </tr>\n",
              "    <tr>\n",
              "      <th>4</th>\n",
              "      <td>0.048399</td>\n",
              "    </tr>\n",
              "  </tbody>\n",
              "</table>\n",
              "</div>\n",
              "      <button class=\"colab-df-convert\" onclick=\"convertToInteractive('df-67ee6459-539e-4100-989e-581eaccd0afa')\"\n",
              "              title=\"Convert this dataframe to an interactive table.\"\n",
              "              style=\"display:none;\">\n",
              "        \n",
              "  <svg xmlns=\"http://www.w3.org/2000/svg\" height=\"24px\"viewBox=\"0 0 24 24\"\n",
              "       width=\"24px\">\n",
              "    <path d=\"M0 0h24v24H0V0z\" fill=\"none\"/>\n",
              "    <path d=\"M18.56 5.44l.94 2.06.94-2.06 2.06-.94-2.06-.94-.94-2.06-.94 2.06-2.06.94zm-11 1L8.5 8.5l.94-2.06 2.06-.94-2.06-.94L8.5 2.5l-.94 2.06-2.06.94zm10 10l.94 2.06.94-2.06 2.06-.94-2.06-.94-.94-2.06-.94 2.06-2.06.94z\"/><path d=\"M17.41 7.96l-1.37-1.37c-.4-.4-.92-.59-1.43-.59-.52 0-1.04.2-1.43.59L10.3 9.45l-7.72 7.72c-.78.78-.78 2.05 0 2.83L4 21.41c.39.39.9.59 1.41.59.51 0 1.02-.2 1.41-.59l7.78-7.78 2.81-2.81c.8-.78.8-2.07 0-2.86zM5.41 20L4 18.59l7.72-7.72 1.47 1.35L5.41 20z\"/>\n",
              "  </svg>\n",
              "      </button>\n",
              "      \n",
              "  <style>\n",
              "    .colab-df-container {\n",
              "      display:flex;\n",
              "      flex-wrap:wrap;\n",
              "      gap: 12px;\n",
              "    }\n",
              "\n",
              "    .colab-df-convert {\n",
              "      background-color: #E8F0FE;\n",
              "      border: none;\n",
              "      border-radius: 50%;\n",
              "      cursor: pointer;\n",
              "      display: none;\n",
              "      fill: #1967D2;\n",
              "      height: 32px;\n",
              "      padding: 0 0 0 0;\n",
              "      width: 32px;\n",
              "    }\n",
              "\n",
              "    .colab-df-convert:hover {\n",
              "      background-color: #E2EBFA;\n",
              "      box-shadow: 0px 1px 2px rgba(60, 64, 67, 0.3), 0px 1px 3px 1px rgba(60, 64, 67, 0.15);\n",
              "      fill: #174EA6;\n",
              "    }\n",
              "\n",
              "    [theme=dark] .colab-df-convert {\n",
              "      background-color: #3B4455;\n",
              "      fill: #D2E3FC;\n",
              "    }\n",
              "\n",
              "    [theme=dark] .colab-df-convert:hover {\n",
              "      background-color: #434B5C;\n",
              "      box-shadow: 0px 1px 3px 1px rgba(0, 0, 0, 0.15);\n",
              "      filter: drop-shadow(0px 1px 2px rgba(0, 0, 0, 0.3));\n",
              "      fill: #FFFFFF;\n",
              "    }\n",
              "  </style>\n",
              "\n",
              "      <script>\n",
              "        const buttonEl =\n",
              "          document.querySelector('#df-67ee6459-539e-4100-989e-581eaccd0afa button.colab-df-convert');\n",
              "        buttonEl.style.display =\n",
              "          google.colab.kernel.accessAllowed ? 'block' : 'none';\n",
              "\n",
              "        async function convertToInteractive(key) {\n",
              "          const element = document.querySelector('#df-67ee6459-539e-4100-989e-581eaccd0afa');\n",
              "          const dataTable =\n",
              "            await google.colab.kernel.invokeFunction('convertToInteractive',\n",
              "                                                     [key], {});\n",
              "          if (!dataTable) return;\n",
              "\n",
              "          const docLinkHtml = 'Like what you see? Visit the ' +\n",
              "            '<a target=\"_blank\" href=https://colab.research.google.com/notebooks/data_table.ipynb>data table notebook</a>'\n",
              "            + ' to learn more about interactive tables.';\n",
              "          element.innerHTML = '';\n",
              "          dataTable['output_type'] = 'display_data';\n",
              "          await google.colab.output.renderOutput(dataTable, element);\n",
              "          const docLink = document.createElement('div');\n",
              "          docLink.innerHTML = docLinkHtml;\n",
              "          element.appendChild(docLink);\n",
              "        }\n",
              "      </script>\n",
              "    </div>\n",
              "  </div>\n",
              "  "
            ]
          },
          "metadata": {},
          "execution_count": 27
        }
      ]
    },
    {
      "cell_type": "code",
      "source": [
        "print(history.history['loss'])\n",
        "print(history.history['acc'])\n",
        "#print(history.history['val_loss'])\n",
        "#print(history.history['val_acc'])"
      ],
      "metadata": {
        "colab": {
          "base_uri": "https://localhost:8080/"
        },
        "id": "luMcRbvhBR1r",
        "outputId": "d530e2b5-e397-4e66-f793-4c8c06cc6d21"
      },
      "execution_count": null,
      "outputs": [
        {
          "output_type": "stream",
          "name": "stdout",
          "text": [
            "[0.08007987588644028, 0.07086888700723648, 0.06963322311639786, 0.06934072822332382, 0.06917380541563034, 0.06907851994037628, 0.06901536881923676, 0.06895967572927475, 0.06892821937799454, 0.06890705972909927]\n",
            "[0.0, 0.0, 0.0, 0.0, 0.0, 0.0, 0.0, 0.0, 0.0, 0.0]\n"
          ]
        }
      ]
    },
    {
      "cell_type": "code",
      "source": [
        "%matplotlib inline\n",
        "import matplotlib.pyplot as plt\n",
        "\n",
        "fig, loss_ax = plt.subplots()\n",
        "\n",
        "acc_ax = loss_ax.twinx()\n",
        "\n",
        "loss_ax.plot(history.history['loss'],'y',label='train loss')\n",
        "# loss_ax.plot(hist.history['val_loss'],'r',label='val loss')\n",
        "acc_ax.plot(history.history['acc'],'b',label='train acc')\n",
        "# acc_ax.plot(hist.history['val_acc'],'g',label='val acc')\n",
        "\n",
        "loss_ax.set_xlabel('epoch')\n",
        "loss_ax.set_ylabel('loss')\n",
        "acc_ax.set_ylabel('accuracy')\n",
        "\n",
        "loss_ax.legend(loc='upper left')\n",
        "acc_ax.legend(loc='lower left')\n",
        "plt.show()"
      ],
      "metadata": {
        "colab": {
          "base_uri": "https://localhost:8080/",
          "height": 279
        },
        "id": "N5CSQfrnBR39",
        "outputId": "46b796d0-0a64-472f-e3a5-492cf683d58b"
      },
      "execution_count": null,
      "outputs": [
        {
          "output_type": "display_data",
          "data": {
            "text/plain": [
              "<Figure size 432x288 with 2 Axes>"
            ],
            "image/png": "[encoded data removed]"
          },
          "metadata": {
            "needs_background": "light"
          }
        }
      ]
    },
    {
      "cell_type": "code",
      "source": [
        "uvFile = '/content/drive/MyDrive/weather/uv_20_0506.csv'\n",
        "uv = pd.read_csv(uvFile)\n",
        "uv.drop(['Unnamed: 0'], axis = 1, inplace = True)\n",
        "print(uv.columns)\n",
        "uv.head()"
      ],
      "metadata": {
        "id": "weK7iSscBR6j"
      },
      "execution_count": null,
      "outputs": []
    },
    {
      "cell_type": "code",
      "source": [],
      "metadata": {
        "id": "P2OYuG0DBR9J"
      },
      "execution_count": null,
      "outputs": []
    },
    {
      "cell_type": "code",
      "source": [],
      "metadata": {
        "id": "DSHUUMnuBR_x"
      },
      "execution_count": null,
      "outputs": []
    },
    {
      "cell_type": "code",
      "source": [],
      "metadata": {
        "id": "cUsWIk69BSCG"
      },
      "execution_count": null,
      "outputs": []
    },
    {
      "cell_type": "code",
      "source": [],
      "metadata": {
        "id": "03a0TCcaBSEc"
      },
      "execution_count": null,
      "outputs": []
    },
    {
      "cell_type": "code",
      "source": [],
      "metadata": {
        "id": "GBHGxnESBSGh"
      },
      "execution_count": null,
      "outputs": []
    },
    {
      "cell_type": "code",
      "source": [],
      "metadata": {
        "id": "hnVKvwR8BSI4"
      },
      "execution_count": null,
      "outputs": []
    }
  ]
}