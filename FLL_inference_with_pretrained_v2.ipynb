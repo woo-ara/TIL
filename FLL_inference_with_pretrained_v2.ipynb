{
  "nbformat": 4,
  "nbformat_minor": 0,
  "metadata": {
    "colab": {
      "provenance": []
    },
    "kernelspec": {
      "name": "python3",
      "display_name": "Python 3"
    },
    "gpuClass": "standard",
    "accelerator": "GPU"
  },
  "cells": [
    {
      "cell_type": "code",
      "source": [
        "from google.colab import drive\n",
        "drive.mount('/content/drive')"
      ],
      "metadata": {
        "colab": {
          "base_uri": "https://localhost:8080/"
        },
        "id": "vfNaEh9_iCEL",
        "outputId": "5a4bba2b-2ce5-461a-b4f2-4c1189832106"
      },
      "execution_count": null,
      "outputs": [
        {
          "output_type": "stream",
          "name": "stdout",
          "text": [
            "Mounted at /content/drive\n"
          ]
        }
      ]
    },
    {
      "cell_type": "code",
      "source": [
        "##### dropbox download #####\n",
        "\n",
        "#aug_dataset.zip dropbox - [styleGAN]\n",
        "# ! wget https://www.dropbox.com/s/ra2gpdl5iqqg7ji/aug_dataset.zip?dl=0 -O aug_dataset.zip\n",
        "\n",
        "#aug_dataset.zip dropbox - [DCGAN]\n",
        "! wget https://www.dropbox.com/s/x99fwovdh1gz5vs/aug_dataset.zip?dl=0 -O aug_dataset.zip\n",
        "\n",
        "#augmentations.py dropbox\n",
        "! wget https://www.dropbox.com/s/n2ksbi3i22l9om5/augmentations.py?dl=0 -O augmentations.py\n",
        "\n",
        "\n",
        "\n",
        "# run_cl3_ratio_v4_0.py dropbox\n",
        "#! wget https://www.dropbox.com/s/6337e2k2yefltzw/run_cl3_ratio_v4_0.py?dl=0 -O run_cl3_ratio_v4_0.py\n",
        "\n",
        "# run_cl3_ratio_v4_25.py dropbox\n",
        "# ! wget https://www.dropbox.com/s/rva3wtnv1be2ywk/run_cl3_ratio_v4_25.py?dl=0 -O run_cl3_ratio_v4_25.py\n",
        "\n",
        "# run_cl3_ratio_v4_50.py dropbox\n",
        "# ! wget https://www.dropbox.com/s/nveneqnrgplx1a4/run_cl3_ratio_v4_50.py?dl=0 -O run_cl3_ratio_v4_50.py\n",
        "\n",
        "# run_cl3_ratio_v4_75.py dropbox\n",
        "! wget https://www.dropbox.com/s/ya7ogxwes7sedyt/run_cl3_ratio_v4_75.py?dl=0 -O run_cl3_ratio_v4_75.py\n",
        "\n",
        "# run_cl3_ratio_v4_100.py dropbox\n",
        "#! wget https://www.dropbox.com/s/njenum3ea1yz48q/run_cl3_ratio_v4_100.py?dl=0 -O run_cl3_ratio_v4_100.py"
      ],
      "metadata": {
        "colab": {
          "base_uri": "https://localhost:8080/"
        },
        "id": "uWqSeanel_om",
        "outputId": "6624a99a-3416-4f9a-c791-54d328862b99"
      },
      "execution_count": null,
      "outputs": [
        {
          "output_type": "stream",
          "name": "stdout",
          "text": [
            "--2022-09-19 16:56:09--  https://www.dropbox.com/s/ra2gpdl5iqqg7ji/aug_dataset.zip?dl=0\n",
            "Resolving www.dropbox.com (www.dropbox.com)... 162.125.1.18, 2620:100:6016:18::a27d:112\n",
            "Connecting to www.dropbox.com (www.dropbox.com)|162.125.1.18|:443... connected.\n",
            "HTTP request sent, awaiting response... 302 Found\n",
            "Location: /s/raw/ra2gpdl5iqqg7ji/aug_dataset.zip [following]\n",
            "--2022-09-19 16:56:09--  https://www.dropbox.com/s/raw/ra2gpdl5iqqg7ji/aug_dataset.zip\n",
            "Reusing existing connection to www.dropbox.com:443.\n",
            "HTTP request sent, awaiting response... 302 Found\n",
            "Location: https://uc7fbc7a27dd45cf93a13bf09602.dl.dropboxusercontent.com/cd/0/inline/BtRaGhZXJtSyC_uodTRm2mlaXRYdYPyuzBi_kvEH6QNdOPJY-Fu5vybD_XWQ1JaTgb_rZCUC9pUibr5_VIfGjTHd76zbE6EHSZ4ibMk8ajIrU0348vquqT_JY7h2Dd505lYw2haV4WUx-KLlrXwC8o_o4eEH5_r55DMwnzozWRZJlw/file# [following]\n",
            "--2022-09-19 16:56:10--  https://uc7fbc7a27dd45cf93a13bf09602.dl.dropboxusercontent.com/cd/0/inline/BtRaGhZXJtSyC_uodTRm2mlaXRYdYPyuzBi_kvEH6QNdOPJY-Fu5vybD_XWQ1JaTgb_rZCUC9pUibr5_VIfGjTHd76zbE6EHSZ4ibMk8ajIrU0348vquqT_JY7h2Dd505lYw2haV4WUx-KLlrXwC8o_o4eEH5_r55DMwnzozWRZJlw/file\n",
            "Resolving uc7fbc7a27dd45cf93a13bf09602.dl.dropboxusercontent.com (uc7fbc7a27dd45cf93a13bf09602.dl.dropboxusercontent.com)... 162.125.1.15, 2620:100:6016:15::a27d:10f\n",
            "Connecting to uc7fbc7a27dd45cf93a13bf09602.dl.dropboxusercontent.com (uc7fbc7a27dd45cf93a13bf09602.dl.dropboxusercontent.com)|162.125.1.15|:443... connected.\n",
            "HTTP request sent, awaiting response... 302 Found\n",
            "Location: /cd/0/inline2/BtTfTOY6L1xPn3Q_5q5KTym1aRj7uitLxq7q8B-3qLFeovy5jBdYhrT78K5s65b1mjo-GR_0BuY2fZM9oQub_SypXqvtjMNciSvYtgbsGmHN0WGeKSeOUYv3IS6pbXvxsxtAxTZmGXoJ-_A4xJCFcfHtUAgtRcvrHpptgAtvwqR_8q0xTMu4hmFtQyzdsLlBSZZYUPhUszB0xcR-2IV2gwsr3ryVFxtpChmeLFyQENcz50GPTGc7fA6JRodTdwCxQfu7G0uak9-qsD3WN343BVAElqACpS-MjnDpPFh44WQFTSx-tHO4TmOsFvi_UrEFqHyYATAg29S9_Rgr2TeAdifimJxdAew-IZ-oqPUaVDJpNM0FOhH7mwkcH8223m36F22i5v7ktC2_mn9xyMmON0_EuamvaGZaIeM4nPHNrDzwkA/file [following]\n",
            "--2022-09-19 16:56:10--  https://uc7fbc7a27dd45cf93a13bf09602.dl.dropboxusercontent.com/cd/0/inline2/BtTfTOY6L1xPn3Q_5q5KTym1aRj7uitLxq7q8B-3qLFeovy5jBdYhrT78K5s65b1mjo-GR_0BuY2fZM9oQub_SypXqvtjMNciSvYtgbsGmHN0WGeKSeOUYv3IS6pbXvxsxtAxTZmGXoJ-_A4xJCFcfHtUAgtRcvrHpptgAtvwqR_8q0xTMu4hmFtQyzdsLlBSZZYUPhUszB0xcR-2IV2gwsr3ryVFxtpChmeLFyQENcz50GPTGc7fA6JRodTdwCxQfu7G0uak9-qsD3WN343BVAElqACpS-MjnDpPFh44WQFTSx-tHO4TmOsFvi_UrEFqHyYATAg29S9_Rgr2TeAdifimJxdAew-IZ-oqPUaVDJpNM0FOhH7mwkcH8223m36F22i5v7ktC2_mn9xyMmON0_EuamvaGZaIeM4nPHNrDzwkA/file\n",
            "Reusing existing connection to uc7fbc7a27dd45cf93a13bf09602.dl.dropboxusercontent.com:443.\n",
            "HTTP request sent, awaiting response... 200 OK\n",
            "Length: 9926 (9.7K) [application/zip]\n",
            "Saving to: ‘aug_dataset.zip’\n",
            "\n",
            "aug_dataset.zip     100%[===================>]   9.69K  --.-KB/s    in 0s      \n",
            "\n",
            "2022-09-19 16:56:10 (161 MB/s) - ‘aug_dataset.zip’ saved [9926/9926]\n",
            "\n",
            "--2022-09-19 16:56:10--  https://www.dropbox.com/s/n2ksbi3i22l9om5/augmentations.py?dl=0\n",
            "Resolving www.dropbox.com (www.dropbox.com)... 162.125.1.18, 2620:100:6016:18::a27d:112\n",
            "Connecting to www.dropbox.com (www.dropbox.com)|162.125.1.18|:443... connected.\n",
            "HTTP request sent, awaiting response... 302 Found\n",
            "Location: /s/raw/n2ksbi3i22l9om5/augmentations.py [following]\n",
            "--2022-09-19 16:56:10--  https://www.dropbox.com/s/raw/n2ksbi3i22l9om5/augmentations.py\n",
            "Reusing existing connection to www.dropbox.com:443.\n",
            "HTTP request sent, awaiting response... 302 Found\n",
            "Location: https://uc9c3a44acfacd28941cf3b38de4.dl.dropboxusercontent.com/cd/0/inline/BtSSoyXiQVa_qkbTqt_pPrTcxCPfgeovRhNzjSu7rhKOlKsGz_sW1n-rOQIYXpTW5D-W8BWoI_uanJVcHpUJDJCCJpzKaAD5duccmKfm7euU-aGtv2iLN624DGXMrvA6eozhAP9cwnkP43Ldk4AaqWWm3f4mQ6Jzw8_zkRqVDuqHOQ/file# [following]\n",
            "--2022-09-19 16:56:11--  https://uc9c3a44acfacd28941cf3b38de4.dl.dropboxusercontent.com/cd/0/inline/BtSSoyXiQVa_qkbTqt_pPrTcxCPfgeovRhNzjSu7rhKOlKsGz_sW1n-rOQIYXpTW5D-W8BWoI_uanJVcHpUJDJCCJpzKaAD5duccmKfm7euU-aGtv2iLN624DGXMrvA6eozhAP9cwnkP43Ldk4AaqWWm3f4mQ6Jzw8_zkRqVDuqHOQ/file\n",
            "Resolving uc9c3a44acfacd28941cf3b38de4.dl.dropboxusercontent.com (uc9c3a44acfacd28941cf3b38de4.dl.dropboxusercontent.com)... 162.125.3.15, 2620:100:6016:15::a27d:10f\n",
            "Connecting to uc9c3a44acfacd28941cf3b38de4.dl.dropboxusercontent.com (uc9c3a44acfacd28941cf3b38de4.dl.dropboxusercontent.com)|162.125.3.15|:443... connected.\n",
            "HTTP request sent, awaiting response... 200 OK\n",
            "Length: 4901 (4.8K) [text/plain]\n",
            "Saving to: ‘augmentations.py’\n",
            "\n",
            "augmentations.py    100%[===================>]   4.79K  --.-KB/s    in 0s      \n",
            "\n",
            "2022-09-19 16:56:11 (195 MB/s) - ‘augmentations.py’ saved [4901/4901]\n",
            "\n",
            "--2022-09-19 16:56:11--  https://www.dropbox.com/s/ya7ogxwes7sedyt/run_cl3_ratio_v4_75.py?dl=0\n",
            "Resolving www.dropbox.com (www.dropbox.com)... 162.125.1.18, 2620:100:6016:18::a27d:112\n",
            "Connecting to www.dropbox.com (www.dropbox.com)|162.125.1.18|:443... connected.\n",
            "HTTP request sent, awaiting response... 302 Found\n",
            "Location: /s/raw/ya7ogxwes7sedyt/run_cl3_ratio_v4_75.py [following]\n",
            "--2022-09-19 16:56:12--  https://www.dropbox.com/s/raw/ya7ogxwes7sedyt/run_cl3_ratio_v4_75.py\n",
            "Reusing existing connection to www.dropbox.com:443.\n",
            "HTTP request sent, awaiting response... 302 Found\n",
            "Location: https://uc7ab1300907a70f3e8a038b8165.dl.dropboxusercontent.com/cd/0/inline/BtRHkxzk4fFsRfRwDK6PbgxLcj0kCM_crymTCnn9GKo69L-efxhmXEXlNxnYsTORxdVTlhxHvzqkUmGQyevd9Qew-FLgMsWHpCn4eiuMWC0zlmrMZxwcZW3syX7mi6q3EgseU4EG_Fm9_Xz90uOwQ_Y2EC0K1bzwoFUombXHAe8lVw/file# [following]\n",
            "--2022-09-19 16:56:12--  https://uc7ab1300907a70f3e8a038b8165.dl.dropboxusercontent.com/cd/0/inline/BtRHkxzk4fFsRfRwDK6PbgxLcj0kCM_crymTCnn9GKo69L-efxhmXEXlNxnYsTORxdVTlhxHvzqkUmGQyevd9Qew-FLgMsWHpCn4eiuMWC0zlmrMZxwcZW3syX7mi6q3EgseU4EG_Fm9_Xz90uOwQ_Y2EC0K1bzwoFUombXHAe8lVw/file\n",
            "Resolving uc7ab1300907a70f3e8a038b8165.dl.dropboxusercontent.com (uc7ab1300907a70f3e8a038b8165.dl.dropboxusercontent.com)... 162.125.1.15, 2620:100:6035:15::a27d:550f\n",
            "Connecting to uc7ab1300907a70f3e8a038b8165.dl.dropboxusercontent.com (uc7ab1300907a70f3e8a038b8165.dl.dropboxusercontent.com)|162.125.1.15|:443... connected.\n",
            "HTTP request sent, awaiting response... 200 OK\n",
            "Length: 33073 (32K) [text/plain]\n",
            "Saving to: ‘run_cl3_ratio_v4_75.py’\n",
            "\n",
            "run_cl3_ratio_v4_75 100%[===================>]  32.30K  --.-KB/s    in 0.007s  \n",
            "\n",
            "2022-09-19 16:56:12 (4.49 MB/s) - ‘run_cl3_ratio_v4_75.py’ saved [33073/33073]\n",
            "\n"
          ]
        }
      ]
    },
    {
      "cell_type": "code",
      "source": [
        "##### StyleGAN dropbox download #####\n",
        "#0%\n",
        "# ! wget https://www.dropbox.com/s/pv025inwd5ymi7e/result.zip?dl=0 -O result.zip\n",
        "#25%\n",
        "# ! wget https://www.dropbox.com/s/rz1m1nw99dsxlol/result.zip?dl=0 -O result.zip\n",
        "#50%\n",
        "# ! wget https://www.dropbox.com/s/mjohx8l2tlc3tm2/result.zip?dl=0 -O result.zip\n",
        "#75%\n",
        "# ! wget https://www.dropbox.com/s/w03gnjmzx4zvwiw/result.zip?dl=0 -O result.zip\n",
        "#100%\n",
        "# ! wget https://www.dropbox.com/s/y0qdytwupz38iq7/result.zip?dl=0 -O result.zip\n",
        "\n",
        "##### DCGAN dropbox download #####\n",
        "#0%\n",
        "! wget https://www.dropbox.com/s/ad46g09qbwsahhs/result.zip?dl=0 -O result.zip\n",
        "#25%\n",
        "# ! wget https://www.dropbox.com/s/3nxhlkd95droia8/result.zip?dl=0 -O result.zip\n",
        "#50%\n",
        "# ! wget https://www.dropbox.com/s/g4m9pzq2j9a9z79/result.zip?dl=0 -O result.zip\n",
        "#75%\n",
        "# ! wget https://www.dropbox.com/s/cigz6j5vfeydn9y/result.zip?dl=0 -O result.zip\n",
        "#100%\n",
        "# ! wget  -O result.zip\n"
      ],
      "metadata": {
        "colab": {
          "base_uri": "https://localhost:8080/"
        },
        "id": "WOaTT_O3l_rh",
        "outputId": "fff4d12c-a912-44d9-c1a5-5b5bc85b75e5"
      },
      "execution_count": null,
      "outputs": [
        {
          "output_type": "stream",
          "name": "stdout",
          "text": [
            "--2022-09-19 16:56:14--  https://www.dropbox.com/s/w03gnjmzx4zvwiw/result.zip?dl=0\n",
            "Resolving www.dropbox.com (www.dropbox.com)... 162.125.1.18, 2620:100:6016:18::a27d:112\n",
            "Connecting to www.dropbox.com (www.dropbox.com)|162.125.1.18|:443... connected.\n",
            "HTTP request sent, awaiting response... 302 Found\n",
            "Location: /s/raw/w03gnjmzx4zvwiw/result.zip [following]\n",
            "--2022-09-19 16:56:14--  https://www.dropbox.com/s/raw/w03gnjmzx4zvwiw/result.zip\n",
            "Reusing existing connection to www.dropbox.com:443.\n",
            "HTTP request sent, awaiting response... 302 Found\n",
            "Location: https://uc82526462fd7cca36fe68ffb74b.dl.dropboxusercontent.com/cd/0/inline/BtSDVHK28M6Eskc7AdBjaDWG7f-pNvAelNfU7Fk-E1YIzdSGMI2QxBVO_BpSspOrsOj_gxS7m9cinbJSDUy-uZY2Eb2ivAAzYXx0TW0FvTYXCoG-rDrF5AiRt0XnYe-z4XX-QZrE6_rn3QBsUa2zjrfHCf9xJJ1bg-p2PkyBppKXlA/file# [following]\n",
            "--2022-09-19 16:56:14--  https://uc82526462fd7cca36fe68ffb74b.dl.dropboxusercontent.com/cd/0/inline/BtSDVHK28M6Eskc7AdBjaDWG7f-pNvAelNfU7Fk-E1YIzdSGMI2QxBVO_BpSspOrsOj_gxS7m9cinbJSDUy-uZY2Eb2ivAAzYXx0TW0FvTYXCoG-rDrF5AiRt0XnYe-z4XX-QZrE6_rn3QBsUa2zjrfHCf9xJJ1bg-p2PkyBppKXlA/file\n",
            "Resolving uc82526462fd7cca36fe68ffb74b.dl.dropboxusercontent.com (uc82526462fd7cca36fe68ffb74b.dl.dropboxusercontent.com)... 162.125.1.15, 2620:100:6021:15::a27d:410f\n",
            "Connecting to uc82526462fd7cca36fe68ffb74b.dl.dropboxusercontent.com (uc82526462fd7cca36fe68ffb74b.dl.dropboxusercontent.com)|162.125.1.15|:443... connected.\n",
            "HTTP request sent, awaiting response... 302 Found\n",
            "Location: /cd/0/inline2/BtSVo-oHcxwY67x6sNJNI_k6ZrEk_P-3U50GVaQ6gYInCE7LnOLH5cvuhM8Y-OTAd3IUFicnFzBz5sq2UW9AlWCY9QyH_c2zpJs2qpre1ndjdFGbsxK5ggv2O9eGMqXlJAH4tCayim5ngZIvuevp52HQyo9a52kfxHahabtfdfuydyS5g1TqZ00GVbI_RV0464PGfVUQDMpvoJFYWoxzh4XWF7amiaj7Nx_6C-4xxyk1HeaucQLx7qDWUAAHO7OYnViJDUhWgugvO1hr38QXJBh4unx-pHHfL2vHcM6yfGrC8hjaRH_yHWOlY79RP1FzPTINWeBtwKTSzTyKG57K6EDCs-z1hLupkrr4OL12pQFIdbF-Si9NrRLSKd5A4mWXvprrzjaUPLe_cweMTIO0iUP8BjH7hElalPifs6Jsp1In_A/file [following]\n",
            "--2022-09-19 16:56:15--  https://uc82526462fd7cca36fe68ffb74b.dl.dropboxusercontent.com/cd/0/inline2/BtSVo-oHcxwY67x6sNJNI_k6ZrEk_P-3U50GVaQ6gYInCE7LnOLH5cvuhM8Y-OTAd3IUFicnFzBz5sq2UW9AlWCY9QyH_c2zpJs2qpre1ndjdFGbsxK5ggv2O9eGMqXlJAH4tCayim5ngZIvuevp52HQyo9a52kfxHahabtfdfuydyS5g1TqZ00GVbI_RV0464PGfVUQDMpvoJFYWoxzh4XWF7amiaj7Nx_6C-4xxyk1HeaucQLx7qDWUAAHO7OYnViJDUhWgugvO1hr38QXJBh4unx-pHHfL2vHcM6yfGrC8hjaRH_yHWOlY79RP1FzPTINWeBtwKTSzTyKG57K6EDCs-z1hLupkrr4OL12pQFIdbF-Si9NrRLSKd5A4mWXvprrzjaUPLe_cweMTIO0iUP8BjH7hElalPifs6Jsp1In_A/file\n",
            "Reusing existing connection to uc82526462fd7cca36fe68ffb74b.dl.dropboxusercontent.com:443.\n",
            "HTTP request sent, awaiting response... 200 OK\n",
            "Length: 515569689 (492M) [application/zip]\n",
            "Saving to: ‘result.zip’\n",
            "\n",
            "result.zip          100%[===================>] 491.69M   125MB/s    in 3.9s    \n",
            "\n",
            "2022-09-19 16:56:19 (126 MB/s) - ‘result.zip’ saved [515569689/515569689]\n",
            "\n"
          ]
        }
      ]
    },
    {
      "cell_type": "code",
      "source": [],
      "metadata": {
        "id": "idNRnXFDl_u7"
      },
      "execution_count": null,
      "outputs": []
    },
    {
      "cell_type": "code",
      "metadata": {
        "id": "W_LHYILV31KW"
      },
      "source": [
        "\n",
        "# # aug_dataset.zip 풀기\n",
        "!unzip -qq \"/content/aug_dataset.zip\""
      ],
      "execution_count": null,
      "outputs": []
    },
    {
      "cell_type": "code",
      "metadata": {
        "id": "S8QpchrekAvD",
        "colab": {
          "base_uri": "https://localhost:8080/"
        },
        "outputId": "4872555a-bb73-49d8-f445-f40c0c65e7dd"
      },
      "source": [
        "# ! ls -l ./dataset_patch/*.csv\n",
        "! ls -l ./aug_dataset/*.csv"
      ],
      "execution_count": null,
      "outputs": [
        {
          "output_type": "stream",
          "name": "stdout",
          "text": [
            "-rw-r--r-- 1 root root 23665 Jul  6 08:01 ./aug_dataset/test.csv\n",
            "-rw-r--r-- 1 root root 53823 May 30 18:26 ./aug_dataset/train1.csv\n",
            "-rw-r--r-- 1 root root 50123 Sep 12 12:36 ./aug_dataset/train2.csv\n",
            "-rw-r--r-- 1 root root 22676 Jul 31 17:57 ./aug_dataset/val.csv\n"
          ]
        }
      ]
    },
    {
      "cell_type": "code",
      "metadata": {
        "id": "cAyOzrFQr-Qc",
        "colab": {
          "base_uri": "https://localhost:8080/"
        },
        "outputId": "b7bb1bd6-68fa-4d7e-b294-358c67a059cf"
      },
      "source": [
        "! ls -l /content/aug_dataset/ | head\n",
        "#! ls -l /content/dataset_patch/test/hema/ | head\n"
      ],
      "execution_count": null,
      "outputs": [
        {
          "output_type": "stream",
          "name": "stdout",
          "text": [
            "total 156\n",
            "-rw-r--r-- 1 root root 23665 Jul  6 08:01 test.csv\n",
            "-rw-r--r-- 1 root root 53823 May 30 18:26 train1.csv\n",
            "-rw-r--r-- 1 root root 50123 Sep 12 12:36 train2.csv\n",
            "-rw-r--r-- 1 root root 22676 Jul 31 17:57 val.csv\n"
          ]
        }
      ]
    },
    {
      "cell_type": "code",
      "metadata": {
        "id": "PlyEIke4ZIg9",
        "colab": {
          "base_uri": "https://localhost:8080/"
        },
        "outputId": "6530f220-e9df-48ce-b24a-5bf53f47ef19"
      },
      "source": [
        "! pip uninstall -y tensorflow\n",
        "! pip uninstall -y Keras Keras-Applications keras-nightly Keras-Preprocessing  keras-vis\n",
        "! pip uninstall -y h5py\n",
        "\n",
        "#! pip install tensorflow-gpu==1.13.1 keras==2.2.4 h5py==2.10.0\n",
        "! pip install tensorflow-gpu==1.13.1 keras==2.2.5 h5py==2.10.0"
      ],
      "execution_count": null,
      "outputs": [
        {
          "output_type": "stream",
          "name": "stdout",
          "text": [
            "Found existing installation: tensorflow 2.8.2+zzzcolab20220719082949\n",
            "Uninstalling tensorflow-2.8.2+zzzcolab20220719082949:\n",
            "  Successfully uninstalled tensorflow-2.8.2+zzzcolab20220719082949\n",
            "Found existing installation: keras 2.8.0\n",
            "Uninstalling keras-2.8.0:\n",
            "  Successfully uninstalled keras-2.8.0\n",
            "\u001b[33mWARNING: Skipping Keras-Applications as it is not installed.\u001b[0m\n",
            "\u001b[33mWARNING: Skipping keras-nightly as it is not installed.\u001b[0m\n",
            "Found existing installation: Keras-Preprocessing 1.1.2\n",
            "Uninstalling Keras-Preprocessing-1.1.2:\n",
            "  Successfully uninstalled Keras-Preprocessing-1.1.2\n",
            "Found existing installation: keras-vis 0.4.1\n",
            "Uninstalling keras-vis-0.4.1:\n",
            "  Successfully uninstalled keras-vis-0.4.1\n",
            "Found existing installation: h5py 3.1.0\n",
            "Uninstalling h5py-3.1.0:\n",
            "  Successfully uninstalled h5py-3.1.0\n",
            "Looking in indexes: https://pypi.org/simple, https://us-python.pkg.dev/colab-wheels/public/simple/\n",
            "Collecting tensorflow-gpu==1.13.1\n",
            "  Downloading tensorflow_gpu-1.13.1-cp37-cp37m-manylinux1_x86_64.whl (345.0 MB)\n",
            "\u001b[K     |████████████████████████████████| 345.0 MB 3.6 kB/s \n",
            "\u001b[?25hCollecting keras==2.2.5\n",
            "  Downloading Keras-2.2.5-py2.py3-none-any.whl (336 kB)\n",
            "\u001b[K     |████████████████████████████████| 336 kB 73.5 MB/s \n",
            "\u001b[?25hCollecting h5py==2.10.0\n",
            "  Downloading h5py-2.10.0-cp37-cp37m-manylinux1_x86_64.whl (2.9 MB)\n",
            "\u001b[K     |████████████████████████████████| 2.9 MB 55.6 MB/s \n",
            "\u001b[?25hCollecting tensorflow-estimator<1.14.0rc0,>=1.13.0\n",
            "  Downloading tensorflow_estimator-1.13.0-py2.py3-none-any.whl (367 kB)\n",
            "\u001b[K     |████████████████████████████████| 367 kB 73.8 MB/s \n",
            "\u001b[?25hCollecting keras-applications>=1.0.6\n",
            "  Downloading Keras_Applications-1.0.8-py3-none-any.whl (50 kB)\n",
            "\u001b[K     |████████████████████████████████| 50 kB 8.3 MB/s \n",
            "\u001b[?25hRequirement already satisfied: gast>=0.2.0 in /usr/local/lib/python3.7/dist-packages (from tensorflow-gpu==1.13.1) (0.5.3)\n",
            "Requirement already satisfied: protobuf>=3.6.1 in /usr/local/lib/python3.7/dist-packages (from tensorflow-gpu==1.13.1) (3.17.3)\n",
            "Requirement already satisfied: wheel>=0.26 in /usr/local/lib/python3.7/dist-packages (from tensorflow-gpu==1.13.1) (0.37.1)\n",
            "Requirement already satisfied: termcolor>=1.1.0 in /usr/local/lib/python3.7/dist-packages (from tensorflow-gpu==1.13.1) (1.1.0)\n",
            "Collecting tensorboard<1.14.0,>=1.13.0\n",
            "  Downloading tensorboard-1.13.1-py3-none-any.whl (3.2 MB)\n",
            "\u001b[K     |████████████████████████████████| 3.2 MB 51.4 MB/s \n",
            "\u001b[?25hRequirement already satisfied: grpcio>=1.8.6 in /usr/local/lib/python3.7/dist-packages (from tensorflow-gpu==1.13.1) (1.48.1)\n",
            "Collecting keras-preprocessing>=1.0.5\n",
            "  Downloading Keras_Preprocessing-1.1.2-py2.py3-none-any.whl (42 kB)\n",
            "\u001b[K     |████████████████████████████████| 42 kB 1.4 MB/s \n",
            "\u001b[?25hRequirement already satisfied: six>=1.10.0 in /usr/local/lib/python3.7/dist-packages (from tensorflow-gpu==1.13.1) (1.15.0)\n",
            "Requirement already satisfied: astor>=0.6.0 in /usr/local/lib/python3.7/dist-packages (from tensorflow-gpu==1.13.1) (0.8.1)\n",
            "Requirement already satisfied: numpy>=1.13.3 in /usr/local/lib/python3.7/dist-packages (from tensorflow-gpu==1.13.1) (1.21.6)\n",
            "Requirement already satisfied: absl-py>=0.1.6 in /usr/local/lib/python3.7/dist-packages (from tensorflow-gpu==1.13.1) (1.2.0)\n",
            "Requirement already satisfied: scipy>=0.14 in /usr/local/lib/python3.7/dist-packages (from keras==2.2.5) (1.7.3)\n",
            "Requirement already satisfied: pyyaml in /usr/local/lib/python3.7/dist-packages (from keras==2.2.5) (6.0)\n",
            "Requirement already satisfied: markdown>=2.6.8 in /usr/local/lib/python3.7/dist-packages (from tensorboard<1.14.0,>=1.13.0->tensorflow-gpu==1.13.1) (3.4.1)\n",
            "Requirement already satisfied: werkzeug>=0.11.15 in /usr/local/lib/python3.7/dist-packages (from tensorboard<1.14.0,>=1.13.0->tensorflow-gpu==1.13.1) (1.0.1)\n",
            "Requirement already satisfied: importlib-metadata>=4.4 in /usr/local/lib/python3.7/dist-packages (from markdown>=2.6.8->tensorboard<1.14.0,>=1.13.0->tensorflow-gpu==1.13.1) (4.12.0)\n",
            "Requirement already satisfied: typing-extensions>=3.6.4 in /usr/local/lib/python3.7/dist-packages (from importlib-metadata>=4.4->markdown>=2.6.8->tensorboard<1.14.0,>=1.13.0->tensorflow-gpu==1.13.1) (4.1.1)\n",
            "Requirement already satisfied: zipp>=0.5 in /usr/local/lib/python3.7/dist-packages (from importlib-metadata>=4.4->markdown>=2.6.8->tensorboard<1.14.0,>=1.13.0->tensorflow-gpu==1.13.1) (3.8.1)\n",
            "Collecting mock>=2.0.0\n",
            "  Downloading mock-4.0.3-py3-none-any.whl (28 kB)\n",
            "Installing collected packages: mock, h5py, tensorflow-estimator, tensorboard, keras-preprocessing, keras-applications, tensorflow-gpu, keras\n",
            "  Attempting uninstall: tensorflow-estimator\n",
            "    Found existing installation: tensorflow-estimator 2.8.0\n",
            "    Uninstalling tensorflow-estimator-2.8.0:\n",
            "      Successfully uninstalled tensorflow-estimator-2.8.0\n",
            "  Attempting uninstall: tensorboard\n",
            "    Found existing installation: tensorboard 2.8.0\n",
            "    Uninstalling tensorboard-2.8.0:\n",
            "      Successfully uninstalled tensorboard-2.8.0\n",
            "Successfully installed h5py-2.10.0 keras-2.2.5 keras-applications-1.0.8 keras-preprocessing-1.1.2 mock-4.0.3 tensorboard-1.13.1 tensorflow-estimator-1.13.0 tensorflow-gpu-1.13.1\n"
          ]
        }
      ]
    },
    {
      "cell_type": "code",
      "metadata": {
        "colab": {
          "base_uri": "https://localhost:8080/"
        },
        "id": "AaIDfTAiFWCl",
        "outputId": "2a1c4232-4764-4783-fd74-bf66ce52412a"
      },
      "source": [
        "! pip list | grep -i keras\n",
        "! pip list | grep -i tensorflow\n",
        "! pip list | grep h5py"
      ],
      "execution_count": null,
      "outputs": [
        {
          "output_type": "stream",
          "name": "stdout",
          "text": [
            "Keras                         2.2.5\n",
            "Keras-Applications            1.0.8\n",
            "Keras-Preprocessing           1.1.2\n",
            "tensorflow-datasets           4.6.0\n",
            "tensorflow-estimator          1.13.0\n",
            "tensorflow-gcs-config         2.8.0\n",
            "tensorflow-gpu                1.13.1\n",
            "tensorflow-hub                0.12.0\n",
            "tensorflow-io-gcs-filesystem  0.26.0\n",
            "tensorflow-metadata           1.10.0\n",
            "tensorflow-probability        0.16.0\n",
            "h5py                          2.10.0\n"
          ]
        }
      ]
    },
    {
      "cell_type": "code",
      "metadata": {
        "id": "Xij_eTyXD_3h",
        "colab": {
          "base_uri": "https://localhost:8080/"
        },
        "outputId": "69d3dbcc-bc40-44ca-b708-862240bf0b01"
      },
      "source": [
        "#! pip install -U efficientnet\n",
        "! pip install -U git+https://github.com/qubvel/efficientnet"
      ],
      "execution_count": null,
      "outputs": [
        {
          "output_type": "stream",
          "name": "stdout",
          "text": [
            "Looking in indexes: https://pypi.org/simple, https://us-python.pkg.dev/colab-wheels/public/simple/\n",
            "Collecting git+https://github.com/qubvel/efficientnet\n",
            "  Cloning https://github.com/qubvel/efficientnet to /tmp/pip-req-build-gounfo2m\n",
            "  Running command git clone -q https://github.com/qubvel/efficientnet /tmp/pip-req-build-gounfo2m\n",
            "Requirement already satisfied: keras_applications<=1.0.8,>=1.0.7 in /usr/local/lib/python3.7/dist-packages (from efficientnet==1.1.1) (1.0.8)\n",
            "Requirement already satisfied: scikit-image in /usr/local/lib/python3.7/dist-packages (from efficientnet==1.1.1) (0.18.3)\n",
            "Requirement already satisfied: h5py in /usr/local/lib/python3.7/dist-packages (from keras_applications<=1.0.8,>=1.0.7->efficientnet==1.1.1) (2.10.0)\n",
            "Requirement already satisfied: numpy>=1.9.1 in /usr/local/lib/python3.7/dist-packages (from keras_applications<=1.0.8,>=1.0.7->efficientnet==1.1.1) (1.21.6)\n",
            "Requirement already satisfied: six in /usr/local/lib/python3.7/dist-packages (from h5py->keras_applications<=1.0.8,>=1.0.7->efficientnet==1.1.1) (1.15.0)\n",
            "Requirement already satisfied: scipy>=1.0.1 in /usr/local/lib/python3.7/dist-packages (from scikit-image->efficientnet==1.1.1) (1.7.3)\n",
            "Requirement already satisfied: pillow!=7.1.0,!=7.1.1,>=4.3.0 in /usr/local/lib/python3.7/dist-packages (from scikit-image->efficientnet==1.1.1) (7.1.2)\n",
            "Requirement already satisfied: imageio>=2.3.0 in /usr/local/lib/python3.7/dist-packages (from scikit-image->efficientnet==1.1.1) (2.9.0)\n",
            "Requirement already satisfied: networkx>=2.0 in /usr/local/lib/python3.7/dist-packages (from scikit-image->efficientnet==1.1.1) (2.6.3)\n",
            "Requirement already satisfied: tifffile>=2019.7.26 in /usr/local/lib/python3.7/dist-packages (from scikit-image->efficientnet==1.1.1) (2021.11.2)\n",
            "Requirement already satisfied: matplotlib!=3.0.0,>=2.0.0 in /usr/local/lib/python3.7/dist-packages (from scikit-image->efficientnet==1.1.1) (3.2.2)\n",
            "Requirement already satisfied: PyWavelets>=1.1.1 in /usr/local/lib/python3.7/dist-packages (from scikit-image->efficientnet==1.1.1) (1.3.0)\n",
            "Requirement already satisfied: cycler>=0.10 in /usr/local/lib/python3.7/dist-packages (from matplotlib!=3.0.0,>=2.0.0->scikit-image->efficientnet==1.1.1) (0.11.0)\n",
            "Requirement already satisfied: kiwisolver>=1.0.1 in /usr/local/lib/python3.7/dist-packages (from matplotlib!=3.0.0,>=2.0.0->scikit-image->efficientnet==1.1.1) (1.4.4)\n",
            "Requirement already satisfied: pyparsing!=2.0.4,!=2.1.2,!=2.1.6,>=2.0.1 in /usr/local/lib/python3.7/dist-packages (from matplotlib!=3.0.0,>=2.0.0->scikit-image->efficientnet==1.1.1) (3.0.9)\n",
            "Requirement already satisfied: python-dateutil>=2.1 in /usr/local/lib/python3.7/dist-packages (from matplotlib!=3.0.0,>=2.0.0->scikit-image->efficientnet==1.1.1) (2.8.2)\n",
            "Requirement already satisfied: typing-extensions in /usr/local/lib/python3.7/dist-packages (from kiwisolver>=1.0.1->matplotlib!=3.0.0,>=2.0.0->scikit-image->efficientnet==1.1.1) (4.1.1)\n",
            "Building wheels for collected packages: efficientnet\n",
            "  Building wheel for efficientnet (setup.py) ... \u001b[?25l\u001b[?25hdone\n",
            "  Created wheel for efficientnet: filename=efficientnet-1.1.1-py3-none-any.whl size=18447 sha256=37f0fee240b16f054da99cc26ba6f481b06f33e5790a8aa086863204a9f7201f\n",
            "  Stored in directory: /tmp/pip-ephem-wheel-cache-1svxtpio/wheels/11/69/85/814d64d694c96db0eef17b718042d644a1e54f113920481920\n",
            "Successfully built efficientnet\n",
            "Installing collected packages: efficientnet\n",
            "Successfully installed efficientnet-1.1.1\n"
          ]
        }
      ]
    },
    {
      "cell_type": "code",
      "metadata": {
        "colab": {
          "base_uri": "https://localhost:8080/"
        },
        "id": "Rs-4lb971_BF",
        "outputId": "85b55752-8a97-4d43-981c-eb760d5d8e48"
      },
      "source": [
        "! ls "
      ],
      "execution_count": null,
      "outputs": [
        {
          "output_type": "stream",
          "name": "stdout",
          "text": [
            "aug_dataset\t augmentations.py  __MACOSX    run_cl3_ratio_v4_75.py\n",
            "aug_dataset.zip  drive\t\t   result.zip  sample_data\n"
          ]
        }
      ]
    },
    {
      "cell_type": "code",
      "metadata": {
        "id": "SEgDYZsm11Zl"
      },
      "source": [
        "! unzip -o -q result.zip "
      ],
      "execution_count": null,
      "outputs": []
    },
    {
      "cell_type": "code",
      "metadata": {
        "colab": {
          "base_uri": "https://localhost:8080/"
        },
        "id": "3QpkQ_hn2i-E",
        "outputId": "a4e91d11-9fba-4f32-f0f8-d9b9e2b84631"
      },
      "source": [
        "! ls result/*/model/final*.h5"
      ],
      "execution_count": null,
      "outputs": [
        {
          "output_type": "stream",
          "name": "stdout",
          "text": [
            "result/best__vgg0/model/final___e100_b8_z125_r5e-05_op3_dlr15__v0.55_f416_d0.1__aug4_alpha0.0_beta0.0__tfvg_l64__es20_index1.h5\n",
            "result/best__vgg1/model/final___e100_b8_z125_r5e-05_op3_dlr15__v0.55_f416_d0.1__aug4_alpha0.0_beta0.0__tfvg_l64__es20_index1.h5\n",
            "result/best__vgg2/model/final___e100_b8_z125_r5e-05_op3_dlr15__v0.55_f416_d0.1__aug4_alpha0.0_beta0.0__tfvg_l64__es20_index1.h5\n",
            "result/best__vgg3/model/final___e100_b8_z125_r5e-05_op3_dlr15__v0.55_f416_d0.1__aug4_alpha0.0_beta0.0__tfvg_l64__es20_index1.h5\n",
            "result/best__vgg4/model/final___e100_b8_z125_r5e-05_op3_dlr15__v0.55_f416_d0.1__aug4_alpha0.0_beta0.0__tfvg_l64__es20_index1.h5\n"
          ]
        }
      ]
    },
    {
      "cell_type": "markdown",
      "metadata": {
        "id": "_bxnaCe13SHq"
      },
      "source": [
        "# Dataset"
      ]
    },
    {
      "cell_type": "code",
      "metadata": {
        "colab": {
          "base_uri": "https://localhost:8080/"
        },
        "id": "wj2zLapb3I4N",
        "outputId": "350a76b5-d3c1-489e-a068-a2efa17057fc"
      },
      "source": [
        "#! head /content/dataset_patch/test.csv\n",
        "! head /content/aug_dataset/test.csv"
      ],
      "execution_count": null,
      "outputs": [
        {
          "output_type": "stream",
          "name": "stdout",
          "text": [
            "filename,label,label_str\r\n",
            "/content/drive/MyDrive/dataset_patch_220117/test/cyst/test_00001.jpg,0,cyst\r\n",
            "/content/drive/MyDrive/dataset_patch_220117/test/cyst/test_00002.jpg,0,cyst\r\n",
            "/content/drive/MyDrive/dataset_patch_220117/test/cyst/test_00003.jpg,0,cyst\r\n",
            "/content/drive/MyDrive/dataset_patch_220117/test/cyst/test_00004.jpg,0,cyst\r\n",
            "/content/drive/MyDrive/dataset_patch_220117/test/cyst/test_00005.jpg,0,cyst\r\n",
            "/content/drive/MyDrive/dataset_patch_220117/test/cyst/test_00006.jpg,0,cyst\r\n",
            "/content/drive/MyDrive/dataset_patch_220117/test/cyst/test_00007.jpg,0,cyst\r\n",
            "/content/drive/MyDrive/dataset_patch_220117/test/cyst/test_00008.jpg,0,cyst\r\n",
            "/content/drive/MyDrive/dataset_patch_220117/test/cyst/test_00009.jpg,0,cyst\r\n"
          ]
        }
      ]
    },
    {
      "cell_type": "markdown",
      "metadata": {
        "id": "M-6OMExg2Cdc"
      },
      "source": [
        "# Infer"
      ]
    },
    {
      "cell_type": "code",
      "metadata": {
        "id": "yw7IUEXB339D"
      },
      "source": [
        "TE = \"/content/aug_dataset/test.csv\"\n",
        "L = 64"
      ],
      "execution_count": null,
      "outputs": []
    },
    {
      "cell_type": "code",
      "metadata": {
        "id": "97y7fP621qKG",
        "colab": {
          "base_uri": "https://localhost:8080/"
        },
        "outputId": "4b81f1b7-a011-4757-8091-83c4b755bfdb"
      },
      "source": [
        "import sys, os, six, time, copy, random, glob\n",
        "\n",
        "import numpy as np\n",
        "import pandas as pd\n",
        "\n",
        "from keras.models import load_model\n",
        "from keras.backend import clear_session\n",
        "\n",
        "from sklearn.metrics import average_precision_score, roc_auc_score, confusion_matrix, accuracy_score\n",
        "from run_cl3_ratio_v4_75 import MyGenerator"
      ],
      "execution_count": null,
      "outputs": [
        {
          "output_type": "stream",
          "name": "stderr",
          "text": [
            "Using TensorFlow backend.\n",
            "/usr/local/lib/python3.7/dist-packages/tensorflow/python/framework/dtypes.py:526: FutureWarning: Passing (type, 1) or '1type' as a synonym of type is deprecated; in a future version of numpy, it will be understood as (type, (1,)) / '(1,)type'.\n",
            "  _np_qint8 = np.dtype([(\"qint8\", np.int8, 1)])\n",
            "/usr/local/lib/python3.7/dist-packages/tensorflow/python/framework/dtypes.py:527: FutureWarning: Passing (type, 1) or '1type' as a synonym of type is deprecated; in a future version of numpy, it will be understood as (type, (1,)) / '(1,)type'.\n",
            "  _np_quint8 = np.dtype([(\"quint8\", np.uint8, 1)])\n",
            "/usr/local/lib/python3.7/dist-packages/tensorflow/python/framework/dtypes.py:528: FutureWarning: Passing (type, 1) or '1type' as a synonym of type is deprecated; in a future version of numpy, it will be understood as (type, (1,)) / '(1,)type'.\n",
            "  _np_qint16 = np.dtype([(\"qint16\", np.int16, 1)])\n",
            "/usr/local/lib/python3.7/dist-packages/tensorflow/python/framework/dtypes.py:529: FutureWarning: Passing (type, 1) or '1type' as a synonym of type is deprecated; in a future version of numpy, it will be understood as (type, (1,)) / '(1,)type'.\n",
            "  _np_quint16 = np.dtype([(\"quint16\", np.uint16, 1)])\n",
            "/usr/local/lib/python3.7/dist-packages/tensorflow/python/framework/dtypes.py:530: FutureWarning: Passing (type, 1) or '1type' as a synonym of type is deprecated; in a future version of numpy, it will be understood as (type, (1,)) / '(1,)type'.\n",
            "  _np_qint32 = np.dtype([(\"qint32\", np.int32, 1)])\n",
            "/usr/local/lib/python3.7/dist-packages/tensorflow/python/framework/dtypes.py:535: FutureWarning: Passing (type, 1) or '1type' as a synonym of type is deprecated; in a future version of numpy, it will be understood as (type, (1,)) / '(1,)type'.\n",
            "  np_resource = np.dtype([(\"resource\", np.ubyte, 1)])\n"
          ]
        }
      ]
    },
    {
      "cell_type": "code",
      "metadata": {
        "id": "5Gg4grTG07hN",
        "colab": {
          "base_uri": "https://localhost:8080/"
        },
        "outputId": "63afbb66-3eac-496d-8f26-608661e35c4a"
      },
      "source": [
        "def main():\n",
        "    pat = \"/content/result/*/model/final*.h5\" \n",
        "    l = glob.glob(pat)\n",
        "    print(l)\n",
        "    \n",
        "\n",
        "    truth = []\n",
        "    preds = []\n",
        "    accs = []\n",
        "    C_sens = []\n",
        "    H_sens = []\n",
        "    M_sens = []    \n",
        "    C_specs = []\n",
        "    H_specs = []\n",
        "    M_specs = []\n",
        "\n",
        "    for m in l:\n",
        "        t, p = calc_probs(m)\n",
        "\n",
        "        #truth.append(t)\n",
        "        #preds.append(p)\n",
        "        clear_session()\n",
        "\n",
        "        truth = np.array(t)\n",
        "        preds = np.array(p)\n",
        "        #print(\"truth.shape:\",truth.shape) #(307, 3)\n",
        "        #print(\"preds.shape:\",preds.shape) \n",
        "      \n",
        "\n",
        "        #truth = truth.mean(axis=0)\n",
        "        #preds = preds.mean(axis=0)\n",
        "        #print(\"truth.shape:\",truth.shape) \n",
        "        #print(\"preds.shape:\",preds.shape) \n",
        "        #np.savetxt('preds.csv', preds,delimiter=\",\")\n",
        "      \n",
        "\n",
        "        truth = truth.argmax(axis=1)\n",
        "        preds = preds.argmax(axis=1)\n",
        "        #print(\"truth.shape:\",truth.shape) #(307, )\n",
        "        #print(\"preds.shape:\",preds.shape) \n",
        "        #np.savetxt('truth.csv', truth,delimiter=\",\")\n",
        "        print(\"ground truth:\", truth)\n",
        "        print(\"prediction:\", preds)\n",
        "            \n",
        "        print(\"*** accuracy ***\")\n",
        "        acc = accuracy_score(truth, preds) *100\n",
        "        print(acc)\n",
        "        accs.append(acc)\n",
        "\n",
        "        print(\"*** confusion matrix ***\")\n",
        "        cfm = confusion_matrix(truth, preds)\n",
        "        print(cfm)\n",
        "\n",
        "        C_sen = cfm[0,0] / (cfm[0,0] + cfm[0,1] + cfm[0,2]) * 100\n",
        "        H_sen = cfm[1,1] / (cfm[1,0] + cfm[1,1] + cfm[1,2]) * 100\n",
        "        M_sen = cfm[2,2] / (cfm[2,0] + cfm[2,1] + cfm[2,2]) * 100\n",
        "        C_spec = (cfm[1,1] + cfm[1,2] +  cfm[2,1] + cfm[2,2]) / (cfm[1,0] + cfm[1,1] + cfm[1,2] + cfm[2,0] + cfm[2,1] + cfm[2,2]) * 100\n",
        "        H_spec = (cfm[0,0] + cfm[0,2] +  cfm[2,0] + cfm[2,2]) / (cfm[0,0] + cfm[0,1] + cfm[0,2] + cfm[2,0] + cfm[2,1] + cfm[2,2]) * 100\n",
        "        M_spec = (cfm[0,0] + cfm[0,1] +  cfm[1,0] + cfm[1,1]) / (cfm[1,0] + cfm[1,1] + cfm[1,2] + cfm[0,0] + cfm[0,1] + cfm[0,2]) * 100\n",
        "        print(C_sen, H_sen, M_sen)\n",
        "        print(C_spec, H_spec, M_spec)\n",
        "        C_sens.append(C_sen)\n",
        "        H_sens.append(H_sen)\n",
        "        M_sens.append(M_sen)\n",
        "        C_specs.append(C_spec)\n",
        "        H_specs.append(H_spec)\n",
        "        M_specs.append(M_spec)\n",
        "    \n",
        "    print(\"Accuaracy_mean\",np.mean(accs))\n",
        "    print(\"Accuaracy_std\", np.std(accs))\n",
        "    print(\"Cyst_sensitivity_mean\",np.mean(C_sens))\n",
        "    print(\"Cyst_sensitivity_std\", np.std(C_sens))\n",
        "    print(\"Cyst_specificity_mean\",np.mean(C_specs))\n",
        "    print(\"Cyst_specificity_std\", np.std(C_specs))\n",
        "    print(\"Hema_sensitivity_mean\",np.mean(H_sens))\n",
        "    print(\"Hema_sensitivity_std\", np.std(H_sens))\n",
        "    print(\"Hema_specificity_mean\",np.mean(H_specs))\n",
        "    print(\"Hema_specificity_std\", np.std(H_specs))\n",
        "    print(\"Meta_sensitivity_mean\",np.mean(M_sens))\n",
        "    print(\"Meta_sensitivity_std\", np.std(M_sens))\n",
        "    print(\"Meta_specificity_mean\",np.mean(M_specs))\n",
        "    print(\"Meta_specificity_std\", np.std(M_specs))\n",
        "\n",
        "    return \n",
        "\n",
        "def calc_probs(m):\n",
        "    model = load_model(m, compile=False)\n",
        "    #model.summary()\n",
        "    #print(\"test_csv:\", TE)\n",
        "    te_gen = MyGenerator(TE, batch_size=1, width=L, height=L, ch=3, shuffle=False)\n",
        "\n",
        "    preds = []\n",
        "    truth = []   \n",
        "\n",
        "    i = 0\n",
        "    N = len(te_gen)\n",
        "    for ims, labels in te_gen:\n",
        "        i += 1\n",
        "        if i > N:\n",
        "            break\n",
        "        p = model.predict(ims, verbose=0)\n",
        "        preds = preds + p.tolist()\n",
        "        truth = truth + labels.tolist()\n",
        "        \n",
        "    truth = np.array(truth)\n",
        "    preds = np.array(preds)\n",
        "\n",
        "    return truth, preds\n",
        "\n",
        "#np.savetxt('preds.csv', preds,delimiter=\",\")\n",
        "#np.savetxt('truth.csv', truth,delimiter=\",\")\n",
        "\n",
        "    #for i in range(0,300):\n",
        "      #print(\"preds[%s]\"%(i),preds[i])\n",
        "\n",
        "#############\n",
        "main()\n"
      ],
      "execution_count": null,
      "outputs": [
        {
          "output_type": "stream",
          "name": "stderr",
          "text": [
            "WARNING:tensorflow:From /usr/local/lib/python3.7/dist-packages/tensorflow/python/framework/op_def_library.py:263: colocate_with (from tensorflow.python.framework.ops) is deprecated and will be removed in a future version.\n",
            "Instructions for updating:\n",
            "Colocations handled automatically by placer.\n"
          ]
        },
        {
          "output_type": "stream",
          "name": "stdout",
          "text": [
            "['/content/result/best__vgg2/model/final___e100_b8_z125_r5e-05_op3_dlr15__v0.55_f416_d0.1__aug4_alpha0.0_beta0.0__tfvg_l64__es20_index1.h5', '/content/result/best__vgg1/model/final___e100_b8_z125_r5e-05_op3_dlr15__v0.55_f416_d0.1__aug4_alpha0.0_beta0.0__tfvg_l64__es20_index1.h5', '/content/result/best__vgg0/model/final___e100_b8_z125_r5e-05_op3_dlr15__v0.55_f416_d0.1__aug4_alpha0.0_beta0.0__tfvg_l64__es20_index1.h5', '/content/result/best__vgg4/model/final___e100_b8_z125_r5e-05_op3_dlr15__v0.55_f416_d0.1__aug4_alpha0.0_beta0.0__tfvg_l64__es20_index1.h5', '/content/result/best__vgg3/model/final___e100_b8_z125_r5e-05_op3_dlr15__v0.55_f416_d0.1__aug4_alpha0.0_beta0.0__tfvg_l64__es20_index1.h5']\n"
          ]
        },
        {
          "output_type": "stream",
          "name": "stderr",
          "text": [
            "WARNING:tensorflow:From /usr/local/lib/python3.7/dist-packages/keras/backend/tensorflow_backend.py:3733: calling dropout (from tensorflow.python.ops.nn_ops) with keep_prob is deprecated and will be removed in a future version.\n",
            "Instructions for updating:\n",
            "Please use `rate` instead of `keep_prob`. Rate should be set to `rate = 1 - keep_prob`.\n"
          ]
        },
        {
          "output_type": "stream",
          "name": "stdout",
          "text": [
            "/content/aug_dataset/test.csv number of data -> 307\n",
            "ground truth: [0 0 0 0 0 0 0 0 0 0 0 0 0 0 0 0 0 0 0 0 0 0 0 0 0 0 0 0 0 0 0 0 0 0 0 0 0\n",
            " 0 0 0 0 0 0 0 0 0 0 0 0 0 0 0 0 0 0 0 0 0 0 0 0 0 0 0 0 0 0 0 0 0 0 0 0 0\n",
            " 0 0 0 0 0 0 0 0 0 0 0 0 0 0 0 0 0 0 0 0 0 0 0 0 0 0 0 0 0 0 0 0 0 0 0 0 0\n",
            " 0 0 0 0 0 0 0 0 0 0 0 0 0 0 0 0 0 1 1 1 1 1 1 1 1 1 1 1 1 1 1 1 1 1 1 1 1\n",
            " 1 1 1 1 1 1 1 1 1 1 2 2 2 2 2 2 2 2 2 2 2 2 2 2 2 2 2 2 2 2 2 2 2 2 2 2 2\n",
            " 2 2 2 2 2 2 2 2 2 2 2 2 2 2 2 2 2 2 2 2 2 2 2 2 2 2 2 2 2 2 2 2 2 2 2 2 2\n",
            " 2 2 2 2 2 2 2 2 2 2 2 2 2 2 2 2 2 2 2 2 2 2 2 2 2 2 2 2 2 2 2 2 2 2 2 2 2\n",
            " 2 2 2 2 2 2 2 2 2 2 2 2 2 2 2 2 2 2 2 2 2 2 2 2 2 2 2 2 2 2 2 2 2 2 2 2 2\n",
            " 2 2 2 2 2 2 2 2 2 2 2]\n",
            "prediction: [2 2 2 2 2 0 0 0 0 2 1 0 0 0 0 0 0 0 0 0 2 0 2 0 0 0 0 0 0 2 0 0 0 0 0 0 0\n",
            " 0 0 0 0 0 0 0 0 0 0 0 0 0 0 0 0 0 2 2 0 0 0 0 0 2 0 0 0 2 1 0 2 0 0 0 0 0\n",
            " 0 0 0 0 0 0 0 0 2 0 0 0 0 0 0 0 0 0 0 0 0 0 0 0 0 2 2 0 2 0 0 0 0 0 0 0 0\n",
            " 0 0 0 0 0 0 2 0 0 0 0 0 0 2 0 0 0 2 2 1 2 2 2 0 1 2 1 0 0 0 1 2 2 2 2 1 2\n",
            " 2 2 0 0 0 2 0 1 2 0 2 2 0 2 2 2 0 2 2 0 2 2 2 2 2 2 2 2 2 2 2 2 1 0 2 2 2\n",
            " 2 0 2 2 2 2 2 2 0 2 2 2 2 1 2 2 0 2 2 1 2 2 2 1 0 0 2 2 2 0 2 2 2 2 2 2 2\n",
            " 2 2 2 1 0 2 0 2 0 0 0 2 2 2 0 2 2 2 0 2 2 2 2 2 2 0 2 2 0 2 2 0 2 0 2 1 2\n",
            " 2 2 0 2 2 2 2 2 2 0 0 0 2 2 1 0 2 0 2 2 2 2 2 2 2 2 2 2 2 2 0 0 1 0 2 2 2\n",
            " 2 2 2 0 0 2 2 1 0 2 2]\n",
            "*** accuracy ***\n",
            "71.33550488599349\n",
            "*** confusion matrix ***\n",
            "[[106   2  20]\n",
            " [  9   6  15]\n",
            " [ 33   9 107]]\n",
            "82.8125 20.0 71.81208053691275\n",
            "76.53631284916202 96.028880866426 77.84810126582279\n",
            "/content/aug_dataset/test.csv number of data -> 307\n",
            "ground truth: [0 0 0 0 0 0 0 0 0 0 0 0 0 0 0 0 0 0 0 0 0 0 0 0 0 0 0 0 0 0 0 0 0 0 0 0 0\n",
            " 0 0 0 0 0 0 0 0 0 0 0 0 0 0 0 0 0 0 0 0 0 0 0 0 0 0 0 0 0 0 0 0 0 0 0 0 0\n",
            " 0 0 0 0 0 0 0 0 0 0 0 0 0 0 0 0 0 0 0 0 0 0 0 0 0 0 0 0 0 0 0 0 0 0 0 0 0\n",
            " 0 0 0 0 0 0 0 0 0 0 0 0 0 0 0 0 0 1 1 1 1 1 1 1 1 1 1 1 1 1 1 1 1 1 1 1 1\n",
            " 1 1 1 1 1 1 1 1 1 1 2 2 2 2 2 2 2 2 2 2 2 2 2 2 2 2 2 2 2 2 2 2 2 2 2 2 2\n",
            " 2 2 2 2 2 2 2 2 2 2 2 2 2 2 2 2 2 2 2 2 2 2 2 2 2 2 2 2 2 2 2 2 2 2 2 2 2\n",
            " 2 2 2 2 2 2 2 2 2 2 2 2 2 2 2 2 2 2 2 2 2 2 2 2 2 2 2 2 2 2 2 2 2 2 2 2 2\n",
            " 2 2 2 2 2 2 2 2 2 2 2 2 2 2 2 2 2 2 2 2 2 2 2 2 2 2 2 2 2 2 2 2 2 2 2 2 2\n",
            " 2 2 2 2 2 2 2 2 2 2 2]\n",
            "prediction: [0 0 2 2 0 0 0 0 0 2 2 0 0 0 0 0 0 2 0 0 2 0 2 0 2 0 0 0 2 2 0 0 0 0 0 0 0\n",
            " 0 0 0 0 0 0 0 0 0 0 0 0 0 0 0 0 0 2 2 0 0 0 0 0 1 0 0 0 0 1 2 2 0 0 0 0 0\n",
            " 0 0 0 0 0 0 0 0 2 0 0 0 0 0 0 0 0 0 0 0 0 0 0 0 0 2 2 0 2 0 0 0 0 0 0 0 0\n",
            " 0 0 0 0 0 0 2 0 0 0 0 0 0 2 0 0 0 2 2 1 2 2 2 0 1 2 1 0 2 2 2 2 2 2 1 1 2\n",
            " 2 2 2 0 2 2 0 1 2 0 2 2 2 2 2 2 0 2 0 0 2 2 2 2 2 2 2 2 2 2 2 2 2 2 2 2 2\n",
            " 2 2 2 2 2 2 0 2 0 2 2 2 2 1 2 2 0 2 2 2 2 2 2 1 0 0 2 0 2 0 2 2 0 2 2 2 2\n",
            " 2 2 2 1 0 2 2 2 2 0 0 2 2 1 0 2 2 2 0 1 2 2 2 2 0 0 0 2 2 0 0 0 2 0 2 2 2\n",
            " 2 0 0 2 1 2 2 2 1 2 0 0 2 2 1 0 2 0 2 2 2 2 2 2 2 2 2 2 2 2 2 0 2 0 2 2 1\n",
            " 2 2 2 2 0 2 2 1 0 0 2]\n",
            "*** accuracy ***\n",
            "70.68403908794788\n",
            "*** confusion matrix ***\n",
            "[[106   2  20]\n",
            " [  5   6  19]\n",
            " [ 34  10 105]]\n",
            "82.8125 20.0 70.46979865771812\n",
            "78.2122905027933 95.66787003610109 75.31645569620254\n",
            "/content/aug_dataset/test.csv number of data -> 307\n",
            "ground truth: [0 0 0 0 0 0 0 0 0 0 0 0 0 0 0 0 0 0 0 0 0 0 0 0 0 0 0 0 0 0 0 0 0 0 0 0 0\n",
            " 0 0 0 0 0 0 0 0 0 0 0 0 0 0 0 0 0 0 0 0 0 0 0 0 0 0 0 0 0 0 0 0 0 0 0 0 0\n",
            " 0 0 0 0 0 0 0 0 0 0 0 0 0 0 0 0 0 0 0 0 0 0 0 0 0 0 0 0 0 0 0 0 0 0 0 0 0\n",
            " 0 0 0 0 0 0 0 0 0 0 0 0 0 0 0 0 0 1 1 1 1 1 1 1 1 1 1 1 1 1 1 1 1 1 1 1 1\n",
            " 1 1 1 1 1 1 1 1 1 1 2 2 2 2 2 2 2 2 2 2 2 2 2 2 2 2 2 2 2 2 2 2 2 2 2 2 2\n",
            " 2 2 2 2 2 2 2 2 2 2 2 2 2 2 2 2 2 2 2 2 2 2 2 2 2 2 2 2 2 2 2 2 2 2 2 2 2\n",
            " 2 2 2 2 2 2 2 2 2 2 2 2 2 2 2 2 2 2 2 2 2 2 2 2 2 2 2 2 2 2 2 2 2 2 2 2 2\n",
            " 2 2 2 2 2 2 2 2 2 2 2 2 2 2 2 2 2 2 2 2 2 2 2 2 2 2 2 2 2 2 2 2 2 2 2 2 2\n",
            " 2 2 2 2 2 2 2 2 2 2 2]\n",
            "prediction: [2 0 2 2 2 0 0 0 0 2 2 0 0 0 0 0 1 0 0 0 2 0 0 1 0 0 0 0 2 1 0 0 0 0 0 0 0\n",
            " 1 0 0 0 0 0 0 0 0 0 0 2 0 0 0 0 0 2 2 0 0 0 0 0 2 0 0 0 2 2 2 2 0 0 0 0 0\n",
            " 0 0 0 0 0 0 0 0 2 0 0 0 0 0 0 0 0 0 0 0 0 0 0 0 0 2 2 0 2 0 0 0 0 0 0 0 0\n",
            " 0 0 0 0 0 0 2 0 0 0 0 0 0 2 0 0 1 2 2 1 2 2 2 0 1 2 1 0 1 2 2 0 1 1 2 1 2\n",
            " 1 1 1 0 1 2 0 1 2 0 2 2 0 2 0 2 0 2 2 2 2 1 2 2 2 2 2 2 1 2 2 2 2 0 2 2 2\n",
            " 2 1 2 1 2 2 0 2 0 2 2 2 2 1 2 2 0 2 2 1 2 2 2 1 1 0 2 2 2 2 2 2 2 0 2 2 2\n",
            " 2 2 2 1 0 2 2 2 2 1 0 2 2 2 2 2 2 2 0 2 2 2 2 2 0 0 0 2 2 1 0 0 2 0 1 1 2\n",
            " 2 2 0 2 1 0 2 2 1 2 0 0 2 2 1 0 2 0 2 2 2 2 2 2 2 2 2 2 2 2 0 2 2 0 2 2 1\n",
            " 2 2 2 2 0 2 2 1 0 0 1]\n",
            "*** accuracy ***\n",
            "69.70684039087948\n",
            "*** confusion matrix ***\n",
            "[[101   5  22]\n",
            " [  6  12  12]\n",
            " [ 29  19 101]]\n",
            "78.90625 40.0 67.78523489932886\n",
            "80.44692737430168 91.33574007220217 78.48101265822784\n",
            "/content/aug_dataset/test.csv number of data -> 307\n",
            "ground truth: [0 0 0 0 0 0 0 0 0 0 0 0 0 0 0 0 0 0 0 0 0 0 0 0 0 0 0 0 0 0 0 0 0 0 0 0 0\n",
            " 0 0 0 0 0 0 0 0 0 0 0 0 0 0 0 0 0 0 0 0 0 0 0 0 0 0 0 0 0 0 0 0 0 0 0 0 0\n",
            " 0 0 0 0 0 0 0 0 0 0 0 0 0 0 0 0 0 0 0 0 0 0 0 0 0 0 0 0 0 0 0 0 0 0 0 0 0\n",
            " 0 0 0 0 0 0 0 0 0 0 0 0 0 0 0 0 0 1 1 1 1 1 1 1 1 1 1 1 1 1 1 1 1 1 1 1 1\n",
            " 1 1 1 1 1 1 1 1 1 1 2 2 2 2 2 2 2 2 2 2 2 2 2 2 2 2 2 2 2 2 2 2 2 2 2 2 2\n",
            " 2 2 2 2 2 2 2 2 2 2 2 2 2 2 2 2 2 2 2 2 2 2 2 2 2 2 2 2 2 2 2 2 2 2 2 2 2\n",
            " 2 2 2 2 2 2 2 2 2 2 2 2 2 2 2 2 2 2 2 2 2 2 2 2 2 2 2 2 2 2 2 2 2 2 2 2 2\n",
            " 2 2 2 2 2 2 2 2 2 2 2 2 2 2 2 2 2 2 2 2 2 2 2 2 2 2 2 2 2 2 2 2 2 2 2 2 2\n",
            " 2 2 2 2 2 2 2 2 2 2 2]\n",
            "prediction: [2 0 2 2 2 0 0 0 0 2 2 0 0 0 0 0 2 0 0 0 2 0 2 0 0 0 0 0 2 2 0 0 0 0 0 2 0\n",
            " 0 0 0 0 0 0 0 0 0 0 0 0 0 0 0 0 0 2 2 0 0 0 0 0 1 0 0 0 2 2 2 0 0 0 0 0 0\n",
            " 0 0 0 0 0 0 0 0 2 0 0 0 0 0 0 0 0 0 0 0 0 0 0 0 0 2 0 0 2 2 0 0 0 0 0 0 0\n",
            " 0 0 0 0 0 0 2 0 0 0 0 0 0 2 0 0 2 2 2 2 1 2 2 0 1 2 1 0 0 0 2 2 2 2 1 1 2\n",
            " 2 2 0 0 2 2 0 1 2 0 2 2 0 2 0 2 0 2 2 0 2 2 2 2 2 2 2 2 2 2 2 2 2 2 2 2 2\n",
            " 2 2 2 2 2 2 2 2 0 2 2 2 2 2 2 2 0 2 2 2 2 2 2 0 0 0 2 2 2 2 2 2 2 2 2 2 2\n",
            " 2 2 2 1 0 2 0 2 2 0 0 2 2 2 2 2 2 2 0 1 2 2 2 2 0 0 0 2 0 2 2 0 2 0 2 2 2\n",
            " 2 2 0 2 2 0 2 2 2 2 0 0 2 2 1 0 2 0 2 2 2 2 2 2 2 2 2 2 2 2 2 0 0 0 2 2 1\n",
            " 2 2 2 0 0 2 2 1 0 2 1]\n",
            "*** accuracy ***\n",
            "71.66123778501628\n",
            "*** confusion matrix ***\n",
            "[[103   1  24]\n",
            " [  8   6  16]\n",
            " [ 32   6 111]]\n",
            "80.46875 20.0 74.49664429530202\n",
            "77.6536312849162 97.47292418772562 74.68354430379746\n",
            "/content/aug_dataset/test.csv number of data -> 307\n",
            "ground truth: [0 0 0 0 0 0 0 0 0 0 0 0 0 0 0 0 0 0 0 0 0 0 0 0 0 0 0 0 0 0 0 0 0 0 0 0 0\n",
            " 0 0 0 0 0 0 0 0 0 0 0 0 0 0 0 0 0 0 0 0 0 0 0 0 0 0 0 0 0 0 0 0 0 0 0 0 0\n",
            " 0 0 0 0 0 0 0 0 0 0 0 0 0 0 0 0 0 0 0 0 0 0 0 0 0 0 0 0 0 0 0 0 0 0 0 0 0\n",
            " 0 0 0 0 0 0 0 0 0 0 0 0 0 0 0 0 0 1 1 1 1 1 1 1 1 1 1 1 1 1 1 1 1 1 1 1 1\n",
            " 1 1 1 1 1 1 1 1 1 1 2 2 2 2 2 2 2 2 2 2 2 2 2 2 2 2 2 2 2 2 2 2 2 2 2 2 2\n",
            " 2 2 2 2 2 2 2 2 2 2 2 2 2 2 2 2 2 2 2 2 2 2 2 2 2 2 2 2 2 2 2 2 2 2 2 2 2\n",
            " 2 2 2 2 2 2 2 2 2 2 2 2 2 2 2 2 2 2 2 2 2 2 2 2 2 2 2 2 2 2 2 2 2 2 2 2 2\n",
            " 2 2 2 2 2 2 2 2 2 2 2 2 2 2 2 2 2 2 2 2 2 2 2 2 2 2 2 2 2 2 2 2 2 2 2 2 2\n",
            " 2 2 2 2 2 2 2 2 2 2 2]\n",
            "prediction: [2 0 2 2 2 0 0 0 0 2 2 0 0 0 0 0 0 0 0 0 2 0 2 0 0 0 0 0 0 1 0 0 0 0 0 0 0\n",
            " 0 0 0 0 0 0 0 0 0 0 0 0 0 0 0 0 0 2 2 0 0 0 0 0 2 0 0 0 2 2 0 2 0 0 0 0 0\n",
            " 0 0 0 0 0 0 0 0 2 0 0 0 0 0 0 0 0 0 0 0 0 0 0 0 0 2 2 0 2 0 0 0 0 0 0 0 0\n",
            " 0 0 0 0 0 0 2 0 0 2 0 0 0 2 0 0 2 2 2 2 2 2 2 0 1 1 1 0 2 2 2 0 2 2 1 1 2\n",
            " 2 1 0 0 0 2 0 1 2 0 2 0 2 2 2 2 0 2 2 2 2 2 2 2 2 2 2 2 0 2 2 2 2 2 2 2 2\n",
            " 2 2 2 2 2 2 0 2 0 2 2 2 2 2 2 2 0 2 2 1 2 2 2 1 0 0 0 2 2 0 2 2 2 2 2 2 2\n",
            " 2 2 2 1 0 2 2 2 0 0 0 2 2 1 0 2 2 2 0 2 2 2 2 2 0 0 2 2 0 2 2 0 2 0 2 2 2\n",
            " 2 2 0 2 2 2 2 2 2 0 0 0 2 2 1 0 2 0 2 2 2 2 2 2 2 2 2 2 2 2 0 0 1 2 2 2 1\n",
            " 2 2 2 0 0 2 2 2 0 2 2]\n",
            "*** accuracy ***\n",
            "72.31270358306189\n",
            "*** confusion matrix ***\n",
            "[[105   1  22]\n",
            " [  8   7  15]\n",
            " [ 32   7 110]]\n",
            "82.03125 23.333333333333332 73.8255033557047\n",
            "77.6536312849162 97.11191335740072 76.58227848101265\n",
            "Accuaracy_mean 71.14006514657981\n",
            "Accuaracy_std 0.8884808923117824\n",
            "Cyst_sensitivity_mean 81.40625\n",
            "Cyst_sensitivity_std 1.5148999554426028\n",
            "Cyst_specificity_mean 78.10055865921788\n",
            "Cyst_specificity_std 1.2933895980771204\n",
            "Hema_sensitivity_mean 24.666666666666664\n",
            "Hema_sensitivity_std 7.7746025264604\n",
            "Hema_specificity_mean 95.52346570397111\n",
            "Hema_specificity_std 2.1971298273939235\n",
            "Meta_sensitivity_mean 71.67785234899328\n",
            "Meta_sensitivity_std 2.4161073825503383\n",
            "Meta_specificity_mean 76.58227848101266\n",
            "Meta_specificity_std 1.4432600317710604\n"
          ]
        }
      ]
    },
    {
      "cell_type": "code",
      "source": [],
      "metadata": {
        "id": "4hpsKYIrtvdX"
      },
      "execution_count": null,
      "outputs": []
    }
  ]
}