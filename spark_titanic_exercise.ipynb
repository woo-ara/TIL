{
  "cells": [
    {
      "cell_type": "markdown",
      "metadata": {},
      "source": [
        "### BOAZ 엔지니어 세션 \n",
        "2022.10 우아라"
      ]
    },
    {
      "cell_type": "markdown",
      "metadata": {
        "application/vnd.databricks.v1+cell": {
          "inputWidgets": {},
          "nuid": "11360c94-65f0-4b5e-a4ed-2bffd74d0d2b",
          "showTitle": false,
          "title": ""
        },
        "id": "-kGlWnq9hu21"
      },
      "source": [
        "### Titanic 데이터 EDA 수행."
      ]
    },
    {
      "cell_type": "code",
      "execution_count": 1,
      "metadata": {
        "colab": {
          "base_uri": "https://localhost:8080/"
        },
        "id": "baaZxB3kj6rQ",
        "outputId": "81e64892-7468-4d68-f78b-9888d225ff45"
      },
      "outputs": [
        {
          "name": "stdout",
          "output_type": "stream",
          "text": [
            "Mounted at /content/drive\n"
          ]
        }
      ],
      "source": [
        "from google.colab import drive\n",
        "drive.mount('/content/drive')"
      ]
    },
    {
      "cell_type": "code",
      "execution_count": 2,
      "metadata": {
        "colab": {
          "base_uri": "https://localhost:8080/"
        },
        "id": "Iz3-aNf1kpnb",
        "outputId": "34eca3f2-f074-46fb-d9dc-5d472dcacf80"
      },
      "outputs": [
        {
          "name": "stdout",
          "output_type": "stream",
          "text": [
            "Looking in indexes: https://pypi.org/simple, https://us-python.pkg.dev/colab-wheels/public/simple/\n",
            "Collecting pyspark\n",
            "  Downloading pyspark-3.3.0.tar.gz (281.3 MB)\n",
            "\u001b[K     |████████████████████████████████| 281.3 MB 56 kB/s \n",
            "\u001b[?25hCollecting py4j==0.10.9.5\n",
            "  Downloading py4j-0.10.9.5-py2.py3-none-any.whl (199 kB)\n",
            "\u001b[K     |████████████████████████████████| 199 kB 85.6 MB/s \n",
            "\u001b[?25hBuilding wheels for collected packages: pyspark\n",
            "  Building wheel for pyspark (setup.py) ... \u001b[?25l\u001b[?25hdone\n",
            "  Created wheel for pyspark: filename=pyspark-3.3.0-py2.py3-none-any.whl size=281764026 sha256=686647e1f7731b6a91e0902d18388745eaf04446515ef3f3f4b0c1663818883b\n",
            "  Stored in directory: /root/.cache/pip/wheels/7a/8e/1b/f73a52650d2e5f337708d9f6a1750d451a7349a867f928b885\n",
            "Successfully built pyspark\n",
            "Installing collected packages: py4j, pyspark\n",
            "Successfully installed py4j-0.10.9.5 pyspark-3.3.0\n"
          ]
        }
      ],
      "source": [
        "!pip install pyspark\n",
        "!pip install -q findspark"
      ]
    },
    {
      "cell_type": "code",
      "execution_count": 3,
      "metadata": {
        "colab": {
          "base_uri": "https://localhost:8080/",
          "height": 35
        },
        "id": "PzoQZc31yfKP",
        "outputId": "3a177730-70be-45aa-8418-74c896457e2f"
      },
      "outputs": [
        {
          "data": {
            "application/vnd.google.colaboratory.intrinsic+json": {
              "type": "string"
            },
            "text/plain": [
              "'3.3.0'"
            ]
          },
          "execution_count": 3,
          "metadata": {},
          "output_type": "execute_result"
        }
      ],
      "source": [
        "from pyspark.sql import SparkSession\n",
        "spark = SparkSession.builder.master(\"local\").appName(\"learn-sql\").getOrCreate()\n",
        "\n",
        "import findspark\n",
        "findspark.init()\n",
        "\n",
        "spark.version"
      ]
    },
    {
      "cell_type": "code",
      "execution_count": 5,
      "metadata": {
        "application/vnd.databricks.v1+cell": {
          "inputWidgets": {},
          "nuid": "1eb8f763-9d0b-4a7b-93d3-4ff11e40c114",
          "showTitle": false,
          "title": ""
        },
        "colab": {
          "base_uri": "https://localhost:8080/"
        },
        "id": "pKAl2d4Bhu23",
        "outputId": "fb32193b-aa2f-4477-e6d1-6910fb09d6de"
      },
      "outputs": [
        {
          "name": "stdout",
          "output_type": "stream",
          "text": [
            "+-----------+--------+------+--------------------+------+----+-----+-----+----------------+-------+-----+--------+\n",
            "|PassengerId|Survived|Pclass|                Name|   Sex| Age|SibSp|Parch|          Ticket|   Fare|Cabin|Embarked|\n",
            "+-----------+--------+------+--------------------+------+----+-----+-----+----------------+-------+-----+--------+\n",
            "|          1|       0|     3|Braund, Mr. Owen ...|  male|22.0|    1|    0|       A/5 21171|   7.25| null|       S|\n",
            "|          2|       1|     1|Cumings, Mrs. Joh...|female|38.0|    1|    0|        PC 17599|71.2833|  C85|       C|\n",
            "|          3|       1|     3|Heikkinen, Miss. ...|female|26.0|    0|    0|STON/O2. 3101282|  7.925| null|       S|\n",
            "|          4|       1|     1|Futrelle, Mrs. Ja...|female|35.0|    1|    0|          113803|   53.1| C123|       S|\n",
            "|          5|       0|     3|Allen, Mr. Willia...|  male|35.0|    0|    0|          373450|   8.05| null|       S|\n",
            "|          6|       0|     3|    Moran, Mr. James|  male|null|    0|    0|          330877| 8.4583| null|       Q|\n",
            "|          7|       0|     1|McCarthy, Mr. Tim...|  male|54.0|    0|    0|           17463|51.8625|  E46|       S|\n",
            "|          8|       0|     3|Palsson, Master. ...|  male| 2.0|    3|    1|          349909| 21.075| null|       S|\n",
            "|          9|       1|     3|Johnson, Mrs. Osc...|female|27.0|    0|    2|          347742|11.1333| null|       S|\n",
            "|         10|       1|     2|Nasser, Mrs. Nich...|female|14.0|    1|    0|          237736|30.0708| null|       C|\n",
            "+-----------+--------+------+--------------------+------+----+-----+-----+----------------+-------+-----+--------+\n",
            "\n"
          ]
        }
      ],
      "source": [
        "# spark.read.csv() 메소드를 이용하여 csv 파일을 로드하고 DataFrame으로 변환. \n",
        "# pandas_df = pd.read_csv('/content/drive/MyDrive/SparkML/titanic/train.csv', header='infer')\n",
        "titanic_sdf = spark.read.csv('/content/drive/MyDrive/SparkML/titanic/train.csv', header=True, inferSchema=True)\n",
        "\n",
        "# pandas DataFrame을 spark DataFrame으로 부터 생성. \n",
        "titanic_pdf = titanic_sdf.select('*').toPandas()\n",
        "\n",
        "# display(titanic_sdf.limit(10))\n",
        "titanic_sdf.limit(10).show()"
      ]
    },
    {
      "cell_type": "markdown",
      "metadata": {
        "application/vnd.databricks.v1+cell": {
          "inputWidgets": {},
          "nuid": "11e45dcd-3d85-4bf3-9670-52e193cca91f",
          "showTitle": false,
          "title": ""
        },
        "id": "lRjLL-MQhu24"
      },
      "source": [
        "* Passengerid: 탑승자 데이터 일련번호\n",
        "* survived: 생존 여부, 0 = 사망, 1 = 생존\n",
        "* Pclass: 티켓의 선실 등급, 1 = 일등석, 2 = 이등석, 3 = 삼등석\n",
        "* sex: 탑승자 성별\n",
        "* name: 탑승자 이름\n",
        "* Age: 탑승자 나이\n",
        "* sibsp: 같이 탑승한 형제자매 또는 배우자 인원수\n",
        "* parch: 같이 탑승한 부모님 또는 어린이 인원수\n",
        "* ticket: 티켓 번호\n",
        "* fare: 요금\n",
        "* cabin: 선실 번호\n",
        "* embarked: 중간 정착 항구 C = Cherbourg, Q = Queenstown, S = Southampton"
      ]
    },
    {
      "cell_type": "code",
      "execution_count": 6,
      "metadata": {
        "application/vnd.databricks.v1+cell": {
          "inputWidgets": {},
          "nuid": "21090731-ad89-4cbb-99aa-0281f958fdff",
          "showTitle": false,
          "title": ""
        },
        "colab": {
          "base_uri": "https://localhost:8080/"
        },
        "id": "Ztz2pF_4hu25",
        "outputId": "8ba6bb67-e9a1-497a-ca9e-692015e4ff7f"
      },
      "outputs": [
        {
          "name": "stdout",
          "output_type": "stream",
          "text": [
            "<class 'pandas.core.frame.DataFrame'>\n",
            "RangeIndex: 891 entries, 0 to 890\n",
            "Data columns (total 12 columns):\n",
            " #   Column       Non-Null Count  Dtype  \n",
            "---  ------       --------------  -----  \n",
            " 0   PassengerId  891 non-null    int32  \n",
            " 1   Survived     891 non-null    int32  \n",
            " 2   Pclass       891 non-null    int32  \n",
            " 3   Name         891 non-null    object \n",
            " 4   Sex          891 non-null    object \n",
            " 5   Age          714 non-null    float64\n",
            " 6   SibSp        891 non-null    int32  \n",
            " 7   Parch        891 non-null    int32  \n",
            " 8   Ticket       891 non-null    object \n",
            " 9   Fare         891 non-null    float64\n",
            " 10  Cabin        204 non-null    object \n",
            " 11  Embarked     889 non-null    object \n",
            "dtypes: float64(2), int32(5), object(5)\n",
            "memory usage: 66.3+ KB\n"
          ]
        }
      ],
      "source": [
        "titanic_pdf.info()"
      ]
    },
    {
      "cell_type": "code",
      "execution_count": 7,
      "metadata": {
        "application/vnd.databricks.v1+cell": {
          "inputWidgets": {},
          "nuid": "b10b9911-7045-46e8-a076-e147ffb49cc1",
          "showTitle": false,
          "title": ""
        },
        "colab": {
          "base_uri": "https://localhost:8080/"
        },
        "id": "jaNS0eNehu25",
        "outputId": "1cefb881-d4f8-4cfc-fc0b-8e2e962d7af8"
      },
      "outputs": [
        {
          "name": "stdout",
          "output_type": "stream",
          "text": [
            "root\n",
            " |-- PassengerId: integer (nullable = true)\n",
            " |-- Survived: integer (nullable = true)\n",
            " |-- Pclass: integer (nullable = true)\n",
            " |-- Name: string (nullable = true)\n",
            " |-- Sex: string (nullable = true)\n",
            " |-- Age: double (nullable = true)\n",
            " |-- SibSp: integer (nullable = true)\n",
            " |-- Parch: integer (nullable = true)\n",
            " |-- Ticket: string (nullable = true)\n",
            " |-- Fare: double (nullable = true)\n",
            " |-- Cabin: string (nullable = true)\n",
            " |-- Embarked: string (nullable = true)\n",
            "\n"
          ]
        }
      ],
      "source": [
        "# titanic_sdf 의 schema 확인\n",
        "titanic_sdf.printSchema()"
      ]
    },
    {
      "cell_type": "code",
      "execution_count": 8,
      "metadata": {
        "application/vnd.databricks.v1+cell": {
          "inputWidgets": {},
          "nuid": "15f3cac5-9b40-4975-99af-c4c21b705740",
          "showTitle": false,
          "title": ""
        },
        "colab": {
          "base_uri": "https://localhost:8080/"
        },
        "id": "Uf68UoBDhu25",
        "outputId": "3b29f3af-8e61-490d-bb14-340661468b6d"
      },
      "outputs": [
        {
          "name": "stdout",
          "output_type": "stream",
          "text": [
            "+-----------+--------+------+----+---+---+-----+-----+------+----+-----+--------+\n",
            "|PassengerId|Survived|Pclass|Name|Sex|Age|SibSp|Parch|Ticket|Fare|Cabin|Embarked|\n",
            "+-----------+--------+------+----+---+---+-----+-----+------+----+-----+--------+\n",
            "|          0|       0|     0|   0|  0|177|    0|    0|     0|   0|  687|       2|\n",
            "+-----------+--------+------+----+---+---+-----+-----+------+----+-----+--------+\n",
            "\n"
          ]
        }
      ],
      "source": [
        "# 컬럼별로 Null 인 경우만 count하는 select 로직.\n",
        "import pyspark.sql.functions as F\n",
        "\n",
        "titanic_sdf.select([F.count(F.when(F.col(c).isNull()|F.isnan(c), c)).alias(c) for c in titanic_sdf.columns]).show()"
      ]
    },
    {
      "cell_type": "code",
      "execution_count": 9,
      "metadata": {
        "application/vnd.databricks.v1+cell": {
          "inputWidgets": {},
          "nuid": "2e1b87b6-dfe4-471c-9415-e93cf9474f20",
          "showTitle": false,
          "title": ""
        },
        "colab": {
          "base_uri": "https://localhost:8080/"
        },
        "id": "YmCUHKyvhu25",
        "outputId": "53a87a58-9c8f-4109-ea49-b918b7fe8655"
      },
      "outputs": [
        {
          "name": "stdout",
          "output_type": "stream",
          "text": [
            "+-------+-----------------+-------------------+------------------+--------------------+------+------------------+------------------+-------------------+------------------+-----------------+-----+--------+\n",
            "|summary|      PassengerId|           Survived|            Pclass|                Name|   Sex|               Age|             SibSp|              Parch|            Ticket|             Fare|Cabin|Embarked|\n",
            "+-------+-----------------+-------------------+------------------+--------------------+------+------------------+------------------+-------------------+------------------+-----------------+-----+--------+\n",
            "|  count|              891|                891|               891|                 891|   891|               714|               891|                891|               891|              891|  204|     889|\n",
            "|   mean|            446.0| 0.3838383838383838| 2.308641975308642|                null|  null| 29.69911764705882|0.5230078563411896|0.38159371492704824|260318.54916792738| 32.2042079685746| null|    null|\n",
            "| stddev|257.3538420152301|0.48659245426485753|0.8360712409770491|                null|  null|14.526497332334035|1.1027434322934315| 0.8060572211299488|471609.26868834975|49.69342859718089| null|    null|\n",
            "|    min|                1|                  0|                 1|\"Andersson, Mr. A...|female|              0.42|                 0|                  0|            110152|              0.0|  A10|       C|\n",
            "|    max|              891|                  1|                 3|van Melkebeke, Mr...|  male|              80.0|                 8|                  6|         WE/P 5735|         512.3292|    T|       S|\n",
            "+-------+-----------------+-------------------+------------------+--------------------+------+------------------+------------------+-------------------+------------------+-----------------+-----+--------+\n",
            "\n"
          ]
        }
      ],
      "source": [
        "titanic_sdf.describe().show()"
      ]
    },
    {
      "cell_type": "code",
      "execution_count": 10,
      "metadata": {
        "application/vnd.databricks.v1+cell": {
          "inputWidgets": {},
          "nuid": "f8c4a192-4ca7-4238-b670-3b90778b7954",
          "showTitle": false,
          "title": ""
        },
        "colab": {
          "base_uri": "https://localhost:8080/"
        },
        "id": "Q2OGoOt2hu26",
        "outputId": "d951de06-be1b-4f54-c2f1-9e78c5dfdc44"
      },
      "outputs": [
        {
          "name": "stdout",
          "output_type": "stream",
          "text": [
            "#### Survived value count #### \n",
            "+--------+-----+\n",
            "|Survived|count|\n",
            "+--------+-----+\n",
            "|       1|  342|\n",
            "|       0|  549|\n",
            "+--------+-----+\n",
            "\n",
            "None\n",
            "#### Pclass value count #####\n",
            "+------+-----+\n",
            "|Pclass|count|\n",
            "+------+-----+\n",
            "|     1|  216|\n",
            "|     3|  491|\n",
            "|     2|  184|\n",
            "+------+-----+\n",
            "\n",
            "None\n"
          ]
        }
      ],
      "source": [
        "print(\"#### Survived value count #### \")\n",
        "print(titanic_sdf.groupBy('Survived').count().show())\n",
        "print(\"#### Pclass value count #####\")\n",
        "print(titanic_sdf.groupBy('Pclass').count().show())"
      ]
    },
    {
      "cell_type": "code",
      "execution_count": 11,
      "metadata": {
        "application/vnd.databricks.v1+cell": {
          "inputWidgets": {},
          "nuid": "638fdf5f-93e8-4e22-ab78-165195ba4b4d",
          "showTitle": false,
          "title": ""
        },
        "colab": {
          "base_uri": "https://localhost:8080/"
        },
        "id": "uhGkrPjMhu26",
        "outputId": "430c24a5-f12c-4bb8-b715-7ae83949d848"
      },
      "outputs": [
        {
          "name": "stdout",
          "output_type": "stream",
          "text": [
            "##### Survived value counts ######\n",
            "+--------+-----+\n",
            "|Survived|count|\n",
            "+--------+-----+\n",
            "|       1|  342|\n",
            "|       0|  549|\n",
            "+--------+-----+\n",
            "\n",
            "##### Pclass value counts ######\n",
            "+------+-----+\n",
            "|Pclass|count|\n",
            "+------+-----+\n",
            "|     1|  216|\n",
            "|     3|  491|\n",
            "|     2|  184|\n",
            "+------+-----+\n",
            "\n",
            "##### Sex value counts ######\n",
            "+------+-----+\n",
            "|   Sex|count|\n",
            "+------+-----+\n",
            "|female|  314|\n",
            "|  male|  577|\n",
            "+------+-----+\n",
            "\n",
            "##### Ticket value counts ######\n",
            "+----------------+-----+\n",
            "|          Ticket|count|\n",
            "+----------------+-----+\n",
            "|          367230|    2|\n",
            "|       P/PP 3381|    2|\n",
            "|          244270|    1|\n",
            "|          363291|    3|\n",
            "|SOTON/OQ 3101317|    1|\n",
            "|           31418|    1|\n",
            "|           26360|    2|\n",
            "|            2700|    1|\n",
            "|           14313|    1|\n",
            "|          345763|    1|\n",
            "|       A/5 21172|    1|\n",
            "|          364500|    1|\n",
            "|           19877|    2|\n",
            "|          350029|    1|\n",
            "|          113800|    1|\n",
            "|      A/4. 39886|    1|\n",
            "|       C.A. 2673|    2|\n",
            "|          113807|    1|\n",
            "|        PC 17604|    2|\n",
            "|       C.A. 2315|    2|\n",
            "+----------------+-----+\n",
            "only showing top 20 rows\n",
            "\n",
            "##### Cabin value counts ######\n",
            "+-------+-----+\n",
            "|  Cabin|count|\n",
            "+-------+-----+\n",
            "|    A23|    1|\n",
            "|    B79|    1|\n",
            "|    E44|    2|\n",
            "|  F E69|    1|\n",
            "|    D28|    1|\n",
            "|    C78|    2|\n",
            "|    C95|    1|\n",
            "|  F G73|    2|\n",
            "|B58 B60|    2|\n",
            "|     D7|    1|\n",
            "|   C128|    1|\n",
            "|    B39|    1|\n",
            "|    B22|    2|\n",
            "|   C110|    1|\n",
            "|    D21|    1|\n",
            "|     F2|    3|\n",
            "|    B30|    1|\n",
            "|   C104|    1|\n",
            "|    B50|    1|\n",
            "|     A6|    1|\n",
            "+-------+-----+\n",
            "only showing top 20 rows\n",
            "\n",
            "##### Embarked value counts ######\n",
            "+--------+-----+\n",
            "|Embarked|count|\n",
            "+--------+-----+\n",
            "|       Q|   77|\n",
            "|    null|    2|\n",
            "|       C|  168|\n",
            "|       S|  644|\n",
            "+--------+-----+\n",
            "\n"
          ]
        }
      ],
      "source": [
        "groupby_cols = ['Survived', 'Pclass', 'Sex', 'Ticket', 'Cabin', 'Embarked']\n",
        "\n",
        "for groupby_col in groupby_cols:\n",
        "    print('##### ' + groupby_col + ' value counts ######')\n",
        "    titanic_sdf.groupBy(groupby_col).count().show()"
      ]
    },
    {
      "cell_type": "markdown",
      "metadata": {
        "application/vnd.databricks.v1+cell": {
          "inputWidgets": {},
          "nuid": "cfbee4d5-e256-4008-b066-c71e6ad99892",
          "showTitle": false,
          "title": ""
        },
        "id": "hKspjacahu27"
      },
      "source": [
        "### 내장 그래프 기능을 활용한 EDA\n",
        "* Spark DataFrame은 matplotlib 등의 파이썬 시각화 라이브러리와 바로 연동할 수 없음. \n",
        "* 내장된 그래프 기능을 통해 SQL 수행 결과를 다양한 그래프로 시각화 할 수 있음. \n",
        "* Spark DataFrame을 pandas API on spark(Spark 3.2 이상)을 이용할 경우 파이썬 시각화 라이브러리와 연동 할 수 있음."
      ]
    },
    {
      "cell_type": "code",
      "execution_count": 13,
      "metadata": {
        "application/vnd.databricks.v1+cell": {
          "inputWidgets": {},
          "nuid": "d439538c-e6b4-4e0d-9c1b-027fe0197d0c",
          "showTitle": false,
          "title": ""
        },
        "colab": {
          "base_uri": "https://localhost:8080/",
          "height": 631
        },
        "id": "9-DjbgSdhu27",
        "outputId": "2e658e49-18ec-45db-94ec-dd9a9a3ae63b"
      },
      "outputs": [
        {
          "name": "stderr",
          "output_type": "stream",
          "text": [
            "WARNING:root:'PYARROW_IGNORE_TIMEZONE' environment variable was not set. It is required to set this environment variable to '1' in both driver and executor sides if you use pyarrow>=2.0.0. pandas-on-Spark will set it for you but it does not work if there is a Spark context already launched.\n",
            "/usr/local/lib/python3.7/dist-packages/pyspark/sql/dataframe.py:3315: FutureWarning: DataFrame.to_pandas_on_spark is deprecated. Use DataFrame.pandas_api instead.\n",
            "  FutureWarning,\n"
          ]
        },
        {
          "name": "stdout",
          "output_type": "stream",
          "text": [
            "<class 'pyspark.pandas.frame.DataFrame'>\n"
          ]
        },
        {
          "data": {
            "text/html": [
              "<html>\n",
              "<head><meta charset=\"utf-8\" /></head>\n",
              "<body>\n",
              "    <div>            <script src=\"https://cdnjs.cloudflare.com/ajax/libs/mathjax/2.7.5/MathJax.js?config=TeX-AMS-MML_SVG\"></script><script type=\"text/javascript\">if (window.MathJax) {MathJax.Hub.Config({SVG: {font: \"STIX-Web\"}});}</script>                <script type=\"text/javascript\">window.PlotlyConfig = {MathJaxConfig: 'local'};</script>\n",
              "        <script src=\"https://cdn.plot.ly/plotly-2.8.3.min.js\"></script>                <div id=\"a64a2244-27f7-44fb-85b6-22547268fbf3\" class=\"plotly-graph-div\" style=\"height:525px; width:100%;\"></div>            <script type=\"text/javascript\">                                    window.PLOTLYENV=window.PLOTLYENV || {};                                    if (document.getElementById(\"a64a2244-27f7-44fb-85b6-22547268fbf3\")) {                    Plotly.newPlot(                        \"a64a2244-27f7-44fb-85b6-22547268fbf3\",                        [{\"hovertemplate\":\"variable=Age<br>value=%{text}<br>count=%{y}\",\"name\":\"Age\",\"text\":[\"[0.42, 8.378)\",\"[8.378, 16.336)\",\"[16.336, 24.294)\",\"[24.294, 32.252)\",\"[32.252, 40.21)\",\"[40.21, 48.168)\",\"[48.168, 56.126)\",\"[56.126, 64.084)\",\"[64.084, 72.042)\",\"[72.042, 80.0]\"],\"x\":[4.399,12.357000000000001,20.315000000000005,28.273000000000003,36.231,44.18900000000001,52.147000000000006,60.105000000000004,68.063,76.021],\"y\":[54,46,177,169,118,70,45,24,9,2],\"type\":\"bar\"}],                        {\"template\":{\"data\":{\"bar\":[{\"error_x\":{\"color\":\"#2a3f5f\"},\"error_y\":{\"color\":\"#2a3f5f\"},\"marker\":{\"line\":{\"color\":\"#E5ECF6\",\"width\":0.5},\"pattern\":{\"fillmode\":\"overlay\",\"size\":10,\"solidity\":0.2}},\"type\":\"bar\"}],\"barpolar\":[{\"marker\":{\"line\":{\"color\":\"#E5ECF6\",\"width\":0.5},\"pattern\":{\"fillmode\":\"overlay\",\"size\":10,\"solidity\":0.2}},\"type\":\"barpolar\"}],\"carpet\":[{\"aaxis\":{\"endlinecolor\":\"#2a3f5f\",\"gridcolor\":\"white\",\"linecolor\":\"white\",\"minorgridcolor\":\"white\",\"startlinecolor\":\"#2a3f5f\"},\"baxis\":{\"endlinecolor\":\"#2a3f5f\",\"gridcolor\":\"white\",\"linecolor\":\"white\",\"minorgridcolor\":\"white\",\"startlinecolor\":\"#2a3f5f\"},\"type\":\"carpet\"}],\"choropleth\":[{\"colorbar\":{\"outlinewidth\":0,\"ticks\":\"\"},\"type\":\"choropleth\"}],\"contour\":[{\"colorbar\":{\"outlinewidth\":0,\"ticks\":\"\"},\"colorscale\":[[0.0,\"#0d0887\"],[0.1111111111111111,\"#46039f\"],[0.2222222222222222,\"#7201a8\"],[0.3333333333333333,\"#9c179e\"],[0.4444444444444444,\"#bd3786\"],[0.5555555555555556,\"#d8576b\"],[0.6666666666666666,\"#ed7953\"],[0.7777777777777778,\"#fb9f3a\"],[0.8888888888888888,\"#fdca26\"],[1.0,\"#f0f921\"]],\"type\":\"contour\"}],\"contourcarpet\":[{\"colorbar\":{\"outlinewidth\":0,\"ticks\":\"\"},\"type\":\"contourcarpet\"}],\"heatmap\":[{\"colorbar\":{\"outlinewidth\":0,\"ticks\":\"\"},\"colorscale\":[[0.0,\"#0d0887\"],[0.1111111111111111,\"#46039f\"],[0.2222222222222222,\"#7201a8\"],[0.3333333333333333,\"#9c179e\"],[0.4444444444444444,\"#bd3786\"],[0.5555555555555556,\"#d8576b\"],[0.6666666666666666,\"#ed7953\"],[0.7777777777777778,\"#fb9f3a\"],[0.8888888888888888,\"#fdca26\"],[1.0,\"#f0f921\"]],\"type\":\"heatmap\"}],\"heatmapgl\":[{\"colorbar\":{\"outlinewidth\":0,\"ticks\":\"\"},\"colorscale\":[[0.0,\"#0d0887\"],[0.1111111111111111,\"#46039f\"],[0.2222222222222222,\"#7201a8\"],[0.3333333333333333,\"#9c179e\"],[0.4444444444444444,\"#bd3786\"],[0.5555555555555556,\"#d8576b\"],[0.6666666666666666,\"#ed7953\"],[0.7777777777777778,\"#fb9f3a\"],[0.8888888888888888,\"#fdca26\"],[1.0,\"#f0f921\"]],\"type\":\"heatmapgl\"}],\"histogram\":[{\"marker\":{\"pattern\":{\"fillmode\":\"overlay\",\"size\":10,\"solidity\":0.2}},\"type\":\"histogram\"}],\"histogram2d\":[{\"colorbar\":{\"outlinewidth\":0,\"ticks\":\"\"},\"colorscale\":[[0.0,\"#0d0887\"],[0.1111111111111111,\"#46039f\"],[0.2222222222222222,\"#7201a8\"],[0.3333333333333333,\"#9c179e\"],[0.4444444444444444,\"#bd3786\"],[0.5555555555555556,\"#d8576b\"],[0.6666666666666666,\"#ed7953\"],[0.7777777777777778,\"#fb9f3a\"],[0.8888888888888888,\"#fdca26\"],[1.0,\"#f0f921\"]],\"type\":\"histogram2d\"}],\"histogram2dcontour\":[{\"colorbar\":{\"outlinewidth\":0,\"ticks\":\"\"},\"colorscale\":[[0.0,\"#0d0887\"],[0.1111111111111111,\"#46039f\"],[0.2222222222222222,\"#7201a8\"],[0.3333333333333333,\"#9c179e\"],[0.4444444444444444,\"#bd3786\"],[0.5555555555555556,\"#d8576b\"],[0.6666666666666666,\"#ed7953\"],[0.7777777777777778,\"#fb9f3a\"],[0.8888888888888888,\"#fdca26\"],[1.0,\"#f0f921\"]],\"type\":\"histogram2dcontour\"}],\"mesh3d\":[{\"colorbar\":{\"outlinewidth\":0,\"ticks\":\"\"},\"type\":\"mesh3d\"}],\"parcoords\":[{\"line\":{\"colorbar\":{\"outlinewidth\":0,\"ticks\":\"\"}},\"type\":\"parcoords\"}],\"pie\":[{\"automargin\":true,\"type\":\"pie\"}],\"scatter\":[{\"marker\":{\"colorbar\":{\"outlinewidth\":0,\"ticks\":\"\"}},\"type\":\"scatter\"}],\"scatter3d\":[{\"line\":{\"colorbar\":{\"outlinewidth\":0,\"ticks\":\"\"}},\"marker\":{\"colorbar\":{\"outlinewidth\":0,\"ticks\":\"\"}},\"type\":\"scatter3d\"}],\"scattercarpet\":[{\"marker\":{\"colorbar\":{\"outlinewidth\":0,\"ticks\":\"\"}},\"type\":\"scattercarpet\"}],\"scattergeo\":[{\"marker\":{\"colorbar\":{\"outlinewidth\":0,\"ticks\":\"\"}},\"type\":\"scattergeo\"}],\"scattergl\":[{\"marker\":{\"colorbar\":{\"outlinewidth\":0,\"ticks\":\"\"}},\"type\":\"scattergl\"}],\"scattermapbox\":[{\"marker\":{\"colorbar\":{\"outlinewidth\":0,\"ticks\":\"\"}},\"type\":\"scattermapbox\"}],\"scatterpolar\":[{\"marker\":{\"colorbar\":{\"outlinewidth\":0,\"ticks\":\"\"}},\"type\":\"scatterpolar\"}],\"scatterpolargl\":[{\"marker\":{\"colorbar\":{\"outlinewidth\":0,\"ticks\":\"\"}},\"type\":\"scatterpolargl\"}],\"scatterternary\":[{\"marker\":{\"colorbar\":{\"outlinewidth\":0,\"ticks\":\"\"}},\"type\":\"scatterternary\"}],\"surface\":[{\"colorbar\":{\"outlinewidth\":0,\"ticks\":\"\"},\"colorscale\":[[0.0,\"#0d0887\"],[0.1111111111111111,\"#46039f\"],[0.2222222222222222,\"#7201a8\"],[0.3333333333333333,\"#9c179e\"],[0.4444444444444444,\"#bd3786\"],[0.5555555555555556,\"#d8576b\"],[0.6666666666666666,\"#ed7953\"],[0.7777777777777778,\"#fb9f3a\"],[0.8888888888888888,\"#fdca26\"],[1.0,\"#f0f921\"]],\"type\":\"surface\"}],\"table\":[{\"cells\":{\"fill\":{\"color\":\"#EBF0F8\"},\"line\":{\"color\":\"white\"}},\"header\":{\"fill\":{\"color\":\"#C8D4E3\"},\"line\":{\"color\":\"white\"}},\"type\":\"table\"}]},\"layout\":{\"annotationdefaults\":{\"arrowcolor\":\"#2a3f5f\",\"arrowhead\":0,\"arrowwidth\":1},\"autotypenumbers\":\"strict\",\"coloraxis\":{\"colorbar\":{\"outlinewidth\":0,\"ticks\":\"\"}},\"colorscale\":{\"diverging\":[[0,\"#8e0152\"],[0.1,\"#c51b7d\"],[0.2,\"#de77ae\"],[0.3,\"#f1b6da\"],[0.4,\"#fde0ef\"],[0.5,\"#f7f7f7\"],[0.6,\"#e6f5d0\"],[0.7,\"#b8e186\"],[0.8,\"#7fbc41\"],[0.9,\"#4d9221\"],[1,\"#276419\"]],\"sequential\":[[0.0,\"#0d0887\"],[0.1111111111111111,\"#46039f\"],[0.2222222222222222,\"#7201a8\"],[0.3333333333333333,\"#9c179e\"],[0.4444444444444444,\"#bd3786\"],[0.5555555555555556,\"#d8576b\"],[0.6666666666666666,\"#ed7953\"],[0.7777777777777778,\"#fb9f3a\"],[0.8888888888888888,\"#fdca26\"],[1.0,\"#f0f921\"]],\"sequentialminus\":[[0.0,\"#0d0887\"],[0.1111111111111111,\"#46039f\"],[0.2222222222222222,\"#7201a8\"],[0.3333333333333333,\"#9c179e\"],[0.4444444444444444,\"#bd3786\"],[0.5555555555555556,\"#d8576b\"],[0.6666666666666666,\"#ed7953\"],[0.7777777777777778,\"#fb9f3a\"],[0.8888888888888888,\"#fdca26\"],[1.0,\"#f0f921\"]]},\"colorway\":[\"#636efa\",\"#EF553B\",\"#00cc96\",\"#ab63fa\",\"#FFA15A\",\"#19d3f3\",\"#FF6692\",\"#B6E880\",\"#FF97FF\",\"#FECB52\"],\"font\":{\"color\":\"#2a3f5f\"},\"geo\":{\"bgcolor\":\"white\",\"lakecolor\":\"white\",\"landcolor\":\"#E5ECF6\",\"showlakes\":true,\"showland\":true,\"subunitcolor\":\"white\"},\"hoverlabel\":{\"align\":\"left\"},\"hovermode\":\"closest\",\"mapbox\":{\"style\":\"light\"},\"paper_bgcolor\":\"white\",\"plot_bgcolor\":\"#E5ECF6\",\"polar\":{\"angularaxis\":{\"gridcolor\":\"white\",\"linecolor\":\"white\",\"ticks\":\"\"},\"bgcolor\":\"#E5ECF6\",\"radialaxis\":{\"gridcolor\":\"white\",\"linecolor\":\"white\",\"ticks\":\"\"}},\"scene\":{\"xaxis\":{\"backgroundcolor\":\"#E5ECF6\",\"gridcolor\":\"white\",\"gridwidth\":2,\"linecolor\":\"white\",\"showbackground\":true,\"ticks\":\"\",\"zerolinecolor\":\"white\"},\"yaxis\":{\"backgroundcolor\":\"#E5ECF6\",\"gridcolor\":\"white\",\"gridwidth\":2,\"linecolor\":\"white\",\"showbackground\":true,\"ticks\":\"\",\"zerolinecolor\":\"white\"},\"zaxis\":{\"backgroundcolor\":\"#E5ECF6\",\"gridcolor\":\"white\",\"gridwidth\":2,\"linecolor\":\"white\",\"showbackground\":true,\"ticks\":\"\",\"zerolinecolor\":\"white\"}},\"shapedefaults\":{\"line\":{\"color\":\"#2a3f5f\"}},\"ternary\":{\"aaxis\":{\"gridcolor\":\"white\",\"linecolor\":\"white\",\"ticks\":\"\"},\"baxis\":{\"gridcolor\":\"white\",\"linecolor\":\"white\",\"ticks\":\"\"},\"bgcolor\":\"#E5ECF6\",\"caxis\":{\"gridcolor\":\"white\",\"linecolor\":\"white\",\"ticks\":\"\"}},\"title\":{\"x\":0.05},\"xaxis\":{\"automargin\":true,\"gridcolor\":\"white\",\"linecolor\":\"white\",\"ticks\":\"\",\"title\":{\"standoff\":15},\"zerolinecolor\":\"white\",\"zerolinewidth\":2},\"yaxis\":{\"automargin\":true,\"gridcolor\":\"white\",\"linecolor\":\"white\",\"ticks\":\"\",\"title\":{\"standoff\":15},\"zerolinecolor\":\"white\",\"zerolinewidth\":2}}},\"barmode\":\"stack\",\"xaxis\":{\"title\":{\"text\":\"value\"}},\"yaxis\":{\"title\":{\"text\":\"count\"}}},                        {\"responsive\": true}                    ).then(function(){\n",
              "                            \n",
              "var gd = document.getElementById('a64a2244-27f7-44fb-85b6-22547268fbf3');\n",
              "var x = new MutationObserver(function (mutations, observer) {{\n",
              "        var display = window.getComputedStyle(gd).display;\n",
              "        if (!display || display === 'none') {{\n",
              "            console.log([gd, 'removed!']);\n",
              "            Plotly.purge(gd);\n",
              "            observer.disconnect();\n",
              "        }}\n",
              "}});\n",
              "\n",
              "// Listen for the removal of the full notebook cells\n",
              "var notebookContainer = gd.closest('#notebook-container');\n",
              "if (notebookContainer) {{\n",
              "    x.observe(notebookContainer, {childList: true});\n",
              "}}\n",
              "\n",
              "// Listen for the clearing of the current output cell\n",
              "var outputEl = gd.closest('.output');\n",
              "if (outputEl) {{\n",
              "    x.observe(outputEl, {childList: true});\n",
              "}}\n",
              "\n",
              "                        })                };                            </script>        </div>\n",
              "</body>\n",
              "</html>"
            ]
          },
          "metadata": {},
          "output_type": "display_data"
        }
      ],
      "source": [
        "# Pandas API on Spark 적용\n",
        "import pyspark.pandas as ps\n",
        "\n",
        "# spark DataFrame에서 Spark pandas DataFrame으로 변경. \n",
        "# titanic_sdf.select('Age').hist()는 동작하지 않음. \n",
        "\n",
        "psdf = titanic_sdf.to_pandas_on_spark() # pandas DataFrame으로 부터 변경할 경우는 psdf = ps.from_pandas(titanic_pdf) \n",
        "print(type(psdf))\n",
        "\n",
        "psdf['Age'].hist()"
      ]
    },
    {
      "cell_type": "code",
      "execution_count": 14,
      "metadata": {
        "application/vnd.databricks.v1+cell": {
          "inputWidgets": {},
          "nuid": "fc7afd96-4842-4fad-9502-26119c6a9ea9",
          "showTitle": false,
          "title": ""
        },
        "id": "pXbAXW8xhu27"
      },
      "outputs": [],
      "source": [
        "# SQL 사용을 위해서 Spark DataFrame을 View형태로 변환\n",
        "titanic_sdf.createOrReplaceTempView('titanic_view')"
      ]
    },
    {
      "cell_type": "code",
      "execution_count": 17,
      "metadata": {
        "application/vnd.databricks.v1+cell": {
          "inputWidgets": {},
          "nuid": "1f27836d-4fd8-4a16-99a6-60b94405d5c7",
          "showTitle": false,
          "title": ""
        },
        "colab": {
          "base_uri": "https://localhost:8080/"
        },
        "id": "2yFci_v_hu27",
        "outputId": "d5a60983-342f-4b82-f960-a658f149ceb1"
      },
      "outputs": [
        {
          "name": "stdout",
          "output_type": "stream",
          "text": [
            "+--------+---+\n",
            "|survived|cnt|\n",
            "+--------+---+\n",
            "|       0|549|\n",
            "|       1|342|\n",
            "+--------+---+\n",
            "\n"
          ]
        }
      ],
      "source": [
        "# survived groupBy 수 계산\n",
        "spark.sql('select survived, count(*) as cnt from titanic_view group by survived order by 2 desc').show()"
      ]
    },
    {
      "cell_type": "code",
      "execution_count": 18,
      "metadata": {
        "application/vnd.databricks.v1+cell": {
          "inputWidgets": {},
          "nuid": "21cbbc34-add9-4181-b821-21a51fc17a05",
          "showTitle": false,
          "title": ""
        },
        "colab": {
          "base_uri": "https://localhost:8080/"
        },
        "id": "B7SoBrzNhu28",
        "outputId": "53001964-b062-41d2-c50f-e6ce4f881fd9"
      },
      "outputs": [
        {
          "name": "stdout",
          "output_type": "stream",
          "text": [
            "+-----------+---+\n",
            "|      cabin|cnt|\n",
            "+-----------+---+\n",
            "|       null|687|\n",
            "|    B96 B98|  4|\n",
            "|         G6|  4|\n",
            "|C23 C25 C27|  4|\n",
            "|       E101|  3|\n",
            "|    C22 C26|  3|\n",
            "|          D|  3|\n",
            "|        F33|  3|\n",
            "|         F2|  3|\n",
            "|        E33|  2|\n",
            "|       C123|  2|\n",
            "|        C83|  2|\n",
            "|       C126|  2|\n",
            "|       E121|  2|\n",
            "|    B58 B60|  2|\n",
            "|        D35|  2|\n",
            "|      F G73|  2|\n",
            "|        B18|  2|\n",
            "|        B20|  2|\n",
            "|        E44|  2|\n",
            "+-----------+---+\n",
            "only showing top 20 rows\n",
            "\n"
          ]
        }
      ],
      "source": [
        "# cabin groupBy 수 계산\n",
        "spark.sql('select cabin, count(*) as cnt from titanic_view group by cabin order by 2 desc').show()"
      ]
    },
    {
      "cell_type": "markdown",
      "metadata": {
        "application/vnd.databricks.v1+cell": {
          "inputWidgets": {},
          "nuid": "6c533d95-8fec-4e8e-a8c0-cff46584b8c7",
          "showTitle": false,
          "title": ""
        },
        "id": "TFTMtXe6hu28"
      },
      "source": [
        "SQL로 Histogram을 구하고 이를 시각화"
      ]
    },
    {
      "cell_type": "code",
      "execution_count": 25,
      "metadata": {
        "application/vnd.databricks.v1+cell": {
          "inputWidgets": {},
          "nuid": "f7b1b33f-e146-4a2b-a30c-4155f7a261c7",
          "showTitle": false,
          "title": ""
        },
        "colab": {
          "base_uri": "https://localhost:8080/"
        },
        "id": "eU_8O07Ohu28",
        "outputId": "9d5f8f11-e6d8-40d8-ba89-a37e020ba582"
      },
      "outputs": [
        {
          "name": "stdout",
          "output_type": "stream",
          "text": [
            "+-------+-------------+---+\n",
            "|age_bin|age_bin_range|cnt|\n",
            "+-------+-------------+---+\n",
            "|     20|        20-30|220|\n",
            "|   null|         null|177|\n",
            "|     30|        30-40|167|\n",
            "|     10|        10-20|102|\n",
            "|     40|        40-50| 89|\n",
            "|      0|         0-10| 62|\n",
            "|     50|        50-60| 48|\n",
            "|     60|        60-70| 19|\n",
            "|     70|        70-80|  6|\n",
            "|     80|        80-90|  1|\n",
            "+-------+-------------+---+\n",
            "\n"
          ]
        }
      ],
      "source": [
        "# age_bin_range 컬럼 만들어서 나잇대별 인원수 확인\n",
        "\n",
        "spark.sql('''\n",
        "select age_bin, age_bin||'-'||(age_bin+10) as age_bin_range, count(*)  cnt\n",
        "from (\n",
        "  select floor(age/10.0)*10 as age_bin from titanic_view\n",
        ") group by age_bin order by 3 desc;\n",
        "\n",
        "''').show()"
      ]
    },
    {
      "cell_type": "code",
      "execution_count": 28,
      "metadata": {
        "application/vnd.databricks.v1+cell": {
          "inputWidgets": {},
          "nuid": "997a9740-df54-4a97-95d0-c45320cf2ac9",
          "showTitle": false,
          "title": ""
        },
        "colab": {
          "base_uri": "https://localhost:8080/"
        },
        "id": "T5klQBC5hu29",
        "outputId": "fa620d88-7e17-4d75-e67b-121dc79dded2"
      },
      "outputs": [
        {
          "name": "stdout",
          "output_type": "stream",
          "text": [
            "+--------+------+-----+\n",
            "|Survived|   Sex|count|\n",
            "+--------+------+-----+\n",
            "|       0|female|   81|\n",
            "|       1|  male|  109|\n",
            "|       1|female|  233|\n",
            "|       0|  male|  468|\n",
            "+--------+------+-----+\n",
            "\n"
          ]
        }
      ],
      "source": [
        "titanic_sdf.groupBy('Survived', 'Sex').count().show()"
      ]
    },
    {
      "cell_type": "code",
      "execution_count": 30,
      "metadata": {
        "application/vnd.databricks.v1+cell": {
          "inputWidgets": {},
          "nuid": "a928d8f8-249f-4a48-a462-ce42e84335a7",
          "showTitle": false,
          "title": ""
        },
        "colab": {
          "base_uri": "https://localhost:8080/"
        },
        "id": "F_aBWieFhu29",
        "outputId": "144bf9cf-2e17-4401-ac7e-cadcfe3c9a30"
      },
      "outputs": [
        {
          "name": "stdout",
          "output_type": "stream",
          "text": [
            "+--------+------+--------+\n",
            "|survived|   sex|count(1)|\n",
            "+--------+------+--------+\n",
            "|       0|female|      81|\n",
            "|       1|  male|     109|\n",
            "|       1|female|     233|\n",
            "|       0|  male|     468|\n",
            "+--------+------+--------+\n",
            "\n"
          ]
        }
      ],
      "source": [
        "spark.sql('''\n",
        "select survived, sex, count(*) from titanic_view group by survived, sex\n",
        "''').show()"
      ]
    },
    {
      "cell_type": "code",
      "execution_count": 32,
      "metadata": {
        "application/vnd.databricks.v1+cell": {
          "inputWidgets": {},
          "nuid": "12afe151-364a-49c4-8f5f-d6ed771d2c1a",
          "showTitle": false,
          "title": ""
        },
        "colab": {
          "base_uri": "https://localhost:8080/"
        },
        "id": "YBwlKcqnhu29",
        "outputId": "789592fe-ada6-42de-d717-820fd35233e0"
      },
      "outputs": [
        {
          "name": "stdout",
          "output_type": "stream",
          "text": [
            "+------+------+--------+---+\n",
            "|pclass|   sex|survived|cnt|\n",
            "+------+------+--------+---+\n",
            "|     1|female|       0|  3|\n",
            "|     1|female|       1| 91|\n",
            "|     1|  male|       0| 77|\n",
            "|     1|  male|       1| 45|\n",
            "|     2|female|       0|  6|\n",
            "|     2|female|       1| 70|\n",
            "|     2|  male|       0| 91|\n",
            "|     2|  male|       1| 17|\n",
            "|     3|female|       0| 72|\n",
            "|     3|female|       1| 72|\n",
            "|     3|  male|       0|300|\n",
            "|     3|  male|       1| 47|\n",
            "+------+------+--------+---+\n",
            "\n"
          ]
        }
      ],
      "source": [
        "spark.sql('''\n",
        "select pclass, sex, survived, count(*) cnt from titanic_view group by pclass, sex, survived order by 1, 2, 3\n",
        "''').show()"
      ]
    },
    {
      "cell_type": "code",
      "execution_count": 34,
      "metadata": {
        "application/vnd.databricks.v1+cell": {
          "inputWidgets": {},
          "nuid": "0f19d9fa-be41-45b2-bdd7-dba4b38dded9",
          "showTitle": false,
          "title": ""
        },
        "colab": {
          "base_uri": "https://localhost:8080/"
        },
        "id": "GegMZAg9hu29",
        "outputId": "b1beb605-e8ec-4b14-df7e-5e15cde76ee1"
      },
      "outputs": [
        {
          "name": "stdout",
          "output_type": "stream",
          "text": [
            "+------+------+----------------+------------+\n",
            "|pclass|   sex|cnt_non_survived|cnt_survived|\n",
            "+------+------+----------------+------------+\n",
            "|     1|female|               3|          91|\n",
            "|     1|  male|              77|          45|\n",
            "|     2|female|               6|          70|\n",
            "|     2|  male|              91|          17|\n",
            "|     3|female|              72|          72|\n",
            "|     3|  male|             300|          47|\n",
            "+------+------+----------------+------------+\n",
            "\n"
          ]
        }
      ],
      "source": [
        "# 조건에 해당되는 내용만 count.\n",
        "\n",
        "spark.sql('''\n",
        "select pclass, sex, \n",
        "sum(case when survived = 0 then 1 else 0 end) cnt_non_survived,\n",
        "sum(case when survived = 1 then 1 else 0 end) cnt_survived from titanic_view group by pclass, sex order by 1, 2\n",
        "''').show()"
      ]
    },
    {
      "cell_type": "code",
      "execution_count": 35,
      "metadata": {
        "application/vnd.databricks.v1+cell": {
          "inputWidgets": {},
          "nuid": "8bc54a3c-497b-436c-9101-1b61e0cd0d6f",
          "showTitle": false,
          "title": ""
        },
        "colab": {
          "base_uri": "https://localhost:8080/",
          "height": 556
        },
        "id": "MOOZoFi-hu29",
        "outputId": "bdb53fe1-9d5f-41cc-be52-dfc1ac00052a"
      },
      "outputs": [
        {
          "name": "stdout",
          "output_type": "stream",
          "text": [
            "+-----------+--------+------+--------------------+------+----+-----+-----+----------------+-------+-----+--------+------------+\n",
            "|PassengerId|Survived|Pclass|                Name|   Sex| Age|SibSp|Parch|          Ticket|   Fare|Cabin|Embarked|Age_Category|\n",
            "+-----------+--------+------+--------------------+------+----+-----+-----+----------------+-------+-----+--------+------------+\n",
            "|          1|       0|     3|Braund, Mr. Owen ...|  male|22.0|    1|    0|       A/5 21171|   7.25| null|       S|     Student|\n",
            "|          2|       1|     1|Cumings, Mrs. Joh...|female|38.0|    1|    0|        PC 17599|71.2833|  C85|       C|       Adult|\n",
            "|          3|       1|     3|Heikkinen, Miss. ...|female|26.0|    0|    0|STON/O2. 3101282|  7.925| null|       S| Young Adult|\n",
            "|          4|       1|     1|Futrelle, Mrs. Ja...|female|35.0|    1|    0|          113803|   53.1| C123|       S| Young Adult|\n",
            "|          5|       0|     3|Allen, Mr. Willia...|  male|35.0|    0|    0|          373450|   8.05| null|       S| Young Adult|\n",
            "|          6|       0|     3|    Moran, Mr. James|  male|null|    0|    0|          330877| 8.4583| null|       Q|          NA|\n",
            "|          7|       0|     1|McCarthy, Mr. Tim...|  male|54.0|    0|    0|           17463|51.8625|  E46|       S|       Adult|\n",
            "|          8|       0|     3|Palsson, Master. ...|  male| 2.0|    3|    1|          349909| 21.075| null|       S|        Baby|\n",
            "|          9|       1|     3|Johnson, Mrs. Osc...|female|27.0|    0|    2|          347742|11.1333| null|       S| Young Adult|\n",
            "|         10|       1|     2|Nasser, Mrs. Nich...|female|14.0|    1|    0|          237736|30.0708| null|       C|    Teenager|\n",
            "|         11|       1|     3|Sandstrom, Miss. ...|female| 4.0|    1|    1|         PP 9549|   16.7|   G6|       S|        Baby|\n",
            "|         12|       1|     1|Bonnell, Miss. El...|female|58.0|    0|    0|          113783|  26.55| C103|       S|       Adult|\n",
            "|         13|       0|     3|Saundercock, Mr. ...|  male|20.0|    0|    0|       A/5. 2151|   8.05| null|       S|     Student|\n",
            "|         14|       0|     3|Andersson, Mr. An...|  male|39.0|    1|    5|          347082| 31.275| null|       S|       Adult|\n",
            "|         15|       0|     3|Vestrom, Miss. Hu...|female|14.0|    0|    0|          350406| 7.8542| null|       S|    Teenager|\n",
            "|         16|       1|     2|Hewlett, Mrs. (Ma...|female|55.0|    0|    0|          248706|   16.0| null|       S|       Adult|\n",
            "|         17|       0|     3|Rice, Master. Eugene|  male| 2.0|    4|    1|          382652| 29.125| null|       Q|        Baby|\n",
            "|         18|       1|     2|Williams, Mr. Cha...|  male|null|    0|    0|          244373|   13.0| null|       S|          NA|\n",
            "|         19|       0|     3|Vander Planke, Mr...|female|31.0|    1|    0|          345763|   18.0| null|       S| Young Adult|\n",
            "|         20|       1|     3|Masselmani, Mrs. ...|female|null|    0|    0|            2649|  7.225| null|       C|          NA|\n",
            "+-----------+--------+------+--------------------+------+----+-----+-----+----------------+-------+-----+--------+------------+\n",
            "only showing top 20 rows\n",
            "\n"
          ]
        },
        {
          "data": {
            "application/vnd.google.colaboratory.intrinsic+json": {
              "type": "string"
            },
            "text/plain": [
              "\"\\n#아래와 같이 when otherwise 를 이용해서도 변환 가능. \\nfrom pyspark.sql.functions import when\\n                   \\ntitanic_sdf_filled_02 = titanic_sdf.withColumn('Age_category', when(F.col('Age') <= 5, 'Baby')\\n                                                                      .when(F.col('Age') <= 12, 'Child')\\n                                                                      .when(F.col('Age') <= 18, 'Teenage')\\n                                                                      .when(F.col('Age') <= 25, 'Student')\\n                                                                      .when(F.col('Age') <= 35, 'Young Adult')\\n                                                                      .when(F.col('Age') <= 60, 'Adult')\\n                                                                      .when(F.col('Age').isNull(), 'NA')\\n                                                                      .otherwise('Elderly'))\\n\""
            ]
          },
          "execution_count": 35,
          "metadata": {},
          "output_type": "execute_result"
        }
      ],
      "source": [
        "# 일반 python용 UDF를 작성. 반드시 입력 값과 반환 값을 설정\n",
        "def get_category(age):\n",
        "    cat = ''\n",
        "    \n",
        "    # age 값이 None일 경우는 NA를 Return (Pandas와 다르게 null을 처리해야 함. None인 이유는 python이기 때문)\n",
        "    if age == None:\n",
        "        return 'NA'\n",
        "    \n",
        "    if age <= 5: cat = 'Baby'\n",
        "    elif age <= 12: cat = 'Child'\n",
        "    elif age <= 18: cat = 'Teenager'\n",
        "    elif age <= 25: cat = 'Student'\n",
        "    elif age <= 35: cat = 'Young Adult'\n",
        "    elif age <= 60: cat = 'Adult'\n",
        "    else : cat = 'Elderly'\n",
        "    \n",
        "    return cat\n",
        "\n",
        "from pyspark.sql.functions import udf,col\n",
        "from pyspark.sql.types import StringType\n",
        "\n",
        "# 일반 python용 UDF를 pyspark용 UDF로 변환. udf(lambda 입력변수: 일반 UDF, 해당 일반 UDF의 반환형)\n",
        "udf_get_category = udf(lambda x:get_category(x), StringType() )\n",
        "# udf_get_category()에 Age 컬럼값을 입력하여 반환되는 값으로 새로운 컬럼 Age_Category를 생성\n",
        "\n",
        "titanic_sdf = titanic_sdf.withColumn(\"Age_Category\",udf_get_category(col(\"Age\")))\n",
        "titanic_sdf.show()\n",
        "\n",
        "'''\n",
        "#아래와 같이 when otherwise 를 이용해서도 변환 가능. \n",
        "from pyspark.sql.functions import when\n",
        "                   \n",
        "titanic_sdf_filled_02 = titanic_sdf.withColumn('Age_category', when(F.col('Age') <= 5, 'Baby')\n",
        "                                                                      .when(F.col('Age') <= 12, 'Child')\n",
        "                                                                      .when(F.col('Age') <= 18, 'Teenage')\n",
        "                                                                      .when(F.col('Age') <= 25, 'Student')\n",
        "                                                                      .when(F.col('Age') <= 35, 'Young Adult')\n",
        "                                                                      .when(F.col('Age') <= 60, 'Adult')\n",
        "                                                                      .when(F.col('Age').isNull(), 'NA')\n",
        "                                                                      .otherwise('Elderly'))\n",
        "'''"
      ]
    },
    {
      "cell_type": "code",
      "execution_count": 36,
      "metadata": {
        "application/vnd.databricks.v1+cell": {
          "inputWidgets": {},
          "nuid": "f24d5546-7f83-45d6-ace6-3f4c794340e3",
          "showTitle": false,
          "title": ""
        },
        "colab": {
          "base_uri": "https://localhost:8080/"
        },
        "id": "3ShEIahBhu29",
        "outputId": "a245f742-be3f-4a79-fa95-bc26e186a064"
      },
      "outputs": [
        {
          "name": "stdout",
          "output_type": "stream",
          "text": [
            "+-----------+--------+------+--------------------+------+----+-----+-----+----------------+-------+-----+--------+\n",
            "|PassengerId|Survived|Pclass|                Name|   Sex| Age|SibSp|Parch|          Ticket|   Fare|Cabin|Embarked|\n",
            "+-----------+--------+------+--------------------+------+----+-----+-----+----------------+-------+-----+--------+\n",
            "|          1|       0|     3|Braund, Mr. Owen ...|  male|22.0|    1|    0|       A/5 21171|   7.25| null|       S|\n",
            "|          2|       1|     1|Cumings, Mrs. Joh...|female|38.0|    1|    0|        PC 17599|71.2833|  C85|       C|\n",
            "|          3|       1|     3|Heikkinen, Miss. ...|female|26.0|    0|    0|STON/O2. 3101282|  7.925| null|       S|\n",
            "|          4|       1|     1|Futrelle, Mrs. Ja...|female|35.0|    1|    0|          113803|   53.1| C123|       S|\n",
            "|          5|       0|     3|Allen, Mr. Willia...|  male|35.0|    0|    0|          373450|   8.05| null|       S|\n",
            "|          6|       0|     3|    Moran, Mr. James|  male|null|    0|    0|          330877| 8.4583| null|       Q|\n",
            "|          7|       0|     1|McCarthy, Mr. Tim...|  male|54.0|    0|    0|           17463|51.8625|  E46|       S|\n",
            "|          8|       0|     3|Palsson, Master. ...|  male| 2.0|    3|    1|          349909| 21.075| null|       S|\n",
            "|          9|       1|     3|Johnson, Mrs. Osc...|female|27.0|    0|    2|          347742|11.1333| null|       S|\n",
            "|         10|       1|     2|Nasser, Mrs. Nich...|female|14.0|    1|    0|          237736|30.0708| null|       C|\n",
            "|         11|       1|     3|Sandstrom, Miss. ...|female| 4.0|    1|    1|         PP 9549|   16.7|   G6|       S|\n",
            "|         12|       1|     1|Bonnell, Miss. El...|female|58.0|    0|    0|          113783|  26.55| C103|       S|\n",
            "|         13|       0|     3|Saundercock, Mr. ...|  male|20.0|    0|    0|       A/5. 2151|   8.05| null|       S|\n",
            "|         14|       0|     3|Andersson, Mr. An...|  male|39.0|    1|    5|          347082| 31.275| null|       S|\n",
            "|         15|       0|     3|Vestrom, Miss. Hu...|female|14.0|    0|    0|          350406| 7.8542| null|       S|\n",
            "|         16|       1|     2|Hewlett, Mrs. (Ma...|female|55.0|    0|    0|          248706|   16.0| null|       S|\n",
            "|         17|       0|     3|Rice, Master. Eugene|  male| 2.0|    4|    1|          382652| 29.125| null|       Q|\n",
            "|         18|       1|     2|Williams, Mr. Cha...|  male|null|    0|    0|          244373|   13.0| null|       S|\n",
            "|         19|       0|     3|Vander Planke, Mr...|female|31.0|    1|    0|          345763|   18.0| null|       S|\n",
            "|         20|       1|     3|Masselmani, Mrs. ...|female|null|    0|    0|            2649|  7.225| null|       C|\n",
            "+-----------+--------+------+--------------------+------+----+-----+-----+----------------+-------+-----+--------+\n",
            "only showing top 20 rows\n",
            "\n"
          ]
        }
      ],
      "source": [
        "#-- 새로운 컬럼을 추가시 View에 자동 반영되지 않음. \n",
        "spark.sql('''\n",
        "select * from titanic_view\n",
        "''').show()"
      ]
    },
    {
      "cell_type": "code",
      "execution_count": 37,
      "metadata": {
        "application/vnd.databricks.v1+cell": {
          "inputWidgets": {},
          "nuid": "8824ae6a-f2a5-4387-894d-475a3ef417e7",
          "showTitle": false,
          "title": ""
        },
        "id": "Ld2ntOmqhu29"
      },
      "outputs": [],
      "source": [
        "titanic_sdf.createOrReplaceTempView('titanic_view')"
      ]
    },
    {
      "cell_type": "code",
      "execution_count": 39,
      "metadata": {
        "application/vnd.databricks.v1+cell": {
          "inputWidgets": {},
          "nuid": "5c2e95fc-c520-4676-8414-46f6336532c1",
          "showTitle": false,
          "title": ""
        },
        "colab": {
          "base_uri": "https://localhost:8080/"
        },
        "id": "ibChG0WRhu29",
        "outputId": "62988c51-60cc-4480-9b13-4cb982a246ac"
      },
      "outputs": [
        {
          "name": "stdout",
          "output_type": "stream",
          "text": [
            "+-----------+--------+------+--------------------+------+----+-----+-----+----------------+-------+-----+--------+------------+\n",
            "|PassengerId|Survived|Pclass|                Name|   Sex| Age|SibSp|Parch|          Ticket|   Fare|Cabin|Embarked|Age_Category|\n",
            "+-----------+--------+------+--------------------+------+----+-----+-----+----------------+-------+-----+--------+------------+\n",
            "|          1|       0|     3|Braund, Mr. Owen ...|  male|22.0|    1|    0|       A/5 21171|   7.25| null|       S|     Student|\n",
            "|          2|       1|     1|Cumings, Mrs. Joh...|female|38.0|    1|    0|        PC 17599|71.2833|  C85|       C|       Adult|\n",
            "|          3|       1|     3|Heikkinen, Miss. ...|female|26.0|    0|    0|STON/O2. 3101282|  7.925| null|       S| Young Adult|\n",
            "|          4|       1|     1|Futrelle, Mrs. Ja...|female|35.0|    1|    0|          113803|   53.1| C123|       S| Young Adult|\n",
            "|          5|       0|     3|Allen, Mr. Willia...|  male|35.0|    0|    0|          373450|   8.05| null|       S| Young Adult|\n",
            "|          6|       0|     3|    Moran, Mr. James|  male|null|    0|    0|          330877| 8.4583| null|       Q|          NA|\n",
            "|          7|       0|     1|McCarthy, Mr. Tim...|  male|54.0|    0|    0|           17463|51.8625|  E46|       S|       Adult|\n",
            "|          8|       0|     3|Palsson, Master. ...|  male| 2.0|    3|    1|          349909| 21.075| null|       S|        Baby|\n",
            "|          9|       1|     3|Johnson, Mrs. Osc...|female|27.0|    0|    2|          347742|11.1333| null|       S| Young Adult|\n",
            "|         10|       1|     2|Nasser, Mrs. Nich...|female|14.0|    1|    0|          237736|30.0708| null|       C|    Teenager|\n",
            "|         11|       1|     3|Sandstrom, Miss. ...|female| 4.0|    1|    1|         PP 9549|   16.7|   G6|       S|        Baby|\n",
            "|         12|       1|     1|Bonnell, Miss. El...|female|58.0|    0|    0|          113783|  26.55| C103|       S|       Adult|\n",
            "|         13|       0|     3|Saundercock, Mr. ...|  male|20.0|    0|    0|       A/5. 2151|   8.05| null|       S|     Student|\n",
            "|         14|       0|     3|Andersson, Mr. An...|  male|39.0|    1|    5|          347082| 31.275| null|       S|       Adult|\n",
            "|         15|       0|     3|Vestrom, Miss. Hu...|female|14.0|    0|    0|          350406| 7.8542| null|       S|    Teenager|\n",
            "|         16|       1|     2|Hewlett, Mrs. (Ma...|female|55.0|    0|    0|          248706|   16.0| null|       S|       Adult|\n",
            "|         17|       0|     3|Rice, Master. Eugene|  male| 2.0|    4|    1|          382652| 29.125| null|       Q|        Baby|\n",
            "|         18|       1|     2|Williams, Mr. Cha...|  male|null|    0|    0|          244373|   13.0| null|       S|          NA|\n",
            "|         19|       0|     3|Vander Planke, Mr...|female|31.0|    1|    0|          345763|   18.0| null|       S| Young Adult|\n",
            "|         20|       1|     3|Masselmani, Mrs. ...|female|null|    0|    0|            2649|  7.225| null|       C|          NA|\n",
            "+-----------+--------+------+--------------------+------+----+-----+-----+----------------+-------+-----+--------+------------+\n",
            "only showing top 20 rows\n",
            "\n"
          ]
        }
      ],
      "source": [
        "spark.sql('''\n",
        "select * from titanic_view\n",
        "''').show()"
      ]
    },
    {
      "cell_type": "code",
      "execution_count": 40,
      "metadata": {
        "application/vnd.databricks.v1+cell": {
          "inputWidgets": {},
          "nuid": "3536f90f-709d-442a-a989-a6b3571d3e63",
          "showTitle": false,
          "title": ""
        },
        "colab": {
          "base_uri": "https://localhost:8080/"
        },
        "id": "ki6jMU6Uhu29",
        "outputId": "708589c4-863f-4e94-b5bf-8914d1d9a6c6"
      },
      "outputs": [
        {
          "name": "stdout",
          "output_type": "stream",
          "text": [
            "+------------+--------+------+---+\n",
            "|age_category|survived|   sex|cnt|\n",
            "+------------+--------+------+---+\n",
            "|          NA|       0|  male|108|\n",
            "|       Adult|       0|  male|101|\n",
            "| Young Adult|       0|  male|100|\n",
            "|     Student|       0|  male| 95|\n",
            "|       Adult|       1|female| 54|\n",
            "| Young Adult|       1|female| 53|\n",
            "|     Student|       1|female| 41|\n",
            "|          NA|       1|female| 36|\n",
            "|    Teenager|       0|  male| 31|\n",
            "| Young Adult|       1|  male| 30|\n",
            "|    Teenager|       1|female| 27|\n",
            "|       Adult|       1|  male| 24|\n",
            "|     Elderly|       0|  male| 17|\n",
            "|          NA|       0|female| 17|\n",
            "|          NA|       1|  male| 16|\n",
            "|        Baby|       1|female| 16|\n",
            "|       Adult|       0|female| 16|\n",
            "|        Baby|       1|  male| 15|\n",
            "|     Student|       1|  male| 13|\n",
            "|     Student|       0|female| 13|\n",
            "+------------+--------+------+---+\n",
            "only showing top 20 rows\n",
            "\n"
          ]
        }
      ],
      "source": [
        "spark.sql('''\n",
        "select age_category, survived, sex, count(*) cnt from titanic_view group by  age_category, survived, sex order by cnt desc\n",
        "''').show()\n"
      ]
    },
    {
      "cell_type": "markdown",
      "metadata": {
        "application/vnd.databricks.v1+cell": {
          "inputWidgets": {},
          "nuid": "a2a00e2e-f2af-4b55-9157-9c6b22af4b6f",
          "showTitle": false,
          "title": ""
        },
        "id": "-SKt5ENLhu29"
      },
      "source": [
        "### 결측치 처리, 컬럼 가공, 인코딩 수행."
      ]
    },
    {
      "cell_type": "code",
      "execution_count": 41,
      "metadata": {
        "application/vnd.databricks.v1+cell": {
          "inputWidgets": {},
          "nuid": "ff4bad02-5b0a-480e-a263-121414ffcf2b",
          "showTitle": false,
          "title": ""
        },
        "colab": {
          "base_uri": "https://localhost:8080/"
        },
        "id": "trdx8MpChu29",
        "outputId": "a242b835-8ede-419c-c978-0d77a549edf0"
      },
      "outputs": [
        {
          "name": "stdout",
          "output_type": "stream",
          "text": [
            "DataFrame[avg(Age): double] Row(avg(Age)=29.69911764705882) 29.69911764705882\n",
            "+-----------------+\n",
            "|         avg(Age)|\n",
            "+-----------------+\n",
            "|29.69911764705882|\n",
            "+-----------------+\n",
            "\n",
            "None\n"
          ]
        }
      ],
      "source": [
        "import pyspark.sql.functions as F\n",
        "\n",
        "avg_age = titanic_sdf.select(F.avg(F.col('Age')))\n",
        "avg_age_row = avg_age.first() # avg_age.head()와 동일. \n",
        "avg_age_value = avg_age.first()[0]\n",
        "\n",
        "print(avg_age, avg_age_row, avg_age_value)\n",
        "print(avg_age.show())"
      ]
    },
    {
      "cell_type": "code",
      "execution_count": 42,
      "metadata": {
        "application/vnd.databricks.v1+cell": {
          "inputWidgets": {},
          "nuid": "1c5f3c88-3f7e-4785-9397-360920ffc9ff",
          "showTitle": false,
          "title": ""
        },
        "colab": {
          "base_uri": "https://localhost:8080/"
        },
        "id": "VwkuQX_Hhu2-",
        "outputId": "998e0907-6915-4662-90aa-2249743dd420"
      },
      "outputs": [
        {
          "name": "stdout",
          "output_type": "stream",
          "text": [
            "+-----------+--------+------+--------------------+------+-----------------+-----+-----+----------------+-------+-----+--------+------------+\n",
            "|PassengerId|Survived|Pclass|                Name|   Sex|              Age|SibSp|Parch|          Ticket|   Fare|Cabin|Embarked|Age_Category|\n",
            "+-----------+--------+------+--------------------+------+-----------------+-----+-----+----------------+-------+-----+--------+------------+\n",
            "|          1|       0|     3|Braund, Mr. Owen ...|  male|             22.0|    1|    0|       A/5 21171|   7.25|    N|       S|     Student|\n",
            "|          2|       1|     1|Cumings, Mrs. Joh...|female|             38.0|    1|    0|        PC 17599|71.2833|  C85|       C|       Adult|\n",
            "|          3|       1|     3|Heikkinen, Miss. ...|female|             26.0|    0|    0|STON/O2. 3101282|  7.925|    N|       S| Young Adult|\n",
            "|          4|       1|     1|Futrelle, Mrs. Ja...|female|             35.0|    1|    0|          113803|   53.1| C123|       S| Young Adult|\n",
            "|          5|       0|     3|Allen, Mr. Willia...|  male|             35.0|    0|    0|          373450|   8.05|    N|       S| Young Adult|\n",
            "|          6|       0|     3|    Moran, Mr. James|  male|29.69911764705882|    0|    0|          330877| 8.4583|    N|       Q|          NA|\n",
            "|          7|       0|     1|McCarthy, Mr. Tim...|  male|             54.0|    0|    0|           17463|51.8625|  E46|       S|       Adult|\n",
            "|          8|       0|     3|Palsson, Master. ...|  male|              2.0|    3|    1|          349909| 21.075|    N|       S|        Baby|\n",
            "|          9|       1|     3|Johnson, Mrs. Osc...|female|             27.0|    0|    2|          347742|11.1333|    N|       S| Young Adult|\n",
            "|         10|       1|     2|Nasser, Mrs. Nich...|female|             14.0|    1|    0|          237736|30.0708|    N|       C|    Teenager|\n",
            "|         11|       1|     3|Sandstrom, Miss. ...|female|              4.0|    1|    1|         PP 9549|   16.7|   G6|       S|        Baby|\n",
            "|         12|       1|     1|Bonnell, Miss. El...|female|             58.0|    0|    0|          113783|  26.55| C103|       S|       Adult|\n",
            "|         13|       0|     3|Saundercock, Mr. ...|  male|             20.0|    0|    0|       A/5. 2151|   8.05|    N|       S|     Student|\n",
            "|         14|       0|     3|Andersson, Mr. An...|  male|             39.0|    1|    5|          347082| 31.275|    N|       S|       Adult|\n",
            "|         15|       0|     3|Vestrom, Miss. Hu...|female|             14.0|    0|    0|          350406| 7.8542|    N|       S|    Teenager|\n",
            "|         16|       1|     2|Hewlett, Mrs. (Ma...|female|             55.0|    0|    0|          248706|   16.0|    N|       S|       Adult|\n",
            "|         17|       0|     3|Rice, Master. Eugene|  male|              2.0|    4|    1|          382652| 29.125|    N|       Q|        Baby|\n",
            "|         18|       1|     2|Williams, Mr. Cha...|  male|29.69911764705882|    0|    0|          244373|   13.0|    N|       S|          NA|\n",
            "|         19|       0|     3|Vander Planke, Mr...|female|             31.0|    1|    0|          345763|   18.0|    N|       S| Young Adult|\n",
            "|         20|       1|     3|Masselmani, Mrs. ...|female|29.69911764705882|    0|    0|            2649|  7.225|    N|       C|          NA|\n",
            "+-----------+--------+------+--------------------+------+-----------------+-----+-----+----------------+-------+-----+--------+------------+\n",
            "\n"
          ]
        }
      ],
      "source": [
        "titanic_sdf = titanic_sdf.fillna({'Age':titanic_sdf.select(F.avg(F.col('Age'))).first()[0],\n",
        "                   'Cabin': 'N',\n",
        "                   'Embarked': 'N'\n",
        "                   })\n",
        "titanic_sdf.limit(20).show()"
      ]
    },
    {
      "cell_type": "code",
      "execution_count": 43,
      "metadata": {
        "application/vnd.databricks.v1+cell": {
          "inputWidgets": {},
          "nuid": "0e5eade6-45e5-4b35-9265-423ac02daca1",
          "showTitle": false,
          "title": ""
        },
        "colab": {
          "base_uri": "https://localhost:8080/"
        },
        "id": "OXWrGKv_hu2-",
        "outputId": "00a86ec2-66b7-436f-aaa1-68e86cb1637e"
      },
      "outputs": [
        {
          "name": "stdout",
          "output_type": "stream",
          "text": [
            "+------------+--------+------+-----+\n",
            "|age_category|survived|   sex|count|\n",
            "+------------+--------+------+-----+\n",
            "|     Elderly|       1|female|    3|\n",
            "|     Student|       1|female|   41|\n",
            "|    Teenager|       0|  male|   31|\n",
            "|    Teenager|       0|female|    9|\n",
            "|     Student|       1|  male|   13|\n",
            "|        Baby|       0|female|    5|\n",
            "|       Child|       0|female|    8|\n",
            "|     Student|       0|female|   13|\n",
            "| Young Adult|       0|female|   30|\n",
            "|     Elderly|       0|  male|   17|\n",
            "|    Teenager|       1|female|   27|\n",
            "|       Child|       1|  male|    6|\n",
            "|        Baby|       1|  male|   15|\n",
            "| Young Adult|       1|  male|   46|\n",
            "|        Baby|       0|  male|    8|\n",
            "|       Adult|       1|female|   54|\n",
            "|       Adult|       0|  male|  101|\n",
            "|     Student|       0|  male|   95|\n",
            "|       Child|       1|female|    3|\n",
            "|       Adult|       1|  male|   24|\n",
            "+------------+--------+------+-----+\n",
            "only showing top 20 rows\n",
            "\n"
          ]
        }
      ],
      "source": [
        "# age의 Null값을 평균으로 대체했으므로 Age_Category 컬럼도 재 생성\n",
        "titanic_sdf = titanic_sdf.withColumn(\"Age_Category\",udf_get_category(col(\"Age\")))\n",
        "\n",
        "(titanic_sdf.groupBy('age_category', 'survived', 'sex').count()).show()\n"
      ]
    },
    {
      "cell_type": "code",
      "execution_count": 44,
      "metadata": {
        "application/vnd.databricks.v1+cell": {
          "inputWidgets": {},
          "nuid": "9389135e-449f-463b-a637-866ea4f56d0d",
          "showTitle": false,
          "title": ""
        },
        "colab": {
          "base_uri": "https://localhost:8080/"
        },
        "id": "pjEvS1hdhu2-",
        "outputId": "54ddcf74-aa52-4f0d-832b-a78a483961c1"
      },
      "outputs": [
        {
          "name": "stdout",
          "output_type": "stream",
          "text": [
            "+-----------+--------+------+--------------------+------+-----------------+-----+-----+----------------+-------+-----+--------+------------+\n",
            "|PassengerId|Survived|Pclass|                Name|   Sex|              Age|SibSp|Parch|          Ticket|   Fare|Cabin|Embarked|Age_Category|\n",
            "+-----------+--------+------+--------------------+------+-----------------+-----+-----+----------------+-------+-----+--------+------------+\n",
            "|          1|       0|     3|Braund, Mr. Owen ...|  male|             22.0|    1|    0|       A/5 21171|   7.25|    N|       S|     Student|\n",
            "|          2|       1|     1|Cumings, Mrs. Joh...|female|             38.0|    1|    0|        PC 17599|71.2833|    C|       C|       Adult|\n",
            "|          3|       1|     3|Heikkinen, Miss. ...|female|             26.0|    0|    0|STON/O2. 3101282|  7.925|    N|       S| Young Adult|\n",
            "|          4|       1|     1|Futrelle, Mrs. Ja...|female|             35.0|    1|    0|          113803|   53.1|    C|       S| Young Adult|\n",
            "|          5|       0|     3|Allen, Mr. Willia...|  male|             35.0|    0|    0|          373450|   8.05|    N|       S| Young Adult|\n",
            "|          6|       0|     3|    Moran, Mr. James|  male|29.69911764705882|    0|    0|          330877| 8.4583|    N|       Q| Young Adult|\n",
            "|          7|       0|     1|McCarthy, Mr. Tim...|  male|             54.0|    0|    0|           17463|51.8625|    E|       S|       Adult|\n",
            "|          8|       0|     3|Palsson, Master. ...|  male|              2.0|    3|    1|          349909| 21.075|    N|       S|        Baby|\n",
            "|          9|       1|     3|Johnson, Mrs. Osc...|female|             27.0|    0|    2|          347742|11.1333|    N|       S| Young Adult|\n",
            "|         10|       1|     2|Nasser, Mrs. Nich...|female|             14.0|    1|    0|          237736|30.0708|    N|       C|    Teenager|\n",
            "+-----------+--------+------+--------------------+------+-----------------+-----+-----+----------------+-------+-----+--------+------------+\n",
            "\n"
          ]
        }
      ],
      "source": [
        "# Cabin 컬럼은 맨 앞자리 문자로 대체. 컬럼 update시에 withColumn() 메소드 적용. \n",
        "titanic_sdf = titanic_sdf.withColumn('Cabin', F.substring(F.col('Cabin'), 0, 1))\n",
        "(titanic_sdf.limit(10)).show()"
      ]
    },
    {
      "cell_type": "code",
      "execution_count": 45,
      "metadata": {
        "application/vnd.databricks.v1+cell": {
          "inputWidgets": {},
          "nuid": "20d6e90f-bd47-4ee0-b4e8-578ee22cb33b",
          "showTitle": false,
          "title": ""
        },
        "colab": {
          "base_uri": "https://localhost:8080/"
        },
        "id": "-py-lhQJhu2-",
        "outputId": "509d35a2-678b-454f-fa69-bd4ecc495080"
      },
      "outputs": [
        {
          "name": "stdout",
          "output_type": "stream",
          "text": [
            "+-----------+--------+------+--------------------+------+-----------------+-----+-----+----------------+-------+-----+--------+------------+\n",
            "|PassengerId|Survived|Pclass|                Name|   Sex|              Age|SibSp|Parch|          Ticket|   Fare|Cabin|Embarked|Age_Category|\n",
            "+-----------+--------+------+--------------------+------+-----------------+-----+-----+----------------+-------+-----+--------+------------+\n",
            "|          1|       0|     3|Braund, Mr. Owen ...|  male|             22.0|    1|    0|       A/5 21171|   7.25|    N|       S|     Student|\n",
            "|          2|       1|     1|Cumings, Mrs. Joh...|female|             38.0|    1|    0|        PC 17599|71.2833|    C|       C|       Adult|\n",
            "|          3|       1|     3|Heikkinen, Miss. ...|female|             26.0|    0|    0|STON/O2. 3101282|  7.925|    N|       S| Young Adult|\n",
            "|          4|       1|     1|Futrelle, Mrs. Ja...|female|             35.0|    1|    0|          113803|   53.1|    C|       S| Young Adult|\n",
            "|          5|       0|     3|Allen, Mr. Willia...|  male|             35.0|    0|    0|          373450|   8.05|    N|       S| Young Adult|\n",
            "|          6|       0|     3|    Moran, Mr. James|  male|29.69911764705882|    0|    0|          330877| 8.4583|    N|       Q| Young Adult|\n",
            "|          7|       0|     1|McCarthy, Mr. Tim...|  male|             54.0|    0|    0|           17463|51.8625|    E|       S|       Adult|\n",
            "|          8|       0|     3|Palsson, Master. ...|  male|              2.0|    3|    1|          349909| 21.075|    N|       S|        Baby|\n",
            "|          9|       1|     3|Johnson, Mrs. Osc...|female|             27.0|    0|    2|          347742|11.1333|    N|       S| Young Adult|\n",
            "|         10|       1|     2|Nasser, Mrs. Nich...|female|             14.0|    1|    0|          237736|30.0708|    N|       C|    Teenager|\n",
            "+-----------+--------+------+--------------------+------+-----------------+-----+-----+----------------+-------+-----+--------+------------+\n",
            "\n"
          ]
        }
      ],
      "source": [
        "def fill_n_transform_columns(titanic_sdf):\n",
        "    titanic_sdf = titanic_sdf.fillna({'Age':titanic_sdf.select(F.avg(F.col('Age'))).first()[0],\n",
        "                                      'Cabin': 'N',\n",
        "                                      'Embarked':'N' \n",
        "                                     })\n",
        "\n",
        "    titanic_sdf = titanic_sdf.withColumn(\"Age_Category\",udf_get_category(col(\"Age\")))\n",
        "    titanic_sdf = titanic_sdf.withColumn('Cabin', F.substring(F.col('Cabin'), 0, 1))\n",
        "    \n",
        "    return titanic_sdf\n",
        "\n",
        "titanic_sdf = fill_n_transform_columns(titanic_sdf)\n",
        "(titanic_sdf.limit(10)).show()"
      ]
    },
    {
      "cell_type": "code",
      "execution_count": 46,
      "metadata": {
        "application/vnd.databricks.v1+cell": {
          "inputWidgets": {},
          "nuid": "3230b53d-27c8-4012-b169-47fe32e22b8a",
          "showTitle": false,
          "title": ""
        },
        "colab": {
          "base_uri": "https://localhost:8080/"
        },
        "id": "wE-q0tLKhu2-",
        "outputId": "7c1a71f2-130e-4eeb-e27a-99607af1739c"
      },
      "outputs": [
        {
          "name": "stdout",
          "output_type": "stream",
          "text": [
            "+-----------+--------+------+----+---+---+-----+-----+------+----+-----+--------+------------+\n",
            "|PassengerId|Survived|Pclass|Name|Sex|Age|SibSp|Parch|Ticket|Fare|Cabin|Embarked|Age_Category|\n",
            "+-----------+--------+------+----+---+---+-----+-----+------+----+-----+--------+------------+\n",
            "|          0|       0|     0|   0|  0|  0|    0|    0|     0|   0|    0|       0|           0|\n",
            "+-----------+--------+------+----+---+---+-----+-----+------+----+-----+--------+------------+\n",
            "\n"
          ]
        }
      ],
      "source": [
        "# null 값이 있는지 재 확인. \n",
        "titanic_sdf.select([F.count(F.when(F.col(c).isNull()|F.isnan(c), c)).alias(c) for c in titanic_sdf.columns]).show()"
      ]
    },
    {
      "cell_type": "code",
      "execution_count": 47,
      "metadata": {
        "application/vnd.databricks.v1+cell": {
          "inputWidgets": {},
          "nuid": "3ba13e16-4d9a-43c0-8a95-444339cd465a",
          "showTitle": false,
          "title": ""
        },
        "colab": {
          "base_uri": "https://localhost:8080/"
        },
        "id": "1f-9Q6nRhu2-",
        "outputId": "3363ffb5-dc70-4410-a814-13d8d7ceda6b"
      },
      "outputs": [
        {
          "name": "stdout",
          "output_type": "stream",
          "text": [
            "+--------+------+------+-----------------+-----+-----+-------+-----+--------+------------+\n",
            "|Survived|Pclass|   Sex|              Age|SibSp|Parch|   Fare|Cabin|Embarked|Age_Category|\n",
            "+--------+------+------+-----------------+-----+-----+-------+-----+--------+------------+\n",
            "|       0|     3|  male|             22.0|    1|    0|   7.25|    N|       S|     Student|\n",
            "|       1|     1|female|             38.0|    1|    0|71.2833|    C|       C|       Adult|\n",
            "|       1|     3|female|             26.0|    0|    0|  7.925|    N|       S| Young Adult|\n",
            "|       1|     1|female|             35.0|    1|    0|   53.1|    C|       S| Young Adult|\n",
            "|       0|     3|  male|             35.0|    0|    0|   8.05|    N|       S| Young Adult|\n",
            "|       0|     3|  male|29.69911764705882|    0|    0| 8.4583|    N|       Q| Young Adult|\n",
            "|       0|     1|  male|             54.0|    0|    0|51.8625|    E|       S|       Adult|\n",
            "|       0|     3|  male|              2.0|    3|    1| 21.075|    N|       S|        Baby|\n",
            "|       1|     3|female|             27.0|    0|    2|11.1333|    N|       S| Young Adult|\n",
            "|       1|     2|female|             14.0|    1|    0|30.0708|    N|       C|    Teenager|\n",
            "+--------+------+------+-----------------+-----+-----+-------+-----+--------+------------+\n",
            "\n"
          ]
        }
      ],
      "source": [
        "# 특정 컬럼들을 삭제하기. VectorAssembler 로 변환된 feature vector만 학습/예측에 참여하므로 여기서 삭제하지 않고 나중에 feature vectorization 때 제외해도 무방. \n",
        "def drop_columns(sdf, drop_cols=None):\n",
        "    # drop_cols는 인자로 list가 입력되나 Spark DataFrame의 drop() 메소드는 인자로 컬럼명 문자열을 입력 받음. \n",
        "    sdf = sdf.drop(*drop_cols)\n",
        "    return sdf\n",
        "\n",
        "titanic_sdf = drop_columns(titanic_sdf, drop_cols=['PassengerId', 'Name', 'Ticket'])\n",
        "\n",
        "(titanic_sdf.limit(10)).show()"
      ]
    },
    {
      "cell_type": "code",
      "execution_count": 48,
      "metadata": {
        "application/vnd.databricks.v1+cell": {
          "inputWidgets": {},
          "nuid": "bbf1e26b-bd43-4206-a603-2488eb5e9f77",
          "showTitle": false,
          "title": ""
        },
        "id": "gChII0vRhu2-"
      },
      "outputs": [],
      "source": [
        "from pyspark.ml.feature import StringIndexer, OneHotEncoder\n",
        "\n",
        "def label_encode_columns(sdf, input_cols=None):\n",
        "    \n",
        "    output_cols = [ 'label_'+col for col in input_cols]\n",
        "    string_indexer = StringIndexer(inputCols=input_cols, outputCols=output_cols)\n",
        "    sdf = string_indexer.fit(sdf).transform(sdf)\n",
        "    \n",
        "    return sdf\n",
        "\n",
        "def onehot_encode_columns(sdf, input_cols=None):\n",
        "    \n",
        "    label_cols = ['label_'+col for col in input_cols]\n",
        "            \n",
        "    string_indexer = StringIndexer(inputCols=input_cols, outputCols=label_cols)\n",
        "    sdf = string_indexer.fit(sdf).transform(sdf)\n",
        "    # sdf = label_encode_columns(sdf, input_cols)\n",
        "    \n",
        "    output_cols = ['onehot_'+col for col in input_cols]\n",
        "    onehot_encoder = OneHotEncoder(inputCols=label_cols, outputCols=output_cols)\n",
        "    sdf = onehot_encoder.fit(sdf).transform(sdf)\n",
        "    # one hot encoding 하기 위해 생성한 label encoding된 컬럼을 삭제\n",
        "    sdf = sdf.drop(*label_cols)\n",
        "    \n",
        "    return sdf"
      ]
    },
    {
      "cell_type": "code",
      "execution_count": 49,
      "metadata": {
        "application/vnd.databricks.v1+cell": {
          "inputWidgets": {},
          "nuid": "2df9ac71-5478-4483-9edb-4632ee56ce2e",
          "showTitle": false,
          "title": ""
        },
        "colab": {
          "base_uri": "https://localhost:8080/"
        },
        "id": "LT2Ob4DPhu2-",
        "outputId": "326d9d1a-3b0a-48ac-c1c4-8935323c8954"
      },
      "outputs": [
        {
          "name": "stdout",
          "output_type": "stream",
          "text": [
            "+--------+------+------+-----------------+-----+-----+-------+-----+--------+------------+------------------+-----------+---------+--------------+\n",
            "|Survived|Pclass|   Sex|              Age|SibSp|Parch|   Fare|Cabin|Embarked|Age_Category|label_Age_Category|label_Cabin|label_Sex|label_Embarked|\n",
            "+--------+------+------+-----------------+-----+-----+-------+-----+--------+------------+------------------+-----------+---------+--------------+\n",
            "|       0|     3|  male|             22.0|    1|    0|   7.25|    N|       S|     Student|               2.0|        0.0|      0.0|           0.0|\n",
            "|       1|     1|female|             38.0|    1|    0|71.2833|    C|       C|       Adult|               1.0|        1.0|      1.0|           1.0|\n",
            "|       1|     3|female|             26.0|    0|    0|  7.925|    N|       S| Young Adult|               0.0|        0.0|      1.0|           0.0|\n",
            "|       1|     1|female|             35.0|    1|    0|   53.1|    C|       S| Young Adult|               0.0|        1.0|      1.0|           0.0|\n",
            "|       0|     3|  male|             35.0|    0|    0|   8.05|    N|       S| Young Adult|               0.0|        0.0|      0.0|           0.0|\n",
            "|       0|     3|  male|29.69911764705882|    0|    0| 8.4583|    N|       Q| Young Adult|               0.0|        0.0|      0.0|           2.0|\n",
            "|       0|     1|  male|             54.0|    0|    0|51.8625|    E|       S|       Adult|               1.0|        4.0|      0.0|           0.0|\n",
            "|       0|     3|  male|              2.0|    3|    1| 21.075|    N|       S|        Baby|               4.0|        0.0|      0.0|           0.0|\n",
            "|       1|     3|female|             27.0|    0|    2|11.1333|    N|       S| Young Adult|               0.0|        0.0|      1.0|           0.0|\n",
            "|       1|     2|female|             14.0|    1|    0|30.0708|    N|       C|    Teenager|               3.0|        0.0|      1.0|           1.0|\n",
            "|       1|     3|female|              4.0|    1|    1|   16.7|    G|       S|        Baby|               4.0|        7.0|      1.0|           0.0|\n",
            "|       1|     1|female|             58.0|    0|    0|  26.55|    C|       S|       Adult|               1.0|        1.0|      1.0|           0.0|\n",
            "|       0|     3|  male|             20.0|    0|    0|   8.05|    N|       S|     Student|               2.0|        0.0|      0.0|           0.0|\n",
            "|       0|     3|  male|             39.0|    1|    5| 31.275|    N|       S|       Adult|               1.0|        0.0|      0.0|           0.0|\n",
            "|       0|     3|female|             14.0|    0|    0| 7.8542|    N|       S|    Teenager|               3.0|        0.0|      1.0|           0.0|\n",
            "|       1|     2|female|             55.0|    0|    0|   16.0|    N|       S|       Adult|               1.0|        0.0|      1.0|           0.0|\n",
            "|       0|     3|  male|              2.0|    4|    1| 29.125|    N|       Q|        Baby|               4.0|        0.0|      0.0|           2.0|\n",
            "|       1|     2|  male|29.69911764705882|    0|    0|   13.0|    N|       S| Young Adult|               0.0|        0.0|      0.0|           0.0|\n",
            "|       0|     3|female|             31.0|    1|    0|   18.0|    N|       S| Young Adult|               0.0|        0.0|      1.0|           0.0|\n",
            "|       1|     3|female|29.69911764705882|    0|    0|  7.225|    N|       C| Young Adult|               0.0|        0.0|      1.0|           1.0|\n",
            "+--------+------+------+-----------------+-----+-----+-------+-----+--------+------------+------------------+-----------+---------+--------------+\n",
            "only showing top 20 rows\n",
            "\n"
          ]
        }
      ],
      "source": [
        "titanic_sdf_enc_01 = label_encode_columns(titanic_sdf.select('*'), input_cols=['Age_Category', 'Cabin', 'Sex', 'Embarked'])\n",
        "titanic_sdf_enc_01.show()"
      ]
    },
    {
      "cell_type": "code",
      "execution_count": 50,
      "metadata": {
        "application/vnd.databricks.v1+cell": {
          "inputWidgets": {},
          "nuid": "801f30de-0243-47d5-9132-5ed7979be6b1",
          "showTitle": false,
          "title": ""
        },
        "colab": {
          "base_uri": "https://localhost:8080/"
        },
        "id": "dH2m8uKKhu2-",
        "outputId": "291162cd-f275-43f6-903d-3845334b707b"
      },
      "outputs": [
        {
          "name": "stdout",
          "output_type": "stream",
          "text": [
            "+--------+------+------+-----------------+-----+-----+-------+-----+--------+------------+-------------------+-------------+-------------+---------------+\n",
            "|Survived|Pclass|   Sex|              Age|SibSp|Parch|   Fare|Cabin|Embarked|Age_Category|onehot_Age_Category| onehot_Cabin|   onehot_Sex|onehot_Embarked|\n",
            "+--------+------+------+-----------------+-----+-----+-------+-----+--------+------------+-------------------+-------------+-------------+---------------+\n",
            "|       0|     3|  male|             22.0|    1|    0|   7.25|    N|       S|     Student|      (6,[2],[1.0])|(8,[0],[1.0])|(1,[0],[1.0])|  (3,[0],[1.0])|\n",
            "|       1|     1|female|             38.0|    1|    0|71.2833|    C|       C|       Adult|      (6,[1],[1.0])|(8,[1],[1.0])|    (1,[],[])|  (3,[1],[1.0])|\n",
            "|       1|     3|female|             26.0|    0|    0|  7.925|    N|       S| Young Adult|      (6,[0],[1.0])|(8,[0],[1.0])|    (1,[],[])|  (3,[0],[1.0])|\n",
            "|       1|     1|female|             35.0|    1|    0|   53.1|    C|       S| Young Adult|      (6,[0],[1.0])|(8,[1],[1.0])|    (1,[],[])|  (3,[0],[1.0])|\n",
            "|       0|     3|  male|             35.0|    0|    0|   8.05|    N|       S| Young Adult|      (6,[0],[1.0])|(8,[0],[1.0])|(1,[0],[1.0])|  (3,[0],[1.0])|\n",
            "|       0|     3|  male|29.69911764705882|    0|    0| 8.4583|    N|       Q| Young Adult|      (6,[0],[1.0])|(8,[0],[1.0])|(1,[0],[1.0])|  (3,[2],[1.0])|\n",
            "|       0|     1|  male|             54.0|    0|    0|51.8625|    E|       S|       Adult|      (6,[1],[1.0])|(8,[4],[1.0])|(1,[0],[1.0])|  (3,[0],[1.0])|\n",
            "|       0|     3|  male|              2.0|    3|    1| 21.075|    N|       S|        Baby|      (6,[4],[1.0])|(8,[0],[1.0])|(1,[0],[1.0])|  (3,[0],[1.0])|\n",
            "|       1|     3|female|             27.0|    0|    2|11.1333|    N|       S| Young Adult|      (6,[0],[1.0])|(8,[0],[1.0])|    (1,[],[])|  (3,[0],[1.0])|\n",
            "|       1|     2|female|             14.0|    1|    0|30.0708|    N|       C|    Teenager|      (6,[3],[1.0])|(8,[0],[1.0])|    (1,[],[])|  (3,[1],[1.0])|\n",
            "|       1|     3|female|              4.0|    1|    1|   16.7|    G|       S|        Baby|      (6,[4],[1.0])|(8,[7],[1.0])|    (1,[],[])|  (3,[0],[1.0])|\n",
            "|       1|     1|female|             58.0|    0|    0|  26.55|    C|       S|       Adult|      (6,[1],[1.0])|(8,[1],[1.0])|    (1,[],[])|  (3,[0],[1.0])|\n",
            "|       0|     3|  male|             20.0|    0|    0|   8.05|    N|       S|     Student|      (6,[2],[1.0])|(8,[0],[1.0])|(1,[0],[1.0])|  (3,[0],[1.0])|\n",
            "|       0|     3|  male|             39.0|    1|    5| 31.275|    N|       S|       Adult|      (6,[1],[1.0])|(8,[0],[1.0])|(1,[0],[1.0])|  (3,[0],[1.0])|\n",
            "|       0|     3|female|             14.0|    0|    0| 7.8542|    N|       S|    Teenager|      (6,[3],[1.0])|(8,[0],[1.0])|    (1,[],[])|  (3,[0],[1.0])|\n",
            "|       1|     2|female|             55.0|    0|    0|   16.0|    N|       S|       Adult|      (6,[1],[1.0])|(8,[0],[1.0])|    (1,[],[])|  (3,[0],[1.0])|\n",
            "|       0|     3|  male|              2.0|    4|    1| 29.125|    N|       Q|        Baby|      (6,[4],[1.0])|(8,[0],[1.0])|(1,[0],[1.0])|  (3,[2],[1.0])|\n",
            "|       1|     2|  male|29.69911764705882|    0|    0|   13.0|    N|       S| Young Adult|      (6,[0],[1.0])|(8,[0],[1.0])|(1,[0],[1.0])|  (3,[0],[1.0])|\n",
            "|       0|     3|female|             31.0|    1|    0|   18.0|    N|       S| Young Adult|      (6,[0],[1.0])|(8,[0],[1.0])|    (1,[],[])|  (3,[0],[1.0])|\n",
            "|       1|     3|female|29.69911764705882|    0|    0|  7.225|    N|       C| Young Adult|      (6,[0],[1.0])|(8,[0],[1.0])|    (1,[],[])|  (3,[1],[1.0])|\n",
            "+--------+------+------+-----------------+-----+-----+-------+-----+--------+------------+-------------------+-------------+-------------+---------------+\n",
            "only showing top 20 rows\n",
            "\n"
          ]
        }
      ],
      "source": [
        "titanic_sdf_enc_01 = onehot_encode_columns(titanic_sdf.select('*'), input_cols=['Age_Category', 'Cabin', 'Sex', 'Embarked'])\n",
        "(titanic_sdf_enc_01).show()"
      ]
    },
    {
      "cell_type": "code",
      "execution_count": 51,
      "metadata": {
        "application/vnd.databricks.v1+cell": {
          "inputWidgets": {},
          "nuid": "fd6fb87a-cb7b-46e0-aff8-894fb5558750",
          "showTitle": false,
          "title": ""
        },
        "colab": {
          "base_uri": "https://localhost:8080/"
        },
        "id": "AxASxqTqhu2-",
        "outputId": "fda36dfd-07df-43f3-a635-1907be2ce410"
      },
      "outputs": [
        {
          "name": "stdout",
          "output_type": "stream",
          "text": [
            "+--------+------+------+-----------------+-----+-----+-------+-----+--------+------------+------------------+-----------+---------+--------------+-------------------+-------------+-------------+---------------+\n",
            "|Survived|Pclass|   Sex|              Age|SibSp|Parch|   Fare|Cabin|Embarked|Age_Category|label_Age_Category|label_Cabin|label_Sex|label_Embarked|onehot_Age_Category| onehot_Cabin|   onehot_Sex|onehot_Embarked|\n",
            "+--------+------+------+-----------------+-----+-----+-------+-----+--------+------------+------------------+-----------+---------+--------------+-------------------+-------------+-------------+---------------+\n",
            "|       0|     3|  male|             22.0|    1|    0|   7.25|    N|       S|     Student|               2.0|        0.0|      0.0|           0.0|      (6,[2],[1.0])|(8,[0],[1.0])|(1,[0],[1.0])|  (3,[0],[1.0])|\n",
            "|       1|     1|female|             38.0|    1|    0|71.2833|    C|       C|       Adult|               1.0|        1.0|      1.0|           1.0|      (6,[1],[1.0])|(8,[1],[1.0])|    (1,[],[])|  (3,[1],[1.0])|\n",
            "|       1|     3|female|             26.0|    0|    0|  7.925|    N|       S| Young Adult|               0.0|        0.0|      1.0|           0.0|      (6,[0],[1.0])|(8,[0],[1.0])|    (1,[],[])|  (3,[0],[1.0])|\n",
            "|       1|     1|female|             35.0|    1|    0|   53.1|    C|       S| Young Adult|               0.0|        1.0|      1.0|           0.0|      (6,[0],[1.0])|(8,[1],[1.0])|    (1,[],[])|  (3,[0],[1.0])|\n",
            "|       0|     3|  male|             35.0|    0|    0|   8.05|    N|       S| Young Adult|               0.0|        0.0|      0.0|           0.0|      (6,[0],[1.0])|(8,[0],[1.0])|(1,[0],[1.0])|  (3,[0],[1.0])|\n",
            "|       0|     3|  male|29.69911764705882|    0|    0| 8.4583|    N|       Q| Young Adult|               0.0|        0.0|      0.0|           2.0|      (6,[0],[1.0])|(8,[0],[1.0])|(1,[0],[1.0])|  (3,[2],[1.0])|\n",
            "|       0|     1|  male|             54.0|    0|    0|51.8625|    E|       S|       Adult|               1.0|        4.0|      0.0|           0.0|      (6,[1],[1.0])|(8,[4],[1.0])|(1,[0],[1.0])|  (3,[0],[1.0])|\n",
            "|       0|     3|  male|              2.0|    3|    1| 21.075|    N|       S|        Baby|               4.0|        0.0|      0.0|           0.0|      (6,[4],[1.0])|(8,[0],[1.0])|(1,[0],[1.0])|  (3,[0],[1.0])|\n",
            "|       1|     3|female|             27.0|    0|    2|11.1333|    N|       S| Young Adult|               0.0|        0.0|      1.0|           0.0|      (6,[0],[1.0])|(8,[0],[1.0])|    (1,[],[])|  (3,[0],[1.0])|\n",
            "|       1|     2|female|             14.0|    1|    0|30.0708|    N|       C|    Teenager|               3.0|        0.0|      1.0|           1.0|      (6,[3],[1.0])|(8,[0],[1.0])|    (1,[],[])|  (3,[1],[1.0])|\n",
            "+--------+------+------+-----------------+-----+-----+-------+-----+--------+------------+------------------+-----------+---------+--------------+-------------------+-------------+-------------+---------------+\n",
            "\n"
          ]
        }
      ],
      "source": [
        "from pyspark.ml.feature import StringIndexer, OneHotEncoder\n",
        "from pyspark.ml import Pipeline\n",
        "\n",
        "# Pipeline을 이용한 Encoding 함수. \n",
        "def encode_columns(sdf, input_cols=None, encode_gubun='label'):\n",
        "    # label encoding과 one hot encoding 변환 컬럼명 지정. \n",
        "    label_cols = ['label_'+col for col in input_cols]\n",
        "    onehot_cols = ['onehot_'+col for col in input_cols]\n",
        "    \n",
        "    #pipeline의 stages로 지정된 StringIndexer와 OneHotEncoder 객체 생성. \n",
        "    label_encoder_stage = StringIndexer(inputCols=input_cols, outputCols=label_cols)\n",
        "    onehot_encoder_stage = OneHotEncoder(inputCols=label_cols, outputCols=onehot_cols)\n",
        "    \n",
        "    # encode_gubun이 label이면 StringIndexer stage만 등록, onehot이면 StringIndexer, OneHotEncoder 모두 등록. \n",
        "    stages = []\n",
        "    if encode_gubun == 'label':\n",
        "        stages = [label_encoder_stage]\n",
        "    else:\n",
        "        stages = [label_encoder_stage, onehot_encoder_stage]\n",
        "        \n",
        "    pipeline = Pipeline(stages=stages)\n",
        "    sdf = pipeline.fit(sdf).transform(sdf)\n",
        "    \n",
        "    return sdf\n",
        "  \n",
        "titanic_sdf_encode_02 = encode_columns(titanic_sdf.select('*'), input_cols=['Age_Category', 'Cabin', 'Sex', 'Embarked'], encode_gubun='onehot')\n",
        "(titanic_sdf_encode_02.limit(10)).show()"
      ]
    },
    {
      "cell_type": "markdown",
      "metadata": {
        "application/vnd.databricks.v1+cell": {
          "inputWidgets": {},
          "nuid": "53e33fd6-5731-46f4-8e2d-d0670fd8fe43",
          "showTitle": false,
          "title": ""
        },
        "id": "ywp1R-DRhu2-"
      },
      "source": [
        "### 학습, 예측, 평가 수행. \n",
        "* 데이터 재로딩 및 사전 데이터 재 가공 수행. \n",
        "* feature vectorization 적용 후 학습과 테스트 데이터 세트로 분할하여 학습, 예측, 성능 평가 수행."
      ]
    },
    {
      "cell_type": "code",
      "execution_count": 52,
      "metadata": {
        "application/vnd.databricks.v1+cell": {
          "inputWidgets": {},
          "nuid": "15eedc6a-6f98-43c9-89b8-72dea4b61122",
          "showTitle": false,
          "title": ""
        },
        "colab": {
          "base_uri": "https://localhost:8080/"
        },
        "id": "-MUOgiXchu2-",
        "outputId": "5857a3ed-0ece-40e7-deb4-9c3a4ca77a5f"
      },
      "outputs": [
        {
          "name": "stdout",
          "output_type": "stream",
          "text": [
            "root\n",
            " |-- PassengerId: integer (nullable = true)\n",
            " |-- Survived: integer (nullable = true)\n",
            " |-- Pclass: integer (nullable = true)\n",
            " |-- Name: string (nullable = true)\n",
            " |-- Sex: string (nullable = true)\n",
            " |-- Age: double (nullable = false)\n",
            " |-- SibSp: integer (nullable = true)\n",
            " |-- Parch: integer (nullable = true)\n",
            " |-- Ticket: string (nullable = true)\n",
            " |-- Fare: double (nullable = true)\n",
            " |-- Cabin: string (nullable = false)\n",
            " |-- Embarked: string (nullable = false)\n",
            " |-- Age_Category: string (nullable = true)\n",
            " |-- label_Age_Category: double (nullable = false)\n",
            " |-- label_Cabin: double (nullable = false)\n",
            " |-- label_Sex: double (nullable = false)\n",
            " |-- label_Embarked: double (nullable = false)\n",
            "\n",
            "+-----------+--------+------+----+---+---+-----+-----+------+----+-----+--------+------------+------------------+-----------+---------+--------------+\n",
            "|PassengerId|Survived|Pclass|Name|Sex|Age|SibSp|Parch|Ticket|Fare|Cabin|Embarked|Age_Category|label_Age_Category|label_Cabin|label_Sex|label_Embarked|\n",
            "+-----------+--------+------+----+---+---+-----+-----+------+----+-----+--------+------------+------------------+-----------+---------+--------------+\n",
            "|          0|       0|     0|   0|  0|  0|    0|    0|     0|   0|    0|       0|           0|                 0|          0|        0|             0|\n",
            "+-----------+--------+------+----+---+---+-----+-----+------+----+-----+--------+------------+------------------+-----------+---------+--------------+\n",
            "\n",
            "+-----------+--------+------+--------------------+------+-----------------+-----+-----+----------------+-------+-----+--------+------------+------------------+-----------+---------+--------------+\n",
            "|PassengerId|Survived|Pclass|                Name|   Sex|              Age|SibSp|Parch|          Ticket|   Fare|Cabin|Embarked|Age_Category|label_Age_Category|label_Cabin|label_Sex|label_Embarked|\n",
            "+-----------+--------+------+--------------------+------+-----------------+-----+-----+----------------+-------+-----+--------+------------+------------------+-----------+---------+--------------+\n",
            "|          1|       0|     3|Braund, Mr. Owen ...|  male|             22.0|    1|    0|       A/5 21171|   7.25|    N|       S|     Student|               2.0|        0.0|      0.0|           0.0|\n",
            "|          2|       1|     1|Cumings, Mrs. Joh...|female|             38.0|    1|    0|        PC 17599|71.2833|    C|       C|       Adult|               1.0|        1.0|      1.0|           1.0|\n",
            "|          3|       1|     3|Heikkinen, Miss. ...|female|             26.0|    0|    0|STON/O2. 3101282|  7.925|    N|       S| Young Adult|               0.0|        0.0|      1.0|           0.0|\n",
            "|          4|       1|     1|Futrelle, Mrs. Ja...|female|             35.0|    1|    0|          113803|   53.1|    C|       S| Young Adult|               0.0|        1.0|      1.0|           0.0|\n",
            "|          5|       0|     3|Allen, Mr. Willia...|  male|             35.0|    0|    0|          373450|   8.05|    N|       S| Young Adult|               0.0|        0.0|      0.0|           0.0|\n",
            "|          6|       0|     3|    Moran, Mr. James|  male|29.69911764705882|    0|    0|          330877| 8.4583|    N|       Q| Young Adult|               0.0|        0.0|      0.0|           2.0|\n",
            "|          7|       0|     1|McCarthy, Mr. Tim...|  male|             54.0|    0|    0|           17463|51.8625|    E|       S|       Adult|               1.0|        4.0|      0.0|           0.0|\n",
            "|          8|       0|     3|Palsson, Master. ...|  male|              2.0|    3|    1|          349909| 21.075|    N|       S|        Baby|               4.0|        0.0|      0.0|           0.0|\n",
            "|          9|       1|     3|Johnson, Mrs. Osc...|female|             27.0|    0|    2|          347742|11.1333|    N|       S| Young Adult|               0.0|        0.0|      1.0|           0.0|\n",
            "|         10|       1|     2|Nasser, Mrs. Nich...|female|             14.0|    1|    0|          237736|30.0708|    N|       C|    Teenager|               3.0|        0.0|      1.0|           1.0|\n",
            "+-----------+--------+------+--------------------+------+-----------------+-----+-----+----------------+-------+-----+--------+------------+------------------+-----------+---------+--------------+\n",
            "\n"
          ]
        }
      ],
      "source": [
        "# titanic 데이터 세트를 다시 spark DataFrame으로 재로딩하고 데이터 사전 가공, Encoding 작업 진행. \n",
        "titanic_sdf = spark.read.csv('/content/drive/MyDrive/SparkML/titanic/train.csv', header=True, inferSchema=True)\n",
        "\n",
        "titanic_sdf = fill_n_transform_columns(titanic_sdf)\n",
        "titanic_sdf = encode_columns(titanic_sdf, input_cols=['Age_Category', 'Cabin', 'Sex', 'Embarked'], encode_gubun='label')\n",
        "\n",
        "# schema 확인 및 Null 값 확인. \n",
        "titanic_sdf.printSchema()\n",
        "titanic_sdf.select([F.count(F.when(F.col(c).isNull()|F.isnan(c), c)).alias(c) for c in titanic_sdf.columns]).show()\n",
        "(titanic_sdf.limit(10)).show()"
      ]
    },
    {
      "cell_type": "code",
      "execution_count": 53,
      "metadata": {
        "application/vnd.databricks.v1+cell": {
          "inputWidgets": {},
          "nuid": "3e69500b-57e0-41d4-a95a-333ffce20025",
          "showTitle": false,
          "title": ""
        },
        "colab": {
          "base_uri": "https://localhost:8080/"
        },
        "id": "Nmef-Rsyhu2-",
        "outputId": "5946d430-eb56-4415-de06-d93aea2f7367"
      },
      "outputs": [
        {
          "name": "stdout",
          "output_type": "stream",
          "text": [
            "삭제될 columns: ['Name', 'Sex', 'Ticket', 'Cabin', 'Embarked', 'Age_Category', 'Survived', 'PassengerId']\n",
            "vector화될 columns: ['Pclass', 'Age', 'SibSp', 'Parch', 'Fare', 'label_Age_Category', 'label_Cabin', 'label_Sex', 'label_Embarked']\n"
          ]
        }
      ],
      "source": [
        "# feature vectorization 적용할 column명 추출. 문자열 컬럼 제외, label 컬럼인 Survived는 제외, 불필요한 PassengerId 컬럼 제외\n",
        "drop_columns = [column_name for column_name, column_type in titanic_sdf.dtypes if column_type == 'string']\n",
        "drop_columns += ['Survived', 'PassengerId']\n",
        "print('삭제될 columns:', drop_columns)\n",
        "\n",
        "# titanic_sdf Dataframe 컬럼에서 삭제될 컬럼을 제외.  \n",
        "vector_columns = [column for column in titanic_sdf.columns if column not in drop_columns]\n",
        "print('vector화될 columns:', vector_columns)"
      ]
    },
    {
      "cell_type": "code",
      "execution_count": 56,
      "metadata": {
        "application/vnd.databricks.v1+cell": {
          "inputWidgets": {},
          "nuid": "d120fa02-5e3a-49bf-9401-a07f9f0e130f",
          "showTitle": false,
          "title": ""
        },
        "colab": {
          "base_uri": "https://localhost:8080/"
        },
        "id": "059qL7eIhu2_",
        "outputId": "d6bd0095-cec6-4ebd-d1b2-d94dffcf86c7"
      },
      "outputs": [
        {
          "name": "stdout",
          "output_type": "stream",
          "text": [
            "+-----------+--------+------+--------------------+------+----+-----+-----+----------------+-------+-----+--------+------------+------------------+-----------+---------+--------------+--------------------+\n",
            "|PassengerId|Survived|Pclass|                Name|   Sex| Age|SibSp|Parch|          Ticket|   Fare|Cabin|Embarked|Age_Category|label_Age_Category|label_Cabin|label_Sex|label_Embarked|            features|\n",
            "+-----------+--------+------+--------------------+------+----+-----+-----+----------------+-------+-----+--------+------------+------------------+-----------+---------+--------------+--------------------+\n",
            "|          1|       0|     3|Braund, Mr. Owen ...|  male|22.0|    1|    0|       A/5 21171|   7.25|    N|       S|     Student|               2.0|        0.0|      0.0|           0.0|[3.0,22.0,1.0,0.0...|\n",
            "|          2|       1|     1|Cumings, Mrs. Joh...|female|38.0|    1|    0|        PC 17599|71.2833|    C|       C|       Adult|               1.0|        1.0|      1.0|           1.0|[1.0,38.0,1.0,0.0...|\n",
            "|          3|       1|     3|Heikkinen, Miss. ...|female|26.0|    0|    0|STON/O2. 3101282|  7.925|    N|       S| Young Adult|               0.0|        0.0|      1.0|           0.0|(9,[0,1,4,7],[3.0...|\n",
            "|          4|       1|     1|Futrelle, Mrs. Ja...|female|35.0|    1|    0|          113803|   53.1|    C|       S| Young Adult|               0.0|        1.0|      1.0|           0.0|[1.0,35.0,1.0,0.0...|\n",
            "|          5|       0|     3|Allen, Mr. Willia...|  male|35.0|    0|    0|          373450|   8.05|    N|       S| Young Adult|               0.0|        0.0|      0.0|           0.0|(9,[0,1,4],[3.0,3...|\n",
            "|          8|       0|     3|Palsson, Master. ...|  male| 2.0|    3|    1|          349909| 21.075|    N|       S|        Baby|               4.0|        0.0|      0.0|           0.0|[3.0,2.0,3.0,1.0,...|\n",
            "|          9|       1|     3|Johnson, Mrs. Osc...|female|27.0|    0|    2|          347742|11.1333|    N|       S| Young Adult|               0.0|        0.0|      1.0|           0.0|[3.0,27.0,0.0,2.0...|\n",
            "|         10|       1|     2|Nasser, Mrs. Nich...|female|14.0|    1|    0|          237736|30.0708|    N|       C|    Teenager|               3.0|        0.0|      1.0|           1.0|[2.0,14.0,1.0,0.0...|\n",
            "|         11|       1|     3|Sandstrom, Miss. ...|female| 4.0|    1|    1|         PP 9549|   16.7|    G|       S|        Baby|               4.0|        7.0|      1.0|           0.0|[3.0,4.0,1.0,1.0,...|\n",
            "|         12|       1|     1|Bonnell, Miss. El...|female|58.0|    0|    0|          113783|  26.55|    C|       S|       Adult|               1.0|        1.0|      1.0|           0.0|[1.0,58.0,0.0,0.0...|\n",
            "+-----------+--------+------+--------------------+------+----+-----+-----+----------------+-------+-----+--------+------------+------------------+-----------+---------+--------------+--------------------+\n",
            "\n"
          ]
        }
      ],
      "source": [
        "# feature vector화 적용 후 train과 test 데이터 세트로 분리. \n",
        "from pyspark.ml.feature import VectorAssembler\n",
        "\n",
        "vector_assembler = VectorAssembler(inputCols=vector_columns, outputCol='features')\n",
        "titanic_sdf = vector_assembler.transform(titanic_sdf)\n",
        "\n",
        "# Pipeline을 적용하지 않을 것이면 전체 데이터를 feature vector화 한 후에 train과 test 데이터 세트로 분리하는게 조금 더 편리. \n",
        "train_sdf , test_sdf = titanic_sdf.randomSplit([0.8, 0.2], seed=11)\n",
        "(train_sdf.limit(10)).show()\n",
        "\n",
        "# 만약, Pipeline은 안에서 vectorization을 알아서 수행하기 때문에 미리 쪼갤 필요는 없음. 하지만 다른 패키지를 사용한다면, 전처리 작업을 모두 한 후 분리하는게 더 편리."
      ]
    },
    {
      "cell_type": "code",
      "execution_count": 58,
      "metadata": {
        "application/vnd.databricks.v1+cell": {
          "inputWidgets": {},
          "nuid": "346d6f5f-a822-4e56-82d4-4705a1055509",
          "showTitle": false,
          "title": ""
        },
        "colab": {
          "base_uri": "https://localhost:8080/"
        },
        "id": "pIBxhDUMhu2_",
        "outputId": "d1e33923-c0b8-41fb-ea06-6b338a4fe5fe"
      },
      "outputs": [
        {
          "name": "stdout",
          "output_type": "stream",
          "text": [
            "+-----------+--------+------+--------------------+------+-----------------+-----+-----+----------+-------+-----+--------+------------+------------------+-----------+---------+--------------+--------------------+-------------+--------------------+----------+\n",
            "|PassengerId|Survived|Pclass|                Name|   Sex|              Age|SibSp|Parch|    Ticket|   Fare|Cabin|Embarked|Age_Category|label_Age_Category|label_Cabin|label_Sex|label_Embarked|            features|rawPrediction|         probability|prediction|\n",
            "+-----------+--------+------+--------------------+------+-----------------+-----+-----+----------+-------+-----+--------+------------+------------------+-----------+---------+--------------+--------------------+-------------+--------------------+----------+\n",
            "|          6|       0|     3|    Moran, Mr. James|  male|29.69911764705882|    0|    0|    330877| 8.4583|    N|       Q| Young Adult|               0.0|        0.0|      0.0|           2.0|(9,[0,1,4,8],[3.0...| [302.0,37.0]|[0.89085545722713...|       0.0|\n",
            "|          7|       0|     1|McCarthy, Mr. Tim...|  male|             54.0|    0|    0|     17463|51.8625|    E|       S|       Adult|               1.0|        4.0|      0.0|           0.0|[1.0,54.0,0.0,0.0...|    [4.0,2.0]|[0.66666666666666...|       0.0|\n",
            "|         13|       0|     3|Saundercock, Mr. ...|  male|             20.0|    0|    0| A/5. 2151|   8.05|    N|       S|     Student|               2.0|        0.0|      0.0|           0.0|(9,[0,1,4,5],[3.0...| [302.0,37.0]|[0.89085545722713...|       0.0|\n",
            "|         14|       0|     3|Andersson, Mr. An...|  male|             39.0|    1|    5|    347082| 31.275|    N|       S|       Adult|               1.0|        0.0|      0.0|           0.0|[3.0,39.0,1.0,5.0...| [302.0,37.0]|[0.89085545722713...|       0.0|\n",
            "|         15|       0|     3|Vestrom, Miss. Hu...|female|             14.0|    0|    0|    350406| 7.8542|    N|       S|    Teenager|               3.0|        0.0|      1.0|           0.0|[3.0,14.0,0.0,0.0...|  [19.0,22.0]|[0.46341463414634...|       1.0|\n",
            "|         17|       0|     3|Rice, Master. Eugene|  male|              2.0|    4|    1|    382652| 29.125|    N|       Q|        Baby|               4.0|        0.0|      0.0|           2.0|[3.0,2.0,4.0,1.0,...|    [9.0,0.0]|           [1.0,0.0]|       0.0|\n",
            "|         18|       1|     2|Williams, Mr. Cha...|  male|29.69911764705882|    0|    0|    244373|   13.0|    N|       S| Young Adult|               0.0|        0.0|      0.0|           0.0|(9,[0,1,4],[2.0,2...| [302.0,37.0]|[0.89085545722713...|       0.0|\n",
            "|         22|       1|     2|Beesley, Mr. Lawr...|  male|             34.0|    0|    0|    248698|   13.0|    D|       S| Young Adult|               0.0|        3.0|      0.0|           0.0|(9,[0,1,4,6],[2.0...|  [37.0,19.0]|[0.66071428571428...|       0.0|\n",
            "|         28|       0|     1|Fortune, Mr. Char...|  male|             19.0|    3|    2|     19950|  263.0|    C|       S|     Student|               2.0|        1.0|      0.0|           0.0|[1.0,19.0,3.0,2.0...|  [37.0,19.0]|[0.66071428571428...|       0.0|\n",
            "|         30|       0|     3| Todoroff, Mr. Lalio|  male|29.69911764705882|    0|    0|    349216| 7.8958|    N|       S| Young Adult|               0.0|        0.0|      0.0|           0.0|(9,[0,1,4],[3.0,2...| [302.0,37.0]|[0.89085545722713...|       0.0|\n",
            "|         33|       1|     3|Glynn, Miss. Mary...|female|29.69911764705882|    0|    0|    335677|   7.75|    N|       Q| Young Adult|               0.0|        0.0|      1.0|           2.0|[3.0,29.699117647...|  [11.0,32.0]|[0.25581395348837...|       1.0|\n",
            "|         38|       0|     3|Cann, Mr. Ernest ...|  male|             21.0|    0|    0|A./5. 2152|   8.05|    N|       S|     Student|               2.0|        0.0|      0.0|           0.0|(9,[0,1,4,5],[3.0...| [302.0,37.0]|[0.89085545722713...|       0.0|\n",
            "|         40|       1|     3|Nicola-Yarred, Mi...|female|             14.0|    1|    0|      2651|11.2417|    N|       C|    Teenager|               3.0|        0.0|      1.0|           1.0|[3.0,14.0,1.0,0.0...|  [11.0,32.0]|[0.25581395348837...|       1.0|\n",
            "|         48|       1|     3|O'Driscoll, Miss....|female|29.69911764705882|    0|    0|     14311|   7.75|    N|       Q| Young Adult|               0.0|        0.0|      1.0|           2.0|[3.0,29.699117647...|  [11.0,32.0]|[0.25581395348837...|       1.0|\n",
            "|         52|       0|     3|Nosworthy, Mr. Ri...|  male|             21.0|    0|    0|A/4. 39886|    7.8|    N|       S|     Student|               2.0|        0.0|      0.0|           0.0|(9,[0,1,4,5],[3.0...| [302.0,37.0]|[0.89085545722713...|       0.0|\n",
            "|         68|       0|     3|Crease, Mr. Ernes...|  male|             19.0|    0|    0| S.P. 3464| 8.1583|    N|       S|     Student|               2.0|        0.0|      0.0|           0.0|(9,[0,1,4,5],[3.0...| [302.0,37.0]|[0.89085545722713...|       0.0|\n",
            "|         72|       0|     3|Goodwin, Miss. Li...|female|             16.0|    5|    2|   CA 2144|   46.9|    N|       S|    Teenager|               3.0|        0.0|      1.0|           0.0|[3.0,16.0,5.0,2.0...|   [10.0,2.0]|[0.83333333333333...|       0.0|\n",
            "|         76|       0|     3|Moen, Mr. Sigurd ...|  male|             25.0|    0|    0|    348123|   7.65|    F|       S|     Student|               2.0|        6.0|      0.0|           0.0|[3.0,25.0,0.0,0.0...|  [37.0,19.0]|[0.66071428571428...|       0.0|\n",
            "|         79|       1|     2|Caldwell, Master....|  male|             0.83|    0|    2|    248738|   29.0|    N|       S|        Baby|               4.0|        0.0|      0.0|           0.0|[2.0,0.83,0.0,2.0...|    [0.0,7.0]|           [0.0,1.0]|       1.0|\n",
            "|         89|       1|     1|Fortune, Miss. Ma...|female|             23.0|    3|    2|     19950|  263.0|    C|       S|     Student|               2.0|        1.0|      1.0|           0.0|[1.0,23.0,3.0,2.0...|   [1.0,73.0]|[0.01351351351351...|       1.0|\n",
            "+-----------+--------+------+--------------------+------+-----------------+-----+-----+----------+-------+-----+--------+------------+------------------+-----------+---------+--------------+--------------------+-------------+--------------------+----------+\n",
            "only showing top 20 rows\n",
            "\n"
          ]
        }
      ],
      "source": [
        "# 학습 데이터로 학습 후 테스트 데이터로 예측 \n",
        "from pyspark.ml.classification import DecisionTreeClassifier\n",
        "\n",
        "dt_estimator = DecisionTreeClassifier(featuresCol='features', labelCol='Survived')\n",
        "dt_model = dt_estimator.fit(train_sdf)\n",
        "# test_sdf는 이미 feature vector화 되어 있으므로 별도의 feature vector화 작업 불필요. \n",
        "predictions = dt_model.transform(test_sdf)\n",
        "\n",
        "(predictions).show()"
      ]
    },
    {
      "cell_type": "code",
      "execution_count": 59,
      "metadata": {
        "application/vnd.databricks.v1+cell": {
          "inputWidgets": {},
          "nuid": "850a0603-73d3-4279-9c28-1877a6fc9e84",
          "showTitle": false,
          "title": ""
        },
        "colab": {
          "base_uri": "https://localhost:8080/"
        },
        "id": "JjxmDxqxhu2_",
        "outputId": "e6c7c79c-cfb5-4077-c80e-ac43737fed9a"
      },
      "outputs": [
        {
          "name": "stdout",
          "output_type": "stream",
          "text": [
            "정확도: 0.8297872340425532\n"
          ]
        }
      ],
      "source": [
        "# 테스트 데이터의 예측 성능 정확도 평가\n",
        "from pyspark.ml.evaluation import MulticlassClassificationEvaluator\n",
        "\n",
        "accuracy_evaluator = MulticlassClassificationEvaluator(labelCol='Survived', predictionCol='prediction', metricName='accuracy')\n",
        "print('정확도:', accuracy_evaluator.evaluate(predictions))\n"
      ]
    },
    {
      "cell_type": "code",
      "execution_count": 60,
      "metadata": {
        "application/vnd.databricks.v1+cell": {
          "inputWidgets": {},
          "nuid": "c0576153-9764-47ac-a5b5-562450eb4a01",
          "showTitle": false,
          "title": ""
        },
        "colab": {
          "base_uri": "https://localhost:8080/",
          "height": 35
        },
        "id": "otTPXOUGhu2_",
        "outputId": "e727bb0f-1228-4294-f70c-3511dcbabf2e"
      },
      "outputs": [
        {
          "data": {
            "application/vnd.google.colaboratory.intrinsic+json": {
              "type": "string"
            },
            "text/plain": [
              "'DecisionTreeClassifier'"
            ]
          },
          "execution_count": 60,
          "metadata": {},
          "output_type": "execute_result"
        }
      ],
      "source": [
        "dt_estimator.__class__.__name__"
      ]
    },
    {
      "cell_type": "code",
      "execution_count": 61,
      "metadata": {
        "application/vnd.databricks.v1+cell": {
          "inputWidgets": {},
          "nuid": "5ecf1ea6-1d1f-4820-8aa2-384f0993bf1f",
          "showTitle": false,
          "title": ""
        },
        "colab": {
          "base_uri": "https://localhost:8080/"
        },
        "id": "RofyFawChu2_",
        "outputId": "97cd7b13-0e9a-4b53-a359-6361dccfcd37"
      },
      "outputs": [
        {
          "name": "stdout",
          "output_type": "stream",
          "text": [
            "DecisionTreeClassifier  정확도: 0.8297872340425532\n"
          ]
        }
      ],
      "source": [
        "# estimator 별로 학습/예측/평가를 수행하기 위한 함수 생성. \n",
        "def train_test_eval(estimator, train_sdf, test_sdf, evaluator):\n",
        "    estimator_model = estimator.fit(train_sdf)\n",
        "    predictions = estimator_model.transform(test_sdf)\n",
        "    accuracy = evaluator.evaluate(predictions)\n",
        "    print(estimator.__class__.__name__, ' 정확도:', accuracy)\n",
        "\n",
        "# 이미 titanic_sdf에 features 컬럼이 있으면 이를 drop\n",
        "titanic_sdf = titanic_sdf.drop('features')\n",
        "\n",
        "vector_assembler = VectorAssembler(inputCols=vector_columns, outputCol='features')\n",
        "titanic_sdf = vector_assembler.transform(titanic_sdf)\n",
        "train_sdf , test_sdf = titanic_sdf.randomSplit([0.8, 0.2], seed=11)\n",
        "\n",
        "dt_estimator = DecisionTreeClassifier(featuresCol='features', labelCol='Survived')\n",
        "accuracy_evaluator = MulticlassClassificationEvaluator(labelCol='Survived', predictionCol='prediction', metricName='accuracy')\n",
        "\n",
        "train_test_eval(dt_estimator, train_sdf, test_sdf, accuracy_evaluator)\n",
        "    "
      ]
    },
    {
      "cell_type": "code",
      "execution_count": 62,
      "metadata": {
        "application/vnd.databricks.v1+cell": {
          "inputWidgets": {},
          "nuid": "1bc7472c-a08a-4196-b4f5-df402930e950",
          "showTitle": false,
          "title": ""
        },
        "colab": {
          "base_uri": "https://localhost:8080/"
        },
        "id": "3ubgHazEhu2_",
        "outputId": "c1aa6cc7-6fa5-4120-f710-7827c4a488c7"
      },
      "outputs": [
        {
          "name": "stdout",
          "output_type": "stream",
          "text": [
            "DecisionTreeClassifier  정확도: 0.8297872340425532\n",
            "RandomForestClassifier  정확도: 0.8457446808510638\n",
            "LogisticRegression  정확도: 0.7872340425531915\n"
          ]
        }
      ],
      "source": [
        "# 여러 classifier를 학습 후 성능 테스트 \n",
        "from pyspark.ml.classification import LogisticRegression, RandomForestClassifier\n",
        "\n",
        "# 학습/예측/평가를 수행한 Estimator 객체들을 생성. 결정 트리, 랜덤 포레스트, 로지스틱 회귀로 테스트 \n",
        "estimators = [DecisionTreeClassifier(featuresCol='features', labelCol='Survived'),\n",
        "              RandomForestClassifier(featuresCol='features', labelCol='Survived'),\n",
        "              LogisticRegression(featuresCol='features', labelCol='Survived')\n",
        "             ]\n",
        "\n",
        "for estimator in estimators:\n",
        "    train_test_eval(estimator, train_sdf, test_sdf, accuracy_evaluator)"
      ]
    },
    {
      "cell_type": "markdown",
      "metadata": {
        "application/vnd.databricks.v1+cell": {
          "inputWidgets": {},
          "nuid": "7a968b95-7631-4e54-a266-344f927c8c1d",
          "showTitle": false,
          "title": ""
        },
        "id": "fVHUiF--hu2_"
      },
      "source": [
        "### 교차 검증과 하이퍼 파라미터 튜닝 수행."
      ]
    },
    {
      "cell_type": "code",
      "execution_count": 63,
      "metadata": {
        "application/vnd.databricks.v1+cell": {
          "inputWidgets": {},
          "nuid": "17ee2ccc-bbe2-46ef-aa2d-342be22aee94",
          "showTitle": false,
          "title": ""
        },
        "id": "aNYMA7adhu2_"
      },
      "outputs": [],
      "source": [
        "from pyspark.ml.tuning import CrossValidator, ParamGridBuilder\n",
        "\n",
        "dt_estimator = DecisionTreeClassifier(featuresCol='features', labelCol='Survived')\n",
        "\n",
        "#CrossValidator에서 하이퍼파라미터 튜닝을 위한 그리드 서치(Grid Search)용 ParamGrid 생성.\n",
        "# Spark ML DecisionTreeClassifier의 maxDepth는 max_depth, minInstancesPerNode는 min_samples_split(노드 분할 시 최소 sample 건수)\n",
        "dt_param_grid = ParamGridBuilder().addGrid(dt_estimator.maxDepth, [2, 3, 5, 7, 10])\\\n",
        "                               .addGrid(dt_estimator.minInstancesPerNode, [2, 3, 4,  5])\\\n",
        "                               .build()\n",
        "accuracy_evaluator = MulticlassClassificationEvaluator(labelCol='Survived', predictionCol='prediction', metricName='accuracy')\n",
        "\n",
        "# scikit-learn의 gridSearchCV 와 비슷\n",
        "cv = CrossValidator(estimator=dt_estimator, estimatorParamMaps=dt_param_grid, evaluator=accuracy_evaluator, numFolds=3)\n",
        "cv_model = cv.fit(train_sdf)"
      ]
    },
    {
      "cell_type": "code",
      "execution_count": 65,
      "metadata": {
        "application/vnd.databricks.v1+cell": {
          "inputWidgets": {},
          "nuid": "ce7635b6-203b-4500-94d3-8ccaa2a09ae3",
          "showTitle": false,
          "title": ""
        },
        "colab": {
          "base_uri": "https://localhost:8080/",
          "height": 677
        },
        "id": "TNlHWJxnhu2_",
        "outputId": "9c4fa269-2f59-41c2-d2ee-34fe91e96e9f"
      },
      "outputs": [
        {
          "data": {
            "text/html": [
              "\n",
              "  <div id=\"df-a930e620-40a2-4f26-a31f-3aab578bcb46\">\n",
              "    <div class=\"colab-df-container\">\n",
              "      <div>\n",
              "<style scoped>\n",
              "    .dataframe tbody tr th:only-of-type {\n",
              "        vertical-align: middle;\n",
              "    }\n",
              "\n",
              "    .dataframe tbody tr th {\n",
              "        vertical-align: top;\n",
              "    }\n",
              "\n",
              "    .dataframe thead th {\n",
              "        text-align: right;\n",
              "    }\n",
              "</style>\n",
              "<table border=\"1\" class=\"dataframe\">\n",
              "  <thead>\n",
              "    <tr style=\"text-align: right;\">\n",
              "      <th></th>\n",
              "      <th>params</th>\n",
              "      <th>evaluation_result</th>\n",
              "    </tr>\n",
              "  </thead>\n",
              "  <tbody>\n",
              "    <tr>\n",
              "      <th>0</th>\n",
              "      <td>{'maxDepth': 2, 'minInstancesPerNode': 2}</td>\n",
              "      <td>0.775507</td>\n",
              "    </tr>\n",
              "    <tr>\n",
              "      <th>1</th>\n",
              "      <td>{'maxDepth': 2, 'minInstancesPerNode': 3}</td>\n",
              "      <td>0.775507</td>\n",
              "    </tr>\n",
              "    <tr>\n",
              "      <th>2</th>\n",
              "      <td>{'maxDepth': 2, 'minInstancesPerNode': 4}</td>\n",
              "      <td>0.775507</td>\n",
              "    </tr>\n",
              "    <tr>\n",
              "      <th>3</th>\n",
              "      <td>{'maxDepth': 2, 'minInstancesPerNode': 5}</td>\n",
              "      <td>0.775507</td>\n",
              "    </tr>\n",
              "    <tr>\n",
              "      <th>4</th>\n",
              "      <td>{'maxDepth': 3, 'minInstancesPerNode': 2}</td>\n",
              "      <td>0.794100</td>\n",
              "    </tr>\n",
              "    <tr>\n",
              "      <th>5</th>\n",
              "      <td>{'maxDepth': 3, 'minInstancesPerNode': 3}</td>\n",
              "      <td>0.795608</td>\n",
              "    </tr>\n",
              "    <tr>\n",
              "      <th>6</th>\n",
              "      <td>{'maxDepth': 3, 'minInstancesPerNode': 4}</td>\n",
              "      <td>0.795608</td>\n",
              "    </tr>\n",
              "    <tr>\n",
              "      <th>7</th>\n",
              "      <td>{'maxDepth': 3, 'minInstancesPerNode': 5}</td>\n",
              "      <td>0.795608</td>\n",
              "    </tr>\n",
              "    <tr>\n",
              "      <th>8</th>\n",
              "      <td>{'maxDepth': 5, 'minInstancesPerNode': 2}</td>\n",
              "      <td>0.800497</td>\n",
              "    </tr>\n",
              "    <tr>\n",
              "      <th>9</th>\n",
              "      <td>{'maxDepth': 5, 'minInstancesPerNode': 3}</td>\n",
              "      <td>0.800401</td>\n",
              "    </tr>\n",
              "    <tr>\n",
              "      <th>10</th>\n",
              "      <td>{'maxDepth': 5, 'minInstancesPerNode': 4}</td>\n",
              "      <td>0.804408</td>\n",
              "    </tr>\n",
              "    <tr>\n",
              "      <th>11</th>\n",
              "      <td>{'maxDepth': 5, 'minInstancesPerNode': 5}</td>\n",
              "      <td>0.805668</td>\n",
              "    </tr>\n",
              "    <tr>\n",
              "      <th>12</th>\n",
              "      <td>{'maxDepth': 7, 'minInstancesPerNode': 2}</td>\n",
              "      <td>0.799941</td>\n",
              "    </tr>\n",
              "    <tr>\n",
              "      <th>13</th>\n",
              "      <td>{'maxDepth': 7, 'minInstancesPerNode': 3}</td>\n",
              "      <td>0.805725</td>\n",
              "    </tr>\n",
              "    <tr>\n",
              "      <th>14</th>\n",
              "      <td>{'maxDepth': 7, 'minInstancesPerNode': 4}</td>\n",
              "      <td>0.807023</td>\n",
              "    </tr>\n",
              "    <tr>\n",
              "      <th>15</th>\n",
              "      <td>{'maxDepth': 7, 'minInstancesPerNode': 5}</td>\n",
              "      <td>0.803853</td>\n",
              "    </tr>\n",
              "    <tr>\n",
              "      <th>16</th>\n",
              "      <td>{'maxDepth': 10, 'minInstancesPerNode': 2}</td>\n",
              "      <td>0.784193</td>\n",
              "    </tr>\n",
              "    <tr>\n",
              "      <th>17</th>\n",
              "      <td>{'maxDepth': 10, 'minInstancesPerNode': 3}</td>\n",
              "      <td>0.788124</td>\n",
              "    </tr>\n",
              "    <tr>\n",
              "      <th>18</th>\n",
              "      <td>{'maxDepth': 10, 'minInstancesPerNode': 4}</td>\n",
              "      <td>0.793640</td>\n",
              "    </tr>\n",
              "    <tr>\n",
              "      <th>19</th>\n",
              "      <td>{'maxDepth': 10, 'minInstancesPerNode': 5}</td>\n",
              "      <td>0.796311</td>\n",
              "    </tr>\n",
              "  </tbody>\n",
              "</table>\n",
              "</div>\n",
              "      <button class=\"colab-df-convert\" onclick=\"convertToInteractive('df-a930e620-40a2-4f26-a31f-3aab578bcb46')\"\n",
              "              title=\"Convert this dataframe to an interactive table.\"\n",
              "              style=\"display:none;\">\n",
              "        \n",
              "  <svg xmlns=\"http://www.w3.org/2000/svg\" height=\"24px\"viewBox=\"0 0 24 24\"\n",
              "       width=\"24px\">\n",
              "    <path d=\"M0 0h24v24H0V0z\" fill=\"none\"/>\n",
              "    <path d=\"M18.56 5.44l.94 2.06.94-2.06 2.06-.94-2.06-.94-.94-2.06-.94 2.06-2.06.94zm-11 1L8.5 8.5l.94-2.06 2.06-.94-2.06-.94L8.5 2.5l-.94 2.06-2.06.94zm10 10l.94 2.06.94-2.06 2.06-.94-2.06-.94-.94-2.06-.94 2.06-2.06.94z\"/><path d=\"M17.41 7.96l-1.37-1.37c-.4-.4-.92-.59-1.43-.59-.52 0-1.04.2-1.43.59L10.3 9.45l-7.72 7.72c-.78.78-.78 2.05 0 2.83L4 21.41c.39.39.9.59 1.41.59.51 0 1.02-.2 1.41-.59l7.78-7.78 2.81-2.81c.8-.78.8-2.07 0-2.86zM5.41 20L4 18.59l7.72-7.72 1.47 1.35L5.41 20z\"/>\n",
              "  </svg>\n",
              "      </button>\n",
              "      \n",
              "  <style>\n",
              "    .colab-df-container {\n",
              "      display:flex;\n",
              "      flex-wrap:wrap;\n",
              "      gap: 12px;\n",
              "    }\n",
              "\n",
              "    .colab-df-convert {\n",
              "      background-color: #E8F0FE;\n",
              "      border: none;\n",
              "      border-radius: 50%;\n",
              "      cursor: pointer;\n",
              "      display: none;\n",
              "      fill: #1967D2;\n",
              "      height: 32px;\n",
              "      padding: 0 0 0 0;\n",
              "      width: 32px;\n",
              "    }\n",
              "\n",
              "    .colab-df-convert:hover {\n",
              "      background-color: #E2EBFA;\n",
              "      box-shadow: 0px 1px 2px rgba(60, 64, 67, 0.3), 0px 1px 3px 1px rgba(60, 64, 67, 0.15);\n",
              "      fill: #174EA6;\n",
              "    }\n",
              "\n",
              "    [theme=dark] .colab-df-convert {\n",
              "      background-color: #3B4455;\n",
              "      fill: #D2E3FC;\n",
              "    }\n",
              "\n",
              "    [theme=dark] .colab-df-convert:hover {\n",
              "      background-color: #434B5C;\n",
              "      box-shadow: 0px 1px 3px 1px rgba(0, 0, 0, 0.15);\n",
              "      filter: drop-shadow(0px 1px 2px rgba(0, 0, 0, 0.3));\n",
              "      fill: #FFFFFF;\n",
              "    }\n",
              "  </style>\n",
              "\n",
              "      <script>\n",
              "        const buttonEl =\n",
              "          document.querySelector('#df-a930e620-40a2-4f26-a31f-3aab578bcb46 button.colab-df-convert');\n",
              "        buttonEl.style.display =\n",
              "          google.colab.kernel.accessAllowed ? 'block' : 'none';\n",
              "\n",
              "        async function convertToInteractive(key) {\n",
              "          const element = document.querySelector('#df-a930e620-40a2-4f26-a31f-3aab578bcb46');\n",
              "          const dataTable =\n",
              "            await google.colab.kernel.invokeFunction('convertToInteractive',\n",
              "                                                     [key], {});\n",
              "          if (!dataTable) return;\n",
              "\n",
              "          const docLinkHtml = 'Like what you see? Visit the ' +\n",
              "            '<a target=\"_blank\" href=https://colab.research.google.com/notebooks/data_table.ipynb>data table notebook</a>'\n",
              "            + ' to learn more about interactive tables.';\n",
              "          element.innerHTML = '';\n",
              "          dataTable['output_type'] = 'display_data';\n",
              "          await google.colab.output.renderOutput(dataTable, element);\n",
              "          const docLink = document.createElement('div');\n",
              "          docLink.innerHTML = docLinkHtml;\n",
              "          element.appendChild(docLink);\n",
              "        }\n",
              "      </script>\n",
              "    </div>\n",
              "  </div>\n",
              "  "
            ],
            "text/plain": [
              "                                        params  evaluation_result\n",
              "0    {'maxDepth': 2, 'minInstancesPerNode': 2}           0.775507\n",
              "1    {'maxDepth': 2, 'minInstancesPerNode': 3}           0.775507\n",
              "2    {'maxDepth': 2, 'minInstancesPerNode': 4}           0.775507\n",
              "3    {'maxDepth': 2, 'minInstancesPerNode': 5}           0.775507\n",
              "4    {'maxDepth': 3, 'minInstancesPerNode': 2}           0.794100\n",
              "5    {'maxDepth': 3, 'minInstancesPerNode': 3}           0.795608\n",
              "6    {'maxDepth': 3, 'minInstancesPerNode': 4}           0.795608\n",
              "7    {'maxDepth': 3, 'minInstancesPerNode': 5}           0.795608\n",
              "8    {'maxDepth': 5, 'minInstancesPerNode': 2}           0.800497\n",
              "9    {'maxDepth': 5, 'minInstancesPerNode': 3}           0.800401\n",
              "10   {'maxDepth': 5, 'minInstancesPerNode': 4}           0.804408\n",
              "11   {'maxDepth': 5, 'minInstancesPerNode': 5}           0.805668\n",
              "12   {'maxDepth': 7, 'minInstancesPerNode': 2}           0.799941\n",
              "13   {'maxDepth': 7, 'minInstancesPerNode': 3}           0.805725\n",
              "14   {'maxDepth': 7, 'minInstancesPerNode': 4}           0.807023\n",
              "15   {'maxDepth': 7, 'minInstancesPerNode': 5}           0.803853\n",
              "16  {'maxDepth': 10, 'minInstancesPerNode': 2}           0.784193\n",
              "17  {'maxDepth': 10, 'minInstancesPerNode': 3}           0.788124\n",
              "18  {'maxDepth': 10, 'minInstancesPerNode': 4}           0.793640\n",
              "19  {'maxDepth': 10, 'minInstancesPerNode': 5}           0.796311"
            ]
          },
          "execution_count": 65,
          "metadata": {},
          "output_type": "execute_result"
        }
      ],
      "source": [
        "import pandas as pd\n",
        "\n",
        "# 교차 검증 결과를 pandas DataFrame으로 반환하는 함수 생성. \n",
        "def get_cv_result_pdf(cv_model):\n",
        "    params = [{p.name: v for p, v in m.items()} for m in cv_model.getEstimatorParamMaps()]\n",
        "\n",
        "    cv_result_pdf= pd.DataFrame({'params': params, 'evaluation_result':cv_model.avgMetrics })\n",
        "    \n",
        "    return cv_result_pdf\n",
        "\n",
        "result_pdf = get_cv_result_pdf(cv_model)\n",
        "result_pdf"
      ]
    },
    {
      "cell_type": "code",
      "execution_count": 66,
      "metadata": {
        "application/vnd.databricks.v1+cell": {
          "inputWidgets": {},
          "nuid": "fd6f4db2-2935-4339-aa59-95eefc534887",
          "showTitle": false,
          "title": ""
        },
        "colab": {
          "base_uri": "https://localhost:8080/"
        },
        "id": "rN4i6Jzuhu2_",
        "outputId": "004dabdf-41b4-4191-8c32-0afc00152fa3"
      },
      "outputs": [
        {
          "name": "stdout",
          "output_type": "stream",
          "text": [
            "\n",
            "##### cv_model로 테스트 데이터 예측 결과 ######\n",
            "테스트 데이터 세트 정확도: 0.8085106382978723\n",
            "+-----------+--------+------+--------------------+------+-----------------+-----+-----+----------+-------+-----+--------+------------+------------------+-----------+---------+--------------+--------------------+-------------+--------------------+----------+\n",
            "|PassengerId|Survived|Pclass|                Name|   Sex|              Age|SibSp|Parch|    Ticket|   Fare|Cabin|Embarked|Age_Category|label_Age_Category|label_Cabin|label_Sex|label_Embarked|            features|rawPrediction|         probability|prediction|\n",
            "+-----------+--------+------+--------------------+------+-----------------+-----+-----+----------+-------+-----+--------+------------+------------------+-----------+---------+--------------+--------------------+-------------+--------------------+----------+\n",
            "|          6|       0|     3|    Moran, Mr. James|  male|29.69911764705882|    0|    0|    330877| 8.4583|    N|       Q| Young Adult|               0.0|        0.0|      0.0|           2.0|(9,[0,1,4,8],[3.0...| [302.0,37.0]|[0.89085545722713...|       0.0|\n",
            "|          7|       0|     1|McCarthy, Mr. Tim...|  male|             54.0|    0|    0|     17463|51.8625|    E|       S|       Adult|               1.0|        4.0|      0.0|           0.0|[1.0,54.0,0.0,0.0...|    [4.0,2.0]|[0.66666666666666...|       0.0|\n",
            "|         13|       0|     3|Saundercock, Mr. ...|  male|             20.0|    0|    0| A/5. 2151|   8.05|    N|       S|     Student|               2.0|        0.0|      0.0|           0.0|(9,[0,1,4,5],[3.0...| [302.0,37.0]|[0.89085545722713...|       0.0|\n",
            "|         14|       0|     3|Andersson, Mr. An...|  male|             39.0|    1|    5|    347082| 31.275|    N|       S|       Adult|               1.0|        0.0|      0.0|           0.0|[3.0,39.0,1.0,5.0...| [302.0,37.0]|[0.89085545722713...|       0.0|\n",
            "|         15|       0|     3|Vestrom, Miss. Hu...|female|             14.0|    0|    0|    350406| 7.8542|    N|       S|    Teenager|               3.0|        0.0|      1.0|           0.0|[3.0,14.0,0.0,0.0...|    [6.0,7.0]|[0.46153846153846...|       1.0|\n",
            "|         17|       0|     3|Rice, Master. Eugene|  male|              2.0|    4|    1|    382652| 29.125|    N|       Q|        Baby|               4.0|        0.0|      0.0|           2.0|[3.0,2.0,4.0,1.0,...|    [9.0,0.0]|           [1.0,0.0]|       0.0|\n",
            "|         18|       1|     2|Williams, Mr. Cha...|  male|29.69911764705882|    0|    0|    244373|   13.0|    N|       S| Young Adult|               0.0|        0.0|      0.0|           0.0|(9,[0,1,4],[2.0,2...| [302.0,37.0]|[0.89085545722713...|       0.0|\n",
            "|         22|       1|     2|Beesley, Mr. Lawr...|  male|             34.0|    0|    0|    248698|   13.0|    D|       S| Young Adult|               0.0|        3.0|      0.0|           0.0|(9,[0,1,4,6],[2.0...|    [9.0,0.0]|           [1.0,0.0]|       0.0|\n",
            "|         28|       0|     1|Fortune, Mr. Char...|  male|             19.0|    3|    2|     19950|  263.0|    C|       S|     Student|               2.0|        1.0|      0.0|           0.0|[1.0,19.0,3.0,2.0...|   [12.0,8.0]|           [0.6,0.4]|       0.0|\n",
            "|         30|       0|     3| Todoroff, Mr. Lalio|  male|29.69911764705882|    0|    0|    349216| 7.8958|    N|       S| Young Adult|               0.0|        0.0|      0.0|           0.0|(9,[0,1,4],[3.0,2...| [302.0,37.0]|[0.89085545722713...|       0.0|\n",
            "|         33|       1|     3|Glynn, Miss. Mary...|female|29.69911764705882|    0|    0|    335677|   7.75|    N|       Q| Young Adult|               0.0|        0.0|      1.0|           2.0|[3.0,29.699117647...|   [6.0,20.0]|[0.23076923076923...|       1.0|\n",
            "|         38|       0|     3|Cann, Mr. Ernest ...|  male|             21.0|    0|    0|A./5. 2152|   8.05|    N|       S|     Student|               2.0|        0.0|      0.0|           0.0|(9,[0,1,4,5],[3.0...| [302.0,37.0]|[0.89085545722713...|       0.0|\n",
            "|         40|       1|     3|Nicola-Yarred, Mi...|female|             14.0|    1|    0|      2651|11.2417|    N|       C|    Teenager|               3.0|        0.0|      1.0|           1.0|[3.0,14.0,1.0,0.0...|    [7.0,4.0]|[0.63636363636363...|       0.0|\n",
            "|         48|       1|     3|O'Driscoll, Miss....|female|29.69911764705882|    0|    0|     14311|   7.75|    N|       Q| Young Adult|               0.0|        0.0|      1.0|           2.0|[3.0,29.699117647...|   [6.0,20.0]|[0.23076923076923...|       1.0|\n",
            "|         52|       0|     3|Nosworthy, Mr. Ri...|  male|             21.0|    0|    0|A/4. 39886|    7.8|    N|       S|     Student|               2.0|        0.0|      0.0|           0.0|(9,[0,1,4,5],[3.0...| [302.0,37.0]|[0.89085545722713...|       0.0|\n",
            "|         68|       0|     3|Crease, Mr. Ernes...|  male|             19.0|    0|    0| S.P. 3464| 8.1583|    N|       S|     Student|               2.0|        0.0|      0.0|           0.0|(9,[0,1,4,5],[3.0...| [302.0,37.0]|[0.89085545722713...|       0.0|\n",
            "|         72|       0|     3|Goodwin, Miss. Li...|female|             16.0|    5|    2|   CA 2144|   46.9|    N|       S|    Teenager|               3.0|        0.0|      1.0|           0.0|[3.0,16.0,5.0,2.0...|   [10.0,2.0]|[0.83333333333333...|       0.0|\n",
            "|         76|       0|     3|Moen, Mr. Sigurd ...|  male|             25.0|    0|    0|    348123|   7.65|    F|       S|     Student|               2.0|        6.0|      0.0|           0.0|[3.0,25.0,0.0,0.0...|    [9.0,0.0]|           [1.0,0.0]|       0.0|\n",
            "|         79|       1|     2|Caldwell, Master....|  male|             0.83|    0|    2|    248738|   29.0|    N|       S|        Baby|               4.0|        0.0|      0.0|           0.0|[2.0,0.83,0.0,2.0...|    [0.0,7.0]|           [0.0,1.0]|       1.0|\n",
            "|         89|       1|     1|Fortune, Miss. Ma...|female|             23.0|    3|    2|     19950|  263.0|    C|       S|     Student|               2.0|        1.0|      1.0|           0.0|[1.0,23.0,3.0,2.0...|   [2.0,41.0]|[0.04651162790697...|       1.0|\n",
            "+-----------+--------+------+--------------------+------+-----------------+-----+-----+----------+-------+-----+--------+------------+------------------+-----------+---------+--------------+--------------------+-------------+--------------------+----------+\n",
            "only showing top 20 rows\n",
            "\n"
          ]
        }
      ],
      "source": [
        "#test_sdf는 이미 feature vector화 되어 있음. \n",
        "predictions = cv_model.transform(test_sdf)\n",
        "\n",
        "print(\"\\n##### cv_model로 테스트 데이터 예측 결과 ######\")\n",
        "accuracy_evaluator = MulticlassClassificationEvaluator(labelCol='Survived', predictionCol='prediction', metricName='accuracy')\n",
        "print('테스트 데이터 세트 정확도:', accuracy_evaluator.evaluate(predictions))\n",
        "\n",
        "(predictions).show()"
      ]
    },
    {
      "cell_type": "code",
      "execution_count": 67,
      "metadata": {
        "application/vnd.databricks.v1+cell": {
          "inputWidgets": {},
          "nuid": "d9b6143e-33e5-41ae-8b96-bedbe935c046",
          "showTitle": false,
          "title": ""
        },
        "colab": {
          "base_uri": "https://localhost:8080/",
          "height": 694
        },
        "id": "U_jjVj3Hhu2_",
        "outputId": "d0011458-dfa9-455d-ce61-dfba7923af1e"
      },
      "outputs": [
        {
          "name": "stdout",
          "output_type": "stream",
          "text": [
            "테스트 데이터 세트 정확도: 0.7925531914893617\n"
          ]
        },
        {
          "data": {
            "text/html": [
              "\n",
              "  <div id=\"df-2f24c710-8809-459d-911f-e28191dd6a19\">\n",
              "    <div class=\"colab-df-container\">\n",
              "      <div>\n",
              "<style scoped>\n",
              "    .dataframe tbody tr th:only-of-type {\n",
              "        vertical-align: middle;\n",
              "    }\n",
              "\n",
              "    .dataframe tbody tr th {\n",
              "        vertical-align: top;\n",
              "    }\n",
              "\n",
              "    .dataframe thead th {\n",
              "        text-align: right;\n",
              "    }\n",
              "</style>\n",
              "<table border=\"1\" class=\"dataframe\">\n",
              "  <thead>\n",
              "    <tr style=\"text-align: right;\">\n",
              "      <th></th>\n",
              "      <th>params</th>\n",
              "      <th>evaluation_result</th>\n",
              "    </tr>\n",
              "  </thead>\n",
              "  <tbody>\n",
              "    <tr>\n",
              "      <th>0</th>\n",
              "      <td>{'maxDepth': 2, 'minInstancesPerNode': 2}</td>\n",
              "      <td>0.765892</td>\n",
              "    </tr>\n",
              "    <tr>\n",
              "      <th>1</th>\n",
              "      <td>{'maxDepth': 2, 'minInstancesPerNode': 3}</td>\n",
              "      <td>0.765892</td>\n",
              "    </tr>\n",
              "    <tr>\n",
              "      <th>2</th>\n",
              "      <td>{'maxDepth': 2, 'minInstancesPerNode': 4}</td>\n",
              "      <td>0.765892</td>\n",
              "    </tr>\n",
              "    <tr>\n",
              "      <th>3</th>\n",
              "      <td>{'maxDepth': 2, 'minInstancesPerNode': 5}</td>\n",
              "      <td>0.765892</td>\n",
              "    </tr>\n",
              "    <tr>\n",
              "      <th>4</th>\n",
              "      <td>{'maxDepth': 3, 'minInstancesPerNode': 2}</td>\n",
              "      <td>0.818079</td>\n",
              "    </tr>\n",
              "    <tr>\n",
              "      <th>5</th>\n",
              "      <td>{'maxDepth': 3, 'minInstancesPerNode': 3}</td>\n",
              "      <td>0.819654</td>\n",
              "    </tr>\n",
              "    <tr>\n",
              "      <th>6</th>\n",
              "      <td>{'maxDepth': 3, 'minInstancesPerNode': 4}</td>\n",
              "      <td>0.819654</td>\n",
              "    </tr>\n",
              "    <tr>\n",
              "      <th>7</th>\n",
              "      <td>{'maxDepth': 3, 'minInstancesPerNode': 5}</td>\n",
              "      <td>0.815544</td>\n",
              "    </tr>\n",
              "    <tr>\n",
              "      <th>8</th>\n",
              "      <td>{'maxDepth': 5, 'minInstancesPerNode': 2}</td>\n",
              "      <td>0.810455</td>\n",
              "    </tr>\n",
              "    <tr>\n",
              "      <th>9</th>\n",
              "      <td>{'maxDepth': 5, 'minInstancesPerNode': 3}</td>\n",
              "      <td>0.809085</td>\n",
              "    </tr>\n",
              "    <tr>\n",
              "      <th>10</th>\n",
              "      <td>{'maxDepth': 5, 'minInstancesPerNode': 4}</td>\n",
              "      <td>0.812093</td>\n",
              "    </tr>\n",
              "    <tr>\n",
              "      <th>11</th>\n",
              "      <td>{'maxDepth': 5, 'minInstancesPerNode': 5}</td>\n",
              "      <td>0.805281</td>\n",
              "    </tr>\n",
              "    <tr>\n",
              "      <th>12</th>\n",
              "      <td>{'maxDepth': 7, 'minInstancesPerNode': 2}</td>\n",
              "      <td>0.809787</td>\n",
              "    </tr>\n",
              "    <tr>\n",
              "      <th>13</th>\n",
              "      <td>{'maxDepth': 7, 'minInstancesPerNode': 3}</td>\n",
              "      <td>0.809180</td>\n",
              "    </tr>\n",
              "    <tr>\n",
              "      <th>14</th>\n",
              "      <td>{'maxDepth': 7, 'minInstancesPerNode': 4}</td>\n",
              "      <td>0.808446</td>\n",
              "    </tr>\n",
              "    <tr>\n",
              "      <th>15</th>\n",
              "      <td>{'maxDepth': 7, 'minInstancesPerNode': 5}</td>\n",
              "      <td>0.809348</td>\n",
              "    </tr>\n",
              "    <tr>\n",
              "      <th>16</th>\n",
              "      <td>{'maxDepth': 10, 'minInstancesPerNode': 2}</td>\n",
              "      <td>0.810641</td>\n",
              "    </tr>\n",
              "    <tr>\n",
              "      <th>17</th>\n",
              "      <td>{'maxDepth': 10, 'minInstancesPerNode': 3}</td>\n",
              "      <td>0.809613</td>\n",
              "    </tr>\n",
              "    <tr>\n",
              "      <th>18</th>\n",
              "      <td>{'maxDepth': 10, 'minInstancesPerNode': 4}</td>\n",
              "      <td>0.815110</td>\n",
              "    </tr>\n",
              "    <tr>\n",
              "      <th>19</th>\n",
              "      <td>{'maxDepth': 10, 'minInstancesPerNode': 5}</td>\n",
              "      <td>0.812017</td>\n",
              "    </tr>\n",
              "  </tbody>\n",
              "</table>\n",
              "</div>\n",
              "      <button class=\"colab-df-convert\" onclick=\"convertToInteractive('df-2f24c710-8809-459d-911f-e28191dd6a19')\"\n",
              "              title=\"Convert this dataframe to an interactive table.\"\n",
              "              style=\"display:none;\">\n",
              "        \n",
              "  <svg xmlns=\"http://www.w3.org/2000/svg\" height=\"24px\"viewBox=\"0 0 24 24\"\n",
              "       width=\"24px\">\n",
              "    <path d=\"M0 0h24v24H0V0z\" fill=\"none\"/>\n",
              "    <path d=\"M18.56 5.44l.94 2.06.94-2.06 2.06-.94-2.06-.94-.94-2.06-.94 2.06-2.06.94zm-11 1L8.5 8.5l.94-2.06 2.06-.94-2.06-.94L8.5 2.5l-.94 2.06-2.06.94zm10 10l.94 2.06.94-2.06 2.06-.94-2.06-.94-.94-2.06-.94 2.06-2.06.94z\"/><path d=\"M17.41 7.96l-1.37-1.37c-.4-.4-.92-.59-1.43-.59-.52 0-1.04.2-1.43.59L10.3 9.45l-7.72 7.72c-.78.78-.78 2.05 0 2.83L4 21.41c.39.39.9.59 1.41.59.51 0 1.02-.2 1.41-.59l7.78-7.78 2.81-2.81c.8-.78.8-2.07 0-2.86zM5.41 20L4 18.59l7.72-7.72 1.47 1.35L5.41 20z\"/>\n",
              "  </svg>\n",
              "      </button>\n",
              "      \n",
              "  <style>\n",
              "    .colab-df-container {\n",
              "      display:flex;\n",
              "      flex-wrap:wrap;\n",
              "      gap: 12px;\n",
              "    }\n",
              "\n",
              "    .colab-df-convert {\n",
              "      background-color: #E8F0FE;\n",
              "      border: none;\n",
              "      border-radius: 50%;\n",
              "      cursor: pointer;\n",
              "      display: none;\n",
              "      fill: #1967D2;\n",
              "      height: 32px;\n",
              "      padding: 0 0 0 0;\n",
              "      width: 32px;\n",
              "    }\n",
              "\n",
              "    .colab-df-convert:hover {\n",
              "      background-color: #E2EBFA;\n",
              "      box-shadow: 0px 1px 2px rgba(60, 64, 67, 0.3), 0px 1px 3px 1px rgba(60, 64, 67, 0.15);\n",
              "      fill: #174EA6;\n",
              "    }\n",
              "\n",
              "    [theme=dark] .colab-df-convert {\n",
              "      background-color: #3B4455;\n",
              "      fill: #D2E3FC;\n",
              "    }\n",
              "\n",
              "    [theme=dark] .colab-df-convert:hover {\n",
              "      background-color: #434B5C;\n",
              "      box-shadow: 0px 1px 3px 1px rgba(0, 0, 0, 0.15);\n",
              "      filter: drop-shadow(0px 1px 2px rgba(0, 0, 0, 0.3));\n",
              "      fill: #FFFFFF;\n",
              "    }\n",
              "  </style>\n",
              "\n",
              "      <script>\n",
              "        const buttonEl =\n",
              "          document.querySelector('#df-2f24c710-8809-459d-911f-e28191dd6a19 button.colab-df-convert');\n",
              "        buttonEl.style.display =\n",
              "          google.colab.kernel.accessAllowed ? 'block' : 'none';\n",
              "\n",
              "        async function convertToInteractive(key) {\n",
              "          const element = document.querySelector('#df-2f24c710-8809-459d-911f-e28191dd6a19');\n",
              "          const dataTable =\n",
              "            await google.colab.kernel.invokeFunction('convertToInteractive',\n",
              "                                                     [key], {});\n",
              "          if (!dataTable) return;\n",
              "\n",
              "          const docLinkHtml = 'Like what you see? Visit the ' +\n",
              "            '<a target=\"_blank\" href=https://colab.research.google.com/notebooks/data_table.ipynb>data table notebook</a>'\n",
              "            + ' to learn more about interactive tables.';\n",
              "          element.innerHTML = '';\n",
              "          dataTable['output_type'] = 'display_data';\n",
              "          await google.colab.output.renderOutput(dataTable, element);\n",
              "          const docLink = document.createElement('div');\n",
              "          docLink.innerHTML = docLinkHtml;\n",
              "          element.appendChild(docLink);\n",
              "        }\n",
              "      </script>\n",
              "    </div>\n",
              "  </div>\n",
              "  "
            ],
            "text/plain": [
              "                                        params  evaluation_result\n",
              "0    {'maxDepth': 2, 'minInstancesPerNode': 2}           0.765892\n",
              "1    {'maxDepth': 2, 'minInstancesPerNode': 3}           0.765892\n",
              "2    {'maxDepth': 2, 'minInstancesPerNode': 4}           0.765892\n",
              "3    {'maxDepth': 2, 'minInstancesPerNode': 5}           0.765892\n",
              "4    {'maxDepth': 3, 'minInstancesPerNode': 2}           0.818079\n",
              "5    {'maxDepth': 3, 'minInstancesPerNode': 3}           0.819654\n",
              "6    {'maxDepth': 3, 'minInstancesPerNode': 4}           0.819654\n",
              "7    {'maxDepth': 3, 'minInstancesPerNode': 5}           0.815544\n",
              "8    {'maxDepth': 5, 'minInstancesPerNode': 2}           0.810455\n",
              "9    {'maxDepth': 5, 'minInstancesPerNode': 3}           0.809085\n",
              "10   {'maxDepth': 5, 'minInstancesPerNode': 4}           0.812093\n",
              "11   {'maxDepth': 5, 'minInstancesPerNode': 5}           0.805281\n",
              "12   {'maxDepth': 7, 'minInstancesPerNode': 2}           0.809787\n",
              "13   {'maxDepth': 7, 'minInstancesPerNode': 3}           0.809180\n",
              "14   {'maxDepth': 7, 'minInstancesPerNode': 4}           0.808446\n",
              "15   {'maxDepth': 7, 'minInstancesPerNode': 5}           0.809348\n",
              "16  {'maxDepth': 10, 'minInstancesPerNode': 2}           0.810641\n",
              "17  {'maxDepth': 10, 'minInstancesPerNode': 3}           0.809613\n",
              "18  {'maxDepth': 10, 'minInstancesPerNode': 4}           0.815110\n",
              "19  {'maxDepth': 10, 'minInstancesPerNode': 5}           0.812017"
            ]
          },
          "execution_count": 67,
          "metadata": {},
          "output_type": "execute_result"
        }
      ],
      "source": [
        "def cv_train_test_eval(train_sdf, test_sdf, estimator, param_grid, evaluator, num_folds):\n",
        "    cv = CrossValidator(estimator=estimator, estimatorParamMaps=param_grid, evaluator=evaluator, numFolds=num_folds)\n",
        "    cv_model = cv.fit(train_sdf)\n",
        "    cv_result_pdf = get_cv_result_pdf(cv_model)\n",
        "    \n",
        "    predictions = cv_model.transform(test_sdf)\n",
        "    test_accuracy = evaluator.evaluate(predictions)\n",
        "    \n",
        "    return cv_result_pdf, test_accuracy\n",
        "    \n",
        "cv_result_pdf, test_accuracy = cv_train_test_eval(train_sdf, test_sdf, \n",
        "                                                  dt_estimator, dt_param_grid, accuracy_evaluator, num_folds=5)\n",
        "print('테스트 데이터 세트 정확도:', test_accuracy)\n",
        "(cv_result_pdf)\n",
        "\n",
        "    "
      ]
    },
    {
      "cell_type": "code",
      "execution_count": null,
      "metadata": {
        "application/vnd.databricks.v1+cell": {
          "inputWidgets": {},
          "nuid": "2e15914f-92d2-4f31-956c-4fd2278a0665",
          "showTitle": false,
          "title": ""
        },
        "id": "ibF9LQfrhu2_",
        "outputId": "3a1d8128-1aa5-4a1b-eba4-0ccd72862b06"
      },
      "outputs": [
        {
          "data": {
            "text/html": [
              "<style scoped>\n",
              "  .ansiout {\n",
              "    display: block;\n",
              "    unicode-bidi: embed;\n",
              "    white-space: pre-wrap;\n",
              "    word-wrap: break-word;\n",
              "    word-break: break-all;\n",
              "    font-family: \"Source Code Pro\", \"Menlo\", monospace;;\n",
              "    font-size: 13px;\n",
              "    color: #555;\n",
              "    margin-left: 4px;\n",
              "    line-height: 19px;\n",
              "  }\n",
              "</style>"
            ]
          },
          "metadata": {
            "application/vnd.databricks.v1+output": {
              "arguments": {},
              "data": "",
              "errorSummary": "",
              "errorTraceType": null,
              "metadata": {},
              "type": "ipynbError"
            }
          },
          "output_type": "display_data"
        }
      ],
      "source": []
    }
  ],
  "metadata": {
    "application/vnd.databricks.v1+notebook": {
      "dashboards": [],
      "language": "python",
      "notebookMetadata": {
        "pythonIndentUnit": 4
      },
      "notebookName": "spark_titanic_exercise",
      "notebookOrigID": 3748691365154395,
      "widgets": {}
    },
    "colab": {
      "collapsed_sections": [
        "-SKt5ENLhu29",
        "ywp1R-DRhu2-",
        "fVHUiF--hu2_"
      ],
      "provenance": []
    },
    "kernelspec": {
      "display_name": "Python 3",
      "name": "python3"
    },
    "language_info": {
      "name": "python"
    }
  },
  "nbformat": 4,
  "nbformat_minor": 0
}
