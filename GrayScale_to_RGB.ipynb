{
  "nbformat": 4,
  "nbformat_minor": 0,
  "metadata": {
    "colab": {
      "provenance": [],
      "collapsed_sections": []
    },
    "kernelspec": {
      "name": "python3",
      "display_name": "Python 3"
    },
    "language_info": {
      "name": "python"
    }
  },
  "cells": [
    {
      "cell_type": "code",
      "execution_count": 1,
      "metadata": {
        "colab": {
          "base_uri": "https://localhost:8080/"
        },
        "id": "pFrNLIITUBkf",
        "outputId": "4ee29dcd-3b46-4bb1-9020-1a16c8be961b"
      },
      "outputs": [
        {
          "output_type": "stream",
          "name": "stdout",
          "text": [
            "Drive already mounted at /content/drive; to attempt to forcibly remount, call drive.mount(\"/content/drive\", force_remount=True).\n"
          ]
        }
      ],
      "source": [
        "from google.colab import drive\n",
        "drive.mount('/content/drive')"
      ]
    },
    {
      "cell_type": "code",
      "source": [
        "#import\n",
        "import glob\n",
        "import numpy as np\n",
        "import matplotlib.pyplot as plt\n",
        "import matplotlib.cm as cm\n",
        "import cv2\n",
        "from PIL import Image\n",
        "from IPython import display\n",
        "from functools import partial\n",
        "from matplotlib import pyplot as plt"
      ],
      "metadata": {
        "id": "w0W8P8dWV3Iy"
      },
      "execution_count": 2,
      "outputs": []
    },
    {
      "cell_type": "code",
      "source": [
        "#### test1 ####"
      ],
      "metadata": {
        "id": "v7YNnorbvbq6"
      },
      "execution_count": null,
      "outputs": []
    },
    {
      "cell_type": "code",
      "source": [
        "# img_gray = '/content/drive/MyDrive/StyleGAN_result/70000/cyst/StyleGAN_cyst_1.jpg'\n",
        "# img_rgb = '/content/drive/MyDrive/StyleGAN_result/cyst/StyleGAN_cyst_1.jpg'\n",
        "\n",
        "#StyleGAN gray scale 이미지\n",
        "img_gray_dir = '/content/drive/MyDrive/StyleGAN_result/70000/cyst'\n",
        "\n",
        "#StyleGAN RGB 이미지\n",
        "img_rgb_dir = '/content/drive/MyDrive/StyleGAN_result/cyst/'\n",
        "\n",
        "#원본 이미지\n",
        "img_ori_dir = '/content/drive/MyDrive/dataset_patch_220117/train/cyst/'"
      ],
      "metadata": {
        "id": "gmiISPrOWEwp"
      },
      "execution_count": null,
      "outputs": []
    },
    {
      "cell_type": "code",
      "source": [
        "img_ori = cv2.imread('/content/drive/MyDrive/dataset_patch_220117/train/cyst/train_00001.jpg',cv2.IMREAD_UNCHANGED)\n",
        "img_gray = cv2.imread('/content/drive/MyDrive/StyleGAN_result/70000/cyst/StyleGAN_cyst_1.jpg',cv2.IMREAD_COLOR)\n",
        "img_rgb = cv2.imread('/content/drive/MyDrive/StyleGAN_result/cyst/StyleGAN_cyst_1.jpg',cv2.IMREAD_UNCHANGED)"
      ],
      "metadata": {
        "id": "M1bIHR8pt3G7"
      },
      "execution_count": null,
      "outputs": []
    },
    {
      "cell_type": "code",
      "source": [
        "print(img_ori.shape)\n",
        "print(img_gray.shape)\n",
        "print(img_rgb.shape)"
      ],
      "metadata": {
        "colab": {
          "base_uri": "https://localhost:8080/"
        },
        "id": "2kLF9HjeosGW",
        "outputId": "92383350-02a0-4b36-b072-e7c602b59e89"
      },
      "execution_count": null,
      "outputs": [
        {
          "output_type": "stream",
          "name": "stdout",
          "text": [
            "(64, 64, 3)\n",
            "(64, 64)\n",
            "(64, 64, 3)\n"
          ]
        }
      ]
    },
    {
      "cell_type": "code",
      "source": [
        "print(img_ori[0][0])\n",
        "print(img_gray.shape)\n",
        "print(img_rgb.shape)"
      ],
      "metadata": {
        "id": "CjLktmeNosIs"
      },
      "execution_count": null,
      "outputs": []
    },
    {
      "cell_type": "code",
      "source": [
        "img_ori[0][0]"
      ],
      "metadata": {
        "colab": {
          "base_uri": "https://localhost:8080/"
        },
        "id": "HAFulgPLosNJ",
        "outputId": "2059eb73-8e53-443b-aef7-6b4b71530d0e"
      },
      "execution_count": null,
      "outputs": [
        {
          "output_type": "execute_result",
          "data": {
            "text/plain": [
              "array([178, 178, 178], dtype=uint8)"
            ]
          },
          "metadata": {},
          "execution_count": 9
        }
      ]
    },
    {
      "cell_type": "code",
      "source": [
        "testa = (64,64,3)"
      ],
      "metadata": {
        "id": "9eml7_ZWujC3"
      },
      "execution_count": null,
      "outputs": []
    },
    {
      "cell_type": "code",
      "source": [
        "testa[0][0]"
      ],
      "metadata": {
        "id": "JQrzATxLujFe"
      },
      "execution_count": null,
      "outputs": []
    },
    {
      "cell_type": "code",
      "source": [
        "testc = [[[0 for col in range(3)] for row in range(64)] for depth in range(64)]"
      ],
      "metadata": {
        "id": "YuMzkeXcuykX"
      },
      "execution_count": null,
      "outputs": []
    },
    {
      "cell_type": "code",
      "source": [
        "testc[0][0]"
      ],
      "metadata": {
        "colab": {
          "base_uri": "https://localhost:8080/"
        },
        "id": "1jaaxg5CvQ14",
        "outputId": "c1749773-26a0-49ad-b808-536223795c65"
      },
      "execution_count": null,
      "outputs": [
        {
          "output_type": "execute_result",
          "data": {
            "text/plain": [
              "[0, 0, 0]"
            ]
          },
          "metadata": {},
          "execution_count": 109
        }
      ]
    },
    {
      "cell_type": "code",
      "source": [
        "#### test2 - 반복문 사용해보기 ####"
      ],
      "metadata": {
        "id": "IXza3OpPvTbE"
      },
      "execution_count": null,
      "outputs": []
    },
    {
      "cell_type": "code",
      "source": [
        "import torch"
      ],
      "metadata": {
        "id": "5A2n1LDsrCaD"
      },
      "execution_count": null,
      "outputs": []
    },
    {
      "cell_type": "code",
      "source": [
        "for k in range(64):\n",
        "  for i in range(64):\n",
        "    for j in range(3):\n",
        "      testc[k][j] = img_gray_dir[k][i]"
      ],
      "metadata": {
        "id": "x_yaFc1TrCcY"
      },
      "execution_count": null,
      "outputs": []
    },
    {
      "cell_type": "code",
      "source": [
        "import numpy as np\n",
        "rec = np.array(testc)"
      ],
      "metadata": {
        "colab": {
          "base_uri": "https://localhost:8080/"
        },
        "id": "H-mewmkWrCey",
        "outputId": "7cfadd4b-6cf2-4e73-ac62-25d31e7c3777"
      },
      "execution_count": null,
      "outputs": [
        {
          "output_type": "stream",
          "name": "stderr",
          "text": [
            "/usr/local/lib/python3.7/dist-packages/ipykernel_launcher.py:3: VisibleDeprecationWarning: Creating an ndarray from ragged nested sequences (which is a list-or-tuple of lists-or-tuples-or ndarrays with different lengths or shapes) is deprecated. If you meant to do this, you must specify 'dtype=object' when creating the ndarray.\n",
            "  This is separate from the ipykernel package so we can avoid doing imports until\n"
          ]
        }
      ]
    },
    {
      "cell_type": "code",
      "source": [
        "rec.shape"
      ],
      "metadata": {
        "colab": {
          "base_uri": "https://localhost:8080/"
        },
        "id": "ZP4xue3xrCgz",
        "outputId": "db696459-a36d-4bef-d3ec-fb5dd6cbbce0"
      },
      "execution_count": null,
      "outputs": [
        {
          "output_type": "execute_result",
          "data": {
            "text/plain": [
              "(64, 64)"
            ]
          },
          "metadata": {},
          "execution_count": 117
        }
      ]
    },
    {
      "cell_type": "code",
      "source": [
        "ee = cv2.imread('/content/drive/MyDrive/StyleGAN_result/70000/cyst/StyleGAN_cyst_1.jpg',cv2.IMREAD_COLOR)"
      ],
      "metadata": {
        "id": "k1U8Ufar7oXl"
      },
      "execution_count": null,
      "outputs": []
    },
    {
      "cell_type": "code",
      "source": [
        "plt.imshow(ee)\n",
        "plt.show()"
      ],
      "metadata": {
        "colab": {
          "base_uri": "https://localhost:8080/",
          "height": 268
        },
        "id": "X0Z5CA6l7oZq",
        "outputId": "0ebb9f02-8cf8-433c-e68f-94d469209b7e"
      },
      "execution_count": null,
      "outputs": [
        {
          "output_type": "display_data",
          "data": {
            "text/plain": [
              "<Figure size 432x288 with 1 Axes>"
            ],
            "image/png": "[encoded data removed]"
          },
          "metadata": {
            "needs_background": "light"
          }
        }
      ]
    },
    {
      "cell_type": "code",
      "source": [
        "ee.shape"
      ],
      "metadata": {
        "colab": {
          "base_uri": "https://localhost:8080/"
        },
        "id": "gxXW6L9c7obf",
        "outputId": "771ede7f-ce82-457f-c4b2-405e7ce46a04"
      },
      "execution_count": null,
      "outputs": [
        {
          "output_type": "execute_result",
          "data": {
            "text/plain": [
              "(64, 64, 3)"
            ]
          },
          "metadata": {},
          "execution_count": 11
        }
      ]
    },
    {
      "cell_type": "code",
      "source": [],
      "metadata": {
        "id": "BpYiuZCEaF68"
      },
      "execution_count": null,
      "outputs": []
    },
    {
      "cell_type": "code",
      "source": [
        "img_gray_img = cv2.imread('/content/drive/MyDrive/StyleGAN_result/70000/cyst/StyleGAN_cyst_1.jpg', cv2.IMREAD_GRAYSCALE)\n",
        "\n",
        "plt.imshow(img_gray_img, cmap=\"gray\")\n",
        "plt.show()"
      ],
      "metadata": {
        "colab": {
          "base_uri": "https://localhost:8080/",
          "height": 268
        },
        "id": "383xyyZ_eluj",
        "outputId": "05446d24-9cf7-42ec-f75b-b1162a6de76d"
      },
      "execution_count": null,
      "outputs": [
        {
          "output_type": "display_data",
          "data": {
            "text/plain": [
              "<Figure size 432x288 with 1 Axes>"
            ],
            "image/png": "[encoded data removed]"
          },
          "metadata": {
            "needs_background": "light"
          }
        }
      ]
    },
    {
      "cell_type": "code",
      "source": [
        "#img_gray_img = cv2.imread('/cyst/StyleGAN_cyst_1.jpg', cv2.IMREAD_GRAYSCALE)\n",
        "img_rgb_dir = cv2.imread('/content/drive/MyDrive/StyleGAN_result/cyst/StyleGAN_cyst_1.jpg', cv2.IMREAD_GRAYSCALE)\n",
        "\n",
        "plt.imshow(img_rgb_dir, cmap=\"gray\")\n",
        "plt.show()"
      ],
      "metadata": {
        "colab": {
          "base_uri": "https://localhost:8080/",
          "height": 268
        },
        "id": "dfwkQWLeelw6",
        "outputId": "6fbd0ed3-0793-4532-8cbc-90316efc9376"
      },
      "execution_count": null,
      "outputs": [
        {
          "output_type": "display_data",
          "data": {
            "text/plain": [
              "<Figure size 432x288 with 1 Axes>"
            ],
            "image/png": "[encoded data removed]"
          },
          "metadata": {
            "needs_background": "light"
          }
        }
      ]
    },
    {
      "cell_type": "code",
      "source": [
        "img_rgb_dir.shape"
      ],
      "metadata": {
        "colab": {
          "base_uri": "https://localhost:8080/"
        },
        "id": "KkyglbMxiJay",
        "outputId": "7b5c5d1e-d503-473d-edc3-1807252862f5"
      },
      "execution_count": null,
      "outputs": [
        {
          "output_type": "execute_result",
          "data": {
            "text/plain": [
              "(64, 64)"
            ]
          },
          "metadata": {},
          "execution_count": 54
        }
      ]
    },
    {
      "cell_type": "code",
      "source": [
        "img_gray_img = cv2.imread('/content/drive/MyDrive/StyleGAN_result/70000/cyst/StyleGAN_cyst_1.jpg', cv2.COLOR_BGR2RGB)\n",
        "\n",
        "# plt.imshow(img_gray_img, cmap=\"gray\")\n",
        "plt.imshow(img_gray_img)\n",
        "plt.show()"
      ],
      "metadata": {
        "colab": {
          "base_uri": "https://localhost:8080/",
          "height": 268
        },
        "id": "81jPn1enelzP",
        "outputId": "d66b9372-8857-4978-9a66-a90eb3d3d8b0"
      },
      "execution_count": null,
      "outputs": [
        {
          "output_type": "display_data",
          "data": {
            "text/plain": [
              "<Figure size 432x288 with 1 Axes>"
            ],
            "image/png": "[encoded data removed]"
          },
          "metadata": {
            "needs_background": "light"
          }
        }
      ]
    },
    {
      "cell_type": "code",
      "source": [
        "img_gray_img"
      ],
      "metadata": {
        "colab": {
          "base_uri": "https://localhost:8080/"
        },
        "id": "_dOJVcybgWRd",
        "outputId": "6ddd5156-d86c-4d1f-a05c-3c40895d0838"
      },
      "execution_count": null,
      "outputs": [
        {
          "output_type": "execute_result",
          "data": {
            "text/plain": [
              "array([[170, 202, 196, ..., 134, 138, 129],\n",
              "       [194, 202, 185, ..., 121, 137, 131],\n",
              "       [206, 203, 191, ..., 104, 140, 144],\n",
              "       ...,\n",
              "       [150, 152, 155, ..., 194, 171, 140],\n",
              "       [167, 172, 170, ..., 204, 177, 145],\n",
              "       [172, 183, 183, ..., 199, 179, 157]], dtype=uint8)"
            ]
          },
          "metadata": {},
          "execution_count": 33
        }
      ]
    },
    {
      "cell_type": "code",
      "source": [
        "img_gray_img.shape"
      ],
      "metadata": {
        "colab": {
          "base_uri": "https://localhost:8080/"
        },
        "id": "42bJYC5xel1m",
        "outputId": "2787c0f0-e226-466a-c959-3ccc8e810c18"
      },
      "execution_count": null,
      "outputs": [
        {
          "output_type": "execute_result",
          "data": {
            "text/plain": [
              "(64, 64)"
            ]
          },
          "metadata": {},
          "execution_count": 34
        }
      ]
    },
    {
      "cell_type": "code",
      "source": [
        "img_gray_img[-1].shape"
      ],
      "metadata": {
        "colab": {
          "base_uri": "https://localhost:8080/"
        },
        "id": "YIO4K_ydl8UC",
        "outputId": "a7378484-5adf-4c0d-af2b-24b48028a748"
      },
      "execution_count": null,
      "outputs": [
        {
          "output_type": "execute_result",
          "data": {
            "text/plain": [
              "(64,)"
            ]
          },
          "metadata": {},
          "execution_count": 43
        }
      ]
    },
    {
      "cell_type": "code",
      "source": [
        "img_gray_img[0]"
      ],
      "metadata": {
        "colab": {
          "base_uri": "https://localhost:8080/"
        },
        "id": "8KyaVkCMnL6c",
        "outputId": "510e2e5f-6bf3-4f0d-d124-e1244b2bead0"
      },
      "execution_count": null,
      "outputs": [
        {
          "output_type": "execute_result",
          "data": {
            "text/plain": [
              "array([170, 202, 196, 188, 192, 193, 188, 165, 169, 188, 188, 182, 186,\n",
              "       178, 174, 190, 191, 177, 180, 182, 177, 190, 199, 182, 170, 181,\n",
              "       179, 168, 175, 194, 195, 180, 180, 188, 196, 197, 194, 188, 181,\n",
              "       175, 193, 179, 191, 193, 175, 182, 191, 169, 178, 181, 168, 150,\n",
              "       157, 177, 172, 148, 174, 185, 173, 163, 147, 134, 138, 129],\n",
              "      dtype=uint8)"
            ]
          },
          "metadata": {},
          "execution_count": 46
        }
      ]
    },
    {
      "cell_type": "code",
      "source": [],
      "metadata": {
        "id": "lNgKDE7YnL8v"
      },
      "execution_count": null,
      "outputs": []
    },
    {
      "cell_type": "code",
      "source": [],
      "metadata": {
        "id": "Lyac3GAunL_W"
      },
      "execution_count": null,
      "outputs": []
    },
    {
      "cell_type": "code",
      "source": [],
      "metadata": {
        "id": "wrx-KCiJnMB9"
      },
      "execution_count": null,
      "outputs": []
    },
    {
      "cell_type": "code",
      "source": [
        "img_gray_img[0][0]"
      ],
      "metadata": {
        "colab": {
          "base_uri": "https://localhost:8080/"
        },
        "id": "hD2JG9RfmCuG",
        "outputId": "8cf99993-d488-495c-9f7e-1640c471816d"
      },
      "execution_count": null,
      "outputs": [
        {
          "output_type": "execute_result",
          "data": {
            "text/plain": [
              "170"
            ]
          },
          "metadata": {},
          "execution_count": 44
        }
      ]
    },
    {
      "cell_type": "code",
      "source": [
        "img_gray_img[3]"
      ],
      "metadata": {
        "colab": {
          "base_uri": "https://localhost:8080/"
        },
        "id": "IqDW0At4mCxM",
        "outputId": "a707828c-1c86-43d5-cc55-7010360561d6"
      },
      "execution_count": null,
      "outputs": [
        {
          "output_type": "execute_result",
          "data": {
            "text/plain": [
              "array([188, 192, 189, 192, 167, 137, 140, 136, 152, 157, 182, 192, 176,\n",
              "       176, 186, 181, 189, 201, 204, 191, 178, 186, 199, 201, 208, 198,\n",
              "       195, 196, 186, 175, 181, 199, 201, 197, 185, 176, 179, 189, 191,\n",
              "       186, 185, 192, 192, 191, 193, 187, 182, 186, 191, 180, 180, 192,\n",
              "       189, 167, 146, 140, 185, 187, 153, 122, 106, 117, 150, 155],\n",
              "      dtype=uint8)"
            ]
          },
          "metadata": {},
          "execution_count": 41
        }
      ]
    },
    {
      "cell_type": "code",
      "source": [],
      "metadata": {
        "id": "26p8PdsEmC0U"
      },
      "execution_count": null,
      "outputs": []
    },
    {
      "cell_type": "code",
      "source": [
        "img_rgb_dir.shape"
      ],
      "metadata": {
        "colab": {
          "base_uri": "https://localhost:8080/"
        },
        "id": "ImkvIrRQel4c",
        "outputId": "5cd06e2f-3144-46fa-f0f6-1c83b813764f"
      },
      "execution_count": null,
      "outputs": [
        {
          "output_type": "execute_result",
          "data": {
            "text/plain": [
              "(64, 64, 3)"
            ]
          },
          "metadata": {},
          "execution_count": 49
        }
      ]
    },
    {
      "cell_type": "code",
      "source": [
        "img_rgb_dir[0].shape"
      ],
      "metadata": {
        "colab": {
          "base_uri": "https://localhost:8080/"
        },
        "id": "AYGm8f2Iel61",
        "outputId": "78847414-b74c-4b68-8659-4ca0456e880e"
      },
      "execution_count": null,
      "outputs": [
        {
          "output_type": "execute_result",
          "data": {
            "text/plain": [
              "(64, 3)"
            ]
          },
          "metadata": {},
          "execution_count": 50
        }
      ]
    },
    {
      "cell_type": "code",
      "source": [
        "img_rgb_dir[0]"
      ],
      "metadata": {
        "id": "RaKzbnpPel9I"
      },
      "execution_count": null,
      "outputs": []
    },
    {
      "cell_type": "code",
      "source": [],
      "metadata": {
        "id": "DKrL603lel_w"
      },
      "execution_count": null,
      "outputs": []
    },
    {
      "cell_type": "code",
      "source": [],
      "metadata": {
        "id": "I8NKeqNsemCF"
      },
      "execution_count": null,
      "outputs": []
    },
    {
      "cell_type": "code",
      "source": [
        "#################### final ####################"
      ],
      "metadata": {
        "id": "9CMhXKmDemEb"
      },
      "execution_count": null,
      "outputs": []
    },
    {
      "cell_type": "code",
      "source": [
        "# img_gray_img = cv2.imread('/content/drive/MyDrive/StyleGAN_result/70000/cyst/StyleGAN_cyst_3.jpg', cv2.IMREAD_COLOR)\n",
        "\n",
        "# plt.imshow(img_gray_img)\n",
        "# plt.show()"
      ],
      "metadata": {
        "colab": {
          "base_uri": "https://localhost:8080/",
          "height": 268
        },
        "id": "EBFGMmd8emGy",
        "outputId": "beade530-0edc-414f-88fc-351867149863"
      },
      "execution_count": null,
      "outputs": [
        {
          "output_type": "display_data",
          "data": {
            "text/plain": [
              "<Figure size 432x288 with 1 Axes>"
            ],
            "image/png": "[encoded data removed]"
          },
          "metadata": {
            "needs_background": "light"
          }
        }
      ]
    },
    {
      "cell_type": "code",
      "source": [
        "# x = Image.fromarray((img_gray_img*255).astype(np.uint8))\n",
        "# x.save('/content/StyleGAN_test.jpg','JPEG')"
      ],
      "metadata": {
        "id": "idzVH_Yw_PpP"
      },
      "execution_count": null,
      "outputs": []
    },
    {
      "cell_type": "code",
      "source": [
        "img_gray_test[0]"
      ],
      "metadata": {
        "id": "FGftKRRuAvuY",
        "colab": {
          "base_uri": "https://localhost:8080/"
        },
        "outputId": "bc39543f-0a08-4fa7-8838-408965d90270"
      },
      "execution_count": 14,
      "outputs": [
        {
          "output_type": "execute_result",
          "data": {
            "text/plain": [
              "array([[131, 131, 131],\n",
              "       [143, 143, 143],\n",
              "       [138, 138, 138],\n",
              "       [125, 125, 125],\n",
              "       [127, 127, 127],\n",
              "       [131, 131, 131],\n",
              "       [131, 131, 131],\n",
              "       [135, 135, 135],\n",
              "       [136, 136, 136],\n",
              "       [137, 137, 137],\n",
              "       [134, 134, 134],\n",
              "       [129, 129, 129],\n",
              "       [129, 129, 129],\n",
              "       [132, 132, 132],\n",
              "       [132, 132, 132],\n",
              "       [129, 129, 129],\n",
              "       [129, 129, 129],\n",
              "       [141, 141, 141],\n",
              "       [145, 145, 145],\n",
              "       [135, 135, 135],\n",
              "       [130, 130, 130],\n",
              "       [137, 137, 137],\n",
              "       [143, 143, 143],\n",
              "       [142, 142, 142],\n",
              "       [140, 140, 140],\n",
              "       [136, 136, 136],\n",
              "       [133, 133, 133],\n",
              "       [134, 134, 134],\n",
              "       [139, 139, 139],\n",
              "       [142, 142, 142],\n",
              "       [139, 139, 139],\n",
              "       [135, 135, 135],\n",
              "       [144, 144, 144],\n",
              "       [144, 144, 144],\n",
              "       [142, 142, 142],\n",
              "       [138, 138, 138],\n",
              "       [132, 132, 132],\n",
              "       [127, 127, 127],\n",
              "       [126, 126, 126],\n",
              "       [126, 126, 126],\n",
              "       [123, 123, 123],\n",
              "       [135, 135, 135],\n",
              "       [135, 135, 135],\n",
              "       [124, 124, 124],\n",
              "       [124, 124, 124],\n",
              "       [136, 136, 136],\n",
              "       [139, 139, 139],\n",
              "       [129, 129, 129],\n",
              "       [136, 136, 136],\n",
              "       [144, 144, 144],\n",
              "       [145, 145, 145],\n",
              "       [136, 136, 136],\n",
              "       [132, 132, 132],\n",
              "       [139, 139, 139],\n",
              "       [142, 142, 142],\n",
              "       [139, 139, 139],\n",
              "       [155, 155, 155],\n",
              "       [148, 148, 148],\n",
              "       [140, 140, 140],\n",
              "       [133, 133, 133],\n",
              "       [131, 131, 131],\n",
              "       [131, 131, 131],\n",
              "       [131, 131, 131],\n",
              "       [130, 130, 130]], dtype=uint8)"
            ]
          },
          "metadata": {},
          "execution_count": 14
        }
      ]
    },
    {
      "cell_type": "code",
      "source": [
        "img_gray_test.shape"
      ],
      "metadata": {
        "colab": {
          "base_uri": "https://localhost:8080/"
        },
        "id": "g3dmSvEVsiUh",
        "outputId": "718663f2-6f89-417d-8ebb-c0480bcaefe0"
      },
      "execution_count": 17,
      "outputs": [
        {
          "output_type": "execute_result",
          "data": {
            "text/plain": [
              "(64, 64)"
            ]
          },
          "metadata": {},
          "execution_count": 17
        }
      ]
    },
    {
      "cell_type": "code",
      "source": [
        "img_gray_test = cv2.imread('/content/drive/MyDrive/StyleGAN_result/70000/cyst/StyleGAN_cyst_3.jpg', cv2.IMREAD_UNCHANGED)\n",
        "\n",
        "plt.imshow(img_gray_test)\n",
        "plt.show()"
      ],
      "metadata": {
        "colab": {
          "base_uri": "https://localhost:8080/",
          "height": 268
        },
        "id": "cxRMd___AvxP",
        "outputId": "fc2e704b-fa4f-4462-c6af-950966e48776"
      },
      "execution_count": 15,
      "outputs": [
        {
          "output_type": "display_data",
          "data": {
            "text/plain": [
              "<Figure size 432x288 with 1 Axes>"
            ],
            "image/png": "[encoded data removed]"
          },
          "metadata": {
            "needs_background": "light"
          }
        }
      ]
    },
    {
      "cell_type": "code",
      "source": [],
      "metadata": {
        "id": "XEbO1E0Sulsj"
      },
      "execution_count": null,
      "outputs": []
    },
    {
      "cell_type": "code",
      "source": [
        "######### 이거 실패 ##########"
      ],
      "metadata": {
        "id": "SZkAzrMVul15"
      },
      "execution_count": null,
      "outputs": []
    },
    {
      "cell_type": "code",
      "source": [
        "\n",
        "for i in range(433):\n",
        "  img_gray_dir = cv2.imread('/content/drive/MyDrive/StyleGAN_result/70000/cyst/StyleGAN_cyst_%s.jpg' %(i+1), cv2.IMREAD_COLOR)\n",
        "  x = Image.fromarray((img_gray_dir*255).astype(np.uint8))\n",
        "  x.save('/content/cyst/StyleGAN_cyst_%s.jpg' %(i+1),'JPEG')"
      ],
      "metadata": {
        "id": "ATEoXDSA_WAh"
      },
      "execution_count": 4,
      "outputs": []
    },
    {
      "cell_type": "code",
      "source": [
        "for j in range(70):\n",
        "  img_gray_dir2 = cv2.imread('/content/drive/MyDrive/StyleGAN_result/70000/hema/StyleGAN_hema_%s.jpg' %(j+1), cv2.IMREAD_COLOR)\n",
        "  x2 = Image.fromarray((img_gray_dir2*255).astype(np.uint8))\n",
        "  x2.save('/content/hema/StyleGAN_hema_%s.jpg' %(j+1),'JPEG')"
      ],
      "metadata": {
        "id": "43JFJmrp_WDH"
      },
      "execution_count": 5,
      "outputs": []
    },
    {
      "cell_type": "code",
      "source": [
        "for k in range(178):\n",
        "  img_gray_dir3 = cv2.imread('/content/drive/MyDrive/StyleGAN_result/70000/meta/StyleGAN_meta_%s.jpg' %(k+1), cv2.IMREAD_COLOR)\n",
        "  x3 = Image.fromarray((img_gray_dir3*255).astype(np.uint8))\n",
        "  x3.save('/content/meta/StyleGAN_meta_%s.jpg' %(k+1),'JPEG')"
      ],
      "metadata": {
        "id": "wiC_oC4c_WFf"
      },
      "execution_count": 6,
      "outputs": []
    },
    {
      "cell_type": "code",
      "source": [
        "! zip -r -q StyleGAN_GrayToRGB_70000.zip /content/StyleGAN_GrayToRGB_70000/"
      ],
      "metadata": {
        "id": "GJA1P-Xpo6ZW"
      },
      "execution_count": 7,
      "outputs": []
    },
    {
      "cell_type": "code",
      "source": [],
      "metadata": {
        "id": "z-VZQlChurWu"
      },
      "execution_count": null,
      "outputs": []
    },
    {
      "cell_type": "code",
      "source": [
        "######## 이거 성공 ##########"
      ],
      "metadata": {
        "id": "6oGX0HQxp7BI"
      },
      "execution_count": null,
      "outputs": []
    },
    {
      "cell_type": "code",
      "source": [
        "for i in range(433):\n",
        "  img_gray_dir = cv2.imread('/content/drive/MyDrive/StyleGAN_result/70000/cyst/StyleGAN_cyst_%s.jpg' %(i+1), cv2.IMREAD_COLOR)\n",
        "  cv2.imwrite('/content/test/StyleGAN_cyst_%s.jpg' %(i+1), img_gray_dir)"
      ],
      "metadata": {
        "id": "cp7Q5SQBtDSG"
      },
      "execution_count": 20,
      "outputs": []
    },
    {
      "cell_type": "code",
      "source": [
        "for i in range(70):\n",
        "  img_gray_dir2 = cv2.imread('/content/drive/MyDrive/StyleGAN_result/70000/hema/StyleGAN_hema_%s.jpg' %(j+1), cv2.IMREAD_COLOR)\n",
        "  cv2.imwrite('/content/test/StyleGAN_cyst_%s.jpg' %(i+1), img_gray_dir2)"
      ],
      "metadata": {
        "id": "U0j7f_tTtDUM"
      },
      "execution_count": null,
      "outputs": []
    },
    {
      "cell_type": "code",
      "source": [
        "for i in range(178):\n",
        "  img_gray_dir3 = cv2.imread('/content/drive/MyDrive/StyleGAN_result/70000/meta/StyleGAN_meta_%s.jpg' %(k+1), cv2.IMREAD_COLOR)\n",
        "  cv2.imwrite('/content/test/StyleGAN_cyst_%s.jpg' %(i+1), img_gray_dir3)"
      ],
      "metadata": {
        "id": "PJ4pKw5EtDWz"
      },
      "execution_count": null,
      "outputs": []
    },
    {
      "cell_type": "code",
      "source": [],
      "metadata": {
        "id": "-9h2oJ07vs0B"
      },
      "execution_count": null,
      "outputs": []
    },
    {
      "cell_type": "code",
      "source": [
        "img_gray_dir[0]"
      ],
      "metadata": {
        "colab": {
          "base_uri": "https://localhost:8080/"
        },
        "id": "qaViCbp4o6bn",
        "outputId": "8acc9a6b-2892-4cc5-afd0-e3c908bf28b5"
      },
      "execution_count": 9,
      "outputs": [
        {
          "output_type": "execute_result",
          "data": {
            "text/plain": [
              "array([[128, 128, 128],\n",
              "       [144, 144, 144],\n",
              "       [146, 146, 146],\n",
              "       [132, 132, 132],\n",
              "       [130, 130, 130],\n",
              "       [145, 145, 145],\n",
              "       [152, 152, 152],\n",
              "       [146, 146, 146],\n",
              "       [150, 150, 150],\n",
              "       [148, 148, 148],\n",
              "       [138, 138, 138],\n",
              "       [127, 127, 127],\n",
              "       [126, 126, 126],\n",
              "       [132, 132, 132],\n",
              "       [131, 131, 131],\n",
              "       [123, 123, 123],\n",
              "       [130, 130, 130],\n",
              "       [138, 138, 138],\n",
              "       [141, 141, 141],\n",
              "       [135, 135, 135],\n",
              "       [134, 134, 134],\n",
              "       [141, 141, 141],\n",
              "       [149, 149, 149],\n",
              "       [152, 152, 152],\n",
              "       [145, 145, 145],\n",
              "       [144, 144, 144],\n",
              "       [140, 140, 140],\n",
              "       [137, 137, 137],\n",
              "       [141, 141, 141],\n",
              "       [146, 146, 146],\n",
              "       [146, 146, 146],\n",
              "       [142, 142, 142],\n",
              "       [148, 148, 148],\n",
              "       [148, 148, 148],\n",
              "       [143, 143, 143],\n",
              "       [136, 136, 136],\n",
              "       [133, 133, 133],\n",
              "       [132, 132, 132],\n",
              "       [128, 128, 128],\n",
              "       [122, 122, 122],\n",
              "       [126, 126, 126],\n",
              "       [135, 135, 135],\n",
              "       [133, 133, 133],\n",
              "       [124, 124, 124],\n",
              "       [127, 127, 127],\n",
              "       [141, 141, 141],\n",
              "       [140, 140, 140],\n",
              "       [127, 127, 127],\n",
              "       [127, 127, 127],\n",
              "       [139, 139, 139],\n",
              "       [144, 144, 144],\n",
              "       [135, 135, 135],\n",
              "       [131, 131, 131],\n",
              "       [137, 137, 137],\n",
              "       [143, 143, 143],\n",
              "       [143, 143, 143],\n",
              "       [162, 162, 162],\n",
              "       [148, 148, 148],\n",
              "       [136, 136, 136],\n",
              "       [135, 135, 135],\n",
              "       [134, 134, 134],\n",
              "       [130, 130, 130],\n",
              "       [128, 128, 128],\n",
              "       [129, 129, 129]], dtype=uint8)"
            ]
          },
          "metadata": {},
          "execution_count": 9
        }
      ]
    },
    {
      "cell_type": "code",
      "source": [
        "img_gray_dir = '/content/drive/MyDrive/StyleGAN_result/70000/cyst'"
      ],
      "metadata": {
        "id": "V_kwC6RfptUK"
      },
      "execution_count": null,
      "outputs": []
    },
    {
      "cell_type": "code",
      "source": [],
      "metadata": {
        "id": "B5SfCmUiptWo"
      },
      "execution_count": null,
      "outputs": []
    },
    {
      "cell_type": "code",
      "source": [
        "#### 시행착오 ####"
      ],
      "metadata": {
        "id": "lGB2s4boptb1"
      },
      "execution_count": null,
      "outputs": []
    },
    {
      "cell_type": "code",
      "source": [
        "#StyleGAN gray scale 이미지\n",
        "img_gray_dir = '/content/drive/MyDrive/StyleGAN_result/70000/cyst'"
      ],
      "metadata": {
        "id": "WdMo2McR_CoY"
      },
      "execution_count": null,
      "outputs": []
    },
    {
      "cell_type": "code",
      "source": [
        "img_2= Image.fromarray((img * 255).astype(np.uint8))\n",
        "  if lb[0] > lb[1] and lb[0]> lb[2]:\n",
        "    img_2.save('/content/images/%s_cyst_mixup.jpg' %(num),'JPEG')"
      ],
      "metadata": {
        "id": "YNECsvfj_Cqu"
      },
      "execution_count": null,
      "outputs": []
    },
    {
      "cell_type": "code",
      "source": [
        "for i in range(433):\n",
        "  img_gray_dir = cv2.imread('/content/drive/MyDrive/StyleGAN_result/70000/cyst/StyleGAN_cyst_%s.jpg' %(i+1), cv2.IMREAD_COLOR)\n",
        "  #x = Image.fromarray((img_gray_dir*255).astype(np.uint8))\n",
        "  img_gray_dir.save('/content/test/StyleGAN_cyst_%s.jpg' %(i+1),'JPEG')"
      ],
      "metadata": {
        "id": "dDrqfSkh_CtH"
      },
      "execution_count": null,
      "outputs": []
    },
    {
      "cell_type": "code",
      "source": [
        "#check RGB img\n",
        "img_rgb_dir = cv2.imread('/content/drive/MyDrive/StyleGAN_result/70000/cyst/StyleGAN_cyst_1.jpg', cv2.IMREAD_COLOR)\n",
        "\n",
        "plt.imshow(img_rgb_dir, cmap=\"gray\")\n",
        "hist = cv2.calcHist([img_rgb_dir], [0], None, [256], [0,255])\n",
        "plt.subplot(2,1,1),plt.imshow(img_rgb_dir,'gray')\n",
        "plt.subplot(2,1,2),plt.plot(hist)\n",
        "plt.xlim([0,255])\n",
        "plt.show()\n",
        "\n",
        "print(\"shape\",img_rgb_dir.shape)\n",
        "# min_val, max_val, min_loc, max_loc = cv2.minMaxLoc(img_rgb_dir)\n",
        "# print(\"min_val : \",min_val)\n",
        "# print(\"max_val : \",max_val)\n",
        "# print(\"min_loc : \",min_loc)\n",
        "# print(\"max_loc : \",max_loc)\n",
        "\n",
        "# mean, std = cv2.meanStdDev(img_rgb_dir)\n",
        "# print(\"mean : \",mean)\n",
        "# print(\"std : \",std)"
      ],
      "metadata": {
        "id": "Ib04jIOkXIe_"
      },
      "execution_count": null,
      "outputs": []
    },
    {
      "cell_type": "code",
      "source": [
        "#check original img\n",
        "img_ori_dir = '/content/drive/MyDrive/dataset_patch_220117/train/cyst/train_00001.jpg'\n",
        "\n",
        "plt.imshow(img_ori_dir, cmap=\"gray\")\n",
        "hist = cv2.calcHist([img_ori_dir], [0], None, [256], [0,255])\n",
        "plt.subplot(2,1,1),plt.imshow(img_ori_dir,'gray')\n",
        "plt.subplot(2,1,2),plt.plot(hist)\n",
        "plt.xlim([0,255])\n",
        "plt.show()\n",
        "\n",
        "print(\"shape\",img_ori_dir.shape)\n",
        "min_val, max_val, min_loc, max_loc = cv2.minMaxLoc(img_ori_dir)\n",
        "print(\"min_val : \",min_val)\n",
        "print(\"max_val : \",max_val)\n",
        "print(\"min_loc : \",min_loc)\n",
        "print(\"max_loc : \",max_loc)\n",
        "\n",
        "mean, std = cv2.meanStdDev(img_ori_dir)\n",
        "print(\"mean : \",mean)\n",
        "print(\"std : \",std)"
      ],
      "metadata": {
        "id": "0VmQAjtsamIM"
      },
      "execution_count": null,
      "outputs": []
    }
  ]
}