{
  "cells": [
    {
      "cell_type": "code",
      "execution_count": null,
      "metadata": {
        "id": "OXxmEYL0BMzW"
      },
      "outputs": [],
      "source": [
        "# 깃허브 커밋 연습하는 파일"
      ]
    },
    {
      "cell_type": "code",
      "execution_count": null,
      "metadata": {
        "id": "PXA7WQKVDfYf"
      },
      "outputs": [],
      "source": [
        "# 커밋 됐으면 좋겠다\n",
        "\n",
        "# ddd\n",
        "\n",
        "###"
      ]
    }
  ],
  "metadata": {
    "colab": {
      "collapsed_sections": [],
      "provenance": []
    },
    "kernelspec": {
      "display_name": "Python 3",
      "name": "python3"
    },
    "language_info": {
      "name": "python"
    }
  },
  "nbformat": 4,
  "nbformat_minor": 0
}
