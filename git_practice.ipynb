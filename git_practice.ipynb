{
  "nbformat": 4,
  "nbformat_minor": 0,
  "metadata": {
    "colab": {
      "provenance": [],
      "collapsed_sections": []
    },
    "kernelspec": {
      "name": "python3",
      "display_name": "Python 3"
    },
    "language_info": {
      "name": "python"
    }
  },
  "cells": [
    {
      "cell_type": "code",
      "execution_count": null,
      "metadata": {
        "id": "OXxmEYL0BMzW"
      },
      "outputs": [],
      "source": [
        "# 깃허브 커밋 연습하는 파일"
      ]
    },
    {
      "cell_type": "code",
      "source": [
        "# 커밋 됐으면 좋겠다"
      ],
      "metadata": {
        "id": "PXA7WQKVDfYf"
      },
      "execution_count": null,
      "outputs": []
    }
  ]
}