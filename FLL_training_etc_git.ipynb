{
  "cells": [
    {
      "cell_type": "markdown",
      "metadata": {
        "id": "view-in-github"
      },
      "source": [
        "<a href=\"https://colab.research.google.com/github/jurader/covid19_xp/blob/master/covid19_training_etc.ipynb\" target=\"_parent\"><img src=\"https://colab.research.google.com/assets/colab-badge.svg\" alt=\"Open In Colab\"/></a>"
      ]
    },
    {
      "cell_type": "code",
      "execution_count": null,
      "metadata": {
        "colab": {
          "base_uri": "https://localhost:8080/"
        },
        "id": "CUaSALmrwcCi",
        "outputId": "961020bd-87b4-4465-a2b5-c70d01db41c6"
      },
      "outputs": [
        {
          "output_type": "stream",
          "name": "stdout",
          "text": [
            "Mounted at /content/drive\n"
          ]
        }
      ],
      "source": [
        "from google.colab import drive\n",
        "drive.mount('/content/drive')"
      ]
    },
    {
      "cell_type": "code",
      "source": [
        "##### dropbox download #####\n",
        "\n",
        "#aug_dataset.zip dropbox\n",
        "! wget  -O aug_dataset.zip\n",
        "#augmentations.py dropbox\n",
        "! wget  -O augmentations.py\n",
        "\n",
        "# run_cl3_ratio_v4_0.py dropbox\n",
        "#! wget  -O run_cl3_ratio_v4_0.py\n",
        "\n",
        "# run_cl3_ratio_v4_25.py dropbox\n",
        "# ! wget  -O run_cl3_ratio_v4_25.py\n",
        "\n",
        "# run_cl3_ratio_v4_50.py dropbox\n",
        "# ! wget  -O run_cl3_ratio_v4_50.py\n",
        "\n",
        "# run_cl3_ratio_v4_75.py dropbox\n",
        "! wget  -O run_cl3_ratio_v4_75.py\n",
        "\n",
        "# run_cl3_ratio_v4_100.py dropbox\n",
        "#! wget  -O run_cl3_ratio_v4_100.py"
      ],
      "metadata": {
        "id": "0G-NAycTTFEZ"
      },
      "execution_count": null,
      "outputs": []
    },
    {
      "cell_type": "code",
      "execution_count": null,
      "metadata": {
        "id": "XjaNxQOZzoiF"
      },
      "outputs": [],
      "source": [
        "# aug_dataset.zip unzip\n",
        "!unzip -qq \"/content/aug_dataset.zip\""
      ]
    },
    {
      "cell_type": "code",
      "execution_count": null,
      "metadata": {
        "colab": {
          "base_uri": "https://localhost:8080/"
        },
        "id": "V_ChHV9OUrVJ",
        "outputId": "9e82bfd4-6fa5-4b23-956f-a0c6cde084cf"
      },
      "outputs": [
        {
          "output_type": "stream",
          "name": "stdout",
          "text": [
            "-rw-r--r-- 1 root root 23665 Jul  6 08:01 /content/aug_dataset/test.csv\n",
            "-rw-r--r-- 1 root root 53823 May 30 18:26 /content/aug_dataset/train1.csv\n",
            "-rw-r--r-- 1 root root 50123 Sep 12 12:36 /content/aug_dataset/train2.csv\n",
            "-rw-r--r-- 1 root root 22676 Jul 31 17:57 /content/aug_dataset/val.csv\n"
          ]
        }
      ],
      "source": [
        "! ls -l /content/aug_dataset/*.csv"
      ]
    },
    {
      "cell_type": "code",
      "execution_count": null,
      "metadata": {
        "colab": {
          "base_uri": "https://localhost:8080/"
        },
        "id": "T_kHCl8qUP3Z",
        "outputId": "3bbfa056-8b6d-4137-9d8f-de05c9c66678"
      },
      "outputs": [
        {
          "output_type": "stream",
          "name": "stdout",
          "text": [
            "total 723\n",
            "-rw------- 1 root root 1498 Apr 27  2020 train_00001.jpg\n",
            "-rw------- 1 root root 1550 Apr 27  2020 train_00002.jpg\n",
            "-rw------- 1 root root 1234 Apr 27  2020 train_00003.jpg\n",
            "-rw------- 1 root root 1080 Apr 27  2020 train_00004.jpg\n",
            "-rw------- 1 root root 1497 Apr 27  2020 train_00005.jpg\n",
            "-rw------- 1 root root 1319 Apr 27  2020 train_00006.jpg\n",
            "-rw------- 1 root root 1536 Apr 27  2020 train_00007.jpg\n",
            "-rw------- 1 root root 1174 Apr 27  2020 train_00008.jpg\n",
            "-rw------- 1 root root 1446 Apr 27  2020 train_00009.jpg\n",
            "total 296\n",
            "-rw------- 1 root root 1582 Apr 27  2020 train_00001.jpg\n",
            "-rw------- 1 root root 1556 Apr 27  2020 train_00002.jpg\n",
            "-rw------- 1 root root 1753 Apr 27  2020 train_00003.jpg\n",
            "-rw------- 1 root root 1348 Apr 27  2020 train_00004.jpg\n",
            "-rw------- 1 root root 1485 Apr 27  2020 train_00005.jpg\n",
            "-rw------- 1 root root 1376 Apr 27  2020 train_00006.jpg\n",
            "-rw------- 1 root root 1372 Apr 27  2020 train_00007.jpg\n",
            "-rw------- 1 root root 1559 Apr 27  2020 train_00008.jpg\n",
            "-rw------- 1 root root 1568 Apr 27  2020 train_00009.jpg\n",
            "total 203\n",
            "-rw------- 1 root root 1484 Apr 27  2020 test_00001.jpg\n",
            "-rw------- 1 root root 1525 Apr 27  2020 test_00002.jpg\n",
            "-rw------- 1 root root 1515 Apr 27  2020 test_00003.jpg\n",
            "-rw------- 1 root root 1453 Apr 27  2020 test_00004.jpg\n",
            "-rw------- 1 root root 1533 Apr 27  2020 test_00005.jpg\n",
            "-rw------- 1 root root 1459 Apr 27  2020 test_00006.jpg\n",
            "-rw------- 1 root root 1368 Apr 27  2020 test_00007.jpg\n",
            "-rw------- 1 root root 1298 Apr 27  2020 test_00008.jpg\n",
            "-rw------- 1 root root 1647 Apr 27  2020 test_00009.jpg\n",
            "total 240\n",
            "-rw------- 1 root root 1483 Apr 27  2020 test_00001.jpg\n",
            "-rw------- 1 root root 1518 Apr 27  2020 test_00002.jpg\n",
            "-rw------- 1 root root 1597 Apr 27  2020 test_00003.jpg\n",
            "-rw------- 1 root root 1490 Apr 27  2020 test_00004.jpg\n",
            "-rw------- 1 root root 1516 Apr 27  2020 test_00005.jpg\n",
            "-rw------- 1 root root 1430 Apr 27  2020 test_00006.jpg\n",
            "-rw------- 1 root root 1385 Apr 27  2020 test_00007.jpg\n",
            "-rw------- 1 root root 1495 Apr 27  2020 test_00008.jpg\n",
            "-rw------- 1 root root 1472 Apr 27  2020 test_00009.jpg\n",
            "total 193\n",
            "-rw------- 1 root root 1555 Apr 27  2020 val_00001.jpg\n",
            "-rw------- 1 root root 1578 Apr 27  2020 val_00002.jpg\n",
            "-rw------- 1 root root 1627 Apr 27  2020 val_00003.jpg\n",
            "-rw------- 1 root root 1634 Apr 27  2020 val_00004.jpg\n",
            "-rw------- 1 root root 1158 Apr 27  2020 val_00005.jpg\n",
            "-rw------- 1 root root 1655 Apr 27  2020 val_00006.jpg\n",
            "-rw------- 1 root root 1547 Apr 27  2020 val_00007.jpg\n",
            "-rw------- 1 root root 1460 Apr 27  2020 val_00008.jpg\n",
            "-rw------- 1 root root 1465 Apr 27  2020 val_00009.jpg\n",
            "total 262\n",
            "-rw------- 1 root root 1329 Apr 27  2020 val_00001.jpg\n",
            "-rw------- 1 root root 1378 Apr 27  2020 val_00002.jpg\n",
            "-rw------- 1 root root 1287 Apr 27  2020 val_00003.jpg\n",
            "-rw------- 1 root root 1444 Apr 27  2020 val_00004.jpg\n",
            "-rw------- 1 root root 1616 Apr 27  2020 val_00005.jpg\n",
            "-rw------- 1 root root 1452 Apr 27  2020 val_00006.jpg\n",
            "-rw------- 1 root root 1451 Apr 27  2020 val_00007.jpg\n",
            "-rw------- 1 root root 1621 Apr 27  2020 val_00008.jpg\n",
            "-rw------- 1 root root 1550 Apr 27  2020 val_00009.jpg\n"
          ]
        }
      ],
      "source": [
        "# original data 확인\n",
        "! ls -l /content/drive/MyDrive/dataset_patch_220117/train/cyst/ | head\n",
        "! ls -l /content/drive/MyDrive/dataset_patch_220117/train/meta/ | head\n",
        "\n",
        "! ls -l /content/drive/MyDrive/dataset_patch_220117/test/cyst/ | head\n",
        "! ls -l /content/drive/MyDrive/dataset_patch_220117/test/meta/ | head\n",
        "\n",
        "! ls -l /content/drive/MyDrive/dataset_patch_220117/val/cyst/ | head\n",
        "! ls -l /content/drive/MyDrive/dataset_patch_220117/val/meta/ | head"
      ]
    },
    {
      "cell_type": "code",
      "execution_count": null,
      "metadata": {
        "id": "erSDExSk0HR8",
        "colab": {
          "base_uri": "https://localhost:8080/"
        },
        "outputId": "d8800a75-5d65-4ce6-b55e-c9b88d1486fe"
      },
      "outputs": [
        {
          "output_type": "stream",
          "name": "stdout",
          "text": [
            "-rw-r--r-- 1 root root 53823 May 30 18:26 /content/aug_dataset/train1.csv\n",
            "-rw-r--r-- 1 root root 50123 Sep 12 12:36 /content/aug_dataset/train2.csv\n"
          ]
        }
      ],
      "source": [
        "# # tar 파일(aug_dataset) 확인\n",
        "! ls -l /content/aug_dataset/train1.csv | head\n",
        "! ls -l /content/aug_dataset/train2.csv | head"
      ]
    },
    {
      "cell_type": "code",
      "execution_count": null,
      "metadata": {
        "colab": {
          "base_uri": "https://localhost:8080/"
        },
        "id": "hDlF8Ly-sAfA",
        "outputId": "c6268fff-cf0e-4042-b538-4f3ae566177a"
      },
      "outputs": [
        {
          "output_type": "stream",
          "name": "stdout",
          "text": [
            "total 1059\n",
            "-rw------- 1 root root 1824 Sep 16 16:43 StyleGAN_cyst_100.jpg\n",
            "-rw------- 1 root root 1717 Sep 16 16:43 StyleGAN_cyst_101.jpg\n",
            "-rw------- 1 root root 1812 Sep 16 16:43 StyleGAN_cyst_102.jpg\n",
            "-rw------- 1 root root 1806 Sep 16 16:43 StyleGAN_cyst_103.jpg\n",
            "-rw------- 1 root root 2565 Sep 16 16:43 StyleGAN_cyst_104.jpg\n",
            "-rw------- 1 root root 2441 Sep 16 16:43 StyleGAN_cyst_105.jpg\n",
            "-rw------- 1 root root 2562 Sep 16 16:43 StyleGAN_cyst_106.jpg\n",
            "-rw------- 1 root root 2579 Sep 16 16:43 StyleGAN_cyst_107.jpg\n",
            "-rw------- 1 root root 2647 Sep 16 16:43 StyleGAN_cyst_108.jpg\n",
            "total 440\n",
            "-rw------- 1 root root 2293 Sep 16 16:46 StyleGAN_meta_100.jpg\n",
            "-rw------- 1 root root 2374 Sep 16 16:46 StyleGAN_meta_101.jpg\n",
            "-rw------- 1 root root 2420 Sep 16 16:46 StyleGAN_meta_102.jpg\n",
            "-rw------- 1 root root 1931 Sep 16 16:46 StyleGAN_meta_103.jpg\n",
            "-rw------- 1 root root 2429 Sep 16 16:46 StyleGAN_meta_104.jpg\n",
            "-rw------- 1 root root 2637 Sep 16 16:46 StyleGAN_meta_105.jpg\n",
            "-rw------- 1 root root 2424 Sep 16 16:46 StyleGAN_meta_106.jpg\n",
            "-rw------- 1 root root 2407 Sep 16 16:46 StyleGAN_meta_107.jpg\n",
            "-rw------- 1 root root 2412 Sep 16 16:46 StyleGAN_meta_108.jpg\n"
          ]
        }
      ],
      "source": [
        "# stylegan data 확인\n",
        "! ls -l /content/drive/MyDrive/StyleGAN_result/cyst | head\n",
        "! ls -l /content/drive/MyDrive/StyleGAN_result/meta/ | head"
      ]
    },
    {
      "cell_type": "code",
      "execution_count": null,
      "metadata": {
        "id": "zzTdTjljIkEK"
      },
      "outputs": [],
      "source": [
        "import cv2\n",
        "from matplotlib import pyplot as plt"
      ]
    },
    {
      "cell_type": "code",
      "execution_count": null,
      "metadata": {
        "id": "PlyEIke4ZIg9"
      },
      "outputs": [],
      "source": [
        "! pip uninstall -y tensorflow\n",
        "! pip uninstall -y Keras Keras-Applications keras-nightly Keras-Preprocessing  keras-vis\n",
        "\n",
        "! pip install tensorflow-gpu==1.13.1 keras==2.2.4"
      ]
    },
    {
      "cell_type": "code",
      "execution_count": null,
      "metadata": {
        "id": "Xij_eTyXD_3h"
      },
      "outputs": [],
      "source": [
        "#! pip install -U efficientnet\n",
        "! pip install -U git+https://github.com/qubvel/efficientnet"
      ]
    },
    {
      "cell_type": "code",
      "execution_count": null,
      "metadata": {
        "colab": {
          "base_uri": "https://localhost:8080/"
        },
        "id": "XKcprGArI7Kn",
        "outputId": "720a20e5-4eec-4f36-a537-b2a7f6a042cf"
      },
      "outputs": [
        {
          "output_type": "stream",
          "name": "stdout",
          "text": [
            "/content\n"
          ]
        }
      ],
      "source": [
        "%cd /content"
      ]
    },
    {
      "cell_type": "code",
      "execution_count": null,
      "metadata": {
        "colab": {
          "base_uri": "https://localhost:8080/"
        },
        "id": "1WRUH68N5H0W",
        "outputId": "3175fa3b-8ee9-46d1-b9a7-ac1d5804bfd6"
      },
      "outputs": [
        {
          "output_type": "stream",
          "name": "stdout",
          "text": [
            "aug_dataset\t augmentations.py  __MACOSX\t\t   sample_data\n",
            "aug_dataset.zip  drive\t\t   run_cl3_ratio_v4_75.py\n"
          ]
        }
      ],
      "source": [
        "!ls"
      ]
    },
    {
      "cell_type": "code",
      "execution_count": null,
      "metadata": {
        "id": "ps8k4eMo5Cgi"
      },
      "outputs": [],
      "source": [
        "#0\n",
        "# ! python3 -u run_cl3_ratio_v4_0.py -o ./result/best__vgg0/ -l 64 -b 8 -e 100 -z 125 -r 0.0002 --op 3 --dlr 15 -f 416 -d 0.1 --tf vg -v 0.55 --aug 4 --alpha 0 --beta 0.0 --verbose 1 --es 20 --index 1 --save 1  --eval-test 1\n",
        "# ! python3 -u run_cl3_ratio_v4_0.py -o ./result/best__vgg1/ -l 64 -b 8 -e 100 -z 125 -r 0.0002 --op 3 --dlr 15 -f 416 -d 0.1 --tf vg -v 0.55 --aug 4 --alpha 0 --beta 0.0 --verbose 1 --es 20 --index 1 --save 1  --eval-test 1\n",
        "# ! python3 -u run_cl3_ratio_v4_0.py -o ./result/best__vgg2/ -l 64 -b 8 -e 100 -z 125 -r 0.0002 --op 3 --dlr 15 -f 416 -d 0.1 --tf vg -v 0.55 --aug 4 --alpha 0 --beta 0.0 --verbose 1 --es 20 --index 1 --save 1  --eval-test 1\n",
        "# ! python3 -u run_cl3_ratio_v4_0.py -o ./result/best__vgg3/ -l 64 -b 8 -e 100 -z 125 -r 0.0002 --op 3 --dlr 15 -f 416 -d 0.1 --tf vg -v 0.55 --aug 4 --alpha 0 --beta 0.0 --verbose 1 --es 20 --index 1 --save 1  --eval-test 1\n",
        "# ! python3 -u run_cl3_ratio_v4_0.py -o ./result/best__vgg4/ -l 64 -b 8 -e 100 -z 125 -r 0.0002 --op 3 --dlr 15 -f 416 -d 0.1 --tf vg -v 0.55 --aug 4 --alpha 0 --beta 0.0 --verbose 1 --es 20 --index 1 --save 1  --eval-test 1\n",
        "\n",
        "#25\n",
        "# ! python3 -u run_cl3_ratio_v4_25.py -o ./result/best__vgg0/ -l 64 -b 8 -e 100 -z 125 -r 0.00002 --op 3 --dlr 15 -f 416 -d 0.1 --tf vg -v 0.55 --aug 4 --alpha 0 --beta 0.0 --verbose 1 --es 20 --index 1 --save 1  --eval-test 1\n",
        "# ! python3 -u run_cl3_ratio_v4_25.py -o ./result/best__vgg1/ -l 64 -b 8 -e 100 -z 125 -r 0.00002 --op 3 --dlr 15 -f 416 -d 0.1 --tf vg -v 0.55 --aug 4 --alpha 0 --beta 0.0 --verbose 1 --es 20 --index 1 --save 1  --eval-test 1\n",
        "# ! python3 -u run_cl3_ratio_v4_25.py -o ./result/best__vgg2/ -l 64 -b 8 -e 100 -z 125 -r 0.00002 --op 3 --dlr 15 -f 416 -d 0.1 --tf vg -v 0.55 --aug 4 --alpha 0 --beta 0.0 --verbose 1 --es 20 --index 1 --save 1  --eval-test 1\n",
        "# ! python3 -u run_cl3_ratio_v4_25.py -o ./result/best__vgg3/ -l 64 -b 8 -e 100 -z 125 -r 0.00002 --op 3 --dlr 15 -f 416 -d 0.1 --tf vg -v 0.55 --aug 4 --alpha 0 --beta 0.0 --verbose 1 --es 20 --index 1 --save 1  --eval-test 1\n",
        "# ! python3 -u run_cl3_ratio_v4_25.py -o ./result/best__vgg4/ -l 64 -b 8 -e 100 -z 125 -r 0.00002 --op 3 --dlr 15 -f 416 -d 0.1 --tf vg -v 0.55 --aug 4 --alpha 0 --beta 0.0 --verbose 1 --es 20 --index 1 --save 1  --eval-test 1\n",
        "\n",
        "#50\n",
        "# ! python3 -u run_cl3_ratio_v4_50.py -o ./result/best__vgg0/ -l 64 -b 8 -e 100 -z 125 -r 0.00005 --op 3 --dlr 15 -f 416 -d 0.1 --tf vg -v 0.55 --aug 4 --alpha 0 --beta 0.0 --verbose 1 --es 20 --index 1 --save 1  --eval-test 1\n",
        "# ! python3 -u run_cl3_ratio_v4_50.py -o ./result/best__vgg1/ -l 64 -b 8 -e 100 -z 125 -r 0.00005 --op 3 --dlr 15 -f 416 -d 0.1 --tf vg -v 0.55 --aug 4 --alpha 0 --beta 0.0 --verbose 1 --es 20 --index 1 --save 1  --eval-test 1\n",
        "# ! python3 -u run_cl3_ratio_v4_50.py -o ./result/best__vgg2/ -l 64 -b 8 -e 100 -z 125 -r 0.00005 --op 3 --dlr 15 -f 416 -d 0.1 --tf vg -v 0.55 --aug 4 --alpha 0 --beta 0.0 --verbose 1 --es 20 --index 1 --save 1  --eval-test 1\n",
        "# ! python3 -u run_cl3_ratio_v4_50.py -o ./result/best__vgg3/ -l 64 -b 8 -e 100 -z 125 -r 0.00005 --op 3 --dlr 15 -f 416 -d 0.1 --tf vg -v 0.55 --aug 4 --alpha 0 --beta 0.0 --verbose 1 --es 20 --index 1 --save 1  --eval-test 1\n",
        "# ! python3 -u run_cl3_ratio_v4_50.py -o ./result/best__vgg4/ -l 64 -b 8 -e 100 -z 125 -r 0.00005 --op 3 --dlr 15 -f 416 -d 0.1 --tf vg -v 0.55 --aug 4 --alpha 0 --beta 0.0 --verbose 1 --es 20 --index 1 --save 1  --eval-test 1\n",
        "\n",
        "#75\n",
        "# ! python3 -u run_cl3_ratio_v4_75.py -o ./result/best__vgg0/ -l 64 -b 8 -e 100 -z 125 -r 0.00005 --op 3 --dlr 15 -f 416 -d 0.1 --tf vg -v 0.55 --aug 4 --alpha 0 --beta 0.0 --verbose 1 --es 20 --index 1 --save 1  --eval-test 1\n",
        "# ! python3 -u run_cl3_ratio_v4_75.py -o ./result/best__vgg1/ -l 64 -b 8 -e 100 -z 125 -r 0.00005 --op 3 --dlr 15 -f 416 -d 0.1 --tf vg -v 0.55 --aug 4 --alpha 0 --beta 0.0 --verbose 1 --es 20 --index 1 --save 1  --eval-test 1\n",
        "# ! python3 -u run_cl3_ratio_v4_75.py -o ./result/best__vgg2/ -l 64 -b 8 -e 100 -z 125 -r 0.00005 --op 3 --dlr 15 -f 416 -d 0.1 --tf vg -v 0.55 --aug 4 --alpha 0 --beta 0.0 --verbose 1 --es 20 --index 1 --save 1  --eval-test 1\n",
        "# ! python3 -u run_cl3_ratio_v4_75.py -o ./result/best__vgg3/ -l 64 -b 8 -e 100 -z 125 -r 0.00005 --op 3 --dlr 15 -f 416 -d 0.1 --tf vg -v 0.55 --aug 4 --alpha 0 --beta 0.0 --verbose 1 --es 20 --index 1 --save 1  --eval-test 1\n",
        "# ! python3 -u run_cl3_ratio_v4_75.py -o ./result/best__vgg4/ -l 64 -b 8 -e 100 -z 125 -r 0.00005 --op 3 --dlr 15 -f 416 -d 0.1 --tf vg -v 0.55 --aug 4 --alpha 0 --beta 0.0 --verbose 1 --es 20 --index 1 --save 1  --eval-test 1\n",
        "\n",
        "#100\n",
        "# ! python3 -u run_cl3_ratio_v4_100.py -o ./result/best__vgg0/ -l 64 -b 8 -e 100 -z 125 -r 0.00005 --op 3 --dlr 15 -f 416 -d 0.1 --tf vg -v 0.55 --aug 4 --alpha 0 --beta 0.0 --verbose 1 --es 20 --index 1 --save 1  --eval-test 1\n",
        "# ! python3 -u run_cl3_ratio_v4_100.py -o ./result/best__vgg1/ -l 64 -b 8 -e 100 -z 125 -r 0.00005 --op 3 --dlr 15 -f 416 -d 0.1 --tf vg -v 0.55 --aug 4 --alpha 0 --beta 0.0 --verbose 1 --es 20 --index 1 --save 1  --eval-test 1\n",
        "# ! python3 -u run_cl3_ratio_v4_100.py -o ./result/best__vgg2/ -l 64 -b 8 -e 100 -z 125 -r 0.00005 --op 3 --dlr 15 -f 416 -d 0.1 --tf vg -v 0.55 --aug 4 --alpha 0 --beta 0.0 --verbose 1 --es 20 --index 1 --save 1  --eval-test 1\n",
        "# ! python3 -u run_cl3_ratio_v4_100.py -o ./result/best__vgg3/ -l 64 -b 8 -e 100 -z 125 -r 0.00005 --op 3 --dlr 15 -f 416 -d 0.1 --tf vg -v 0.55 --aug 4 --alpha 0 --beta 0.0 --verbose 1 --es 20 --index 1 --save 1  --eval-test 1\n",
        "# ! python3 -u run_cl3_ratio_v4_100.py -o ./result/best__vgg4/ -l 64 -b 8 -e 100 -z 125 -r 0.00005 --op 3 --dlr 15 -f 416 -d 0.1 --tf vg -v 0.55 --aug 4 --alpha 0 --beta 0.0 --verbose 1 --es 20 --index 1 --save 1  --eval-test 1"
      ]
    },
    {
      "cell_type": "code",
      "execution_count": null,
      "metadata": {
        "id": "QM7R7lwQ7nxv"
      },
      "outputs": [],
      "source": [
        "! zip -r -q result.zip result/ "
      ]
    },
    {
      "cell_type": "code",
      "execution_count": null,
      "metadata": {
        "colab": {
          "base_uri": "https://localhost:8080/"
        },
        "id": "pjCgew0Z6jBS",
        "outputId": "c5093239-da2c-4080-90b4-ebc58e997fff"
      },
      "outputs": [
        {
          "output_type": "stream",
          "name": "stdout",
          "text": [
            "-rw-r--r-- 1 root root 505201500 Sep 12 17:37 result.zip\n"
          ]
        }
      ],
      "source": [
        "! ls -l result.zip"
      ]
    },
    {
      "cell_type": "code",
      "execution_count": null,
      "metadata": {
        "id": "WPnPaA9yInDM"
      },
      "outputs": [],
      "source": [
        "from google.colab import files\n",
        "files.download('./result.zip')\n"
      ]
    },
    {
      "cell_type": "code",
      "execution_count": null,
      "metadata": {
        "colab": {
          "base_uri": "https://localhost:8080/"
        },
        "id": "MIRxri3vmn_O",
        "outputId": "30ca42d1-853b-4c98-ff8a-07d0c538559d"
      },
      "outputs": [
        {
          "name": "stdout",
          "output_type": "stream",
          "text": [
            "Mounted at /content/gdrive\n"
          ]
        }
      ],
      "source": [
        "from google.colab import drive\n",
        "\n",
        "drive.mount('/content/gdrive')"
      ]
    }
  ],
  "metadata": {
    "accelerator": "GPU",
    "colab": {
      "collapsed_sections": [],
      "provenance": []
    },
    "gpuClass": "standard",
    "kernelspec": {
      "display_name": "Python 3",
      "name": "python3"
    }
  },
  "nbformat": 4,
  "nbformat_minor": 0
}