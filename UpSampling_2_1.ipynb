{
  "nbformat": 4,
  "nbformat_minor": 0,
  "metadata": {
    "colab": {
      "provenance": [],
      "collapsed_sections": [],
      "machine_shape": "hm"
    },
    "kernelspec": {
      "name": "python3",
      "display_name": "Python 3"
    },
    "language_info": {
      "name": "python"
    }
  },
  "cells": [
    {
      "cell_type": "code",
      "execution_count": 1,
      "metadata": {
        "id": "XVj_0F9jV3Uv"
      },
      "outputs": [],
      "source": [
        "import pandas as pd\n",
        "import numpy as np\n",
        "import matplotlib.pyplot as plt\n",
        "plt.rc('font', family='Malgun Gothic')\n",
        "import seaborn as sns\n",
        "import warnings\n",
        "warnings.filterwarnings(action='ignore')\n",
        "from sklearn.preprocessing import LabelEncoder\n",
        "from sklearn.preprocessing import MinMaxScaler\n",
        "from sklearn.model_selection import train_test_split\n",
        "from sklearn.linear_model import LogisticRegression\n",
        "from sklearn.model_selection import GridSearchCV"
      ]
    },
    {
      "cell_type": "code",
      "source": [
        "#include_all.zip data download(include_all.csv)\n",
        "! wget https://www.dropbox.com/s/ffeb3yg1o4bfctp/include_all.zip?dl=0 -O include_all.zip"
      ],
      "metadata": {
        "colab": {
          "base_uri": "https://localhost:8080/"
        },
        "id": "yxBFZvk9WbGw",
        "outputId": "8097194f-b440-4a2e-dd54-a34a2f8eb450"
      },
      "execution_count": 2,
      "outputs": [
        {
          "output_type": "stream",
          "name": "stdout",
          "text": [
            "--2022-10-09 04:10:32--  https://www.dropbox.com/s/ffeb3yg1o4bfctp/include_all.zip?dl=0\n",
            "Resolving www.dropbox.com (www.dropbox.com)... 162.125.3.18, 2620:100:6018:18::a27d:312\n",
            "Connecting to www.dropbox.com (www.dropbox.com)|162.125.3.18|:443... connected.\n",
            "HTTP request sent, awaiting response... 302 Found\n",
            "Location: /s/raw/ffeb3yg1o4bfctp/include_all.zip [following]\n",
            "--2022-10-09 04:10:32--  https://www.dropbox.com/s/raw/ffeb3yg1o4bfctp/include_all.zip\n",
            "Reusing existing connection to www.dropbox.com:443.\n",
            "HTTP request sent, awaiting response... 302 Found\n",
            "Location: https://uca4961d8e978e6f4e2e803576a1.dl.dropboxusercontent.com/cd/0/inline/Bue5kQa-mPiOnMa_LBwBkTBPFSH8zhGUW1WYHTNOjITPOYol0eK_fA-czCo4w2Izh2oP2IS0B8Blfjs9wwhqX46TGjVkTo8rBgDjaxgMrBOpafp4kHy0-jl5PPzl8xXWivLY5WnerfXzw4GD1egEwb1s9P7SPb-Oc3ToPuxl2e_5bA/file# [following]\n",
            "--2022-10-09 04:10:33--  https://uca4961d8e978e6f4e2e803576a1.dl.dropboxusercontent.com/cd/0/inline/Bue5kQa-mPiOnMa_LBwBkTBPFSH8zhGUW1WYHTNOjITPOYol0eK_fA-czCo4w2Izh2oP2IS0B8Blfjs9wwhqX46TGjVkTo8rBgDjaxgMrBOpafp4kHy0-jl5PPzl8xXWivLY5WnerfXzw4GD1egEwb1s9P7SPb-Oc3ToPuxl2e_5bA/file\n",
            "Resolving uca4961d8e978e6f4e2e803576a1.dl.dropboxusercontent.com (uca4961d8e978e6f4e2e803576a1.dl.dropboxusercontent.com)... 162.125.80.15, 2620:100:6018:15::a27d:30f\n",
            "Connecting to uca4961d8e978e6f4e2e803576a1.dl.dropboxusercontent.com (uca4961d8e978e6f4e2e803576a1.dl.dropboxusercontent.com)|162.125.80.15|:443... connected.\n",
            "HTTP request sent, awaiting response... 302 Found\n",
            "Location: /cd/0/inline2/BudSJEU734zrBKPSeIbk74exyLV7Gi2PsiCz9CkEdBeZEKxojNqlksMgnncfPqQ2eikI1za7drihPq2KH8PJvFgsROteX-GIHL__haOB8PISKqxjT0O3800MM7nFsEEwvy4CksV7aA8PuO0DzImoKxk0LtMUWqGl-HAlO8wgZS8IeHB56VnwdY9HIOGI_CVR2LgAhpu98ZHukeBbNVh090w-Oa3o-Qb6fKLyo9enxVbea9LXjdLIceovyRKQjpeSkWkVxLuBQFpCjGkuUbrYb8nGhzCWHU_OY-LCrPh8C9oYCvgTW9PbO8osGgWrqwBLm4PP3vOlNCG7KQe7dqxyRaD1CJRa6MuY0CDxPzEBc87XIXalmOVfgC03iHgkFUuR-YZ_IuXAjnk6JmrsPrhbkWGO871PH_BXKdWD6J4Zp-k4Tg/file [following]\n",
            "--2022-10-09 04:10:34--  https://uca4961d8e978e6f4e2e803576a1.dl.dropboxusercontent.com/cd/0/inline2/BudSJEU734zrBKPSeIbk74exyLV7Gi2PsiCz9CkEdBeZEKxojNqlksMgnncfPqQ2eikI1za7drihPq2KH8PJvFgsROteX-GIHL__haOB8PISKqxjT0O3800MM7nFsEEwvy4CksV7aA8PuO0DzImoKxk0LtMUWqGl-HAlO8wgZS8IeHB56VnwdY9HIOGI_CVR2LgAhpu98ZHukeBbNVh090w-Oa3o-Qb6fKLyo9enxVbea9LXjdLIceovyRKQjpeSkWkVxLuBQFpCjGkuUbrYb8nGhzCWHU_OY-LCrPh8C9oYCvgTW9PbO8osGgWrqwBLm4PP3vOlNCG7KQe7dqxyRaD1CJRa6MuY0CDxPzEBc87XIXalmOVfgC03iHgkFUuR-YZ_IuXAjnk6JmrsPrhbkWGO871PH_BXKdWD6J4Zp-k4Tg/file\n",
            "Reusing existing connection to uca4961d8e978e6f4e2e803576a1.dl.dropboxusercontent.com:443.\n",
            "HTTP request sent, awaiting response... 200 OK\n",
            "Length: 176420208 (168M) [application/zip]\n",
            "Saving to: ‘include_all.zip’\n",
            "\n",
            "include_all.zip     100%[===================>] 168.25M  15.9MB/s    in 12s     \n",
            "\n",
            "2022-10-09 04:10:46 (14.3 MB/s) - ‘include_all.zip’ saved [176420208/176420208]\n",
            "\n"
          ]
        }
      ]
    },
    {
      "cell_type": "code",
      "source": [
        "# include_all.zip  unzip\n",
        "!unzip -qq \"/content/include_all.zip\""
      ],
      "metadata": {
        "colab": {
          "base_uri": "https://localhost:8080/"
        },
        "id": "mkY1HY6nWbJT",
        "outputId": "48e765ac-992d-4110-ca94-ce9ae0862bde"
      },
      "execution_count": 3,
      "outputs": [
        {
          "output_type": "stream",
          "name": "stdout",
          "text": [
            "replace include_all.csv? [y]es, [n]o, [A]ll, [N]one, [r]ename: n\n",
            "replace include_all.ipynb? [y]es, [n]o, [A]ll, [N]one, [r]ename: n\n"
          ]
        }
      ]
    },
    {
      "cell_type": "code",
      "source": [
        "data=pd.read_csv('/content/include_all.csv')\n",
        "data=data.drop(['Unnamed: 0'],axis=1)"
      ],
      "metadata": {
        "id": "l_Ey0nDNWTtm"
      },
      "execution_count": 2,
      "outputs": []
    },
    {
      "cell_type": "code",
      "source": [
        "len(data)"
      ],
      "metadata": {
        "colab": {
          "base_uri": "https://localhost:8080/"
        },
        "id": "iE--YvlOX0EP",
        "outputId": "6d32fe15-c5d4-495d-a518-f6d1ca89cf33"
      },
      "execution_count": 5,
      "outputs": [
        {
          "output_type": "execute_result",
          "data": {
            "text/plain": [
              "13442614"
            ]
          },
          "metadata": {},
          "execution_count": 5
        }
      ]
    },
    {
      "cell_type": "code",
      "source": [
        "data"
      ],
      "metadata": {
        "colab": {
          "base_uri": "https://localhost:8080/",
          "height": 748
        },
        "id": "GJLXsW85X0GU",
        "outputId": "02136703-0b88-4f86-dc15-7bc7147dfa52"
      },
      "execution_count": 6,
      "outputs": [
        {
          "output_type": "execute_result",
          "data": {
            "text/plain": [
              "          bank_id  product_id  loan_limit  loan_rate  is_applied  birth_year  \\\n",
              "0              25         169  23000000.0       16.9         0.0      1994.0   \n",
              "1              29         265  28000000.0        5.9         0.0      1994.0   \n",
              "2              64         254  22000000.0       13.2         0.0      1994.0   \n",
              "3              18         188   6000000.0        5.3         0.0      1994.0   \n",
              "4               1          61  11000000.0       12.9         0.0      1994.0   \n",
              "...           ...         ...         ...        ...         ...         ...   \n",
              "13442609       35          29   5000000.0       14.5         NaN      1963.0   \n",
              "13442610       61          92  26000000.0       19.7         NaN      1963.0   \n",
              "13442611       13         262  35000000.0       15.5         NaN      1963.0   \n",
              "13442612        6          36  48000000.0       17.7         NaN      1963.0   \n",
              "13442613       59         150  28000000.0       14.0         NaN      1963.0   \n",
              "\n",
              "          credit_score  yearly_income    income_type employment_type  ...  \\\n",
              "0                940.0     23000000.0  EARNEDINCOME2             정규직  ...   \n",
              "1                940.0     23000000.0  EARNEDINCOME2             정규직  ...   \n",
              "2                940.0     23000000.0  EARNEDINCOME2             정규직  ...   \n",
              "3                940.0     23000000.0  EARNEDINCOME2             정규직  ...   \n",
              "4                940.0     23000000.0  EARNEDINCOME2             정규직  ...   \n",
              "...                ...            ...            ...             ...  ...   \n",
              "13442609         690.0     26000000.0   EARNEDINCOME             계약직  ...   \n",
              "13442610         690.0     26000000.0   EARNEDINCOME             계약직  ...   \n",
              "13442611         690.0     26000000.0   EARNEDINCOME             계약직  ...   \n",
              "13442612         690.0     26000000.0   EARNEDINCOME             계약직  ...   \n",
              "13442613         690.0     26000000.0   EARNEDINCOME             계약직  ...   \n",
              "\n",
              "         loanapply_week  loanapply_time time_at_work  기준금리  생활물가지수  소비자심리지수  \\\n",
              "0               Tuesday        13:59:32        19052  1.25     1.2    103.2   \n",
              "1               Tuesday        13:59:31        19052  1.25     1.2    103.2   \n",
              "2               Tuesday        13:59:32        19052  1.25     1.2    103.2   \n",
              "3               Tuesday        13:59:31        19052  1.25     1.2    103.2   \n",
              "4               Tuesday        13:59:32        19052  1.25     1.2    103.2   \n",
              "...                 ...             ...          ...   ...     ...      ...   \n",
              "13442609       Thursday        19:28:48        19173  1.75     0.8     96.4   \n",
              "13442610       Thursday        19:28:40        19173  1.75     0.8     96.4   \n",
              "13442611       Thursday        19:28:39        19173  1.75     0.8     96.4   \n",
              "13442612       Thursday        19:28:40        19173  1.75     0.8     96.4   \n",
              "13442613       Thursday        19:28:39        19173  1.75     0.8     96.4   \n",
              "\n",
              "           나잇대    대출    핀다    금리  \n",
              "0           20  58.0  23.0  20.0  \n",
              "1           20  58.0  23.0  20.0  \n",
              "2           20  58.0  23.0  20.0  \n",
              "3           20  58.0  23.0  20.0  \n",
              "4           20  58.0  23.0  20.0  \n",
              "...        ...   ...   ...   ...  \n",
              "13442609  60이상  49.0  14.0  15.0  \n",
              "13442610  60이상  49.0  14.0  15.0  \n",
              "13442611  60이상  49.0  14.0  15.0  \n",
              "13442612  60이상  49.0  14.0  15.0  \n",
              "13442613  60이상  49.0  14.0  15.0  \n",
              "\n",
              "[13442614 rows x 29 columns]"
            ],
            "text/html": [
              "\n",
              "  <div id=\"df-5d790d9a-b76e-4d73-9f33-3db47f04fe22\">\n",
              "    <div class=\"colab-df-container\">\n",
              "      <div>\n",
              "<style scoped>\n",
              "    .dataframe tbody tr th:only-of-type {\n",
              "        vertical-align: middle;\n",
              "    }\n",
              "\n",
              "    .dataframe tbody tr th {\n",
              "        vertical-align: top;\n",
              "    }\n",
              "\n",
              "    .dataframe thead th {\n",
              "        text-align: right;\n",
              "    }\n",
              "</style>\n",
              "<table border=\"1\" class=\"dataframe\">\n",
              "  <thead>\n",
              "    <tr style=\"text-align: right;\">\n",
              "      <th></th>\n",
              "      <th>bank_id</th>\n",
              "      <th>product_id</th>\n",
              "      <th>loan_limit</th>\n",
              "      <th>loan_rate</th>\n",
              "      <th>is_applied</th>\n",
              "      <th>birth_year</th>\n",
              "      <th>credit_score</th>\n",
              "      <th>yearly_income</th>\n",
              "      <th>income_type</th>\n",
              "      <th>employment_type</th>\n",
              "      <th>...</th>\n",
              "      <th>loanapply_week</th>\n",
              "      <th>loanapply_time</th>\n",
              "      <th>time_at_work</th>\n",
              "      <th>기준금리</th>\n",
              "      <th>생활물가지수</th>\n",
              "      <th>소비자심리지수</th>\n",
              "      <th>나잇대</th>\n",
              "      <th>대출</th>\n",
              "      <th>핀다</th>\n",
              "      <th>금리</th>\n",
              "    </tr>\n",
              "  </thead>\n",
              "  <tbody>\n",
              "    <tr>\n",
              "      <th>0</th>\n",
              "      <td>25</td>\n",
              "      <td>169</td>\n",
              "      <td>23000000.0</td>\n",
              "      <td>16.9</td>\n",
              "      <td>0.0</td>\n",
              "      <td>1994.0</td>\n",
              "      <td>940.0</td>\n",
              "      <td>23000000.0</td>\n",
              "      <td>EARNEDINCOME2</td>\n",
              "      <td>정규직</td>\n",
              "      <td>...</td>\n",
              "      <td>Tuesday</td>\n",
              "      <td>13:59:32</td>\n",
              "      <td>19052</td>\n",
              "      <td>1.25</td>\n",
              "      <td>1.2</td>\n",
              "      <td>103.2</td>\n",
              "      <td>20</td>\n",
              "      <td>58.0</td>\n",
              "      <td>23.0</td>\n",
              "      <td>20.0</td>\n",
              "    </tr>\n",
              "    <tr>\n",
              "      <th>1</th>\n",
              "      <td>29</td>\n",
              "      <td>265</td>\n",
              "      <td>28000000.0</td>\n",
              "      <td>5.9</td>\n",
              "      <td>0.0</td>\n",
              "      <td>1994.0</td>\n",
              "      <td>940.0</td>\n",
              "      <td>23000000.0</td>\n",
              "      <td>EARNEDINCOME2</td>\n",
              "      <td>정규직</td>\n",
              "      <td>...</td>\n",
              "      <td>Tuesday</td>\n",
              "      <td>13:59:31</td>\n",
              "      <td>19052</td>\n",
              "      <td>1.25</td>\n",
              "      <td>1.2</td>\n",
              "      <td>103.2</td>\n",
              "      <td>20</td>\n",
              "      <td>58.0</td>\n",
              "      <td>23.0</td>\n",
              "      <td>20.0</td>\n",
              "    </tr>\n",
              "    <tr>\n",
              "      <th>2</th>\n",
              "      <td>64</td>\n",
              "      <td>254</td>\n",
              "      <td>22000000.0</td>\n",
              "      <td>13.2</td>\n",
              "      <td>0.0</td>\n",
              "      <td>1994.0</td>\n",
              "      <td>940.0</td>\n",
              "      <td>23000000.0</td>\n",
              "      <td>EARNEDINCOME2</td>\n",
              "      <td>정규직</td>\n",
              "      <td>...</td>\n",
              "      <td>Tuesday</td>\n",
              "      <td>13:59:32</td>\n",
              "      <td>19052</td>\n",
              "      <td>1.25</td>\n",
              "      <td>1.2</td>\n",
              "      <td>103.2</td>\n",
              "      <td>20</td>\n",
              "      <td>58.0</td>\n",
              "      <td>23.0</td>\n",
              "      <td>20.0</td>\n",
              "    </tr>\n",
              "    <tr>\n",
              "      <th>3</th>\n",
              "      <td>18</td>\n",
              "      <td>188</td>\n",
              "      <td>6000000.0</td>\n",
              "      <td>5.3</td>\n",
              "      <td>0.0</td>\n",
              "      <td>1994.0</td>\n",
              "      <td>940.0</td>\n",
              "      <td>23000000.0</td>\n",
              "      <td>EARNEDINCOME2</td>\n",
              "      <td>정규직</td>\n",
              "      <td>...</td>\n",
              "      <td>Tuesday</td>\n",
              "      <td>13:59:31</td>\n",
              "      <td>19052</td>\n",
              "      <td>1.25</td>\n",
              "      <td>1.2</td>\n",
              "      <td>103.2</td>\n",
              "      <td>20</td>\n",
              "      <td>58.0</td>\n",
              "      <td>23.0</td>\n",
              "      <td>20.0</td>\n",
              "    </tr>\n",
              "    <tr>\n",
              "      <th>4</th>\n",
              "      <td>1</td>\n",
              "      <td>61</td>\n",
              "      <td>11000000.0</td>\n",
              "      <td>12.9</td>\n",
              "      <td>0.0</td>\n",
              "      <td>1994.0</td>\n",
              "      <td>940.0</td>\n",
              "      <td>23000000.0</td>\n",
              "      <td>EARNEDINCOME2</td>\n",
              "      <td>정규직</td>\n",
              "      <td>...</td>\n",
              "      <td>Tuesday</td>\n",
              "      <td>13:59:32</td>\n",
              "      <td>19052</td>\n",
              "      <td>1.25</td>\n",
              "      <td>1.2</td>\n",
              "      <td>103.2</td>\n",
              "      <td>20</td>\n",
              "      <td>58.0</td>\n",
              "      <td>23.0</td>\n",
              "      <td>20.0</td>\n",
              "    </tr>\n",
              "    <tr>\n",
              "      <th>...</th>\n",
              "      <td>...</td>\n",
              "      <td>...</td>\n",
              "      <td>...</td>\n",
              "      <td>...</td>\n",
              "      <td>...</td>\n",
              "      <td>...</td>\n",
              "      <td>...</td>\n",
              "      <td>...</td>\n",
              "      <td>...</td>\n",
              "      <td>...</td>\n",
              "      <td>...</td>\n",
              "      <td>...</td>\n",
              "      <td>...</td>\n",
              "      <td>...</td>\n",
              "      <td>...</td>\n",
              "      <td>...</td>\n",
              "      <td>...</td>\n",
              "      <td>...</td>\n",
              "      <td>...</td>\n",
              "      <td>...</td>\n",
              "      <td>...</td>\n",
              "    </tr>\n",
              "    <tr>\n",
              "      <th>13442609</th>\n",
              "      <td>35</td>\n",
              "      <td>29</td>\n",
              "      <td>5000000.0</td>\n",
              "      <td>14.5</td>\n",
              "      <td>NaN</td>\n",
              "      <td>1963.0</td>\n",
              "      <td>690.0</td>\n",
              "      <td>26000000.0</td>\n",
              "      <td>EARNEDINCOME</td>\n",
              "      <td>계약직</td>\n",
              "      <td>...</td>\n",
              "      <td>Thursday</td>\n",
              "      <td>19:28:48</td>\n",
              "      <td>19173</td>\n",
              "      <td>1.75</td>\n",
              "      <td>0.8</td>\n",
              "      <td>96.4</td>\n",
              "      <td>60이상</td>\n",
              "      <td>49.0</td>\n",
              "      <td>14.0</td>\n",
              "      <td>15.0</td>\n",
              "    </tr>\n",
              "    <tr>\n",
              "      <th>13442610</th>\n",
              "      <td>61</td>\n",
              "      <td>92</td>\n",
              "      <td>26000000.0</td>\n",
              "      <td>19.7</td>\n",
              "      <td>NaN</td>\n",
              "      <td>1963.0</td>\n",
              "      <td>690.0</td>\n",
              "      <td>26000000.0</td>\n",
              "      <td>EARNEDINCOME</td>\n",
              "      <td>계약직</td>\n",
              "      <td>...</td>\n",
              "      <td>Thursday</td>\n",
              "      <td>19:28:40</td>\n",
              "      <td>19173</td>\n",
              "      <td>1.75</td>\n",
              "      <td>0.8</td>\n",
              "      <td>96.4</td>\n",
              "      <td>60이상</td>\n",
              "      <td>49.0</td>\n",
              "      <td>14.0</td>\n",
              "      <td>15.0</td>\n",
              "    </tr>\n",
              "    <tr>\n",
              "      <th>13442611</th>\n",
              "      <td>13</td>\n",
              "      <td>262</td>\n",
              "      <td>35000000.0</td>\n",
              "      <td>15.5</td>\n",
              "      <td>NaN</td>\n",
              "      <td>1963.0</td>\n",
              "      <td>690.0</td>\n",
              "      <td>26000000.0</td>\n",
              "      <td>EARNEDINCOME</td>\n",
              "      <td>계약직</td>\n",
              "      <td>...</td>\n",
              "      <td>Thursday</td>\n",
              "      <td>19:28:39</td>\n",
              "      <td>19173</td>\n",
              "      <td>1.75</td>\n",
              "      <td>0.8</td>\n",
              "      <td>96.4</td>\n",
              "      <td>60이상</td>\n",
              "      <td>49.0</td>\n",
              "      <td>14.0</td>\n",
              "      <td>15.0</td>\n",
              "    </tr>\n",
              "    <tr>\n",
              "      <th>13442612</th>\n",
              "      <td>6</td>\n",
              "      <td>36</td>\n",
              "      <td>48000000.0</td>\n",
              "      <td>17.7</td>\n",
              "      <td>NaN</td>\n",
              "      <td>1963.0</td>\n",
              "      <td>690.0</td>\n",
              "      <td>26000000.0</td>\n",
              "      <td>EARNEDINCOME</td>\n",
              "      <td>계약직</td>\n",
              "      <td>...</td>\n",
              "      <td>Thursday</td>\n",
              "      <td>19:28:40</td>\n",
              "      <td>19173</td>\n",
              "      <td>1.75</td>\n",
              "      <td>0.8</td>\n",
              "      <td>96.4</td>\n",
              "      <td>60이상</td>\n",
              "      <td>49.0</td>\n",
              "      <td>14.0</td>\n",
              "      <td>15.0</td>\n",
              "    </tr>\n",
              "    <tr>\n",
              "      <th>13442613</th>\n",
              "      <td>59</td>\n",
              "      <td>150</td>\n",
              "      <td>28000000.0</td>\n",
              "      <td>14.0</td>\n",
              "      <td>NaN</td>\n",
              "      <td>1963.0</td>\n",
              "      <td>690.0</td>\n",
              "      <td>26000000.0</td>\n",
              "      <td>EARNEDINCOME</td>\n",
              "      <td>계약직</td>\n",
              "      <td>...</td>\n",
              "      <td>Thursday</td>\n",
              "      <td>19:28:39</td>\n",
              "      <td>19173</td>\n",
              "      <td>1.75</td>\n",
              "      <td>0.8</td>\n",
              "      <td>96.4</td>\n",
              "      <td>60이상</td>\n",
              "      <td>49.0</td>\n",
              "      <td>14.0</td>\n",
              "      <td>15.0</td>\n",
              "    </tr>\n",
              "  </tbody>\n",
              "</table>\n",
              "<p>13442614 rows × 29 columns</p>\n",
              "</div>\n",
              "      <button class=\"colab-df-convert\" onclick=\"convertToInteractive('df-5d790d9a-b76e-4d73-9f33-3db47f04fe22')\"\n",
              "              title=\"Convert this dataframe to an interactive table.\"\n",
              "              style=\"display:none;\">\n",
              "        \n",
              "  <svg xmlns=\"http://www.w3.org/2000/svg\" height=\"24px\"viewBox=\"0 0 24 24\"\n",
              "       width=\"24px\">\n",
              "    <path d=\"M0 0h24v24H0V0z\" fill=\"none\"/>\n",
              "    <path d=\"M18.56 5.44l.94 2.06.94-2.06 2.06-.94-2.06-.94-.94-2.06-.94 2.06-2.06.94zm-11 1L8.5 8.5l.94-2.06 2.06-.94-2.06-.94L8.5 2.5l-.94 2.06-2.06.94zm10 10l.94 2.06.94-2.06 2.06-.94-2.06-.94-.94-2.06-.94 2.06-2.06.94z\"/><path d=\"M17.41 7.96l-1.37-1.37c-.4-.4-.92-.59-1.43-.59-.52 0-1.04.2-1.43.59L10.3 9.45l-7.72 7.72c-.78.78-.78 2.05 0 2.83L4 21.41c.39.39.9.59 1.41.59.51 0 1.02-.2 1.41-.59l7.78-7.78 2.81-2.81c.8-.78.8-2.07 0-2.86zM5.41 20L4 18.59l7.72-7.72 1.47 1.35L5.41 20z\"/>\n",
              "  </svg>\n",
              "      </button>\n",
              "      \n",
              "  <style>\n",
              "    .colab-df-container {\n",
              "      display:flex;\n",
              "      flex-wrap:wrap;\n",
              "      gap: 12px;\n",
              "    }\n",
              "\n",
              "    .colab-df-convert {\n",
              "      background-color: #E8F0FE;\n",
              "      border: none;\n",
              "      border-radius: 50%;\n",
              "      cursor: pointer;\n",
              "      display: none;\n",
              "      fill: #1967D2;\n",
              "      height: 32px;\n",
              "      padding: 0 0 0 0;\n",
              "      width: 32px;\n",
              "    }\n",
              "\n",
              "    .colab-df-convert:hover {\n",
              "      background-color: #E2EBFA;\n",
              "      box-shadow: 0px 1px 2px rgba(60, 64, 67, 0.3), 0px 1px 3px 1px rgba(60, 64, 67, 0.15);\n",
              "      fill: #174EA6;\n",
              "    }\n",
              "\n",
              "    [theme=dark] .colab-df-convert {\n",
              "      background-color: #3B4455;\n",
              "      fill: #D2E3FC;\n",
              "    }\n",
              "\n",
              "    [theme=dark] .colab-df-convert:hover {\n",
              "      background-color: #434B5C;\n",
              "      box-shadow: 0px 1px 3px 1px rgba(0, 0, 0, 0.15);\n",
              "      filter: drop-shadow(0px 1px 2px rgba(0, 0, 0, 0.3));\n",
              "      fill: #FFFFFF;\n",
              "    }\n",
              "  </style>\n",
              "\n",
              "      <script>\n",
              "        const buttonEl =\n",
              "          document.querySelector('#df-5d790d9a-b76e-4d73-9f33-3db47f04fe22 button.colab-df-convert');\n",
              "        buttonEl.style.display =\n",
              "          google.colab.kernel.accessAllowed ? 'block' : 'none';\n",
              "\n",
              "        async function convertToInteractive(key) {\n",
              "          const element = document.querySelector('#df-5d790d9a-b76e-4d73-9f33-3db47f04fe22');\n",
              "          const dataTable =\n",
              "            await google.colab.kernel.invokeFunction('convertToInteractive',\n",
              "                                                     [key], {});\n",
              "          if (!dataTable) return;\n",
              "\n",
              "          const docLinkHtml = 'Like what you see? Visit the ' +\n",
              "            '<a target=\"_blank\" href=https://colab.research.google.com/notebooks/data_table.ipynb>data table notebook</a>'\n",
              "            + ' to learn more about interactive tables.';\n",
              "          element.innerHTML = '';\n",
              "          dataTable['output_type'] = 'display_data';\n",
              "          await google.colab.output.renderOutput(dataTable, element);\n",
              "          const docLink = document.createElement('div');\n",
              "          docLink.innerHTML = docLinkHtml;\n",
              "          element.appendChild(docLink);\n",
              "        }\n",
              "      </script>\n",
              "    </div>\n",
              "  </div>\n",
              "  "
            ]
          },
          "metadata": {},
          "execution_count": 6
        }
      ]
    },
    {
      "cell_type": "code",
      "source": [
        "# train, test set 분리\n",
        "ii=data[data.is_applied.isnull()].index\n",
        "train=data.drop(ii)\n",
        "test=data.loc[ii]"
      ],
      "metadata": {
        "id": "zb5nPo8zWSat"
      },
      "execution_count": 3,
      "outputs": []
    },
    {
      "cell_type": "code",
      "source": [
        "len(train)"
      ],
      "metadata": {
        "colab": {
          "base_uri": "https://localhost:8080/"
        },
        "id": "aJywQXvMa7gn",
        "outputId": "8c3b7b2b-dd55-4b69-a7b0-a18a3c90d384"
      },
      "execution_count": 8,
      "outputs": [
        {
          "output_type": "execute_result",
          "data": {
            "text/plain": [
              "10187132"
            ]
          },
          "metadata": {},
          "execution_count": 8
        }
      ]
    },
    {
      "cell_type": "code",
      "source": [
        "# 3,4,5월 데이터의 is_applied 비율\n",
        "train['is_applied'].value_counts()"
      ],
      "metadata": {
        "colab": {
          "base_uri": "https://localhost:8080/"
        },
        "id": "o7dDWhxYaFhs",
        "outputId": "883c7a94-25db-4317-c3ea-d0ad44eb8a8e"
      },
      "execution_count": 9,
      "outputs": [
        {
          "output_type": "execute_result",
          "data": {
            "text/plain": [
              "0.0    9636167\n",
              "1.0     550965\n",
              "Name: is_applied, dtype: int64"
            ]
          },
          "metadata": {},
          "execution_count": 9
        }
      ]
    },
    {
      "cell_type": "code",
      "source": [
        "train=train.drop('loanapply_time',axis=1)\n",
        "train=pd.get_dummies(train)\n",
        "test_data=train[train['loanapply_month']==5] # 실제 5월로 test\n",
        "train_data=train[(train['loanapply_month']==3)|(train['loanapply_month']==4)] # 3,4월로 예측"
      ],
      "metadata": {
        "id": "vlEi5XRSWQBU"
      },
      "execution_count": 4,
      "outputs": []
    },
    {
      "cell_type": "code",
      "source": [
        "# 3,4월 데이터의 is_applied 비율\n",
        "print('3,4월 데이터 is_applied')\n",
        "print(train_data['is_applied'].value_counts())\n",
        "\n",
        "# 5월 데이터의 is_applied 비율\n",
        "print('5월 데이터 is_applied')\n",
        "print(test_data['is_applied'].value_counts())"
      ],
      "metadata": {
        "colab": {
          "base_uri": "https://localhost:8080/"
        },
        "id": "i4L4xewjaDaO",
        "outputId": "4f44aa12-65fb-4d63-efc4-d9ebc6c642fa"
      },
      "execution_count": 11,
      "outputs": [
        {
          "output_type": "stream",
          "name": "stdout",
          "text": [
            "3,4월 데이터 is_applied\n",
            "0.0    6283121\n",
            "1.0     350958\n",
            "Name: is_applied, dtype: int64\n",
            "5월 데이터 is_applied\n",
            "0.0    3353046\n",
            "1.0     200007\n",
            "Name: is_applied, dtype: int64\n"
          ]
        }
      ]
    },
    {
      "cell_type": "code",
      "source": [
        "print(len(test_data))\n",
        "print(len(train_data))"
      ],
      "metadata": {
        "colab": {
          "base_uri": "https://localhost:8080/"
        },
        "id": "Jh2FxcZFZ4pc",
        "outputId": "c70c5af9-c18a-4fd9-fceb-c1e4396d0ea3"
      },
      "execution_count": 12,
      "outputs": [
        {
          "output_type": "stream",
          "name": "stdout",
          "text": [
            "3553053\n",
            "6634079\n"
          ]
        }
      ]
    },
    {
      "cell_type": "code",
      "source": [
        "# X = train_data[train_data['is_applied'] == 0]\n",
        "# y = train_data[train_data['is_applied'] == 1]\n",
        "X = train_data.drop('is_applied',axis=1)\n",
        "y = train_data['is_applied']"
      ],
      "metadata": {
        "id": "icrK42imdhXs"
      },
      "execution_count": 5,
      "outputs": []
    },
    {
      "cell_type": "code",
      "source": [
        "print(len(X))\n",
        "print(len(y))"
      ],
      "metadata": {
        "colab": {
          "base_uri": "https://localhost:8080/"
        },
        "id": "KBcDqnH3dhax",
        "outputId": "89b37059-6fdf-4487-cdc2-c90bcd2e2e04"
      },
      "execution_count": 14,
      "outputs": [
        {
          "output_type": "stream",
          "name": "stdout",
          "text": [
            "6634079\n",
            "6634079\n"
          ]
        }
      ]
    },
    {
      "cell_type": "code",
      "source": [
        "# 필요없는거 del\n",
        "del ii\n",
        "del data\n",
        "del train\n",
        "del test\n",
        "# del test_data\n",
        "# del train_data"
      ],
      "metadata": {
        "id": "j8fOgLvXfcfV"
      },
      "execution_count": 6,
      "outputs": []
    },
    {
      "cell_type": "code",
      "source": [
        "X.info()"
      ],
      "metadata": {
        "colab": {
          "base_uri": "https://localhost:8080/"
        },
        "id": "DPv_WImIgeq_",
        "outputId": "dcf47fbc-ce00-4f90-fa7f-8a52a72f3201"
      },
      "execution_count": 16,
      "outputs": [
        {
          "output_type": "stream",
          "name": "stdout",
          "text": [
            "<class 'pandas.core.frame.DataFrame'>\n",
            "Int64Index: 6634079 entries, 0 to 6634078\n",
            "Data columns (total 59 columns):\n",
            " #   Column                       Dtype  \n",
            "---  ------                       -----  \n",
            " 0   bank_id                      int64  \n",
            " 1   product_id                   int64  \n",
            " 2   loan_limit                   float64\n",
            " 3   loan_rate                    float64\n",
            " 4   birth_year                   float64\n",
            " 5   credit_score                 float64\n",
            " 6   yearly_income                float64\n",
            " 7   desired_amount               float64\n",
            " 8   existing_loan_cnt            float64\n",
            " 9   existing_loan_amt            float64\n",
            " 10  gender                       float64\n",
            " 11  rehabilitation_yn            int64  \n",
            " 12  loanapply_month              int64  \n",
            " 13  loanapply_day                int64  \n",
            " 14  time_at_work                 int64  \n",
            " 15  기준금리                         float64\n",
            " 16  생활물가지수                       float64\n",
            " 17  소비자심리지수                      float64\n",
            " 18  대출                           float64\n",
            " 19  핀다                           float64\n",
            " 20  금리                           float64\n",
            " 21  income_type_EARNEDINCOME     uint8  \n",
            " 22  income_type_EARNEDINCOME2    uint8  \n",
            " 23  income_type_FREELANCER       uint8  \n",
            " 24  income_type_OTHERINCOME      uint8  \n",
            " 25  income_type_PRACTITIONER     uint8  \n",
            " 26  income_type_PRIVATEBUSINESS  uint8  \n",
            " 27  employment_type_계약직          uint8  \n",
            " 28  employment_type_기타           uint8  \n",
            " 29  employment_type_일용직          uint8  \n",
            " 30  employment_type_정규직          uint8  \n",
            " 31  houseown_type_기타가족소유         uint8  \n",
            " 32  houseown_type_배우자            uint8  \n",
            " 33  houseown_type_자가             uint8  \n",
            " 34  houseown_type_전월세            uint8  \n",
            " 35  purpose_기타                   uint8  \n",
            " 36  purpose_대환대출                 uint8  \n",
            " 37  purpose_사업자금                 uint8  \n",
            " 38  purpose_생활비                  uint8  \n",
            " 39  purpose_자동차구입                uint8  \n",
            " 40  purpose_전월세보증금               uint8  \n",
            " 41  purpose_주택구입                 uint8  \n",
            " 42  purpose_투자                   uint8  \n",
            " 43  loanapply_week_Friday        uint8  \n",
            " 44  loanapply_week_Monday        uint8  \n",
            " 45  loanapply_week_Saturday      uint8  \n",
            " 46  loanapply_week_Sunday        uint8  \n",
            " 47  loanapply_week_Thursday      uint8  \n",
            " 48  loanapply_week_Tuesday       uint8  \n",
            " 49  loanapply_week_Wednesday     uint8  \n",
            " 50  나잇대_20                       uint8  \n",
            " 51  나잇대_30                       uint8  \n",
            " 52  나잇대_40                       uint8  \n",
            " 53  나잇대_50                       uint8  \n",
            " 54  나잇대_20                       uint8  \n",
            " 55  나잇대_30                       uint8  \n",
            " 56  나잇대_40                       uint8  \n",
            " 57  나잇대_50                       uint8  \n",
            " 58  나잇대_60이상                     uint8  \n",
            "dtypes: float64(15), int64(6), uint8(38)\n",
            "memory usage: 1.3 GB\n"
          ]
        }
      ]
    },
    {
      "cell_type": "code",
      "source": [
        "X.isnull().sum()"
      ],
      "metadata": {
        "colab": {
          "base_uri": "https://localhost:8080/"
        },
        "id": "MohKDR3_uy7D",
        "outputId": "3b997b39-ac4d-4595-bb09-1c3a6f46034a"
      },
      "execution_count": 17,
      "outputs": [
        {
          "output_type": "execute_result",
          "data": {
            "text/plain": [
              "bank_id                        0\n",
              "product_id                     0\n",
              "loan_limit                     0\n",
              "loan_rate                      0\n",
              "birth_year                     0\n",
              "credit_score                   0\n",
              "yearly_income                  0\n",
              "desired_amount                 0\n",
              "existing_loan_cnt              0\n",
              "existing_loan_amt              0\n",
              "gender                         0\n",
              "rehabilitation_yn              0\n",
              "loanapply_month                0\n",
              "loanapply_day                  0\n",
              "time_at_work                   0\n",
              "기준금리                           0\n",
              "생활물가지수                         0\n",
              "소비자심리지수                        0\n",
              "대출                             0\n",
              "핀다                             0\n",
              "금리                             0\n",
              "income_type_EARNEDINCOME       0\n",
              "income_type_EARNEDINCOME2      0\n",
              "income_type_FREELANCER         0\n",
              "income_type_OTHERINCOME        0\n",
              "income_type_PRACTITIONER       0\n",
              "income_type_PRIVATEBUSINESS    0\n",
              "employment_type_계약직            0\n",
              "employment_type_기타             0\n",
              "employment_type_일용직            0\n",
              "employment_type_정규직            0\n",
              "houseown_type_기타가족소유           0\n",
              "houseown_type_배우자              0\n",
              "houseown_type_자가               0\n",
              "houseown_type_전월세              0\n",
              "purpose_기타                     0\n",
              "purpose_대환대출                   0\n",
              "purpose_사업자금                   0\n",
              "purpose_생활비                    0\n",
              "purpose_자동차구입                  0\n",
              "purpose_전월세보증금                 0\n",
              "purpose_주택구입                   0\n",
              "purpose_투자                     0\n",
              "loanapply_week_Friday          0\n",
              "loanapply_week_Monday          0\n",
              "loanapply_week_Saturday        0\n",
              "loanapply_week_Sunday          0\n",
              "loanapply_week_Thursday        0\n",
              "loanapply_week_Tuesday         0\n",
              "loanapply_week_Wednesday       0\n",
              "나잇대_20                         0\n",
              "나잇대_30                         0\n",
              "나잇대_40                         0\n",
              "나잇대_50                         0\n",
              "나잇대_20                         0\n",
              "나잇대_30                         0\n",
              "나잇대_40                         0\n",
              "나잇대_50                         0\n",
              "나잇대_60이상                       0\n",
              "dtype: int64"
            ]
          },
          "metadata": {},
          "execution_count": 17
        }
      ]
    },
    {
      "cell_type": "code",
      "source": [
        "y.isnull().sum()"
      ],
      "metadata": {
        "colab": {
          "base_uri": "https://localhost:8080/"
        },
        "id": "P0N9LRV0g1em",
        "outputId": "ce6ca421-73aa-4b45-ba4c-e92e9d903740"
      },
      "execution_count": 18,
      "outputs": [
        {
          "output_type": "execute_result",
          "data": {
            "text/plain": [
              "0"
            ]
          },
          "metadata": {},
          "execution_count": 18
        }
      ]
    },
    {
      "cell_type": "code",
      "source": [],
      "metadata": {
        "id": "0_Vf_yKkuwl3"
      },
      "execution_count": 24,
      "outputs": []
    },
    {
      "cell_type": "code",
      "source": [
        "'''\n",
        "# 62:3 -> 62:62 맞추기\n",
        "\n",
        "from imblearn.over_sampling import SMOTE\n",
        "smote = SMOTE(random_state=42)\n",
        "X_over, y_over = smote.fit_resample(X.values,y)\n",
        "\n",
        "\n",
        "print('SMOTE 적용 전 학습용 피처/레이블 데이터 세트: ', X.shape, y.shape)\n",
        "print('SMOTE 적용 후 학습용 피처/레이블 데이터 세트: ', X_over.shape, X_over.shape)\n",
        "print('SMOTE 적용 후 레이블 값 분포: \\n', pd.Series(y_over).value_counts())\n",
        "'''\n",
        "\n",
        "# 62:3 -> 62:31 맞추기\n",
        "\n",
        "from imblearn.over_sampling import SMOTE\n",
        "smote = SMOTE(sampling_strategy = 0.5, random_state=42)\n",
        "X_over, y_over = smote.fit_resample(X.values,y)\n",
        "\n",
        "\n",
        "print('SMOTE 적용 전 학습용 피처/레이블 데이터 세트: ', X.shape, y.shape)\n",
        "print('SMOTE 적용 후 학습용 피처/레이블 데이터 세트: ', X_over.shape, X_over.shape)\n",
        "print('SMOTE 적용 후 레이블 값 분포: \\n', pd.Series(y_over).value_counts())"
      ],
      "metadata": {
        "colab": {
          "base_uri": "https://localhost:8080/"
        },
        "id": "wZRUbllrZ4sD",
        "outputId": "0decfc6a-a6c3-4ba0-e461-6c28299cd797"
      },
      "execution_count": 19,
      "outputs": [
        {
          "output_type": "stream",
          "name": "stdout",
          "text": [
            "SMOTE 적용 전 학습용 피처/레이블 데이터 세트:  (6634079, 59) (6634079,)\n",
            "SMOTE 적용 후 학습용 피처/레이블 데이터 세트:  (9424681, 59) (9424681, 59)\n",
            "SMOTE 적용 후 레이블 값 분포: \n",
            " 0.0    6283121\n",
            "1.0    3141560\n",
            "Name: is_applied, dtype: int64\n"
          ]
        }
      ]
    },
    {
      "cell_type": "code",
      "source": [
        "X_over = pd.DataFrame(X_over, columns = X.columns)"
      ],
      "metadata": {
        "id": "kY4LVr2uSTGW",
        "colab": {
          "base_uri": "https://localhost:8080/",
          "height": 170
        },
        "outputId": "3c1ef678-130f-4dea-e58e-05bda814c8e9"
      },
      "execution_count": 26,
      "outputs": [
        {
          "output_type": "error",
          "ename": "NameError",
          "evalue": "ignored",
          "traceback": [
            "\u001b[0;31m---------------------------------------------------------------------------\u001b[0m",
            "\u001b[0;31mNameError\u001b[0m                                 Traceback (most recent call last)",
            "\u001b[0;32m<ipython-input-26-c989d84eb651>\u001b[0m in \u001b[0;36m<module>\u001b[0;34m\u001b[0m\n\u001b[0;32m----> 1\u001b[0;31m \u001b[0mX_over\u001b[0m \u001b[0;34m=\u001b[0m \u001b[0mpd\u001b[0m\u001b[0;34m.\u001b[0m\u001b[0mDataFrame\u001b[0m\u001b[0;34m(\u001b[0m\u001b[0mX_over\u001b[0m\u001b[0;34m,\u001b[0m \u001b[0mcolumns\u001b[0m \u001b[0;34m=\u001b[0m \u001b[0mX\u001b[0m\u001b[0;34m.\u001b[0m\u001b[0mcolumns\u001b[0m\u001b[0;34m)\u001b[0m\u001b[0;34m\u001b[0m\u001b[0;34m\u001b[0m\u001b[0m\n\u001b[0m",
            "\u001b[0;31mNameError\u001b[0m: name 'X' is not defined"
          ]
        }
      ]
    },
    {
      "cell_type": "code",
      "source": [
        "# 램 끊겨서 다시 del\n",
        "del X\n",
        "del y"
      ],
      "metadata": {
        "id": "2hBN_hMeXxB3"
      },
      "execution_count": 21,
      "outputs": []
    },
    {
      "cell_type": "code",
      "source": [
        "# data_over은 X,y oversampling된 거 합쳐진 data\n",
        "data_over = pd.concat([X_over,y_over],axis = 1)"
      ],
      "metadata": {
        "id": "TwftFzar9uks"
      },
      "execution_count": 22,
      "outputs": []
    },
    {
      "cell_type": "code",
      "source": [
        "data_over"
      ],
      "metadata": {
        "colab": {
          "base_uri": "https://localhost:8080/",
          "height": 522
        },
        "id": "mAWyLTi2R3BL",
        "outputId": "67133e80-f3c7-4236-bda7-a3c3721c7e70"
      },
      "execution_count": null,
      "outputs": [
        {
          "output_type": "execute_result",
          "data": {
            "text/plain": [
              "            bank_id  product_id    loan_limit  loan_rate   birth_year  \\\n",
              "0         25.000000  169.000000  2.300000e+07  16.900000  1994.000000   \n",
              "1         29.000000  265.000000  2.800000e+07   5.900000  1994.000000   \n",
              "2         64.000000  254.000000  2.200000e+07  13.200000  1994.000000   \n",
              "3         18.000000  188.000000  6.000000e+06   5.300000  1994.000000   \n",
              "4          1.000000   61.000000  1.100000e+07  12.900000  1994.000000   \n",
              "...             ...         ...           ...        ...          ...   \n",
              "12566237  21.865020  224.123952  4.931240e+07  15.068760  1979.770798   \n",
              "12566238  27.082222  179.658872  9.000000e+06  13.973890  1977.917778   \n",
              "12566239  40.575317  258.767137  3.789041e+07  13.864372  1972.684908   \n",
              "12566240  40.211447  210.976949  3.143429e+07  14.062295  1986.342872   \n",
              "12566241  44.578987  141.707918  1.091842e+07  11.666056  1979.557899   \n",
              "\n",
              "          credit_score  yearly_income  desired_amount  existing_loan_cnt  \\\n",
              "0           940.000000   2.300000e+07    1.000000e+07           2.000000   \n",
              "1           940.000000   2.300000e+07    1.000000e+07           2.000000   \n",
              "2           940.000000   2.300000e+07    1.000000e+07           2.000000   \n",
              "3           940.000000   2.300000e+07    1.000000e+07           2.000000   \n",
              "4           940.000000   2.300000e+07    1.000000e+07           2.000000   \n",
              "...                ...            ...             ...                ...   \n",
              "12566237    634.269960   1.680221e+07    1.000000e+07          33.447375   \n",
              "12566238    578.222185   4.000000e+07    1.000000e+07          11.671113   \n",
              "12566239    641.095910   5.000000e+07    5.000000e+06           9.000000   \n",
              "12566240    629.599895   3.200000e+07    4.131426e+06           7.868574   \n",
              "12566241    705.236772   4.000000e+07    8.721051e+06           6.360525   \n",
              "\n",
              "          existing_loan_amt  ...  나잇대_20    나잇대_30    나잇대_40  나잇대_50  나잇대_20  \\\n",
              "0              1.100000e+07  ...     1.0  0.000000  0.000000     0.0     0.0   \n",
              "1              1.100000e+07  ...     1.0  0.000000  0.000000     0.0     0.0   \n",
              "2              1.100000e+07  ...     1.0  0.000000  0.000000     0.0     0.0   \n",
              "3              1.100000e+07  ...     1.0  0.000000  0.000000     0.0     0.0   \n",
              "4              1.100000e+07  ...     1.0  0.000000  0.000000     0.0     0.0   \n",
              "...                     ...  ...     ...       ...       ...     ...     ...   \n",
              "12566237       1.833752e+08  ...     0.0  0.000000  1.000000     0.0     0.0   \n",
              "12566238       7.600000e+07  ...     0.0  0.000000  1.000000     0.0     0.0   \n",
              "12566239       2.489041e+07  ...     0.0  0.000000  0.000000     0.0     0.0   \n",
              "12566240       4.543429e+07  ...     0.0  0.434287  0.565713     0.0     0.0   \n",
              "12566241       2.363605e+08  ...     0.0  0.000000  0.360525     0.0     0.0   \n",
              "\n",
              "          나잇대_30    나잇대_40  나잇대_50  나잇대_60이상  is_applied  \n",
              "0            0.0  0.000000     0.0  0.000000         0.0  \n",
              "1            0.0  0.000000     0.0  0.000000         0.0  \n",
              "2            0.0  0.000000     0.0  0.000000         0.0  \n",
              "3            0.0  0.000000     0.0  0.000000         0.0  \n",
              "4            0.0  0.000000     0.0  0.000000         0.0  \n",
              "...          ...       ...     ...       ...         ...  \n",
              "12566237     0.0  0.000000     0.0  0.000000         1.0  \n",
              "12566238     0.0  0.000000     0.0  0.000000         1.0  \n",
              "12566239     0.0  0.890409     0.0  0.109591         1.0  \n",
              "12566240     0.0  0.000000     0.0  0.000000         1.0  \n",
              "12566241     0.0  0.639475     0.0  0.000000         1.0  \n",
              "\n",
              "[12566242 rows x 60 columns]"
            ],
            "text/html": [
              "\n",
              "  <div id=\"df-659b12ac-e9f3-4c50-846c-91069f6b4b6e\">\n",
              "    <div class=\"colab-df-container\">\n",
              "      <div>\n",
              "<style scoped>\n",
              "    .dataframe tbody tr th:only-of-type {\n",
              "        vertical-align: middle;\n",
              "    }\n",
              "\n",
              "    .dataframe tbody tr th {\n",
              "        vertical-align: top;\n",
              "    }\n",
              "\n",
              "    .dataframe thead th {\n",
              "        text-align: right;\n",
              "    }\n",
              "</style>\n",
              "<table border=\"1\" class=\"dataframe\">\n",
              "  <thead>\n",
              "    <tr style=\"text-align: right;\">\n",
              "      <th></th>\n",
              "      <th>bank_id</th>\n",
              "      <th>product_id</th>\n",
              "      <th>loan_limit</th>\n",
              "      <th>loan_rate</th>\n",
              "      <th>birth_year</th>\n",
              "      <th>credit_score</th>\n",
              "      <th>yearly_income</th>\n",
              "      <th>desired_amount</th>\n",
              "      <th>existing_loan_cnt</th>\n",
              "      <th>existing_loan_amt</th>\n",
              "      <th>...</th>\n",
              "      <th>나잇대_20</th>\n",
              "      <th>나잇대_30</th>\n",
              "      <th>나잇대_40</th>\n",
              "      <th>나잇대_50</th>\n",
              "      <th>나잇대_20</th>\n",
              "      <th>나잇대_30</th>\n",
              "      <th>나잇대_40</th>\n",
              "      <th>나잇대_50</th>\n",
              "      <th>나잇대_60이상</th>\n",
              "      <th>is_applied</th>\n",
              "    </tr>\n",
              "  </thead>\n",
              "  <tbody>\n",
              "    <tr>\n",
              "      <th>0</th>\n",
              "      <td>25.000000</td>\n",
              "      <td>169.000000</td>\n",
              "      <td>2.300000e+07</td>\n",
              "      <td>16.900000</td>\n",
              "      <td>1994.000000</td>\n",
              "      <td>940.000000</td>\n",
              "      <td>2.300000e+07</td>\n",
              "      <td>1.000000e+07</td>\n",
              "      <td>2.000000</td>\n",
              "      <td>1.100000e+07</td>\n",
              "      <td>...</td>\n",
              "      <td>1.0</td>\n",
              "      <td>0.000000</td>\n",
              "      <td>0.000000</td>\n",
              "      <td>0.0</td>\n",
              "      <td>0.0</td>\n",
              "      <td>0.0</td>\n",
              "      <td>0.000000</td>\n",
              "      <td>0.0</td>\n",
              "      <td>0.000000</td>\n",
              "      <td>0.0</td>\n",
              "    </tr>\n",
              "    <tr>\n",
              "      <th>1</th>\n",
              "      <td>29.000000</td>\n",
              "      <td>265.000000</td>\n",
              "      <td>2.800000e+07</td>\n",
              "      <td>5.900000</td>\n",
              "      <td>1994.000000</td>\n",
              "      <td>940.000000</td>\n",
              "      <td>2.300000e+07</td>\n",
              "      <td>1.000000e+07</td>\n",
              "      <td>2.000000</td>\n",
              "      <td>1.100000e+07</td>\n",
              "      <td>...</td>\n",
              "      <td>1.0</td>\n",
              "      <td>0.000000</td>\n",
              "      <td>0.000000</td>\n",
              "      <td>0.0</td>\n",
              "      <td>0.0</td>\n",
              "      <td>0.0</td>\n",
              "      <td>0.000000</td>\n",
              "      <td>0.0</td>\n",
              "      <td>0.000000</td>\n",
              "      <td>0.0</td>\n",
              "    </tr>\n",
              "    <tr>\n",
              "      <th>2</th>\n",
              "      <td>64.000000</td>\n",
              "      <td>254.000000</td>\n",
              "      <td>2.200000e+07</td>\n",
              "      <td>13.200000</td>\n",
              "      <td>1994.000000</td>\n",
              "      <td>940.000000</td>\n",
              "      <td>2.300000e+07</td>\n",
              "      <td>1.000000e+07</td>\n",
              "      <td>2.000000</td>\n",
              "      <td>1.100000e+07</td>\n",
              "      <td>...</td>\n",
              "      <td>1.0</td>\n",
              "      <td>0.000000</td>\n",
              "      <td>0.000000</td>\n",
              "      <td>0.0</td>\n",
              "      <td>0.0</td>\n",
              "      <td>0.0</td>\n",
              "      <td>0.000000</td>\n",
              "      <td>0.0</td>\n",
              "      <td>0.000000</td>\n",
              "      <td>0.0</td>\n",
              "    </tr>\n",
              "    <tr>\n",
              "      <th>3</th>\n",
              "      <td>18.000000</td>\n",
              "      <td>188.000000</td>\n",
              "      <td>6.000000e+06</td>\n",
              "      <td>5.300000</td>\n",
              "      <td>1994.000000</td>\n",
              "      <td>940.000000</td>\n",
              "      <td>2.300000e+07</td>\n",
              "      <td>1.000000e+07</td>\n",
              "      <td>2.000000</td>\n",
              "      <td>1.100000e+07</td>\n",
              "      <td>...</td>\n",
              "      <td>1.0</td>\n",
              "      <td>0.000000</td>\n",
              "      <td>0.000000</td>\n",
              "      <td>0.0</td>\n",
              "      <td>0.0</td>\n",
              "      <td>0.0</td>\n",
              "      <td>0.000000</td>\n",
              "      <td>0.0</td>\n",
              "      <td>0.000000</td>\n",
              "      <td>0.0</td>\n",
              "    </tr>\n",
              "    <tr>\n",
              "      <th>4</th>\n",
              "      <td>1.000000</td>\n",
              "      <td>61.000000</td>\n",
              "      <td>1.100000e+07</td>\n",
              "      <td>12.900000</td>\n",
              "      <td>1994.000000</td>\n",
              "      <td>940.000000</td>\n",
              "      <td>2.300000e+07</td>\n",
              "      <td>1.000000e+07</td>\n",
              "      <td>2.000000</td>\n",
              "      <td>1.100000e+07</td>\n",
              "      <td>...</td>\n",
              "      <td>1.0</td>\n",
              "      <td>0.000000</td>\n",
              "      <td>0.000000</td>\n",
              "      <td>0.0</td>\n",
              "      <td>0.0</td>\n",
              "      <td>0.0</td>\n",
              "      <td>0.000000</td>\n",
              "      <td>0.0</td>\n",
              "      <td>0.000000</td>\n",
              "      <td>0.0</td>\n",
              "    </tr>\n",
              "    <tr>\n",
              "      <th>...</th>\n",
              "      <td>...</td>\n",
              "      <td>...</td>\n",
              "      <td>...</td>\n",
              "      <td>...</td>\n",
              "      <td>...</td>\n",
              "      <td>...</td>\n",
              "      <td>...</td>\n",
              "      <td>...</td>\n",
              "      <td>...</td>\n",
              "      <td>...</td>\n",
              "      <td>...</td>\n",
              "      <td>...</td>\n",
              "      <td>...</td>\n",
              "      <td>...</td>\n",
              "      <td>...</td>\n",
              "      <td>...</td>\n",
              "      <td>...</td>\n",
              "      <td>...</td>\n",
              "      <td>...</td>\n",
              "      <td>...</td>\n",
              "      <td>...</td>\n",
              "    </tr>\n",
              "    <tr>\n",
              "      <th>12566237</th>\n",
              "      <td>21.865020</td>\n",
              "      <td>224.123952</td>\n",
              "      <td>4.931240e+07</td>\n",
              "      <td>15.068760</td>\n",
              "      <td>1979.770798</td>\n",
              "      <td>634.269960</td>\n",
              "      <td>1.680221e+07</td>\n",
              "      <td>1.000000e+07</td>\n",
              "      <td>33.447375</td>\n",
              "      <td>1.833752e+08</td>\n",
              "      <td>...</td>\n",
              "      <td>0.0</td>\n",
              "      <td>0.000000</td>\n",
              "      <td>1.000000</td>\n",
              "      <td>0.0</td>\n",
              "      <td>0.0</td>\n",
              "      <td>0.0</td>\n",
              "      <td>0.000000</td>\n",
              "      <td>0.0</td>\n",
              "      <td>0.000000</td>\n",
              "      <td>1.0</td>\n",
              "    </tr>\n",
              "    <tr>\n",
              "      <th>12566238</th>\n",
              "      <td>27.082222</td>\n",
              "      <td>179.658872</td>\n",
              "      <td>9.000000e+06</td>\n",
              "      <td>13.973890</td>\n",
              "      <td>1977.917778</td>\n",
              "      <td>578.222185</td>\n",
              "      <td>4.000000e+07</td>\n",
              "      <td>1.000000e+07</td>\n",
              "      <td>11.671113</td>\n",
              "      <td>7.600000e+07</td>\n",
              "      <td>...</td>\n",
              "      <td>0.0</td>\n",
              "      <td>0.000000</td>\n",
              "      <td>1.000000</td>\n",
              "      <td>0.0</td>\n",
              "      <td>0.0</td>\n",
              "      <td>0.0</td>\n",
              "      <td>0.000000</td>\n",
              "      <td>0.0</td>\n",
              "      <td>0.000000</td>\n",
              "      <td>1.0</td>\n",
              "    </tr>\n",
              "    <tr>\n",
              "      <th>12566239</th>\n",
              "      <td>40.575317</td>\n",
              "      <td>258.767137</td>\n",
              "      <td>3.789041e+07</td>\n",
              "      <td>13.864372</td>\n",
              "      <td>1972.684908</td>\n",
              "      <td>641.095910</td>\n",
              "      <td>5.000000e+07</td>\n",
              "      <td>5.000000e+06</td>\n",
              "      <td>9.000000</td>\n",
              "      <td>2.489041e+07</td>\n",
              "      <td>...</td>\n",
              "      <td>0.0</td>\n",
              "      <td>0.000000</td>\n",
              "      <td>0.000000</td>\n",
              "      <td>0.0</td>\n",
              "      <td>0.0</td>\n",
              "      <td>0.0</td>\n",
              "      <td>0.890409</td>\n",
              "      <td>0.0</td>\n",
              "      <td>0.109591</td>\n",
              "      <td>1.0</td>\n",
              "    </tr>\n",
              "    <tr>\n",
              "      <th>12566240</th>\n",
              "      <td>40.211447</td>\n",
              "      <td>210.976949</td>\n",
              "      <td>3.143429e+07</td>\n",
              "      <td>14.062295</td>\n",
              "      <td>1986.342872</td>\n",
              "      <td>629.599895</td>\n",
              "      <td>3.200000e+07</td>\n",
              "      <td>4.131426e+06</td>\n",
              "      <td>7.868574</td>\n",
              "      <td>4.543429e+07</td>\n",
              "      <td>...</td>\n",
              "      <td>0.0</td>\n",
              "      <td>0.434287</td>\n",
              "      <td>0.565713</td>\n",
              "      <td>0.0</td>\n",
              "      <td>0.0</td>\n",
              "      <td>0.0</td>\n",
              "      <td>0.000000</td>\n",
              "      <td>0.0</td>\n",
              "      <td>0.000000</td>\n",
              "      <td>1.0</td>\n",
              "    </tr>\n",
              "    <tr>\n",
              "      <th>12566241</th>\n",
              "      <td>44.578987</td>\n",
              "      <td>141.707918</td>\n",
              "      <td>1.091842e+07</td>\n",
              "      <td>11.666056</td>\n",
              "      <td>1979.557899</td>\n",
              "      <td>705.236772</td>\n",
              "      <td>4.000000e+07</td>\n",
              "      <td>8.721051e+06</td>\n",
              "      <td>6.360525</td>\n",
              "      <td>2.363605e+08</td>\n",
              "      <td>...</td>\n",
              "      <td>0.0</td>\n",
              "      <td>0.000000</td>\n",
              "      <td>0.360525</td>\n",
              "      <td>0.0</td>\n",
              "      <td>0.0</td>\n",
              "      <td>0.0</td>\n",
              "      <td>0.639475</td>\n",
              "      <td>0.0</td>\n",
              "      <td>0.000000</td>\n",
              "      <td>1.0</td>\n",
              "    </tr>\n",
              "  </tbody>\n",
              "</table>\n",
              "<p>12566242 rows × 60 columns</p>\n",
              "</div>\n",
              "      <button class=\"colab-df-convert\" onclick=\"convertToInteractive('df-659b12ac-e9f3-4c50-846c-91069f6b4b6e')\"\n",
              "              title=\"Convert this dataframe to an interactive table.\"\n",
              "              style=\"display:none;\">\n",
              "        \n",
              "  <svg xmlns=\"http://www.w3.org/2000/svg\" height=\"24px\"viewBox=\"0 0 24 24\"\n",
              "       width=\"24px\">\n",
              "    <path d=\"M0 0h24v24H0V0z\" fill=\"none\"/>\n",
              "    <path d=\"M18.56 5.44l.94 2.06.94-2.06 2.06-.94-2.06-.94-.94-2.06-.94 2.06-2.06.94zm-11 1L8.5 8.5l.94-2.06 2.06-.94-2.06-.94L8.5 2.5l-.94 2.06-2.06.94zm10 10l.94 2.06.94-2.06 2.06-.94-2.06-.94-.94-2.06-.94 2.06-2.06.94z\"/><path d=\"M17.41 7.96l-1.37-1.37c-.4-.4-.92-.59-1.43-.59-.52 0-1.04.2-1.43.59L10.3 9.45l-7.72 7.72c-.78.78-.78 2.05 0 2.83L4 21.41c.39.39.9.59 1.41.59.51 0 1.02-.2 1.41-.59l7.78-7.78 2.81-2.81c.8-.78.8-2.07 0-2.86zM5.41 20L4 18.59l7.72-7.72 1.47 1.35L5.41 20z\"/>\n",
              "  </svg>\n",
              "      </button>\n",
              "      \n",
              "  <style>\n",
              "    .colab-df-container {\n",
              "      display:flex;\n",
              "      flex-wrap:wrap;\n",
              "      gap: 12px;\n",
              "    }\n",
              "\n",
              "    .colab-df-convert {\n",
              "      background-color: #E8F0FE;\n",
              "      border: none;\n",
              "      border-radius: 50%;\n",
              "      cursor: pointer;\n",
              "      display: none;\n",
              "      fill: #1967D2;\n",
              "      height: 32px;\n",
              "      padding: 0 0 0 0;\n",
              "      width: 32px;\n",
              "    }\n",
              "\n",
              "    .colab-df-convert:hover {\n",
              "      background-color: #E2EBFA;\n",
              "      box-shadow: 0px 1px 2px rgba(60, 64, 67, 0.3), 0px 1px 3px 1px rgba(60, 64, 67, 0.15);\n",
              "      fill: #174EA6;\n",
              "    }\n",
              "\n",
              "    [theme=dark] .colab-df-convert {\n",
              "      background-color: #3B4455;\n",
              "      fill: #D2E3FC;\n",
              "    }\n",
              "\n",
              "    [theme=dark] .colab-df-convert:hover {\n",
              "      background-color: #434B5C;\n",
              "      box-shadow: 0px 1px 3px 1px rgba(0, 0, 0, 0.15);\n",
              "      filter: drop-shadow(0px 1px 2px rgba(0, 0, 0, 0.3));\n",
              "      fill: #FFFFFF;\n",
              "    }\n",
              "  </style>\n",
              "\n",
              "      <script>\n",
              "        const buttonEl =\n",
              "          document.querySelector('#df-659b12ac-e9f3-4c50-846c-91069f6b4b6e button.colab-df-convert');\n",
              "        buttonEl.style.display =\n",
              "          google.colab.kernel.accessAllowed ? 'block' : 'none';\n",
              "\n",
              "        async function convertToInteractive(key) {\n",
              "          const element = document.querySelector('#df-659b12ac-e9f3-4c50-846c-91069f6b4b6e');\n",
              "          const dataTable =\n",
              "            await google.colab.kernel.invokeFunction('convertToInteractive',\n",
              "                                                     [key], {});\n",
              "          if (!dataTable) return;\n",
              "\n",
              "          const docLinkHtml = 'Like what you see? Visit the ' +\n",
              "            '<a target=\"_blank\" href=https://colab.research.google.com/notebooks/data_table.ipynb>data table notebook</a>'\n",
              "            + ' to learn more about interactive tables.';\n",
              "          element.innerHTML = '';\n",
              "          dataTable['output_type'] = 'display_data';\n",
              "          await google.colab.output.renderOutput(dataTable, element);\n",
              "          const docLink = document.createElement('div');\n",
              "          docLink.innerHTML = docLinkHtml;\n",
              "          element.appendChild(docLink);\n",
              "        }\n",
              "      </script>\n",
              "    </div>\n",
              "  </div>\n",
              "  "
            ]
          },
          "metadata": {},
          "execution_count": 21
        }
      ]
    },
    {
      "cell_type": "code",
      "source": [
        "### 42분 걸림"
      ],
      "metadata": {
        "id": "TbRbuUHoS-Ai"
      },
      "execution_count": null,
      "outputs": []
    },
    {
      "cell_type": "code",
      "source": [
        "# 여기까지 csv로 저장\n",
        "data_over.to_csv('upsampling_62_31.csv')"
      ],
      "metadata": {
        "id": "Wcl0ZRa4R3Dx"
      },
      "execution_count": 23,
      "outputs": []
    },
    {
      "cell_type": "code",
      "source": [
        "from google.colab import files\n",
        "\n",
        "files.download('upsampling_62_31.csv')"
      ],
      "metadata": {
        "colab": {
          "base_uri": "https://localhost:8080/",
          "height": 17
        },
        "id": "cWmF-CbAR3GG",
        "outputId": "380eb77a-6e6f-4a30-d9ab-5bd1cb27786d"
      },
      "execution_count": 24,
      "outputs": [
        {
          "output_type": "display_data",
          "data": {
            "text/plain": [
              "<IPython.core.display.Javascript object>"
            ],
            "application/javascript": [
              "\n",
              "    async function download(id, filename, size) {\n",
              "      if (!google.colab.kernel.accessAllowed) {\n",
              "        return;\n",
              "      }\n",
              "      const div = document.createElement('div');\n",
              "      const label = document.createElement('label');\n",
              "      label.textContent = `Downloading \"${filename}\": `;\n",
              "      div.appendChild(label);\n",
              "      const progress = document.createElement('progress');\n",
              "      progress.max = size;\n",
              "      div.appendChild(progress);\n",
              "      document.body.appendChild(div);\n",
              "\n",
              "      const buffers = [];\n",
              "      let downloaded = 0;\n",
              "\n",
              "      const channel = await google.colab.kernel.comms.open(id);\n",
              "      // Send a message to notify the kernel that we're ready.\n",
              "      channel.send({})\n",
              "\n",
              "      for await (const message of channel.messages) {\n",
              "        // Send a message to notify the kernel that we're ready.\n",
              "        channel.send({})\n",
              "        if (message.buffers) {\n",
              "          for (const buffer of message.buffers) {\n",
              "            buffers.push(buffer);\n",
              "            downloaded += buffer.byteLength;\n",
              "            progress.value = downloaded;\n",
              "          }\n",
              "        }\n",
              "      }\n",
              "      const blob = new Blob(buffers, {type: 'application/binary'});\n",
              "      const a = document.createElement('a');\n",
              "      a.href = window.URL.createObjectURL(blob);\n",
              "      a.download = filename;\n",
              "      div.appendChild(a);\n",
              "      a.click();\n",
              "      div.remove();\n",
              "    }\n",
              "  "
            ]
          },
          "metadata": {}
        },
        {
          "output_type": "display_data",
          "data": {
            "text/plain": [
              "<IPython.core.display.Javascript object>"
            ],
            "application/javascript": [
              "download(\"download_02dfd604-2b72-41f6-8dc3-c868fc093152\", \"upsampling_62_31.csv\", 3464929082)"
            ]
          },
          "metadata": {}
        }
      ]
    },
    {
      "cell_type": "code",
      "source": [
        "# 램끊고 다시 upsampling_62_62.csv 불러오기\n",
        "data_over=pd.read_csv('/content/upsampling_62_62.csv')\n",
        "data_over=data_over.drop(['Unnamed: 0'],axis=1)\n",
        "\n",
        "# or\n",
        "\n",
        "# del 하기\n",
        "# del data_over"
      ],
      "metadata": {
        "id": "1zNax_CRR3LU"
      },
      "execution_count": 7,
      "outputs": []
    },
    {
      "cell_type": "code",
      "source": [],
      "metadata": {
        "id": "AGvq8g1xgLf8"
      },
      "execution_count": null,
      "outputs": []
    },
    {
      "cell_type": "code",
      "source": [
        "# train_data = data_over"
      ],
      "metadata": {
        "id": "jNO9UoVTgLjC"
      },
      "execution_count": null,
      "outputs": []
    },
    {
      "cell_type": "code",
      "source": [
        "data=data_over.groupby('is_applied',group_keys=False).apply(lambda x: x.sample(350958))\n",
        "\n",
        "# data=sample_train.copy()"
      ],
      "metadata": {
        "id": "4AqffLlPWI_5"
      },
      "execution_count": 27,
      "outputs": []
    },
    {
      "cell_type": "code",
      "source": [
        "test_x=test_data.drop('is_applied',axis=1)\n",
        "test_y=test_data['is_applied']"
      ],
      "metadata": {
        "id": "Qrr47b1_WJCs"
      },
      "execution_count": 8,
      "outputs": []
    },
    {
      "cell_type": "code",
      "source": [
        "# 단순히, label 균형맞춰서\n",
        "X=data_over.drop(['is_applied'],axis=1)\n",
        "y=data_over['is_applied']"
      ],
      "metadata": {
        "id": "EdtXs6jfWBR2"
      },
      "execution_count": 9,
      "outputs": []
    },
    {
      "cell_type": "code",
      "source": [],
      "metadata": {
        "id": "eKN-enKRc2BZ"
      },
      "execution_count": null,
      "outputs": []
    },
    {
      "cell_type": "code",
      "source": [],
      "metadata": {
        "id": "id8PmQ0Lc2Dv"
      },
      "execution_count": null,
      "outputs": []
    },
    {
      "cell_type": "code",
      "source": [],
      "metadata": {
        "id": "ERE7MaJ0c2GC"
      },
      "execution_count": null,
      "outputs": []
    },
    {
      "cell_type": "code",
      "source": [
        "# del data_over\n",
        "# del data\n",
        "del train_data\n",
        "del test_data"
      ],
      "metadata": {
        "id": "Rt10RiGXc2Ip"
      },
      "execution_count": 12,
      "outputs": []
    },
    {
      "cell_type": "code",
      "source": [],
      "metadata": {
        "id": "-CmCanPLc2Kz"
      },
      "execution_count": null,
      "outputs": []
    },
    {
      "cell_type": "code",
      "source": [],
      "metadata": {
        "id": "OOFu-fLHc2NG"
      },
      "execution_count": null,
      "outputs": []
    },
    {
      "cell_type": "code",
      "source": [],
      "metadata": {
        "id": "jexdXfA7c2Pb"
      },
      "execution_count": null,
      "outputs": []
    },
    {
      "cell_type": "code",
      "source": [
        "# 데이터 정규화하기\n",
        "from sklearn.preprocessing import RobustScaler\n",
        "\n",
        "scaler = RobustScaler()\n",
        "scaler.fit(X)\n",
        "scaled_train_x = scaler.transform(X)\n",
        "scaled_valid_x = scaler.transform(test_x)"
      ],
      "metadata": {
        "id": "qy_Q1OCfWBUb"
      },
      "execution_count": 13,
      "outputs": []
    },
    {
      "cell_type": "code",
      "source": [
        "del X\n",
        "del test_x"
      ],
      "metadata": {
        "id": "_WEH0MYMdaVm"
      },
      "execution_count": 14,
      "outputs": []
    },
    {
      "cell_type": "code",
      "source": [],
      "metadata": {
        "id": "VlQh7QbfdaX8"
      },
      "execution_count": null,
      "outputs": []
    },
    {
      "cell_type": "code",
      "source": [],
      "metadata": {
        "id": "FmFScpNAjQ_N"
      },
      "execution_count": null,
      "outputs": []
    },
    {
      "cell_type": "code",
      "source": [],
      "metadata": {
        "id": "il0wXV-DjRBQ"
      },
      "execution_count": null,
      "outputs": []
    },
    {
      "cell_type": "code",
      "source": [
        "# 62:62 평가"
      ],
      "metadata": {
        "id": "mSMsfABtjRDY"
      },
      "execution_count": null,
      "outputs": []
    },
    {
      "cell_type": "code",
      "source": [
        "# 모델 생성 및 평가 : 예시 로지스틱\n",
        "from sklearn.linear_model import LogisticRegression\n",
        "\n",
        "lr=LogisticRegression()\n",
        "lr.fit(scaled_train_x, y)\n",
        "pred=lr.predict(scaled_valid_x)"
      ],
      "metadata": {
        "id": "vl7mwiMNjRFe"
      },
      "execution_count": 15,
      "outputs": []
    },
    {
      "cell_type": "code",
      "source": [
        "from sklearn.metrics import recall_score, precision_score, accuracy_score, confusion_matrix, f1_score\n",
        "\n",
        "def display_eval(y_test, y_pred):\n",
        "    confusion = confusion_matrix(y_test, y_pred)\n",
        "    accuracy = accuracy_score(y_test, y_pred)\n",
        "    precision = precision_score(y_test, y_pred)\n",
        "    recall = recall_score(y_test, y_pred)\n",
        "    f1 = f1_score(y_test, y_pred)\n",
        "    print(confusion)\n",
        "    print('*'*50)\n",
        "    print()\n",
        "    print('정확도:{}, 정밀도:{}, 재현율:{}, f1_score:{}'.format(accuracy,precision,recall, f1))\n",
        "display_eval(test_y, pred)"
      ],
      "metadata": {
        "colab": {
          "base_uri": "https://localhost:8080/"
        },
        "id": "6seG22kojRHz",
        "outputId": "f612572e-2001-423a-9ad1-7bf32d4ea919"
      },
      "execution_count": 16,
      "outputs": [
        {
          "output_type": "stream",
          "name": "stdout",
          "text": [
            "[[2372135  980911]\n",
            " [  49088  150919]]\n",
            "**************************************************\n",
            "\n",
            "정확도:0.7101087431006518, 정밀도:0.13334069604092488, 재현율:0.7545685900993465, f1_score:0.22663283870323472\n"
          ]
        }
      ]
    },
    {
      "cell_type": "code",
      "source": [],
      "metadata": {
        "id": "GPY-LyvtjRKJ"
      },
      "execution_count": null,
      "outputs": []
    },
    {
      "cell_type": "code",
      "source": [],
      "metadata": {
        "id": "kfHOTp2vjRMd"
      },
      "execution_count": null,
      "outputs": []
    },
    {
      "cell_type": "code",
      "source": [],
      "metadata": {
        "id": "gX3Ck3vUda0m"
      },
      "execution_count": null,
      "outputs": []
    },
    {
      "cell_type": "code",
      "source": [],
      "metadata": {
        "id": "V6FSL-dago-z"
      },
      "execution_count": null,
      "outputs": []
    },
    {
      "cell_type": "code",
      "source": [],
      "metadata": {
        "id": "wJgNtxpigpBB"
      },
      "execution_count": null,
      "outputs": []
    },
    {
      "cell_type": "code",
      "source": [],
      "metadata": {
        "id": "ITQL0N6sgpDJ"
      },
      "execution_count": null,
      "outputs": []
    },
    {
      "cell_type": "code",
      "source": [],
      "metadata": {
        "id": "sJe6qlnagpFf"
      },
      "execution_count": null,
      "outputs": []
    },
    {
      "cell_type": "code",
      "source": [
        "#### 62:31 평가"
      ],
      "metadata": {
        "id": "ggF8EV4UgpID"
      },
      "execution_count": null,
      "outputs": []
    },
    {
      "cell_type": "code",
      "source": [
        "# 모델 생성 및 평가 : 예시 로지스틱\n",
        "from sklearn.linear_model import LogisticRegression\n",
        "\n",
        "lr=LogisticRegression()\n",
        "lr.fit(scaled_train_x, y)\n",
        "pred=lr.predict(scaled_valid_x)"
      ],
      "metadata": {
        "id": "MY9OkkVoWBWh"
      },
      "execution_count": 12,
      "outputs": []
    },
    {
      "cell_type": "code",
      "source": [
        "from sklearn.metrics import recall_score, precision_score, accuracy_score, confusion_matrix, f1_score\n",
        "\n",
        "def display_eval(y_test, y_pred):\n",
        "    confusion = confusion_matrix(y_test, y_pred)\n",
        "    accuracy = accuracy_score(y_test, y_pred)\n",
        "    precision = precision_score(y_test, y_pred)\n",
        "    recall = recall_score(y_test, y_pred)\n",
        "    f1 = f1_score(y_test, y_pred)\n",
        "    print(confusion)\n",
        "    print('*'*50)\n",
        "    print()\n",
        "    print('정확도:{}, 정밀도:{}, 재현율:{}, f1_score:{}'.format(accuracy,precision,recall, f1))\n",
        "display_eval(test_y, pred)"
      ],
      "metadata": {
        "id": "Z-SZ-Y3vWBZH",
        "colab": {
          "base_uri": "https://localhost:8080/"
        },
        "outputId": "93acb917-6ca6-4ac2-c36e-8d3bf6c985f1"
      },
      "execution_count": 13,
      "outputs": [
        {
          "output_type": "stream",
          "name": "stdout",
          "text": [
            "[[2889147  463899]\n",
            " [  97075  102932]]\n",
            "**************************************************\n",
            "\n",
            "정확도:0.8421149360845448, 정밀도:0.18159204418953798, 재현율:0.5146419875304364, f1_score:0.2684582662831002\n"
          ]
        }
      ]
    },
    {
      "cell_type": "code",
      "source": [],
      "metadata": {
        "id": "k-0SPCJ7fWl2"
      },
      "execution_count": null,
      "outputs": []
    }
  ]
}