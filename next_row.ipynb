{
  "nbformat": 4,
  "nbformat_minor": 0,
  "metadata": {
    "colab": {
      "provenance": [],
      "collapsed_sections": [],
      "authorship_tag": "ABX9TyN76NcNQJgmNkQjA//AHG+z"
    },
    "kernelspec": {
      "name": "python3",
      "display_name": "Python 3"
    },
    "language_info": {
      "name": "python"
    }
  },
  "cells": [
    {
      "cell_type": "code",
      "execution_count": 1,
      "metadata": {
        "id": "sb810et8e9FN"
      },
      "outputs": [],
      "source": [
        "from tqdm import tqdm\n",
        "from time import sleep"
      ]
    },
    {
      "cell_type": "code",
      "source": [
        "list_test = [['a', 'b', 'c', 'd', 'e'], ['a', 'b'], ['a', 'b', 'c', 'd', 'c', 'e']]"
      ],
      "metadata": {
        "id": "jvnMZWL8fJ7B"
      },
      "execution_count": 2,
      "outputs": []
    },
    {
      "cell_type": "code",
      "source": [
        "print(list_test)\n",
        "print(list_test[0])\n",
        "print(list_test[0][1])\n",
        "print('-----------------')\n",
        "print(type(list_test))\n",
        "print(type(list_test[0]))\n",
        "print(type(list_test[0][0]))"
      ],
      "metadata": {
        "colab": {
          "base_uri": "https://localhost:8080/"
        },
        "id": "-a-1BuRWfJ9p",
        "outputId": "30b3dcf3-16be-4d24-8af2-a514597c743e"
      },
      "execution_count": 3,
      "outputs": [
        {
          "output_type": "stream",
          "name": "stdout",
          "text": [
            "[['a', 'b', 'c', 'd', 'e'], ['a', 'b'], ['a', 'b', 'c', 'd', 'c', 'e']]\n",
            "['a', 'b', 'c', 'd', 'e']\n",
            "b\n",
            "-----------------\n",
            "<class 'list'>\n",
            "<class 'list'>\n",
            "<class 'str'>\n"
          ]
        }
      ]
    },
    {
      "cell_type": "code",
      "source": [
        "new_list_test = []\n",
        "\n",
        "for i in tqdm(list_test):\n",
        "    temp_list = list()\n",
        "\n",
        "    if 'c' not in i:\n",
        "        temp_list.append(i)\n",
        "    \n",
        "    else:\n",
        "        for j in i:\n",
        "            if j == 'c':\n",
        "                idx = i.index(j)\n",
        "            \n",
        "        temp_list.append(i[:(idx)])\n",
        "       \n",
        "\n",
        "        temp_list.append(i[(idx):])\n",
        "    new_list_test.append(temp_list)\n",
        "    \n",
        "    \n",
        "print(new_list_test)"
      ],
      "metadata": {
        "colab": {
          "base_uri": "https://localhost:8080/"
        },
        "id": "F6zUzQb-fKAO",
        "outputId": "f498ed3e-cb69-45f6-bac7-469a9335e6ab"
      },
      "execution_count": 4,
      "outputs": [
        {
          "output_type": "stream",
          "name": "stderr",
          "text": [
            "100%|██████████| 3/3 [00:00<00:00, 12958.71it/s]"
          ]
        },
        {
          "output_type": "stream",
          "name": "stdout",
          "text": [
            "[[['a', 'b'], ['c', 'd', 'e']], [['a', 'b']], [['a', 'b'], ['c', 'd', 'c', 'e']]]\n"
          ]
        },
        {
          "output_type": "stream",
          "name": "stderr",
          "text": [
            "\n"
          ]
        }
      ]
    },
    {
      "cell_type": "code",
      "source": [
        "new_list_test"
      ],
      "metadata": {
        "colab": {
          "base_uri": "https://localhost:8080/"
        },
        "id": "GOBmmmpQfZcD",
        "outputId": "bac52a67-686a-40da-fd5c-75a2a9fc8739"
      },
      "execution_count": 5,
      "outputs": [
        {
          "output_type": "execute_result",
          "data": {
            "text/plain": [
              "[[['a', 'b'], ['c', 'd', 'e']],\n",
              " [['a', 'b']],\n",
              " [['a', 'b'], ['c', 'd', 'c', 'e']]]"
            ]
          },
          "metadata": {},
          "execution_count": 5
        }
      ]
    },
    {
      "cell_type": "code",
      "source": [
        "tlist = []\n",
        "\n",
        "for i in new_list_test:\n",
        "    for j in i:\n",
        "        tlist.append(j)\n",
        "print(tlist)"
      ],
      "metadata": {
        "colab": {
          "base_uri": "https://localhost:8080/"
        },
        "id": "aAqfhC-KfZdk",
        "outputId": "b7e434c7-66c0-4253-cae7-f607882164fe"
      },
      "execution_count": 6,
      "outputs": [
        {
          "output_type": "stream",
          "name": "stdout",
          "text": [
            "[['a', 'b'], ['c', 'd', 'e'], ['a', 'b'], ['a', 'b'], ['c', 'd', 'c', 'e']]\n"
          ]
        }
      ]
    },
    {
      "cell_type": "code",
      "source": [
        "new_test_string_list = []\n",
        "\n",
        "for i in range(len(tlist)):\n",
        "    a = ','.join(tlist[i])\n",
        "    new_test_string_list.append(a)"
      ],
      "metadata": {
        "id": "XmuHVIgefdih"
      },
      "execution_count": 7,
      "outputs": []
    },
    {
      "cell_type": "code",
      "source": [
        "new_test_string_list"
      ],
      "metadata": {
        "colab": {
          "base_uri": "https://localhost:8080/"
        },
        "id": "KUH1QfWYfdln",
        "outputId": "30eec466-abc8-46c7-cd7c-e4b63c3e38cf"
      },
      "execution_count": 8,
      "outputs": [
        {
          "output_type": "execute_result",
          "data": {
            "text/plain": [
              "['a,b', 'c,d,e', 'a,b', 'a,b', 'c,d,c,e']"
            ]
          },
          "metadata": {},
          "execution_count": 8
        }
      ]
    }
  ]
}