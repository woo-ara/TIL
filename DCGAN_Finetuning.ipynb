{
  "cells": [
    {
      "cell_type": "code",
      "execution_count": 1,
      "metadata": {
        "id": "5VsVQ3fmY3yk",
        "colab": {
          "base_uri": "https://localhost:8080/"
        },
        "outputId": "b484fdb8-9adb-4a78-f121-af47324d7876"
      },
      "outputs": [
        {
          "output_type": "stream",
          "name": "stdout",
          "text": [
            "Drive already mounted at /content/drive; to attempt to forcibly remount, call drive.mount(\"/content/drive\", force_remount=True).\n"
          ]
        }
      ],
      "source": [
        "from google.colab import drive\n",
        "drive.mount(\"/content/drive\")"
      ]
    },
    {
      "cell_type": "code",
      "execution_count": 1,
      "metadata": {
        "colab": {
          "base_uri": "https://localhost:8080/"
        },
        "id": "szB4o-o-ZASl",
        "outputId": "b18c7402-2737-4853-899c-7b7f324b8216"
      },
      "outputs": [
        {
          "output_type": "stream",
          "name": "stdout",
          "text": [
            "Random Seed:  8592\n"
          ]
        }
      ],
      "source": [
        "from __future__ import print_function\n",
        "import argparse\n",
        "import os\n",
        "import random\n",
        "import torch\n",
        "import torch.nn as nn\n",
        "import torch.nn.parallel\n",
        "import torch.backends.cudnn as cudnn\n",
        "import torch.optim as optim\n",
        "import torch.utils.data\n",
        "import torchvision.datasets as dset\n",
        "import torchvision.transforms as transforms\n",
        "import torchvision.utils as vutils\n",
        "import numpy as np\n",
        "import matplotlib.pyplot as plt\n",
        "import matplotlib.animation as animation\n",
        "from IPython.display import HTML\n",
        "\n",
        "# 코드 실행결과의 동일성을 위해 무작위 시드를 설정합니다\n",
        "manualSeed = 8592\n",
        "# manualSeed = random.randint(1, 10000) # 만일 새로운 결과를 원한다면 주석을 없애면 됩니다\n",
        "print(\"Random Seed: \", manualSeed)\n",
        "random.seed(manualSeed)\n",
        "torch.manual_seed(manualSeed)\n",
        "\n",
        "np.random.seed(manualSeed)\n",
        "torch.cuda.manual_seed(manualSeed)\n",
        "torch.cuda.manual_seed_all(manualSeed)\n",
        "cudnn.benchmark = False\n",
        "cudnn.deterministic = True"
      ]
    },
    {
      "cell_type": "markdown",
      "source": [
        "### pretrain"
      ],
      "metadata": {
        "id": "ktrU8KqvAp0u"
      }
    },
    {
      "cell_type": "code",
      "execution_count": 2,
      "metadata": {
        "id": "6CNQbBCoZAUs"
      },
      "outputs": [],
      "source": [
        "dataroot = \"/content/drive/MyDrive/dataset_patch_220117/train\"\n",
        "#dataroot = \"/content/drive/MyDrive/dataset_cyst\" #cyst 데이터셋만\n",
        "# dataroot = \"/content/drive/MyDrive/dataset_meta\" #meta 데이터셋만\n",
        "# dataroot = \"/content/drive/MyDrive/dataset_hema\" #hema 데이터셋만\n",
        "workers = 2 #데이터 불러올 때 사용할 쓰레드 개수\n",
        "batch_size = 32\n",
        "image_size = 64\n",
        "nc = 3 #색 채널 개수 (RGB)\n",
        "nz = 100 #벡터 원소개수\n",
        "ngf = 64\n",
        "ndf = 64\n",
        "num_epochs = 300\n",
        "lr = 0.00001 #2e-4=0.0002, 1e-4=0.001\n",
        "beta1 = 0.5 #Adam optimizer 하이퍼파라미터 값. 논문처럼 0.5\n",
        "ngpu = 1"
      ]
    },
    {
      "cell_type": "code",
      "execution_count": 3,
      "metadata": {
        "id": "cY2bu0n8ZAW6"
      },
      "outputs": [],
      "source": [
        "#데이터셋 만들기\n",
        "dataset = dset.ImageFolder(root=dataroot,\n",
        "                           transform=transforms.Compose([\n",
        "                               transforms.Resize(image_size),\n",
        "                               transforms.CenterCrop(image_size), #가운데 부분을 image_size로 자름\n",
        "                               transforms.ToTensor(), #이미지 데이터를 tensor로 바꿈\n",
        "                               transforms.Normalize((0.5, 0.5, 0.5), (0.5, 0.5, 0.5)), #정규화\n",
        "                           ]))\n",
        "# dataloader 정의\n",
        "dataloader = torch.utils.data.DataLoader(dataset, batch_size=batch_size,\n",
        "                                         shuffle=True, num_workers=workers)\n",
        "# GPU 사용여부\n",
        "device = torch.device(\"cuda:0\" if (torch.cuda.is_available() and ngpu > 0) else \"cpu\")"
      ]
    },
    {
      "cell_type": "code",
      "execution_count": 4,
      "metadata": {
        "colab": {
          "base_uri": "https://localhost:8080/"
        },
        "id": "Joy-ZMH8IQzx",
        "outputId": "22eb69a1-cc99-4488-b982-06e7ad3247b3"
      },
      "outputs": [
        {
          "output_type": "execute_result",
          "data": {
            "text/plain": [
              "['cyst', 'hema', 'meta']"
            ]
          },
          "metadata": {},
          "execution_count": 4
        }
      ],
      "source": [
        "classes = dataset.classes\n",
        "classes"
      ]
    },
    {
      "cell_type": "markdown",
      "source": [
        "##### check"
      ],
      "metadata": {
        "id": "mAQFiyOyA00p"
      }
    },
    {
      "cell_type": "code",
      "execution_count": 5,
      "metadata": {
        "colab": {
          "base_uri": "https://localhost:8080/"
        },
        "id": "fxkUIn40zhTO",
        "outputId": "5a02f3fd-aabb-4273-b273-4b41ee9e9379"
      },
      "outputs": [
        {
          "output_type": "stream",
          "name": "stdout",
          "text": [
            "(tensor([[[-1.0000, -0.9686, -1.0000,  ..., -1.0000, -1.0000, -1.0000],\n",
            "         [-0.9765, -1.0000, -1.0000,  ..., -1.0000, -1.0000, -1.0000],\n",
            "         [-0.9686, -1.0000, -1.0000,  ..., -1.0000, -1.0000, -1.0000],\n",
            "         ...,\n",
            "         [-0.8667, -0.8824, -0.9137,  ...,  0.9843,  0.9137,  0.8667],\n",
            "         [-1.0000, -0.9765, -0.9843,  ...,  0.8667,  0.8118,  0.7725],\n",
            "         [-0.9765, -0.8745, -0.8431,  ...,  0.6471,  0.5686,  0.5294]],\n",
            "\n",
            "        [[-1.0000, -0.9686, -1.0000,  ..., -1.0000, -1.0000, -1.0000],\n",
            "         [-0.9765, -1.0000, -1.0000,  ..., -1.0000, -1.0000, -1.0000],\n",
            "         [-0.9686, -1.0000, -1.0000,  ..., -1.0000, -1.0000, -1.0000],\n",
            "         ...,\n",
            "         [-0.8667, -0.8824, -0.9137,  ...,  0.9843,  0.9137,  0.8667],\n",
            "         [-1.0000, -0.9765, -0.9843,  ...,  0.8667,  0.8118,  0.7725],\n",
            "         [-0.9765, -0.8745, -0.8431,  ...,  0.6471,  0.5686,  0.5294]],\n",
            "\n",
            "        [[-1.0000, -0.9686, -1.0000,  ..., -1.0000, -1.0000, -1.0000],\n",
            "         [-0.9765, -1.0000, -1.0000,  ..., -1.0000, -1.0000, -1.0000],\n",
            "         [-0.9686, -1.0000, -1.0000,  ..., -1.0000, -1.0000, -1.0000],\n",
            "         ...,\n",
            "         [-0.8667, -0.8824, -0.9137,  ...,  0.9843,  0.9137,  0.8667],\n",
            "         [-1.0000, -0.9765, -0.9843,  ...,  0.8667,  0.8118,  0.7725],\n",
            "         [-0.9765, -0.8745, -0.8431,  ...,  0.6471,  0.5686,  0.5294]]]), 0)\n"
          ]
        }
      ],
      "source": [
        "print(dataset.__getitem__(13))"
      ]
    },
    {
      "cell_type": "code",
      "execution_count": null,
      "metadata": {
        "colab": {
          "base_uri": "https://localhost:8080/"
        },
        "id": "z-4vP9EDItNM",
        "outputId": "a2b4d991-26cc-4bed-fdc4-d3b2e2b9f95c"
      },
      "outputs": [
        {
          "output_type": "execute_result",
          "data": {
            "text/plain": [
              "681"
            ]
          },
          "metadata": {},
          "execution_count": 7
        }
      ],
      "source": [
        "len(dataset)"
      ]
    },
    {
      "cell_type": "code",
      "execution_count": null,
      "metadata": {
        "colab": {
          "base_uri": "https://localhost:8080/"
        },
        "id": "auXAlmUfHpxB",
        "outputId": "a17392f5-f406-4b36-80e8-bb8a72443053"
      },
      "outputs": [
        {
          "output_type": "stream",
          "name": "stdout",
          "text": [
            "tensor([0, 0, 2, 0, 1, 2, 2, 1, 2, 2, 0, 0, 2, 2, 0, 0])\n"
          ]
        }
      ],
      "source": [
        "# seed값 확인\n",
        "dataiter = iter(dataloader)\n",
        "images, labels = next(dataiter)\n",
        "print(labels)"
      ]
    },
    {
      "cell_type": "code",
      "execution_count": null,
      "metadata": {
        "colab": {
          "base_uri": "https://localhost:8080/"
        },
        "id": "k0XwaQGR32rh",
        "outputId": "20177699-d1ca-47c6-c266-d0eaa81dc749"
      },
      "outputs": [
        {
          "output_type": "stream",
          "name": "stdout",
          "text": [
            "torch.Size([16, 3, 64, 64])\n",
            "0 batch \n",
            " inputs[0][0][0][0] : -0.6078431606292725 \n",
            " labels: tensor([0, 0, 1, 0, 2, 0, 0, 0, 0, 0, 1, 1, 1, 2, 0, 2])\n",
            "torch.Size([16, 3, 64, 64])\n",
            "1 batch \n",
            " inputs[0][0][0][0] : 0.5137255191802979 \n",
            " labels: tensor([0, 2, 1, 0, 2, 0, 2, 0, 0, 0, 2, 0, 0, 2, 0, 0])\n",
            "torch.Size([16, 3, 64, 64])\n",
            "2 batch \n",
            " inputs[0][0][0][0] : 0.7803921699523926 \n",
            " labels: tensor([0, 0, 0, 2, 0, 0, 0, 0, 0, 2, 0, 0, 0, 0, 0, 1])\n"
          ]
        }
      ],
      "source": [
        "for batch_size, (inputs, labels) in enumerate(dataloader):\n",
        "  print(inputs.size())\n",
        "  print(\"{} batch \\n inputs[0][0][0][0] : {} \\n labels: {}\".format(batch_size, inputs[0][0][0][0], labels))\n",
        "  #print(\"{} batch \\n inputs[0][0][0][0]\".format(batch_size))\n",
        "  if batch_size ==2:\n",
        "    break"
      ]
    },
    {
      "cell_type": "code",
      "execution_count": null,
      "metadata": {
        "id": "iBl-MQtAxDJX",
        "colab": {
          "base_uri": "https://localhost:8080/",
          "height": 178
        },
        "outputId": "56731868-3c3d-40d4-e1cd-330d0200248a"
      },
      "outputs": [
        {
          "output_type": "execute_result",
          "data": {
            "text/plain": [
              "<matplotlib.image.AxesImage at 0x7fafc1e242b0>"
            ]
          },
          "metadata": {},
          "execution_count": 10
        },
        {
          "output_type": "display_data",
          "data": {
            "text/plain": [
              "<Figure size 576x576 with 1 Axes>"
            ],
            "image/png": "[encoded data removed]"
          },
          "metadata": {
            "needs_background": "light"
          }
        }
      ],
      "source": [
        "# 화면에 이미지 몇 개 띄우기\n",
        "real_batch = next(iter(dataloader))\n",
        "plt.figure(figsize=(8,8))\n",
        "plt.axis(\"off\")\n",
        "plt.title(\"Training Images\")\n",
        "plt.imshow(np.transpose(vutils.make_grid(real_batch[0].to(device)[:64],padding=2, normalize=True).cpu(),(1,2,0)))\n",
        "#nrow=3, "
      ]
    },
    {
      "cell_type": "markdown",
      "source": [
        "##### 설정"
      ],
      "metadata": {
        "id": "0NpLLtGNA7FG"
      }
    },
    {
      "cell_type": "code",
      "execution_count": 6,
      "metadata": {
        "id": "eoPb_hrJaVGb"
      },
      "outputs": [],
      "source": [
        "def weights_init(m):\n",
        "    # print('m : ',m)\n",
        "    classname = m.__class__.__name__\n",
        "    if classname.find('Conv') != -1:\n",
        "        # print('before Conv m.weight.data. : ', m.weight.data)\n",
        "        nn.init.normal_(m.weight.data, 0.0, 0.02) # 가중치를 평균 0, 편차 0.02로 초기화\n",
        "        # print('after Conv m.weight.data. : ', m.weight.data)\n",
        "    elif classname.find('BatchNorm') != -1:\n",
        "        nn.init.normal_(m.weight.data, 1.0, 0.02) # 가중치를 평균 1, 편차 0.02로 초기화\n",
        "        # print('BatchNorm m.weight.data. : ', m.weight.data)\n",
        "        nn.init.constant_(m.bias.data, 0)"
      ]
    },
    {
      "cell_type": "code",
      "execution_count": 7,
      "metadata": {
        "id": "6ydvRPK7kAB_"
      },
      "outputs": [],
      "source": [
        "#nn.ConvTranspose2d(input의 채널수, output의 채널 수, kernel size, stride, padding)"
      ]
    },
    {
      "cell_type": "code",
      "execution_count": 8,
      "metadata": {
        "id": "fE9qsQ5taNRc"
      },
      "outputs": [],
      "source": [
        "# Generator Code\n",
        "class Generator(nn.Module):\n",
        "    def __init__(self, ngpu):\n",
        "        super(Generator, self).__init__()\n",
        "        self.ngpu = ngpu\n",
        "        self.main = nn.Sequential(\n",
        "            # input is Z, going into a convolution\n",
        "            nn.ConvTranspose2d( nz, ngf * 8, 4, 1, 0, bias=False),\n",
        "            nn.BatchNorm2d(ngf * 8),\n",
        "            nn.ReLU(True),\n",
        "            # state size. (ngf*8) x 4 x 4\n",
        "\n",
        "            nn.ConvTranspose2d(ngf * 8, ngf * 4, 4, 2, 1, bias=False),\n",
        "            nn.BatchNorm2d(ngf * 4),\n",
        "            nn.ReLU(True),\n",
        "            # state size. (ngf*4) x 8 x 8\n",
        "\n",
        "            nn.ConvTranspose2d( ngf * 4, ngf * 2, 4, 2, 1, bias=False),\n",
        "            nn.BatchNorm2d(ngf * 2),\n",
        "            nn.ReLU(True),\n",
        "            # state size. (ngf*2) x 16 x 16\n",
        "\n",
        "            nn.ConvTranspose2d( ngf * 2, ngf, 4, 2, 1, bias=False),\n",
        "            nn.BatchNorm2d(ngf),\n",
        "            nn.ReLU(True),\n",
        "            # state size. (ngf) x 32 x 32\n",
        "\n",
        "            nn.ConvTranspose2d( ngf, nc, 4, 2, 1, bias=False),\n",
        "            nn.Tanh()\n",
        "            # state size. (nc) x 64 x 64\n",
        "        )\n",
        "    def forward(self, input):\n",
        "        return self.main(input)"
      ]
    },
    {
      "cell_type": "code",
      "execution_count": 9,
      "metadata": {
        "colab": {
          "base_uri": "https://localhost:8080/"
        },
        "id": "7ApUwvsuaNT7",
        "outputId": "9b78250c-37b0-416c-c622-13fcb77208fa"
      },
      "outputs": [
        {
          "output_type": "stream",
          "name": "stdout",
          "text": [
            "Generator(\n",
            "  (main): Sequential(\n",
            "    (0): ConvTranspose2d(100, 512, kernel_size=(4, 4), stride=(1, 1), bias=False)\n",
            "    (1): BatchNorm2d(512, eps=1e-05, momentum=0.1, affine=True, track_running_stats=True)\n",
            "    (2): ReLU(inplace=True)\n",
            "    (3): ConvTranspose2d(512, 256, kernel_size=(4, 4), stride=(2, 2), padding=(1, 1), bias=False)\n",
            "    (4): BatchNorm2d(256, eps=1e-05, momentum=0.1, affine=True, track_running_stats=True)\n",
            "    (5): ReLU(inplace=True)\n",
            "    (6): ConvTranspose2d(256, 128, kernel_size=(4, 4), stride=(2, 2), padding=(1, 1), bias=False)\n",
            "    (7): BatchNorm2d(128, eps=1e-05, momentum=0.1, affine=True, track_running_stats=True)\n",
            "    (8): ReLU(inplace=True)\n",
            "    (9): ConvTranspose2d(128, 64, kernel_size=(4, 4), stride=(2, 2), padding=(1, 1), bias=False)\n",
            "    (10): BatchNorm2d(64, eps=1e-05, momentum=0.1, affine=True, track_running_stats=True)\n",
            "    (11): ReLU(inplace=True)\n",
            "    (12): ConvTranspose2d(64, 3, kernel_size=(4, 4), stride=(2, 2), padding=(1, 1), bias=False)\n",
            "    (13): Tanh()\n",
            "  )\n",
            ")\n"
          ]
        }
      ],
      "source": [
        "netG = Generator(ngpu).to(device)\n",
        "\n",
        "# multi-gpu 필요하면 설정\n",
        "if (device.type == 'cuda') and (ngpu > 1):\n",
        "    netG = nn.DataParallel(netG, list(range(ngpu)))\n",
        "\n",
        "netG.apply(weights_init)\n",
        "\n",
        "# Print the model\n",
        "print(netG)"
      ]
    },
    {
      "cell_type": "code",
      "execution_count": 10,
      "metadata": {
        "id": "SqXnzEJpaFff"
      },
      "outputs": [],
      "source": [
        "class Discriminator(nn.Module):\n",
        "    def __init__(self, ngpu):\n",
        "        super(Discriminator, self).__init__()\n",
        "        self.ngpu = ngpu\n",
        "        self.main = nn.Sequential(\n",
        "            # input is (nc) x 64 x 64\n",
        "            nn.Conv2d(nc, ndf, 4, 2, 1, bias=False),\n",
        "            nn.LeakyReLU(0.2, inplace=True),\n",
        "            # state size. (ndf) x 32 x 32\n",
        "\n",
        "            nn.Conv2d(ndf, ndf * 2, 4, 2, 1, bias=False),\n",
        "            nn.BatchNorm2d(ndf * 2),\n",
        "            nn.LeakyReLU(0.2, inplace=True),\n",
        "            # state size. (ndf*2) x 16 x 16\n",
        "\n",
        "            nn.Conv2d(ndf * 2, ndf * 4, 4, 2, 1, bias=False),\n",
        "            nn.BatchNorm2d(ndf * 4),\n",
        "            nn.LeakyReLU(0.2, inplace=True),\n",
        "            # state size. (ndf*4) x 8 x 8\n",
        "\n",
        "            nn.Conv2d(ndf * 4, ndf * 8, 4, 2, 1, bias=False),\n",
        "            nn.BatchNorm2d(ndf * 8),\n",
        "            nn.LeakyReLU(0.2, inplace=True),\n",
        "            # state size. (ndf*8) x 4 x 4\n",
        "\n",
        "            nn.Conv2d(ndf * 8, 1, 4, 1, 0, bias=False),\n",
        "            nn.Sigmoid()\n",
        "        )\n",
        "    def forward(self, input):\n",
        "        return self.main(input)"
      ]
    },
    {
      "cell_type": "code",
      "execution_count": 11,
      "metadata": {
        "colab": {
          "base_uri": "https://localhost:8080/"
        },
        "id": "Uqous8TlZAZG",
        "outputId": "4fef9aa0-3d96-4fa4-b689-8404b2a9d53a"
      },
      "outputs": [
        {
          "output_type": "stream",
          "name": "stdout",
          "text": [
            "Discriminator(\n",
            "  (main): Sequential(\n",
            "    (0): Conv2d(3, 64, kernel_size=(4, 4), stride=(2, 2), padding=(1, 1), bias=False)\n",
            "    (1): LeakyReLU(negative_slope=0.2, inplace=True)\n",
            "    (2): Conv2d(64, 128, kernel_size=(4, 4), stride=(2, 2), padding=(1, 1), bias=False)\n",
            "    (3): BatchNorm2d(128, eps=1e-05, momentum=0.1, affine=True, track_running_stats=True)\n",
            "    (4): LeakyReLU(negative_slope=0.2, inplace=True)\n",
            "    (5): Conv2d(128, 256, kernel_size=(4, 4), stride=(2, 2), padding=(1, 1), bias=False)\n",
            "    (6): BatchNorm2d(256, eps=1e-05, momentum=0.1, affine=True, track_running_stats=True)\n",
            "    (7): LeakyReLU(negative_slope=0.2, inplace=True)\n",
            "    (8): Conv2d(256, 512, kernel_size=(4, 4), stride=(2, 2), padding=(1, 1), bias=False)\n",
            "    (9): BatchNorm2d(512, eps=1e-05, momentum=0.1, affine=True, track_running_stats=True)\n",
            "    (10): LeakyReLU(negative_slope=0.2, inplace=True)\n",
            "    (11): Conv2d(512, 1, kernel_size=(4, 4), stride=(1, 1), bias=False)\n",
            "    (12): Sigmoid()\n",
            "  )\n",
            ")\n"
          ]
        }
      ],
      "source": [
        "# Create the Discriminator\n",
        "netD = Discriminator(ngpu).to(device)\n",
        "\n",
        "# Handle multi-gpu if desired\n",
        "if (device.type == 'cuda') and (ngpu > 1):\n",
        "    netD = nn.DataParallel(netD, list(range(ngpu)))\n",
        "\n",
        "netD.apply(weights_init)\n",
        "\n",
        "# Print the model\n",
        "print(netD)"
      ]
    },
    {
      "cell_type": "code",
      "execution_count": 12,
      "metadata": {
        "id": "2ZBModYTZAbY"
      },
      "outputs": [],
      "source": [
        "# BCELoss 함수의 인스턴스 생성\n",
        "criterion = nn.BCELoss()\n",
        "\n",
        "# 생성자의 학습상태를 확인할 잠재 공간 벡터를 생성 (Generator의 학습 과정 추적 위해)\n",
        "fixed_noise = torch.randn(1, nz, 1, 1, device=device) # 64\n",
        "\n",
        "# 학습에 사용되는 참/거짓의 라벨\n",
        "real_label = 1.\n",
        "fake_label = 0.\n",
        "\n",
        "# G와 D에서 사용할 Adam optimizer를 생성\n",
        "optimizerD = optim.Adam(netD.parameters(), lr=lr, betas=(beta1, 0.999))\n",
        "optimizerG = optim.Adam(netG.parameters(), lr=lr, betas=(beta1, 0.999))"
      ]
    },
    {
      "cell_type": "code",
      "execution_count": 13,
      "metadata": {
        "id": "GDjmB6GycBi7"
      },
      "outputs": [],
      "source": [
        "import torchvision\n",
        "from torchvision.utils import save_image\n",
        "transform = transforms.Grayscale()"
      ]
    },
    {
      "cell_type": "code",
      "source": [
        "! mkdir -p test/hema\n",
        "! mkdir -p test/meta \n",
        "! mkdir -p test/cyst"
      ],
      "metadata": {
        "id": "Iwnys17aJYrd"
      },
      "execution_count": 16,
      "outputs": []
    },
    {
      "cell_type": "code",
      "execution_count": 14,
      "metadata": {
        "id": "WMYxGSY3ZAdc",
        "colab": {
          "base_uri": "https://localhost:8080/"
        },
        "outputId": "b493d0fc-6e98-44fc-b48d-db7f5617b76c"
      },
      "outputs": [
        {
          "output_type": "stream",
          "name": "stdout",
          "text": [
            "Starting Training Loop...\n",
            "[1/300][0/22]tLoss_D: 1.7471 tLoss_G: 0.7048 tD(x): 0.5707 tD(G(z)): 0.6125 / 0.5332\n",
            "[2/300][0/22]tLoss_D: 0.6586 tLoss_G: 1.6602 tD(x): 0.7762 tD(G(z)): 0.2918 / 0.2524\n",
            "[3/300][0/22]tLoss_D: 0.4962 tLoss_G: 1.7982 tD(x): 0.8740 tD(G(z)): 0.2757 / 0.2247\n",
            "[4/300][0/22]tLoss_D: 0.4344 tLoss_G: 1.9379 tD(x): 0.8838 tD(G(z)): 0.2428 / 0.1978\n",
            "[5/300][0/22]tLoss_D: 0.3839 tLoss_G: 2.1219 tD(x): 0.8900 tD(G(z)): 0.1920 / 0.1632\n",
            "[6/300][0/22]tLoss_D: 0.3469 tLoss_G: 2.1732 tD(x): 0.9066 tD(G(z)): 0.1778 / 0.1449\n",
            "[7/300][0/22]tLoss_D: 0.3373 tLoss_G: 2.4765 tD(x): 0.8736 tD(G(z)): 0.1418 / 0.1181\n",
            "[8/300][0/22]tLoss_D: 0.2168 tLoss_G: 2.6139 tD(x): 0.9434 tD(G(z)): 0.1348 / 0.1024\n",
            "[9/300][0/22]tLoss_D: 0.2289 tLoss_G: 2.7462 tD(x): 0.9125 tD(G(z)): 0.1121 / 0.0902\n",
            "[10/300][0/22]tLoss_D: 0.1988 tLoss_G: 2.7663 tD(x): 0.9359 tD(G(z)): 0.1148 / 0.0885\n",
            "[11/300][0/22]tLoss_D: 0.1800 tLoss_G: 2.8659 tD(x): 0.9411 tD(G(z)): 0.1014 / 0.0768\n",
            "[12/300][0/22]tLoss_D: 0.2139 tLoss_G: 3.0168 tD(x): 0.9162 tD(G(z)): 0.0997 / 0.0779\n",
            "[13/300][0/22]tLoss_D: 0.1587 tLoss_G: 3.0241 tD(x): 0.9441 tD(G(z)): 0.0876 / 0.0669\n",
            "[14/300][0/22]tLoss_D: 0.1315 tLoss_G: 3.2479 tD(x): 0.9539 tD(G(z)): 0.0738 / 0.0590\n",
            "[15/300][0/22]tLoss_D: 0.0862 tLoss_G: 3.5402 tD(x): 0.9672 tD(G(z)): 0.0495 / 0.0401\n",
            "[16/300][0/22]tLoss_D: 0.0804 tLoss_G: 3.4728 tD(x): 0.9891 tD(G(z)): 0.0653 / 0.0466\n",
            "[17/300][0/22]tLoss_D: 0.0716 tLoss_G: 3.6063 tD(x): 0.9795 tD(G(z)): 0.0485 / 0.0375\n",
            "[18/300][0/22]tLoss_D: 0.0717 tLoss_G: 3.8227 tD(x): 0.9688 tD(G(z)): 0.0376 / 0.0297\n",
            "[19/300][0/22]tLoss_D: 0.0842 tLoss_G: 3.7057 tD(x): 0.9646 tD(G(z)): 0.0451 / 0.0321\n",
            "[20/300][0/22]tLoss_D: 0.0710 tLoss_G: 3.7993 tD(x): 0.9734 tD(G(z)): 0.0413 / 0.0292\n",
            "[21/300][0/22]tLoss_D: 0.0736 tLoss_G: 3.8211 tD(x): 0.9772 tD(G(z)): 0.0462 / 0.0316\n",
            "[22/300][0/22]tLoss_D: 0.0728 tLoss_G: 3.9766 tD(x): 0.9719 tD(G(z)): 0.0416 / 0.0293\n",
            "[23/300][0/22]tLoss_D: 0.0843 tLoss_G: 3.9190 tD(x): 0.9706 tD(G(z)): 0.0496 / 0.0327\n",
            "[24/300][0/22]tLoss_D: 0.0685 tLoss_G: 3.9447 tD(x): 0.9704 tD(G(z)): 0.0360 / 0.0258\n",
            "[25/300][0/22]tLoss_D: 0.0558 tLoss_G: 4.2519 tD(x): 0.9775 tD(G(z)): 0.0309 / 0.0208\n",
            "[26/300][0/22]tLoss_D: 0.0354 tLoss_G: 4.3049 tD(x): 0.9937 tD(G(z)): 0.0284 / 0.0185\n",
            "[27/300][0/22]tLoss_D: 0.0395 tLoss_G: 4.2238 tD(x): 0.9881 tD(G(z)): 0.0268 / 0.0188\n",
            "[28/300][0/22]tLoss_D: 0.0537 tLoss_G: 4.3715 tD(x): 0.9695 tD(G(z)): 0.0212 / 0.0152\n",
            "[29/300][0/22]tLoss_D: 0.0325 tLoss_G: 4.4440 tD(x): 0.9887 tD(G(z)): 0.0207 / 0.0146\n",
            "[30/300][0/22]tLoss_D: 0.0333 tLoss_G: 4.3754 tD(x): 0.9894 tD(G(z)): 0.0221 / 0.0155\n",
            "[31/300][0/22]tLoss_D: 0.0804 tLoss_G: 4.5392 tD(x): 0.9424 tD(G(z)): 0.0185 / 0.0131\n",
            "[32/300][0/22]tLoss_D: 0.0379 tLoss_G: 4.3537 tD(x): 0.9888 tD(G(z)): 0.0259 / 0.0175\n",
            "[33/300][0/22]tLoss_D: 0.0591 tLoss_G: 4.3641 tD(x): 0.9628 tD(G(z)): 0.0201 / 0.0146\n",
            "[34/300][0/22]tLoss_D: 0.0409 tLoss_G: 4.4828 tD(x): 0.9887 tD(G(z)): 0.0285 / 0.0169\n",
            "[35/300][0/22]tLoss_D: 0.0684 tLoss_G: 4.3530 tD(x): 0.9705 tD(G(z)): 0.0350 / 0.0195\n",
            "[36/300][0/22]tLoss_D: 0.0611 tLoss_G: 4.2499 tD(x): 0.9676 tD(G(z)): 0.0266 / 0.0176\n",
            "[37/300][0/22]tLoss_D: 0.0327 tLoss_G: 4.5196 tD(x): 0.9908 tD(G(z)): 0.0229 / 0.0132\n",
            "[38/300][0/22]tLoss_D: 0.0498 tLoss_G: 4.6667 tD(x): 0.9705 tD(G(z)): 0.0188 / 0.0117\n",
            "[39/300][0/22]tLoss_D: 0.0320 tLoss_G: 4.5003 tD(x): 0.9909 tD(G(z)): 0.0223 / 0.0138\n",
            "[40/300][0/22]tLoss_D: 0.0419 tLoss_G: 4.5475 tD(x): 0.9805 tD(G(z)): 0.0214 / 0.0122\n",
            "[41/300][0/22]tLoss_D: 0.0215 tLoss_G: 4.7163 tD(x): 0.9968 tD(G(z)): 0.0181 / 0.0107\n",
            "[42/300][0/22]tLoss_D: 0.0468 tLoss_G: 4.7764 tD(x): 0.9720 tD(G(z)): 0.0170 / 0.0106\n",
            "[43/300][0/22]tLoss_D: 0.0260 tLoss_G: 4.9323 tD(x): 0.9888 tD(G(z)): 0.0143 / 0.0090\n",
            "[44/300][0/22]tLoss_D: 0.0258 tLoss_G: 4.7571 tD(x): 0.9903 tD(G(z)): 0.0158 / 0.0101\n",
            "[45/300][0/22]tLoss_D: 0.0149 tLoss_G: 5.1278 tD(x): 0.9971 tD(G(z)): 0.0119 / 0.0073\n",
            "[46/300][0/22]tLoss_D: 0.0378 tLoss_G: 4.7263 tD(x): 0.9792 tD(G(z)): 0.0160 / 0.0104\n",
            "[47/300][0/22]tLoss_D: 0.0214 tLoss_G: 5.0507 tD(x): 0.9929 tD(G(z)): 0.0139 / 0.0084\n",
            "[48/300][0/22]tLoss_D: 0.0256 tLoss_G: 5.0675 tD(x): 0.9875 tD(G(z)): 0.0128 / 0.0076\n",
            "[49/300][0/22]tLoss_D: 0.0212 tLoss_G: 5.0470 tD(x): 0.9933 tD(G(z)): 0.0143 / 0.0081\n",
            "[50/300][0/22]tLoss_D: 0.0137 tLoss_G: 5.1502 tD(x): 0.9982 tD(G(z)): 0.0118 / 0.0068\n",
            "[51/300][0/22]tLoss_D: 0.0156 tLoss_G: 5.1950 tD(x): 0.9957 tD(G(z)): 0.0111 / 0.0068\n",
            "[52/300][0/22]tLoss_D: 0.0172 tLoss_G: 4.9829 tD(x): 0.9958 tD(G(z)): 0.0129 / 0.0079\n",
            "[53/300][0/22]tLoss_D: 0.0181 tLoss_G: 5.2493 tD(x): 0.9917 tD(G(z)): 0.0097 / 0.0061\n",
            "[54/300][0/22]tLoss_D: 0.0182 tLoss_G: 5.1425 tD(x): 0.9921 tD(G(z)): 0.0102 / 0.0067\n",
            "[55/300][0/22]tLoss_D: 0.0147 tLoss_G: 5.2183 tD(x): 0.9951 tD(G(z)): 0.0096 / 0.0065\n",
            "[56/300][0/22]tLoss_D: 0.0096 tLoss_G: 5.3709 tD(x): 0.9990 tD(G(z)): 0.0086 / 0.0056\n",
            "[57/300][0/22]tLoss_D: 0.0133 tLoss_G: 5.2231 tD(x): 0.9963 tD(G(z)): 0.0095 / 0.0062\n",
            "[58/300][0/22]tLoss_D: 0.0098 tLoss_G: 5.3627 tD(x): 0.9988 tD(G(z)): 0.0085 / 0.0055\n",
            "[59/300][0/22]tLoss_D: 0.0116 tLoss_G: 5.3969 tD(x): 0.9966 tD(G(z)): 0.0081 / 0.0056\n",
            "[60/300][0/22]tLoss_D: 0.0150 tLoss_G: 5.5366 tD(x): 0.9920 tD(G(z)): 0.0070 / 0.0046\n",
            "[61/300][0/22]tLoss_D: 0.0155 tLoss_G: 5.2262 tD(x): 0.9955 tD(G(z)): 0.0109 / 0.0063\n",
            "[62/300][0/22]tLoss_D: 0.0161 tLoss_G: 5.2627 tD(x): 0.9945 tD(G(z)): 0.0105 / 0.0065\n",
            "[63/300][0/22]tLoss_D: 0.0116 tLoss_G: 5.1166 tD(x): 0.9986 tD(G(z)): 0.0102 / 0.0066\n",
            "[64/300][0/22]tLoss_D: 0.0165 tLoss_G: 5.2178 tD(x): 0.9928 tD(G(z)): 0.0093 / 0.0062\n",
            "[65/300][0/22]tLoss_D: 0.0141 tLoss_G: 5.2049 tD(x): 0.9961 tD(G(z)): 0.0101 / 0.0065\n",
            "[66/300][0/22]tLoss_D: 0.0372 tLoss_G: 5.3105 tD(x): 0.9717 tD(G(z)): 0.0078 / 0.0056\n",
            "[67/300][0/22]tLoss_D: 0.0241 tLoss_G: 5.2752 tD(x): 0.9852 tD(G(z)): 0.0090 / 0.0057\n",
            "[68/300][0/22]tLoss_D: 0.0178 tLoss_G: 5.4212 tD(x): 0.9908 tD(G(z)): 0.0083 / 0.0051\n",
            "[69/300][0/22]tLoss_D: 0.0086 tLoss_G: 5.4460 tD(x): 0.9992 tD(G(z)): 0.0077 / 0.0048\n",
            "[70/300][0/22]tLoss_D: 0.0113 tLoss_G: 5.3337 tD(x): 0.9979 tD(G(z)): 0.0092 / 0.0055\n",
            "[71/300][0/22]tLoss_D: 0.0087 tLoss_G: 5.4827 tD(x): 0.9989 tD(G(z)): 0.0075 / 0.0047\n",
            "[72/300][0/22]tLoss_D: 0.0103 tLoss_G: 5.2980 tD(x): 0.9988 tD(G(z)): 0.0090 / 0.0054\n",
            "[73/300][0/22]tLoss_D: 0.0077 tLoss_G: 5.5868 tD(x): 0.9988 tD(G(z)): 0.0065 / 0.0042\n",
            "[74/300][0/22]tLoss_D: 0.0084 tLoss_G: 5.5913 tD(x): 0.9987 tD(G(z)): 0.0070 / 0.0043\n",
            "[75/300][0/22]tLoss_D: 0.0100 tLoss_G: 5.5221 tD(x): 0.9969 tD(G(z)): 0.0069 / 0.0045\n",
            "[76/300][0/22]tLoss_D: 0.0065 tLoss_G: 5.7020 tD(x): 0.9996 tD(G(z)): 0.0060 / 0.0040\n",
            "[77/300][0/22]tLoss_D: 0.0103 tLoss_G: 5.5004 tD(x): 0.9973 tD(G(z)): 0.0076 / 0.0045\n",
            "[78/300][0/22]tLoss_D: 0.0121 tLoss_G: 5.1399 tD(x): 0.9982 tD(G(z)): 0.0102 / 0.0067\n",
            "[79/300][0/22]tLoss_D: 0.0127 tLoss_G: 5.5654 tD(x): 0.9943 tD(G(z)): 0.0069 / 0.0045\n",
            "[80/300][0/22]tLoss_D: 0.0151 tLoss_G: 5.6778 tD(x): 0.9909 tD(G(z)): 0.0058 / 0.0037\n",
            "[81/300][0/22]tLoss_D: 0.0089 tLoss_G: 5.5914 tD(x): 0.9980 tD(G(z)): 0.0069 / 0.0042\n",
            "[82/300][0/22]tLoss_D: 0.0214 tLoss_G: 5.3770 tD(x): 0.9867 tD(G(z)): 0.0077 / 0.0051\n",
            "[83/300][0/22]tLoss_D: 0.0102 tLoss_G: 5.7279 tD(x): 0.9957 tD(G(z)): 0.0058 / 0.0038\n",
            "[84/300][0/22]tLoss_D: 0.0137 tLoss_G: 5.6428 tD(x): 0.9923 tD(G(z)): 0.0059 / 0.0040\n",
            "[85/300][0/22]tLoss_D: 0.0117 tLoss_G: 5.5882 tD(x): 0.9944 tD(G(z)): 0.0060 / 0.0040\n",
            "[86/300][0/22]tLoss_D: 0.0119 tLoss_G: 5.6155 tD(x): 0.9946 tD(G(z)): 0.0064 / 0.0040\n",
            "[87/300][0/22]tLoss_D: 0.0083 tLoss_G: 5.7650 tD(x): 0.9974 tD(G(z)): 0.0056 / 0.0035\n",
            "[88/300][0/22]tLoss_D: 0.0161 tLoss_G: 5.7156 tD(x): 0.9896 tD(G(z)): 0.0056 / 0.0036\n",
            "[89/300][0/22]tLoss_D: 0.0119 tLoss_G: 5.4351 tD(x): 0.9958 tD(G(z)): 0.0076 / 0.0048\n",
            "[90/300][0/22]tLoss_D: 0.0063 tLoss_G: 5.8177 tD(x): 0.9992 tD(G(z)): 0.0055 / 0.0034\n",
            "[91/300][0/22]tLoss_D: 0.0072 tLoss_G: 6.0752 tD(x): 0.9968 tD(G(z)): 0.0039 / 0.0026\n",
            "[92/300][0/22]tLoss_D: 0.0109 tLoss_G: 5.9124 tD(x): 0.9939 tD(G(z)): 0.0046 / 0.0031\n",
            "[93/300][0/22]tLoss_D: 0.0088 tLoss_G: 5.9131 tD(x): 0.9956 tD(G(z)): 0.0044 / 0.0030\n",
            "[94/300][0/22]tLoss_D: 0.0067 tLoss_G: 6.1220 tD(x): 0.9968 tD(G(z)): 0.0035 / 0.0025\n",
            "[95/300][0/22]tLoss_D: 0.0177 tLoss_G: 5.8936 tD(x): 0.9873 tD(G(z)): 0.0045 / 0.0030\n",
            "[96/300][0/22]tLoss_D: 0.0046 tLoss_G: 6.0122 tD(x): 0.9999 tD(G(z)): 0.0045 / 0.0029\n",
            "[97/300][0/22]tLoss_D: 0.0054 tLoss_G: 6.0538 tD(x): 0.9987 tD(G(z)): 0.0041 / 0.0027\n",
            "[98/300][0/22]tLoss_D: 0.0041 tLoss_G: 6.1838 tD(x): 0.9993 tD(G(z)): 0.0035 / 0.0024\n",
            "[99/300][0/22]tLoss_D: 0.0070 tLoss_G: 5.7828 tD(x): 0.9982 tD(G(z)): 0.0052 / 0.0034\n",
            "[100/300][0/22]tLoss_D: 0.0047 tLoss_G: 6.1209 tD(x): 0.9992 tD(G(z)): 0.0038 / 0.0027\n",
            "[101/300][0/22]tLoss_D: 0.0039 tLoss_G: 6.1328 tD(x): 0.9996 tD(G(z)): 0.0035 / 0.0025\n",
            "[102/300][0/22]tLoss_D: 0.0073 tLoss_G: 6.1620 tD(x): 0.9962 tD(G(z)): 0.0034 / 0.0024\n",
            "[103/300][0/22]tLoss_D: 0.0045 tLoss_G: 6.2036 tD(x): 0.9989 tD(G(z)): 0.0034 / 0.0023\n",
            "[104/300][0/22]tLoss_D: 0.0034 tLoss_G: 6.2669 tD(x): 0.9997 tD(G(z)): 0.0031 / 0.0022\n",
            "[105/300][0/22]tLoss_D: 0.0078 tLoss_G: 5.9859 tD(x): 0.9964 tD(G(z)): 0.0042 / 0.0028\n",
            "[106/300][0/22]tLoss_D: 0.0063 tLoss_G: 5.9851 tD(x): 0.9979 tD(G(z)): 0.0042 / 0.0027\n",
            "[107/300][0/22]tLoss_D: 0.0033 tLoss_G: 6.3481 tD(x): 0.9995 tD(G(z)): 0.0028 / 0.0019\n",
            "[108/300][0/22]tLoss_D: 0.0041 tLoss_G: 6.2135 tD(x): 0.9997 tD(G(z)): 0.0037 / 0.0025\n",
            "[109/300][0/22]tLoss_D: 0.0086 tLoss_G: 6.1975 tD(x): 0.9949 tD(G(z)): 0.0033 / 0.0024\n",
            "[110/300][0/22]tLoss_D: 0.0028 tLoss_G: 6.4120 tD(x): 0.9999 tD(G(z)): 0.0027 / 0.0018\n",
            "[111/300][0/22]tLoss_D: 0.0052 tLoss_G: 6.2291 tD(x): 0.9982 tD(G(z)): 0.0034 / 0.0023\n",
            "[112/300][0/22]tLoss_D: 0.0037 tLoss_G: 6.0907 tD(x): 0.9998 tD(G(z)): 0.0035 / 0.0025\n",
            "[113/300][0/22]tLoss_D: 0.0035 tLoss_G: 6.2939 tD(x): 0.9994 tD(G(z)): 0.0030 / 0.0020\n",
            "[114/300][0/22]tLoss_D: 0.0050 tLoss_G: 6.2758 tD(x): 0.9979 tD(G(z)): 0.0029 / 0.0021\n",
            "[115/300][0/22]tLoss_D: 0.0035 tLoss_G: 6.3571 tD(x): 0.9994 tD(G(z)): 0.0029 / 0.0020\n",
            "[116/300][0/22]tLoss_D: 0.0032 tLoss_G: 6.4189 tD(x): 0.9996 tD(G(z)): 0.0027 / 0.0018\n",
            "[117/300][0/22]tLoss_D: 0.0035 tLoss_G: 6.3585 tD(x): 0.9996 tD(G(z)): 0.0031 / 0.0021\n",
            "[118/300][0/22]tLoss_D: 0.0057 tLoss_G: 6.3955 tD(x): 0.9972 tD(G(z)): 0.0029 / 0.0020\n",
            "[119/300][0/22]tLoss_D: 0.0037 tLoss_G: 6.2890 tD(x): 0.9995 tD(G(z)): 0.0031 / 0.0021\n",
            "[120/300][0/22]tLoss_D: 0.0059 tLoss_G: 5.7140 tD(x): 0.9990 tD(G(z)): 0.0049 / 0.0039\n",
            "[121/300][0/22]tLoss_D: 0.0037 tLoss_G: 6.2621 tD(x): 0.9995 tD(G(z)): 0.0032 / 0.0021\n",
            "[122/300][0/22]tLoss_D: 0.0039 tLoss_G: 6.2198 tD(x): 0.9994 tD(G(z)): 0.0033 / 0.0022\n",
            "[123/300][0/22]tLoss_D: 0.0085 tLoss_G: 6.2238 tD(x): 0.9949 tD(G(z)): 0.0032 / 0.0021\n",
            "[124/300][0/22]tLoss_D: 0.0052 tLoss_G: 6.1811 tD(x): 0.9985 tD(G(z)): 0.0036 / 0.0023\n",
            "[125/300][0/22]tLoss_D: 0.0067 tLoss_G: 5.5333 tD(x): 0.9998 tD(G(z)): 0.0065 / 0.0047\n",
            "[126/300][0/22]tLoss_D: 0.0030 tLoss_G: 6.4155 tD(x): 0.9998 tD(G(z)): 0.0028 / 0.0019\n",
            "[127/300][0/22]tLoss_D: 0.0041 tLoss_G: 6.3834 tD(x): 0.9987 tD(G(z)): 0.0028 / 0.0019\n",
            "[128/300][0/22]tLoss_D: 0.0032 tLoss_G: 6.3487 tD(x): 0.9998 tD(G(z)): 0.0029 / 0.0021\n",
            "[129/300][0/22]tLoss_D: 0.0046 tLoss_G: 6.4721 tD(x): 0.9978 tD(G(z)): 0.0024 / 0.0017\n",
            "[130/300][0/22]tLoss_D: 0.0028 tLoss_G: 6.3683 tD(x): 0.9999 tD(G(z)): 0.0026 / 0.0018\n",
            "[131/300][0/22]tLoss_D: 0.0029 tLoss_G: 6.4531 tD(x): 0.9995 tD(G(z)): 0.0024 / 0.0017\n",
            "[132/300][0/22]tLoss_D: 0.0034 tLoss_G: 6.4127 tD(x): 0.9992 tD(G(z)): 0.0026 / 0.0018\n",
            "[133/300][0/22]tLoss_D: 0.0036 tLoss_G: 6.4176 tD(x): 0.9989 tD(G(z)): 0.0026 / 0.0018\n",
            "[134/300][0/22]tLoss_D: 0.0037 tLoss_G: 6.1616 tD(x): 0.9996 tD(G(z)): 0.0033 / 0.0024\n",
            "[135/300][0/22]tLoss_D: 0.0051 tLoss_G: 6.4184 tD(x): 0.9974 tD(G(z)): 0.0025 / 0.0017\n",
            "[136/300][0/22]tLoss_D: 0.0023 tLoss_G: 6.6827 tD(x): 0.9997 tD(G(z)): 0.0020 / 0.0014\n",
            "[137/300][0/22]tLoss_D: 0.0021 tLoss_G: 6.6577 tD(x): 0.9999 tD(G(z)): 0.0020 / 0.0014\n",
            "[138/300][0/22]tLoss_D: 0.0037 tLoss_G: 6.6256 tD(x): 0.9985 tD(G(z)): 0.0022 / 0.0015\n",
            "[139/300][0/22]tLoss_D: 0.0158 tLoss_G: 4.6783 tD(x): 0.9997 tD(G(z)): 0.0153 / 0.0101\n",
            "[140/300][0/22]tLoss_D: 0.0042 tLoss_G: 6.5086 tD(x): 0.9983 tD(G(z)): 0.0025 / 0.0016\n",
            "[141/300][0/22]tLoss_D: 0.0025 tLoss_G: 6.5604 tD(x): 0.9997 tD(G(z)): 0.0023 / 0.0015\n",
            "[142/300][0/22]tLoss_D: 0.0063 tLoss_G: 5.5580 tD(x): 0.9991 tD(G(z)): 0.0054 / 0.0042\n",
            "[143/300][0/22]tLoss_D: 0.0024 tLoss_G: 6.5880 tD(x): 0.9998 tD(G(z)): 0.0022 / 0.0015\n",
            "[144/300][0/22]tLoss_D: 0.0089 tLoss_G: 5.1829 tD(x): 1.0000 tD(G(z)): 0.0088 / 0.0061\n",
            "[145/300][0/22]tLoss_D: 0.0027 tLoss_G: 6.6109 tD(x): 0.9994 tD(G(z)): 0.0022 / 0.0015\n",
            "[146/300][0/22]tLoss_D: 0.0037 tLoss_G: 5.9912 tD(x): 0.9999 tD(G(z)): 0.0036 / 0.0027\n",
            "[147/300][0/22]tLoss_D: 0.0045 tLoss_G: 6.4652 tD(x): 0.9992 tD(G(z)): 0.0036 / 0.0017\n",
            "[148/300][0/22]tLoss_D: 0.0066 tLoss_G: 6.3962 tD(x): 0.9966 tD(G(z)): 0.0031 / 0.0018\n",
            "[149/300][0/22]tLoss_D: 0.0036 tLoss_G: 6.7124 tD(x): 0.9982 tD(G(z)): 0.0019 / 0.0014\n",
            "[150/300][0/22]tLoss_D: 0.0059 tLoss_G: 6.6274 tD(x): 0.9960 tD(G(z)): 0.0019 / 0.0014\n",
            "[151/300][0/22]tLoss_D: 0.0071 tLoss_G: 5.5024 tD(x): 0.9996 tD(G(z)): 0.0067 / 0.0043\n",
            "[152/300][0/22]tLoss_D: 0.0027 tLoss_G: 6.5800 tD(x): 0.9994 tD(G(z)): 0.0022 / 0.0015\n",
            "[153/300][0/22]tLoss_D: 0.4507 tLoss_G: 14.6139 tD(x): 0.9999 tD(G(z)): 0.3576 / 0.0000\n",
            "[154/300][0/22]tLoss_D: 0.0003 tLoss_G: 13.9450 tD(x): 0.9997 tD(G(z)): 0.0000 / 0.0000\n",
            "[155/300][0/22]tLoss_D: 0.0015 tLoss_G: 9.4003 tD(x): 0.9986 tD(G(z)): 0.0001 / 0.0001\n",
            "[156/300][0/22]tLoss_D: 0.0163 tLoss_G: 6.3997 tD(x): 0.9873 tD(G(z)): 0.0019 / 0.0018\n",
            "[157/300][0/22]tLoss_D: 0.0108 tLoss_G: 6.0754 tD(x): 0.9924 tD(G(z)): 0.0027 / 0.0025\n",
            "[158/300][0/22]tLoss_D: 0.0027 tLoss_G: 6.5266 tD(x): 0.9992 tD(G(z)): 0.0020 / 0.0016\n",
            "[159/300][0/22]tLoss_D: 0.0038 tLoss_G: 6.1694 tD(x): 0.9989 tD(G(z)): 0.0027 / 0.0022\n",
            "[160/300][0/22]tLoss_D: 0.0023 tLoss_G: 6.8031 tD(x): 0.9991 tD(G(z)): 0.0014 / 0.0012\n",
            "[161/300][0/22]tLoss_D: 0.0021 tLoss_G: 6.4741 tD(x): 1.0000 tD(G(z)): 0.0021 / 0.0016\n",
            "[162/300][0/22]tLoss_D: 0.0039 tLoss_G: 6.4925 tD(x): 0.9980 tD(G(z)): 0.0019 / 0.0016\n",
            "[163/300][0/22]tLoss_D: 0.0059 tLoss_G: 5.1925 tD(x): 1.0000 tD(G(z)): 0.0059 / 0.0063\n",
            "[164/300][0/22]tLoss_D: 0.0032 tLoss_G: 6.3059 tD(x): 0.9996 tD(G(z)): 0.0028 / 0.0021\n",
            "[165/300][0/22]tLoss_D: 0.0024 tLoss_G: 6.8915 tD(x): 0.9990 tD(G(z)): 0.0014 / 0.0011\n",
            "[166/300][0/22]tLoss_D: 0.0109 tLoss_G: 4.7034 tD(x): 0.9994 tD(G(z)): 0.0102 / 0.0108\n",
            "[167/300][0/22]tLoss_D: 0.0060 tLoss_G: 6.7967 tD(x): 0.9956 tD(G(z)): 0.0016 / 0.0013\n",
            "[168/300][0/22]tLoss_D: 0.0018 tLoss_G: 6.8411 tD(x): 0.9999 tD(G(z)): 0.0017 / 0.0013\n",
            "[169/300][0/22]tLoss_D: 0.0023 tLoss_G: 6.7734 tD(x): 0.9998 tD(G(z)): 0.0021 / 0.0016\n",
            "[170/300][0/22]tLoss_D: 0.0038 tLoss_G: 6.7973 tD(x): 0.9981 tD(G(z)): 0.0019 / 0.0014\n",
            "[171/300][0/22]tLoss_D: 0.0058 tLoss_G: 6.5683 tD(x): 0.9983 tD(G(z)): 0.0041 / 0.0019\n",
            "[172/300][0/22]tLoss_D: 0.0045 tLoss_G: 6.1397 tD(x): 0.9998 tD(G(z)): 0.0043 / 0.0026\n",
            "[173/300][0/22]tLoss_D: 0.0053 tLoss_G: 6.4525 tD(x): 0.9994 tD(G(z)): 0.0047 / 0.0023\n",
            "[174/300][0/22]tLoss_D: 0.0042 tLoss_G: 6.6699 tD(x): 0.9992 tD(G(z)): 0.0034 / 0.0014\n",
            "[175/300][0/22]tLoss_D: 0.0042 tLoss_G: 6.3558 tD(x): 0.9998 tD(G(z)): 0.0040 / 0.0019\n",
            "[176/300][0/22]tLoss_D: 0.0214 tLoss_G: 5.3083 tD(x): 0.9990 tD(G(z)): 0.0202 / 0.0055\n",
            "[177/300][0/22]tLoss_D: 0.0168 tLoss_G: 4.9082 tD(x): 0.9993 tD(G(z)): 0.0160 / 0.0079\n",
            "[178/300][0/22]tLoss_D: 0.0065 tLoss_G: 6.5722 tD(x): 0.9961 tD(G(z)): 0.0024 / 0.0016\n",
            "[179/300][0/22]tLoss_D: 0.0048 tLoss_G: 6.6013 tD(x): 0.9974 tD(G(z)): 0.0021 / 0.0015\n",
            "[180/300][0/22]tLoss_D: 0.0156 tLoss_G: 5.2736 tD(x): 0.9979 tD(G(z)): 0.0134 / 0.0055\n",
            "[181/300][0/22]tLoss_D: 0.0137 tLoss_G: 5.6652 tD(x): 0.9994 tD(G(z)): 0.0129 / 0.0040\n",
            "[182/300][0/22]tLoss_D: 0.0073 tLoss_G: 6.7505 tD(x): 0.9949 tD(G(z)): 0.0019 / 0.0014\n",
            "[183/300][0/22]tLoss_D: 0.0228 tLoss_G: 6.3521 tD(x): 0.9812 tD(G(z)): 0.0023 / 0.0020\n",
            "[184/300][0/22]tLoss_D: 0.0119 tLoss_G: 6.3473 tD(x): 0.9992 tD(G(z)): 0.0111 / 0.0020\n",
            "[185/300][0/22]tLoss_D: 0.0019 tLoss_G: 7.4412 tD(x): 0.9992 tD(G(z)): 0.0012 / 0.0007\n",
            "[186/300][0/22]tLoss_D: 0.0051 tLoss_G: 6.3620 tD(x): 0.9998 tD(G(z)): 0.0049 / 0.0019\n",
            "[187/300][0/22]tLoss_D: 0.0046 tLoss_G: 6.5954 tD(x): 0.9992 tD(G(z)): 0.0038 / 0.0015\n",
            "[188/300][0/22]tLoss_D: 0.0062 tLoss_G: 5.3787 tD(x): 0.9999 tD(G(z)): 0.0060 / 0.0049\n",
            "[189/300][0/22]tLoss_D: 0.0043 tLoss_G: 6.0813 tD(x): 0.9998 tD(G(z)): 0.0041 / 0.0025\n",
            "[190/300][0/22]tLoss_D: 0.0049 tLoss_G: 6.2672 tD(x): 0.9997 tD(G(z)): 0.0045 / 0.0021\n",
            "[191/300][0/22]tLoss_D: 0.0033 tLoss_G: 6.4250 tD(x): 0.9994 tD(G(z)): 0.0027 / 0.0017\n",
            "[192/300][0/22]tLoss_D: 0.0045 tLoss_G: 6.3154 tD(x): 0.9985 tD(G(z)): 0.0029 / 0.0020\n",
            "[193/300][0/22]tLoss_D: 0.0020 tLoss_G: 6.8489 tD(x): 0.9996 tD(G(z)): 0.0016 / 0.0012\n",
            "[194/300][0/22]tLoss_D: 0.0131 tLoss_G: 4.9653 tD(x): 0.9997 tD(G(z)): 0.0128 / 0.0074\n",
            "[195/300][0/22]tLoss_D: 0.0033 tLoss_G: 6.3863 tD(x): 0.9997 tD(G(z)): 0.0030 / 0.0019\n",
            "[196/300][0/22]tLoss_D: 0.0113 tLoss_G: 6.2794 tD(x): 0.9916 tD(G(z)): 0.0026 / 0.0021\n",
            "[197/300][0/22]tLoss_D: 0.0055 tLoss_G: 6.3698 tD(x): 0.9985 tD(G(z)): 0.0040 / 0.0019\n",
            "[198/300][0/22]tLoss_D: 0.0236 tLoss_G: 6.8151 tD(x): 0.9998 tD(G(z)): 0.0230 / 0.0012\n",
            "[199/300][0/22]tLoss_D: 0.0157 tLoss_G: 6.0307 tD(x): 0.9925 tD(G(z)): 0.0080 / 0.0027\n",
            "[200/300][0/22]tLoss_D: 0.0023 tLoss_G: 6.7072 tD(x): 0.9995 tD(G(z)): 0.0018 / 0.0013\n",
            "[201/300][0/22]tLoss_D: 0.0061 tLoss_G: 12.5016 tD(x): 0.9941 tD(G(z)): 0.0000 / 0.0000\n",
            "[202/300][0/22]tLoss_D: 0.0041 tLoss_G: 6.6214 tD(x): 0.9980 tD(G(z)): 0.0022 / 0.0014\n",
            "[203/300][0/22]tLoss_D: 3.9453 tLoss_G: 15.5338 tD(x): 1.0000 tD(G(z)): 0.9801 / 0.0000\n",
            "[204/300][0/22]tLoss_D: 0.0013 tLoss_G: 13.8424 tD(x): 0.9987 tD(G(z)): 0.0000 / 0.0000\n",
            "[205/300][0/22]tLoss_D: 0.0039 tLoss_G: 7.6749 tD(x): 0.9967 tD(G(z)): 0.0005 / 0.0005\n",
            "[206/300][0/22]tLoss_D: 0.0049 tLoss_G: 5.6846 tD(x): 0.9993 tD(G(z)): 0.0042 / 0.0035\n",
            "[207/300][0/22]tLoss_D: 0.0044 tLoss_G: 5.8279 tD(x): 0.9993 tD(G(z)): 0.0037 / 0.0030\n",
            "[208/300][0/22]tLoss_D: 0.0262 tLoss_G: 3.6471 tD(x): 0.9999 tD(G(z)): 0.0257 / 0.0269\n",
            "[209/300][0/22]tLoss_D: 0.0047 tLoss_G: 5.7922 tD(x): 0.9994 tD(G(z)): 0.0041 / 0.0032\n",
            "[210/300][0/22]tLoss_D: 0.0058 tLoss_G: 5.5857 tD(x): 0.9991 tD(G(z)): 0.0049 / 0.0039\n",
            "[211/300][0/22]tLoss_D: 0.0048 tLoss_G: 5.8875 tD(x): 0.9989 tD(G(z)): 0.0038 / 0.0029\n",
            "[212/300][0/22]tLoss_D: 0.0037 tLoss_G: 5.9838 tD(x): 0.9996 tD(G(z)): 0.0033 / 0.0026\n",
            "[213/300][0/22]tLoss_D: 0.0097 tLoss_G: 5.6129 tD(x): 0.9956 tD(G(z)): 0.0052 / 0.0038\n",
            "[214/300][0/22]tLoss_D: 0.0064 tLoss_G: 5.8839 tD(x): 0.9975 tD(G(z)): 0.0038 / 0.0029\n",
            "[215/300][0/22]tLoss_D: 0.0414 tLoss_G: 5.3679 tD(x): 0.9672 tD(G(z)): 0.0045 / 0.0051\n",
            "[216/300][0/22]tLoss_D: 0.0541 tLoss_G: 4.3227 tD(x): 0.9994 tD(G(z)): 0.0516 / 0.0152\n",
            "[217/300][0/22]tLoss_D: 0.0051 tLoss_G: 6.0013 tD(x): 0.9998 tD(G(z)): 0.0048 / 0.0032\n",
            "[218/300][0/22]tLoss_D: 0.0129 tLoss_G: 5.1391 tD(x): 0.9987 tD(G(z)): 0.0115 / 0.0073\n",
            "[219/300][0/22]tLoss_D: 0.0154 tLoss_G: 5.7859 tD(x): 0.9935 tD(G(z)): 0.0088 / 0.0044\n",
            "[220/300][0/22]tLoss_D: 0.0045 tLoss_G: 6.1709 tD(x): 0.9996 tD(G(z)): 0.0040 / 0.0028\n",
            "[221/300][0/22]tLoss_D: 0.0051 tLoss_G: 5.9435 tD(x): 0.9993 tD(G(z)): 0.0044 / 0.0034\n",
            "[222/300][0/22]tLoss_D: 0.0031 tLoss_G: 6.5251 tD(x): 0.9997 tD(G(z)): 0.0028 / 0.0021\n",
            "[223/300][0/22]tLoss_D: 0.0058 tLoss_G: 6.3771 tD(x): 0.9969 tD(G(z)): 0.0027 / 0.0021\n",
            "[224/300][0/22]tLoss_D: 0.0057 tLoss_G: 6.1145 tD(x): 0.9992 tD(G(z)): 0.0049 / 0.0033\n",
            "[225/300][0/22]tLoss_D: 0.0036 tLoss_G: 6.3206 tD(x): 0.9994 tD(G(z)): 0.0030 / 0.0022\n",
            "[226/300][0/22]tLoss_D: 0.0038 tLoss_G: 6.4000 tD(x): 0.9995 tD(G(z)): 0.0033 / 0.0023\n",
            "[227/300][0/22]tLoss_D: 0.0061 tLoss_G: 6.5836 tD(x): 0.9985 tD(G(z)): 0.0046 / 0.0026\n",
            "[228/300][0/22]tLoss_D: 0.0075 tLoss_G: 6.3179 tD(x): 0.9991 tD(G(z)): 0.0065 / 0.0032\n",
            "[229/300][0/22]tLoss_D: 0.1316 tLoss_G: 6.1524 tD(x): 0.9999 tD(G(z)): 0.1177 / 0.0034\n",
            "[230/300][0/22]tLoss_D: 0.0053 tLoss_G: 6.2113 tD(x): 0.9999 tD(G(z)): 0.0051 / 0.0032\n",
            "[231/300][0/22]tLoss_D: 0.0051 tLoss_G: 6.0557 tD(x): 0.9997 tD(G(z)): 0.0048 / 0.0032\n",
            "[232/300][0/22]tLoss_D: 0.0050 tLoss_G: 5.8115 tD(x): 0.9999 tD(G(z)): 0.0049 / 0.0038\n",
            "[233/300][0/22]tLoss_D: 0.0034 tLoss_G: 6.2411 tD(x): 0.9999 tD(G(z)): 0.0034 / 0.0025\n",
            "[234/300][0/22]tLoss_D: 0.0174 tLoss_G: 6.0648 tD(x): 0.9875 tD(G(z)): 0.0038 / 0.0029\n",
            "[235/300][0/22]tLoss_D: 0.0050 tLoss_G: 5.9379 tD(x): 0.9997 tD(G(z)): 0.0047 / 0.0031\n",
            "[236/300][0/22]tLoss_D: 0.0071 tLoss_G: 5.9073 tD(x): 0.9999 tD(G(z)): 0.0070 / 0.0036\n",
            "[237/300][0/22]tLoss_D: 0.0054 tLoss_G: 6.3818 tD(x): 0.9995 tD(G(z)): 0.0048 / 0.0025\n",
            "[238/300][0/22]tLoss_D: 0.0049 tLoss_G: 6.2756 tD(x): 0.9996 tD(G(z)): 0.0045 / 0.0025\n",
            "[239/300][0/22]tLoss_D: 0.0117 tLoss_G: 6.2063 tD(x): 0.9931 tD(G(z)): 0.0046 / 0.0027\n",
            "[240/300][0/22]tLoss_D: 0.0039 tLoss_G: 6.3538 tD(x): 0.9998 tD(G(z)): 0.0037 / 0.0023\n",
            "[241/300][0/22]tLoss_D: 0.0073 tLoss_G: 6.2398 tD(x): 0.9971 tD(G(z)): 0.0043 / 0.0025\n",
            "[242/300][0/22]tLoss_D: 0.0067 tLoss_G: 6.4511 tD(x): 0.9967 tD(G(z)): 0.0033 / 0.0021\n",
            "[243/300][0/22]tLoss_D: 0.0043 tLoss_G: 6.3807 tD(x): 0.9996 tD(G(z)): 0.0039 / 0.0023\n",
            "[244/300][0/22]tLoss_D: 0.0037 tLoss_G: 6.3556 tD(x): 1.0000 tD(G(z)): 0.0037 / 0.0022\n",
            "[245/300][0/22]tLoss_D: 0.0046 tLoss_G: 6.4581 tD(x): 0.9988 tD(G(z)): 0.0035 / 0.0021\n",
            "[246/300][0/22]tLoss_D: 0.0038 tLoss_G: 6.4767 tD(x): 0.9998 tD(G(z)): 0.0036 / 0.0022\n",
            "[247/300][0/22]tLoss_D: 0.0039 tLoss_G: 6.4771 tD(x): 0.9988 tD(G(z)): 0.0027 / 0.0019\n",
            "[248/300][0/22]tLoss_D: 0.0050 tLoss_G: 6.5242 tD(x): 0.9978 tD(G(z)): 0.0028 / 0.0018\n",
            "[249/300][0/22]tLoss_D: 0.0037 tLoss_G: 6.3761 tD(x): 1.0000 tD(G(z)): 0.0036 / 0.0025\n",
            "[250/300][0/22]tLoss_D: 0.0035 tLoss_G: 6.7295 tD(x): 0.9989 tD(G(z)): 0.0024 / 0.0017\n",
            "[251/300][0/22]tLoss_D: 0.0027 tLoss_G: 6.7606 tD(x): 0.9994 tD(G(z)): 0.0021 / 0.0015\n",
            "[252/300][0/22]tLoss_D: 0.0025 tLoss_G: 6.8286 tD(x): 0.9993 tD(G(z)): 0.0019 / 0.0014\n",
            "[253/300][0/22]tLoss_D: 0.0026 tLoss_G: 6.7842 tD(x): 0.9996 tD(G(z)): 0.0022 / 0.0016\n",
            "[254/300][0/22]tLoss_D: 0.0020 tLoss_G: 7.0814 tD(x): 0.9999 tD(G(z)): 0.0018 / 0.0014\n",
            "[255/300][0/22]tLoss_D: 0.0033 tLoss_G: 6.8717 tD(x): 0.9988 tD(G(z)): 0.0020 / 0.0015\n",
            "[256/300][0/22]tLoss_D: 0.0051 tLoss_G: 6.6178 tD(x): 0.9971 tD(G(z)): 0.0022 / 0.0017\n",
            "[257/300][0/22]tLoss_D: 0.0017 tLoss_G: 7.1628 tD(x): 0.9998 tD(G(z)): 0.0015 / 0.0012\n",
            "[258/300][0/22]tLoss_D: 0.0019 tLoss_G: 7.0052 tD(x): 0.9998 tD(G(z)): 0.0017 / 0.0012\n",
            "[259/300][0/22]tLoss_D: 0.0019 tLoss_G: 6.8728 tD(x): 0.9999 tD(G(z)): 0.0017 / 0.0013\n",
            "[260/300][0/22]tLoss_D: 0.0018 tLoss_G: 6.9986 tD(x): 0.9995 tD(G(z)): 0.0014 / 0.0011\n",
            "[261/300][0/22]tLoss_D: 0.0015 tLoss_G: 7.0924 tD(x): 0.9999 tD(G(z)): 0.0014 / 0.0011\n",
            "[262/300][0/22]tLoss_D: 0.0018 tLoss_G: 7.0299 tD(x): 0.9996 tD(G(z)): 0.0015 / 0.0012\n",
            "[263/300][0/22]tLoss_D: 0.0021 tLoss_G: 7.1165 tD(x): 0.9992 tD(G(z)): 0.0012 / 0.0010\n",
            "[264/300][0/22]tLoss_D: 0.0018 tLoss_G: 7.2193 tD(x): 0.9994 tD(G(z)): 0.0011 / 0.0010\n",
            "[265/300][0/22]tLoss_D: 0.0014 tLoss_G: 7.3070 tD(x): 0.9997 tD(G(z)): 0.0011 / 0.0009\n",
            "[266/300][0/22]tLoss_D: 0.0011 tLoss_G: 7.3526 tD(x): 0.9999 tD(G(z)): 0.0010 / 0.0009\n",
            "[267/300][0/22]tLoss_D: 0.0013 tLoss_G: 7.1305 tD(x): 0.9999 tD(G(z)): 0.0012 / 0.0010\n",
            "[268/300][0/22]tLoss_D: 0.0012 tLoss_G: 7.2732 tD(x): 0.9998 tD(G(z)): 0.0011 / 0.0009\n",
            "[269/300][0/22]tLoss_D: 0.0010 tLoss_G: 7.2725 tD(x): 0.9999 tD(G(z)): 0.0010 / 0.0008\n",
            "[270/300][0/22]tLoss_D: 0.0016 tLoss_G: 7.1664 tD(x): 0.9995 tD(G(z)): 0.0011 / 0.0010\n",
            "[271/300][0/22]tLoss_D: 0.0019 tLoss_G: 7.2141 tD(x): 0.9991 tD(G(z)): 0.0010 / 0.0008\n",
            "[272/300][0/22]tLoss_D: 0.0018 tLoss_G: 7.2476 tD(x): 0.9993 tD(G(z)): 0.0011 / 0.0009\n",
            "[273/300][0/22]tLoss_D: 0.0019 tLoss_G: 6.5305 tD(x): 0.9998 tD(G(z)): 0.0017 / 0.0017\n",
            "[274/300][0/22]tLoss_D: 0.0040 tLoss_G: 7.1287 tD(x): 0.9972 tD(G(z)): 0.0012 / 0.0010\n",
            "[275/300][0/22]tLoss_D: 0.0011 tLoss_G: 7.2526 tD(x): 0.9999 tD(G(z)): 0.0010 / 0.0008\n",
            "[276/300][0/22]tLoss_D: 0.0011 tLoss_G: 7.2362 tD(x): 0.9999 tD(G(z)): 0.0010 / 0.0009\n",
            "[277/300][0/22]tLoss_D: 0.0012 tLoss_G: 7.5802 tD(x): 0.9996 tD(G(z)): 0.0008 / 0.0007\n",
            "[278/300][0/22]tLoss_D: 0.0014 tLoss_G: 7.4972 tD(x): 0.9993 tD(G(z)): 0.0008 / 0.0007\n",
            "[279/300][0/22]tLoss_D: 0.0008 tLoss_G: 7.5615 tD(x): 0.9999 tD(G(z)): 0.0007 / 0.0006\n",
            "[280/300][0/22]tLoss_D: 0.0009 tLoss_G: 7.3362 tD(x): 1.0000 tD(G(z)): 0.0008 / 0.0007\n",
            "[281/300][0/22]tLoss_D: 0.0018 tLoss_G: 7.4075 tD(x): 0.9990 tD(G(z)): 0.0009 / 0.0007\n",
            "[282/300][0/22]tLoss_D: 0.0009 tLoss_G: 7.3326 tD(x): 1.0000 tD(G(z)): 0.0009 / 0.0008\n",
            "[283/300][0/22]tLoss_D: 0.0011 tLoss_G: 7.2396 tD(x): 1.0000 tD(G(z)): 0.0010 / 0.0009\n",
            "[284/300][0/22]tLoss_D: 0.0041 tLoss_G: 7.2843 tD(x): 0.9969 tD(G(z)): 0.0009 / 0.0008\n",
            "[285/300][0/22]tLoss_D: 0.0012 tLoss_G: 7.0704 tD(x): 0.9999 tD(G(z)): 0.0011 / 0.0011\n",
            "[286/300][0/22]tLoss_D: 0.0009 tLoss_G: 7.2961 tD(x): 1.0000 tD(G(z)): 0.0009 / 0.0008\n",
            "[287/300][0/22]tLoss_D: 0.0077 tLoss_G: 7.2792 tD(x): 0.9935 tD(G(z)): 0.0009 / 0.0008\n",
            "[288/300][0/22]tLoss_D: 0.0020 tLoss_G: 7.1993 tD(x): 0.9991 tD(G(z)): 0.0010 / 0.0009\n",
            "[289/300][0/22]tLoss_D: 0.0012 tLoss_G: 7.1236 tD(x): 0.9999 tD(G(z)): 0.0011 / 0.0009\n",
            "[290/300][0/22]tLoss_D: 0.0015 tLoss_G: 7.3104 tD(x): 0.9996 tD(G(z)): 0.0011 / 0.0009\n",
            "[291/300][0/22]tLoss_D: 0.0015 tLoss_G: 7.1564 tD(x): 0.9996 tD(G(z)): 0.0011 / 0.0009\n",
            "[292/300][0/22]tLoss_D: 0.0010 tLoss_G: 7.3931 tD(x): 1.0000 tD(G(z)): 0.0010 / 0.0008\n",
            "[293/300][0/22]tLoss_D: 0.0012 tLoss_G: 7.3901 tD(x): 1.0000 tD(G(z)): 0.0012 / 0.0009\n",
            "[294/300][0/22]tLoss_D: 0.0012 tLoss_G: 7.2796 tD(x): 0.9999 tD(G(z)): 0.0011 / 0.0009\n",
            "[295/300][0/22]tLoss_D: 0.0013 tLoss_G: 7.1162 tD(x): 0.9998 tD(G(z)): 0.0012 / 0.0009\n",
            "[296/300][0/22]tLoss_D: 0.0012 tLoss_G: 7.2643 tD(x): 0.9999 tD(G(z)): 0.0011 / 0.0009\n",
            "[297/300][0/22]tLoss_D: 0.0009 tLoss_G: 7.4415 tD(x): 1.0000 tD(G(z)): 0.0009 / 0.0007\n",
            "[298/300][0/22]tLoss_D: 0.0010 tLoss_G: 7.5599 tD(x): 0.9999 tD(G(z)): 0.0009 / 0.0007\n",
            "[299/300][0/22]tLoss_D: 0.0010 tLoss_G: 7.3361 tD(x): 0.9999 tD(G(z)): 0.0009 / 0.0007\n",
            "[300/300][0/22]tLoss_D: 0.0014 tLoss_G: 7.4000 tD(x): 0.9994 tD(G(z)): 0.0008 / 0.0007\n"
          ]
        }
      ],
      "source": [
        "n1 = 1\n",
        "n2 = 1\n",
        "n3 = 1\n",
        "\n",
        "# img_list = []\n",
        "img_list2 = []\n",
        "G_losses = []\n",
        "D_losses = []\n",
        "iters = 0\n",
        "\n",
        "print(\"Starting Training Loop...\")\n",
        "# For each epoch\n",
        "for epoch in range(num_epochs):\n",
        "    # For each batch in the dataloader\n",
        "    for i, data in enumerate(dataloader, 0):\n",
        "        ############################\n",
        "        # (1) Update D network: maximize log(D(x)) + log(1 - D(G(z)))\n",
        "        ###########################\n",
        "        ## Train with all-real batch (진짜 데이터들로 학습)\n",
        "        netD.zero_grad()\n",
        "        # Format batch (배치사이즈, 사용할 디바이스에 맞게 조정)\n",
        "        real_cpu = data[0].to(device)\n",
        "        b_size = real_cpu.size(0)\n",
        "        label = torch.full((b_size,), real_label, dtype=torch.float, device=device)\n",
        "        # Forward pass real batch through D (진짜 데이터들로 이루어진 배치를 D에 통과)\n",
        "        output = netD(real_cpu).view(-1)\n",
        "        # Calculate loss on all-real batch(손실값 구함)\n",
        "        errD_real = criterion(output, label)\n",
        "        # Calculate gradients for D in backward pass (역전파 과정에서 변화도 계산)\n",
        "        errD_real.backward()\n",
        "        D_x = output.mean().item()\n",
        "\n",
        "        ## Train with all-fake batch (가짜 데이터들로 학습)\n",
        "        # Generate batch of latent vectors (벡터 생성)\n",
        "        noise = torch.randn(b_size, nz, 1, 1, device=device)\n",
        "        # Generate fake image batch with G (G로 가짜 이미지 생성)\n",
        "        fake = netG(noise)\n",
        "        label.fill_(fake_label)\n",
        "        # Classify all fake batch with D (D로 판별)\n",
        "        output = netD(fake.detach()).view(-1)\n",
        "        # Calculate D's loss on the all-fake batch (D 손실값 계산)\n",
        "        errD_fake = criterion(output, label)\n",
        "        # Calculate the gradients for this batch, accumulated (summed) with previous gradients(역전파로 변화도 계산 후 앞의 변화도에 더하기)\n",
        "        errD_fake.backward()\n",
        "        D_G_z1 = output.mean().item()\n",
        "        # Compute error of D as sum over the fake and the real batches (가짜 이미지, 진짜 이미지 손실값 모두 더함)\n",
        "        errD = errD_real + errD_fake\n",
        "        # Update D\n",
        "        optimizerD.step()\n",
        "\n",
        "        ############################\n",
        "        # (2) Update G network: maximize log(D(G(z))) (G 신경망 업데이트)\n",
        "        ###########################\n",
        "        netG.zero_grad()\n",
        "        label.fill_(real_label)  # fake labels are real for generator cost (생성자 손실값 구하기 위해 진짜 라벨 이용)\n",
        "        # Since we just updated D, perform another forward pass of all-fake batch through D (D가 방금 업데이트 됐기 때문에 다시 D에 가짜 데이터 통과)\n",
        "        output = netD(fake).view(-1)\n",
        "        # Calculate G's loss based on this output (G 손실값 구하기)\n",
        "        errG = criterion(output, label)\n",
        "        # Calculate gradients for G (G 변화도 계산)\n",
        "        errG.backward()\n",
        "        D_G_z2 = output.mean().item()\n",
        "        # Update G\n",
        "        optimizerG.step()\n",
        "\n",
        "        # 훈련상태 출력\n",
        "        if i % 50 == 0:\n",
        "            print('[%d/%d][%d/%d]tLoss_D: %.4f tLoss_G: %.4f tD(x): %.4f tD(G(z)): %.4f / %.4f'\n",
        "                % (epoch+1, num_epochs, i, len(dataloader),\n",
        "                    errD.item(), errG.item(), D_x, D_G_z1, D_G_z2))\n",
        "        # 그래프 위해 손실값 저장\n",
        "        G_losses.append(errG.item())\n",
        "        D_losses.append(errD.item())\n",
        "    \n",
        "        # fixed_noise 통과시킨 G의 출력값 저장\n",
        "        # if (iters % 50 == 0) or ((epoch == num_epochs-1) and (i == len(dataloader)-1)):\n",
        "        #     with torch.no_grad():\n",
        "        #         fake = netG(fixed_noise).detach().cpu()\n",
        "        #     img_list.append(vutils.make_grid(fake, padding=2, nrow=1, normalize=True))\n",
        "\n",
        "        # 이미지 저장\n",
        "        # if epoch == (num_epochs-1):\n",
        "        #     for j in range(len(data[1])):\n",
        "        #         if data[1][j] == 0:\n",
        "        #             save_image(fake[j],'/content/dcgan_Result_b8_e300_lr0002_1205/cyst/DCGAN_cyst_%s.jpg' %(n1),'JPEG')\n",
        "        #             n1 += 1\n",
        "        #         if data[1][j] == 1:\n",
        "        #             save_image(fake[j],'/content/dcgan_Result_b8_e300_lr0002_1205/hema/DCGAN_hema_%s.jpg' %(n2),'JPEG')\n",
        "        #             n2 += 1\n",
        "        #         if data[1][j] == 2:\n",
        "        #             save_image(fake[j],'/content/dcgan_Result_b8_e300_lr0002_1205/meta/DCGAN_meta_%s.jpg' %(n3),'JPEG')\n",
        "        #             n3 += 1\n",
        "        if epoch == (num_epochs-1):\n",
        "            for j in range(len(data[1])):\n",
        "                if data[1][j] == 0:\n",
        "                    save_image(fake[j],'/content/test/cyst/DCGAN_cyst_%s.jpg' %(n1),'JPEG')\n",
        "                    n1 += 1\n",
        "                if data[1][j] == 1:\n",
        "                    save_image(fake[j],'/content/test/hema/DCGAN_hema_%s.jpg' %(n2),'JPEG')\n",
        "                    n2 += 1\n",
        "                if data[1][j] == 2:\n",
        "                    save_image(fake[j],'/content/test/meta/DCGAN_meta_%s.jpg' %(n3),'JPEG')\n",
        "                    n3 += 1\n",
        "\n",
        "        img_list2.append(fake)\n",
        "        iters += 1"
      ]
    },
    {
      "cell_type": "code",
      "source": [
        "# 가중치 조절 전\n",
        "print(\n",
        "'epoch', num_epochs,\n",
        "'model_G_state_dict', netG.state_dict(),\n",
        "'model_D_state_dict', netD.state_dict()\n",
        ")"
      ],
      "metadata": {
        "id": "WiDBOXXyJhwJ"
      },
      "execution_count": null,
      "outputs": []
    },
    {
      "cell_type": "code",
      "source": [
        "print(\n",
        "'optimizer_G_state_dict', optimizerG.state_dict(),\n",
        "'optimizer_D_state_dict', optimizerD.state_dict()\n",
        ")"
      ],
      "metadata": {
        "id": "MyZRhmPyJhzg"
      },
      "execution_count": null,
      "outputs": []
    },
    {
      "cell_type": "code",
      "source": [
        "# state dict 저장\n",
        "torch.save({\n",
        "    'epoch': num_epochs,\n",
        "    'model_G_state_dict': netG.state_dict(),\n",
        "    'model_D_state_dict': netD.state_dict(),\n",
        "    'optimizer_G_state_dict': optimizerG.state_dict(),\n",
        "    'optimizer_D_state_dict': optimizerD.state_dict()\n",
        "}, 'model_weights.pth')"
      ],
      "metadata": {
        "id": "5k64jcR6QBP1"
      },
      "execution_count": null,
      "outputs": []
    },
    {
      "cell_type": "code",
      "source": [],
      "metadata": {
        "id": "tTCdnkR8CHVY"
      },
      "execution_count": null,
      "outputs": []
    },
    {
      "cell_type": "markdown",
      "source": [
        "### fine tuning"
      ],
      "metadata": {
        "id": "1VLvBPcACHup"
      }
    },
    {
      "cell_type": "code",
      "source": [
        "# state dict 불러오기\n",
        "path = '/content/drive/MyDrive/model_weights.pth'\n",
        "# path = '/content/model_weights_e150b16r0001.pth'\n",
        "weightsave = torch.load(path)"
      ],
      "metadata": {
        "id": "zhIAVilfQFwj"
      },
      "execution_count": 2,
      "outputs": []
    },
    {
      "cell_type": "code",
      "source": [
        "weightsave.keys()"
      ],
      "metadata": {
        "colab": {
          "base_uri": "https://localhost:8080/"
        },
        "id": "DSDUthC0QFy_",
        "outputId": "a0c3dd07-0722-4111-c3a6-3caaddf30a2a"
      },
      "execution_count": 3,
      "outputs": [
        {
          "output_type": "execute_result",
          "data": {
            "text/plain": [
              "dict_keys(['epoch', 'model_G_state_dict', 'model_D_state_dict', 'optimizer_G_state_dict', 'optimizer_D_state_dict'])"
            ]
          },
          "metadata": {},
          "execution_count": 3
        }
      ]
    },
    {
      "cell_type": "code",
      "source": [
        "# dataroot = \"/content/drive/MyDrive/dataset_patch_220117/train\"\n",
        "#dataroot = \"/content/drive/MyDrive/dataset_cyst\" #cyst 데이터셋만\n",
        "# dataroot = \"/content/drive/MyDrive/dataset_meta\" #meta 데이터셋만\n",
        "dataroot = \"/content/drive/MyDrive/dataset_hema\" #hema 데이터셋만\n",
        "workers = 2 #데이터 불러올 때 사용할 쓰레드 개수\n",
        "batch_size = 16\n",
        "image_size = 64\n",
        "nc = 3 #색 채널 개수 (RGB)\n",
        "nz = 100 #벡터 원소개수\n",
        "ngf = 64\n",
        "ndf = 64\n",
        "num_epochs = 100\n",
        "lr = 0.00001 #2e-4=0.0002, 1e-4=0.001\n",
        "beta1 = 0.5 #Adam optimizer 하이퍼파라미터 값. 논문처럼 0.5\n",
        "ngpu = 1"
      ],
      "metadata": {
        "id": "xuxqk1vfJMGO"
      },
      "execution_count": 4,
      "outputs": []
    },
    {
      "cell_type": "code",
      "source": [
        "#데이터셋 만들기\n",
        "dataset = dset.ImageFolder(root=dataroot,\n",
        "                           transform=transforms.Compose([\n",
        "                               transforms.Resize(image_size),\n",
        "                               transforms.CenterCrop(image_size), #가운데 부분을 image_size로 자름\n",
        "                               transforms.ToTensor(), #이미지 데이터를 tensor로 바꿈\n",
        "                               transforms.Normalize((0.5, 0.5, 0.5), (0.5, 0.5, 0.5)), #정규화\n",
        "                           ]))\n",
        "# dataloader 정의\n",
        "dataloader = torch.utils.data.DataLoader(dataset, batch_size=batch_size,\n",
        "                                         shuffle=True, num_workers=workers)\n",
        "# GPU 사용여부\n",
        "device = torch.device(\"cuda:0\" if (torch.cuda.is_available() and ngpu > 0) else \"cpu\")\n",
        "\n",
        "classes = dataset.classes\n",
        "classes"
      ],
      "metadata": {
        "colab": {
          "base_uri": "https://localhost:8080/"
        },
        "id": "lQLRIi0RJT1A",
        "outputId": "c9c74b7f-78d2-4cdf-d6af-9b71d6a905ce"
      },
      "execution_count": 5,
      "outputs": [
        {
          "output_type": "execute_result",
          "data": {
            "text/plain": [
              "['hema']"
            ]
          },
          "metadata": {},
          "execution_count": 5
        }
      ]
    },
    {
      "cell_type": "code",
      "source": [
        "def weights_init(m):\n",
        "    # print('m : ',m)\n",
        "    classname = m.__class__.__name__\n",
        "    if classname.find('Conv') != -1:\n",
        "        # print('before Conv m.weight.data. : ', m.weight.data)\n",
        "        nn.init.normal_(m.weight.data, 0.0, 0.02) # 가중치를 평균 0, 편차 0.02로 초기화\n",
        "        # print('after Conv m.weight.data. : ', m.weight.data)\n",
        "    elif classname.find('BatchNorm') != -1:\n",
        "        nn.init.normal_(m.weight.data, 1.0, 0.02) # 가중치를 평균 1, 편차 0.02로 초기화\n",
        "        # print('BatchNorm m.weight.data. : ', m.weight.data)\n",
        "        nn.init.constant_(m.bias.data, 0)"
      ],
      "metadata": {
        "id": "7vL91JQWeXQ7"
      },
      "execution_count": 6,
      "outputs": []
    },
    {
      "cell_type": "code",
      "source": [
        "# Generator Code\n",
        "class Generator(nn.Module):\n",
        "    def __init__(self, ngpu):\n",
        "        super(Generator, self).__init__()\n",
        "        self.ngpu = ngpu\n",
        "        self.main = nn.Sequential(\n",
        "            # input is Z, going into a convolution\n",
        "            nn.ConvTranspose2d( nz, ngf * 8, 4, 1, 0, bias=False),\n",
        "            nn.BatchNorm2d(ngf * 8),\n",
        "            nn.ReLU(True),\n",
        "            # state size. (ngf*8) x 4 x 4\n",
        "\n",
        "            nn.ConvTranspose2d(ngf * 8, ngf * 4, 4, 2, 1, bias=False),\n",
        "            nn.BatchNorm2d(ngf * 4),\n",
        "            nn.ReLU(True),\n",
        "            # state size. (ngf*4) x 8 x 8\n",
        "\n",
        "            nn.ConvTranspose2d( ngf * 4, ngf * 2, 4, 2, 1, bias=False),\n",
        "            nn.BatchNorm2d(ngf * 2),\n",
        "            nn.ReLU(True),\n",
        "            # state size. (ngf*2) x 16 x 16\n",
        "\n",
        "            nn.ConvTranspose2d( ngf * 2, ngf, 4, 2, 1, bias=False),\n",
        "            nn.BatchNorm2d(ngf),\n",
        "            nn.ReLU(True),\n",
        "            # state size. (ngf) x 32 x 32\n",
        "\n",
        "            nn.ConvTranspose2d( ngf, nc, 4, 2, 1, bias=False),\n",
        "            nn.Tanh()\n",
        "            # state size. (nc) x 64 x 64\n",
        "        )\n",
        "    def forward(self, input):\n",
        "        return self.main(input)"
      ],
      "metadata": {
        "id": "shB3BsIwry3Y"
      },
      "execution_count": 7,
      "outputs": []
    },
    {
      "cell_type": "code",
      "source": [
        "netG = Generator(ngpu).to(device)\n",
        "\n",
        "# multi-gpu 필요하면 설정\n",
        "if (device.type == 'cuda') and (ngpu > 1):\n",
        "    netG = nn.DataParallel(netG, list(range(ngpu)))\n",
        "\n",
        "netG.apply(weights_init)\n",
        "\n",
        "# Print the model\n",
        "print(netG)"
      ],
      "metadata": {
        "colab": {
          "base_uri": "https://localhost:8080/"
        },
        "id": "PPsLozTOry59",
        "outputId": "8dcb0512-723e-48f2-c8ff-950439ead7f1"
      },
      "execution_count": 8,
      "outputs": [
        {
          "output_type": "stream",
          "name": "stdout",
          "text": [
            "Generator(\n",
            "  (main): Sequential(\n",
            "    (0): ConvTranspose2d(100, 512, kernel_size=(4, 4), stride=(1, 1), bias=False)\n",
            "    (1): BatchNorm2d(512, eps=1e-05, momentum=0.1, affine=True, track_running_stats=True)\n",
            "    (2): ReLU(inplace=True)\n",
            "    (3): ConvTranspose2d(512, 256, kernel_size=(4, 4), stride=(2, 2), padding=(1, 1), bias=False)\n",
            "    (4): BatchNorm2d(256, eps=1e-05, momentum=0.1, affine=True, track_running_stats=True)\n",
            "    (5): ReLU(inplace=True)\n",
            "    (6): ConvTranspose2d(256, 128, kernel_size=(4, 4), stride=(2, 2), padding=(1, 1), bias=False)\n",
            "    (7): BatchNorm2d(128, eps=1e-05, momentum=0.1, affine=True, track_running_stats=True)\n",
            "    (8): ReLU(inplace=True)\n",
            "    (9): ConvTranspose2d(128, 64, kernel_size=(4, 4), stride=(2, 2), padding=(1, 1), bias=False)\n",
            "    (10): BatchNorm2d(64, eps=1e-05, momentum=0.1, affine=True, track_running_stats=True)\n",
            "    (11): ReLU(inplace=True)\n",
            "    (12): ConvTranspose2d(64, 3, kernel_size=(4, 4), stride=(2, 2), padding=(1, 1), bias=False)\n",
            "    (13): Tanh()\n",
            "  )\n",
            ")\n"
          ]
        }
      ]
    },
    {
      "cell_type": "code",
      "source": [
        "class Discriminator(nn.Module):\n",
        "    def __init__(self, ngpu):\n",
        "        super(Discriminator, self).__init__()\n",
        "        self.ngpu = ngpu\n",
        "        self.main = nn.Sequential(\n",
        "            # input is (nc) x 64 x 64\n",
        "            nn.Conv2d(nc, ndf, 4, 2, 1, bias=False),\n",
        "            nn.LeakyReLU(0.2, inplace=True),\n",
        "            # state size. (ndf) x 32 x 32\n",
        "\n",
        "            nn.Conv2d(ndf, ndf * 2, 4, 2, 1, bias=False),\n",
        "            nn.BatchNorm2d(ndf * 2),\n",
        "            nn.LeakyReLU(0.2, inplace=True),\n",
        "            # state size. (ndf*2) x 16 x 16\n",
        "\n",
        "            nn.Conv2d(ndf * 2, ndf * 4, 4, 2, 1, bias=False),\n",
        "            nn.BatchNorm2d(ndf * 4),\n",
        "            nn.LeakyReLU(0.2, inplace=True),\n",
        "            # state size. (ndf*4) x 8 x 8\n",
        "\n",
        "            nn.Conv2d(ndf * 4, ndf * 8, 4, 2, 1, bias=False),\n",
        "            nn.BatchNorm2d(ndf * 8),\n",
        "            nn.LeakyReLU(0.2, inplace=True),\n",
        "            # state size. (ndf*8) x 4 x 4\n",
        "\n",
        "            nn.Conv2d(ndf * 8, 1, 4, 1, 0, bias=False),\n",
        "            nn.Sigmoid()\n",
        "        )\n",
        "    def forward(self, input):\n",
        "        return self.main(input)"
      ],
      "metadata": {
        "id": "7kYSHI_vry8z"
      },
      "execution_count": 9,
      "outputs": []
    },
    {
      "cell_type": "code",
      "source": [
        "# Create the Discriminator\n",
        "netD = Discriminator(ngpu).to(device)\n",
        "\n",
        "# Handle multi-gpu if desired\n",
        "if (device.type == 'cuda') and (ngpu > 1):\n",
        "    netD = nn.DataParallel(netD, list(range(ngpu)))\n",
        "\n",
        "netD.apply(weights_init)\n",
        "\n",
        "# Print the model\n",
        "print(netD)"
      ],
      "metadata": {
        "colab": {
          "base_uri": "https://localhost:8080/"
        },
        "id": "t2T89ZhQry_7",
        "outputId": "7891bba5-e1cd-428d-92f3-93591ee9bdcd"
      },
      "execution_count": 10,
      "outputs": [
        {
          "output_type": "stream",
          "name": "stdout",
          "text": [
            "Discriminator(\n",
            "  (main): Sequential(\n",
            "    (0): Conv2d(3, 64, kernel_size=(4, 4), stride=(2, 2), padding=(1, 1), bias=False)\n",
            "    (1): LeakyReLU(negative_slope=0.2, inplace=True)\n",
            "    (2): Conv2d(64, 128, kernel_size=(4, 4), stride=(2, 2), padding=(1, 1), bias=False)\n",
            "    (3): BatchNorm2d(128, eps=1e-05, momentum=0.1, affine=True, track_running_stats=True)\n",
            "    (4): LeakyReLU(negative_slope=0.2, inplace=True)\n",
            "    (5): Conv2d(128, 256, kernel_size=(4, 4), stride=(2, 2), padding=(1, 1), bias=False)\n",
            "    (6): BatchNorm2d(256, eps=1e-05, momentum=0.1, affine=True, track_running_stats=True)\n",
            "    (7): LeakyReLU(negative_slope=0.2, inplace=True)\n",
            "    (8): Conv2d(256, 512, kernel_size=(4, 4), stride=(2, 2), padding=(1, 1), bias=False)\n",
            "    (9): BatchNorm2d(512, eps=1e-05, momentum=0.1, affine=True, track_running_stats=True)\n",
            "    (10): LeakyReLU(negative_slope=0.2, inplace=True)\n",
            "    (11): Conv2d(512, 1, kernel_size=(4, 4), stride=(1, 1), bias=False)\n",
            "    (12): Sigmoid()\n",
            "  )\n",
            ")\n"
          ]
        }
      ]
    },
    {
      "cell_type": "code",
      "source": [
        "# BCELoss 함수의 인스턴스 생성\n",
        "criterion = nn.BCELoss()\n",
        "\n",
        "# 생성자의 학습상태를 확인할 잠재 공간 벡터를 생성 (Generator의 학습 과정 추적 위해)\n",
        "fixed_noise = torch.randn(1, nz, 1, 1, device=device) # 64\n",
        "\n",
        "# 학습에 사용되는 참/거짓의 라벨\n",
        "real_label = 1.\n",
        "fake_label = 0.\n",
        "\n",
        "# G와 D에서 사용할 Adam optimizer를 생성\n",
        "optimizerD = optim.Adam(netD.parameters(), lr=lr, betas=(beta1, 0.999))\n",
        "optimizerG = optim.Adam(netG.parameters(), lr=lr, betas=(beta1, 0.999))"
      ],
      "metadata": {
        "id": "1fthTPAurzCi"
      },
      "execution_count": 11,
      "outputs": []
    },
    {
      "cell_type": "code",
      "source": [
        "import torchvision\n",
        "from torchvision.utils import save_image\n",
        "transform = transforms.Grayscale()"
      ],
      "metadata": {
        "id": "DpVdgb_trzFK"
      },
      "execution_count": 12,
      "outputs": []
    },
    {
      "cell_type": "code",
      "source": [],
      "metadata": {
        "id": "Y8P9ddkqLvUT"
      },
      "execution_count": 12,
      "outputs": []
    },
    {
      "cell_type": "code",
      "source": [
        "netG.load_state_dict(weightsave['model_G_state_dict'])\n",
        "# netD.load_state_dict(weightsave['model_D_state_dict'])\n",
        "\n",
        "optimizerG.load_state_dict(weightsave['optimizer_G_state_dict'])\n",
        "# optimizerD.load_state_dict(weightsave['optimizer_D_state_dict'])"
      ],
      "metadata": {
        "id": "SUHxfYbULvWa"
      },
      "execution_count": 13,
      "outputs": []
    },
    {
      "cell_type": "code",
      "source": [],
      "metadata": {
        "id": "i_KZDZ8gLvYg"
      },
      "execution_count": 13,
      "outputs": []
    },
    {
      "cell_type": "code",
      "source": [
        "\n",
        "# G와 D에서 사용할 Adam optimizer 초기화\n",
        "# optimizerD = optim.Adam(netD.parameters(), lr=lr, betas=(beta1, 0.999))\n",
        "# optimizerG = optim.Adam(netG.parameters(), lr=lr, betas=(beta1, 0.999))"
      ],
      "metadata": {
        "id": "i_FP-xnkI8Xg"
      },
      "execution_count": 14,
      "outputs": []
    },
    {
      "cell_type": "code",
      "source": [
        "! mkdir -p test2/hema"
      ],
      "metadata": {
        "id": "ZUXqWL_lZZMg"
      },
      "execution_count": 15,
      "outputs": []
    },
    {
      "cell_type": "code",
      "source": [
        "n4 = 1\n",
        "\n",
        "\n",
        "# img_list = []\n",
        "img_list2 = []\n",
        "G_losses = []\n",
        "D_losses = []\n",
        "iters = 0\n",
        "\n",
        "print(\"Starting Training Loop...\")\n",
        "# For each epoch\n",
        "for epoch in range(num_epochs):\n",
        "    # For each batch in the dataloader\n",
        "    for i, data in enumerate(dataloader, 0):\n",
        "        ############################\n",
        "        # (1) Update D network: maximize log(D(x)) + log(1 - D(G(z)))\n",
        "        ###########################\n",
        "        ## Train with all-real batch (진짜 데이터들로 학습)\n",
        "        netD.zero_grad()\n",
        "        # Format batch (배치사이즈, 사용할 디바이스에 맞게 조정)\n",
        "        real_cpu = data[0].to(device)\n",
        "        b_size = real_cpu.size(0)\n",
        "        label = torch.full((b_size,), real_label, dtype=torch.float, device=device)\n",
        "        # Forward pass real batch through D (진짜 데이터들로 이루어진 배치를 D에 통과)\n",
        "        output = netD(real_cpu).view(-1)\n",
        "        # Calculate loss on all-real batch(손실값 구함)\n",
        "        errD_real = criterion(output, label)\n",
        "        # Calculate gradients for D in backward pass (역전파 과정에서 변화도 계산)\n",
        "        errD_real.backward()\n",
        "        D_x = output.mean().item()\n",
        "\n",
        "        ## Train with all-fake batch (가짜 데이터들로 학습)\n",
        "        # Generate batch of latent vectors (벡터 생성)\n",
        "        noise = torch.randn(b_size, nz, 1, 1, device=device)\n",
        "        # Generate fake image batch with G (G로 가짜 이미지 생성)\n",
        "        fake = netG(noise)\n",
        "        label.fill_(fake_label)\n",
        "        # Classify all fake batch with D (D로 판별)\n",
        "        output = netD(fake.detach()).view(-1)\n",
        "        # Calculate D's loss on the all-fake batch (D 손실값 계산)\n",
        "        errD_fake = criterion(output, label)\n",
        "        # Calculate the gradients for this batch, accumulated (summed) with previous gradients(역전파로 변화도 계산 후 앞의 변화도에 더하기)\n",
        "        errD_fake.backward()\n",
        "        D_G_z1 = output.mean().item()\n",
        "        # Compute error of D as sum over the fake and the real batches (가짜 이미지, 진짜 이미지 손실값 모두 더함)\n",
        "        errD = errD_real + errD_fake\n",
        "        # Update D\n",
        "        optimizerD.step()\n",
        "\n",
        "        ############################\n",
        "        # (2) Update G network: maximize log(D(G(z))) (G 신경망 업데이트)\n",
        "        ###########################\n",
        "        netG.zero_grad()\n",
        "        label.fill_(real_label)  # fake labels are real for generator cost (생성자 손실값 구하기 위해 진짜 라벨 이용)\n",
        "        # Since we just updated D, perform another forward pass of all-fake batch through D (D가 방금 업데이트 됐기 때문에 다시 D에 가짜 데이터 통과)\n",
        "        output = netD(fake).view(-1)\n",
        "        # Calculate G's loss based on this output (G 손실값 구하기)\n",
        "        errG = criterion(output, label)\n",
        "        # Calculate gradients for G (G 변화도 계산)\n",
        "        errG.backward()\n",
        "        D_G_z2 = output.mean().item()\n",
        "        # Update G\n",
        "        optimizerG.step()\n",
        "\n",
        "        # 훈련상태 출력\n",
        "        if i % 50 == 0:\n",
        "            print('[%d/%d][%d/%d]tLoss_D: %.4f tLoss_G: %.4f tD(x): %.4f tD(G(z)): %.4f / %.4f'\n",
        "                % (epoch+1, num_epochs, i, len(dataloader),\n",
        "                    errD.item(), errG.item(), D_x, D_G_z1, D_G_z2))\n",
        "        # 그래프 위해 손실값 저장\n",
        "        G_losses.append(errG.item())\n",
        "        D_losses.append(errD.item())\n",
        "    \n",
        "        # fixed_noise 통과시킨 G의 출력값 저장\n",
        "        # if (iters % 50 == 0) or ((epoch == num_epochs-1) and (i == len(dataloader)-1)):\n",
        "        #     with torch.no_grad():\n",
        "        #         fake = netG(fixed_noise).detach().cpu()\n",
        "        #     img_list.append(vutils.make_grid(fake, padding=2, nrow=1, normalize=True))\n",
        "\n",
        "        # 이미지 저장\n",
        "        # if epoch == (num_epochs-1):\n",
        "        #     for j in range(len(data[1])):\n",
        "        #         if data[1][j] == 0:\n",
        "        #             save_image(fake[j],'/content/dcgan_Result_b8_e300_lr0002_1205/cyst/DCGAN_cyst_%s.jpg' %(n1),'JPEG')\n",
        "        #             n1 += 1\n",
        "        #         if data[1][j] == 1:\n",
        "        #             save_image(fake[j],'/content/dcgan_Result_b8_e300_lr0002_1205/hema/DCGAN_hema_%s.jpg' %(n2),'JPEG')\n",
        "        #             n2 += 1\n",
        "        #         if data[1][j] == 2:\n",
        "        #             save_image(fake[j],'/content/dcgan_Result_b8_e300_lr0002_1205/meta/DCGAN_meta_%s.jpg' %(n3),'JPEG')\n",
        "        #             n3 += 1\n",
        "        \n",
        "        \n",
        "        if epoch == (num_epochs-1):\n",
        "            for j in range(len(data[1])):\n",
        "                save_image(fake[j],'/content/test2/hema/DCGAN_hema_%s.jpg' %(n4),'JPEG')\n",
        "                n4 += 1\n",
        "\n",
        "        img_list2.append(fake)\n",
        "        iters += 1"
      ],
      "metadata": {
        "colab": {
          "base_uri": "https://localhost:8080/"
        },
        "id": "p4JdWfbxI8aB",
        "outputId": "2b4d40a8-1a0b-4e93-ff40-7d8c1c60b46c"
      },
      "execution_count": 16,
      "outputs": [
        {
          "output_type": "stream",
          "name": "stdout",
          "text": [
            "Starting Training Loop...\n",
            "[1/100][0/5]tLoss_D: 1.6202 tLoss_G: 0.6119 tD(x): 0.6798 tD(G(z)): 0.6537 / 0.5546\n",
            "[2/100][0/5]tLoss_D: 2.2764 tLoss_G: 0.4901 tD(x): 0.6217 tD(G(z)): 0.7280 / 0.6842\n",
            "[3/100][0/5]tLoss_D: 2.1900 tLoss_G: 0.3624 tD(x): 0.5681 tD(G(z)): 0.7715 / 0.7071\n",
            "[4/100][0/5]tLoss_D: 2.6317 tLoss_G: 0.3548 tD(x): 0.4669 tD(G(z)): 0.7750 / 0.7230\n",
            "[5/100][0/5]tLoss_D: 2.2957 tLoss_G: 0.6549 tD(x): 0.4166 tD(G(z)): 0.6539 / 0.5980\n",
            "[6/100][0/5]tLoss_D: 2.5236 tLoss_G: 0.4418 tD(x): 0.4623 tD(G(z)): 0.7385 / 0.6752\n",
            "[7/100][0/5]tLoss_D: 2.5411 tLoss_G: 0.4907 tD(x): 0.4214 tD(G(z)): 0.7075 / 0.6565\n",
            "[8/100][0/5]tLoss_D: 2.3529 tLoss_G: 0.5035 tD(x): 0.4692 tD(G(z)): 0.7115 / 0.6575\n",
            "[9/100][0/5]tLoss_D: 2.1624 tLoss_G: 0.5122 tD(x): 0.4957 tD(G(z)): 0.6974 / 0.6378\n",
            "[10/100][0/5]tLoss_D: 2.0861 tLoss_G: 0.5070 tD(x): 0.5030 tD(G(z)): 0.6871 / 0.6226\n",
            "[11/100][0/5]tLoss_D: 2.4797 tLoss_G: 0.3597 tD(x): 0.5260 tD(G(z)): 0.7958 / 0.7236\n",
            "[12/100][0/5]tLoss_D: 2.2340 tLoss_G: 0.4303 tD(x): 0.5038 tD(G(z)): 0.7355 / 0.6659\n",
            "[13/100][0/5]tLoss_D: 2.0078 tLoss_G: 0.5336 tD(x): 0.5917 tD(G(z)): 0.7026 / 0.6318\n",
            "[14/100][0/5]tLoss_D: 2.4446 tLoss_G: 0.4588 tD(x): 0.4282 tD(G(z)): 0.7338 / 0.6603\n",
            "[15/100][0/5]tLoss_D: 2.5013 tLoss_G: 0.4252 tD(x): 0.4655 tD(G(z)): 0.7642 / 0.6791\n",
            "[16/100][0/5]tLoss_D: 2.0825 tLoss_G: 0.5890 tD(x): 0.5043 tD(G(z)): 0.6787 / 0.5986\n",
            "[17/100][0/5]tLoss_D: 2.2802 tLoss_G: 0.5840 tD(x): 0.5514 tD(G(z)): 0.6981 / 0.6344\n",
            "[18/100][0/5]tLoss_D: 2.2160 tLoss_G: 0.5698 tD(x): 0.4573 tD(G(z)): 0.6939 / 0.6161\n",
            "[19/100][0/5]tLoss_D: 2.3405 tLoss_G: 0.7246 tD(x): 0.5648 tD(G(z)): 0.7280 / 0.6459\n",
            "[20/100][0/5]tLoss_D: 2.0741 tLoss_G: 0.5445 tD(x): 0.5453 tD(G(z)): 0.7053 / 0.6126\n",
            "[21/100][0/5]tLoss_D: 2.0518 tLoss_G: 0.5021 tD(x): 0.5775 tD(G(z)): 0.7237 / 0.6393\n",
            "[22/100][0/5]tLoss_D: 2.3935 tLoss_G: 0.4967 tD(x): 0.5809 tD(G(z)): 0.7532 / 0.6704\n",
            "[23/100][0/5]tLoss_D: 2.3099 tLoss_G: 0.4949 tD(x): 0.4987 tD(G(z)): 0.7436 / 0.6336\n",
            "[24/100][0/5]tLoss_D: 2.2317 tLoss_G: 0.5247 tD(x): 0.5239 tD(G(z)): 0.7203 / 0.6315\n",
            "[25/100][0/5]tLoss_D: 2.6864 tLoss_G: 0.3582 tD(x): 0.4211 tD(G(z)): 0.8078 / 0.7068\n",
            "[26/100][0/5]tLoss_D: 2.4646 tLoss_G: 0.4146 tD(x): 0.5409 tD(G(z)): 0.7752 / 0.6969\n",
            "[27/100][0/5]tLoss_D: 2.6276 tLoss_G: 0.3870 tD(x): 0.4786 tD(G(z)): 0.8107 / 0.6946\n",
            "[28/100][0/5]tLoss_D: 2.6821 tLoss_G: 0.3702 tD(x): 0.5104 tD(G(z)): 0.8147 / 0.7100\n",
            "[29/100][0/5]tLoss_D: 2.6648 tLoss_G: 0.3774 tD(x): 0.4893 tD(G(z)): 0.8084 / 0.7185\n",
            "[30/100][0/5]tLoss_D: 2.3526 tLoss_G: 0.5700 tD(x): 0.4526 tD(G(z)): 0.7248 / 0.5970\n",
            "[31/100][0/5]tLoss_D: 2.3450 tLoss_G: 0.6117 tD(x): 0.4274 tD(G(z)): 0.6966 / 0.5862\n",
            "[32/100][0/5]tLoss_D: 2.9070 tLoss_G: 0.3454 tD(x): 0.5565 tD(G(z)): 0.8440 / 0.7297\n",
            "[33/100][0/5]tLoss_D: 3.1608 tLoss_G: 0.2772 tD(x): 0.4684 tD(G(z)): 0.8580 / 0.7770\n",
            "[34/100][0/5]tLoss_D: 2.6638 tLoss_G: 0.5268 tD(x): 0.4256 tD(G(z)): 0.7480 / 0.6379\n",
            "[35/100][0/5]tLoss_D: 2.4364 tLoss_G: 0.4455 tD(x): 0.5393 tD(G(z)): 0.7913 / 0.6671\n",
            "[36/100][0/5]tLoss_D: 2.9759 tLoss_G: 0.4165 tD(x): 0.4424 tD(G(z)): 0.8108 / 0.6913\n",
            "[37/100][0/5]tLoss_D: 2.4791 tLoss_G: 0.5722 tD(x): 0.4517 tD(G(z)): 0.7306 / 0.6020\n",
            "[38/100][0/5]tLoss_D: 2.4243 tLoss_G: 0.5349 tD(x): 0.4788 tD(G(z)): 0.7504 / 0.6059\n",
            "[39/100][0/5]tLoss_D: 2.7286 tLoss_G: 0.4212 tD(x): 0.5000 tD(G(z)): 0.8157 / 0.6756\n",
            "[40/100][0/5]tLoss_D: 2.3868 tLoss_G: 0.4842 tD(x): 0.4990 tD(G(z)): 0.7626 / 0.6318\n",
            "[41/100][0/5]tLoss_D: 2.1650 tLoss_G: 0.6883 tD(x): 0.4825 tD(G(z)): 0.6614 / 0.5389\n",
            "[42/100][0/5]tLoss_D: 2.6259 tLoss_G: 0.5603 tD(x): 0.3935 tD(G(z)): 0.7430 / 0.5966\n",
            "[43/100][0/5]tLoss_D: 2.4344 tLoss_G: 0.5168 tD(x): 0.5311 tD(G(z)): 0.7809 / 0.6364\n",
            "[44/100][0/5]tLoss_D: 2.2811 tLoss_G: 0.5854 tD(x): 0.4694 tD(G(z)): 0.7271 / 0.5913\n",
            "[45/100][0/5]tLoss_D: 3.0065 tLoss_G: 0.4346 tD(x): 0.3574 tD(G(z)): 0.7870 / 0.6780\n",
            "[46/100][0/5]tLoss_D: 2.7039 tLoss_G: 0.4624 tD(x): 0.4571 tD(G(z)): 0.7911 / 0.6586\n",
            "[47/100][0/5]tLoss_D: 1.9402 tLoss_G: 0.7575 tD(x): 0.5233 tD(G(z)): 0.6438 / 0.5119\n",
            "[48/100][0/5]tLoss_D: 2.6869 tLoss_G: 0.3408 tD(x): 0.5778 tD(G(z)): 0.8536 / 0.7183\n",
            "[49/100][0/5]tLoss_D: 2.4023 tLoss_G: 0.5775 tD(x): 0.4167 tD(G(z)): 0.7320 / 0.5819\n",
            "[50/100][0/5]tLoss_D: 1.9751 tLoss_G: 0.8531 tD(x): 0.4623 tD(G(z)): 0.6166 / 0.4681\n",
            "[51/100][0/5]tLoss_D: 2.1514 tLoss_G: 0.7485 tD(x): 0.4498 tD(G(z)): 0.6722 / 0.5406\n",
            "[52/100][0/5]tLoss_D: 2.7216 tLoss_G: 0.4378 tD(x): 0.4285 tD(G(z)): 0.7937 / 0.6591\n",
            "[53/100][0/5]tLoss_D: 2.3163 tLoss_G: 0.7257 tD(x): 0.4000 tD(G(z)): 0.6745 / 0.5383\n",
            "[54/100][0/5]tLoss_D: 2.5796 tLoss_G: 0.5393 tD(x): 0.4023 tD(G(z)): 0.7398 / 0.6108\n",
            "[55/100][0/5]tLoss_D: 2.3615 tLoss_G: 0.5700 tD(x): 0.4282 tD(G(z)): 0.7168 / 0.5873\n",
            "[56/100][0/5]tLoss_D: 2.6667 tLoss_G: 0.5587 tD(x): 0.3644 tD(G(z)): 0.7249 / 0.6089\n",
            "[57/100][0/5]tLoss_D: 2.1542 tLoss_G: 0.5559 tD(x): 0.5102 tD(G(z)): 0.7293 / 0.5899\n",
            "[58/100][0/5]tLoss_D: 2.1619 tLoss_G: 0.5534 tD(x): 0.5033 tD(G(z)): 0.7389 / 0.5863\n",
            "[59/100][0/5]tLoss_D: 2.1965 tLoss_G: 0.7038 tD(x): 0.5158 tD(G(z)): 0.7052 / 0.5813\n",
            "[60/100][0/5]tLoss_D: 2.1832 tLoss_G: 0.6095 tD(x): 0.4914 tD(G(z)): 0.7015 / 0.5920\n",
            "[61/100][0/5]tLoss_D: 2.5280 tLoss_G: 0.4990 tD(x): 0.4127 tD(G(z)): 0.7726 / 0.6182\n",
            "[62/100][0/5]tLoss_D: 2.2613 tLoss_G: 0.6849 tD(x): 0.3502 tD(G(z)): 0.6646 / 0.5187\n",
            "[63/100][0/5]tLoss_D: 2.7465 tLoss_G: 0.4412 tD(x): 0.3911 tD(G(z)): 0.7920 / 0.6640\n",
            "[64/100][0/5]tLoss_D: 2.2391 tLoss_G: 0.5793 tD(x): 0.4759 tD(G(z)): 0.7288 / 0.5849\n",
            "[65/100][0/5]tLoss_D: 2.7641 tLoss_G: 0.4111 tD(x): 0.3643 tD(G(z)): 0.7996 / 0.6701\n",
            "[66/100][0/5]tLoss_D: 2.0447 tLoss_G: 0.5602 tD(x): 0.5143 tD(G(z)): 0.7194 / 0.5804\n",
            "[67/100][0/5]tLoss_D: 2.3318 tLoss_G: 0.8191 tD(x): 0.3189 tD(G(z)): 0.6144 / 0.4905\n",
            "[68/100][0/5]tLoss_D: 2.4343 tLoss_G: 0.5523 tD(x): 0.3966 tD(G(z)): 0.7347 / 0.5927\n",
            "[69/100][0/5]tLoss_D: 2.3366 tLoss_G: 0.5144 tD(x): 0.4165 tD(G(z)): 0.7342 / 0.6026\n",
            "[70/100][0/5]tLoss_D: 2.4645 tLoss_G: 0.5896 tD(x): 0.3304 tD(G(z)): 0.6887 / 0.5639\n",
            "[71/100][0/5]tLoss_D: 2.2133 tLoss_G: 0.6421 tD(x): 0.4406 tD(G(z)): 0.6861 / 0.5628\n",
            "[72/100][0/5]tLoss_D: 1.9735 tLoss_G: 0.7769 tD(x): 0.4105 tD(G(z)): 0.6147 / 0.4790\n",
            "[73/100][0/5]tLoss_D: 2.4331 tLoss_G: 0.6312 tD(x): 0.3176 tD(G(z)): 0.6736 / 0.5521\n",
            "[74/100][0/5]tLoss_D: 2.1910 tLoss_G: 0.6903 tD(x): 0.3830 tD(G(z)): 0.6531 / 0.5192\n",
            "[75/100][0/5]tLoss_D: 1.7221 tLoss_G: 0.8964 tD(x): 0.4417 tD(G(z)): 0.5440 / 0.4428\n",
            "[76/100][0/5]tLoss_D: 2.3216 tLoss_G: 0.9893 tD(x): 0.2411 tD(G(z)): 0.5135 / 0.4116\n",
            "[77/100][0/5]tLoss_D: 2.2604 tLoss_G: 0.6689 tD(x): 0.3569 tD(G(z)): 0.6385 / 0.5394\n",
            "[78/100][0/5]tLoss_D: 2.7650 tLoss_G: 0.4507 tD(x): 0.3370 tD(G(z)): 0.7657 / 0.6580\n",
            "[79/100][0/5]tLoss_D: 2.3409 tLoss_G: 0.7208 tD(x): 0.3239 tD(G(z)): 0.6441 / 0.5450\n",
            "[80/100][0/5]tLoss_D: 2.3831 tLoss_G: 0.5409 tD(x): 0.3806 tD(G(z)): 0.7087 / 0.5999\n",
            "[81/100][0/5]tLoss_D: 2.1565 tLoss_G: 0.7003 tD(x): 0.3957 tD(G(z)): 0.6460 / 0.5206\n",
            "[82/100][0/5]tLoss_D: 2.2354 tLoss_G: 0.6050 tD(x): 0.4247 tD(G(z)): 0.6865 / 0.5690\n",
            "[83/100][0/5]tLoss_D: 2.6641 tLoss_G: 0.4657 tD(x): 0.3462 tD(G(z)): 0.7433 / 0.6437\n",
            "[84/100][0/5]tLoss_D: 2.6306 tLoss_G: 0.3910 tD(x): 0.3802 tD(G(z)): 0.7912 / 0.6799\n",
            "[85/100][0/5]tLoss_D: 2.5796 tLoss_G: 0.4033 tD(x): 0.4035 tD(G(z)): 0.7874 / 0.6757\n",
            "[86/100][0/5]tLoss_D: 2.1794 tLoss_G: 0.7329 tD(x): 0.4368 tD(G(z)): 0.6529 / 0.5672\n",
            "[87/100][0/5]tLoss_D: 1.9525 tLoss_G: 0.9032 tD(x): 0.3624 tD(G(z)): 0.5438 / 0.4531\n",
            "[88/100][0/5]tLoss_D: 2.0766 tLoss_G: 0.6105 tD(x): 0.4289 tD(G(z)): 0.6675 / 0.5537\n",
            "[89/100][0/5]tLoss_D: 1.9647 tLoss_G: 0.6843 tD(x): 0.4453 tD(G(z)): 0.6449 / 0.5183\n",
            "[90/100][0/5]tLoss_D: 1.8128 tLoss_G: 0.7822 tD(x): 0.4453 tD(G(z)): 0.5768 / 0.4871\n",
            "[91/100][0/5]tLoss_D: 2.2297 tLoss_G: 0.5186 tD(x): 0.4532 tD(G(z)): 0.7302 / 0.6082\n",
            "[92/100][0/5]tLoss_D: 1.8525 tLoss_G: 0.8291 tD(x): 0.3771 tD(G(z)): 0.5469 / 0.4456\n",
            "[93/100][0/5]tLoss_D: 2.0853 tLoss_G: 0.7969 tD(x): 0.3512 tD(G(z)): 0.5664 / 0.4719\n",
            "[94/100][0/5]tLoss_D: 2.1227 tLoss_G: 0.8313 tD(x): 0.3189 tD(G(z)): 0.5715 / 0.4655\n",
            "[95/100][0/5]tLoss_D: 2.1245 tLoss_G: 0.7881 tD(x): 0.3505 tD(G(z)): 0.5980 / 0.4717\n",
            "[96/100][0/5]tLoss_D: 2.1080 tLoss_G: 0.5024 tD(x): 0.5060 tD(G(z)): 0.7261 / 0.6142\n",
            "[97/100][0/5]tLoss_D: 2.0461 tLoss_G: 0.5448 tD(x): 0.5012 tD(G(z)): 0.7121 / 0.5926\n",
            "[98/100][0/5]tLoss_D: 1.7844 tLoss_G: 0.6916 tD(x): 0.5206 tD(G(z)): 0.6330 / 0.5209\n",
            "[99/100][0/5]tLoss_D: 1.8211 tLoss_G: 0.6812 tD(x): 0.4957 tD(G(z)): 0.6362 / 0.5187\n",
            "[100/100][0/5]tLoss_D: 1.5563 tLoss_G: 0.9739 tD(x): 0.4985 tD(G(z)): 0.5211 / 0.4088\n"
          ]
        }
      ]
    },
    {
      "cell_type": "code",
      "source": [],
      "metadata": {
        "id": "rUqiy1NOI8e-"
      },
      "execution_count": 18,
      "outputs": []
    },
    {
      "cell_type": "code",
      "source": [
        "# 가중치 조절 후\n",
        "print(\n",
        "'epoch', num_epochs,\n",
        "'model_G_state_dict', netG.state_dict(),\n",
        "'model_D_state_dict', netD.state_dict()\n",
        ")"
      ],
      "metadata": {
        "id": "GWVBFAd_I8hm"
      },
      "execution_count": null,
      "outputs": []
    },
    {
      "cell_type": "code",
      "source": [
        "print(\n",
        "'optimizer_G_state_dict', optimizerG.state_dict(),\n",
        "'optimizer_D_state_dict', optimizerD.state_dict()\n",
        ")"
      ],
      "metadata": {
        "id": "GvYKr30GI8kL"
      },
      "execution_count": null,
      "outputs": []
    },
    {
      "cell_type": "code",
      "source": [
        "for j in range(len(data[1])):\n",
        "    # if data[1][j] == 0:\n",
        "    #     save_image(fake[j],'/content/test2/cyst/DCGAN_cyst_%s.jpg' %(n1),'JPEG')\n",
        "    #     n1 += 1\n",
        "    # if data[1][j] == 1:\n",
        "        save_image(fake[j],'/content/test2/hema/DCGAN_hema_%s.jpg' %(n2),'JPEG')\n",
        "        n2 += 1\n",
        "    # if data[1][j] == 2:\n",
        "    #     save_image(fake[j],'/content/test2/meta/DCGAN_meta_%s.jpg' %(n3),'JPEG')\n",
        "    #     n3 += 1"
      ],
      "metadata": {
        "id": "5F16z5-yI8nC"
      },
      "execution_count": null,
      "outputs": []
    },
    {
      "cell_type": "code",
      "source": [
        "len(img_list2)"
      ],
      "metadata": {
        "id": "j7S5b4jfjGRz",
        "colab": {
          "base_uri": "https://localhost:8080/"
        },
        "outputId": "2503076c-9bbe-400a-8ea6-b2ab315bd10d"
      },
      "execution_count": null,
      "outputs": [
        {
          "output_type": "execute_result",
          "data": {
            "text/plain": [
              "2580"
            ]
          },
          "metadata": {},
          "execution_count": 22
        }
      ]
    },
    {
      "cell_type": "code",
      "source": [
        "torch.save({\n",
        "    'epoch': num_epochs,\n",
        "    'model_G_state_dict': netG.state_dict(),\n",
        "    'model_D_state_dict': netD.state_dict(),\n",
        "    'optimizer_G_state_dict': optimizerG.state_dict(),\n",
        "    'optimizer_D_state_dict': optimizerD.state_dict()\n",
        "}, 'model_weights_e150b16r0001.pth')"
      ],
      "metadata": {
        "id": "Q3ATO5Zcfzkm"
      },
      "execution_count": 24,
      "outputs": []
    },
    {
      "cell_type": "code",
      "source": [
        "# torch.load('model_weights.pth')"
      ],
      "metadata": {
        "id": "RlzWHKiqfznq"
      },
      "execution_count": null,
      "outputs": []
    },
    {
      "cell_type": "code",
      "source": [
        "print(\n",
        "'epoch', num_epochs,\n",
        "'model_G_state_dict', netG.state_dict(),\n",
        "'model_D_state_dict', netD.state_dict(),\n",
        "'optimizer_G_state_dict', optimizerG.state_dict(),\n",
        "'optimizer_D_state_dict', optimizerD.state_dict()\n",
        ")"
      ],
      "metadata": {
        "colab": {
          "base_uri": "https://localhost:8080/"
        },
        "id": "jOh6gYLxsq7Z",
        "outputId": "f524ef6a-8917-4170-dd0e-559822c1edcd"
      },
      "execution_count": null,
      "outputs": [
        {
          "output_type": "stream",
          "name": "stdout",
          "text": [
            "epoch 30\n"
          ]
        }
      ]
    },
    {
      "cell_type": "code",
      "source": [
        "netG"
      ],
      "metadata": {
        "id": "Uyir7t7RF2Y8"
      },
      "execution_count": null,
      "outputs": []
    },
    {
      "cell_type": "code",
      "source": [
        "netG.apply(weights_init)"
      ],
      "metadata": {
        "id": "4tUr47eQtYww"
      },
      "execution_count": null,
      "outputs": []
    },
    {
      "cell_type": "code",
      "source": [
        "plt.figure(figsize=(10,5))\n",
        "plt.title(\"Generator and Discriminator Loss During Training\")\n",
        "plt.plot(G_losses,label=\"G\")\n",
        "plt.plot(D_losses,label=\"D\")\n",
        "plt.xlabel(\"iterations\")\n",
        "plt.ylabel(\"Loss\")\n",
        "plt.legend()\n",
        "plt.show()"
      ],
      "metadata": {
        "colab": {
          "base_uri": "https://localhost:8080/",
          "height": 350
        },
        "id": "mZGsXH1m34oI",
        "outputId": "85b888a4-749f-48d5-e63b-cb3579af874c"
      },
      "execution_count": 17,
      "outputs": [
        {
          "output_type": "display_data",
          "data": {
            "text/plain": [
              "<Figure size 720x360 with 1 Axes>"
            ],
            "image/png": "[encoded data removed]"
          },
          "metadata": {
            "needs_background": "light"
          }
        }
      ]
    },
    {
      "cell_type": "code",
      "source": [
        "len(img_list2)"
      ],
      "metadata": {
        "colab": {
          "base_uri": "https://localhost:8080/"
        },
        "id": "aP6hip_Yj_s6",
        "outputId": "a791a4d5-60d4-4efa-aa0f-f6711584e60d"
      },
      "execution_count": 18,
      "outputs": [
        {
          "output_type": "execute_result",
          "data": {
            "text/plain": [
              "500"
            ]
          },
          "metadata": {},
          "execution_count": 18
        }
      ]
    },
    {
      "cell_type": "code",
      "source": [
        "#dip\n",
        "#생성된 이미지 확인\n",
        "from torchvision.utils import save_image\n",
        "transform = transforms.Grayscale()\n",
        "\n",
        "save_image(img_list2[1], 'image_name1-1.png')\n",
        "save_image(img_list2[2], 'image_name1-2.png')\n",
        "save_image(img_list2[3], 'image_name1-3.png')\n",
        "save_image(img_list2[4], 'image_name1-4.png')\n",
        "save_image(img_list2[5], 'image_name1-5.png')\n",
        "# save_image(img_list2[494], 'image_name1-6.png')\n",
        "# save_image(img_list2[6500], 'image_name1-7.png')\n",
        "# save_image(img_list2[6600], 'image_name1-8.png')\n",
        "# save_image(img_list2[6700], 'image_name1-9.png')"
      ],
      "metadata": {
        "id": "HD-rWblb34qx"
      },
      "execution_count": 20,
      "outputs": []
    },
    {
      "cell_type": "code",
      "source": [
        "from google.colab import files\n",
        "files.download('/content/dcgan_hema_Result_1.zip')"
      ],
      "metadata": {
        "colab": {
          "base_uri": "https://localhost:8080/",
          "height": 34
        },
        "id": "BmGxts-qjGZC",
        "outputId": "06c7fa45-f291-4c42-847d-a4d8a5d9a646"
      },
      "execution_count": null,
      "outputs": [
        {
          "output_type": "display_data",
          "data": {
            "text/plain": [
              "<IPython.core.display.Javascript object>"
            ],
            "application/javascript": [
              "\n",
              "    async function download(id, filename, size) {\n",
              "      if (!google.colab.kernel.accessAllowed) {\n",
              "        return;\n",
              "      }\n",
              "      const div = document.createElement('div');\n",
              "      const label = document.createElement('label');\n",
              "      label.textContent = `Downloading \"${filename}\": `;\n",
              "      div.appendChild(label);\n",
              "      const progress = document.createElement('progress');\n",
              "      progress.max = size;\n",
              "      div.appendChild(progress);\n",
              "      document.body.appendChild(div);\n",
              "\n",
              "      const buffers = [];\n",
              "      let downloaded = 0;\n",
              "\n",
              "      const channel = await google.colab.kernel.comms.open(id);\n",
              "      // Send a message to notify the kernel that we're ready.\n",
              "      channel.send({})\n",
              "\n",
              "      for await (const message of channel.messages) {\n",
              "        // Send a message to notify the kernel that we're ready.\n",
              "        channel.send({})\n",
              "        if (message.buffers) {\n",
              "          for (const buffer of message.buffers) {\n",
              "            buffers.push(buffer);\n",
              "            downloaded += buffer.byteLength;\n",
              "            progress.value = downloaded;\n",
              "          }\n",
              "        }\n",
              "      }\n",
              "      const blob = new Blob(buffers, {type: 'application/binary'});\n",
              "      const a = document.createElement('a');\n",
              "      a.href = window.URL.createObjectURL(blob);\n",
              "      a.download = filename;\n",
              "      div.appendChild(a);\n",
              "      a.click();\n",
              "      div.remove();\n",
              "    }\n",
              "  "
            ]
          },
          "metadata": {}
        },
        {
          "output_type": "display_data",
          "data": {
            "text/plain": [
              "<IPython.core.display.Javascript object>"
            ],
            "application/javascript": [
              "download(\"download_34f240db-4cb4-4f44-9b65-8bbb657ba820\", \"dcgan_hema_Result_1.zip\", 2301465)"
            ]
          },
          "metadata": {}
        }
      ]
    },
    {
      "cell_type": "code",
      "execution_count": null,
      "metadata": {
        "id": "p_bQ7t2EZAk1"
      },
      "outputs": [],
      "source": [
        "real_batch = next(iter(dataloader))\n",
        "\n",
        "# Plot the real images (진짜 이미지 화면 출력)\n",
        "\n",
        "plt.figure(figsize=(15,15))\n",
        "plt.subplot(1,2,1)\n",
        "plt.axis(\"off\")\n",
        "plt.title(\"Real Images\")\n",
        "plt.imshow(np.transpose(vutils.make_grid(real_batch[0].to(device)[:64], padding=5, normalize=True).cpu(),(1,2,0)))\n",
        "\n",
        "\n",
        "# Plot the fake images from the last epoch (가짜 이미지 화면 출력)\n",
        "\n",
        "plt.subplot(1,2,2)\n",
        "plt.axis(\"off\")\n",
        "plt.title(\"Fake Images\")\n",
        "plt.imshow(np.transpose(img_list2[-1],(1,2,0)))\n",
        "plt.show()"
      ]
    },
    {
      "cell_type": "code",
      "execution_count": null,
      "metadata": {
        "id": "PkTImPtjZAiO"
      },
      "outputs": [],
      "source": [
        "fig = plt.figure(figsize=(8,8))\n",
        "plt.axis(\"off\")\n",
        "ims = [[plt.imshow(np.transpose(i,(1,2,0)), animated=True)] for i in img_list]\n",
        "ani = animation.ArtistAnimation(fig, ims, interval=1000, repeat_delay=1000, blit=True)\n",
        "HTML(ani.to_jshtml())"
      ]
    },
    {
      "cell_type": "code",
      "source": [],
      "metadata": {
        "id": "u2a38i_LTn_P"
      },
      "execution_count": null,
      "outputs": []
    },
    {
      "cell_type": "code",
      "source": [
        "# finetuning"
      ],
      "metadata": {
        "id": "WK10XUscTpkE"
      },
      "execution_count": null,
      "outputs": []
    },
    {
      "cell_type": "code",
      "source": [
        "from __future__ import print_function\n",
        "from __future__ import division\n",
        "import torch\n",
        "import torch.nn as nn\n",
        "import torch.optim as optim\n",
        "import numpy as np\n",
        "import torchvision\n",
        "from torchvision import datasets, models, transforms\n",
        "import matplotlib.pyplot as plt\n",
        "import time\n",
        "import os\n",
        "import copy\n",
        "print(\"PyTorch Version: \",torch.__version__)\n",
        "print(\"Torchvision Version: \",torchvision.__version__)"
      ],
      "metadata": {
        "colab": {
          "base_uri": "https://localhost:8080/"
        },
        "id": "u2K2qK3iTpmb",
        "outputId": "cb56a45f-875d-4f03-f2e4-5b0cac4acdb0"
      },
      "execution_count": null,
      "outputs": [
        {
          "output_type": "stream",
          "name": "stdout",
          "text": [
            "PyTorch Version:  1.13.0+cu116\n",
            "Torchvision Version:  0.14.0+cu116\n"
          ]
        }
      ]
    },
    {
      "cell_type": "code",
      "source": [
        "# Top level data directory. Here we assume the format of the directory conforms\n",
        "#   to the ImageFolder structure\n",
        "data_dir = \"/content/drive/MyDrive/dataset_patch_220117/\"\n",
        "\n",
        "# Models to choose from [resnet, alexnet, vgg, squeezenet, densenet, inception]\n",
        "model_name = \"vgg\"\n",
        "\n",
        "# Number of classes in the dataset\n",
        "num_classes = 3\n",
        "\n",
        "# Batch size for training (change depending on how much memory you have)\n",
        "batch_size = 8\n",
        "\n",
        "# Number of epochs to train for\n",
        "num_epochs = 15\n",
        "\n",
        "# Flag for feature extracting. When False, we finetune the whole model,\n",
        "#   when True we only update the reshaped layer params\n",
        "feature_extract = True"
      ],
      "metadata": {
        "id": "8AiW6z2mTppB"
      },
      "execution_count": null,
      "outputs": []
    },
    {
      "cell_type": "code",
      "source": [
        "def train_model(model, dataloaders, criterion, optimizer, num_epochs=25, is_inception=False):\n",
        "    since = time.time()\n",
        "\n",
        "    val_acc_history = []\n",
        "\n",
        "    best_model_wts = copy.deepcopy(model.state_dict())\n",
        "    best_acc = 0.0\n",
        "\n",
        "    for epoch in range(num_epochs):\n",
        "        print('Epoch {}/{}'.format(epoch, num_epochs - 1))\n",
        "        print('-' * 10)\n",
        "\n",
        "        # Each epoch has a training and validation phase\n",
        "        for phase in ['train', 'val']:\n",
        "            if phase == 'train':\n",
        "                model.train()  # Set model to training mode\n",
        "            else:\n",
        "                model.eval()   # Set model to evaluate mode\n",
        "\n",
        "            running_loss = 0.0\n",
        "            running_corrects = 0\n",
        "\n",
        "            # Iterate over data.\n",
        "            for inputs, labels in dataloaders[phase]:\n",
        "                inputs = inputs.to(device)\n",
        "                labels = labels.to(device)\n",
        "\n",
        "                # zero the parameter gradients\n",
        "                optimizer.zero_grad()\n",
        "\n",
        "                # forward\n",
        "                # track history if only in train\n",
        "                with torch.set_grad_enabled(phase == 'train'):\n",
        "                    # Get model outputs and calculate loss\n",
        "                    # Special case for inception because in training it has an auxiliary output. In train\n",
        "                    #   mode we calculate the loss by summing the final output and the auxiliary output\n",
        "                    #   but in testing we only consider the final output.\n",
        "                    if is_inception and phase == 'train':\n",
        "                        # From https://discuss.pytorch.org/t/how-to-optimize-inception-model-with-auxiliary-classifiers/7958\n",
        "                        outputs, aux_outputs = model(inputs)\n",
        "                        loss1 = criterion(outputs, labels)\n",
        "                        loss2 = criterion(aux_outputs, labels)\n",
        "                        loss = loss1 + 0.4*loss2\n",
        "                    else:\n",
        "                        outputs = model(inputs)\n",
        "                        loss = criterion(outputs, labels)\n",
        "\n",
        "                    _, preds = torch.max(outputs, 1)\n",
        "\n",
        "                    # backward + optimize only if in training phase\n",
        "                    if phase == 'train':\n",
        "                        loss.backward()\n",
        "                        optimizer.step()\n",
        "\n",
        "                # statistics\n",
        "                running_loss += loss.item() * inputs.size(0)\n",
        "                running_corrects += torch.sum(preds == labels.data)\n",
        "\n",
        "            epoch_loss = running_loss / len(dataloaders[phase].dataset)\n",
        "            epoch_acc = running_corrects.double() / len(dataloaders[phase].dataset)\n",
        "\n",
        "            print('{} Loss: {:.4f} Acc: {:.4f}'.format(phase, epoch_loss, epoch_acc))\n",
        "\n",
        "            # deep copy the model\n",
        "            if phase == 'val' and epoch_acc > best_acc:\n",
        "                best_acc = epoch_acc\n",
        "                best_model_wts = copy.deepcopy(model.state_dict())\n",
        "            if phase == 'val':\n",
        "                val_acc_history.append(epoch_acc)\n",
        "\n",
        "        print()\n",
        "\n",
        "    time_elapsed = time.time() - since\n",
        "    print('Training complete in {:.0f}m {:.0f}s'.format(time_elapsed // 60, time_elapsed % 60))\n",
        "    print('Best val Acc: {:4f}'.format(best_acc))\n",
        "\n",
        "    # load best model weights\n",
        "    model.load_state_dict(best_model_wts)\n",
        "    return model, val_acc_history"
      ],
      "metadata": {
        "id": "XyZgDXSnTprY"
      },
      "execution_count": null,
      "outputs": []
    },
    {
      "cell_type": "code",
      "source": [
        "def set_parameter_requires_grad(model, feature_extracting):\n",
        "    if feature_extracting:\n",
        "        for param in model.parameters():\n",
        "            param.requires_grad = False"
      ],
      "metadata": {
        "id": "lAGVL1ATTpt8"
      },
      "execution_count": null,
      "outputs": []
    },
    {
      "cell_type": "code",
      "source": [
        "def initialize_model(model_name, num_classes, feature_extract, use_pretrained=True):\n",
        "    # Initialize these variables which will be set in this if statement. Each of these\n",
        "    #   variables is model specific.\n",
        "    model_ft = None\n",
        "    input_size = 0\n",
        "\n",
        "    if model_name == \"resnet\":\n",
        "        \"\"\" Resnet18\n",
        "        \"\"\"\n",
        "        model_ft = models.resnet18(pretrained=use_pretrained)\n",
        "        set_parameter_requires_grad(model_ft, feature_extract)\n",
        "        num_ftrs = model_ft.fc.in_features\n",
        "        model_ft.fc = nn.Linear(num_ftrs, num_classes)\n",
        "        input_size = 224\n",
        "\n",
        "    elif model_name == \"alexnet\":\n",
        "        \"\"\" Alexnet\n",
        "        \"\"\"\n",
        "        model_ft = models.alexnet(pretrained=use_pretrained)\n",
        "        set_parameter_requires_grad(model_ft, feature_extract)\n",
        "        num_ftrs = model_ft.classifier[6].in_features\n",
        "        model_ft.classifier[6] = nn.Linear(num_ftrs,num_classes)\n",
        "        input_size = 224\n",
        "\n",
        "    elif model_name == \"vgg\":\n",
        "        \"\"\" VGG11_bn\n",
        "        \"\"\"\n",
        "        model_ft = models.vgg11_bn(pretrained=use_pretrained)\n",
        "        set_parameter_requires_grad(model_ft, feature_extract)\n",
        "        num_ftrs = model_ft.classifier[6].in_features\n",
        "        model_ft.classifier[6] = nn.Linear(num_ftrs,num_classes)\n",
        "        input_size = 224\n",
        "\n",
        "    elif model_name == \"squeezenet\":\n",
        "        \"\"\" Squeezenet\n",
        "        \"\"\"\n",
        "        model_ft = models.squeezenet1_0(pretrained=use_pretrained)\n",
        "        set_parameter_requires_grad(model_ft, feature_extract)\n",
        "        model_ft.classifier[1] = nn.Conv2d(512, num_classes, kernel_size=(1,1), stride=(1,1))\n",
        "        model_ft.num_classes = num_classes\n",
        "        input_size = 224\n",
        "\n",
        "    elif model_name == \"densenet\":\n",
        "        \"\"\" Densenet\n",
        "        \"\"\"\n",
        "        model_ft = models.densenet121(pretrained=use_pretrained)\n",
        "        set_parameter_requires_grad(model_ft, feature_extract)\n",
        "        num_ftrs = model_ft.classifier.in_features\n",
        "        model_ft.classifier = nn.Linear(num_ftrs, num_classes)\n",
        "        input_size = 224\n",
        "\n",
        "    elif model_name == \"inception\":\n",
        "        \"\"\" Inception v3\n",
        "        Be careful, expects (299,299) sized images and has auxiliary output\n",
        "        \"\"\"\n",
        "        model_ft = models.inception_v3(pretrained=use_pretrained)\n",
        "        set_parameter_requires_grad(model_ft, feature_extract)\n",
        "        # Handle the auxilary net\n",
        "        num_ftrs = model_ft.AuxLogits.fc.in_features\n",
        "        model_ft.AuxLogits.fc = nn.Linear(num_ftrs, num_classes)\n",
        "        # Handle the primary net\n",
        "        num_ftrs = model_ft.fc.in_features\n",
        "        model_ft.fc = nn.Linear(num_ftrs,num_classes)\n",
        "        input_size = 299\n",
        "\n",
        "    else:\n",
        "        print(\"Invalid model name, exiting...\")\n",
        "        exit()\n",
        "\n",
        "    return model_ft, input_size\n",
        "\n",
        "# Initialize the model for this run\n",
        "model_ft, input_size = initialize_model(model_name, num_classes, feature_extract, use_pretrained=True)\n",
        "\n",
        "# Print the model we just instantiated\n",
        "print(model_ft)"
      ],
      "metadata": {
        "colab": {
          "base_uri": "https://localhost:8080/"
        },
        "id": "ox6fKrYyTpwV",
        "outputId": "2ee20f48-05e4-4ee8-fbb3-8a00278d7eb0"
      },
      "execution_count": null,
      "outputs": [
        {
          "output_type": "stream",
          "name": "stdout",
          "text": [
            "VGG(\n",
            "  (features): Sequential(\n",
            "    (0): Conv2d(3, 64, kernel_size=(3, 3), stride=(1, 1), padding=(1, 1))\n",
            "    (1): BatchNorm2d(64, eps=1e-05, momentum=0.1, affine=True, track_running_stats=True)\n",
            "    (2): ReLU(inplace=True)\n",
            "    (3): MaxPool2d(kernel_size=2, stride=2, padding=0, dilation=1, ceil_mode=False)\n",
            "    (4): Conv2d(64, 128, kernel_size=(3, 3), stride=(1, 1), padding=(1, 1))\n",
            "    (5): BatchNorm2d(128, eps=1e-05, momentum=0.1, affine=True, track_running_stats=True)\n",
            "    (6): ReLU(inplace=True)\n",
            "    (7): MaxPool2d(kernel_size=2, stride=2, padding=0, dilation=1, ceil_mode=False)\n",
            "    (8): Conv2d(128, 256, kernel_size=(3, 3), stride=(1, 1), padding=(1, 1))\n",
            "    (9): BatchNorm2d(256, eps=1e-05, momentum=0.1, affine=True, track_running_stats=True)\n",
            "    (10): ReLU(inplace=True)\n",
            "    (11): Conv2d(256, 256, kernel_size=(3, 3), stride=(1, 1), padding=(1, 1))\n",
            "    (12): BatchNorm2d(256, eps=1e-05, momentum=0.1, affine=True, track_running_stats=True)\n",
            "    (13): ReLU(inplace=True)\n",
            "    (14): MaxPool2d(kernel_size=2, stride=2, padding=0, dilation=1, ceil_mode=False)\n",
            "    (15): Conv2d(256, 512, kernel_size=(3, 3), stride=(1, 1), padding=(1, 1))\n",
            "    (16): BatchNorm2d(512, eps=1e-05, momentum=0.1, affine=True, track_running_stats=True)\n",
            "    (17): ReLU(inplace=True)\n",
            "    (18): Conv2d(512, 512, kernel_size=(3, 3), stride=(1, 1), padding=(1, 1))\n",
            "    (19): BatchNorm2d(512, eps=1e-05, momentum=0.1, affine=True, track_running_stats=True)\n",
            "    (20): ReLU(inplace=True)\n",
            "    (21): MaxPool2d(kernel_size=2, stride=2, padding=0, dilation=1, ceil_mode=False)\n",
            "    (22): Conv2d(512, 512, kernel_size=(3, 3), stride=(1, 1), padding=(1, 1))\n",
            "    (23): BatchNorm2d(512, eps=1e-05, momentum=0.1, affine=True, track_running_stats=True)\n",
            "    (24): ReLU(inplace=True)\n",
            "    (25): Conv2d(512, 512, kernel_size=(3, 3), stride=(1, 1), padding=(1, 1))\n",
            "    (26): BatchNorm2d(512, eps=1e-05, momentum=0.1, affine=True, track_running_stats=True)\n",
            "    (27): ReLU(inplace=True)\n",
            "    (28): MaxPool2d(kernel_size=2, stride=2, padding=0, dilation=1, ceil_mode=False)\n",
            "  )\n",
            "  (avgpool): AdaptiveAvgPool2d(output_size=(7, 7))\n",
            "  (classifier): Sequential(\n",
            "    (0): Linear(in_features=25088, out_features=4096, bias=True)\n",
            "    (1): ReLU(inplace=True)\n",
            "    (2): Dropout(p=0.5, inplace=False)\n",
            "    (3): Linear(in_features=4096, out_features=4096, bias=True)\n",
            "    (4): ReLU(inplace=True)\n",
            "    (5): Dropout(p=0.5, inplace=False)\n",
            "    (6): Linear(in_features=4096, out_features=3, bias=True)\n",
            "  )\n",
            ")\n"
          ]
        }
      ]
    },
    {
      "cell_type": "code",
      "source": [
        "# Data augmentation and normalization for training\n",
        "# Just normalization for validation\n",
        "data_transforms = {\n",
        "    'train': transforms.Compose([\n",
        "        transforms.RandomResizedCrop(input_size),\n",
        "        transforms.RandomHorizontalFlip(),\n",
        "        transforms.ToTensor(),\n",
        "        transforms.Normalize([0.485, 0.456, 0.406], [0.229, 0.224, 0.225])\n",
        "    ]),\n",
        "    'val': transforms.Compose([\n",
        "        transforms.Resize(input_size),\n",
        "        transforms.CenterCrop(input_size),\n",
        "        transforms.ToTensor(),\n",
        "        transforms.Normalize([0.485, 0.456, 0.406], [0.229, 0.224, 0.225])\n",
        "    ]),\n",
        "}\n",
        "\n",
        "print(\"Initializing Datasets and Dataloaders...\")\n",
        "\n",
        "# Create training and validation datasets\n",
        "image_datasets = {x: datasets.ImageFolder(os.path.join(data_dir, x), data_transforms[x]) for x in ['train', 'val']}\n",
        "# Create training and validation dataloaders\n",
        "dataloaders_dict = {x: torch.utils.data.DataLoader(image_datasets[x], batch_size=batch_size, shuffle=True, num_workers=4) for x in ['train', 'val']}\n",
        "\n",
        "# Detect if we have a GPU available\n",
        "device = torch.device(\"cuda:0\" if torch.cuda.is_available() else \"cpu\")"
      ],
      "metadata": {
        "id": "oZ7neuosTpy4",
        "colab": {
          "base_uri": "https://localhost:8080/"
        },
        "outputId": "d55e1c93-427b-46f7-cef6-6da7683bdc3c"
      },
      "execution_count": null,
      "outputs": [
        {
          "output_type": "stream",
          "name": "stdout",
          "text": [
            "Initializing Datasets and Dataloaders...\n"
          ]
        },
        {
          "output_type": "stream",
          "name": "stderr",
          "text": [
            "/usr/local/lib/python3.8/dist-packages/torch/utils/data/dataloader.py:554: UserWarning: This DataLoader will create 4 worker processes in total. Our suggested max number of worker in current system is 2, which is smaller than what this DataLoader is going to create. Please be aware that excessive worker creation might get DataLoader running slow or even freeze, lower the worker number to avoid potential slowness/freeze if necessary.\n",
            "  warnings.warn(_create_warning_msg(\n"
          ]
        }
      ]
    },
    {
      "cell_type": "code",
      "source": [
        "# Send the model to GPU\n",
        "model_ft = model_ft.to(device)\n",
        "\n",
        "# Gather the parameters to be optimized/updated in this run. If we are\n",
        "#  finetuning we will be updating all parameters. However, if we are\n",
        "#  doing feature extract method, we will only update the parameters\n",
        "#  that we have just initialized, i.e. the parameters with requires_grad\n",
        "#  is True.\n",
        "params_to_update = model_ft.parameters()\n",
        "print(\"Params to learn:\")\n",
        "if feature_extract:\n",
        "    params_to_update = []\n",
        "    for name,param in model_ft.named_parameters():\n",
        "        if param.requires_grad == True:\n",
        "            params_to_update.append(param)\n",
        "            print(\"\\t\",name)\n",
        "else:\n",
        "    for name,param in model_ft.named_parameters():\n",
        "        if param.requires_grad == True:\n",
        "            print(\"\\t\",name)\n",
        "\n",
        "# Observe that all parameters are being optimized\n",
        "optimizer_ft = optim.SGD(params_to_update, lr=0.001, momentum=0.9)"
      ],
      "metadata": {
        "id": "sEG4vYt-Tp1Q",
        "colab": {
          "base_uri": "https://localhost:8080/"
        },
        "outputId": "fbb7efa3-19c1-4d94-bbdb-f082de6924ce"
      },
      "execution_count": null,
      "outputs": [
        {
          "output_type": "stream",
          "name": "stdout",
          "text": [
            "Params to learn:\n",
            "\t classifier.6.weight\n",
            "\t classifier.6.bias\n"
          ]
        }
      ]
    },
    {
      "cell_type": "code",
      "source": [
        "# Setup the loss fxn\n",
        "criterion = nn.CrossEntropyLoss()\n",
        "\n",
        "# Train and evaluate\n",
        "model_ft, hist = train_model(model_ft, dataloaders_dict, criterion, optimizer_ft, num_epochs=num_epochs, is_inception=(model_name==\"inception\"))"
      ],
      "metadata": {
        "id": "Yu1xFmwBTp33",
        "colab": {
          "base_uri": "https://localhost:8080/"
        },
        "outputId": "8f5e8927-c4c2-4827-b7f3-3e2f7ed4bbe3"
      },
      "execution_count": null,
      "outputs": [
        {
          "output_type": "stream",
          "name": "stdout",
          "text": [
            "Epoch 0/14\n",
            "----------\n",
            "train Loss: 0.9518 Acc: 0.6065\n",
            "val Loss: 1.1569 Acc: 0.3974\n",
            "\n",
            "Epoch 1/14\n",
            "----------\n",
            "train Loss: 0.8504 Acc: 0.6300\n",
            "val Loss: 1.1165 Acc: 0.4272\n",
            "\n",
            "Epoch 2/14\n",
            "----------\n",
            "train Loss: 0.8578 Acc: 0.6300\n",
            "val Loss: 0.8855 Acc: 0.5762\n",
            "\n",
            "Epoch 3/14\n",
            "----------\n",
            "train Loss: 0.9123 Acc: 0.6153\n",
            "val Loss: 1.1571 Acc: 0.4371\n",
            "\n",
            "Epoch 4/14\n",
            "----------\n",
            "train Loss: 0.8962 Acc: 0.6050\n",
            "val Loss: 0.9371 Acc: 0.5397\n",
            "\n",
            "Epoch 5/14\n",
            "----------\n",
            "train Loss: 0.8603 Acc: 0.6226\n",
            "val Loss: 1.1402 Acc: 0.4735\n",
            "\n",
            "Epoch 6/14\n",
            "----------\n",
            "train Loss: 0.8435 Acc: 0.6505\n",
            "val Loss: 1.1332 Acc: 0.4967\n",
            "\n",
            "Epoch 7/14\n",
            "----------\n",
            "train Loss: 0.8263 Acc: 0.6490\n",
            "val Loss: 0.9322 Acc: 0.5596\n",
            "\n",
            "Epoch 8/14\n",
            "----------\n",
            "train Loss: 0.9016 Acc: 0.5991\n",
            "val Loss: 0.9714 Acc: 0.5596\n",
            "\n",
            "Epoch 9/14\n",
            "----------\n",
            "train Loss: 0.8606 Acc: 0.6432\n",
            "val Loss: 0.9397 Acc: 0.5728\n",
            "\n",
            "Epoch 10/14\n",
            "----------\n",
            "train Loss: 0.8650 Acc: 0.6432\n",
            "val Loss: 0.9980 Acc: 0.5397\n",
            "\n",
            "Epoch 11/14\n",
            "----------\n",
            "train Loss: 0.8332 Acc: 0.6520\n",
            "val Loss: 0.8870 Acc: 0.5762\n",
            "\n",
            "Epoch 12/14\n",
            "----------\n",
            "train Loss: 0.8597 Acc: 0.6505\n",
            "val Loss: 0.9574 Acc: 0.5430\n",
            "\n",
            "Epoch 13/14\n",
            "----------\n",
            "train Loss: 0.8875 Acc: 0.6388\n",
            "val Loss: 1.3260 Acc: 0.4503\n",
            "\n",
            "Epoch 14/14\n",
            "----------\n",
            "train Loss: 0.8590 Acc: 0.6373\n",
            "val Loss: 1.0411 Acc: 0.5132\n",
            "\n",
            "Training complete in 2m 8s\n",
            "Best val Acc: 0.576159\n"
          ]
        }
      ]
    },
    {
      "cell_type": "code",
      "source": [
        "# Initialize the non-pretrained version of the model used for this run\n",
        "scratch_model,_ = initialize_model(model_name, num_classes, feature_extract=False, use_pretrained=False)\n",
        "scratch_model = scratch_model.to(device)\n",
        "scratch_optimizer = optim.SGD(scratch_model.parameters(), lr=0.001, momentum=0.9)\n",
        "scratch_criterion = nn.CrossEntropyLoss()\n",
        "_,scratch_hist = train_model(scratch_model, dataloaders_dict, scratch_criterion, scratch_optimizer, num_epochs=num_epochs, is_inception=(model_name==\"inception\"))\n",
        "\n",
        "# Plot the training curves of validation accuracy vs. number\n",
        "#  of training epochs for the transfer learning method and\n",
        "#  the model trained from scratch\n",
        "ohist = []\n",
        "shist = []\n",
        "\n",
        "ohist = [h.cpu().numpy() for h in hist]\n",
        "shist = [h.cpu().numpy() for h in scratch_hist]\n",
        "\n",
        "plt.title(\"Validation Accuracy vs. Number of Training Epochs\")\n",
        "plt.xlabel(\"Training Epochs\")\n",
        "plt.ylabel(\"Validation Accuracy\")\n",
        "plt.plot(range(1,num_epochs+1),ohist,label=\"Pretrained\")\n",
        "plt.plot(range(1,num_epochs+1),shist,label=\"Scratch\")\n",
        "plt.ylim((0,1.))\n",
        "plt.xticks(np.arange(1, num_epochs+1, 1.0))\n",
        "plt.legend()\n",
        "plt.show()"
      ],
      "metadata": {
        "id": "i5yV74P6Tp6e",
        "colab": {
          "base_uri": "https://localhost:8080/",
          "height": 1000
        },
        "outputId": "b288e2ab-8e4e-4daa-ce63-6f2391b185ec"
      },
      "execution_count": null,
      "outputs": [
        {
          "output_type": "stream",
          "name": "stderr",
          "text": [
            "/usr/local/lib/python3.8/dist-packages/torchvision/models/_utils.py:223: UserWarning: Arguments other than a weight enum or `None` for 'weights' are deprecated since 0.13 and may be removed in the future. The current behavior is equivalent to passing `weights=None`.\n",
            "  warnings.warn(msg)\n"
          ]
        },
        {
          "output_type": "stream",
          "name": "stdout",
          "text": [
            "Epoch 0/14\n",
            "----------\n",
            "train Loss: 1.8952 Acc: 0.5051\n",
            "val Loss: 8.1659 Acc: 0.3808\n",
            "\n",
            "Epoch 1/14\n",
            "----------\n",
            "train Loss: 1.4919 Acc: 0.5433\n",
            "val Loss: 1.5560 Acc: 0.3808\n",
            "\n",
            "Epoch 2/14\n",
            "----------\n",
            "train Loss: 1.3129 Acc: 0.5698\n",
            "val Loss: 1.5036 Acc: 0.4437\n",
            "\n",
            "Epoch 3/14\n",
            "----------\n",
            "train Loss: 1.0377 Acc: 0.5800\n",
            "val Loss: 1.6141 Acc: 0.4007\n",
            "\n",
            "Epoch 4/14\n",
            "----------\n",
            "train Loss: 1.1038 Acc: 0.5727\n",
            "val Loss: 1.2773 Acc: 0.3808\n",
            "\n",
            "Epoch 5/14\n",
            "----------\n",
            "train Loss: 0.9823 Acc: 0.5962\n",
            "val Loss: 1.1486 Acc: 0.3874\n",
            "\n",
            "Epoch 6/14\n",
            "----------\n",
            "train Loss: 0.9462 Acc: 0.6021\n",
            "val Loss: 1.0412 Acc: 0.4106\n",
            "\n",
            "Epoch 7/14\n",
            "----------\n",
            "train Loss: 0.9401 Acc: 0.6035\n",
            "val Loss: 1.1277 Acc: 0.3841\n",
            "\n",
            "Epoch 8/14\n",
            "----------\n",
            "train Loss: 0.9244 Acc: 0.6021\n",
            "val Loss: 1.3715 Acc: 0.3742\n",
            "\n",
            "Epoch 9/14\n",
            "----------\n",
            "train Loss: 0.9356 Acc: 0.5991\n",
            "val Loss: 1.1657 Acc: 0.4040\n",
            "\n",
            "Epoch 10/14\n",
            "----------\n",
            "train Loss: 0.9426 Acc: 0.6138\n",
            "val Loss: 1.1667 Acc: 0.4007\n",
            "\n",
            "Epoch 11/14\n",
            "----------\n",
            "train Loss: 0.9059 Acc: 0.6167\n",
            "val Loss: 1.0964 Acc: 0.3808\n",
            "\n",
            "Epoch 12/14\n",
            "----------\n",
            "train Loss: 0.9294 Acc: 0.6153\n",
            "val Loss: 1.2324 Acc: 0.3808\n",
            "\n",
            "Epoch 13/14\n",
            "----------\n",
            "train Loss: 0.9257 Acc: 0.6123\n",
            "val Loss: 1.0381 Acc: 0.4305\n",
            "\n",
            "Epoch 14/14\n",
            "----------\n",
            "train Loss: 0.8784 Acc: 0.6182\n",
            "val Loss: 1.1626 Acc: 0.3874\n",
            "\n",
            "Training complete in 3m 8s\n",
            "Best val Acc: 0.443709\n"
          ]
        },
        {
          "output_type": "display_data",
          "data": {
            "text/plain": [
              "<Figure size 432x288 with 1 Axes>"
            ],
            "image/png": "[encoded data removed]"
          },
          "metadata": {
            "needs_background": "light"
          }
        }
      ]
    },
    {
      "cell_type": "code",
      "source": [],
      "metadata": {
        "id": "ZPgWKM90Tp9m"
      },
      "execution_count": null,
      "outputs": []
    }
  ],
  "metadata": {
    "colab": {
      "provenance": [],
      "collapsed_sections": [
        "ktrU8KqvAp0u",
        "mAQFiyOyA00p",
        "0NpLLtGNA7FG"
      ]
    },
    "kernelspec": {
      "display_name": "Python 3",
      "name": "python3"
    },
    "language_info": {
      "name": "python"
    },
    "accelerator": "GPU",
    "gpuClass": "standard"
  },
  "nbformat": 4,
  "nbformat_minor": 0
}