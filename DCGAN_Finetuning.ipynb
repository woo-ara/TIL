{
  "cells": [
    {
      "cell_type": "code",
      "execution_count": 1,
      "metadata": {
        "id": "5VsVQ3fmY3yk",
        "colab": {
          "base_uri": "https://localhost:8080/"
        },
        "outputId": "08fa365c-7389-4e7f-987c-fee37879857d"
      },
      "outputs": [
        {
          "output_type": "stream",
          "name": "stdout",
          "text": [
            "Mounted at /content/drive\n"
          ]
        }
      ],
      "source": [
        "from google.colab import drive\n",
        "drive.mount(\"/content/drive\")"
      ]
    },
    {
      "cell_type": "code",
      "execution_count": 2,
      "metadata": {
        "colab": {
          "base_uri": "https://localhost:8080/"
        },
        "id": "szB4o-o-ZASl",
        "outputId": "42d4c978-de23-4316-9ea9-0df6a90eb6e7"
      },
      "outputs": [
        {
          "output_type": "stream",
          "name": "stdout",
          "text": [
            "Random Seed:  8592\n"
          ]
        }
      ],
      "source": [
        "from __future__ import print_function\n",
        "import argparse\n",
        "import os\n",
        "import random\n",
        "import torch\n",
        "import torch.nn as nn\n",
        "import torch.nn.parallel\n",
        "import torch.backends.cudnn as cudnn\n",
        "import torch.optim as optim\n",
        "import torch.utils.data\n",
        "import torchvision.datasets as dset\n",
        "import torchvision.transforms as transforms\n",
        "import torchvision.utils as vutils\n",
        "import numpy as np\n",
        "import matplotlib.pyplot as plt\n",
        "import matplotlib.animation as animation\n",
        "from IPython.display import HTML\n",
        "\n",
        "# 코드 실행결과의 동일성을 위해 무작위 시드를 설정합니다\n",
        "manualSeed = 8592\n",
        "# manualSeed = random.randint(1, 10000) # 만일 새로운 결과를 원한다면 주석을 없애면 됩니다\n",
        "print(\"Random Seed: \", manualSeed)\n",
        "random.seed(manualSeed)\n",
        "torch.manual_seed(manualSeed)\n",
        "\n",
        "np.random.seed(manualSeed)\n",
        "torch.cuda.manual_seed(manualSeed)\n",
        "torch.cuda.manual_seed_all(manualSeed)\n",
        "cudnn.benchmark = False\n",
        "cudnn.deterministic = True"
      ]
    },
    {
      "cell_type": "markdown",
      "source": [
        "### pretrain"
      ],
      "metadata": {
        "id": "ktrU8KqvAp0u"
      }
    },
    {
      "cell_type": "code",
      "execution_count": null,
      "metadata": {
        "id": "6CNQbBCoZAUs"
      },
      "outputs": [],
      "source": [
        "dataroot = \"/content/drive/MyDrive/dataset_patch_220117/train\"\n",
        "#dataroot = \"/content/drive/MyDrive/dataset_cyst\" #cyst 데이터셋만\n",
        "# dataroot = \"/content/drive/MyDrive/dataset_meta\" #meta 데이터셋만\n",
        "# dataroot = \"/content/drive/MyDrive/dataset_hema\" #hema 데이터셋만\n",
        "workers = 2 #데이터 불러올 때 사용할 쓰레드 개수\n",
        "batch_size = 16\n",
        "image_size = 64\n",
        "nc = 3 #색 채널 개수 (RGB)\n",
        "nz = 100 #벡터 원소개수\n",
        "ngf = 64\n",
        "ndf = 64\n",
        "num_epochs = 300\n",
        "lr = 0.0001 #2e-4=0.0002, 1e-4=0.001\n",
        "beta1 = 0.5 #Adam optimizer 하이퍼파라미터 값. 논문처럼 0.5\n",
        "ngpu = 1"
      ]
    },
    {
      "cell_type": "code",
      "execution_count": null,
      "metadata": {
        "id": "cY2bu0n8ZAW6"
      },
      "outputs": [],
      "source": [
        "#데이터셋 만들기\n",
        "dataset = dset.ImageFolder(root=dataroot,\n",
        "                           transform=transforms.Compose([\n",
        "                               transforms.Resize(image_size),\n",
        "                               transforms.CenterCrop(image_size), #가운데 부분을 image_size로 자름\n",
        "                               transforms.ToTensor(), #이미지 데이터를 tensor로 바꿈\n",
        "                               transforms.Normalize((0.5, 0.5, 0.5), (0.5, 0.5, 0.5)), #정규화\n",
        "                           ]))\n",
        "# dataloader 정의\n",
        "dataloader = torch.utils.data.DataLoader(dataset, batch_size=batch_size,\n",
        "                                         shuffle=True, num_workers=workers)\n",
        "# GPU 사용여부\n",
        "device = torch.device(\"cuda:0\" if (torch.cuda.is_available() and ngpu > 0) else \"cpu\")"
      ]
    },
    {
      "cell_type": "code",
      "execution_count": null,
      "metadata": {
        "colab": {
          "base_uri": "https://localhost:8080/"
        },
        "id": "Joy-ZMH8IQzx",
        "outputId": "ee22cd27-2b50-4170-a347-98824b998302"
      },
      "outputs": [
        {
          "output_type": "execute_result",
          "data": {
            "text/plain": [
              "['cyst', 'hema', 'meta']"
            ]
          },
          "metadata": {},
          "execution_count": 5
        }
      ],
      "source": [
        "classes = dataset.classes\n",
        "classes"
      ]
    },
    {
      "cell_type": "markdown",
      "source": [
        "##### check"
      ],
      "metadata": {
        "id": "mAQFiyOyA00p"
      }
    },
    {
      "cell_type": "code",
      "execution_count": null,
      "metadata": {
        "id": "fxkUIn40zhTO"
      },
      "outputs": [],
      "source": [
        "print(dataset.__getitem__(13))"
      ]
    },
    {
      "cell_type": "code",
      "execution_count": null,
      "metadata": {
        "colab": {
          "base_uri": "https://localhost:8080/"
        },
        "id": "z-4vP9EDItNM",
        "outputId": "a2b4d991-26cc-4bed-fdc4-d3b2e2b9f95c"
      },
      "outputs": [
        {
          "output_type": "execute_result",
          "data": {
            "text/plain": [
              "681"
            ]
          },
          "metadata": {},
          "execution_count": 7
        }
      ],
      "source": [
        "len(dataset)"
      ]
    },
    {
      "cell_type": "code",
      "execution_count": null,
      "metadata": {
        "colab": {
          "base_uri": "https://localhost:8080/"
        },
        "id": "auXAlmUfHpxB",
        "outputId": "a17392f5-f406-4b36-80e8-bb8a72443053"
      },
      "outputs": [
        {
          "output_type": "stream",
          "name": "stdout",
          "text": [
            "tensor([0, 0, 2, 0, 1, 2, 2, 1, 2, 2, 0, 0, 2, 2, 0, 0])\n"
          ]
        }
      ],
      "source": [
        "# seed값 확인\n",
        "dataiter = iter(dataloader)\n",
        "images, labels = next(dataiter)\n",
        "print(labels)"
      ]
    },
    {
      "cell_type": "code",
      "execution_count": null,
      "metadata": {
        "colab": {
          "base_uri": "https://localhost:8080/"
        },
        "id": "k0XwaQGR32rh",
        "outputId": "20177699-d1ca-47c6-c266-d0eaa81dc749"
      },
      "outputs": [
        {
          "output_type": "stream",
          "name": "stdout",
          "text": [
            "torch.Size([16, 3, 64, 64])\n",
            "0 batch \n",
            " inputs[0][0][0][0] : -0.6078431606292725 \n",
            " labels: tensor([0, 0, 1, 0, 2, 0, 0, 0, 0, 0, 1, 1, 1, 2, 0, 2])\n",
            "torch.Size([16, 3, 64, 64])\n",
            "1 batch \n",
            " inputs[0][0][0][0] : 0.5137255191802979 \n",
            " labels: tensor([0, 2, 1, 0, 2, 0, 2, 0, 0, 0, 2, 0, 0, 2, 0, 0])\n",
            "torch.Size([16, 3, 64, 64])\n",
            "2 batch \n",
            " inputs[0][0][0][0] : 0.7803921699523926 \n",
            " labels: tensor([0, 0, 0, 2, 0, 0, 0, 0, 0, 2, 0, 0, 0, 0, 0, 1])\n"
          ]
        }
      ],
      "source": [
        "for batch_size, (inputs, labels) in enumerate(dataloader):\n",
        "  print(inputs.size())\n",
        "  print(\"{} batch \\n inputs[0][0][0][0] : {} \\n labels: {}\".format(batch_size, inputs[0][0][0][0], labels))\n",
        "  #print(\"{} batch \\n inputs[0][0][0][0]\".format(batch_size))\n",
        "  if batch_size ==2:\n",
        "    break"
      ]
    },
    {
      "cell_type": "code",
      "execution_count": null,
      "metadata": {
        "id": "iBl-MQtAxDJX",
        "colab": {
          "base_uri": "https://localhost:8080/",
          "height": 178
        },
        "outputId": "56731868-3c3d-40d4-e1cd-330d0200248a"
      },
      "outputs": [
        {
          "output_type": "execute_result",
          "data": {
            "text/plain": [
              "<matplotlib.image.AxesImage at 0x7fafc1e242b0>"
            ]
          },
          "metadata": {},
          "execution_count": 10
        },
        {
          "output_type": "display_data",
          "data": {
            "text/plain": [
              "<Figure size 576x576 with 1 Axes>"
            ],
            "image/png": "[encoded data removed]"
          },
          "metadata": {
            "needs_background": "light"
          }
        }
      ],
      "source": [
        "# 화면에 이미지 몇 개 띄우기\n",
        "real_batch = next(iter(dataloader))\n",
        "plt.figure(figsize=(8,8))\n",
        "plt.axis(\"off\")\n",
        "plt.title(\"Training Images\")\n",
        "plt.imshow(np.transpose(vutils.make_grid(real_batch[0].to(device)[:64],padding=2, normalize=True).cpu(),(1,2,0)))\n",
        "#nrow=3, "
      ]
    },
    {
      "cell_type": "markdown",
      "source": [
        "##### 설정"
      ],
      "metadata": {
        "id": "0NpLLtGNA7FG"
      }
    },
    {
      "cell_type": "code",
      "execution_count": 7,
      "metadata": {
        "id": "eoPb_hrJaVGb"
      },
      "outputs": [],
      "source": [
        "def weights_init(m):\n",
        "    # print('m : ',m)\n",
        "    classname = m.__class__.__name__\n",
        "    if classname.find('Conv') != -1:\n",
        "        # print('before Conv m.weight.data. : ', m.weight.data)\n",
        "        nn.init.normal_(m.weight.data, 0.0, 0.02) # 가중치를 평균 0, 편차 0.02로 초기화\n",
        "        # print('after Conv m.weight.data. : ', m.weight.data)\n",
        "    elif classname.find('BatchNorm') != -1:\n",
        "        nn.init.normal_(m.weight.data, 1.0, 0.02) # 가중치를 평균 1, 편차 0.02로 초기화\n",
        "        # print('BatchNorm m.weight.data. : ', m.weight.data)\n",
        "        nn.init.constant_(m.bias.data, 0)"
      ]
    },
    {
      "cell_type": "code",
      "execution_count": 8,
      "metadata": {
        "id": "6ydvRPK7kAB_"
      },
      "outputs": [],
      "source": [
        "#nn.ConvTranspose2d(input의 채널수, output의 채널 수, kernel size, stride, padding)"
      ]
    },
    {
      "cell_type": "code",
      "execution_count": 9,
      "metadata": {
        "id": "fE9qsQ5taNRc"
      },
      "outputs": [],
      "source": [
        "# Generator Code\n",
        "class Generator(nn.Module):\n",
        "    def __init__(self, ngpu):\n",
        "        super(Generator, self).__init__()\n",
        "        self.ngpu = ngpu\n",
        "        self.main = nn.Sequential(\n",
        "            # input is Z, going into a convolution\n",
        "            nn.ConvTranspose2d( nz, ngf * 8, 4, 1, 0, bias=False),\n",
        "            nn.BatchNorm2d(ngf * 8),\n",
        "            nn.ReLU(True),\n",
        "            # state size. (ngf*8) x 4 x 4\n",
        "\n",
        "            nn.ConvTranspose2d(ngf * 8, ngf * 4, 4, 2, 1, bias=False),\n",
        "            nn.BatchNorm2d(ngf * 4),\n",
        "            nn.ReLU(True),\n",
        "            # state size. (ngf*4) x 8 x 8\n",
        "\n",
        "            nn.ConvTranspose2d( ngf * 4, ngf * 2, 4, 2, 1, bias=False),\n",
        "            nn.BatchNorm2d(ngf * 2),\n",
        "            nn.ReLU(True),\n",
        "            # state size. (ngf*2) x 16 x 16\n",
        "\n",
        "            nn.ConvTranspose2d( ngf * 2, ngf, 4, 2, 1, bias=False),\n",
        "            nn.BatchNorm2d(ngf),\n",
        "            nn.ReLU(True),\n",
        "            # state size. (ngf) x 32 x 32\n",
        "\n",
        "            nn.ConvTranspose2d( ngf, nc, 4, 2, 1, bias=False),\n",
        "            nn.Tanh()\n",
        "            # state size. (nc) x 64 x 64\n",
        "        )\n",
        "    def forward(self, input):\n",
        "        return self.main(input)"
      ]
    },
    {
      "cell_type": "code",
      "execution_count": 10,
      "metadata": {
        "colab": {
          "base_uri": "https://localhost:8080/"
        },
        "id": "7ApUwvsuaNT7",
        "outputId": "076dbf0b-1323-4a63-cd14-0e01353ed5fd"
      },
      "outputs": [
        {
          "output_type": "stream",
          "name": "stdout",
          "text": [
            "Generator(\n",
            "  (main): Sequential(\n",
            "    (0): ConvTranspose2d(100, 512, kernel_size=(4, 4), stride=(1, 1), bias=False)\n",
            "    (1): BatchNorm2d(512, eps=1e-05, momentum=0.1, affine=True, track_running_stats=True)\n",
            "    (2): ReLU(inplace=True)\n",
            "    (3): ConvTranspose2d(512, 256, kernel_size=(4, 4), stride=(2, 2), padding=(1, 1), bias=False)\n",
            "    (4): BatchNorm2d(256, eps=1e-05, momentum=0.1, affine=True, track_running_stats=True)\n",
            "    (5): ReLU(inplace=True)\n",
            "    (6): ConvTranspose2d(256, 128, kernel_size=(4, 4), stride=(2, 2), padding=(1, 1), bias=False)\n",
            "    (7): BatchNorm2d(128, eps=1e-05, momentum=0.1, affine=True, track_running_stats=True)\n",
            "    (8): ReLU(inplace=True)\n",
            "    (9): ConvTranspose2d(128, 64, kernel_size=(4, 4), stride=(2, 2), padding=(1, 1), bias=False)\n",
            "    (10): BatchNorm2d(64, eps=1e-05, momentum=0.1, affine=True, track_running_stats=True)\n",
            "    (11): ReLU(inplace=True)\n",
            "    (12): ConvTranspose2d(64, 3, kernel_size=(4, 4), stride=(2, 2), padding=(1, 1), bias=False)\n",
            "    (13): Tanh()\n",
            "  )\n",
            ")\n"
          ]
        }
      ],
      "source": [
        "netG = Generator(ngpu).to(device)\n",
        "\n",
        "# multi-gpu 필요하면 설정\n",
        "if (device.type == 'cuda') and (ngpu > 1):\n",
        "    netG = nn.DataParallel(netG, list(range(ngpu)))\n",
        "\n",
        "netG.apply(weights_init)\n",
        "\n",
        "# Print the model\n",
        "print(netG)"
      ]
    },
    {
      "cell_type": "code",
      "execution_count": 11,
      "metadata": {
        "id": "SqXnzEJpaFff"
      },
      "outputs": [],
      "source": [
        "class Discriminator(nn.Module):\n",
        "    def __init__(self, ngpu):\n",
        "        super(Discriminator, self).__init__()\n",
        "        self.ngpu = ngpu\n",
        "        self.main = nn.Sequential(\n",
        "            # input is (nc) x 64 x 64\n",
        "            nn.Conv2d(nc, ndf, 4, 2, 1, bias=False),\n",
        "            nn.LeakyReLU(0.2, inplace=True),\n",
        "            # state size. (ndf) x 32 x 32\n",
        "\n",
        "            nn.Conv2d(ndf, ndf * 2, 4, 2, 1, bias=False),\n",
        "            nn.BatchNorm2d(ndf * 2),\n",
        "            nn.LeakyReLU(0.2, inplace=True),\n",
        "            # state size. (ndf*2) x 16 x 16\n",
        "\n",
        "            nn.Conv2d(ndf * 2, ndf * 4, 4, 2, 1, bias=False),\n",
        "            nn.BatchNorm2d(ndf * 4),\n",
        "            nn.LeakyReLU(0.2, inplace=True),\n",
        "            # state size. (ndf*4) x 8 x 8\n",
        "\n",
        "            nn.Conv2d(ndf * 4, ndf * 8, 4, 2, 1, bias=False),\n",
        "            nn.BatchNorm2d(ndf * 8),\n",
        "            nn.LeakyReLU(0.2, inplace=True),\n",
        "            # state size. (ndf*8) x 4 x 4\n",
        "\n",
        "            nn.Conv2d(ndf * 8, 1, 4, 1, 0, bias=False),\n",
        "            nn.Sigmoid()\n",
        "        )\n",
        "    def forward(self, input):\n",
        "        return self.main(input)"
      ]
    },
    {
      "cell_type": "code",
      "execution_count": 12,
      "metadata": {
        "colab": {
          "base_uri": "https://localhost:8080/"
        },
        "id": "Uqous8TlZAZG",
        "outputId": "f74e574b-167c-4347-d89e-a6258e7e7c4d"
      },
      "outputs": [
        {
          "output_type": "stream",
          "name": "stdout",
          "text": [
            "Discriminator(\n",
            "  (main): Sequential(\n",
            "    (0): Conv2d(3, 64, kernel_size=(4, 4), stride=(2, 2), padding=(1, 1), bias=False)\n",
            "    (1): LeakyReLU(negative_slope=0.2, inplace=True)\n",
            "    (2): Conv2d(64, 128, kernel_size=(4, 4), stride=(2, 2), padding=(1, 1), bias=False)\n",
            "    (3): BatchNorm2d(128, eps=1e-05, momentum=0.1, affine=True, track_running_stats=True)\n",
            "    (4): LeakyReLU(negative_slope=0.2, inplace=True)\n",
            "    (5): Conv2d(128, 256, kernel_size=(4, 4), stride=(2, 2), padding=(1, 1), bias=False)\n",
            "    (6): BatchNorm2d(256, eps=1e-05, momentum=0.1, affine=True, track_running_stats=True)\n",
            "    (7): LeakyReLU(negative_slope=0.2, inplace=True)\n",
            "    (8): Conv2d(256, 512, kernel_size=(4, 4), stride=(2, 2), padding=(1, 1), bias=False)\n",
            "    (9): BatchNorm2d(512, eps=1e-05, momentum=0.1, affine=True, track_running_stats=True)\n",
            "    (10): LeakyReLU(negative_slope=0.2, inplace=True)\n",
            "    (11): Conv2d(512, 1, kernel_size=(4, 4), stride=(1, 1), bias=False)\n",
            "    (12): Sigmoid()\n",
            "  )\n",
            ")\n"
          ]
        }
      ],
      "source": [
        "# Create the Discriminator\n",
        "netD = Discriminator(ngpu).to(device)\n",
        "\n",
        "# Handle multi-gpu if desired\n",
        "if (device.type == 'cuda') and (ngpu > 1):\n",
        "    netD = nn.DataParallel(netD, list(range(ngpu)))\n",
        "\n",
        "netD.apply(weights_init)\n",
        "\n",
        "# Print the model\n",
        "print(netD)"
      ]
    },
    {
      "cell_type": "code",
      "execution_count": 13,
      "metadata": {
        "id": "2ZBModYTZAbY"
      },
      "outputs": [],
      "source": [
        "# BCELoss 함수의 인스턴스 생성\n",
        "criterion = nn.BCELoss()\n",
        "\n",
        "# 생성자의 학습상태를 확인할 잠재 공간 벡터를 생성 (Generator의 학습 과정 추적 위해)\n",
        "fixed_noise = torch.randn(1, nz, 1, 1, device=device) # 64\n",
        "\n",
        "# 학습에 사용되는 참/거짓의 라벨\n",
        "real_label = 1.\n",
        "fake_label = 0.\n",
        "\n",
        "# G와 D에서 사용할 Adam optimizer를 생성\n",
        "optimizerD = optim.Adam(netD.parameters(), lr=lr, betas=(beta1, 0.999))\n",
        "optimizerG = optim.Adam(netG.parameters(), lr=lr, betas=(beta1, 0.999))"
      ]
    },
    {
      "cell_type": "code",
      "execution_count": 14,
      "metadata": {
        "id": "GDjmB6GycBi7"
      },
      "outputs": [],
      "source": [
        "import torchvision\n",
        "from torchvision.utils import save_image\n",
        "transform = transforms.Grayscale()"
      ]
    },
    {
      "cell_type": "code",
      "execution_count": null,
      "metadata": {
        "id": "WMYxGSY3ZAdc"
      },
      "outputs": [],
      "source": [
        "n1 = 1\n",
        "n2 = 1\n",
        "n3 = 1\n",
        "\n",
        "# img_list = []\n",
        "img_list2 = []\n",
        "G_losses = []\n",
        "D_losses = []\n",
        "iters = 0\n",
        "\n",
        "print(\"Starting Training Loop...\")\n",
        "# For each epoch\n",
        "for epoch in range(num_epochs):\n",
        "    # For each batch in the dataloader\n",
        "    for i, data in enumerate(dataloader, 0):\n",
        "        ############################\n",
        "        # (1) Update D network: maximize log(D(x)) + log(1 - D(G(z)))\n",
        "        ###########################\n",
        "        ## Train with all-real batch (진짜 데이터들로 학습)\n",
        "        netD.zero_grad()\n",
        "        # Format batch (배치사이즈, 사용할 디바이스에 맞게 조정)\n",
        "        real_cpu = data[0].to(device)\n",
        "        b_size = real_cpu.size(0)\n",
        "        label = torch.full((b_size,), real_label, dtype=torch.float, device=device)\n",
        "        # Forward pass real batch through D (진짜 데이터들로 이루어진 배치를 D에 통과)\n",
        "        output = netD(real_cpu).view(-1)\n",
        "        # Calculate loss on all-real batch(손실값 구함)\n",
        "        errD_real = criterion(output, label)\n",
        "        # Calculate gradients for D in backward pass (역전파 과정에서 변화도 계산)\n",
        "        errD_real.backward()\n",
        "        D_x = output.mean().item()\n",
        "\n",
        "        ## Train with all-fake batch (가짜 데이터들로 학습)\n",
        "        # Generate batch of latent vectors (벡터 생성)\n",
        "        noise = torch.randn(b_size, nz, 1, 1, device=device)\n",
        "        # Generate fake image batch with G (G로 가짜 이미지 생성)\n",
        "        fake = netG(noise)\n",
        "        label.fill_(fake_label)\n",
        "        # Classify all fake batch with D (D로 판별)\n",
        "        output = netD(fake.detach()).view(-1)\n",
        "        # Calculate D's loss on the all-fake batch (D 손실값 계산)\n",
        "        errD_fake = criterion(output, label)\n",
        "        # Calculate the gradients for this batch, accumulated (summed) with previous gradients(역전파로 변화도 계산 후 앞의 변화도에 더하기)\n",
        "        errD_fake.backward()\n",
        "        D_G_z1 = output.mean().item()\n",
        "        # Compute error of D as sum over the fake and the real batches (가짜 이미지, 진짜 이미지 손실값 모두 더함)\n",
        "        errD = errD_real + errD_fake\n",
        "        # Update D\n",
        "        optimizerD.step()\n",
        "\n",
        "        ############################\n",
        "        # (2) Update G network: maximize log(D(G(z))) (G 신경망 업데이트)\n",
        "        ###########################\n",
        "        netG.zero_grad()\n",
        "        label.fill_(real_label)  # fake labels are real for generator cost (생성자 손실값 구하기 위해 진짜 라벨 이용)\n",
        "        # Since we just updated D, perform another forward pass of all-fake batch through D (D가 방금 업데이트 됐기 때문에 다시 D에 가짜 데이터 통과)\n",
        "        output = netD(fake).view(-1)\n",
        "        # Calculate G's loss based on this output (G 손실값 구하기)\n",
        "        errG = criterion(output, label)\n",
        "        # Calculate gradients for G (G 변화도 계산)\n",
        "        errG.backward()\n",
        "        D_G_z2 = output.mean().item()\n",
        "        # Update G\n",
        "        optimizerG.step()\n",
        "\n",
        "        # 훈련상태 출력\n",
        "        if i % 50 == 0:\n",
        "            print('[%d/%d][%d/%d]tLoss_D: %.4f tLoss_G: %.4f tD(x): %.4f tD(G(z)): %.4f / %.4f'\n",
        "                % (epoch+1, num_epochs, i, len(dataloader),\n",
        "                    errD.item(), errG.item(), D_x, D_G_z1, D_G_z2))\n",
        "        # 그래프 위해 손실값 저장\n",
        "        G_losses.append(errG.item())\n",
        "        D_losses.append(errD.item())\n",
        "    \n",
        "        # fixed_noise 통과시킨 G의 출력값 저장\n",
        "        # if (iters % 50 == 0) or ((epoch == num_epochs-1) and (i == len(dataloader)-1)):\n",
        "        #     with torch.no_grad():\n",
        "        #         fake = netG(fixed_noise).detach().cpu()\n",
        "        #     img_list.append(vutils.make_grid(fake, padding=2, nrow=1, normalize=True))\n",
        "\n",
        "        # 이미지 저장\n",
        "        # if epoch == (num_epochs-1):\n",
        "        #     for j in range(len(data[1])):\n",
        "        #         if data[1][j] == 0:\n",
        "        #             save_image(fake[j],'/content/dcgan_Result_b8_e300_lr0002_1205/cyst/DCGAN_cyst_%s.jpg' %(n1),'JPEG')\n",
        "        #             n1 += 1\n",
        "        #         if data[1][j] == 1:\n",
        "        #             save_image(fake[j],'/content/dcgan_Result_b8_e300_lr0002_1205/hema/DCGAN_hema_%s.jpg' %(n2),'JPEG')\n",
        "        #             n2 += 1\n",
        "        #         if data[1][j] == 2:\n",
        "        #             save_image(fake[j],'/content/dcgan_Result_b8_e300_lr0002_1205/meta/DCGAN_meta_%s.jpg' %(n3),'JPEG')\n",
        "        #             n3 += 1\n",
        "        if epoch == (num_epochs-1):\n",
        "            for j in range(len(data[1])):\n",
        "                if data[1][j] == 0:\n",
        "                    save_image(fake[j],'/content/test/cyst/DCGAN_cyst_%s.jpg' %(n1),'JPEG')\n",
        "                    n1 += 1\n",
        "                if data[1][j] == 1:\n",
        "                    save_image(fake[j],'/content/test/hema/DCGAN_hema_%s.jpg' %(n2),'JPEG')\n",
        "                    n2 += 1\n",
        "                if data[1][j] == 2:\n",
        "                    save_image(fake[j],'/content/test/meta/DCGAN_meta_%s.jpg' %(n3),'JPEG')\n",
        "                    n3 += 1\n",
        "\n",
        "        img_list2.append(fake)\n",
        "        iters += 1"
      ]
    },
    {
      "cell_type": "code",
      "source": [
        "# 가중치 조절 전\n",
        "print(\n",
        "'epoch', num_epochs,\n",
        "'model_G_state_dict', netG.state_dict(),\n",
        "'model_D_state_dict', netD.state_dict()\n",
        ")"
      ],
      "metadata": {
        "id": "WiDBOXXyJhwJ"
      },
      "execution_count": null,
      "outputs": []
    },
    {
      "cell_type": "code",
      "source": [
        "print(\n",
        "'optimizer_G_state_dict', optimizerG.state_dict(),\n",
        "'optimizer_D_state_dict', optimizerD.state_dict()\n",
        ")"
      ],
      "metadata": {
        "id": "MyZRhmPyJhzg"
      },
      "execution_count": null,
      "outputs": []
    },
    {
      "cell_type": "code",
      "source": [
        "# state dict 저장\n",
        "torch.save({\n",
        "    'epoch': num_epochs,\n",
        "    'model_G_state_dict': netG.state_dict(),\n",
        "    'model_D_state_dict': netD.state_dict(),\n",
        "    'optimizer_G_state_dict': optimizerG.state_dict(),\n",
        "    'optimizer_D_state_dict': optimizerD.state_dict()\n",
        "}, 'model_weights.pth')"
      ],
      "metadata": {
        "id": "5k64jcR6QBP1"
      },
      "execution_count": null,
      "outputs": []
    },
    {
      "cell_type": "code",
      "source": [],
      "metadata": {
        "id": "tTCdnkR8CHVY"
      },
      "execution_count": null,
      "outputs": []
    },
    {
      "cell_type": "markdown",
      "source": [
        "### fine tuning"
      ],
      "metadata": {
        "id": "1VLvBPcACHup"
      }
    },
    {
      "cell_type": "code",
      "source": [
        "# state dict 불러오기\n",
        "path = '/content/drive/MyDrive/model_weights.pth'\n",
        "weightsave = torch.load(path)"
      ],
      "metadata": {
        "id": "zhIAVilfQFwj"
      },
      "execution_count": 3,
      "outputs": []
    },
    {
      "cell_type": "code",
      "source": [
        "weightsave.keys()"
      ],
      "metadata": {
        "colab": {
          "base_uri": "https://localhost:8080/"
        },
        "id": "DSDUthC0QFy_",
        "outputId": "546658a6-e287-43a2-f2a8-56b57f4af32e"
      },
      "execution_count": 4,
      "outputs": [
        {
          "output_type": "execute_result",
          "data": {
            "text/plain": [
              "dict_keys(['epoch', 'model_G_state_dict', 'model_D_state_dict', 'optimizer_G_state_dict', 'optimizer_D_state_dict'])"
            ]
          },
          "metadata": {},
          "execution_count": 4
        }
      ]
    },
    {
      "cell_type": "code",
      "source": [],
      "metadata": {
        "id": "ISmSj4k8LWgR"
      },
      "execution_count": null,
      "outputs": []
    },
    {
      "cell_type": "code",
      "source": [
        "# dataroot = \"/content/drive/MyDrive/dataset_patch_220117/train\"\n",
        "#dataroot = \"/content/drive/MyDrive/dataset_cyst\" #cyst 데이터셋만\n",
        "# dataroot = \"/content/drive/MyDrive/dataset_meta\" #meta 데이터셋만\n",
        "dataroot = \"/content/drive/MyDrive/dataset_hema\" #hema 데이터셋만\n",
        "workers = 2 #데이터 불러올 때 사용할 쓰레드 개수\n",
        "batch_size = 16\n",
        "image_size = 64\n",
        "nc = 3 #색 채널 개수 (RGB)\n",
        "nz = 100 #벡터 원소개수\n",
        "ngf = 64\n",
        "ndf = 64\n",
        "num_epochs = 50\n",
        "lr = 0.0001 #2e-4=0.0002, 1e-4=0.001\n",
        "beta1 = 0.5 #Adam optimizer 하이퍼파라미터 값. 논문처럼 0.5\n",
        "ngpu = 1"
      ],
      "metadata": {
        "id": "xuxqk1vfJMGO"
      },
      "execution_count": 5,
      "outputs": []
    },
    {
      "cell_type": "code",
      "source": [
        "#데이터셋 만들기\n",
        "dataset = dset.ImageFolder(root=dataroot,\n",
        "                           transform=transforms.Compose([\n",
        "                               transforms.Resize(image_size),\n",
        "                               transforms.CenterCrop(image_size), #가운데 부분을 image_size로 자름\n",
        "                               transforms.ToTensor(), #이미지 데이터를 tensor로 바꿈\n",
        "                               transforms.Normalize((0.5, 0.5, 0.5), (0.5, 0.5, 0.5)), #정규화\n",
        "                           ]))\n",
        "# dataloader 정의\n",
        "dataloader = torch.utils.data.DataLoader(dataset, batch_size=batch_size,\n",
        "                                         shuffle=True, num_workers=workers)\n",
        "# GPU 사용여부\n",
        "device = torch.device(\"cuda:0\" if (torch.cuda.is_available() and ngpu > 0) else \"cpu\")\n",
        "\n",
        "classes = dataset.classes\n",
        "classes"
      ],
      "metadata": {
        "colab": {
          "base_uri": "https://localhost:8080/"
        },
        "id": "lQLRIi0RJT1A",
        "outputId": "2a2df7e1-181f-43b0-db57-fb75f128d641"
      },
      "execution_count": 6,
      "outputs": [
        {
          "output_type": "execute_result",
          "data": {
            "text/plain": [
              "['hema']"
            ]
          },
          "metadata": {},
          "execution_count": 6
        }
      ]
    },
    {
      "cell_type": "code",
      "source": [
        "# def weights_init(m):\n",
        "#     # print('m : ',m)\n",
        "#     classname = m.__class__.__name__\n",
        "#     if classname.find('Conv') != -1:\n",
        "#         # print('before Conv m.weight.data. : ', m.weight.data)\n",
        "#         nn.init.normal_(m.weight.data, 0.0, 0.02) # 가중치를 평균 0, 편차 0.02로 초기화\n",
        "#         # print('after Conv m.weight.data. : ', m.weight.data)\n",
        "#     elif classname.find('BatchNorm') != -1:\n",
        "#         nn.init.normal_(m.weight.data, 1.0, 0.02) # 가중치를 평균 1, 편차 0.02로 초기화\n",
        "#         # print('BatchNorm m.weight.data. : ', m.weight.data)\n",
        "#         nn.init.constant_(m.bias.data, 0)"
      ],
      "metadata": {
        "id": "7vL91JQWeXQ7"
      },
      "execution_count": null,
      "outputs": []
    },
    {
      "cell_type": "code",
      "source": [],
      "metadata": {
        "id": "Y8P9ddkqLvUT"
      },
      "execution_count": null,
      "outputs": []
    },
    {
      "cell_type": "code",
      "source": [
        "netG.load_state_dict(weightsave['model_G_state_dict'])\n",
        "netD.load_state_dict(weightsave['model_D_state_dict'])\n",
        "\n",
        "optimizerG.load_state_dict(weightsave['optimizer_G_state_dict'])\n",
        "optimizerD.load_state_dict(weightsave['optimizer_D_state_dict'])"
      ],
      "metadata": {
        "id": "SUHxfYbULvWa"
      },
      "execution_count": 15,
      "outputs": []
    },
    {
      "cell_type": "code",
      "source": [],
      "metadata": {
        "id": "i_KZDZ8gLvYg"
      },
      "execution_count": null,
      "outputs": []
    },
    {
      "cell_type": "code",
      "source": [
        "\n",
        "# G와 D에서 사용할 Adam optimizer 초기화\n",
        "# optimizerD = optim.Adam(netD.parameters(), lr=lr, betas=(beta1, 0.999))\n",
        "# optimizerG = optim.Adam(netG.parameters(), lr=lr, betas=(beta1, 0.999))"
      ],
      "metadata": {
        "id": "i_FP-xnkI8Xg"
      },
      "execution_count": null,
      "outputs": []
    },
    {
      "cell_type": "code",
      "source": [],
      "metadata": {
        "id": "ZUXqWL_lZZMg"
      },
      "execution_count": 27,
      "outputs": []
    },
    {
      "cell_type": "code",
      "source": [
        "n4 = 1\n",
        "\n",
        "\n",
        "# img_list = []\n",
        "img_list2 = []\n",
        "G_losses = []\n",
        "D_losses = []\n",
        "iters = 0\n",
        "\n",
        "print(\"Starting Training Loop...\")\n",
        "# For each epoch\n",
        "for epoch in range(num_epochs):\n",
        "    # For each batch in the dataloader\n",
        "    for i, data in enumerate(dataloader, 0):\n",
        "        ############################\n",
        "        # (1) Update D network: maximize log(D(x)) + log(1 - D(G(z)))\n",
        "        ###########################\n",
        "        ## Train with all-real batch (진짜 데이터들로 학습)\n",
        "        netD.zero_grad()\n",
        "        # Format batch (배치사이즈, 사용할 디바이스에 맞게 조정)\n",
        "        real_cpu = data[0].to(device)\n",
        "        b_size = real_cpu.size(0)\n",
        "        label = torch.full((b_size,), real_label, dtype=torch.float, device=device)\n",
        "        # Forward pass real batch through D (진짜 데이터들로 이루어진 배치를 D에 통과)\n",
        "        output = netD(real_cpu).view(-1)\n",
        "        # Calculate loss on all-real batch(손실값 구함)\n",
        "        errD_real = criterion(output, label)\n",
        "        # Calculate gradients for D in backward pass (역전파 과정에서 변화도 계산)\n",
        "        errD_real.backward()\n",
        "        D_x = output.mean().item()\n",
        "\n",
        "        ## Train with all-fake batch (가짜 데이터들로 학습)\n",
        "        # Generate batch of latent vectors (벡터 생성)\n",
        "        noise = torch.randn(b_size, nz, 1, 1, device=device)\n",
        "        # Generate fake image batch with G (G로 가짜 이미지 생성)\n",
        "        fake = netG(noise)\n",
        "        label.fill_(fake_label)\n",
        "        # Classify all fake batch with D (D로 판별)\n",
        "        output = netD(fake.detach()).view(-1)\n",
        "        # Calculate D's loss on the all-fake batch (D 손실값 계산)\n",
        "        errD_fake = criterion(output, label)\n",
        "        # Calculate the gradients for this batch, accumulated (summed) with previous gradients(역전파로 변화도 계산 후 앞의 변화도에 더하기)\n",
        "        errD_fake.backward()\n",
        "        D_G_z1 = output.mean().item()\n",
        "        # Compute error of D as sum over the fake and the real batches (가짜 이미지, 진짜 이미지 손실값 모두 더함)\n",
        "        errD = errD_real + errD_fake\n",
        "        # Update D\n",
        "        optimizerD.step()\n",
        "\n",
        "        ############################\n",
        "        # (2) Update G network: maximize log(D(G(z))) (G 신경망 업데이트)\n",
        "        ###########################\n",
        "        netG.zero_grad()\n",
        "        label.fill_(real_label)  # fake labels are real for generator cost (생성자 손실값 구하기 위해 진짜 라벨 이용)\n",
        "        # Since we just updated D, perform another forward pass of all-fake batch through D (D가 방금 업데이트 됐기 때문에 다시 D에 가짜 데이터 통과)\n",
        "        output = netD(fake).view(-1)\n",
        "        # Calculate G's loss based on this output (G 손실값 구하기)\n",
        "        errG = criterion(output, label)\n",
        "        # Calculate gradients for G (G 변화도 계산)\n",
        "        errG.backward()\n",
        "        D_G_z2 = output.mean().item()\n",
        "        # Update G\n",
        "        optimizerG.step()\n",
        "\n",
        "        # 훈련상태 출력\n",
        "        if i % 50 == 0:\n",
        "            print('[%d/%d][%d/%d]tLoss_D: %.4f tLoss_G: %.4f tD(x): %.4f tD(G(z)): %.4f / %.4f'\n",
        "                % (epoch+1, num_epochs, i, len(dataloader),\n",
        "                    errD.item(), errG.item(), D_x, D_G_z1, D_G_z2))\n",
        "        # 그래프 위해 손실값 저장\n",
        "        G_losses.append(errG.item())\n",
        "        D_losses.append(errD.item())\n",
        "    \n",
        "        # fixed_noise 통과시킨 G의 출력값 저장\n",
        "        # if (iters % 50 == 0) or ((epoch == num_epochs-1) and (i == len(dataloader)-1)):\n",
        "        #     with torch.no_grad():\n",
        "        #         fake = netG(fixed_noise).detach().cpu()\n",
        "        #     img_list.append(vutils.make_grid(fake, padding=2, nrow=1, normalize=True))\n",
        "\n",
        "        # 이미지 저장\n",
        "        # if epoch == (num_epochs-1):\n",
        "        #     for j in range(len(data[1])):\n",
        "        #         if data[1][j] == 0:\n",
        "        #             save_image(fake[j],'/content/dcgan_Result_b8_e300_lr0002_1205/cyst/DCGAN_cyst_%s.jpg' %(n1),'JPEG')\n",
        "        #             n1 += 1\n",
        "        #         if data[1][j] == 1:\n",
        "        #             save_image(fake[j],'/content/dcgan_Result_b8_e300_lr0002_1205/hema/DCGAN_hema_%s.jpg' %(n2),'JPEG')\n",
        "        #             n2 += 1\n",
        "        #         if data[1][j] == 2:\n",
        "        #             save_image(fake[j],'/content/dcgan_Result_b8_e300_lr0002_1205/meta/DCGAN_meta_%s.jpg' %(n3),'JPEG')\n",
        "        #             n3 += 1\n",
        "        \n",
        "        \n",
        "        if epoch == (num_epochs-1):\n",
        "            for j in range(len(data[1])):\n",
        "                save_image(fake[j],'/content/test2/hema/DCGAN_hema_%s.jpg' %(n4),'JPEG')\n",
        "                n4 += 1\n",
        "\n",
        "        img_list2.append(fake)\n",
        "        iters += 1"
      ],
      "metadata": {
        "colab": {
          "base_uri": "https://localhost:8080/"
        },
        "id": "p4JdWfbxI8aB",
        "outputId": "2438c21a-188e-44b6-b922-6f0a715b0621"
      },
      "execution_count": 16,
      "outputs": [
        {
          "output_type": "stream",
          "name": "stdout",
          "text": [
            "Starting Training Loop...\n",
            "[1/50][0/5]tLoss_D: 0.0100 tLoss_G: 7.5007 tD(x): 0.9972 tD(G(z)): 0.0070 / 0.0045\n",
            "[2/50][0/5]tLoss_D: 0.0096 tLoss_G: 6.0364 tD(x): 0.9976 tD(G(z)): 0.0071 / 0.0055\n",
            "[3/50][0/5]tLoss_D: 0.0112 tLoss_G: 5.5670 tD(x): 0.9990 tD(G(z)): 0.0101 / 0.0084\n",
            "[4/50][0/5]tLoss_D: 0.0131 tLoss_G: 5.8188 tD(x): 0.9939 tD(G(z)): 0.0069 / 0.0056\n",
            "[5/50][0/5]tLoss_D: 0.0050 tLoss_G: 7.1290 tD(x): 0.9970 tD(G(z)): 0.0020 / 0.0018\n",
            "[6/50][0/5]tLoss_D: 0.0097 tLoss_G: 5.9564 tD(x): 0.9968 tD(G(z)): 0.0064 / 0.0046\n",
            "[7/50][0/5]tLoss_D: 0.0160 tLoss_G: 6.0585 tD(x): 0.9946 tD(G(z)): 0.0103 / 0.0042\n",
            "[8/50][0/5]tLoss_D: 0.0119 tLoss_G: 6.7388 tD(x): 0.9964 tD(G(z)): 0.0082 / 0.0067\n",
            "[9/50][0/5]tLoss_D: 0.0258 tLoss_G: 7.1149 tD(x): 0.9850 tD(G(z)): 0.0103 / 0.0052\n",
            "[10/50][0/5]tLoss_D: 0.0104 tLoss_G: 6.4460 tD(x): 0.9958 tD(G(z)): 0.0061 / 0.0052\n",
            "[11/50][0/5]tLoss_D: 0.0202 tLoss_G: 5.5526 tD(x): 0.9979 tD(G(z)): 0.0177 / 0.0114\n",
            "[12/50][0/5]tLoss_D: 0.0057 tLoss_G: 6.3250 tD(x): 0.9990 tD(G(z)): 0.0047 / 0.0034\n",
            "[13/50][0/5]tLoss_D: 0.0073 tLoss_G: 6.3381 tD(x): 0.9990 tD(G(z)): 0.0062 / 0.0047\n",
            "[14/50][0/5]tLoss_D: 0.0320 tLoss_G: 5.5457 tD(x): 0.9836 tD(G(z)): 0.0149 / 0.0088\n",
            "[15/50][0/5]tLoss_D: 0.0052 tLoss_G: 6.9532 tD(x): 0.9979 tD(G(z)): 0.0030 / 0.0024\n",
            "[16/50][0/5]tLoss_D: 0.0065 tLoss_G: 7.1383 tD(x): 0.9960 tD(G(z)): 0.0025 / 0.0017\n",
            "[17/50][0/5]tLoss_D: 0.0029 tLoss_G: 7.8470 tD(x): 0.9979 tD(G(z)): 0.0008 / 0.0008\n",
            "[18/50][0/5]tLoss_D: 2.7958 tLoss_G: 18.3836 tD(x): 1.0000 tD(G(z)): 0.7367 / 0.0000\n",
            "[19/50][0/5]tLoss_D: 0.0898 tLoss_G: 8.6610 tD(x): 0.9993 tD(G(z)): 0.0518 / 0.0007\n",
            "[20/50][0/5]tLoss_D: 0.7371 tLoss_G: 12.1699 tD(x): 0.9993 tD(G(z)): 0.2095 / 0.0002\n",
            "[21/50][0/5]tLoss_D: 0.3839 tLoss_G: 7.7810 tD(x): 0.9715 tD(G(z)): 0.0765 / 0.0240\n",
            "[22/50][0/5]tLoss_D: 0.0476 tLoss_G: 6.9974 tD(x): 0.9965 tD(G(z)): 0.0366 / 0.0027\n",
            "[23/50][0/5]tLoss_D: 0.0268 tLoss_G: 8.3564 tD(x): 0.9851 tD(G(z)): 0.0102 / 0.0041\n",
            "[24/50][0/5]tLoss_D: 0.0308 tLoss_G: 7.3839 tD(x): 0.9948 tD(G(z)): 0.0230 / 0.0040\n",
            "[25/50][0/5]tLoss_D: 0.0038 tLoss_G: 8.6551 tD(x): 0.9980 tD(G(z)): 0.0018 / 0.0014\n",
            "[26/50][0/5]tLoss_D: 0.0123 tLoss_G: 8.7537 tD(x): 0.9899 tD(G(z)): 0.0020 / 0.0006\n",
            "[27/50][0/5]tLoss_D: 0.0196 tLoss_G: 7.1787 tD(x): 0.9978 tD(G(z)): 0.0171 / 0.0028\n",
            "[28/50][0/5]tLoss_D: 0.0389 tLoss_G: 10.6251 tD(x): 0.9630 tD(G(z)): 0.0007 / 0.0002\n",
            "[29/50][0/5]tLoss_D: 0.0388 tLoss_G: 14.6285 tD(x): 0.9625 tD(G(z)): 0.0001 / 0.0000\n",
            "[30/50][0/5]tLoss_D: 0.0145 tLoss_G: 7.9495 tD(x): 0.9991 tD(G(z)): 0.0127 / 0.0031\n",
            "[31/50][0/5]tLoss_D: 0.0107 tLoss_G: 7.3185 tD(x): 0.9977 tD(G(z)): 0.0083 / 0.0037\n",
            "[32/50][0/5]tLoss_D: 0.0065 tLoss_G: 8.4806 tD(x): 0.9981 tD(G(z)): 0.0044 / 0.0022\n",
            "[33/50][0/5]tLoss_D: 1.2233 tLoss_G: 38.5640 tD(x): 1.0000 tD(G(z)): 0.4556 / 0.0000\n",
            "[34/50][0/5]tLoss_D: 0.0002 tLoss_G: 50.7647 tD(x): 0.9998 tD(G(z)): 0.0000 / 0.0000\n",
            "[35/50][0/5]tLoss_D: 0.0000 tLoss_G: 43.6757 tD(x): 1.0000 tD(G(z)): 0.0000 / 0.0000\n",
            "[36/50][0/5]tLoss_D: 0.1130 tLoss_G: 28.6112 tD(x): 1.0000 tD(G(z)): 0.0523 / 0.0004\n",
            "[37/50][0/5]tLoss_D: 0.1156 tLoss_G: 11.5910 tD(x): 0.9999 tD(G(z)): 0.0722 / 0.0004\n",
            "[38/50][0/5]tLoss_D: 0.4742 tLoss_G: 14.3898 tD(x): 0.9750 tD(G(z)): 0.2098 / 0.0000\n",
            "[39/50][0/5]tLoss_D: 0.0443 tLoss_G: 8.2066 tD(x): 0.9972 tD(G(z)): 0.0379 / 0.0020\n",
            "[40/50][0/5]tLoss_D: 0.1041 tLoss_G: 7.7744 tD(x): 0.9873 tD(G(z)): 0.0657 / 0.0026\n",
            "[41/50][0/5]tLoss_D: 0.0135 tLoss_G: 9.8161 tD(x): 0.9880 tD(G(z)): 0.0013 / 0.0004\n",
            "[42/50][0/5]tLoss_D: 0.0443 tLoss_G: 5.7236 tD(x): 0.9969 tD(G(z)): 0.0393 / 0.0097\n",
            "[43/50][0/5]tLoss_D: 0.0746 tLoss_G: 5.7952 tD(x): 0.9456 tD(G(z)): 0.0096 / 0.0139\n",
            "[44/50][0/5]tLoss_D: 0.0116 tLoss_G: 7.4048 tD(x): 0.9980 tD(G(z)): 0.0095 / 0.0040\n",
            "[45/50][0/5]tLoss_D: 0.0211 tLoss_G: 7.4946 tD(x): 0.9819 tD(G(z)): 0.0022 / 0.0011\n",
            "[46/50][0/5]tLoss_D: 0.0079 tLoss_G: 8.3316 tD(x): 0.9936 tD(G(z)): 0.0014 / 0.0012\n",
            "[47/50][0/5]tLoss_D: 0.0126 tLoss_G: 7.0598 tD(x): 0.9992 tD(G(z)): 0.0115 / 0.0038\n",
            "[48/50][0/5]tLoss_D: 0.0324 tLoss_G: 6.9208 tD(x): 0.9980 tD(G(z)): 0.0268 / 0.0029\n",
            "[49/50][0/5]tLoss_D: 0.0040 tLoss_G: 7.1464 tD(x): 0.9979 tD(G(z)): 0.0018 / 0.0023\n",
            "[50/50][0/5]tLoss_D: 1.2566 tLoss_G: 13.5489 tD(x): 0.9998 tD(G(z)): 0.4932 / 0.0001\n"
          ]
        }
      ]
    },
    {
      "cell_type": "code",
      "source": [
        "from google.colab import files\n",
        "files.download('test2.zip')"
      ],
      "metadata": {
        "id": "d7sL2zMqI8cn",
        "colab": {
          "base_uri": "https://localhost:8080/",
          "height": 313
        },
        "outputId": "3ab77b63-ce55-48df-c014-ce9a4e3ec793"
      },
      "execution_count": 19,
      "outputs": [
        {
          "output_type": "error",
          "ename": "FileNotFoundError",
          "evalue": "ignored",
          "traceback": [
            "\u001b[0;31m---------------------------------------------------------------------------\u001b[0m",
            "\u001b[0;31mFileNotFoundError\u001b[0m                         Traceback (most recent call last)",
            "\u001b[0;32m<ipython-input-19-666083599b72>\u001b[0m in \u001b[0;36m<module>\u001b[0;34m\u001b[0m\n\u001b[1;32m      1\u001b[0m \u001b[0;32mfrom\u001b[0m \u001b[0mgoogle\u001b[0m\u001b[0;34m.\u001b[0m\u001b[0mcolab\u001b[0m \u001b[0;32mimport\u001b[0m \u001b[0mfiles\u001b[0m\u001b[0;34m\u001b[0m\u001b[0;34m\u001b[0m\u001b[0m\n\u001b[0;32m----> 2\u001b[0;31m \u001b[0mfiles\u001b[0m\u001b[0;34m.\u001b[0m\u001b[0mdownload\u001b[0m\u001b[0;34m(\u001b[0m\u001b[0;34m'test2.zip'\u001b[0m\u001b[0;34m)\u001b[0m\u001b[0;34m\u001b[0m\u001b[0;34m\u001b[0m\u001b[0m\n\u001b[0m",
            "\u001b[0;32m/usr/local/lib/python3.8/dist-packages/google/colab/files.py\u001b[0m in \u001b[0;36mdownload\u001b[0;34m(filename)\u001b[0m\n\u001b[1;32m    207\u001b[0m   \u001b[0;32mif\u001b[0m \u001b[0;32mnot\u001b[0m \u001b[0m_os\u001b[0m\u001b[0;34m.\u001b[0m\u001b[0mpath\u001b[0m\u001b[0;34m.\u001b[0m\u001b[0mexists\u001b[0m\u001b[0;34m(\u001b[0m\u001b[0mfilename\u001b[0m\u001b[0;34m)\u001b[0m\u001b[0;34m:\u001b[0m\u001b[0;34m\u001b[0m\u001b[0;34m\u001b[0m\u001b[0m\n\u001b[1;32m    208\u001b[0m     \u001b[0mmsg\u001b[0m \u001b[0;34m=\u001b[0m \u001b[0;34m'Cannot find file: {}'\u001b[0m\u001b[0;34m.\u001b[0m\u001b[0mformat\u001b[0m\u001b[0;34m(\u001b[0m\u001b[0mfilename\u001b[0m\u001b[0;34m)\u001b[0m\u001b[0;34m\u001b[0m\u001b[0;34m\u001b[0m\u001b[0m\n\u001b[0;32m--> 209\u001b[0;31m     \u001b[0;32mraise\u001b[0m \u001b[0mFileNotFoundError\u001b[0m\u001b[0;34m(\u001b[0m\u001b[0mmsg\u001b[0m\u001b[0;34m)\u001b[0m  \u001b[0;31m# pylint: disable=undefined-variable\u001b[0m\u001b[0;34m\u001b[0m\u001b[0;34m\u001b[0m\u001b[0m\n\u001b[0m\u001b[1;32m    210\u001b[0m \u001b[0;34m\u001b[0m\u001b[0m\n\u001b[1;32m    211\u001b[0m   \u001b[0mcomm_manager\u001b[0m \u001b[0;34m=\u001b[0m \u001b[0m_IPython\u001b[0m\u001b[0;34m.\u001b[0m\u001b[0mget_ipython\u001b[0m\u001b[0;34m(\u001b[0m\u001b[0;34m)\u001b[0m\u001b[0;34m.\u001b[0m\u001b[0mkernel\u001b[0m\u001b[0;34m.\u001b[0m\u001b[0mcomm_manager\u001b[0m\u001b[0;34m\u001b[0m\u001b[0;34m\u001b[0m\u001b[0m\n",
            "\u001b[0;31mFileNotFoundError\u001b[0m: Cannot find file: test2.zip"
          ]
        }
      ]
    },
    {
      "cell_type": "code",
      "source": [],
      "metadata": {
        "id": "rUqiy1NOI8e-"
      },
      "execution_count": null,
      "outputs": []
    },
    {
      "cell_type": "code",
      "source": [
        "# 가중치 조절 후\n",
        "print(\n",
        "'epoch', num_epochs,\n",
        "'model_G_state_dict', netG.state_dict(),\n",
        "'model_D_state_dict', netD.state_dict()\n",
        ")"
      ],
      "metadata": {
        "id": "GWVBFAd_I8hm"
      },
      "execution_count": null,
      "outputs": []
    },
    {
      "cell_type": "code",
      "source": [
        "print(\n",
        "'optimizer_G_state_dict', optimizerG.state_dict(),\n",
        "'optimizer_D_state_dict', optimizerD.state_dict()\n",
        ")"
      ],
      "metadata": {
        "id": "GvYKr30GI8kL"
      },
      "execution_count": null,
      "outputs": []
    },
    {
      "cell_type": "code",
      "source": [
        "for j in range(len(data[1])):\n",
        "    # if data[1][j] == 0:\n",
        "    #     save_image(fake[j],'/content/test2/cyst/DCGAN_cyst_%s.jpg' %(n1),'JPEG')\n",
        "    #     n1 += 1\n",
        "    # if data[1][j] == 1:\n",
        "        save_image(fake[j],'/content/test2/hema/DCGAN_hema_%s.jpg' %(n2),'JPEG')\n",
        "        n2 += 1\n",
        "    # if data[1][j] == 2:\n",
        "    #     save_image(fake[j],'/content/test2/meta/DCGAN_meta_%s.jpg' %(n3),'JPEG')\n",
        "    #     n3 += 1"
      ],
      "metadata": {
        "id": "5F16z5-yI8nC"
      },
      "execution_count": null,
      "outputs": []
    },
    {
      "cell_type": "code",
      "source": [
        "len(img_list2)"
      ],
      "metadata": {
        "id": "j7S5b4jfjGRz",
        "colab": {
          "base_uri": "https://localhost:8080/"
        },
        "outputId": "2503076c-9bbe-400a-8ea6-b2ab315bd10d"
      },
      "execution_count": null,
      "outputs": [
        {
          "output_type": "execute_result",
          "data": {
            "text/plain": [
              "2580"
            ]
          },
          "metadata": {},
          "execution_count": 22
        }
      ]
    },
    {
      "cell_type": "code",
      "source": [
        "# torch.save({\n",
        "#     'epoch': num_epochs,\n",
        "#     'model_G_state_dict': netG.state_dict(),\n",
        "#     'model_D_state_dict': netD.state_dict(),\n",
        "#     'optimizer_G_state_dict': optimizerG.state_dict(),\n",
        "#     'optimizer_D_state_dict': optimizerD.state_dict()\n",
        "# }, 'model_weights.pth')"
      ],
      "metadata": {
        "id": "Q3ATO5Zcfzkm"
      },
      "execution_count": null,
      "outputs": []
    },
    {
      "cell_type": "code",
      "source": [
        "torch.load('model_weights.pth')"
      ],
      "metadata": {
        "id": "RlzWHKiqfznq"
      },
      "execution_count": null,
      "outputs": []
    },
    {
      "cell_type": "code",
      "source": [],
      "metadata": {
        "id": "r36sQN0Wfzrl"
      },
      "execution_count": null,
      "outputs": []
    },
    {
      "cell_type": "code",
      "source": [],
      "metadata": {
        "id": "4fSJcAIVsq5E"
      },
      "execution_count": null,
      "outputs": []
    },
    {
      "cell_type": "code",
      "source": [
        "print(\n",
        "'epoch', num_epochs,\n",
        "'model_G_state_dict', netG.state_dict(),\n",
        "'model_D_state_dict', netD.state_dict(),\n",
        "'optimizer_G_state_dict', optimizerG.state_dict(),\n",
        "'optimizer_D_state_dict', optimizer_D.state_dict()\n",
        ")"
      ],
      "metadata": {
        "colab": {
          "base_uri": "https://localhost:8080/"
        },
        "id": "jOh6gYLxsq7Z",
        "outputId": "f524ef6a-8917-4170-dd0e-559822c1edcd"
      },
      "execution_count": null,
      "outputs": [
        {
          "output_type": "stream",
          "name": "stdout",
          "text": [
            "epoch 30\n"
          ]
        }
      ]
    },
    {
      "cell_type": "code",
      "source": [
        "netG"
      ],
      "metadata": {
        "id": "Uyir7t7RF2Y8"
      },
      "execution_count": null,
      "outputs": []
    },
    {
      "cell_type": "code",
      "source": [
        "netG.apply(weights_init)"
      ],
      "metadata": {
        "id": "4tUr47eQtYww"
      },
      "execution_count": null,
      "outputs": []
    },
    {
      "cell_type": "code",
      "source": [
        "plt.figure(figsize=(10,5))\n",
        "plt.title(\"Generator and Discriminator Loss During Training\")\n",
        "plt.plot(G_losses,label=\"G\")\n",
        "plt.plot(D_losses,label=\"D\")\n",
        "plt.xlabel(\"iterations\")\n",
        "plt.ylabel(\"Loss\")\n",
        "plt.legend()\n",
        "plt.show()"
      ],
      "metadata": {
        "colab": {
          "base_uri": "https://localhost:8080/",
          "height": 350
        },
        "id": "mZGsXH1m34oI",
        "outputId": "defe2d67-db9d-48b2-b642-105987862e9d"
      },
      "execution_count": 17,
      "outputs": [
        {
          "output_type": "display_data",
          "data": {
            "text/plain": [
              "<Figure size 720x360 with 1 Axes>"
            ],
            "image/png": "[encoded data removed]"
          },
          "metadata": {
            "needs_background": "light"
          }
        }
      ]
    },
    {
      "cell_type": "code",
      "source": [
        "len(img_list2)"
      ],
      "metadata": {
        "colab": {
          "base_uri": "https://localhost:8080/"
        },
        "id": "aP6hip_Yj_s6",
        "outputId": "5638b418-0972-49a4-c7c9-4bd9304c742e"
      },
      "execution_count": null,
      "outputs": [
        {
          "output_type": "execute_result",
          "data": {
            "text/plain": [
              "500"
            ]
          },
          "metadata": {},
          "execution_count": 47
        }
      ]
    },
    {
      "cell_type": "code",
      "source": [
        "#dip\n",
        "#생성된 이미지 확인\n",
        "from torchvision.utils import save_image\n",
        "transform = transforms.Grayscale()\n",
        "\n",
        "save_image(img_list2[499], 'image_name1-1.png')\n",
        "save_image(img_list2[498], 'image_name1-2.png')\n",
        "save_image(img_list2[497], 'image_name1-3.png')\n",
        "save_image(img_list2[496], 'image_name1-4.png')\n",
        "save_image(img_list2[495], 'image_name1-5.png')\n",
        "save_image(img_list2[494], 'image_name1-6.png')\n",
        "# save_image(img_list2[6500], 'image_name1-7.png')\n",
        "# save_image(img_list2[6600], 'image_name1-8.png')\n",
        "# save_image(img_list2[6700], 'image_name1-9.png')"
      ],
      "metadata": {
        "id": "HD-rWblb34qx"
      },
      "execution_count": null,
      "outputs": []
    },
    {
      "cell_type": "code",
      "source": [
        "from google.colab import files\n",
        "files.download('/content/dcgan_hema_Result_1.zip')"
      ],
      "metadata": {
        "colab": {
          "base_uri": "https://localhost:8080/",
          "height": 34
        },
        "id": "BmGxts-qjGZC",
        "outputId": "06c7fa45-f291-4c42-847d-a4d8a5d9a646"
      },
      "execution_count": null,
      "outputs": [
        {
          "output_type": "display_data",
          "data": {
            "text/plain": [
              "<IPython.core.display.Javascript object>"
            ],
            "application/javascript": [
              "\n",
              "    async function download(id, filename, size) {\n",
              "      if (!google.colab.kernel.accessAllowed) {\n",
              "        return;\n",
              "      }\n",
              "      const div = document.createElement('div');\n",
              "      const label = document.createElement('label');\n",
              "      label.textContent = `Downloading \"${filename}\": `;\n",
              "      div.appendChild(label);\n",
              "      const progress = document.createElement('progress');\n",
              "      progress.max = size;\n",
              "      div.appendChild(progress);\n",
              "      document.body.appendChild(div);\n",
              "\n",
              "      const buffers = [];\n",
              "      let downloaded = 0;\n",
              "\n",
              "      const channel = await google.colab.kernel.comms.open(id);\n",
              "      // Send a message to notify the kernel that we're ready.\n",
              "      channel.send({})\n",
              "\n",
              "      for await (const message of channel.messages) {\n",
              "        // Send a message to notify the kernel that we're ready.\n",
              "        channel.send({})\n",
              "        if (message.buffers) {\n",
              "          for (const buffer of message.buffers) {\n",
              "            buffers.push(buffer);\n",
              "            downloaded += buffer.byteLength;\n",
              "            progress.value = downloaded;\n",
              "          }\n",
              "        }\n",
              "      }\n",
              "      const blob = new Blob(buffers, {type: 'application/binary'});\n",
              "      const a = document.createElement('a');\n",
              "      a.href = window.URL.createObjectURL(blob);\n",
              "      a.download = filename;\n",
              "      div.appendChild(a);\n",
              "      a.click();\n",
              "      div.remove();\n",
              "    }\n",
              "  "
            ]
          },
          "metadata": {}
        },
        {
          "output_type": "display_data",
          "data": {
            "text/plain": [
              "<IPython.core.display.Javascript object>"
            ],
            "application/javascript": [
              "download(\"download_34f240db-4cb4-4f44-9b65-8bbb657ba820\", \"dcgan_hema_Result_1.zip\", 2301465)"
            ]
          },
          "metadata": {}
        }
      ]
    },
    {
      "cell_type": "code",
      "execution_count": null,
      "metadata": {
        "id": "p_bQ7t2EZAk1"
      },
      "outputs": [],
      "source": [
        "real_batch = next(iter(dataloader))\n",
        "\n",
        "# Plot the real images (진짜 이미지 화면 출력)\n",
        "\n",
        "plt.figure(figsize=(15,15))\n",
        "plt.subplot(1,2,1)\n",
        "plt.axis(\"off\")\n",
        "plt.title(\"Real Images\")\n",
        "plt.imshow(np.transpose(vutils.make_grid(real_batch[0].to(device)[:64], padding=5, normalize=True).cpu(),(1,2,0)))\n",
        "\n",
        "\n",
        "# Plot the fake images from the last epoch (가짜 이미지 화면 출력)\n",
        "\n",
        "plt.subplot(1,2,2)\n",
        "plt.axis(\"off\")\n",
        "plt.title(\"Fake Images\")\n",
        "plt.imshow(np.transpose(img_list2[-1],(1,2,0)))\n",
        "plt.show()"
      ]
    },
    {
      "cell_type": "code",
      "execution_count": null,
      "metadata": {
        "id": "PkTImPtjZAiO"
      },
      "outputs": [],
      "source": [
        "fig = plt.figure(figsize=(8,8))\n",
        "plt.axis(\"off\")\n",
        "ims = [[plt.imshow(np.transpose(i,(1,2,0)), animated=True)] for i in img_list]\n",
        "ani = animation.ArtistAnimation(fig, ims, interval=1000, repeat_delay=1000, blit=True)\n",
        "HTML(ani.to_jshtml())"
      ]
    },
    {
      "cell_type": "code",
      "source": [],
      "metadata": {
        "id": "u2a38i_LTn_P"
      },
      "execution_count": null,
      "outputs": []
    },
    {
      "cell_type": "code",
      "source": [
        "# finetuning"
      ],
      "metadata": {
        "id": "WK10XUscTpkE"
      },
      "execution_count": null,
      "outputs": []
    },
    {
      "cell_type": "code",
      "source": [
        "from __future__ import print_function\n",
        "from __future__ import division\n",
        "import torch\n",
        "import torch.nn as nn\n",
        "import torch.optim as optim\n",
        "import numpy as np\n",
        "import torchvision\n",
        "from torchvision import datasets, models, transforms\n",
        "import matplotlib.pyplot as plt\n",
        "import time\n",
        "import os\n",
        "import copy\n",
        "print(\"PyTorch Version: \",torch.__version__)\n",
        "print(\"Torchvision Version: \",torchvision.__version__)"
      ],
      "metadata": {
        "colab": {
          "base_uri": "https://localhost:8080/"
        },
        "id": "u2K2qK3iTpmb",
        "outputId": "cb56a45f-875d-4f03-f2e4-5b0cac4acdb0"
      },
      "execution_count": null,
      "outputs": [
        {
          "output_type": "stream",
          "name": "stdout",
          "text": [
            "PyTorch Version:  1.13.0+cu116\n",
            "Torchvision Version:  0.14.0+cu116\n"
          ]
        }
      ]
    },
    {
      "cell_type": "code",
      "source": [
        "# Top level data directory. Here we assume the format of the directory conforms\n",
        "#   to the ImageFolder structure\n",
        "data_dir = \"/content/drive/MyDrive/dataset_patch_220117/\"\n",
        "\n",
        "# Models to choose from [resnet, alexnet, vgg, squeezenet, densenet, inception]\n",
        "model_name = \"vgg\"\n",
        "\n",
        "# Number of classes in the dataset\n",
        "num_classes = 3\n",
        "\n",
        "# Batch size for training (change depending on how much memory you have)\n",
        "batch_size = 8\n",
        "\n",
        "# Number of epochs to train for\n",
        "num_epochs = 15\n",
        "\n",
        "# Flag for feature extracting. When False, we finetune the whole model,\n",
        "#   when True we only update the reshaped layer params\n",
        "feature_extract = True"
      ],
      "metadata": {
        "id": "8AiW6z2mTppB"
      },
      "execution_count": null,
      "outputs": []
    },
    {
      "cell_type": "code",
      "source": [
        "def train_model(model, dataloaders, criterion, optimizer, num_epochs=25, is_inception=False):\n",
        "    since = time.time()\n",
        "\n",
        "    val_acc_history = []\n",
        "\n",
        "    best_model_wts = copy.deepcopy(model.state_dict())\n",
        "    best_acc = 0.0\n",
        "\n",
        "    for epoch in range(num_epochs):\n",
        "        print('Epoch {}/{}'.format(epoch, num_epochs - 1))\n",
        "        print('-' * 10)\n",
        "\n",
        "        # Each epoch has a training and validation phase\n",
        "        for phase in ['train', 'val']:\n",
        "            if phase == 'train':\n",
        "                model.train()  # Set model to training mode\n",
        "            else:\n",
        "                model.eval()   # Set model to evaluate mode\n",
        "\n",
        "            running_loss = 0.0\n",
        "            running_corrects = 0\n",
        "\n",
        "            # Iterate over data.\n",
        "            for inputs, labels in dataloaders[phase]:\n",
        "                inputs = inputs.to(device)\n",
        "                labels = labels.to(device)\n",
        "\n",
        "                # zero the parameter gradients\n",
        "                optimizer.zero_grad()\n",
        "\n",
        "                # forward\n",
        "                # track history if only in train\n",
        "                with torch.set_grad_enabled(phase == 'train'):\n",
        "                    # Get model outputs and calculate loss\n",
        "                    # Special case for inception because in training it has an auxiliary output. In train\n",
        "                    #   mode we calculate the loss by summing the final output and the auxiliary output\n",
        "                    #   but in testing we only consider the final output.\n",
        "                    if is_inception and phase == 'train':\n",
        "                        # From https://discuss.pytorch.org/t/how-to-optimize-inception-model-with-auxiliary-classifiers/7958\n",
        "                        outputs, aux_outputs = model(inputs)\n",
        "                        loss1 = criterion(outputs, labels)\n",
        "                        loss2 = criterion(aux_outputs, labels)\n",
        "                        loss = loss1 + 0.4*loss2\n",
        "                    else:\n",
        "                        outputs = model(inputs)\n",
        "                        loss = criterion(outputs, labels)\n",
        "\n",
        "                    _, preds = torch.max(outputs, 1)\n",
        "\n",
        "                    # backward + optimize only if in training phase\n",
        "                    if phase == 'train':\n",
        "                        loss.backward()\n",
        "                        optimizer.step()\n",
        "\n",
        "                # statistics\n",
        "                running_loss += loss.item() * inputs.size(0)\n",
        "                running_corrects += torch.sum(preds == labels.data)\n",
        "\n",
        "            epoch_loss = running_loss / len(dataloaders[phase].dataset)\n",
        "            epoch_acc = running_corrects.double() / len(dataloaders[phase].dataset)\n",
        "\n",
        "            print('{} Loss: {:.4f} Acc: {:.4f}'.format(phase, epoch_loss, epoch_acc))\n",
        "\n",
        "            # deep copy the model\n",
        "            if phase == 'val' and epoch_acc > best_acc:\n",
        "                best_acc = epoch_acc\n",
        "                best_model_wts = copy.deepcopy(model.state_dict())\n",
        "            if phase == 'val':\n",
        "                val_acc_history.append(epoch_acc)\n",
        "\n",
        "        print()\n",
        "\n",
        "    time_elapsed = time.time() - since\n",
        "    print('Training complete in {:.0f}m {:.0f}s'.format(time_elapsed // 60, time_elapsed % 60))\n",
        "    print('Best val Acc: {:4f}'.format(best_acc))\n",
        "\n",
        "    # load best model weights\n",
        "    model.load_state_dict(best_model_wts)\n",
        "    return model, val_acc_history"
      ],
      "metadata": {
        "id": "XyZgDXSnTprY"
      },
      "execution_count": null,
      "outputs": []
    },
    {
      "cell_type": "code",
      "source": [
        "def set_parameter_requires_grad(model, feature_extracting):\n",
        "    if feature_extracting:\n",
        "        for param in model.parameters():\n",
        "            param.requires_grad = False"
      ],
      "metadata": {
        "id": "lAGVL1ATTpt8"
      },
      "execution_count": null,
      "outputs": []
    },
    {
      "cell_type": "code",
      "source": [
        "def initialize_model(model_name, num_classes, feature_extract, use_pretrained=True):\n",
        "    # Initialize these variables which will be set in this if statement. Each of these\n",
        "    #   variables is model specific.\n",
        "    model_ft = None\n",
        "    input_size = 0\n",
        "\n",
        "    if model_name == \"resnet\":\n",
        "        \"\"\" Resnet18\n",
        "        \"\"\"\n",
        "        model_ft = models.resnet18(pretrained=use_pretrained)\n",
        "        set_parameter_requires_grad(model_ft, feature_extract)\n",
        "        num_ftrs = model_ft.fc.in_features\n",
        "        model_ft.fc = nn.Linear(num_ftrs, num_classes)\n",
        "        input_size = 224\n",
        "\n",
        "    elif model_name == \"alexnet\":\n",
        "        \"\"\" Alexnet\n",
        "        \"\"\"\n",
        "        model_ft = models.alexnet(pretrained=use_pretrained)\n",
        "        set_parameter_requires_grad(model_ft, feature_extract)\n",
        "        num_ftrs = model_ft.classifier[6].in_features\n",
        "        model_ft.classifier[6] = nn.Linear(num_ftrs,num_classes)\n",
        "        input_size = 224\n",
        "\n",
        "    elif model_name == \"vgg\":\n",
        "        \"\"\" VGG11_bn\n",
        "        \"\"\"\n",
        "        model_ft = models.vgg11_bn(pretrained=use_pretrained)\n",
        "        set_parameter_requires_grad(model_ft, feature_extract)\n",
        "        num_ftrs = model_ft.classifier[6].in_features\n",
        "        model_ft.classifier[6] = nn.Linear(num_ftrs,num_classes)\n",
        "        input_size = 224\n",
        "\n",
        "    elif model_name == \"squeezenet\":\n",
        "        \"\"\" Squeezenet\n",
        "        \"\"\"\n",
        "        model_ft = models.squeezenet1_0(pretrained=use_pretrained)\n",
        "        set_parameter_requires_grad(model_ft, feature_extract)\n",
        "        model_ft.classifier[1] = nn.Conv2d(512, num_classes, kernel_size=(1,1), stride=(1,1))\n",
        "        model_ft.num_classes = num_classes\n",
        "        input_size = 224\n",
        "\n",
        "    elif model_name == \"densenet\":\n",
        "        \"\"\" Densenet\n",
        "        \"\"\"\n",
        "        model_ft = models.densenet121(pretrained=use_pretrained)\n",
        "        set_parameter_requires_grad(model_ft, feature_extract)\n",
        "        num_ftrs = model_ft.classifier.in_features\n",
        "        model_ft.classifier = nn.Linear(num_ftrs, num_classes)\n",
        "        input_size = 224\n",
        "\n",
        "    elif model_name == \"inception\":\n",
        "        \"\"\" Inception v3\n",
        "        Be careful, expects (299,299) sized images and has auxiliary output\n",
        "        \"\"\"\n",
        "        model_ft = models.inception_v3(pretrained=use_pretrained)\n",
        "        set_parameter_requires_grad(model_ft, feature_extract)\n",
        "        # Handle the auxilary net\n",
        "        num_ftrs = model_ft.AuxLogits.fc.in_features\n",
        "        model_ft.AuxLogits.fc = nn.Linear(num_ftrs, num_classes)\n",
        "        # Handle the primary net\n",
        "        num_ftrs = model_ft.fc.in_features\n",
        "        model_ft.fc = nn.Linear(num_ftrs,num_classes)\n",
        "        input_size = 299\n",
        "\n",
        "    else:\n",
        "        print(\"Invalid model name, exiting...\")\n",
        "        exit()\n",
        "\n",
        "    return model_ft, input_size\n",
        "\n",
        "# Initialize the model for this run\n",
        "model_ft, input_size = initialize_model(model_name, num_classes, feature_extract, use_pretrained=True)\n",
        "\n",
        "# Print the model we just instantiated\n",
        "print(model_ft)"
      ],
      "metadata": {
        "colab": {
          "base_uri": "https://localhost:8080/"
        },
        "id": "ox6fKrYyTpwV",
        "outputId": "2ee20f48-05e4-4ee8-fbb3-8a00278d7eb0"
      },
      "execution_count": null,
      "outputs": [
        {
          "output_type": "stream",
          "name": "stdout",
          "text": [
            "VGG(\n",
            "  (features): Sequential(\n",
            "    (0): Conv2d(3, 64, kernel_size=(3, 3), stride=(1, 1), padding=(1, 1))\n",
            "    (1): BatchNorm2d(64, eps=1e-05, momentum=0.1, affine=True, track_running_stats=True)\n",
            "    (2): ReLU(inplace=True)\n",
            "    (3): MaxPool2d(kernel_size=2, stride=2, padding=0, dilation=1, ceil_mode=False)\n",
            "    (4): Conv2d(64, 128, kernel_size=(3, 3), stride=(1, 1), padding=(1, 1))\n",
            "    (5): BatchNorm2d(128, eps=1e-05, momentum=0.1, affine=True, track_running_stats=True)\n",
            "    (6): ReLU(inplace=True)\n",
            "    (7): MaxPool2d(kernel_size=2, stride=2, padding=0, dilation=1, ceil_mode=False)\n",
            "    (8): Conv2d(128, 256, kernel_size=(3, 3), stride=(1, 1), padding=(1, 1))\n",
            "    (9): BatchNorm2d(256, eps=1e-05, momentum=0.1, affine=True, track_running_stats=True)\n",
            "    (10): ReLU(inplace=True)\n",
            "    (11): Conv2d(256, 256, kernel_size=(3, 3), stride=(1, 1), padding=(1, 1))\n",
            "    (12): BatchNorm2d(256, eps=1e-05, momentum=0.1, affine=True, track_running_stats=True)\n",
            "    (13): ReLU(inplace=True)\n",
            "    (14): MaxPool2d(kernel_size=2, stride=2, padding=0, dilation=1, ceil_mode=False)\n",
            "    (15): Conv2d(256, 512, kernel_size=(3, 3), stride=(1, 1), padding=(1, 1))\n",
            "    (16): BatchNorm2d(512, eps=1e-05, momentum=0.1, affine=True, track_running_stats=True)\n",
            "    (17): ReLU(inplace=True)\n",
            "    (18): Conv2d(512, 512, kernel_size=(3, 3), stride=(1, 1), padding=(1, 1))\n",
            "    (19): BatchNorm2d(512, eps=1e-05, momentum=0.1, affine=True, track_running_stats=True)\n",
            "    (20): ReLU(inplace=True)\n",
            "    (21): MaxPool2d(kernel_size=2, stride=2, padding=0, dilation=1, ceil_mode=False)\n",
            "    (22): Conv2d(512, 512, kernel_size=(3, 3), stride=(1, 1), padding=(1, 1))\n",
            "    (23): BatchNorm2d(512, eps=1e-05, momentum=0.1, affine=True, track_running_stats=True)\n",
            "    (24): ReLU(inplace=True)\n",
            "    (25): Conv2d(512, 512, kernel_size=(3, 3), stride=(1, 1), padding=(1, 1))\n",
            "    (26): BatchNorm2d(512, eps=1e-05, momentum=0.1, affine=True, track_running_stats=True)\n",
            "    (27): ReLU(inplace=True)\n",
            "    (28): MaxPool2d(kernel_size=2, stride=2, padding=0, dilation=1, ceil_mode=False)\n",
            "  )\n",
            "  (avgpool): AdaptiveAvgPool2d(output_size=(7, 7))\n",
            "  (classifier): Sequential(\n",
            "    (0): Linear(in_features=25088, out_features=4096, bias=True)\n",
            "    (1): ReLU(inplace=True)\n",
            "    (2): Dropout(p=0.5, inplace=False)\n",
            "    (3): Linear(in_features=4096, out_features=4096, bias=True)\n",
            "    (4): ReLU(inplace=True)\n",
            "    (5): Dropout(p=0.5, inplace=False)\n",
            "    (6): Linear(in_features=4096, out_features=3, bias=True)\n",
            "  )\n",
            ")\n"
          ]
        }
      ]
    },
    {
      "cell_type": "code",
      "source": [
        "# Data augmentation and normalization for training\n",
        "# Just normalization for validation\n",
        "data_transforms = {\n",
        "    'train': transforms.Compose([\n",
        "        transforms.RandomResizedCrop(input_size),\n",
        "        transforms.RandomHorizontalFlip(),\n",
        "        transforms.ToTensor(),\n",
        "        transforms.Normalize([0.485, 0.456, 0.406], [0.229, 0.224, 0.225])\n",
        "    ]),\n",
        "    'val': transforms.Compose([\n",
        "        transforms.Resize(input_size),\n",
        "        transforms.CenterCrop(input_size),\n",
        "        transforms.ToTensor(),\n",
        "        transforms.Normalize([0.485, 0.456, 0.406], [0.229, 0.224, 0.225])\n",
        "    ]),\n",
        "}\n",
        "\n",
        "print(\"Initializing Datasets and Dataloaders...\")\n",
        "\n",
        "# Create training and validation datasets\n",
        "image_datasets = {x: datasets.ImageFolder(os.path.join(data_dir, x), data_transforms[x]) for x in ['train', 'val']}\n",
        "# Create training and validation dataloaders\n",
        "dataloaders_dict = {x: torch.utils.data.DataLoader(image_datasets[x], batch_size=batch_size, shuffle=True, num_workers=4) for x in ['train', 'val']}\n",
        "\n",
        "# Detect if we have a GPU available\n",
        "device = torch.device(\"cuda:0\" if torch.cuda.is_available() else \"cpu\")"
      ],
      "metadata": {
        "id": "oZ7neuosTpy4",
        "colab": {
          "base_uri": "https://localhost:8080/"
        },
        "outputId": "d55e1c93-427b-46f7-cef6-6da7683bdc3c"
      },
      "execution_count": null,
      "outputs": [
        {
          "output_type": "stream",
          "name": "stdout",
          "text": [
            "Initializing Datasets and Dataloaders...\n"
          ]
        },
        {
          "output_type": "stream",
          "name": "stderr",
          "text": [
            "/usr/local/lib/python3.8/dist-packages/torch/utils/data/dataloader.py:554: UserWarning: This DataLoader will create 4 worker processes in total. Our suggested max number of worker in current system is 2, which is smaller than what this DataLoader is going to create. Please be aware that excessive worker creation might get DataLoader running slow or even freeze, lower the worker number to avoid potential slowness/freeze if necessary.\n",
            "  warnings.warn(_create_warning_msg(\n"
          ]
        }
      ]
    },
    {
      "cell_type": "code",
      "source": [
        "# Send the model to GPU\n",
        "model_ft = model_ft.to(device)\n",
        "\n",
        "# Gather the parameters to be optimized/updated in this run. If we are\n",
        "#  finetuning we will be updating all parameters. However, if we are\n",
        "#  doing feature extract method, we will only update the parameters\n",
        "#  that we have just initialized, i.e. the parameters with requires_grad\n",
        "#  is True.\n",
        "params_to_update = model_ft.parameters()\n",
        "print(\"Params to learn:\")\n",
        "if feature_extract:\n",
        "    params_to_update = []\n",
        "    for name,param in model_ft.named_parameters():\n",
        "        if param.requires_grad == True:\n",
        "            params_to_update.append(param)\n",
        "            print(\"\\t\",name)\n",
        "else:\n",
        "    for name,param in model_ft.named_parameters():\n",
        "        if param.requires_grad == True:\n",
        "            print(\"\\t\",name)\n",
        "\n",
        "# Observe that all parameters are being optimized\n",
        "optimizer_ft = optim.SGD(params_to_update, lr=0.001, momentum=0.9)"
      ],
      "metadata": {
        "id": "sEG4vYt-Tp1Q",
        "colab": {
          "base_uri": "https://localhost:8080/"
        },
        "outputId": "fbb7efa3-19c1-4d94-bbdb-f082de6924ce"
      },
      "execution_count": null,
      "outputs": [
        {
          "output_type": "stream",
          "name": "stdout",
          "text": [
            "Params to learn:\n",
            "\t classifier.6.weight\n",
            "\t classifier.6.bias\n"
          ]
        }
      ]
    },
    {
      "cell_type": "code",
      "source": [
        "# Setup the loss fxn\n",
        "criterion = nn.CrossEntropyLoss()\n",
        "\n",
        "# Train and evaluate\n",
        "model_ft, hist = train_model(model_ft, dataloaders_dict, criterion, optimizer_ft, num_epochs=num_epochs, is_inception=(model_name==\"inception\"))"
      ],
      "metadata": {
        "id": "Yu1xFmwBTp33",
        "colab": {
          "base_uri": "https://localhost:8080/"
        },
        "outputId": "8f5e8927-c4c2-4827-b7f3-3e2f7ed4bbe3"
      },
      "execution_count": null,
      "outputs": [
        {
          "output_type": "stream",
          "name": "stdout",
          "text": [
            "Epoch 0/14\n",
            "----------\n",
            "train Loss: 0.9518 Acc: 0.6065\n",
            "val Loss: 1.1569 Acc: 0.3974\n",
            "\n",
            "Epoch 1/14\n",
            "----------\n",
            "train Loss: 0.8504 Acc: 0.6300\n",
            "val Loss: 1.1165 Acc: 0.4272\n",
            "\n",
            "Epoch 2/14\n",
            "----------\n",
            "train Loss: 0.8578 Acc: 0.6300\n",
            "val Loss: 0.8855 Acc: 0.5762\n",
            "\n",
            "Epoch 3/14\n",
            "----------\n",
            "train Loss: 0.9123 Acc: 0.6153\n",
            "val Loss: 1.1571 Acc: 0.4371\n",
            "\n",
            "Epoch 4/14\n",
            "----------\n",
            "train Loss: 0.8962 Acc: 0.6050\n",
            "val Loss: 0.9371 Acc: 0.5397\n",
            "\n",
            "Epoch 5/14\n",
            "----------\n",
            "train Loss: 0.8603 Acc: 0.6226\n",
            "val Loss: 1.1402 Acc: 0.4735\n",
            "\n",
            "Epoch 6/14\n",
            "----------\n",
            "train Loss: 0.8435 Acc: 0.6505\n",
            "val Loss: 1.1332 Acc: 0.4967\n",
            "\n",
            "Epoch 7/14\n",
            "----------\n",
            "train Loss: 0.8263 Acc: 0.6490\n",
            "val Loss: 0.9322 Acc: 0.5596\n",
            "\n",
            "Epoch 8/14\n",
            "----------\n",
            "train Loss: 0.9016 Acc: 0.5991\n",
            "val Loss: 0.9714 Acc: 0.5596\n",
            "\n",
            "Epoch 9/14\n",
            "----------\n",
            "train Loss: 0.8606 Acc: 0.6432\n",
            "val Loss: 0.9397 Acc: 0.5728\n",
            "\n",
            "Epoch 10/14\n",
            "----------\n",
            "train Loss: 0.8650 Acc: 0.6432\n",
            "val Loss: 0.9980 Acc: 0.5397\n",
            "\n",
            "Epoch 11/14\n",
            "----------\n",
            "train Loss: 0.8332 Acc: 0.6520\n",
            "val Loss: 0.8870 Acc: 0.5762\n",
            "\n",
            "Epoch 12/14\n",
            "----------\n",
            "train Loss: 0.8597 Acc: 0.6505\n",
            "val Loss: 0.9574 Acc: 0.5430\n",
            "\n",
            "Epoch 13/14\n",
            "----------\n",
            "train Loss: 0.8875 Acc: 0.6388\n",
            "val Loss: 1.3260 Acc: 0.4503\n",
            "\n",
            "Epoch 14/14\n",
            "----------\n",
            "train Loss: 0.8590 Acc: 0.6373\n",
            "val Loss: 1.0411 Acc: 0.5132\n",
            "\n",
            "Training complete in 2m 8s\n",
            "Best val Acc: 0.576159\n"
          ]
        }
      ]
    },
    {
      "cell_type": "code",
      "source": [
        "# Initialize the non-pretrained version of the model used for this run\n",
        "scratch_model,_ = initialize_model(model_name, num_classes, feature_extract=False, use_pretrained=False)\n",
        "scratch_model = scratch_model.to(device)\n",
        "scratch_optimizer = optim.SGD(scratch_model.parameters(), lr=0.001, momentum=0.9)\n",
        "scratch_criterion = nn.CrossEntropyLoss()\n",
        "_,scratch_hist = train_model(scratch_model, dataloaders_dict, scratch_criterion, scratch_optimizer, num_epochs=num_epochs, is_inception=(model_name==\"inception\"))\n",
        "\n",
        "# Plot the training curves of validation accuracy vs. number\n",
        "#  of training epochs for the transfer learning method and\n",
        "#  the model trained from scratch\n",
        "ohist = []\n",
        "shist = []\n",
        "\n",
        "ohist = [h.cpu().numpy() for h in hist]\n",
        "shist = [h.cpu().numpy() for h in scratch_hist]\n",
        "\n",
        "plt.title(\"Validation Accuracy vs. Number of Training Epochs\")\n",
        "plt.xlabel(\"Training Epochs\")\n",
        "plt.ylabel(\"Validation Accuracy\")\n",
        "plt.plot(range(1,num_epochs+1),ohist,label=\"Pretrained\")\n",
        "plt.plot(range(1,num_epochs+1),shist,label=\"Scratch\")\n",
        "plt.ylim((0,1.))\n",
        "plt.xticks(np.arange(1, num_epochs+1, 1.0))\n",
        "plt.legend()\n",
        "plt.show()"
      ],
      "metadata": {
        "id": "i5yV74P6Tp6e",
        "colab": {
          "base_uri": "https://localhost:8080/",
          "height": 1000
        },
        "outputId": "b288e2ab-8e4e-4daa-ce63-6f2391b185ec"
      },
      "execution_count": null,
      "outputs": [
        {
          "output_type": "stream",
          "name": "stderr",
          "text": [
            "/usr/local/lib/python3.8/dist-packages/torchvision/models/_utils.py:223: UserWarning: Arguments other than a weight enum or `None` for 'weights' are deprecated since 0.13 and may be removed in the future. The current behavior is equivalent to passing `weights=None`.\n",
            "  warnings.warn(msg)\n"
          ]
        },
        {
          "output_type": "stream",
          "name": "stdout",
          "text": [
            "Epoch 0/14\n",
            "----------\n",
            "train Loss: 1.8952 Acc: 0.5051\n",
            "val Loss: 8.1659 Acc: 0.3808\n",
            "\n",
            "Epoch 1/14\n",
            "----------\n",
            "train Loss: 1.4919 Acc: 0.5433\n",
            "val Loss: 1.5560 Acc: 0.3808\n",
            "\n",
            "Epoch 2/14\n",
            "----------\n",
            "train Loss: 1.3129 Acc: 0.5698\n",
            "val Loss: 1.5036 Acc: 0.4437\n",
            "\n",
            "Epoch 3/14\n",
            "----------\n",
            "train Loss: 1.0377 Acc: 0.5800\n",
            "val Loss: 1.6141 Acc: 0.4007\n",
            "\n",
            "Epoch 4/14\n",
            "----------\n",
            "train Loss: 1.1038 Acc: 0.5727\n",
            "val Loss: 1.2773 Acc: 0.3808\n",
            "\n",
            "Epoch 5/14\n",
            "----------\n",
            "train Loss: 0.9823 Acc: 0.5962\n",
            "val Loss: 1.1486 Acc: 0.3874\n",
            "\n",
            "Epoch 6/14\n",
            "----------\n",
            "train Loss: 0.9462 Acc: 0.6021\n",
            "val Loss: 1.0412 Acc: 0.4106\n",
            "\n",
            "Epoch 7/14\n",
            "----------\n",
            "train Loss: 0.9401 Acc: 0.6035\n",
            "val Loss: 1.1277 Acc: 0.3841\n",
            "\n",
            "Epoch 8/14\n",
            "----------\n",
            "train Loss: 0.9244 Acc: 0.6021\n",
            "val Loss: 1.3715 Acc: 0.3742\n",
            "\n",
            "Epoch 9/14\n",
            "----------\n",
            "train Loss: 0.9356 Acc: 0.5991\n",
            "val Loss: 1.1657 Acc: 0.4040\n",
            "\n",
            "Epoch 10/14\n",
            "----------\n",
            "train Loss: 0.9426 Acc: 0.6138\n",
            "val Loss: 1.1667 Acc: 0.4007\n",
            "\n",
            "Epoch 11/14\n",
            "----------\n",
            "train Loss: 0.9059 Acc: 0.6167\n",
            "val Loss: 1.0964 Acc: 0.3808\n",
            "\n",
            "Epoch 12/14\n",
            "----------\n",
            "train Loss: 0.9294 Acc: 0.6153\n",
            "val Loss: 1.2324 Acc: 0.3808\n",
            "\n",
            "Epoch 13/14\n",
            "----------\n",
            "train Loss: 0.9257 Acc: 0.6123\n",
            "val Loss: 1.0381 Acc: 0.4305\n",
            "\n",
            "Epoch 14/14\n",
            "----------\n",
            "train Loss: 0.8784 Acc: 0.6182\n",
            "val Loss: 1.1626 Acc: 0.3874\n",
            "\n",
            "Training complete in 3m 8s\n",
            "Best val Acc: 0.443709\n"
          ]
        },
        {
          "output_type": "display_data",
          "data": {
            "text/plain": [
              "<Figure size 432x288 with 1 Axes>"
            ],
            "image/png": "[encoded data removed]"
          },
          "metadata": {
            "needs_background": "light"
          }
        }
      ]
    },
    {
      "cell_type": "code",
      "source": [],
      "metadata": {
        "id": "ZPgWKM90Tp9m"
      },
      "execution_count": null,
      "outputs": []
    }
  ],
  "metadata": {
    "colab": {
      "provenance": [],
      "collapsed_sections": [
        "ktrU8KqvAp0u",
        "mAQFiyOyA00p"
      ]
    },
    "kernelspec": {
      "display_name": "Python 3",
      "name": "python3"
    },
    "language_info": {
      "name": "python"
    },
    "accelerator": "GPU",
    "gpuClass": "standard"
  },
  "nbformat": 4,
  "nbformat_minor": 0
}