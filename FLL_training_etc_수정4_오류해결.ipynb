{
  "cells": [
    {
      "cell_type": "code",
      "execution_count": 1,
      "metadata": {
        "colab": {
          "base_uri": "https://localhost:8080/"
        },
        "id": "CUaSALmrwcCi",
        "outputId": "351b59d8-396c-4f34-ab29-1b2ec7fe2443"
      },
      "outputs": [
        {
          "output_type": "stream",
          "name": "stdout",
          "text": [
            "Mounted at /content/drive\n"
          ]
        }
      ],
      "source": [
        "from google.colab import drive\n",
        "drive.mount('/content/drive')"
      ]
    },
    {
      "cell_type": "code",
      "execution_count": 2,
      "metadata": {
        "colab": {
          "base_uri": "https://localhost:8080/"
        },
        "id": "0G-NAycTTFEZ",
        "outputId": "b3692c21-6d57-41c9-838e-a05e1476e118"
      },
      "outputs": [
        {
          "output_type": "stream",
          "name": "stdout",
          "text": [
            "--2022-12-05 12:38:32--  https://www.dropbox.com/s/x99fwovdh1gz5vs/aug_dataset.zip?dl=0\n",
            "Resolving www.dropbox.com (www.dropbox.com)... 162.125.81.18, 2620:100:6022:18::a27d:4212\n",
            "Connecting to www.dropbox.com (www.dropbox.com)|162.125.81.18|:443... connected.\n",
            "HTTP request sent, awaiting response... 302 Found\n",
            "Location: /s/raw/x99fwovdh1gz5vs/aug_dataset.zip [following]\n",
            "--2022-12-05 12:38:32--  https://www.dropbox.com/s/raw/x99fwovdh1gz5vs/aug_dataset.zip\n",
            "Reusing existing connection to www.dropbox.com:443.\n",
            "HTTP request sent, awaiting response... 302 Found\n",
            "Location: https://uc912d3fa392cc7e91d6bcfcbdc3.dl.dropboxusercontent.com/cd/0/inline/ByDVJ4vwxM1Y9uxEnIPs93nN-ooOApCQxuVb9QxU_qz5rqasCDT2yU00UGv3xqtby5YMnokRE5IHEB2RVjMJGFGaKw166WJebHDjX_LmUfyQkncqp3CC0tzIrwOWpqCBK6PiIN_05XuouxS8jMc3_vvOF2atsvHw5j4Oks078zOPqA/file# [following]\n",
            "--2022-12-05 12:38:33--  https://uc912d3fa392cc7e91d6bcfcbdc3.dl.dropboxusercontent.com/cd/0/inline/ByDVJ4vwxM1Y9uxEnIPs93nN-ooOApCQxuVb9QxU_qz5rqasCDT2yU00UGv3xqtby5YMnokRE5IHEB2RVjMJGFGaKw166WJebHDjX_LmUfyQkncqp3CC0tzIrwOWpqCBK6PiIN_05XuouxS8jMc3_vvOF2atsvHw5j4Oks078zOPqA/file\n",
            "Resolving uc912d3fa392cc7e91d6bcfcbdc3.dl.dropboxusercontent.com (uc912d3fa392cc7e91d6bcfcbdc3.dl.dropboxusercontent.com)... 162.125.69.15, 2620:100:6022:15::a27d:420f\n",
            "Connecting to uc912d3fa392cc7e91d6bcfcbdc3.dl.dropboxusercontent.com (uc912d3fa392cc7e91d6bcfcbdc3.dl.dropboxusercontent.com)|162.125.69.15|:443... connected.\n",
            "HTTP request sent, awaiting response... 302 Found\n",
            "Location: /cd/0/inline2/ByCZInopUox1bSl1R9lH9tTA-AUlatSu7vNIOmpJTxryoql3CsqpoS5yg8hFdrELH8f4f_rGvsVZzwXAxNc5JOrNPgRmMr0pB5DAD8-ugLEK2Q4ABFRPL6GQEiK_epYTwGuhYCFaB9VufBEv_0GCdJ72-SakmHRDINe7tJNq9kVwAxRsBVGH_I4GxHAQc1XO7pI6iaeOjUf3ouj1RKX3K5bBJV_mdWAf1ZnFo3lYVwO1nRJ9smQjSCyjnUFLURFn0rX6tInm-mJdDODGxIB4n5s-2AYTMMciny7wXK-8jx5BOZNOEf2G3pyOmNOeHm5oiDee7JbInf5OtkJFOjyVEjnd0mk9SgRhO3zXWQrVHOp-9_5huhyk2A984lrJqHEZxlR-A8Hw0fUEEAoaOvcn4v1sGuBZTyMN9A8Gxhuh_K54zQ/file [following]\n",
            "--2022-12-05 12:38:34--  https://uc912d3fa392cc7e91d6bcfcbdc3.dl.dropboxusercontent.com/cd/0/inline2/ByCZInopUox1bSl1R9lH9tTA-AUlatSu7vNIOmpJTxryoql3CsqpoS5yg8hFdrELH8f4f_rGvsVZzwXAxNc5JOrNPgRmMr0pB5DAD8-ugLEK2Q4ABFRPL6GQEiK_epYTwGuhYCFaB9VufBEv_0GCdJ72-SakmHRDINe7tJNq9kVwAxRsBVGH_I4GxHAQc1XO7pI6iaeOjUf3ouj1RKX3K5bBJV_mdWAf1ZnFo3lYVwO1nRJ9smQjSCyjnUFLURFn0rX6tInm-mJdDODGxIB4n5s-2AYTMMciny7wXK-8jx5BOZNOEf2G3pyOmNOeHm5oiDee7JbInf5OtkJFOjyVEjnd0mk9SgRhO3zXWQrVHOp-9_5huhyk2A984lrJqHEZxlR-A8Hw0fUEEAoaOvcn4v1sGuBZTyMN9A8Gxhuh_K54zQ/file\n",
            "Reusing existing connection to uc912d3fa392cc7e91d6bcfcbdc3.dl.dropboxusercontent.com:443.\n",
            "HTTP request sent, awaiting response... 200 OK\n",
            "Length: 9986 (9.8K) [application/zip]\n",
            "Saving to: ‘aug_dataset.zip’\n",
            "\n",
            "aug_dataset.zip     100%[===================>]   9.75K  --.-KB/s    in 0s      \n",
            "\n",
            "2022-12-05 12:38:34 (153 MB/s) - ‘aug_dataset.zip’ saved [9986/9986]\n",
            "\n",
            "--2022-12-05 12:38:34--  https://www.dropbox.com/s/n2ksbi3i22l9om5/augmentations.py?dl=0\n",
            "Resolving www.dropbox.com (www.dropbox.com)... 162.125.81.18, 2620:100:6022:18::a27d:4212\n",
            "Connecting to www.dropbox.com (www.dropbox.com)|162.125.81.18|:443... connected.\n",
            "HTTP request sent, awaiting response... 302 Found\n",
            "Location: /s/raw/n2ksbi3i22l9om5/augmentations.py [following]\n",
            "--2022-12-05 12:38:35--  https://www.dropbox.com/s/raw/n2ksbi3i22l9om5/augmentations.py\n",
            "Reusing existing connection to www.dropbox.com:443.\n",
            "HTTP request sent, awaiting response... 302 Found\n",
            "Location: https://uc8be7beea97064acb0f4984ea78.dl.dropboxusercontent.com/cd/0/inline/ByBuDB92VFioOvHvIb2d9Q0FVAafX5_uV3rdHqhERwuVTzOKAVTja36d-DUc0rSi5QJ4RhMooiZm5SObeS5T3YQFWi6yd40nwwaEzuvYcOCnX9yC9MRX4GMWJLLNzw0qyT0Ap4br3jhWaOKlvwg9EVBcEWzWwTpmFBwNrfEdCwyWQg/file# [following]\n",
            "--2022-12-05 12:38:36--  https://uc8be7beea97064acb0f4984ea78.dl.dropboxusercontent.com/cd/0/inline/ByBuDB92VFioOvHvIb2d9Q0FVAafX5_uV3rdHqhERwuVTzOKAVTja36d-DUc0rSi5QJ4RhMooiZm5SObeS5T3YQFWi6yd40nwwaEzuvYcOCnX9yC9MRX4GMWJLLNzw0qyT0Ap4br3jhWaOKlvwg9EVBcEWzWwTpmFBwNrfEdCwyWQg/file\n",
            "Resolving uc8be7beea97064acb0f4984ea78.dl.dropboxusercontent.com (uc8be7beea97064acb0f4984ea78.dl.dropboxusercontent.com)... 162.125.7.15, 2620:100:6031:15::a27d:510f\n",
            "Connecting to uc8be7beea97064acb0f4984ea78.dl.dropboxusercontent.com (uc8be7beea97064acb0f4984ea78.dl.dropboxusercontent.com)|162.125.7.15|:443... connected.\n",
            "HTTP request sent, awaiting response... 200 OK\n",
            "Length: 4901 (4.8K) [text/plain]\n",
            "Saving to: ‘augmentations.py’\n",
            "\n",
            "augmentations.py    100%[===================>]   4.79K  --.-KB/s    in 0s      \n",
            "\n",
            "2022-12-05 12:38:36 (602 MB/s) - ‘augmentations.py’ saved [4901/4901]\n",
            "\n",
            "--2022-12-05 12:38:37--  https://www.dropbox.com/s/6337e2k2yefltzw/run_cl3_ratio_v4_0.py?dl=0\n",
            "Resolving www.dropbox.com (www.dropbox.com)... 162.125.81.18, 2620:100:6022:18::a27d:4212\n",
            "Connecting to www.dropbox.com (www.dropbox.com)|162.125.81.18|:443... connected.\n",
            "HTTP request sent, awaiting response... 302 Found\n",
            "Location: /s/raw/6337e2k2yefltzw/run_cl3_ratio_v4_0.py [following]\n",
            "--2022-12-05 12:38:37--  https://www.dropbox.com/s/raw/6337e2k2yefltzw/run_cl3_ratio_v4_0.py\n",
            "Reusing existing connection to www.dropbox.com:443.\n",
            "HTTP request sent, awaiting response... 302 Found\n",
            "Location: https://uccb76bf9c696efad67b43e123b0.dl.dropboxusercontent.com/cd/0/inline/ByBVImaSGJcFeHj7rIuxAAW-uEoKJkoi22tJgCDqYpC9tbKbswJRIoTbCcWIypwegh3h6my0KI_7Y3SvSF8vZ-yGCxMkjvp_6ST9IXAPfIMfAFI7Am-7Z4pt1v-Hv9KIgc-lEo5PS16DWpOPo_dduPPrfQnMNrx5O18FQcQODqig6g/file# [following]\n",
            "--2022-12-05 12:38:37--  https://uccb76bf9c696efad67b43e123b0.dl.dropboxusercontent.com/cd/0/inline/ByBVImaSGJcFeHj7rIuxAAW-uEoKJkoi22tJgCDqYpC9tbKbswJRIoTbCcWIypwegh3h6my0KI_7Y3SvSF8vZ-yGCxMkjvp_6ST9IXAPfIMfAFI7Am-7Z4pt1v-Hv9KIgc-lEo5PS16DWpOPo_dduPPrfQnMNrx5O18FQcQODqig6g/file\n",
            "Resolving uccb76bf9c696efad67b43e123b0.dl.dropboxusercontent.com (uccb76bf9c696efad67b43e123b0.dl.dropboxusercontent.com)... 162.125.80.15, 2620:100:6031:15::a27d:510f\n",
            "Connecting to uccb76bf9c696efad67b43e123b0.dl.dropboxusercontent.com (uccb76bf9c696efad67b43e123b0.dl.dropboxusercontent.com)|162.125.80.15|:443... connected.\n",
            "HTTP request sent, awaiting response... 200 OK\n",
            "Length: 33071 (32K) [text/plain]\n",
            "Saving to: ‘run_cl3_ratio_v4_0.py’\n",
            "\n",
            "run_cl3_ratio_v4_0. 100%[===================>]  32.30K  --.-KB/s    in 0.08s   \n",
            "\n",
            "2022-12-05 12:38:38 (403 KB/s) - ‘run_cl3_ratio_v4_0.py’ saved [33071/33071]\n",
            "\n"
          ]
        }
      ],
      "source": [
        "##### dropbox download #####\n",
        "\n",
        "#aug_dataset.zip dropbox - [styleGAN]\n",
        "# ! wget https://www.dropbox.com/s/ra2gpdl5iqqg7ji/aug_dataset.zip?dl=0 -O aug_dataset.zip\n",
        "\n",
        "#aug_dataset.zip dropbox - [DCGAN]\n",
        "! wget https://www.dropbox.com/s/x99fwovdh1gz5vs/aug_dataset.zip?dl=0 -O aug_dataset.zip\n",
        "\n",
        "#augmentations.py dropbox\n",
        "! wget https://www.dropbox.com/s/n2ksbi3i22l9om5/augmentations.py?dl=0 -O augmentations.py\n",
        "\n",
        "# run_cl3_ratio_v4_0.py dropbox\n",
        "! wget https://www.dropbox.com/s/6337e2k2yefltzw/run_cl3_ratio_v4_0.py?dl=0 -O run_cl3_ratio_v4_0.py\n",
        "\n",
        "# run_cl3_ratio_v4_25.py dropbox\n",
        "# ! wget https://www.dropbox.com/s/rva3wtnv1be2ywk/run_cl3_ratio_v4_25.py?dl=0 -O run_cl3_ratio_v4_25.py\n",
        "\n",
        "# run_cl3_ratio_v4_50.py dropbox\n",
        "# ! wget https://www.dropbox.com/s/nveneqnrgplx1a4/run_cl3_ratio_v4_50.py?dl=0 -O run_cl3_ratio_v4_50.py\n",
        "\n",
        "# run_cl3_ratio_v4_75.py dropbox\n",
        "# ! wget https://www.dropbox.com/s/ya7ogxwes7sedyt/run_cl3_ratio_v4_75.py?dl=0 -O run_cl3_ratio_v4_75.py\n",
        "\n",
        "# run_cl3_ratio_v4_100.py dropbox\n",
        "#! wget https://www.dropbox.com/s/njenum3ea1yz48q/run_cl3_ratio_v4_100.py?dl=0 -O run_cl3_ratio_v4_100.py\n"
      ]
    },
    {
      "cell_type": "code",
      "execution_count": 3,
      "metadata": {
        "id": "XjaNxQOZzoiF"
      },
      "outputs": [],
      "source": [
        "# aug_dataset.zip 풀기\n",
        "!unzip -qq \"/content/aug_dataset.zip\""
      ]
    },
    {
      "cell_type": "markdown",
      "source": [
        "### 데이터 확인"
      ],
      "metadata": {
        "id": "N222fwjzS8eX"
      }
    },
    {
      "cell_type": "code",
      "execution_count": 4,
      "metadata": {
        "colab": {
          "base_uri": "https://localhost:8080/"
        },
        "id": "V_ChHV9OUrVJ",
        "outputId": "60abcf96-c585-467b-dbee-19ffde886b8e"
      },
      "outputs": [
        {
          "output_type": "stream",
          "name": "stdout",
          "text": [
            "-rw-r--r-- 1 root root 23665 Jul  6 08:01 /content/aug_dataset/test.csv\n",
            "-rw-r--r-- 1 root root 53823 May 30  2022 /content/aug_dataset/train1.csv\n",
            "-rw-r--r-- 1 root root 46037 Nov 21 07:07 /content/aug_dataset/train2.csv\n",
            "-rw-r--r-- 1 root root 22676 Jul 31 17:57 /content/aug_dataset/val.csv\n"
          ]
        }
      ],
      "source": [
        "! ls -l /content/aug_dataset/*.csv"
      ]
    },
    {
      "cell_type": "code",
      "execution_count": 5,
      "metadata": {
        "colab": {
          "base_uri": "https://localhost:8080/"
        },
        "id": "T_kHCl8qUP3Z",
        "outputId": "8bbdf98d-96dc-4f8a-e42b-6f4c3f4a8757"
      },
      "outputs": [
        {
          "output_type": "stream",
          "name": "stdout",
          "text": [
            "total 723\n",
            "-rw------- 1 root root 1498 Apr 27  2020 train_00001.jpg\n",
            "-rw------- 1 root root 1550 Apr 27  2020 train_00002.jpg\n",
            "-rw------- 1 root root 1234 Apr 27  2020 train_00003.jpg\n",
            "-rw------- 1 root root 1080 Apr 27  2020 train_00004.jpg\n",
            "-rw------- 1 root root 1497 Apr 27  2020 train_00005.jpg\n",
            "-rw------- 1 root root 1319 Apr 27  2020 train_00006.jpg\n",
            "-rw------- 1 root root 1536 Apr 27  2020 train_00007.jpg\n",
            "-rw------- 1 root root 1174 Apr 27  2020 train_00008.jpg\n",
            "-rw------- 1 root root 1446 Apr 27  2020 train_00009.jpg\n",
            "total 296\n",
            "-rw------- 1 root root 1582 Apr 27  2020 train_00001.jpg\n",
            "-rw------- 1 root root 1556 Apr 27  2020 train_00002.jpg\n",
            "-rw------- 1 root root 1753 Apr 27  2020 train_00003.jpg\n",
            "-rw------- 1 root root 1348 Apr 27  2020 train_00004.jpg\n",
            "-rw------- 1 root root 1485 Apr 27  2020 train_00005.jpg\n",
            "-rw------- 1 root root 1376 Apr 27  2020 train_00006.jpg\n",
            "-rw------- 1 root root 1372 Apr 27  2020 train_00007.jpg\n",
            "-rw------- 1 root root 1559 Apr 27  2020 train_00008.jpg\n",
            "-rw------- 1 root root 1568 Apr 27  2020 train_00009.jpg\n",
            "total 203\n",
            "-rw------- 1 root root 1484 Apr 27  2020 test_00001.jpg\n",
            "-rw------- 1 root root 1525 Apr 27  2020 test_00002.jpg\n",
            "-rw------- 1 root root 1515 Apr 27  2020 test_00003.jpg\n",
            "-rw------- 1 root root 1453 Apr 27  2020 test_00004.jpg\n",
            "-rw------- 1 root root 1533 Apr 27  2020 test_00005.jpg\n",
            "-rw------- 1 root root 1459 Apr 27  2020 test_00006.jpg\n",
            "-rw------- 1 root root 1368 Apr 27  2020 test_00007.jpg\n",
            "-rw------- 1 root root 1298 Apr 27  2020 test_00008.jpg\n",
            "-rw------- 1 root root 1647 Apr 27  2020 test_00009.jpg\n",
            "total 240\n",
            "-rw------- 1 root root 1483 Apr 27  2020 test_00001.jpg\n",
            "-rw------- 1 root root 1518 Apr 27  2020 test_00002.jpg\n",
            "-rw------- 1 root root 1597 Apr 27  2020 test_00003.jpg\n",
            "-rw------- 1 root root 1490 Apr 27  2020 test_00004.jpg\n",
            "-rw------- 1 root root 1516 Apr 27  2020 test_00005.jpg\n",
            "-rw------- 1 root root 1430 Apr 27  2020 test_00006.jpg\n",
            "-rw------- 1 root root 1385 Apr 27  2020 test_00007.jpg\n",
            "-rw------- 1 root root 1495 Apr 27  2020 test_00008.jpg\n",
            "-rw------- 1 root root 1472 Apr 27  2020 test_00009.jpg\n",
            "total 193\n",
            "-rw------- 1 root root 1555 Apr 27  2020 val_00001.jpg\n",
            "-rw------- 1 root root 1578 Apr 27  2020 val_00002.jpg\n",
            "-rw------- 1 root root 1627 Apr 27  2020 val_00003.jpg\n",
            "-rw------- 1 root root 1634 Apr 27  2020 val_00004.jpg\n",
            "-rw------- 1 root root 1158 Apr 27  2020 val_00005.jpg\n",
            "-rw------- 1 root root 1655 Apr 27  2020 val_00006.jpg\n",
            "-rw------- 1 root root 1547 Apr 27  2020 val_00007.jpg\n",
            "-rw------- 1 root root 1460 Apr 27  2020 val_00008.jpg\n",
            "-rw------- 1 root root 1465 Apr 27  2020 val_00009.jpg\n",
            "total 262\n",
            "-rw------- 1 root root 1329 Apr 27  2020 val_00001.jpg\n",
            "-rw------- 1 root root 1378 Apr 27  2020 val_00002.jpg\n",
            "-rw------- 1 root root 1287 Apr 27  2020 val_00003.jpg\n",
            "-rw------- 1 root root 1444 Apr 27  2020 val_00004.jpg\n",
            "-rw------- 1 root root 1616 Apr 27  2020 val_00005.jpg\n",
            "-rw------- 1 root root 1452 Apr 27  2020 val_00006.jpg\n",
            "-rw------- 1 root root 1451 Apr 27  2020 val_00007.jpg\n",
            "-rw------- 1 root root 1621 Apr 27  2020 val_00008.jpg\n",
            "-rw------- 1 root root 1550 Apr 27  2020 val_00009.jpg\n"
          ]
        }
      ],
      "source": [
        "# original data 확인\n",
        "! ls -l /content/drive/MyDrive/dataset_patch_220117/train/cyst/ | head\n",
        "! ls -l /content/drive/MyDrive/dataset_patch_220117/train/meta/ | head\n",
        "\n",
        "! ls -l /content/drive/MyDrive/dataset_patch_220117/test/cyst/ | head\n",
        "! ls -l /content/drive/MyDrive/dataset_patch_220117/test/meta/ | head\n",
        "\n",
        "! ls -l /content/drive/MyDrive/dataset_patch_220117/val/cyst/ | head\n",
        "! ls -l /content/drive/MyDrive/dataset_patch_220117/val/meta/ | head"
      ]
    },
    {
      "cell_type": "code",
      "execution_count": 6,
      "metadata": {
        "colab": {
          "base_uri": "https://localhost:8080/"
        },
        "id": "erSDExSk0HR8",
        "outputId": "d4104b06-27ca-4d1a-c89a-66ee31130648"
      },
      "outputs": [
        {
          "output_type": "stream",
          "name": "stdout",
          "text": [
            "-rw-r--r-- 1 root root 53823 May 30  2022 /content/aug_dataset/train1.csv\n",
            "-rw-r--r-- 1 root root 46037 Nov 21 07:07 /content/aug_dataset/train2.csv\n"
          ]
        }
      ],
      "source": [
        "# # tar 파일(aug_dataset) 확인\n",
        "! ls -l /content/aug_dataset/train1.csv | head\n",
        "! ls -l /content/aug_dataset/train2.csv | head"
      ]
    },
    {
      "cell_type": "code",
      "execution_count": 7,
      "metadata": {
        "colab": {
          "base_uri": "https://localhost:8080/"
        },
        "id": "hDlF8Ly-sAfA",
        "outputId": "0683d270-8f88-4656-f4cb-ed39c6f3f145"
      },
      "outputs": [
        {
          "output_type": "stream",
          "name": "stdout",
          "text": [
            "total 827\n",
            "-rw------- 1 root root 1954 Dec  4 14:00 DCGAN_cyst_100.jpg\n",
            "-rw------- 1 root root 1703 Dec  4 14:00 DCGAN_cyst_101.jpg\n",
            "-rw------- 1 root root 1577 Dec  4 14:00 DCGAN_cyst_102.jpg\n",
            "-rw------- 1 root root 1435 Dec  4 14:00 DCGAN_cyst_103.jpg\n",
            "-rw------- 1 root root 1688 Dec  4 14:00 DCGAN_cyst_104.jpg\n",
            "-rw------- 1 root root 1610 Dec  4 14:00 DCGAN_cyst_105.jpg\n",
            "-rw------- 1 root root 1783 Dec  4 14:00 DCGAN_cyst_106.jpg\n",
            "-rw------- 1 root root 1812 Dec  4 14:00 DCGAN_cyst_107.jpg\n",
            "-rw------- 1 root root 1356 Dec  4 14:00 DCGAN_cyst_108.jpg\n",
            "total 344\n",
            "-rw------- 1 root root 1689 Dec  4 14:00 DCGAN_meta_100.jpg\n",
            "-rw------- 1 root root 1930 Dec  4 14:00 DCGAN_meta_101.jpg\n",
            "-rw------- 1 root root 1571 Dec  4 14:00 DCGAN_meta_102.jpg\n",
            "-rw------- 1 root root 1564 Dec  4 14:00 DCGAN_meta_103.jpg\n",
            "-rw------- 1 root root 1468 Dec  4 14:00 DCGAN_meta_104.jpg\n",
            "-rw------- 1 root root 1641 Dec  4 14:00 DCGAN_meta_105.jpg\n",
            "-rw------- 1 root root 1827 Dec  4 14:00 DCGAN_meta_106.jpg\n",
            "-rw------- 1 root root 1759 Dec  4 14:00 DCGAN_meta_107.jpg\n",
            "-rw------- 1 root root 1388 Dec  4 14:00 DCGAN_meta_108.jpg\n"
          ]
        }
      ],
      "source": [
        "# stylegan data 확인\n",
        "# ! ls -l /content/drive/MyDrive/StyleGAN_result/cyst | head\n",
        "# ! ls -l /content/drive/MyDrive/StyleGAN_result/meta/ | head\n",
        "\n",
        "# dcgan data 확인\n",
        "! ls -l /content/drive/MyDrive/DCGAN_result/cyst | head\n",
        "! ls -l /content/drive/MyDrive/DCGAN_result/meta/ | head"
      ]
    },
    {
      "cell_type": "markdown",
      "source": [
        "### 모듈 install"
      ],
      "metadata": {
        "id": "DI0kxH9VS4j7"
      }
    },
    {
      "cell_type": "code",
      "execution_count": null,
      "metadata": {
        "id": "zzTdTjljIkEK"
      },
      "outputs": [],
      "source": [
        "# import cv2\n",
        "# from matplotlib import pyplot as plt"
      ]
    },
    {
      "cell_type": "code",
      "source": [
        "!pip install -q condacolab"
      ],
      "metadata": {
        "id": "PqO7vyaRHzod"
      },
      "execution_count": 8,
      "outputs": []
    },
    {
      "cell_type": "code",
      "source": [
        "import condacolab\n",
        "condacolab.install()"
      ],
      "metadata": {
        "colab": {
          "base_uri": "https://localhost:8080/"
        },
        "id": "yQyAOUuxH2Qb",
        "outputId": "7144d489-f586-433f-81ad-c5fd5a898e4d"
      },
      "execution_count": 9,
      "outputs": [
        {
          "output_type": "stream",
          "name": "stdout",
          "text": [
            "⏬ Downloading https://github.com/jaimergp/miniforge/releases/latest/download/Mambaforge-colab-Linux-x86_64.sh...\n",
            "📦 Installing...\n",
            "📌 Adjusting configuration...\n",
            "🩹 Patching environment...\n",
            "⏲ Done in 0:01:12\n",
            "🔁 Restarting kernel...\n"
          ]
        }
      ]
    },
    {
      "cell_type": "code",
      "source": [
        "import sys\n",
        "sys.path"
      ],
      "metadata": {
        "colab": {
          "base_uri": "https://localhost:8080/"
        },
        "id": "4Hm4h1e3ICGv",
        "outputId": "4bd5abb2-4456-446f-8ad7-048cd50cd1d3"
      },
      "execution_count": 10,
      "outputs": [
        {
          "output_type": "execute_result",
          "data": {
            "text/plain": [
              "['/usr/local/lib/python3.8/site-packages',\n",
              " '/content',\n",
              " '/env/python',\n",
              " '/usr/lib/python38.zip',\n",
              " '/usr/lib/python3.8',\n",
              " '/usr/lib/python3.8/lib-dynload',\n",
              " '',\n",
              " '/usr/local/lib/python3.8/dist-packages',\n",
              " '/usr/lib/python3/dist-packages',\n",
              " '/usr/local/lib/python3.8/dist-packages/IPython/extensions',\n",
              " '/root/.ipython']"
            ]
          },
          "metadata": {},
          "execution_count": 10
        }
      ]
    },
    {
      "cell_type": "code",
      "source": [
        "%%shell\n",
        "python --version"
      ],
      "metadata": {
        "colab": {
          "base_uri": "https://localhost:8080/"
        },
        "id": "jniBY0oaIQQL",
        "outputId": "4139e6bd-9baf-454e-87dc-6f073de5b21e"
      },
      "execution_count": 1,
      "outputs": [
        {
          "output_type": "stream",
          "name": "stdout",
          "text": [
            "Python 3.7.12\n"
          ]
        },
        {
          "output_type": "execute_result",
          "data": {
            "text/plain": []
          },
          "metadata": {},
          "execution_count": 1
        }
      ]
    },
    {
      "cell_type": "code",
      "source": [
        "import condacolab\n",
        "condacolab.check()"
      ],
      "metadata": {
        "colab": {
          "base_uri": "https://localhost:8080/"
        },
        "id": "y2nAcNToISsq",
        "outputId": "09936e16-f95e-4771-b462-c4bc6d1944b6"
      },
      "execution_count": 2,
      "outputs": [
        {
          "output_type": "stream",
          "name": "stdout",
          "text": [
            "✨🍰✨ Everything looks OK!\n"
          ]
        }
      ]
    },
    {
      "cell_type": "code",
      "source": [
        "!conda create -n py37 python=3.7 pip tensorflow"
      ],
      "metadata": {
        "colab": {
          "base_uri": "https://localhost:8080/"
        },
        "id": "Z_5TRdnFHmjh",
        "outputId": "2da245ef-6cbe-405a-adae-324ad3dc0946"
      },
      "execution_count": 3,
      "outputs": [
        {
          "output_type": "stream",
          "name": "stdout",
          "text": [
            "Collecting package metadata (current_repodata.json): - \b\b\\ \b\b| \b\b/ \b\b- \b\b\\ \b\b| \b\b/ \b\b- \b\b\\ \b\b| \b\b/ \b\b- \b\b\\ \b\b| \b\b/ \b\b- \b\b\\ \b\b| \b\b/ \b\b- \b\b\\ \b\b| \b\b/ \b\b- \b\b\\ \b\b| \b\b/ \b\b- \b\b\\ \b\b| \b\b/ \b\b- \b\b\\ \b\b| \b\b/ \b\b- \b\b\\ \b\b| \b\b/ \b\b- \b\b\\ \b\b| \b\b/ \b\b- \b\b\\ \b\b| \b\b/ \b\b- \b\b\\ \b\b| \b\b/ \b\b- \b\b\\ \b\b| \b\b/ \b\b- \b\b\\ \b\b| \b\b/ \b\b- \b\b\\ \b\b| \b\b/ \b\b- \b\b\\ \b\b| \b\b/ \b\b- \b\b\\ \b\b| \b\b/ \b\b- \b\b\\ \b\b| \b\b/ \b\b- \b\b\\ \b\b| \b\b/ \b\b- \b\b\\ \b\b| \b\b/ \b\b- \b\b\\ \b\b| \b\b/ \b\b- \b\b\\ \b\b| \b\b/ \b\b- \b\b\\ \b\b| \b\b/ \b\b- \b\b\\ \b\b| \b\b/ \b\b- \b\b\\ \b\b| \b\b/ \b\b- \b\b\\ \b\b| \b\b/ \b\b- \b\b\\ \b\b| \b\b/ \b\b- \b\b\\ \b\b| \b\b/ \b\b- \b\b\\ \b\b| \b\b/ \b\b- \b\b\\ \b\b| \b\b/ \b\b- \b\b\\ \b\b| \b\b/ \b\b- \b\b\\ \b\b| \b\b/ \b\b- \b\b\\ \b\b| \b\b/ \b\b- \b\b\\ \b\bdone\n",
            "Solving environment: / \b\b- \b\b\\ \b\b| \b\b/ \b\b- \b\b\\ \b\b| \b\b/ \b\b- \b\b\\ \b\b| \b\b/ \b\b- \b\b\\ \b\b| \b\b/ \b\b- \b\b\\ \b\b| \b\b/ \b\b- \b\b\\ \b\b| \b\b/ \b\b- \b\b\\ \b\b| \b\b/ \b\b- \b\b\\ \b\b| \b\b/ \b\b- \b\b\\ \b\b| \b\b/ \b\b- \b\b\\ \b\b| \b\bfailed with repodata from current_repodata.json, will retry with next repodata source.\n",
            "Collecting package metadata (repodata.json): - \b\b\\ \b\b| \b\b/ \b\b- \b\b\\ \b\b| \b\b/ \b\b- \b\b\\ \b\b| \b\b/ \b\b- \b\b\\ \b\b| \b\b/ \b\b- \b\b\\ \b\b| \b\b/ \b\b- \b\b\\ \b\b| \b\b/ \b\b- \b\b\\ \b\b| \b\b/ \b\b- \b\b\\ \b\b| \b\b/ \b\b- \b\b\\ \b\b| \b\b/ \b\b- \b\b\\ \b\b| \b\b/ \b\b- \b\b\\ \b\b| \b\b/ \b\b- \b\b\\ \b\b| \b\b/ \b\b- \b\b\\ \b\b| \b\b/ \b\b- \b\b\\ \b\b| \b\b/ \b\b- \b\b\\ \b\b| \b\b/ \b\b- \b\b\\ \b\b| \b\b/ \b\b- \b\b\\ \b\b| \b\b/ \b\b- \b\b\\ \b\b| \b\b/ \b\b- \b\b\\ \b\b| \b\b/ \b\b- \b\b\\ \b\b| \b\b/ \b\b- \b\b\\ \b\b| \b\b/ \b\b- \b\b\\ \b\b| \b\b/ \b\b- \b\b\\ \b\b| \b\b/ \b\b- \b\b\\ \b\b| \b\b/ \b\b- \b\b\\ \b\b| \b\b/ \b\b- \b\b\\ \b\b| \b\b/ \b\b- \b\b\\ \b\b| \b\b/ \b\b- \b\b\\ \b\b| \b\b/ \b\b- \b\b\\ \b\b| \b\b/ \b\b- \b\b\\ \b\b| \b\b/ \b\b- \b\b\\ \b\b| \b\b/ \b\b- \b\b\\ \b\b| \b\b/ \b\b- \b\b\\ \b\b| \b\b/ \b\b- \b\b\\ \b\b| \b\b/ \b\b- \b\b\\ \b\b| \b\b/ \b\b- \b\b\\ \b\b| \b\b/ \b\b- \b\b\\ \b\b| \b\b/ \b\b- \b\b\\ \b\b| \b\b/ \b\b- \b\b\\ \b\b| \b\b/ \b\b- \b\b\\ \b\b| \b\b/ \b\b- \b\b\\ \b\b| \b\b/ \b\b- \b\b\\ \b\b| \b\b/ \b\b- \b\b\\ \b\b| \b\b/ \b\b- \b\b\\ \b\b| \b\b/ \b\b- \b\b\\ \b\b| \b\b/ \b\b- \b\b\\ \b\b| \b\b/ \b\b- \b\b\\ \b\b| \b\b/ \b\b- \b\b\\ \b\b| \b\b/ \b\b- \b\b\\ \b\b| \b\b/ \b\b- \b\b\\ \b\b| \b\b/ \b\b- \b\b\\ \b\b| \b\b/ \b\b- \b\b\\ \b\b| \b\b/ \b\b- \b\b\\ \b\b| \b\b/ \b\b- \b\b\\ \b\b| \b\b/ \b\b- \b\b\\ \b\b| \b\b/ \b\b- \b\b\\ \b\b| \b\b/ \b\b- \b\b\\ \b\b| \b\b/ \b\b- \b\b\\ \b\b| \b\b/ \b\b- \b\b\\ \b\b| \b\b/ \b\b- \b\b\\ \b\b| \b\b/ \b\b- \b\b\\ \b\b| \b\b/ \b\b- \b\b\\ \b\b| \b\b/ \b\b- \b\b\\ \b\b| \b\b/ \b\b- \b\b\\ \b\b| \b\b/ \b\b- \b\b\\ \b\b| \b\b/ \b\b- \b\b\\ \b\b| \b\b/ \b\b- \b\b\\ \b\b| \b\b/ \b\b- \b\b\\ \b\b| \b\b/ \b\b- \b\b\\ \b\b| \b\b/ \b\b- \b\b\\ \b\b| \b\b/ \b\b- \b\b\\ \b\b| \b\b/ \b\b- \b\b\\ \b\b| \b\b/ \b\b- \b\b\\ \b\b| \b\b/ \b\b- \b\b\\ \b\b| \b\b/ \b\b- \b\b\\ \b\b| \b\b/ \b\b- \b\b\\ \b\b| \b\b/ \b\b- \b\b\\ \b\b| \b\b/ \b\b- \b\b\\ \b\b| \b\b/ \b\b- \b\b\\ \b\b| \b\b/ \b\b- \b\b\\ \b\b| \b\b/ \b\b- \b\b\\ \b\b| \b\b/ \b\b- \b\b\\ \b\b| \b\b/ \b\b- \b\b\\ \b\b| \b\b/ \b\b- \b\b\\ \b\b| \b\b/ \b\b- \b\b\\ \b\b| \b\b/ \b\b- \b\b\\ \b\b| \b\b/ \b\b- \b\b\\ \b\b| \b\b/ \b\b- \b\b\\ \b\b| \b\b/ \b\b- \b\b\\ \b\b| \b\b/ \b\b- \b\b\\ \b\b| \b\b/ \b\b- \b\b\\ \b\b| \b\b/ \b\b- \b\b\\ \b\b| \b\b/ \b\b- \b\b\\ \b\b| \b\b/ \b\b- \b\b\\ \b\b| \b\b/ \b\b- \b\b\\ \b\b| \b\b/ \b\b- \b\b\\ \b\b| \b\b/ \b\b- \b\b\\ \b\b| \b\b/ \b\b- \b\b\\ \b\b| \b\b/ \b\b- \b\b\\ \b\b| \b\b/ \b\b- \b\b\\ \b\b| \b\b/ \b\b- \b\b\\ \b\b| \b\b/ \b\b- \b\b\\ \b\b| \b\b/ \b\b- \b\b\\ \b\b| \b\b/ \b\b- \b\b\\ \b\b| \b\b/ \b\b- \b\b\\ \b\b| \b\b/ \b\b- \b\b\\ \b\b| \b\b/ \b\b- \b\b\\ \b\b| \b\b/ \b\b- \b\b\\ \b\b| \b\b/ \b\b- \b\b\\ \b\b| \b\b/ \b\b- \b\b\\ \b\b| \b\b/ \b\b- \b\b\\ \b\b| \b\b/ \b\b- \b\b\\ \b\b| \b\b/ \b\b- \b\b\\ \b\b| \b\b/ \b\b- \b\b\\ \b\b| \b\b/ \b\b- \b\b\\ \b\b| \b\b/ \b\b- \b\b\\ \b\b| \b\b/ \b\b- \b\b\\ \b\b| \b\b/ \b\b- \b\b\\ \b\b| \b\b/ \b\b- \b\b\\ \b\b| \b\b/ \b\b- \b\b\\ \b\b| \b\b/ \b\b- \b\b\\ \b\b| \b\b/ \b\b- \b\b\\ \b\b| \b\b/ \b\b- \b\b\\ \b\b| \b\b/ \b\b- \b\b\\ \b\b| \b\b/ \b\b- \b\b\\ \b\b| \b\b/ \b\b- \b\b\\ \b\b| \b\b/ \b\b- \b\b\\ \b\b| \b\b/ \b\b- \b\b\\ \b\b| \b\b/ \b\b- \b\b\\ \b\b| \b\bdone\n",
            "Solving environment: - \b\b\\ \b\b| \b\b/ \b\b- \b\b\\ \b\b| \b\b/ \b\b- \b\b\\ \b\b| \b\b/ \b\b- \b\b\\ \b\b| \b\b/ \b\b- \b\b\\ \b\b| \b\b/ \b\b- \b\b\\ \b\b| \b\b/ \b\b- \b\b\\ \b\b| \b\b/ \b\b- \b\b\\ \b\b| \b\b/ \b\b- \b\b\\ \b\b| \b\b/ \b\b- \b\b\\ \b\b| \b\b/ \b\b- \b\b\\ \b\b| \b\b/ \b\b- \b\b\\ \b\b| \b\b/ \b\b- \b\b\\ \b\b| \b\b/ \b\b- \b\b\\ \b\b| \b\b/ \b\b- \b\b\\ \b\b| \b\b/ \b\b- \b\b\\ \b\b| \b\b/ \b\b- \b\b\\ \b\b| \b\b/ \b\b- \b\b\\ \b\b| \b\b/ \b\b- \b\b\\ \b\b| \b\b/ \b\b- \b\b\\ \b\b| \b\b/ \b\b- \b\b\\ \b\b| \b\b/ \b\b- \b\b\\ \b\b| \b\b/ \b\b- \b\b\\ \b\b| \b\b/ \b\b- \b\b\\ \b\b| \b\b/ \b\b- \b\b\\ \b\b| \b\b/ \b\b- \b\b\\ \b\b| \b\b/ \b\b- \b\b\\ \b\b| \b\b/ \b\b- \b\b\\ \b\b| \b\b/ \b\b- \b\b\\ \b\b| \b\b/ \b\b- \b\b\\ \b\b| \b\b/ \b\b- \b\b\\ \b\b| \b\b/ \b\b- \b\b\\ \b\b| \b\b/ \b\b- \b\b\\ \b\b| \b\b/ \b\b- \b\b\\ \b\b| \b\b/ \b\b- \b\b\\ \b\b| \b\b/ \b\b- \b\b\\ \b\b| \b\b/ \b\b- \b\b\\ \b\b| \b\b/ \b\b- \b\b\\ \b\b| \b\b/ \b\b- \b\b\\ \b\b| \b\b/ \b\b- \b\b\\ \b\b| \b\b/ \b\b- \b\b\\ \b\b| \b\b/ \b\b- \b\b\\ \b\b| \b\b/ \b\b- \b\b\\ \b\b| \b\b/ \b\b- \b\b\\ \b\b| \b\b/ \b\b- \b\b\\ \b\b| \b\b/ \b\b- \b\b\\ \b\b| \b\b/ \b\b- \b\b\\ \b\b| \b\b/ \b\b- \b\b\\ \b\b| \b\b/ \b\b- \b\b\\ \b\b| \b\b/ \b\b- \b\b\\ \b\b| \b\b/ \b\b- \b\b\\ \b\b| \b\b/ \b\b- \b\b\\ \b\b| \b\b/ \b\b- \b\b\\ \b\b| \b\b/ \b\b- \b\b\\ \b\b| \b\b/ \b\b- \b\b\\ \b\b| \b\b/ \b\b- \b\b\\ \b\b| \b\b/ \b\b- \b\b\\ \b\b| \b\b/ \b\b- \b\b\\ \b\b| \b\b/ \b\b- \b\b\\ \b\b| \b\b/ \b\b- \b\b\\ \b\b| \b\b/ \b\b- \b\b\\ \b\b| \b\b/ \b\b- \b\b\\ \b\b| \b\b/ \b\b- \b\b\\ \b\b| \b\b/ \b\b- \b\b\\ \b\b| \b\b/ \b\b- \b\b\\ \b\b| \b\b/ \b\b- \b\b\\ \b\b| \b\b/ \b\b- \b\b\\ \b\b| \b\b/ \b\b- \b\b\\ \b\b| \b\b/ \b\b- \b\b\\ \b\b| \b\b/ \b\b- \b\b\\ \b\b| \b\b/ \b\b- \b\b\\ \b\b| \b\b/ \b\b- \b\b\\ \b\b| \b\b/ \b\b- \b\b\\ \b\b| \b\b/ \b\b- \b\b\\ \b\b| \b\b/ \b\b- \b\b\\ \b\b| \b\b/ \b\b- \b\b\\ \b\b| \b\b/ \b\b- \b\b\\ \b\b| \b\b/ \b\b- \b\b\\ \b\b| \b\b/ \b\b- \b\b\\ \b\b| \b\b/ \b\b- \b\b\\ \b\b| \b\b/ \b\b- \b\b\\ \b\b| \b\b/ \b\b- \b\b\\ \b\b| \b\b/ \b\b- \b\b\\ \b\b| \b\b/ \b\b- \b\b\\ \b\b| \b\bdone\n",
            "\n",
            "\n",
            "==> WARNING: A newer version of conda exists. <==\n",
            "  current version: 4.14.0\n",
            "  latest version: 22.9.0\n",
            "\n",
            "Please update conda by running\n",
            "\n",
            "    $ conda update -n base -c conda-forge conda\n",
            "\n",
            "\n",
            "\n",
            "## Package Plan ##\n",
            "\n",
            "  environment location: /usr/local/envs/py37\n",
            "\n",
            "  added / updated specs:\n",
            "    - pip\n",
            "    - python=3.7\n",
            "    - tensorflow\n",
            "\n",
            "\n",
            "The following packages will be downloaded:\n",
            "\n",
            "    package                    |            build\n",
            "    ---------------------------|-----------------\n",
            "    absl-py-1.3.0              |     pyhd8ed1ab_0          95 KB  conda-forge\n",
            "    aiohttp-3.8.3              |   py37h540881e_0         432 KB  conda-forge\n",
            "    aiosignal-1.3.1            |     pyhd8ed1ab_0          12 KB  conda-forge\n",
            "    astunparse-1.6.3           |     pyhd8ed1ab_0          15 KB  conda-forge\n",
            "    async-timeout-4.0.2        |     pyhd8ed1ab_0           9 KB  conda-forge\n",
            "    asynctest-0.13.0           |             py_0          24 KB  conda-forge\n",
            "    attrs-22.1.0               |     pyh71513ae_1          48 KB  conda-forge\n",
            "    blinker-1.5                |     pyhd8ed1ab_0          15 KB  conda-forge\n",
            "    ca-certificates-2022.9.24  |       ha878542_0         150 KB  conda-forge\n",
            "    cached-property-1.5.2      |       hd8ed1ab_1           4 KB  conda-forge\n",
            "    cached_property-1.5.2      |     pyha770c72_1          11 KB  conda-forge\n",
            "    cachetools-5.2.0           |     pyhd8ed1ab_0          13 KB  conda-forge\n",
            "    certifi-2022.9.24          |     pyhd8ed1ab_0         155 KB  conda-forge\n",
            "    cffi-1.15.1                |   py37h43b0acd_1         227 KB  conda-forge\n",
            "    click-8.1.3                |   py37h89c1867_0         145 KB  conda-forge\n",
            "    cryptography-38.0.2        |   py37h38fbfac_1         1.5 MB  conda-forge\n",
            "    cudatoolkit-11.8.0         |      h37601d7_11       635.9 MB  conda-forge\n",
            "    cudnn-8.4.1.50             |       hed8a83a_0       618.4 MB  conda-forge\n",
            "    flatbuffers-2.0.7          |       h27087fc_0         1.7 MB  conda-forge\n",
            "    frozenlist-1.3.1           |   py37h540881e_0          44 KB  conda-forge\n",
            "    gast-0.4.0                 |     pyh9f0ad1d_0          12 KB  conda-forge\n",
            "    giflib-5.2.1               |       h36c2ea0_2          77 KB  conda-forge\n",
            "    google-auth-2.15.0         |     pyh1a96a4e_0          95 KB  conda-forge\n",
            "    google-auth-oauthlib-0.4.6 |     pyhd8ed1ab_0          19 KB  conda-forge\n",
            "    google-pasta-0.2.0         |     pyh8c360ce_0          42 KB  conda-forge\n",
            "    grpc-cpp-1.47.1            |       h05bd8bd_6         5.1 MB  conda-forge\n",
            "    grpcio-1.47.1              |   py37h3fae8ff_6         804 KB  conda-forge\n",
            "    h5py-3.7.0                 |nompi_py37hf1ce037_101         1.3 MB  conda-forge\n",
            "    hdf5-1.12.2                |nompi_h2386368_100         3.5 MB  conda-forge\n",
            "    idna-3.4                   |     pyhd8ed1ab_0          55 KB  conda-forge\n",
            "    importlib-metadata-4.11.4  |   py37h89c1867_0          33 KB  conda-forge\n",
            "    jpeg-9e                    |       h166bdaf_2         269 KB  conda-forge\n",
            "    keras-2.10.0               |     pyhd8ed1ab_0         981 KB  conda-forge\n",
            "    keras-preprocessing-1.1.2  |     pyhd8ed1ab_0          34 KB  conda-forge\n",
            "    ld_impl_linux-64-2.39      |       hcc3a1bd_1         675 KB  conda-forge\n",
            "    libabseil-20220623.0       | cxx17_h48a1fff_5         1.1 MB  conda-forge\n",
            "    libblas-3.9.0              |16_linux64_openblas          13 KB  conda-forge\n",
            "    libcblas-3.9.0             |16_linux64_openblas          13 KB  conda-forge\n",
            "    libcurl-7.86.0             |       h7bff187_1         348 KB  conda-forge\n",
            "    libgcc-ng-12.2.0           |      h65d4601_19         931 KB  conda-forge\n",
            "    libgfortran-ng-12.2.0      |      h69a702a_19          22 KB  conda-forge\n",
            "    libgfortran5-12.2.0        |      h337968e_19         1.8 MB  conda-forge\n",
            "    libgomp-12.2.0             |      h65d4601_19         455 KB  conda-forge\n",
            "    liblapack-3.9.0            |16_linux64_openblas          13 KB  conda-forge\n",
            "    libopenblas-0.3.21         |pthreads_h78a6416_3        10.1 MB  conda-forge\n",
            "    libpng-1.6.39              |       h753d276_0         276 KB  conda-forge\n",
            "    libprotobuf-3.21.8         |       h6239696_0         2.5 MB  conda-forge\n",
            "    libsqlite-3.40.0           |       h753d276_0         791 KB  conda-forge\n",
            "    libstdcxx-ng-12.2.0        |      h46fd767_19         4.3 MB  conda-forge\n",
            "    libzlib-1.2.13             |       h166bdaf_4          64 KB  conda-forge\n",
            "    markdown-3.4.1             |     pyhd8ed1ab_0          65 KB  conda-forge\n",
            "    markupsafe-2.1.1           |   py37h540881e_1          22 KB  conda-forge\n",
            "    multidict-6.0.2            |   py37h540881e_1          49 KB  conda-forge\n",
            "    nccl-2.14.3.1              |       h0800d71_0       145.2 MB  conda-forge\n",
            "    numpy-1.21.6               |   py37h976b520_0         6.1 MB  conda-forge\n",
            "    oauthlib-3.2.2             |     pyhd8ed1ab_0          90 KB  conda-forge\n",
            "    openssl-1.1.1s             |       h0b41bf4_1         1.9 MB  conda-forge\n",
            "    opt_einsum-3.3.0           |     pyhd8ed1ab_1          53 KB  conda-forge\n",
            "    packaging-21.3             |     pyhd8ed1ab_0          36 KB  conda-forge\n",
            "    pip-22.3.1                 |     pyhd8ed1ab_0         1.5 MB  conda-forge\n",
            "    protobuf-4.21.8            |   py37hd23a5d3_0         336 KB  conda-forge\n",
            "    pyasn1-0.4.8               |             py_0          53 KB  conda-forge\n",
            "    pyasn1-modules-0.2.7       |             py_0          60 KB  conda-forge\n",
            "    pyjwt-2.6.0                |     pyhd8ed1ab_0          21 KB  conda-forge\n",
            "    pyopenssl-22.1.0           |     pyhd8ed1ab_0         122 KB  conda-forge\n",
            "    pyparsing-3.0.9            |     pyhd8ed1ab_0          79 KB  conda-forge\n",
            "    python-flatbuffers-2.0     |     pyhd8ed1ab_0          28 KB  conda-forge\n",
            "    python_abi-3.7             |          3_cp37m           6 KB  conda-forge\n",
            "    pyu2f-0.1.5                |     pyhd8ed1ab_0          31 KB  conda-forge\n",
            "    re2-2022.06.01             |       h27087fc_1         191 KB  conda-forge\n",
            "    requests-2.28.1            |     pyhd8ed1ab_1          53 KB  conda-forge\n",
            "    requests-oauthlib-1.3.1    |     pyhd8ed1ab_0          22 KB  conda-forge\n",
            "    rsa-4.9                    |     pyhd8ed1ab_0          29 KB  conda-forge\n",
            "    scipy-1.7.3                |   py37hf2a6cf1_0        21.8 MB  conda-forge\n",
            "    setuptools-65.5.1          |     pyhd8ed1ab_0         731 KB  conda-forge\n",
            "    snappy-1.1.9               |       hbd366e4_2          37 KB  conda-forge\n",
            "    sqlite-3.40.0              |       h4ff8645_0         801 KB  conda-forge\n",
            "    tensorboard-2.10.1         |     pyhd8ed1ab_0         5.4 MB  conda-forge\n",
            "    tensorboard-data-server-0.6.0|   py37h38fbfac_2         3.1 MB  conda-forge\n",
            "    tensorboard-plugin-wit-1.8.1|     pyhd8ed1ab_0         668 KB  conda-forge\n",
            "    tensorflow-2.10.0          |cuda112py37h01c6645_0          29 KB  conda-forge\n",
            "    tensorflow-base-2.10.0     |cuda112py37ha0c8746_0       400.5 MB  conda-forge\n",
            "    tensorflow-estimator-2.10.0|cuda112py37h25bb9bc_0         614 KB  conda-forge\n",
            "    termcolor-2.1.1            |     pyhd8ed1ab_0          10 KB  conda-forge\n",
            "    typing-extensions-4.4.0    |       hd8ed1ab_0           8 KB  conda-forge\n",
            "    typing_extensions-4.4.0    |     pyha770c72_0          29 KB  conda-forge\n",
            "    urllib3-1.26.13            |     pyhd8ed1ab_0         108 KB  conda-forge\n",
            "    werkzeug-2.2.2             |     pyhd8ed1ab_0         249 KB  conda-forge\n",
            "    wheel-0.38.4               |     pyhd8ed1ab_0          32 KB  conda-forge\n",
            "    wrapt-1.14.1               |   py37h540881e_0          50 KB  conda-forge\n",
            "    yarl-1.7.2                 |   py37h540881e_2         132 KB  conda-forge\n",
            "    zipp-3.11.0                |     pyhd8ed1ab_0          15 KB  conda-forge\n",
            "    zlib-1.2.13                |       h166bdaf_4          92 KB  conda-forge\n",
            "    ------------------------------------------------------------\n",
            "                                           Total:        1.84 GB\n",
            "\n",
            "The following NEW packages will be INSTALLED:\n",
            "\n",
            "  _libgcc_mutex      conda-forge/linux-64::_libgcc_mutex-0.1-conda_forge\n",
            "  _openmp_mutex      conda-forge/linux-64::_openmp_mutex-4.5-2_gnu\n",
            "  absl-py            conda-forge/noarch::absl-py-1.3.0-pyhd8ed1ab_0\n",
            "  aiohttp            conda-forge/linux-64::aiohttp-3.8.3-py37h540881e_0\n",
            "  aiosignal          conda-forge/noarch::aiosignal-1.3.1-pyhd8ed1ab_0\n",
            "  astunparse         conda-forge/noarch::astunparse-1.6.3-pyhd8ed1ab_0\n",
            "  async-timeout      conda-forge/noarch::async-timeout-4.0.2-pyhd8ed1ab_0\n",
            "  asynctest          conda-forge/noarch::asynctest-0.13.0-py_0\n",
            "  attrs              conda-forge/noarch::attrs-22.1.0-pyh71513ae_1\n",
            "  blinker            conda-forge/noarch::blinker-1.5-pyhd8ed1ab_0\n",
            "  brotlipy           conda-forge/linux-64::brotlipy-0.7.0-py37h540881e_1004\n",
            "  c-ares             conda-forge/linux-64::c-ares-1.18.1-h7f98852_0\n",
            "  ca-certificates    conda-forge/linux-64::ca-certificates-2022.9.24-ha878542_0\n",
            "  cached-property    conda-forge/noarch::cached-property-1.5.2-hd8ed1ab_1\n",
            "  cached_property    conda-forge/noarch::cached_property-1.5.2-pyha770c72_1\n",
            "  cachetools         conda-forge/noarch::cachetools-5.2.0-pyhd8ed1ab_0\n",
            "  certifi            conda-forge/noarch::certifi-2022.9.24-pyhd8ed1ab_0\n",
            "  cffi               conda-forge/linux-64::cffi-1.15.1-py37h43b0acd_1\n",
            "  charset-normalizer conda-forge/noarch::charset-normalizer-2.1.1-pyhd8ed1ab_0\n",
            "  click              conda-forge/linux-64::click-8.1.3-py37h89c1867_0\n",
            "  cryptography       conda-forge/linux-64::cryptography-38.0.2-py37h38fbfac_1\n",
            "  cudatoolkit        conda-forge/linux-64::cudatoolkit-11.8.0-h37601d7_11\n",
            "  cudnn              conda-forge/linux-64::cudnn-8.4.1.50-hed8a83a_0\n",
            "  flatbuffers        conda-forge/linux-64::flatbuffers-2.0.7-h27087fc_0\n",
            "  frozenlist         conda-forge/linux-64::frozenlist-1.3.1-py37h540881e_0\n",
            "  gast               conda-forge/noarch::gast-0.4.0-pyh9f0ad1d_0\n",
            "  giflib             conda-forge/linux-64::giflib-5.2.1-h36c2ea0_2\n",
            "  google-auth        conda-forge/noarch::google-auth-2.15.0-pyh1a96a4e_0\n",
            "  google-auth-oauth~ conda-forge/noarch::google-auth-oauthlib-0.4.6-pyhd8ed1ab_0\n",
            "  google-pasta       conda-forge/noarch::google-pasta-0.2.0-pyh8c360ce_0\n",
            "  grpc-cpp           conda-forge/linux-64::grpc-cpp-1.47.1-h05bd8bd_6\n",
            "  grpcio             conda-forge/linux-64::grpcio-1.47.1-py37h3fae8ff_6\n",
            "  h5py               conda-forge/linux-64::h5py-3.7.0-nompi_py37hf1ce037_101\n",
            "  hdf5               conda-forge/linux-64::hdf5-1.12.2-nompi_h2386368_100\n",
            "  icu                conda-forge/linux-64::icu-70.1-h27087fc_0\n",
            "  idna               conda-forge/noarch::idna-3.4-pyhd8ed1ab_0\n",
            "  importlib-metadata conda-forge/linux-64::importlib-metadata-4.11.4-py37h89c1867_0\n",
            "  jpeg               conda-forge/linux-64::jpeg-9e-h166bdaf_2\n",
            "  keras              conda-forge/noarch::keras-2.10.0-pyhd8ed1ab_0\n",
            "  keras-preprocessi~ conda-forge/noarch::keras-preprocessing-1.1.2-pyhd8ed1ab_0\n",
            "  keyutils           conda-forge/linux-64::keyutils-1.6.1-h166bdaf_0\n",
            "  krb5               conda-forge/linux-64::krb5-1.19.3-h3790be6_0\n",
            "  ld_impl_linux-64   conda-forge/linux-64::ld_impl_linux-64-2.39-hcc3a1bd_1\n",
            "  libabseil          conda-forge/linux-64::libabseil-20220623.0-cxx17_h48a1fff_5\n",
            "  libblas            conda-forge/linux-64::libblas-3.9.0-16_linux64_openblas\n",
            "  libcblas           conda-forge/linux-64::libcblas-3.9.0-16_linux64_openblas\n",
            "  libcurl            conda-forge/linux-64::libcurl-7.86.0-h7bff187_1\n",
            "  libedit            conda-forge/linux-64::libedit-3.1.20191231-he28a2e2_2\n",
            "  libev              conda-forge/linux-64::libev-4.33-h516909a_1\n",
            "  libffi             conda-forge/linux-64::libffi-3.4.2-h7f98852_5\n",
            "  libgcc-ng          conda-forge/linux-64::libgcc-ng-12.2.0-h65d4601_19\n",
            "  libgfortran-ng     conda-forge/linux-64::libgfortran-ng-12.2.0-h69a702a_19\n",
            "  libgfortran5       conda-forge/linux-64::libgfortran5-12.2.0-h337968e_19\n",
            "  libgomp            conda-forge/linux-64::libgomp-12.2.0-h65d4601_19\n",
            "  liblapack          conda-forge/linux-64::liblapack-3.9.0-16_linux64_openblas\n",
            "  libnghttp2         conda-forge/linux-64::libnghttp2-1.47.0-hdcd2b5c_1\n",
            "  libnsl             conda-forge/linux-64::libnsl-2.0.0-h7f98852_0\n",
            "  libopenblas        conda-forge/linux-64::libopenblas-0.3.21-pthreads_h78a6416_3\n",
            "  libpng             conda-forge/linux-64::libpng-1.6.39-h753d276_0\n",
            "  libprotobuf        conda-forge/linux-64::libprotobuf-3.21.8-h6239696_0\n",
            "  libsqlite          conda-forge/linux-64::libsqlite-3.40.0-h753d276_0\n",
            "  libssh2            conda-forge/linux-64::libssh2-1.10.0-haa6b8db_3\n",
            "  libstdcxx-ng       conda-forge/linux-64::libstdcxx-ng-12.2.0-h46fd767_19\n",
            "  libzlib            conda-forge/linux-64::libzlib-1.2.13-h166bdaf_4\n",
            "  markdown           conda-forge/noarch::markdown-3.4.1-pyhd8ed1ab_0\n",
            "  markupsafe         conda-forge/linux-64::markupsafe-2.1.1-py37h540881e_1\n",
            "  multidict          conda-forge/linux-64::multidict-6.0.2-py37h540881e_1\n",
            "  nccl               conda-forge/linux-64::nccl-2.14.3.1-h0800d71_0\n",
            "  ncurses            conda-forge/linux-64::ncurses-6.3-h27087fc_1\n",
            "  numpy              conda-forge/linux-64::numpy-1.21.6-py37h976b520_0\n",
            "  oauthlib           conda-forge/noarch::oauthlib-3.2.2-pyhd8ed1ab_0\n",
            "  openssl            conda-forge/linux-64::openssl-1.1.1s-h0b41bf4_1\n",
            "  opt_einsum         conda-forge/noarch::opt_einsum-3.3.0-pyhd8ed1ab_1\n",
            "  packaging          conda-forge/noarch::packaging-21.3-pyhd8ed1ab_0\n",
            "  pip                conda-forge/noarch::pip-22.3.1-pyhd8ed1ab_0\n",
            "  protobuf           conda-forge/linux-64::protobuf-4.21.8-py37hd23a5d3_0\n",
            "  pyasn1             conda-forge/noarch::pyasn1-0.4.8-py_0\n",
            "  pyasn1-modules     conda-forge/noarch::pyasn1-modules-0.2.7-py_0\n",
            "  pycparser          conda-forge/noarch::pycparser-2.21-pyhd8ed1ab_0\n",
            "  pyjwt              conda-forge/noarch::pyjwt-2.6.0-pyhd8ed1ab_0\n",
            "  pyopenssl          conda-forge/noarch::pyopenssl-22.1.0-pyhd8ed1ab_0\n",
            "  pyparsing          conda-forge/noarch::pyparsing-3.0.9-pyhd8ed1ab_0\n",
            "  pysocks            conda-forge/linux-64::pysocks-1.7.1-py37h89c1867_5\n",
            "  python             conda-forge/linux-64::python-3.7.12-hb7a2778_100_cpython\n",
            "  python-flatbuffers conda-forge/noarch::python-flatbuffers-2.0-pyhd8ed1ab_0\n",
            "  python_abi         conda-forge/linux-64::python_abi-3.7-3_cp37m\n",
            "  pyu2f              conda-forge/noarch::pyu2f-0.1.5-pyhd8ed1ab_0\n",
            "  re2                conda-forge/linux-64::re2-2022.06.01-h27087fc_1\n",
            "  readline           conda-forge/linux-64::readline-8.1.2-h0f457ee_0\n",
            "  requests           conda-forge/noarch::requests-2.28.1-pyhd8ed1ab_1\n",
            "  requests-oauthlib  conda-forge/noarch::requests-oauthlib-1.3.1-pyhd8ed1ab_0\n",
            "  rsa                conda-forge/noarch::rsa-4.9-pyhd8ed1ab_0\n",
            "  scipy              conda-forge/linux-64::scipy-1.7.3-py37hf2a6cf1_0\n",
            "  setuptools         conda-forge/noarch::setuptools-65.5.1-pyhd8ed1ab_0\n",
            "  six                conda-forge/noarch::six-1.16.0-pyh6c4a22f_0\n",
            "  snappy             conda-forge/linux-64::snappy-1.1.9-hbd366e4_2\n",
            "  sqlite             conda-forge/linux-64::sqlite-3.40.0-h4ff8645_0\n",
            "  tensorboard        conda-forge/noarch::tensorboard-2.10.1-pyhd8ed1ab_0\n",
            "  tensorboard-data-~ conda-forge/linux-64::tensorboard-data-server-0.6.0-py37h38fbfac_2\n",
            "  tensorboard-plugi~ conda-forge/noarch::tensorboard-plugin-wit-1.8.1-pyhd8ed1ab_0\n",
            "  tensorflow         conda-forge/linux-64::tensorflow-2.10.0-cuda112py37h01c6645_0\n",
            "  tensorflow-base    conda-forge/linux-64::tensorflow-base-2.10.0-cuda112py37ha0c8746_0\n",
            "  tensorflow-estima~ conda-forge/linux-64::tensorflow-estimator-2.10.0-cuda112py37h25bb9bc_0\n",
            "  termcolor          conda-forge/noarch::termcolor-2.1.1-pyhd8ed1ab_0\n",
            "  tk                 conda-forge/linux-64::tk-8.6.12-h27826a3_0\n",
            "  typing-extensions  conda-forge/noarch::typing-extensions-4.4.0-hd8ed1ab_0\n",
            "  typing_extensions  conda-forge/noarch::typing_extensions-4.4.0-pyha770c72_0\n",
            "  urllib3            conda-forge/noarch::urllib3-1.26.13-pyhd8ed1ab_0\n",
            "  werkzeug           conda-forge/noarch::werkzeug-2.2.2-pyhd8ed1ab_0\n",
            "  wheel              conda-forge/noarch::wheel-0.38.4-pyhd8ed1ab_0\n",
            "  wrapt              conda-forge/linux-64::wrapt-1.14.1-py37h540881e_0\n",
            "  xz                 conda-forge/linux-64::xz-5.2.6-h166bdaf_0\n",
            "  yarl               conda-forge/linux-64::yarl-1.7.2-py37h540881e_2\n",
            "  zipp               conda-forge/noarch::zipp-3.11.0-pyhd8ed1ab_0\n",
            "  zlib               conda-forge/linux-64::zlib-1.2.13-h166bdaf_4\n",
            "\n",
            "\n",
            "\n",
            "Downloading and Extracting Packages\n",
            "google-pasta-0.2.0   | 42 KB     | : 100% 1.0/1 [00:00<00:00, 13.01it/s]\n",
            "blinker-1.5          | 15 KB     | : 100% 1.0/1 [00:00<00:00, 26.20it/s]\n",
            "astunparse-1.6.3     | 15 KB     | : 100% 1.0/1 [00:00<00:00, 26.19it/s]\n",
            "scipy-1.7.3          | 21.8 MB   | : 100% 1.0/1 [00:03<00:00,  3.18s/it]              \n",
            "markdown-3.4.1       | 65 KB     | : 100% 1.0/1 [00:00<00:00, 17.11it/s]\n",
            "typing_extensions-4. | 29 KB     | : 100% 1.0/1 [00:00<00:00, 26.16it/s]\n",
            "requests-oauthlib-1. | 22 KB     | : 100% 1.0/1 [00:00<00:00, 27.68it/s]\n",
            "google-auth-2.15.0   | 95 KB     | : 100% 1.0/1 [00:00<00:00,  5.71it/s]\n",
            "cffi-1.15.1          | 227 KB    | : 100% 1.0/1 [00:00<00:00, 12.43it/s]\n",
            "aiohttp-3.8.3        | 432 KB    | : 100% 1.0/1 [00:00<00:00,  1.19it/s]              \n",
            "libgfortran5-12.2.0  | 1.8 MB    | : 100% 1.0/1 [00:00<00:00,  3.01it/s]\n",
            "multidict-6.0.2      | 49 KB     | : 100% 1.0/1 [00:00<00:00,  3.16it/s]                \n",
            "aiosignal-1.3.1      | 12 KB     | : 100% 1.0/1 [00:00<00:00, 28.26it/s]\n",
            "grpc-cpp-1.47.1      | 5.1 MB    | : 100% 1.0/1 [00:02<00:00,  2.47s/it]\n",
            "re2-2022.06.01       | 191 KB    | : 100% 1.0/1 [00:00<00:00,  5.75it/s]\n",
            "libprotobuf-3.21.8   | 2.5 MB    | : 100% 1.0/1 [00:01<00:00,  1.86s/it]\n",
            "libstdcxx-ng-12.2.0  | 4.3 MB    | : 100% 1.0/1 [00:00<00:00,  1.70it/s]\n",
            "frozenlist-1.3.1     | 44 KB     | : 100% 1.0/1 [00:00<00:00,  2.90it/s]               \n",
            "ld_impl_linux-64-2.3 | 675 KB    | : 100% 1.0/1 [00:00<00:00,  5.32it/s]\n",
            "importlib-metadata-4 | 33 KB     | : 100% 1.0/1 [00:00<00:00, 19.30it/s]\n",
            "jpeg-9e              | 269 KB    | : 100% 1.0/1 [00:00<00:00,  9.47it/s]\n",
            "cryptography-38.0.2  | 1.5 MB    | : 100% 1.0/1 [00:00<00:00,  3.22it/s]\n",
            "pyasn1-modules-0.2.7 | 60 KB     | : 100% 1.0/1 [00:00<00:00, 14.40it/s]\n",
            "oauthlib-3.2.2       | 90 KB     | : 100% 1.0/1 [00:00<00:00, 15.53it/s]\n",
            "typing-extensions-4. | 8 KB      | : 100% 1.0/1 [00:00<00:00, 35.04it/s]\n",
            "google-auth-oauthlib | 19 KB     | : 100% 1.0/1 [00:00<00:00, 32.58it/s]\n",
            "libopenblas-0.3.21   | 10.1 MB   | : 100% 1.0/1 [00:01<00:00,  1.54s/it]               \n",
            "libgomp-12.2.0       | 455 KB    | : 100% 1.0/1 [00:00<00:00, 11.93it/s]\n",
            "urllib3-1.26.13      | 108 KB    | : 100% 1.0/1 [00:00<00:00,  5.89it/s]\n",
            "setuptools-65.5.1    | 731 KB    | : 100% 1.0/1 [00:00<00:00,  5.40it/s]\n",
            "tensorboard-2.10.1   | 5.4 MB    | : 100% 1.0/1 [00:00<00:00,  1.66it/s]\n",
            "packaging-21.3       | 36 KB     | : 100% 1.0/1 [00:00<00:00, 23.62it/s]\n",
            "pyasn1-0.4.8         | 53 KB     | : 100% 1.0/1 [00:00<00:00, 23.75it/s]\n",
            "cached_property-1.5. | 11 KB     | : 100% 1.0/1 [00:00<00:00, 30.25it/s]\n",
            "rsa-4.9              | 29 KB     | : 100% 1.0/1 [00:00<00:00, 30.62it/s]\n",
            "h5py-3.7.0           | 1.3 MB    | : 100% 1.0/1 [00:01<00:00,  1.14s/it]               \n",
            "async-timeout-4.0.2  | 9 KB      | : 100% 1.0/1 [00:00<00:00, 28.58it/s]\n",
            "libsqlite-3.40.0     | 791 KB    | : 100% 1.0/1 [00:00<00:00,  6.57it/s]\n",
            "werkzeug-2.2.2       | 249 KB    | : 100% 1.0/1 [00:00<00:00, 12.42it/s]\n",
            "zipp-3.11.0          | 15 KB     | : 100% 1.0/1 [00:00<00:00,  6.18it/s]\n",
            "markupsafe-2.1.1     | 22 KB     | : 100% 1.0/1 [00:00<00:00, 21.50it/s]\n",
            "yarl-1.7.2           | 132 KB    | : 100% 1.0/1 [00:00<00:00,  2.94it/s]                \n",
            "grpcio-1.47.1        | 804 KB    | : 100% 1.0/1 [00:00<00:00,  1.07it/s]\n",
            "tensorflow-estimator | 614 KB    | : 100% 1.0/1 [00:00<00:00,  2.04it/s]\n",
            "libzlib-1.2.13       | 64 KB     | : 100% 1.0/1 [00:00<00:00, 27.32it/s]\n",
            "snappy-1.1.9         | 37 KB     | : 100% 1.0/1 [00:00<00:00,  3.44it/s]                \n",
            "cudnn-8.4.1.50       | 618.4 MB  | : 100% 1.0/1 [01:19<00:00, 79.84s/it]               \n",
            "libgcc-ng-12.2.0     | 931 KB    | : 100% 1.0/1 [00:00<00:00,  5.87it/s]\n",
            "attrs-22.1.0         | 48 KB     | : 100% 1.0/1 [00:00<00:00, 23.48it/s]\n",
            "tensorboard-plugin-w | 668 KB    | : 100% 1.0/1 [00:00<00:00,  6.73it/s]\n",
            "wheel-0.38.4         | 32 KB     | : 100% 1.0/1 [00:00<00:00, 24.03it/s]\n",
            "pip-22.3.1           | 1.5 MB    | : 100% 1.0/1 [00:00<00:00,  3.08it/s]\n",
            "gast-0.4.0           | 12 KB     | : 100% 1.0/1 [00:00<00:00, 21.14it/s]\n",
            "sqlite-3.40.0        | 801 KB    | : 100% 1.0/1 [00:00<00:00,  8.32it/s]\n",
            "python-flatbuffers-2 | 28 KB     | : 100% 1.0/1 [00:00<00:00, 14.00it/s]\n",
            "flatbuffers-2.0.7    | 1.7 MB    | : 100% 1.0/1 [00:03<00:00,  3.74s/it]               \n",
            "pyopenssl-22.1.0     | 122 KB    | : 100% 1.0/1 [00:00<00:00, 21.12it/s]\n",
            "absl-py-1.3.0        | 95 KB     | : 100% 1.0/1 [00:00<00:00, 14.46it/s]\n",
            "liblapack-3.9.0      | 13 KB     | : 100% 1.0/1 [00:00<00:00, 26.59it/s]\n",
            "protobuf-4.21.8      | 336 KB    | : 100% 1.0/1 [00:00<00:00,  8.35it/s]\n",
            "keras-2.10.0         | 981 KB    | : 100% 1.0/1 [00:00<00:00,  3.43it/s]\n",
            "asynctest-0.13.0     | 24 KB     | : 100% 1.0/1 [00:00<00:00,  3.21it/s]               \n",
            "zlib-1.2.13          | 92 KB     | : 100% 1.0/1 [00:00<00:00, 23.72it/s]\n",
            "libpng-1.6.39        | 276 KB    | : 100% 1.0/1 [00:00<00:00,  5.94it/s]\n",
            "libcurl-7.86.0       | 348 KB    | : 100% 1.0/1 [00:00<00:00, 12.66it/s]\n",
            "hdf5-1.12.2          | 3.5 MB    | : 100% 1.0/1 [00:00<00:00,  2.07it/s]\n",
            "cached-property-1.5. | 4 KB      | : 100% 1.0/1 [00:00<00:00, 28.87it/s]\n",
            "keras-preprocessing- | 34 KB     | : 100% 1.0/1 [00:00<00:00, 28.94it/s]\n",
            "openssl-1.1.1s       | 1.9 MB    | : 100% 1.0/1 [00:00<00:00,  4.78it/s]\n",
            "libblas-3.9.0        | 13 KB     | : 100% 1.0/1 [00:00<00:00, 28.64it/s]\n",
            "libcblas-3.9.0       | 13 KB     | : 100% 1.0/1 [00:00<00:00, 31.95it/s]\n",
            "libgfortran-ng-12.2. | 22 KB     | : 100% 1.0/1 [00:00<00:00, 24.52it/s]\n",
            "tensorflow-2.10.0    | 29 KB     | : 100% 1.0/1 [00:00<00:00,  2.99it/s]               \n",
            "ca-certificates-2022 | 150 KB    | : 100% 1.0/1 [00:00<00:00, 14.68it/s]\n",
            "opt_einsum-3.3.0     | 53 KB     | : 100% 1.0/1 [00:00<00:00, 23.89it/s]\n",
            "idna-3.4             | 55 KB     | : 100% 1.0/1 [00:00<00:00, 23.91it/s]\n",
            "pyparsing-3.0.9      | 79 KB     | : 100% 1.0/1 [00:00<00:00, 22.66it/s]\n",
            "click-8.1.3          | 145 KB    | : 100% 1.0/1 [00:00<00:00, 15.65it/s]\n",
            "nccl-2.14.3.1        | 145.2 MB  | : 100% 1.0/1 [00:16<00:00, 16.62s/it]              \n",
            "numpy-1.21.6         | 6.1 MB    | : 100% 1.0/1 [00:01<00:00,  1.22s/it]               \n",
            "wrapt-1.14.1         | 50 KB     | : 100% 1.0/1 [00:00<00:00,  2.72it/s]                \n",
            "cachetools-5.2.0     | 13 KB     | : 100% 1.0/1 [00:00<00:00, 32.77it/s]\n",
            "requests-2.28.1      | 53 KB     | : 100% 1.0/1 [00:00<00:00, 21.38it/s]\n",
            "cudatoolkit-11.8.0   | 635.9 MB  | : 100% 1.0/1 [00:26<00:00, 26.19s/it] \n",
            "termcolor-2.1.1      | 10 KB     | : 100% 1.0/1 [00:00<00:00,  8.24it/s]\n",
            "pyu2f-0.1.5          | 31 KB     | : 100% 1.0/1 [00:00<00:00, 22.36it/s]\n",
            "tensorboard-data-ser | 3.1 MB    | : 100% 1.0/1 [00:00<00:00,  1.03it/s]               \n",
            "tensorflow-base-2.10 | 400.5 MB  | : 100% 1.0/1 [01:02<00:00, 62.12s/it]               \n",
            "pyjwt-2.6.0          | 21 KB     | : 100% 1.0/1 [00:00<00:00, 21.45it/s]\n",
            "python_abi-3.7       | 6 KB      | : 100% 1.0/1 [00:00<00:00,  8.48it/s]\n",
            "certifi-2022.9.24    | 155 KB    | : 100% 1.0/1 [00:00<00:00, 10.31it/s]\n",
            "giflib-5.2.1         | 77 KB     | : 100% 1.0/1 [00:00<00:00, 17.27it/s]\n",
            "libabseil-20220623.0 | 1.1 MB    | : 100% 1.0/1 [00:00<00:00,  2.84it/s]\n",
            "Preparing transaction: - \b\b\\ \b\b| \b\b/ \b\b- \b\b\\ \b\b| \b\b/ \b\b- \b\b\\ \b\b| \b\b/ \b\bdone\n",
            "Verifying transaction: \\ \b\b| \b\b/ \b\b- \b\b\\ \b\b| \b\b/ \b\b- \b\b\\ \b\b| \b\b/ \b\b- \b\b\\ \b\b| \b\b/ \b\b- \b\b\\ \b\b| \b\b/ \b\b- \b\b\\ \b\b| \b\b/ \b\b- \b\b\\ \b\b| \b\b/ \b\b- \b\b\\ \b\b| \b\b/ \b\b- \b\b\\ \b\b| \b\b/ \b\b- \b\b\\ \b\b| \b\b/ \b\b- \b\b\\ \b\b| \b\b/ \b\b- \b\b\\ \b\b| \b\b/ \b\b- \b\b\\ \b\b| \b\b/ \b\b- \b\b\\ \b\b| \b\b/ \b\b- \b\b\\ \b\b| \b\b/ \b\b- \b\b\\ \b\b| \b\b/ \b\b- \b\b\\ \b\b| \b\b/ \b\b- \b\b\\ \b\b| \b\b/ \b\b- \b\b\\ \b\b| \b\b/ \b\b- \b\b\\ \b\b| \b\b/ \b\b- \b\b\\ \b\b| \b\b/ \b\b- \b\b\\ \b\b| \b\b/ \b\b- \b\b\\ \b\b| \b\b/ \b\b- \b\b\\ \b\b| \b\b/ \b\b- \b\b\\ \b\b| \b\b/ \b\b- \b\b\\ \b\b| \b\b/ \b\b- \b\b\\ \b\b| \b\b/ \b\b- \b\b\\ \b\b| \b\b/ \b\b- \b\b\\ \b\b| \b\b/ \b\b- \b\b\\ \b\b| \b\b/ \b\b- \b\b\\ \b\b| \b\b/ \b\b- \b\b\\ \b\b| \b\b/ \b\b- \b\b\\ \b\b| \b\b/ \b\b- \b\b\\ \b\b| \b\b/ \b\b- \b\b\\ \b\b| \b\b/ \b\b- \b\b\\ \b\b| \b\b/ \b\b- \b\bdone\n",
            "Executing transaction: | \b\b/ \b\b- \b\b\\ \b\b| \b\b/ \b\b- \b\b\\ \b\b| \b\b/ \b\b- \b\b\\ \b\b| \b\b/ \b\b- \b\b\\ \b\b| \b\b/ \b\b- \b\b\\ \b\b| \b\b/ \b\b- \b\b\\ \b\b| \b\b/ \b\b- \b\b\\ By downloading and using the CUDA Toolkit conda packages, you accept the terms and conditions of the CUDA End User License Agreement (EULA): https://docs.nvidia.com/cuda/eula/index.html\n",
            "\n",
            "\b\b| \b\b/ \b\b- \b\b\\ \b\b| \b\b/ \b\b- \b\b\\ \b\b| By downloading and using the cuDNN conda packages, you accept the terms and conditions of the NVIDIA cuDNN EULA -\n",
            "  https://docs.nvidia.com/deeplearning/cudnn/sla/index.html\n",
            "\n",
            "\b\b/ \b\b- \b\b\\ \b\b| \b\b/ \b\b- \b\b\\ \b\b| \b\b/ \b\b- \b\b\\ \b\b| \b\b/ \b\b- \b\b\\ \b\b| \b\b/ \b\b- \b\b\\ \b\b| \b\b/ \b\b- \b\b\\ \b\b| \b\b/ \b\b- \b\b\\ \b\b| \b\b/ \b\b- \b\b\\ \b\b| \b\b/ \b\b- \b\b\\ \b\b| \b\b/ \b\b- \b\b\\ \b\b| \b\b/ \b\b- \b\b\\ \b\b| \b\b/ \b\b- \b\b\\ \b\b| \b\b/ \b\b- \b\b\\ \b\b| \b\b/ \b\b- \b\b\\ \b\b| \b\b/ \b\b- \b\b\\ \b\b| \b\bdone\n",
            "#\n",
            "# To activate this environment, use\n",
            "#\n",
            "#     $ conda activate py37\n",
            "#\n",
            "# To deactivate an active environment, use\n",
            "#\n",
            "#     $ conda deactivate\n",
            "\n",
            "Retrieving notices: ...working... done\n"
          ]
        }
      ]
    },
    {
      "cell_type": "code",
      "source": [
        "! conda activate py37"
      ],
      "metadata": {
        "colab": {
          "base_uri": "https://localhost:8080/"
        },
        "id": "3_ZICmy_JG2a",
        "outputId": "996fafe9-f411-4277-893c-fa8d0cdfb34b"
      },
      "execution_count": 5,
      "outputs": [
        {
          "output_type": "stream",
          "name": "stdout",
          "text": [
            "\n",
            "CommandNotFoundError: Your shell has not been properly configured to use 'conda activate'.\n",
            "To initialize your shell, run\n",
            "\n",
            "    $ conda init <SHELL_NAME>\n",
            "\n",
            "Currently supported shells are:\n",
            "  - bash\n",
            "  - fish\n",
            "  - tcsh\n",
            "  - xonsh\n",
            "  - zsh\n",
            "  - powershell\n",
            "\n",
            "See 'conda init --help' for more information and options.\n",
            "\n",
            "IMPORTANT: You may need to close and restart your shell after running 'conda init'.\n",
            "\n",
            "\n"
          ]
        }
      ]
    },
    {
      "cell_type": "code",
      "source": [
        "!pip install tensorflow==1.13.1\n",
        "!pip install keras==2.2.4"
      ],
      "metadata": {
        "colab": {
          "base_uri": "https://localhost:8080/",
          "height": 1000
        },
        "id": "JkDbHrnq_BIJ",
        "outputId": "4101e615-cf30-43ed-a514-3f34d2b90c53"
      },
      "execution_count": 6,
      "outputs": [
        {
          "output_type": "stream",
          "name": "stdout",
          "text": [
            "Looking in indexes: https://pypi.org/simple, https://us-python.pkg.dev/colab-wheels/public/simple/\n",
            "Collecting tensorflow==1.13.1\n",
            "  Downloading tensorflow-1.13.1-cp37-cp37m-manylinux1_x86_64.whl (92.6 MB)\n",
            "\u001b[2K     \u001b[90m━━━━━━━━━━━━━━━━━━━━━━━━━━━━━━━━━━━━━━━━\u001b[0m \u001b[32m92.6/92.6 MB\u001b[0m \u001b[31m10.8 MB/s\u001b[0m eta \u001b[36m0:00:00\u001b[0m\n",
            "\u001b[?25hCollecting tensorflow-estimator<1.14.0rc0,>=1.13.0\n",
            "  Downloading tensorflow_estimator-1.13.0-py2.py3-none-any.whl (367 kB)\n",
            "\u001b[2K     \u001b[90m━━━━━━━━━━━━━━━━━━━━━━━━━━━━━━━━━━━━━━\u001b[0m \u001b[32m367.6/367.6 kB\u001b[0m \u001b[31m43.5 MB/s\u001b[0m eta \u001b[36m0:00:00\u001b[0m\n",
            "\u001b[?25hRequirement already satisfied: wheel>=0.26 in /usr/local/lib/python3.7/site-packages (from tensorflow==1.13.1) (0.37.1)\n",
            "Requirement already satisfied: six>=1.10.0 in /usr/local/lib/python3.7/site-packages (from tensorflow==1.13.1) (1.16.0)\n",
            "Collecting keras-applications>=1.0.6\n",
            "  Downloading Keras_Applications-1.0.8-py3-none-any.whl (50 kB)\n",
            "\u001b[2K     \u001b[90m━━━━━━━━━━━━━━━━━━━━━━━━━━━━━━━━━━━━━━━━\u001b[0m \u001b[32m50.7/50.7 kB\u001b[0m \u001b[31m7.3 MB/s\u001b[0m eta \u001b[36m0:00:00\u001b[0m\n",
            "\u001b[?25hCollecting numpy>=1.13.3\n",
            "  Downloading numpy-1.21.6-cp37-cp37m-manylinux_2_12_x86_64.manylinux2010_x86_64.whl (15.7 MB)\n",
            "\u001b[2K     \u001b[90m━━━━━━━━━━━━━━━━━━━━━━━━━━━━━━━━━━━━━━━━\u001b[0m \u001b[32m15.7/15.7 MB\u001b[0m \u001b[31m89.1 MB/s\u001b[0m eta \u001b[36m0:00:00\u001b[0m\n",
            "\u001b[?25hCollecting gast>=0.2.0\n",
            "  Downloading gast-0.5.3-py3-none-any.whl (19 kB)\n",
            "Collecting grpcio>=1.8.6\n",
            "  Downloading grpcio-1.51.1-cp37-cp37m-manylinux_2_17_x86_64.manylinux2014_x86_64.whl (4.8 MB)\n",
            "\u001b[2K     \u001b[90m━━━━━━━━━━━━━━━━━━━━━━━━━━━━━━━━━━━━━━━━\u001b[0m \u001b[32m4.8/4.8 MB\u001b[0m \u001b[31m94.0 MB/s\u001b[0m eta \u001b[36m0:00:00\u001b[0m\n",
            "\u001b[?25hCollecting termcolor>=1.1.0\n",
            "  Downloading termcolor-2.1.1-py3-none-any.whl (6.2 kB)\n",
            "Collecting protobuf>=3.6.1\n",
            "  Downloading protobuf-4.21.10-cp37-abi3-manylinux2014_x86_64.whl (408 kB)\n",
            "\u001b[2K     \u001b[90m━━━━━━━━━━━━━━━━━━━━━━━━━━━━━━━━━━━━━━\u001b[0m \u001b[32m408.4/408.4 kB\u001b[0m \u001b[31m42.2 MB/s\u001b[0m eta \u001b[36m0:00:00\u001b[0m\n",
            "\u001b[?25hCollecting keras-preprocessing>=1.0.5\n",
            "  Downloading Keras_Preprocessing-1.1.2-py2.py3-none-any.whl (42 kB)\n",
            "\u001b[2K     \u001b[90m━━━━━━━━━━━━━━━━━━━━━━━━━━━━━━━━━━━━━━━━\u001b[0m \u001b[32m42.6/42.6 kB\u001b[0m \u001b[31m6.3 MB/s\u001b[0m eta \u001b[36m0:00:00\u001b[0m\n",
            "\u001b[?25hCollecting tensorboard<1.14.0,>=1.13.0\n",
            "  Downloading tensorboard-1.13.1-py3-none-any.whl (3.2 MB)\n",
            "\u001b[2K     \u001b[90m━━━━━━━━━━━━━━━━━━━━━━━━━━━━━━━━━━━━━━━━\u001b[0m \u001b[32m3.2/3.2 MB\u001b[0m \u001b[31m93.7 MB/s\u001b[0m eta \u001b[36m0:00:00\u001b[0m\n",
            "\u001b[?25hCollecting absl-py>=0.1.6\n",
            "  Downloading absl_py-1.3.0-py3-none-any.whl (124 kB)\n",
            "\u001b[2K     \u001b[90m━━━━━━━━━━━━━━━━━━━━━━━━━━━━━━━━━━━━━━\u001b[0m \u001b[32m124.6/124.6 kB\u001b[0m \u001b[31m14.0 MB/s\u001b[0m eta \u001b[36m0:00:00\u001b[0m\n",
            "\u001b[?25hCollecting astor>=0.6.0\n",
            "  Downloading astor-0.8.1-py2.py3-none-any.whl (27 kB)\n",
            "Collecting h5py\n",
            "  Downloading h5py-3.7.0-cp37-cp37m-manylinux_2_12_x86_64.manylinux2010_x86_64.whl (4.1 MB)\n",
            "\u001b[2K     \u001b[90m━━━━━━━━━━━━━━━━━━━━━━━━━━━━━━━━━━━━━━━━\u001b[0m \u001b[32m4.1/4.1 MB\u001b[0m \u001b[31m92.6 MB/s\u001b[0m eta \u001b[36m0:00:00\u001b[0m\n",
            "\u001b[?25hCollecting werkzeug>=0.11.15\n",
            "  Downloading Werkzeug-2.2.2-py3-none-any.whl (232 kB)\n",
            "\u001b[2K     \u001b[90m━━━━━━━━━━━━━━━━━━━━━━━━━━━━━━━━━━━━━━\u001b[0m \u001b[32m232.7/232.7 kB\u001b[0m \u001b[31m28.4 MB/s\u001b[0m eta \u001b[36m0:00:00\u001b[0m\n",
            "\u001b[?25hCollecting markdown>=2.6.8\n",
            "  Downloading Markdown-3.4.1-py3-none-any.whl (93 kB)\n",
            "\u001b[2K     \u001b[90m━━━━━━━━━━━━━━━━━━━━━━━━━━━━━━━━━━━━━━━━\u001b[0m \u001b[32m93.3/93.3 kB\u001b[0m \u001b[31m15.3 MB/s\u001b[0m eta \u001b[36m0:00:00\u001b[0m\n",
            "\u001b[?25hCollecting mock>=2.0.0\n",
            "  Downloading mock-4.0.3-py3-none-any.whl (28 kB)\n",
            "Collecting importlib-metadata>=4.4\n",
            "  Downloading importlib_metadata-5.1.0-py3-none-any.whl (21 kB)\n",
            "Collecting MarkupSafe>=2.1.1\n",
            "  Downloading MarkupSafe-2.1.1-cp37-cp37m-manylinux_2_17_x86_64.manylinux2014_x86_64.whl (25 kB)\n",
            "Collecting typing-extensions>=3.6.4\n",
            "  Downloading typing_extensions-4.4.0-py3-none-any.whl (26 kB)\n",
            "Collecting zipp>=0.5\n",
            "  Downloading zipp-3.11.0-py3-none-any.whl (6.6 kB)\n",
            "Installing collected packages: zipp, typing-extensions, termcolor, protobuf, numpy, mock, MarkupSafe, grpcio, gast, astor, absl-py, werkzeug, tensorflow-estimator, keras-preprocessing, importlib-metadata, h5py, markdown, keras-applications, tensorboard, tensorflow\n",
            "Successfully installed MarkupSafe-2.1.1 absl-py-1.3.0 astor-0.8.1 gast-0.5.3 grpcio-1.51.1 h5py-3.7.0 importlib-metadata-5.1.0 keras-applications-1.0.8 keras-preprocessing-1.1.2 markdown-3.4.1 mock-4.0.3 numpy-1.21.6 protobuf-4.21.10 tensorboard-1.13.1 tensorflow-1.13.1 tensorflow-estimator-1.13.0 termcolor-2.1.1 typing-extensions-4.4.0 werkzeug-2.2.2 zipp-3.11.0\n",
            "\u001b[33mWARNING: Running pip as the 'root' user can result in broken permissions and conflicting behaviour with the system package manager. It is recommended to use a virtual environment instead: https://pip.pypa.io/warnings/venv\u001b[0m\u001b[33m\n",
            "\u001b[0m"
          ]
        },
        {
          "output_type": "display_data",
          "data": {
            "application/vnd.colab-display-data+json": {
              "pip_warning": {
                "packages": [
                  "astor",
                  "numpy"
                ]
              }
            }
          },
          "metadata": {}
        },
        {
          "output_type": "stream",
          "name": "stdout",
          "text": [
            "Looking in indexes: https://pypi.org/simple, https://us-python.pkg.dev/colab-wheels/public/simple/\n",
            "Collecting keras==2.2.4\n",
            "  Downloading Keras-2.2.4-py2.py3-none-any.whl (312 kB)\n",
            "\u001b[2K     \u001b[90m━━━━━━━━━━━━━━━━━━━━━━━━━━━━━━━━━━━━━━\u001b[0m \u001b[32m312.5/312.5 kB\u001b[0m \u001b[31m27.1 MB/s\u001b[0m eta \u001b[36m0:00:00\u001b[0m\n",
            "\u001b[?25hRequirement already satisfied: keras-applications>=1.0.6 in /usr/local/lib/python3.7/site-packages (from keras==2.2.4) (1.0.8)\n",
            "Requirement already satisfied: h5py in /usr/local/lib/python3.7/site-packages (from keras==2.2.4) (3.7.0)\n",
            "Collecting pyyaml\n",
            "  Downloading PyYAML-6.0-cp37-cp37m-manylinux_2_5_x86_64.manylinux1_x86_64.manylinux_2_12_x86_64.manylinux2010_x86_64.whl (596 kB)\n",
            "\u001b[2K     \u001b[90m━━━━━━━━━━━━━━━━━━━━━━━━━━━━━━━━━━━━━━\u001b[0m \u001b[32m596.3/596.3 kB\u001b[0m \u001b[31m50.3 MB/s\u001b[0m eta \u001b[36m0:00:00\u001b[0m\n",
            "\u001b[?25hCollecting scipy>=0.14\n",
            "  Downloading scipy-1.7.3-cp37-cp37m-manylinux_2_12_x86_64.manylinux2010_x86_64.whl (38.1 MB)\n",
            "\u001b[2K     \u001b[90m━━━━━━━━━━━━━━━━━━━━━━━━━━━━━━━━━━━━━━━━\u001b[0m \u001b[32m38.1/38.1 MB\u001b[0m \u001b[31m15.3 MB/s\u001b[0m eta \u001b[36m0:00:00\u001b[0m\n",
            "\u001b[?25hRequirement already satisfied: six>=1.9.0 in /usr/local/lib/python3.7/site-packages (from keras==2.2.4) (1.16.0)\n",
            "Requirement already satisfied: keras-preprocessing>=1.0.5 in /usr/local/lib/python3.7/site-packages (from keras==2.2.4) (1.1.2)\n",
            "Requirement already satisfied: numpy>=1.9.1 in /usr/local/lib/python3.7/site-packages (from keras==2.2.4) (1.21.6)\n",
            "Installing collected packages: scipy, pyyaml, keras\n",
            "Successfully installed keras-2.2.4 pyyaml-6.0 scipy-1.7.3\n",
            "\u001b[33mWARNING: Running pip as the 'root' user can result in broken permissions and conflicting behaviour with the system package manager. It is recommended to use a virtual environment instead: https://pip.pypa.io/warnings/venv\u001b[0m\u001b[33m\n",
            "\u001b[0m"
          ]
        }
      ]
    },
    {
      "cell_type": "code",
      "source": [
        "!python --version"
      ],
      "metadata": {
        "colab": {
          "base_uri": "https://localhost:8080/"
        },
        "id": "7adX5N9jBzN6",
        "outputId": "bdb7ab26-060e-4a9a-9104-4d76fbb11060"
      },
      "execution_count": 7,
      "outputs": [
        {
          "output_type": "stream",
          "name": "stdout",
          "text": [
            "Python 3.7.12\n"
          ]
        }
      ]
    },
    {
      "cell_type": "code",
      "source": [
        "! pip install --upgrade pandas # 최신 버전으로 업그레이드. \n",
        "# ! pip install pandas==0.23 # 지정된 버전으로 업그레이드. \n",
        "! pip install protobuf==3.20.*\n",
        "! pip install matplotlib\n",
        "! pip install -U scikit-learn\n",
        "! pip install opencv-python"
      ],
      "metadata": {
        "colab": {
          "base_uri": "https://localhost:8080/",
          "height": 1000
        },
        "id": "ftfNmW5XM5fR",
        "outputId": "2b422f6a-5f7b-47dc-9310-4dec94885802"
      },
      "execution_count": 1,
      "outputs": [
        {
          "output_type": "stream",
          "name": "stdout",
          "text": [
            "Looking in indexes: https://pypi.org/simple, https://us-python.pkg.dev/colab-wheels/public/simple/\n",
            "Requirement already satisfied: pandas in /usr/local/lib/python3.7/site-packages (1.3.5)\n",
            "Requirement already satisfied: pytz>=2017.3 in /usr/local/lib/python3.7/site-packages (from pandas) (2022.6)\n",
            "Requirement already satisfied: python-dateutil>=2.7.3 in /usr/local/lib/python3.7/site-packages (from pandas) (2.8.2)\n",
            "Requirement already satisfied: numpy>=1.17.3 in /usr/local/lib/python3.7/site-packages (from pandas) (1.21.6)\n",
            "Requirement already satisfied: six>=1.5 in /usr/local/lib/python3.7/site-packages (from python-dateutil>=2.7.3->pandas) (1.16.0)\n",
            "\u001b[33mWARNING: Running pip as the 'root' user can result in broken permissions and conflicting behaviour with the system package manager. It is recommended to use a virtual environment instead: https://pip.pypa.io/warnings/venv\u001b[0m\u001b[33m\n",
            "\u001b[0mLooking in indexes: https://pypi.org/simple, https://us-python.pkg.dev/colab-wheels/public/simple/\n",
            "Requirement already satisfied: protobuf==3.20.* in /usr/local/lib/python3.7/site-packages (3.20.3)\n",
            "\u001b[33mWARNING: Running pip as the 'root' user can result in broken permissions and conflicting behaviour with the system package manager. It is recommended to use a virtual environment instead: https://pip.pypa.io/warnings/venv\u001b[0m\u001b[33m\n",
            "\u001b[0mLooking in indexes: https://pypi.org/simple, https://us-python.pkg.dev/colab-wheels/public/simple/\n",
            "Collecting matplotlib\n",
            "  Downloading matplotlib-3.5.3-cp37-cp37m-manylinux_2_5_x86_64.manylinux1_x86_64.whl (11.2 MB)\n",
            "\u001b[2K     \u001b[90m━━━━━━━━━━━━━━━━━━━━━━━━━━━━━━━━━━━━━━━━\u001b[0m \u001b[32m11.2/11.2 MB\u001b[0m \u001b[31m94.5 MB/s\u001b[0m eta \u001b[36m0:00:00\u001b[0m\n",
            "\u001b[?25hCollecting pillow>=6.2.0\n",
            "  Downloading Pillow-9.3.0-cp37-cp37m-manylinux_2_17_x86_64.manylinux2014_x86_64.whl (3.2 MB)\n",
            "\u001b[2K     \u001b[90m━━━━━━━━━━━━━━━━━━━━━━━━━━━━━━━━━━━━━━━━\u001b[0m \u001b[32m3.2/3.2 MB\u001b[0m \u001b[31m102.0 MB/s\u001b[0m eta \u001b[36m0:00:00\u001b[0m\n",
            "\u001b[?25hRequirement already satisfied: python-dateutil>=2.7 in /usr/local/lib/python3.7/site-packages (from matplotlib) (2.8.2)\n",
            "Collecting packaging>=20.0\n",
            "  Downloading packaging-21.3-py3-none-any.whl (40 kB)\n",
            "\u001b[2K     \u001b[90m━━━━━━━━━━━━━━━━━━━━━━━━━━━━━━━━━━━━━━━━\u001b[0m \u001b[32m40.8/40.8 kB\u001b[0m \u001b[31m3.6 MB/s\u001b[0m eta \u001b[36m0:00:00\u001b[0m\n",
            "\u001b[?25hCollecting kiwisolver>=1.0.1\n",
            "  Downloading kiwisolver-1.4.4-cp37-cp37m-manylinux_2_5_x86_64.manylinux1_x86_64.whl (1.1 MB)\n",
            "\u001b[2K     \u001b[90m━━━━━━━━━━━━━━━━━━━━━━━━━━━━━━━━━━━━━━━━\u001b[0m \u001b[32m1.1/1.1 MB\u001b[0m \u001b[31m39.7 MB/s\u001b[0m eta \u001b[36m0:00:00\u001b[0m\n",
            "\u001b[?25hCollecting pyparsing>=2.2.1\n",
            "  Downloading pyparsing-3.0.9-py3-none-any.whl (98 kB)\n",
            "\u001b[2K     \u001b[90m━━━━━━━━━━━━━━━━━━━━━━━━━━━━━━━━━━━━━━━━\u001b[0m \u001b[32m98.3/98.3 kB\u001b[0m \u001b[31m14.2 MB/s\u001b[0m eta \u001b[36m0:00:00\u001b[0m\n",
            "\u001b[?25hRequirement already satisfied: numpy>=1.17 in /usr/local/lib/python3.7/site-packages (from matplotlib) (1.21.6)\n",
            "Collecting cycler>=0.10\n",
            "  Downloading cycler-0.11.0-py3-none-any.whl (6.4 kB)\n",
            "Collecting fonttools>=4.22.0\n",
            "  Downloading fonttools-4.38.0-py3-none-any.whl (965 kB)\n",
            "\u001b[2K     \u001b[90m━━━━━━━━━━━━━━━━━━━━━━━━━━━━━━━━━━━━━━\u001b[0m \u001b[32m965.4/965.4 kB\u001b[0m \u001b[31m68.0 MB/s\u001b[0m eta \u001b[36m0:00:00\u001b[0m\n",
            "\u001b[?25hRequirement already satisfied: typing-extensions in /usr/local/lib/python3.7/site-packages (from kiwisolver>=1.0.1->matplotlib) (4.4.0)\n",
            "Requirement already satisfied: six>=1.5 in /usr/local/lib/python3.7/site-packages (from python-dateutil>=2.7->matplotlib) (1.16.0)\n",
            "Installing collected packages: pyparsing, pillow, kiwisolver, fonttools, cycler, packaging, matplotlib\n",
            "Successfully installed cycler-0.11.0 fonttools-4.38.0 kiwisolver-1.4.4 matplotlib-3.5.3 packaging-21.3 pillow-9.3.0 pyparsing-3.0.9\n",
            "\u001b[33mWARNING: Running pip as the 'root' user can result in broken permissions and conflicting behaviour with the system package manager. It is recommended to use a virtual environment instead: https://pip.pypa.io/warnings/venv\u001b[0m\u001b[33m\n",
            "\u001b[0m"
          ]
        },
        {
          "output_type": "display_data",
          "data": {
            "application/vnd.colab-display-data+json": {
              "pip_warning": {
                "packages": [
                  "cycler",
                  "kiwisolver"
                ]
              }
            }
          },
          "metadata": {}
        },
        {
          "output_type": "stream",
          "name": "stdout",
          "text": [
            "Looking in indexes: https://pypi.org/simple, https://us-python.pkg.dev/colab-wheels/public/simple/\n",
            "Collecting scikit-learn\n",
            "  Downloading scikit_learn-1.0.2-cp37-cp37m-manylinux_2_17_x86_64.manylinux2014_x86_64.whl (24.8 MB)\n",
            "\u001b[2K     \u001b[90m━━━━━━━━━━━━━━━━━━━━━━━━━━━━━━━━━━━━━━━━\u001b[0m \u001b[32m24.8/24.8 MB\u001b[0m \u001b[31m32.8 MB/s\u001b[0m eta \u001b[36m0:00:00\u001b[0m\n",
            "\u001b[?25hRequirement already satisfied: numpy>=1.14.6 in /usr/local/lib/python3.7/site-packages (from scikit-learn) (1.21.6)\n",
            "Collecting threadpoolctl>=2.0.0\n",
            "  Downloading threadpoolctl-3.1.0-py3-none-any.whl (14 kB)\n",
            "Requirement already satisfied: scipy>=1.1.0 in /usr/local/lib/python3.7/site-packages (from scikit-learn) (1.7.3)\n",
            "Collecting joblib>=0.11\n",
            "  Downloading joblib-1.2.0-py3-none-any.whl (297 kB)\n",
            "\u001b[2K     \u001b[90m━━━━━━━━━━━━━━━━━━━━━━━━━━━━━━━━━━━━━━\u001b[0m \u001b[32m298.0/298.0 kB\u001b[0m \u001b[31m29.2 MB/s\u001b[0m eta \u001b[36m0:00:00\u001b[0m\n",
            "\u001b[?25hInstalling collected packages: threadpoolctl, joblib, scikit-learn\n",
            "Successfully installed joblib-1.2.0 scikit-learn-1.0.2 threadpoolctl-3.1.0\n",
            "\u001b[33mWARNING: Running pip as the 'root' user can result in broken permissions and conflicting behaviour with the system package manager. It is recommended to use a virtual environment instead: https://pip.pypa.io/warnings/venv\u001b[0m\u001b[33m\n",
            "\u001b[0mLooking in indexes: https://pypi.org/simple, https://us-python.pkg.dev/colab-wheels/public/simple/\n",
            "Collecting opencv-python\n",
            "  Downloading opencv_python-4.6.0.66-cp36-abi3-manylinux_2_17_x86_64.manylinux2014_x86_64.whl (60.9 MB)\n",
            "\u001b[2K     \u001b[90m━━━━━━━━━━━━━━━━━━━━━━━━━━━━━━━━━━━━━━━━\u001b[0m \u001b[32m60.9/60.9 MB\u001b[0m \u001b[31m10.6 MB/s\u001b[0m eta \u001b[36m0:00:00\u001b[0m\n",
            "\u001b[?25hRequirement already satisfied: numpy>=1.14.5 in /usr/local/lib/python3.7/site-packages (from opencv-python) (1.21.6)\n",
            "Installing collected packages: opencv-python\n",
            "Successfully installed opencv-python-4.6.0.66\n",
            "\u001b[33mWARNING: Running pip as the 'root' user can result in broken permissions and conflicting behaviour with the system package manager. It is recommended to use a virtual environment instead: https://pip.pypa.io/warnings/venv\u001b[0m\u001b[33m\n",
            "\u001b[0m"
          ]
        }
      ]
    },
    {
      "cell_type": "code",
      "execution_count": 1,
      "metadata": {
        "colab": {
          "base_uri": "https://localhost:8080/"
        },
        "id": "Xij_eTyXD_3h",
        "outputId": "f6066301-f95d-4cee-9daa-12d556e92d1b"
      },
      "outputs": [
        {
          "output_type": "stream",
          "name": "stdout",
          "text": [
            "Looking in indexes: https://pypi.org/simple, https://us-python.pkg.dev/colab-wheels/public/simple/\n",
            "Collecting git+https://github.com/qubvel/efficientnet\n",
            "  Cloning https://github.com/qubvel/efficientnet to /tmp/pip-req-build-_gk79czv\n",
            "  Running command git clone --filter=blob:none --quiet https://github.com/qubvel/efficientnet /tmp/pip-req-build-_gk79czv\n",
            "  Resolved https://github.com/qubvel/efficientnet to commit f7f3e736c113b872caf53dae9fbbda996a8eb87d\n",
            "  Preparing metadata (setup.py) ... \u001b[?25l\u001b[?25hdone\n",
            "Requirement already satisfied: keras_applications<=1.0.8,>=1.0.7 in /usr/local/lib/python3.7/site-packages (from efficientnet==1.1.1) (1.0.8)\n",
            "Requirement already satisfied: scikit-image in /usr/local/lib/python3.7/site-packages (from efficientnet==1.1.1) (0.19.3)\n",
            "Requirement already satisfied: numpy>=1.9.1 in /usr/local/lib/python3.7/site-packages (from keras_applications<=1.0.8,>=1.0.7->efficientnet==1.1.1) (1.21.6)\n",
            "Requirement already satisfied: h5py in /usr/local/lib/python3.7/site-packages (from keras_applications<=1.0.8,>=1.0.7->efficientnet==1.1.1) (3.7.0)\n",
            "Requirement already satisfied: PyWavelets>=1.1.1 in /usr/local/lib/python3.7/site-packages (from scikit-image->efficientnet==1.1.1) (1.3.0)\n",
            "Requirement already satisfied: tifffile>=2019.7.26 in /usr/local/lib/python3.7/site-packages (from scikit-image->efficientnet==1.1.1) (2021.11.2)\n",
            "Requirement already satisfied: pillow!=7.1.0,!=7.1.1,!=8.3.0,>=6.1.0 in /usr/local/lib/python3.7/site-packages (from scikit-image->efficientnet==1.1.1) (9.3.0)\n",
            "Requirement already satisfied: scipy>=1.4.1 in /usr/local/lib/python3.7/site-packages (from scikit-image->efficientnet==1.1.1) (1.7.3)\n",
            "Requirement already satisfied: imageio>=2.4.1 in /usr/local/lib/python3.7/site-packages (from scikit-image->efficientnet==1.1.1) (2.22.4)\n",
            "Requirement already satisfied: packaging>=20.0 in /usr/local/lib/python3.7/site-packages (from scikit-image->efficientnet==1.1.1) (21.3)\n",
            "Requirement already satisfied: networkx>=2.2 in /usr/local/lib/python3.7/site-packages (from scikit-image->efficientnet==1.1.1) (2.6.3)\n",
            "Requirement already satisfied: pyparsing!=3.0.5,>=2.0.2 in /usr/local/lib/python3.7/site-packages (from packaging>=20.0->scikit-image->efficientnet==1.1.1) (3.0.9)\n",
            "\u001b[33mWARNING: Running pip as the 'root' user can result in broken permissions and conflicting behaviour with the system package manager. It is recommended to use a virtual environment instead: https://pip.pypa.io/warnings/venv\u001b[0m\u001b[33m\n",
            "\u001b[0m"
          ]
        }
      ],
      "source": [
        "#! pip install -U efficientnet\n",
        "! pip install -U git+https://github.com/qubvel/efficientnet"
      ]
    },
    {
      "cell_type": "code",
      "source": [
        "import tensorflow as tf\n",
        "\n",
        "tf.config.experimental.list_physical_devices('GPU')"
      ],
      "metadata": {
        "colab": {
          "base_uri": "https://localhost:8080/"
        },
        "id": "xaj-4Fd8W66t",
        "outputId": "99f70390-74ef-453b-f73d-5fdb8dd01042"
      },
      "execution_count": 2,
      "outputs": [
        {
          "output_type": "execute_result",
          "data": {
            "text/plain": [
              "[PhysicalDevice(name='/physical_device:GPU:0', device_type='GPU')]"
            ]
          },
          "metadata": {},
          "execution_count": 2
        }
      ]
    },
    {
      "cell_type": "code",
      "source": [
        "import os\n",
        "\n",
        "os.environ[\"CUDA_VISIBLE_DEVICES\"]=\"0\"\n",
        "gpus = tf.config.experimental.list_physical_devices('GPU')\n",
        "if gpus:\n",
        "    try:\n",
        "        tf.config.experimental.set_memory_growth(gpus[0], True)\n",
        "    except RuntimeError as e:\n",
        "        print(e)"
      ],
      "metadata": {
        "id": "Ski6_ZsSXKDx"
      },
      "execution_count": 3,
      "outputs": []
    },
    {
      "cell_type": "code",
      "source": [
        "! conda install tensorflow-gpu"
      ],
      "metadata": {
        "colab": {
          "base_uri": "https://localhost:8080/"
        },
        "id": "Pmj0MVICZZOs",
        "outputId": "f38fa615-43b6-475d-a8a0-6d0ae432c3ce"
      },
      "execution_count": 5,
      "outputs": [
        {
          "output_type": "stream",
          "name": "stdout",
          "text": [
            "Collecting package metadata (current_repodata.json): - \b\b\\ \b\b| \b\b/ \b\b- \b\b\\ \b\b| \b\b/ \b\b- \b\b\\ \b\b| \b\b/ \b\b- \b\b\\ \b\b| \b\b/ \b\b- \b\b\\ \b\b| \b\b/ \b\b- \b\b\\ \b\b| \b\b/ \b\b- \b\b\\ \b\b| \b\b/ \b\b- \b\b\\ \b\b| \b\b/ \b\b- \b\b\\ \b\b| \b\b/ \b\b- \b\b\\ \b\b| \b\b/ \b\b- \b\b\\ \b\b| \b\b/ \b\b- \b\b\\ \b\b| \b\b/ \b\b- \b\b\\ \b\b| \b\b/ \b\b- \b\b\\ \b\b| \b\b/ \b\b- \b\b\\ \b\b| \b\b/ \b\b- \b\b\\ \b\b| \b\b/ \b\b- \b\b\\ \b\b| \b\b/ \b\b- \b\b\\ \b\b| \b\b/ \b\b- \b\b\\ \b\b| \b\b/ \b\b- \b\b\\ \b\b| \b\b/ \b\b- \b\b\\ \b\b| \b\b/ \b\b- \b\b\\ \b\b| \b\b/ \b\b- \b\b\\ \b\b| \b\b/ \b\b- \b\b\\ \b\b| \b\b/ \b\b- \b\b\\ \b\b| \b\b/ \b\b- \b\b\\ \b\b| \b\b/ \b\b- \b\b\\ \b\b| \b\b/ \b\b- \b\b\\ \b\b| \b\b/ \b\b- \b\b\\ \b\b| \b\b/ \b\b- \b\b\\ \b\b| \b\b/ \b\b- \b\b\\ \b\b| \b\b/ \b\b- \b\b\\ \b\b| \b\bdone\n",
            "Solving environment: - \b\b\\ \b\b| \b\b/ \b\b- \b\b\\ \b\b| \b\b/ \b\b- \b\b\\ \b\b| \b\b/ \b\b- \b\b\\ \b\b| \b\b/ \b\b- \b\b\\ \b\b| \b\b/ \b\b- \b\b\\ \b\b| \b\b/ \b\b- \b\b\\ \b\b| \b\b/ \b\b- \b\b\\ \b\b| \b\b/ \b\b- \b\b\\ \b\b| \b\b/ \b\b- \b\b\\ \b\b| \b\b/ \b\b- \b\b\\ \b\b| \b\b/ \b\b- \b\b\\ \b\b| \b\b/ \b\b- \b\b\\ \b\b| \b\b/ \b\b- \b\b\\ \b\b| \b\b/ \b\b- \b\b\\ \b\b| \b\b/ \b\b- \b\b\\ \b\b| \b\b/ \b\b- \b\b\\ \b\b| \b\b/ \b\b- \b\b\\ \b\b| \b\b/ \b\b- \b\b\\ \b\b| \b\b/ \b\b- \b\b\\ \b\b| \b\b/ \b\b- \b\b\\ \b\b| \b\b/ \b\b- \b\b\\ \b\b| \b\b/ \b\b- \b\b\\ \b\b| \b\b/ \b\bfailed with initial frozen solve. Retrying with flexible solve.\n",
            "Solving environment: \\ \b\b| \b\b/ \b\b- \b\b\\ \b\b| \b\b/ \b\b- \b\b\\ \b\b| \b\b/ \b\b- \b\b\\ \b\b| \b\b/ \b\b- \b\b\\ \b\b| \b\b/ \b\b- \b\b\\ \b\b| \b\b/ \b\b- \b\b\\ \b\b| \b\b/ \b\b- \b\b\\ \b\b| \b\b/ \b\b- \b\b\\ \b\b| \b\b/ \b\b- \b\b\\ \b\b| \b\b/ \b\b- \b\b\\ \b\b| \b\b/ \b\b- \b\b\\ \b\b| \b\b/ \b\b- \b\b\\ \b\b| \b\b/ \b\b- \b\b\\ \b\b| \b\b/ \b\b- \b\b\\ \b\b| \b\b/ \b\b- \b\b\\ \b\b| \b\b/ \b\b- \b\b\\ \b\b| \b\b/ \b\b- \b\b\\ \b\b| \b\b/ \b\b- \b\b\\ \b\b| \b\b/ \b\b- \b\b\\ \b\b| \b\b/ \b\b- \b\b\\ \b\b| \b\b/ \b\b- \b\b\\ \b\b| \b\b/ \b\b- \b\b\\ \b\b| \b\b/ \b\b- \b\b\\ \b\b| \b\b/ \b\b- \b\b\\ \b\b| \b\b/ \b\b- \b\b\\ \b\b| \b\b/ \b\b- \b\b\\ \b\b| \b\b/ \b\b- \b\b\\ \b\bfailed with repodata from current_repodata.json, will retry with next repodata source.\n",
            "Collecting package metadata (repodata.json): / \b\b- \b\b\\ \b\b| \b\b/ \b\b- \b\b\\ \b\b| \b\b/ \b\b- \b\b\\ \b\b| \b\b/ \b\b- \b\b\\ \b\b| \b\b/ \b\b- \b\b\\ \b\b| \b\b/ \b\b- \b\b\\ \b\b| \b\b/ \b\b- \b\b\\ \b\b| \b\b/ \b\b- \b\b\\ \b\b| \b\b/ \b\b- \b\b\\ \b\b| \b\b/ \b\b- \b\b\\ \b\b| \b\b/ \b\b- \b\b\\ \b\b| \b\b/ \b\b- \b\b\\ \b\b| \b\b/ \b\b- \b\b\\ \b\b| \b\b/ \b\b- \b\b\\ \b\b| \b\b/ \b\b- \b\b\\ \b\b| \b\b/ \b\b- \b\b\\ \b\b| \b\b/ \b\b- \b\b\\ \b\b| \b\b/ \b\b- \b\b\\ \b\b| \b\b/ \b\b- \b\b\\ \b\b| \b\b/ \b\b- \b\b\\ \b\b| \b\b/ \b\b- \b\b\\ \b\b| \b\b/ \b\b- \b\b\\ \b\b| \b\b/ \b\b- \b\b\\ \b\b| \b\b/ \b\b- \b\b\\ \b\b| \b\b/ \b\b- \b\b\\ \b\b| \b\b/ \b\b- \b\b\\ \b\b| \b\b/ \b\b- \b\b\\ \b\b| \b\b/ \b\b- \b\b\\ \b\b| \b\b/ \b\b- \b\b\\ \b\b| \b\b/ \b\b- \b\b\\ \b\b| \b\b/ \b\b- \b\b\\ \b\b| \b\b/ \b\b- \b\b\\ \b\b| \b\b/ \b\b- \b\b\\ \b\b| \b\b/ \b\b- \b\b\\ \b\b| \b\b/ \b\b- \b\b\\ \b\b| \b\b/ \b\b- \b\b\\ \b\b| \b\b/ \b\b- \b\b\\ \b\b| \b\b/ \b\b- \b\b\\ \b\b| \b\b/ \b\b- \b\b\\ \b\b| \b\b/ \b\b- \b\b\\ \b\b| \b\b/ \b\b- \b\b\\ \b\b| \b\b/ \b\b- \b\b\\ \b\b| \b\b/ \b\b- \b\b\\ \b\b| \b\b/ \b\b- \b\b\\ \b\b| \b\b/ \b\b- \b\b\\ \b\b| \b\b/ \b\b- \b\b\\ \b\b| \b\b/ \b\b- \b\b\\ \b\b| \b\b/ \b\b- \b\b\\ \b\b| \b\b/ \b\b- \b\b\\ \b\b| \b\b/ \b\b- \b\b\\ \b\b| \b\b/ \b\b- \b\b\\ \b\b| \b\b/ \b\b- \b\b\\ \b\b| \b\b/ \b\b- \b\b\\ \b\b| \b\b/ \b\b- \b\b\\ \b\b| \b\b/ \b\b- \b\b\\ \b\b| \b\b/ \b\b- \b\b\\ \b\b| \b\b/ \b\b- \b\b\\ \b\b| \b\b/ \b\b- \b\b\\ \b\b| \b\b/ \b\b- \b\b\\ \b\b| \b\b/ \b\b- \b\b\\ \b\b| \b\b/ \b\b- \b\b\\ \b\b| \b\b/ \b\b- \b\b\\ \b\b| \b\b/ \b\b- \b\b\\ \b\b| \b\b/ \b\b- \b\b\\ \b\b| \b\b/ \b\b- \b\b\\ \b\b| \b\b/ \b\b- \b\b\\ \b\b| \b\b/ \b\b- \b\b\\ \b\b| \b\b/ \b\b- \b\b\\ \b\b| \b\b/ \b\b- \b\b\\ \b\b| \b\b/ \b\b- \b\b\\ \b\b| \b\b/ \b\b- \b\b\\ \b\b| \b\b/ \b\b- \b\b\\ \b\b| \b\b/ \b\b- \b\b\\ \b\b| \b\b/ \b\b- \b\b\\ \b\b| \b\b/ \b\b- \b\b\\ \b\b| \b\b/ \b\b- \b\b\\ \b\b| \b\b/ \b\b- \b\b\\ \b\b| \b\b/ \b\b- \b\b\\ \b\b| \b\b/ \b\b- \b\b\\ \b\b| \b\b/ \b\b- \b\b\\ \b\b| \b\b/ \b\b- \b\b\\ \b\b| \b\b/ \b\b- \b\b\\ \b\b| \b\b/ \b\b- \b\b\\ \b\b| \b\b/ \b\b- \b\b\\ \b\b| \b\b/ \b\b- \b\b\\ \b\b| \b\b/ \b\b- \b\b\\ \b\b| \b\b/ \b\b- \b\b\\ \b\b| \b\b/ \b\b- \b\b\\ \b\b| \b\b/ \b\b- \b\b\\ \b\b| \b\b/ \b\b- \b\b\\ \b\b| \b\b/ \b\b- \b\b\\ \b\b| \b\b/ \b\b- \b\b\\ \b\b| \b\b/ \b\b- \b\b\\ \b\b| \b\b/ \b\b- \b\b\\ \b\b| \b\b/ \b\b- \b\b\\ \b\b| \b\b/ \b\b- \b\b\\ \b\b| \b\b/ \b\b- \b\b\\ \b\b| \b\b/ \b\b- \b\b\\ \b\b| \b\b/ \b\b- \b\b\\ \b\b| \b\b/ \b\b- \b\b\\ \b\b| \b\b/ \b\b- \b\b\\ \b\b| \b\b/ \b\b- \b\b\\ \b\b| \b\b/ \b\b- \b\b\\ \b\b| \b\b/ \b\b- \b\b\\ \b\b| \b\b/ \b\b- \b\b\\ \b\b| \b\b/ \b\b- \b\b\\ \b\b| \b\b/ \b\b- \b\b\\ \b\b| \b\b/ \b\b- \b\b\\ \b\b| \b\b/ \b\b- \b\b\\ \b\b| \b\b/ \b\b- \b\b\\ \b\b| \b\b/ \b\b- \b\b\\ \b\b| \b\b/ \b\b- \b\b\\ \b\b| \b\b/ \b\b- \b\b\\ \b\b| \b\b/ \b\b- \b\b\\ \b\b| \b\b/ \b\b- \b\b\\ \b\b| \b\b/ \b\b- \b\b\\ \b\b| \b\b/ \b\b- \b\b\\ \b\b| \b\b/ \b\b- \b\b\\ \b\b| \b\b/ \b\b- \b\b\\ \b\b| \b\b/ \b\b- \b\b\\ \b\b| \b\b/ \b\b- \b\b\\ \b\b| \b\b/ \b\b- \b\b\\ \b\b| \b\b/ \b\b- \b\b\\ \b\b| \b\b/ \b\b- \b\b\\ \b\b| \b\b/ \b\b- \b\b\\ \b\b| \b\b/ \b\b- \b\b\\ \b\b| \b\b/ \b\b- \b\b\\ \b\b| \b\b/ \b\b- \b\b\\ \b\b| \b\b/ \b\b- \b\b\\ \b\b| \b\b/ \b\b- \b\b\\ \b\b| \b\b/ \b\b- \b\b\\ \b\b| \b\b/ \b\b- \b\b\\ \b\b| \b\b/ \b\b- \b\b\\ \b\b| \b\b/ \b\b- \b\b\\ \b\b| \b\b/ \b\b- \b\b\\ \b\b| \b\b/ \b\b- \b\b\\ \b\b| \b\b/ \b\b- \b\b\\ \b\b| \b\b/ \b\b- \b\b\\ \b\b| \b\b/ \b\b- \b\b\\ \b\b| \b\b/ \b\b- \b\b\\ \b\b| \b\b/ \b\b- \b\b\\ \b\b| \b\b/ \b\b- \b\b\\ \b\b| \b\b/ \b\b- \b\b\\ \b\b| \b\b/ \b\b- \b\b\\ \b\b| \b\b/ \b\b- \b\b\\ \b\b| \b\b/ \b\b- \b\b\\ \b\b| \b\b/ \b\b- \b\b\\ \b\b| \b\b/ \b\b- \b\b\\ \b\b| \b\b/ \b\bdone\n",
            "Solving environment: \\ \b\b| \b\b/ \b\b- \b\b\\ \b\b| \b\b/ \b\b- \b\b\\ \b\b| \b\b/ \b\b- \b\b\\ \b\b| \b\b/ \b\b- \b\b\\ \b\b| \b\b/ \b\b- \b\b\\ \b\b| \b\b/ \b\b- \b\b\\ \b\b| \b\b/ \b\b- \b\b\\ \b\b| \b\b/ \b\b- \b\b\\ \b\b| \b\b/ \b\b- \b\b\\ \b\b| \b\b/ \b\b- \b\b\\ \b\b| \b\b/ \b\b- \b\b\\ \b\b| \b\b/ \b\b- \b\b\\ \b\b| \b\b/ \b\b- \b\b\\ \b\b| \b\b/ \b\b- \b\b\\ \b\b| \b\b/ \b\b- \b\b\\ \b\b| \b\b/ \b\b- \b\b\\ \b\b| \b\b/ \b\b- \b\b\\ \b\b| \b\b/ \b\b- \b\b\\ \b\b| \b\b/ \b\b- \b\b\\ \b\b| \b\b/ \b\b- \b\b\\ \b\b| \b\b/ \b\b- \b\b\\ \b\b| \b\b/ \b\b- \b\b\\ \b\b| \b\b/ \b\b- \b\b\\ \b\b| \b\b/ \b\b- \b\b\\ \b\b| \b\b/ \b\b- \b\b\\ \b\b| \b\b/ \b\b- \b\b\\ \b\b| \b\b/ \b\b- \b\b\\ \b\b| \b\b/ \b\b- \b\b\\ \b\b| \b\b/ \b\b- \b\b\\ \b\b| \b\b/ \b\b- \b\b\\ \b\b| \b\b/ \b\b- \b\b\\ \b\b| \b\b/ \b\b- \b\b\\ \b\b| \b\b/ \b\b- \b\b\\ \b\b| \b\b/ \b\b- \b\b\\ \b\b| \b\b/ \b\b- \b\b\\ \b\b| \b\b/ \b\b- \b\b\\ \b\b| \b\b/ \b\b- \b\b\\ \b\b| \b\b/ \b\b- \b\b\\ \b\b| \b\b/ \b\b- \b\b\\ \b\b| \b\b/ \b\b- \b\b\\ \b\b| \b\b/ \b\b- \b\b\\ \b\b| \b\b/ \b\b- \b\b\\ \b\b| \b\b/ \b\b- \b\b\\ \b\b| \b\b/ \b\b- \b\b\\ \b\b| \b\b/ \b\b- \b\b\\ \b\b| \b\b/ \b\b- \b\b\\ \b\b| \b\b/ \b\b- \b\b\\ \b\b| \b\b/ \b\b- \b\b\\ \b\b| \b\b/ \b\b- \b\b\\ \b\b| \b\b/ \b\b- \b\b\\ \b\b| \b\b/ \b\b- \b\b\\ \b\b| \b\b/ \b\b- \b\b\\ \b\b| \b\b/ \b\b- \b\b\\ \b\b| \b\b/ \b\b- \b\b\\ \b\b| \b\b/ \b\b- \b\b\\ \b\b| \b\b/ \b\b- \b\b\\ \b\b| \b\b/ \b\b- \b\b\\ \b\b| \b\b/ \b\b- \b\b\\ \b\b| \b\b/ \b\b- \b\b\\ \b\b| \b\b/ \b\b- \b\b\\ \b\b| \b\b/ \b\b- \b\b\\ \b\b| \b\b/ \b\b- \b\b\\ \b\b| \b\b/ \b\b- \b\b\\ \b\b| \b\b/ \b\b- \b\b\\ \b\b| \b\b/ \b\b- \b\b\\ \b\b| \b\b/ \b\b- \b\b\\ \b\b| \b\b/ \b\b- \b\b\\ \b\b| \b\b/ \b\b- \b\b\\ \b\b| \b\b/ \b\b- \b\b\\ \b\b| \b\b/ \b\b- \b\b\\ \b\b| \b\b/ \b\b- \b\b\\ \b\b| \b\b/ \b\b- \b\b\\ \b\b| \b\b/ \b\b- \b\b\\ \b\b| \b\b/ \b\b- \b\b\\ \b\b| \b\b/ \b\b- \b\b\\ \b\b| \b\b/ \b\b- \b\b\\ \b\b| \b\b/ \b\b- \b\b\\ \b\b| \b\b/ \b\b- \b\b\\ \b\b| \b\b/ \b\b- \b\b\\ \b\b| \b\b/ \b\b- \b\b\\ \b\b| \b\b/ \b\b- \b\b\\ \b\b| \b\b/ \b\b- \b\b\\ \b\b| \b\b/ \b\b- \b\b\\ \b\b| \b\b/ \b\b- \b\b\\ \b\b| \b\b/ \b\b- \b\b\\ \b\b| \b\b/ \b\b- \b\b\\ \b\b| \b\b/ \b\b- \b\b\\ \b\b| \b\b/ \b\b- \b\b\\ \b\b| \b\b/ \b\b- \b\b\\ \b\b| \b\bfailed with initial frozen solve. Retrying with flexible solve.\n",
            "Solving environment: - \b\b\\ \b\b| \b\b/ \b\b- \b\b\\ \b\b| \b\b/ \b\b- \b\b\\ \b\b| \b\b/ \b\b- \b\b\\ \b\b| \b\b/ \b\b- \b\b\\ \b\b| \b\b/ \b\b- \b\b\\ \b\b| \b\b/ \b\b- \b\b\\ \b\b| \b\b/ \b\b- \b\b\\ \b\b| \b\b/ \b\b- \b\b\\ \b\b| \b\b/ \b\b- \b\b\\ \b\b| \b\b/ \b\b- \b\b\\ \b\b| \b\b/ \b\b- \b\b\\ \b\b| \b\b/ \b\b- \b\b\\ \b\b| \b\b/ \b\b- \b\b\\ \b\b| \b\b/ \b\b- \b\b\\ \b\b| \b\b/ \b\b- \b\b\\ \b\b| \b\b/ \b\b- \b\b\\ \b\b| \b\b/ \b\b- \b\b\\ \b\b| \b\b/ \b\b- \b\b\\ \b\b| \b\b/ \b\b- \b\b\\ \b\b| \b\b/ \b\b- \b\b\\ \b\b| \b\b/ \b\b- \b\b\\ \b\b| \b\b/ \b\b- \b\b\\ \b\b| \b\b/ \b\b- \b\b\\ \b\b| \b\b/ \b\b- \b\b\\ \b\b| \b\b/ \b\b- \b\b\\ \b\b| \b\b/ \b\b- \b\b\\ \b\b| \b\b/ \b\b- \b\b\\ \b\b| \b\b/ \b\b- \b\b\\ \b\b| \b\b/ \b\b- \b\b\\ \b\b| \b\b/ \b\b- \b\b\\ \b\b| \b\b/ \b\b- \b\b\\ \b\b| \b\b/ \b\b- \b\b\\ \b\b| \b\b/ \b\b- \b\b\\ \b\b| \b\b/ \b\b- \b\b\\ \b\b| \b\b/ \b\b- \b\b\\ \b\b| \b\b/ \b\b- \b\b\\ \b\b| \b\b/ \b\b- \b\b\\ \b\b| \b\b/ \b\b- \b\b\\ \b\b| \b\b/ \b\b- \b\b\\ \b\b| \b\b/ \b\b- \b\b\\ \b\b| \b\b/ \b\b- \b\b\\ \b\b| \b\b/ \b\b- \b\b\\ \b\b| \b\b/ \b\b- \b\b\\ \b\b| \b\b/ \b\b- \b\b\\ \b\b| \b\b/ \b\b- \b\b\\ \b\b| \b\b/ \b\b- \b\b\\ \b\b| \b\b/ \b\b- \b\b\\ \b\b| \b\b/ \b\b- \b\b\\ \b\b| \b\b/ \b\b- \b\b\\ \b\b| \b\b/ \b\b- \b\b\\ \b\b| \b\b/ \b\b- \b\b\\ \b\b| \b\b/ \b\b- \b\b\\ \b\b| \b\b/ \b\b- \b\b\\ \b\b| \b\b/ \b\b- \b\b\\ \b\b| \b\b/ \b\b- \b\b\\ \b\b| \b\b/ \b\b- \b\b\\ \b\b| \b\b/ \b\b- \b\b\\ \b\b| \b\b/ \b\b- \b\b\\ \b\b| \b\b/ \b\b- \b\b\\ \b\b| \b\b/ \b\b- \b\b\\ \b\b| \b\b/ \b\b- \b\b\\ \b\b| \b\b/ \b\b- \b\b\\ \b\b| \b\b/ \b\b- \b\b\\ \b\b| \b\b/ \b\b- \b\b\\ \b\b| \b\b/ \b\b- \b\b\\ \b\b| \b\b/ \b\b- \b\b\\ \b\b| \b\b/ \b\b- \b\b\\ \b\b| \b\b/ \b\b- \b\b\\ \b\b| \b\b/ \b\b- \b\b\\ \b\b| \b\b/ \b\b- \b\b\\ \b\b| \b\b/ \b\b- \b\b\\ \b\b| \b\b/ \b\b- \b\b\\ \b\b| \b\b/ \b\b- \b\b\\ \b\b| \b\b/ \b\b- \b\b\\ \b\b| \b\b/ \b\b- \b\b\\ \b\b| \b\b/ \b\b- \b\b\\ \b\b| \b\b/ \b\b- \b\b\\ \b\b| \b\b/ \b\b- \b\b\\ \b\b| \b\b/ \b\b- \b\b\\ \b\b| \b\b/ \b\b- \b\b\\ \b\b| \b\b/ \b\b- \b\b\\ \b\b| \b\b/ \b\b- \b\b\\ \b\b| \b\b/ \b\b- \b\bdone\n",
            "\n",
            "\n",
            "==> WARNING: A newer version of conda exists. <==\n",
            "  current version: 4.14.0\n",
            "  latest version: 22.9.0\n",
            "\n",
            "Please update conda by running\n",
            "\n",
            "    $ conda update -n base -c conda-forge conda\n",
            "\n",
            "\n",
            "\n",
            "## Package Plan ##\n",
            "\n",
            "  environment location: /usr/local\n",
            "\n",
            "  added / updated specs:\n",
            "    - tensorflow-gpu\n",
            "\n",
            "\n",
            "The following packages will be downloaded:\n",
            "\n",
            "    package                    |            build\n",
            "    ---------------------------|-----------------\n",
            "    aiohttp-3.8.3              |   py38h0a891b7_1         442 KB  conda-forge\n",
            "    brotlipy-0.7.0             |py38h0a891b7_1005         342 KB  conda-forge\n",
            "    cffi-1.15.1                |   py38h4a40e3a_2         229 KB  conda-forge\n",
            "    click-8.1.3                |unix_pyhd8ed1ab_2          74 KB  conda-forge\n",
            "    conda-4.14.0               |   py38h578d9bd_0        1012 KB  conda-forge\n",
            "    conda-package-handling-2.0.2|     pyh38be061_0         247 KB  conda-forge\n",
            "    conda-package-streaming-0.7.0|     pyhd8ed1ab_1          17 KB  conda-forge\n",
            "    cryptography-38.0.4        |   py38h2b5fc30_0         1.3 MB  conda-forge\n",
            "    cudatoolkit-11.2.2         |      hbe64b41_11       560.3 MB  conda-forge\n",
            "    frozenlist-1.3.3           |   py38h0a891b7_0          45 KB  conda-forge\n",
            "    grpc-cpp-1.47.1            |       h05bd8bd_7         5.2 MB  conda-forge\n",
            "    grpcio-1.47.1              |   py38h7dc2bf5_7         826 KB  conda-forge\n",
            "    h5py-3.7.0                 |nompi_py38h7927eab_102         1.3 MB  conda-forge\n",
            "    importlib-metadata-5.1.0   |     pyha770c72_0          23 KB  conda-forge\n",
            "    libmambapy-0.25.0          |   py38h923e62a_2         290 KB  conda-forge\n",
            "    libprotobuf-3.21.10        |       h6239696_0         2.1 MB  conda-forge\n",
            "    libuuid-2.32.1             |    h7f98852_1000          28 KB  conda-forge\n",
            "    mamba-0.25.0               |   py38h1abaa86_2          46 KB  conda-forge\n",
            "    markupsafe-2.1.1           |   py38h0a891b7_2          22 KB  conda-forge\n",
            "    multidict-6.0.2            |   py38h0a891b7_2          52 KB  conda-forge\n",
            "    numpy-1.23.5               |   py38h7042d01_0         5.6 MB  conda-forge\n",
            "    protobuf-4.21.10           |   py38hfa26641_0         305 KB  conda-forge\n",
            "    pycosat-0.6.4              |   py38h0a891b7_1         108 KB  conda-forge\n",
            "    pysocks-1.7.1              |     pyha2e5f31_6          19 KB  conda-forge\n",
            "    python-3.8.15              |h257c98d_0_cpython        19.9 MB  conda-forge\n",
            "    python_abi-3.8             |           3_cp38           6 KB  conda-forge\n",
            "    ruamel_yaml-0.15.80        |py38h0a891b7_1008         258 KB  conda-forge\n",
            "    scipy-1.9.3                |   py38h8ce737c_2        26.3 MB  conda-forge\n",
            "    tensorboard-data-server-0.6.1|   py38h2b5fc30_4         3.6 MB  conda-forge\n",
            "    tensorflow-2.10.0          |cuda112py38hded6998_0          29 KB  conda-forge\n",
            "    tensorflow-base-2.10.0     |cuda112py38h6b2b66c_0       400.3 MB  conda-forge\n",
            "    tensorflow-estimator-2.10.0|cuda112py38hf5dcc89_0         622 KB  conda-forge\n",
            "    tensorflow-gpu-2.10.0      |cuda112py38h0bbbad9_0          28 KB  conda-forge\n",
            "    wrapt-1.14.1               |   py38h0a891b7_1          51 KB  conda-forge\n",
            "    yarl-1.8.1                 |   py38h0a891b7_0          91 KB  conda-forge\n",
            "    zstandard-0.19.0           |   py38h5945529_1         374 KB  conda-forge\n",
            "    ------------------------------------------------------------\n",
            "                                           Total:        1.01 GB\n",
            "\n",
            "The following NEW packages will be INSTALLED:\n",
            "\n",
            "  absl-py            conda-forge/noarch::absl-py-1.3.0-pyhd8ed1ab_0\n",
            "  aiohttp            conda-forge/linux-64::aiohttp-3.8.3-py38h0a891b7_1\n",
            "  aiosignal          conda-forge/noarch::aiosignal-1.3.1-pyhd8ed1ab_0\n",
            "  astunparse         conda-forge/noarch::astunparse-1.6.3-pyhd8ed1ab_0\n",
            "  async-timeout      conda-forge/noarch::async-timeout-4.0.2-pyhd8ed1ab_0\n",
            "  attrs              conda-forge/noarch::attrs-22.1.0-pyh71513ae_1\n",
            "  blinker            conda-forge/noarch::blinker-1.5-pyhd8ed1ab_0\n",
            "  cached-property    conda-forge/noarch::cached-property-1.5.2-hd8ed1ab_1\n",
            "  cached_property    conda-forge/noarch::cached_property-1.5.2-pyha770c72_1\n",
            "  cachetools         conda-forge/noarch::cachetools-5.2.0-pyhd8ed1ab_0\n",
            "  click              conda-forge/noarch::click-8.1.3-unix_pyhd8ed1ab_2\n",
            "  conda-package-str~ conda-forge/noarch::conda-package-streaming-0.7.0-pyhd8ed1ab_1\n",
            "  cudatoolkit        conda-forge/linux-64::cudatoolkit-11.2.2-hbe64b41_11\n",
            "  cudnn              conda-forge/linux-64::cudnn-8.4.1.50-hed8a83a_0\n",
            "  flatbuffers        conda-forge/linux-64::flatbuffers-2.0.7-h27087fc_0\n",
            "  frozenlist         conda-forge/linux-64::frozenlist-1.3.3-py38h0a891b7_0\n",
            "  gast               conda-forge/noarch::gast-0.4.0-pyh9f0ad1d_0\n",
            "  giflib             conda-forge/linux-64::giflib-5.2.1-h36c2ea0_2\n",
            "  google-auth        conda-forge/noarch::google-auth-2.15.0-pyh1a96a4e_0\n",
            "  google-auth-oauth~ conda-forge/noarch::google-auth-oauthlib-0.4.6-pyhd8ed1ab_0\n",
            "  google-pasta       conda-forge/noarch::google-pasta-0.2.0-pyh8c360ce_0\n",
            "  grpc-cpp           conda-forge/linux-64::grpc-cpp-1.47.1-h05bd8bd_7\n",
            "  grpcio             conda-forge/linux-64::grpcio-1.47.1-py38h7dc2bf5_7\n",
            "  h5py               conda-forge/linux-64::h5py-3.7.0-nompi_py38h7927eab_102\n",
            "  hdf5               conda-forge/linux-64::hdf5-1.12.2-nompi_h2386368_100\n",
            "  importlib-metadata conda-forge/noarch::importlib-metadata-5.1.0-pyha770c72_0\n",
            "  jpeg               conda-forge/linux-64::jpeg-9e-h166bdaf_2\n",
            "  keras              conda-forge/noarch::keras-2.10.0-pyhd8ed1ab_0\n",
            "  keras-preprocessi~ conda-forge/noarch::keras-preprocessing-1.1.2-pyhd8ed1ab_0\n",
            "  libabseil          conda-forge/linux-64::libabseil-20220623.0-cxx17_h48a1fff_5\n",
            "  libblas            conda-forge/linux-64::libblas-3.9.0-16_linux64_openblas\n",
            "  libcblas           conda-forge/linux-64::libcblas-3.9.0-16_linux64_openblas\n",
            "  libgfortran-ng     conda-forge/linux-64::libgfortran-ng-12.2.0-h69a702a_19\n",
            "  libgfortran5       conda-forge/linux-64::libgfortran5-12.2.0-h337968e_19\n",
            "  liblapack          conda-forge/linux-64::liblapack-3.9.0-16_linux64_openblas\n",
            "  libopenblas        conda-forge/linux-64::libopenblas-0.3.21-pthreads_h78a6416_3\n",
            "  libpng             conda-forge/linux-64::libpng-1.6.39-h753d276_0\n",
            "  libprotobuf        conda-forge/linux-64::libprotobuf-3.21.10-h6239696_0\n",
            "  libuuid            conda-forge/linux-64::libuuid-2.32.1-h7f98852_1000\n",
            "  markdown           conda-forge/noarch::markdown-3.4.1-pyhd8ed1ab_0\n",
            "  markupsafe         conda-forge/linux-64::markupsafe-2.1.1-py38h0a891b7_2\n",
            "  multidict          conda-forge/linux-64::multidict-6.0.2-py38h0a891b7_2\n",
            "  nccl               conda-forge/linux-64::nccl-2.14.3.1-h0800d71_0\n",
            "  numpy              conda-forge/linux-64::numpy-1.23.5-py38h7042d01_0\n",
            "  oauthlib           conda-forge/noarch::oauthlib-3.2.2-pyhd8ed1ab_0\n",
            "  opt_einsum         conda-forge/noarch::opt_einsum-3.3.0-pyhd8ed1ab_1\n",
            "  packaging          conda-forge/noarch::packaging-21.3-pyhd8ed1ab_0\n",
            "  protobuf           conda-forge/linux-64::protobuf-4.21.10-py38hfa26641_0\n",
            "  pyasn1             conda-forge/noarch::pyasn1-0.4.8-py_0\n",
            "  pyasn1-modules     conda-forge/noarch::pyasn1-modules-0.2.7-py_0\n",
            "  pyjwt              conda-forge/noarch::pyjwt-2.6.0-pyhd8ed1ab_0\n",
            "  pyparsing          conda-forge/noarch::pyparsing-3.0.9-pyhd8ed1ab_0\n",
            "  python-flatbuffers conda-forge/noarch::python-flatbuffers-2.0-pyhd8ed1ab_0\n",
            "  pyu2f              conda-forge/noarch::pyu2f-0.1.5-pyhd8ed1ab_0\n",
            "  re2                conda-forge/linux-64::re2-2022.06.01-h27087fc_1\n",
            "  requests-oauthlib  conda-forge/noarch::requests-oauthlib-1.3.1-pyhd8ed1ab_0\n",
            "  rsa                conda-forge/noarch::rsa-4.9-pyhd8ed1ab_0\n",
            "  scipy              conda-forge/linux-64::scipy-1.9.3-py38h8ce737c_2\n",
            "  snappy             conda-forge/linux-64::snappy-1.1.9-hbd366e4_2\n",
            "  tensorboard        conda-forge/noarch::tensorboard-2.10.1-pyhd8ed1ab_0\n",
            "  tensorboard-data-~ conda-forge/linux-64::tensorboard-data-server-0.6.1-py38h2b5fc30_4\n",
            "  tensorboard-plugi~ conda-forge/noarch::tensorboard-plugin-wit-1.8.1-pyhd8ed1ab_0\n",
            "  tensorflow         conda-forge/linux-64::tensorflow-2.10.0-cuda112py38hded6998_0\n",
            "  tensorflow-base    conda-forge/linux-64::tensorflow-base-2.10.0-cuda112py38h6b2b66c_0\n",
            "  tensorflow-estima~ conda-forge/linux-64::tensorflow-estimator-2.10.0-cuda112py38hf5dcc89_0\n",
            "  tensorflow-gpu     conda-forge/linux-64::tensorflow-gpu-2.10.0-cuda112py38h0bbbad9_0\n",
            "  termcolor          conda-forge/noarch::termcolor-2.1.1-pyhd8ed1ab_0\n",
            "  typing-extensions  conda-forge/noarch::typing-extensions-4.4.0-hd8ed1ab_0\n",
            "  typing_extensions  conda-forge/noarch::typing_extensions-4.4.0-pyha770c72_0\n",
            "  werkzeug           conda-forge/noarch::werkzeug-2.2.2-pyhd8ed1ab_0\n",
            "  wrapt              conda-forge/linux-64::wrapt-1.14.1-py38h0a891b7_1\n",
            "  yarl               conda-forge/linux-64::yarl-1.8.1-py38h0a891b7_0\n",
            "  zipp               conda-forge/noarch::zipp-3.11.0-pyhd8ed1ab_0\n",
            "  zlib               conda-forge/linux-64::zlib-1.2.13-h166bdaf_4\n",
            "  zstandard          conda-forge/linux-64::zstandard-0.19.0-py38h5945529_1\n",
            "\n",
            "The following packages will be UPDATED:\n",
            "\n",
            "  brotlipy                          0.7.0-py37h540881e_1004 --> 0.7.0-py38h0a891b7_1005\n",
            "  ca-certificates                      2022.6.15-ha878542_0 --> 2022.9.24-ha878542_0\n",
            "  certifi            conda-forge/linux-64::certifi-2022.6.~ --> conda-forge/noarch::certifi-2022.9.24-pyhd8ed1ab_0\n",
            "  cffi                                1.15.1-py37h43b0acd_0 --> 1.15.1-py38h4a40e3a_2\n",
            "  conda-package-han~ conda-forge/linux-64::conda-package-h~ --> conda-forge/noarch::conda-package-handling-2.0.2-pyh38be061_0\n",
            "  cryptography                        37.0.4-py37h38fbfac_0 --> 38.0.4-py38h2b5fc30_0\n",
            "  libsqlite                               3.39.2-h753d276_1 --> 3.40.0-h753d276_0\n",
            "  libzlib                                 1.2.12-h166bdaf_2 --> 1.2.13-h166bdaf_4\n",
            "  openssl                                 1.1.1q-h166bdaf_0 --> 1.1.1s-h0b41bf4_1\n",
            "  pycosat                           0.6.3-py37h540881e_1010 --> 0.6.4-py38h0a891b7_1\n",
            "  pysocks            conda-forge/linux-64::pysocks-1.7.1-p~ --> conda-forge/noarch::pysocks-1.7.1-pyha2e5f31_6\n",
            "  python                        3.7.12-hb7a2778_100_cpython --> 3.8.15-h257c98d_0_cpython\n",
            "  python_abi                                    3.7-2_cp37m --> 3.8-3_cp38\n",
            "  ruamel_yaml                     0.15.80-py37h540881e_1007 --> 0.15.80-py38h0a891b7_1008\n",
            "  setuptools         conda-forge/linux-64::setuptools-65.3~ --> conda-forge/noarch::setuptools-65.5.1-pyhd8ed1ab_0\n",
            "  sqlite                                  3.39.2-h4ff8645_1 --> 3.40.0-h4ff8645_0\n",
            "\n",
            "The following packages will be DOWNGRADED:\n",
            "\n",
            "  conda                               4.14.0-py37h89c1867_0 --> 4.14.0-py38h578d9bd_0\n",
            "  libmambapy                          0.25.0-py37h1ee4b26_2 --> 0.25.0-py38h923e62a_2\n",
            "  mamba                               0.25.0-py37h6dacc13_2 --> 0.25.0-py38h1abaa86_2\n",
            "\n",
            "\n",
            "\n",
            "Downloading and Extracting Packages\n",
            "tensorflow-base-2.10 | 400.3 MB  | : 100% 1.0/1 [01:00<00:00, 60.97s/it]               \n",
            "pycosat-0.6.4        | 108 KB    | : 100% 1.0/1 [00:00<00:00, 10.80it/s]\n",
            "mamba-0.25.0         | 46 KB     | : 100% 1.0/1 [00:00<00:00, 18.75it/s]\n",
            "zstandard-0.19.0     | 374 KB    | : 100% 1.0/1 [00:00<00:00,  3.42it/s]               \n",
            "conda-4.14.0         | 1012 KB   | : 100% 1.0/1 [00:00<00:00,  4.46it/s]\n",
            "tensorflow-estimator | 622 KB    | : 100% 1.0/1 [00:01<00:00,  1.07s/it]\n",
            "h5py-3.7.0           | 1.3 MB    | : 100% 1.0/1 [00:00<00:00,  3.92it/s]\n",
            "grpcio-1.47.1        | 826 KB    | : 100% 1.0/1 [00:02<00:00,  2.13s/it]\n",
            "grpc-cpp-1.47.1      | 5.2 MB    | : 100% 1.0/1 [00:01<00:00,  1.97s/it]               \n",
            "libuuid-2.32.1       | 28 KB     | : 100% 1.0/1 [00:00<00:00, 32.48it/s]\n",
            "pysocks-1.7.1        | 19 KB     | : 100% 1.0/1 [00:00<00:00, 32.15it/s]\n",
            "libmambapy-0.25.0    | 290 KB    | : 100% 1.0/1 [00:00<00:00, 10.93it/s]\n",
            "yarl-1.8.1           | 91 KB     | : 100% 1.0/1 [00:00<00:00, 21.02it/s]\n",
            "protobuf-4.21.10     | 305 KB    | : 100% 1.0/1 [00:00<00:00,  4.70it/s]\n",
            "numpy-1.23.5         | 5.6 MB    | : 100% 1.0/1 [00:00<00:00,  1.90it/s]               \n",
            "conda-package-stream | 17 KB     | : 100% 1.0/1 [00:00<00:00,  5.30it/s]\n",
            "cffi-1.15.1          | 229 KB    | : 100% 1.0/1 [00:00<00:00, 12.43it/s]\n",
            "python-3.8.15        | 19.9 MB   | : 100% 1.0/1 [00:00<00:00,  1.15it/s]               \n",
            "tensorboard-data-ser | 3.6 MB    | : 100% 1.0/1 [00:00<00:00,  3.06it/s]\n",
            "libprotobuf-3.21.10  | 2.1 MB    | : 100% 1.0/1 [00:00<00:00,  3.30it/s]\n",
            "cudatoolkit-11.2.2   | 560.3 MB  | : 100% 1.0/1 [00:19<00:00, 19.47s/it]              \n",
            "ruamel_yaml-0.15.80  | 258 KB    | : 100% 1.0/1 [00:00<00:00,  8.88it/s]\n",
            "cryptography-38.0.4  | 1.3 MB    | : 100% 1.0/1 [00:00<00:00,  5.02it/s]\n",
            "aiohttp-3.8.3        | 442 KB    | : 100% 1.0/1 [00:00<00:00,  8.14it/s]\n",
            "frozenlist-1.3.3     | 45 KB     | : 100% 1.0/1 [00:00<00:00, 28.84it/s]\n",
            "tensorflow-2.10.0    | 29 KB     | : 100% 1.0/1 [00:00<00:00,  3.16it/s]               \n",
            "click-8.1.3          | 74 KB     | : 100% 1.0/1 [00:00<00:00, 18.01it/s]\n",
            "python_abi-3.8       | 6 KB      | : 100% 1.0/1 [00:00<00:00,  8.58it/s]\n",
            "multidict-6.0.2      | 52 KB     | : 100% 1.0/1 [00:00<00:00, 20.78it/s]\n",
            "wrapt-1.14.1         | 51 KB     | : 100% 1.0/1 [00:00<00:00, 24.05it/s]\n",
            "tensorflow-gpu-2.10. | 28 KB     | : 100% 1.0/1 [00:00<00:00,  3.24it/s]               \n",
            "importlib-metadata-5 | 23 KB     | : 100% 1.0/1 [00:00<00:00,  7.99it/s]\n",
            "conda-package-handli | 247 KB    | : 100% 1.0/1 [00:00<00:00,  7.40it/s]\n",
            "markupsafe-2.1.1     | 22 KB     | : 100% 1.0/1 [00:00<00:00, 26.56it/s]\n",
            "scipy-1.9.3          | 26.3 MB   | : 100% 1.0/1 [00:03<00:00,  3.84s/it]               \n",
            "brotlipy-0.7.0       | 342 KB    | : 100% 1.0/1 [00:00<00:00,  9.85it/s]\n",
            "Preparing transaction: | \b\b/ \b\b- \b\b\\ \b\b| \b\b/ \b\b- \b\b\\ \b\b| \b\b/ \b\b- \b\bdone\n",
            "Verifying transaction: | \b\b/ \b\b- \b\b\\ \b\b| \b\b/ \b\b- \b\b\\ \b\b| \b\b/ \b\b- \b\b\\ \b\b| \b\b/ \b\b- \b\b\\ \b\b| \b\b/ \b\b- \b\b\\ \b\b| \b\b/ \b\b- \b\b\\ \b\b| \b\b/ \b\b- \b\b\\ \b\b| \b\b/ \b\b- \b\b\\ \b\b| \b\b/ \b\b- \b\b\\ \b\b| \b\b/ \b\b- \b\b\\ \b\b| \b\b/ \b\b- \b\b\\ \b\b| \b\b/ \b\b- \b\b\\ \b\b| \b\b/ \b\b- \b\b\\ \b\b| \b\b/ \b\b- \b\b\\ \b\b| \b\b/ \b\b- \b\b\\ \b\b| \b\b/ \b\b- \b\b\\ \b\b| \b\b/ \b\b- \b\b\\ \b\b| \b\b/ \b\b- \b\b\\ \b\b| \b\b/ \b\b- \b\b\\ \b\b| \b\b/ \b\b- \b\b\\ \b\b| \b\b/ \b\b- \b\b\\ \b\b| \b\b/ \b\b- \b\b\\ \b\b| \b\b/ \b\b- \b\b\\ \b\b| \b\b/ \b\b- \b\b\\ \b\b| \b\b/ \b\b- \b\b\\ \b\b| \b\b/ \b\b- \b\b\\ \b\b| \b\b/ \b\b- \b\b\\ \b\b| \b\b/ \b\b- \b\b\\ \b\b| \b\b/ \b\b- \b\b\\ \b\b| \b\b/ \b\b- \b\b\\ \b\b| \b\b/ \b\b- \b\b\\ \b\b| \b\b/ \b\b- \b\b\\ \b\b| \b\bdone\n",
            "Executing transaction: - \b\b\\ \b\b| \b\b/ \b\b- \b\b\\ \b\b| \b\b/ \b\b- \b\b\\ \b\b| \b\b/ \b\b- \b\b\\ \b\b| \b\b/ \b\b- \b\b\\ \b\b| \b\b/ \b\b- \b\b\\ \b\b| \b\b/ \b\b- \b\b\\ \b\b| \b\b/ \b\b- \b\b\\ \b\b| \b\b/ \b\b- \b\b\\ By downloading and using the CUDA Toolkit conda packages, you accept the terms and conditions of the CUDA End User License Agreement (EULA): https://docs.nvidia.com/cuda/eula/index.html\n",
            "\n",
            "\b\b| \b\b/ \b\b- \b\b\\ \b\b| \b\b/ \b\b- \b\b\\ \b\b| \b\b/ By downloading and using the cuDNN conda packages, you accept the terms and conditions of the NVIDIA cuDNN EULA -\n",
            "  https://docs.nvidia.com/deeplearning/cudnn/sla/index.html\n",
            "\n",
            "\b\b- \b\b\\ \b\b| \b\b/ \b\b- \b\b\\ \b\b| \b\b/ \b\b- \b\b\\ \b\b| \b\b/ \b\b- \b\b\\ \b\b| \b\b/ \b\b- \b\b\\ \b\b| \b\b/ \b\b- \b\b\\ \b\b| \b\b/ \b\b- \b\b\\ \b\b| \b\b/ \b\b- \b\b\\ \b\b| \b\b/ \b\b- \b\b\\ \b\b| \b\b/ \b\b- \b\b\\ \b\b| \b\b/ \b\b- \b\b\\ \b\b| \b\b/ \b\b- \b\b\\ \b\b| \b\b/ \b\b- \b\b\\ \b\bdone\n",
            "Retrieving notices: ...working... failed\n",
            "Traceback (most recent call last):\n",
            "  File \"/usr/local/lib/python3.7/site-packages/conda/exceptions.py\", line 1125, in __call__\n",
            "  File \"/usr/local/lib/python3.7/site-packages/conda/cli/main.py\", line 86, in main_subshell\n",
            "  File \"/usr/local/lib/python3.7/site-packages/conda/cli/conda_argparse.py\", line 93, in do_call\n",
            "  File \"/usr/local/lib/python3.7/site-packages/conda/notices/core.py\", line 78, in wrapper\n",
            "  File \"/usr/local/lib/python3.7/site-packages/conda/notices/core.py\", line 39, in display_notices\n",
            "  File \"/usr/local/lib/python3.7/site-packages/conda/notices/http.py\", line 42, in get_notice_responses\n",
            "  File \"/usr/local/lib/python3.7/site-packages/conda/notices/http.py\", line 40, in <genexpr>\n",
            "  File \"/usr/local/lib/python3.7/concurrent/futures/_base.py\", line 598, in result_iterator\n",
            "  File \"/usr/local/lib/python3.7/concurrent/futures/_base.py\", line 435, in result\n",
            "  File \"/usr/local/lib/python3.7/concurrent/futures/_base.py\", line 384, in __get_result\n",
            "  File \"/usr/local/lib/python3.7/concurrent/futures/thread.py\", line 57, in run\n",
            "  File \"/usr/local/lib/python3.7/site-packages/conda/notices/http.py\", line 42, in <lambda>\n",
            "  File \"/usr/local/lib/python3.7/site-packages/conda/notices/cache.py\", line 37, in wrapper\n",
            "  File \"/usr/local/lib/python3.7/site-packages/conda/notices/http.py\", line 58, in get_channel_notice_response\n",
            "  File \"/usr/local/lib/python3.7/site-packages/requests/sessions.py\", line 600, in get\n",
            "  File \"/usr/local/lib/python3.7/site-packages/requests/sessions.py\", line 587, in request\n",
            "  File \"/usr/local/lib/python3.7/site-packages/requests/sessions.py\", line 701, in send\n",
            "  File \"/usr/local/lib/python3.7/site-packages/requests/adapters.py\", line 460, in send\n",
            "  File \"/usr/local/lib/python3.7/site-packages/requests/adapters.py\", line 264, in cert_verify\n",
            "OSError: Could not find a suitable TLS CA certificate bundle, invalid path: /usr/local/lib/python3.7/site-packages/certifi/cacert.pem\n",
            "\n",
            "During handling of the above exception, another exception occurred:\n",
            "\n",
            "Traceback (most recent call last):\n",
            "  File \"/usr/local/bin/conda\", line 13, in <module>\n",
            "    sys.exit(main())\n",
            "  File \"/usr/local/lib/python3.7/site-packages/conda/cli/main.py\", line 129, in main\n",
            "  File \"/usr/local/lib/python3.7/site-packages/conda/exceptions.py\", line 1413, in conda_exception_handler\n",
            "  File \"/usr/local/lib/python3.7/site-packages/conda/exceptions.py\", line 1128, in __call__\n",
            "  File \"/usr/local/lib/python3.7/site-packages/conda/exceptions.py\", line 1170, in handle_exception\n",
            "  File \"/usr/local/lib/python3.7/site-packages/conda/exceptions.py\", line 1181, in handle_unexpected_exception\n",
            "  File \"/usr/local/lib/python3.7/site-packages/conda/exceptions.py\", line 1251, in print_unexpected_error_report\n",
            "ModuleNotFoundError: No module named 'conda.cli.main_info'\n"
          ]
        }
      ]
    },
    {
      "cell_type": "code",
      "source": [
        "tf.compat.v1.disable_eager_execution()"
      ],
      "metadata": {
        "id": "Emc49l5-Xg-o"
      },
      "execution_count": 7,
      "outputs": []
    },
    {
      "cell_type": "code",
      "execution_count": 4,
      "metadata": {
        "colab": {
          "base_uri": "https://localhost:8080/"
        },
        "id": "ps8k4eMo5Cgi",
        "outputId": "a82420c2-7ed3-40c4-e3af-6696d8ad9fb0"
      },
      "outputs": [
        {
          "output_type": "stream",
          "name": "stdout",
          "text": [
            "Using TensorFlow backend.\n",
            "/usr/local/lib/python3.7/site-packages/tensorflow/python/framework/dtypes.py:526: FutureWarning: Passing (type, 1) or '1type' as a synonym of type is deprecated; in a future version of numpy, it will be understood as (type, (1,)) / '(1,)type'.\n",
            "  _np_qint8 = np.dtype([(\"qint8\", np.int8, 1)])\n",
            "/usr/local/lib/python3.7/site-packages/tensorflow/python/framework/dtypes.py:527: FutureWarning: Passing (type, 1) or '1type' as a synonym of type is deprecated; in a future version of numpy, it will be understood as (type, (1,)) / '(1,)type'.\n",
            "  _np_quint8 = np.dtype([(\"quint8\", np.uint8, 1)])\n",
            "/usr/local/lib/python3.7/site-packages/tensorflow/python/framework/dtypes.py:528: FutureWarning: Passing (type, 1) or '1type' as a synonym of type is deprecated; in a future version of numpy, it will be understood as (type, (1,)) / '(1,)type'.\n",
            "  _np_qint16 = np.dtype([(\"qint16\", np.int16, 1)])\n",
            "/usr/local/lib/python3.7/site-packages/tensorflow/python/framework/dtypes.py:529: FutureWarning: Passing (type, 1) or '1type' as a synonym of type is deprecated; in a future version of numpy, it will be understood as (type, (1,)) / '(1,)type'.\n",
            "  _np_quint16 = np.dtype([(\"quint16\", np.uint16, 1)])\n",
            "/usr/local/lib/python3.7/site-packages/tensorflow/python/framework/dtypes.py:530: FutureWarning: Passing (type, 1) or '1type' as a synonym of type is deprecated; in a future version of numpy, it will be understood as (type, (1,)) / '(1,)type'.\n",
            "  _np_qint32 = np.dtype([(\"qint32\", np.int32, 1)])\n",
            "/usr/local/lib/python3.7/site-packages/tensorflow/python/framework/dtypes.py:535: FutureWarning: Passing (type, 1) or '1type' as a synonym of type is deprecated; in a future version of numpy, it will be understood as (type, (1,)) / '(1,)type'.\n",
            "  np_resource = np.dtype([(\"resource\", np.ubyte, 1)])\n",
            "Namespace(alpha=0.0, aug=4, b=8, beta=0.0, d=0.1, dlr=15, e=100, es=20, eval_test=1, f=416, folder='/content/aug_dataset/', index=1, l=64, o='./result/best__vgg0//', op=3, r=0.0002, save=1, sig='e100_b8_z125_r0.0002_op3_dlr15__v0.55_f416_d0.1__aug4_alpha0.0_beta0.0__tfvg_l64__es20_index1', tf='vg', v=0.55, verbose=1, z=125)\n",
            "start training and validating ...\n",
            "****************************\n",
            "****************************\n",
            "****************************\n",
            "Traceback (most recent call last):\n",
            "  File \"run_cl3_ratio_v4_0.py\", line 937, in <module>\n",
            "    run(args)\n",
            "  File \"run_cl3_ratio_v4_0.py\", line 871, in run\n",
            "    losses = train_val_test(args)\n",
            "  File \"run_cl3_ratio_v4_0.py\", line 681, in train_val_test\n",
            "    model = build_model(input_shape, args)\n",
            "  File \"run_cl3_ratio_v4_0.py\", line 604, in build_model\n",
            "    input_tensor = Input(shape=input_shape)\n",
            "  File \"/usr/local/lib/python3.7/site-packages/keras/engine/input_layer.py\", line 178, in Input\n",
            "    input_tensor=tensor)\n",
            "  File \"/usr/local/lib/python3.7/site-packages/keras/legacy/interfaces.py\", line 91, in wrapper\n",
            "    return func(*args, **kwargs)\n",
            "  File \"/usr/local/lib/python3.7/site-packages/keras/engine/input_layer.py\", line 87, in __init__\n",
            "    name=self.name)\n",
            "  File \"/usr/local/lib/python3.7/site-packages/keras/backend/tensorflow_backend.py\", line 517, in placeholder\n",
            "    x = tf.placeholder(dtype, shape=shape, name=name)\n",
            "  File \"/usr/local/lib/python3.7/site-packages/tensorflow/python/ops/array_ops.py\", line 2074, in placeholder\n",
            "    raise RuntimeError(\"tf.placeholder() is not compatible with \"\n",
            "RuntimeError: tf.placeholder() is not compatible with eager execution.\n"
          ]
        }
      ],
      "source": [
        "#0\n",
        "! python3 -u run_cl3_ratio_v4_0.py -o ./result/best__vgg0/ -l 64 -b 8 -e 100 -z 125 -r 0.0002 --op 3 --dlr 15 -f 416 -d 0.1 --tf vg -v 0.55 --aug 4 --alpha 0 --beta 0.0 --verbose 1 --es 20 --index 1 --save 1  --eval-test 1\n",
        "# ! python3 -u run_cl3_ratio_v4_0.py -o ./result/best__vgg1/ -l 64 -b 8 -e 100 -z 125 -r 0.0002 --op 3 --dlr 15 -f 416 -d 0.1 --tf vg -v 0.55 --aug 4 --alpha 0 --beta 0.0 --verbose 1 --es 20 --index 1 --save 1  --eval-test 1\n",
        "# ! python3 -u run_cl3_ratio_v4_0.py -o ./result/best__vgg2/ -l 64 -b 8 -e 100 -z 125 -r 0.0002 --op 3 --dlr 15 -f 416 -d 0.1 --tf vg -v 0.55 --aug 4 --alpha 0 --beta 0.0 --verbose 1 --es 20 --index 1 --save 1  --eval-test 1\n",
        "# ! python3 -u run_cl3_ratio_v4_0.py -o ./result/best__vgg3/ -l 64 -b 8 -e 100 -z 125 -r 0.0002 --op 3 --dlr 15 -f 416 -d 0.1 --tf vg -v 0.55 --aug 4 --alpha 0 --beta 0.0 --verbose 1 --es 20 --index 1 --save 1  --eval-test 1\n",
        "# ! python3 -u run_cl3_ratio_v4_0.py -o ./result/best__vgg4/ -l 64 -b 8 -e 100 -z 125 -r 0.0002 --op 3 --dlr 15 -f 416 -d 0.1 --tf vg -v 0.55 --aug 4 --alpha 0 --beta 0.0 --verbose 1 --es 20 --index 1 --save 1  --eval-test 1\n",
        "\n",
        "#25\n",
        "# ! python3 -u run_cl3_ratio_v4_25.py -o ./result/best__vgg0/ -l 64 -b 8 -e 100 -z 125 -r 0.00002 --op 3 --dlr 15 -f 416 -d 0.1 --tf vg -v 0.55 --aug 4 --alpha 0 --beta 0.0 --verbose 1 --es 20 --index 1 --save 1  --eval-test 1\n",
        "# ! python3 -u run_cl3_ratio_v4_25.py -o ./result/best__vgg1/ -l 64 -b 8 -e 100 -z 125 -r 0.00002 --op 3 --dlr 15 -f 416 -d 0.1 --tf vg -v 0.55 --aug 4 --alpha 0 --beta 0.0 --verbose 1 --es 20 --index 1 --save 1  --eval-test 1\n",
        "# ! python3 -u run_cl3_ratio_v4_25.py -o ./result/best__vgg2/ -l 64 -b 8 -e 100 -z 125 -r 0.00002 --op 3 --dlr 15 -f 416 -d 0.1 --tf vg -v 0.55 --aug 4 --alpha 0 --beta 0.0 --verbose 1 --es 20 --index 1 --save 1  --eval-test 1\n",
        "# ! python3 -u run_cl3_ratio_v4_25.py -o ./result/best__vgg3/ -l 64 -b 8 -e 100 -z 125 -r 0.00002 --op 3 --dlr 15 -f 416 -d 0.1 --tf vg -v 0.55 --aug 4 --alpha 0 --beta 0.0 --verbose 1 --es 20 --index 1 --save 1  --eval-test 1\n",
        "# ! python3 -u run_cl3_ratio_v4_25.py -o ./result/best__vgg4/ -l 64 -b 8 -e 100 -z 125 -r 0.00002 --op 3 --dlr 15 -f 416 -d 0.1 --tf vg -v 0.55 --aug 4 --alpha 0 --beta 0.0 --verbose 1 --es 20 --index 1 --save 1  --eval-test 1\n",
        "\n",
        "#50\n",
        "# ! python3 -u run_cl3_ratio_v4_50.py -o ./result/best__vgg0/ -l 64 -b 8 -e 100 -z 125 -r 0.00005 --op 3 --dlr 15 -f 416 -d 0.1 --tf vg -v 0.55 --aug 4 --alpha 0 --beta 0.0 --verbose 1 --es 20 --index 1 --save 1  --eval-test 1\n",
        "# ! python3 -u run_cl3_ratio_v4_50.py -o ./result/best__vgg1/ -l 64 -b 8 -e 100 -z 125 -r 0.00005 --op 3 --dlr 15 -f 416 -d 0.1 --tf vg -v 0.55 --aug 4 --alpha 0 --beta 0.0 --verbose 1 --es 20 --index 1 --save 1  --eval-test 1\n",
        "# ! python3 -u run_cl3_ratio_v4_50.py -o ./result/best__vgg2/ -l 64 -b 8 -e 100 -z 125 -r 0.00005 --op 3 --dlr 15 -f 416 -d 0.1 --tf vg -v 0.55 --aug 4 --alpha 0 --beta 0.0 --verbose 1 --es 20 --index 1 --save 1  --eval-test 1\n",
        "# ! python3 -u run_cl3_ratio_v4_50.py -o ./result/best__vgg3/ -l 64 -b 8 -e 100 -z 125 -r 0.00005 --op 3 --dlr 15 -f 416 -d 0.1 --tf vg -v 0.55 --aug 4 --alpha 0 --beta 0.0 --verbose 1 --es 20 --index 1 --save 1  --eval-test 1\n",
        "# ! python3 -u run_cl3_ratio_v4_50.py -o ./result/best__vgg4/ -l 64 -b 8 -e 100 -z 125 -r 0.00005 --op 3 --dlr 15 -f 416 -d 0.1 --tf vg -v 0.55 --aug 4 --alpha 0 --beta 0.0 --verbose 1 --es 20 --index 1 --save 1  --eval-test 1\n",
        "\n",
        "#75\n",
        "# ! python3 -u run_cl3_ratio_v4_75.py -o ./result/best__vgg0/ -l 64 -b 8 -e 100 -z 125 -r 0.00005 --op 3 --dlr 15 -f 416 -d 0.1 --tf vg -v 0.55 --aug 4 --alpha 0 --beta 0.0 --verbose 1 --es 20 --index 1 --save 1  --eval-test 1\n",
        "# ! python3 -u run_cl3_ratio_v4_75.py -o ./result/best__vgg1/ -l 64 -b 8 -e 100 -z 125 -r 0.00005 --op 3 --dlr 15 -f 416 -d 0.1 --tf vg -v 0.55 --aug 4 --alpha 0 --beta 0.0 --verbose 1 --es 20 --index 1 --save 1  --eval-test 1\n",
        "# ! python3 -u run_cl3_ratio_v4_75.py -o ./result/best__vgg2/ -l 64 -b 8 -e 100 -z 125 -r 0.00005 --op 3 --dlr 15 -f 416 -d 0.1 --tf vg -v 0.55 --aug 4 --alpha 0 --beta 0.0 --verbose 1 --es 20 --index 1 --save 1  --eval-test 1\n",
        "# ! python3 -u run_cl3_ratio_v4_75.py -o ./result/best__vgg3/ -l 64 -b 8 -e 100 -z 125 -r 0.00005 --op 3 --dlr 15 -f 416 -d 0.1 --tf vg -v 0.55 --aug 4 --alpha 0 --beta 0.0 --verbose 1 --es 20 --index 1 --save 1  --eval-test 1\n",
        "# ! python3 -u run_cl3_ratio_v4_75.py -o ./result/best__vgg4/ -l 64 -b 8 -e 100 -z 125 -r 0.00005 --op 3 --dlr 15 -f 416 -d 0.1 --tf vg -v 0.55 --aug 4 --alpha 0 --beta 0.0 --verbose 1 --es 20 --index 1 --save 1  --eval-test 1\n",
        "\n",
        "#100\n",
        "# ! python3 -u run_cl3_ratio_v4_100.py -o ./result/best__vgg0/ -l 64 -b 8 -e 100 -z 125 -r 0.00005 --op 3 --dlr 15 -f 416 -d 0.1 --tf vg -v 0.55 --aug 4 --alpha 0 --beta 0.0 --verbose 1 --es 20 --index 1 --save 1  --eval-test 1\n",
        "# ! python3 -u run_cl3_ratio_v4_100.py -o ./result/best__vgg1/ -l 64 -b 8 -e 100 -z 125 -r 0.00005 --op 3 --dlr 15 -f 416 -d 0.1 --tf vg -v 0.55 --aug 4 --alpha 0 --beta 0.0 --verbose 1 --es 20 --index 1 --save 1  --eval-test 1\n",
        "# ! python3 -u run_cl3_ratio_v4_100.py -o ./result/best__vgg2/ -l 64 -b 8 -e 100 -z 125 -r 0.00005 --op 3 --dlr 15 -f 416 -d 0.1 --tf vg -v 0.55 --aug 4 --alpha 0 --beta 0.0 --verbose 1 --es 20 --index 1 --save 1  --eval-test 1\n",
        "# ! python3 -u run_cl3_ratio_v4_100.py -o ./result/best__vgg3/ -l 64 -b 8 -e 100 -z 125 -r 0.00005 --op 3 --dlr 15 -f 416 -d 0.1 --tf vg -v 0.55 --aug 4 --alpha 0 --beta 0.0 --verbose 1 --es 20 --index 1 --save 1  --eval-test 1\n",
        "# ! python3 -u run_cl3_ratio_v4_100.py -o ./result/best__vgg4/ -l 64 -b 8 -e 100 -z 125 -r 0.00005 --op 3 --dlr 15 -f 416 -d 0.1 --tf vg -v 0.55 --aug 4 --alpha 0 --beta 0.0 --verbose 1 --es 20 --index 1 --save 1  --eval-test 1"
      ]
    },
    {
      "cell_type": "code",
      "execution_count": null,
      "metadata": {
        "id": "QM7R7lwQ7nxv"
      },
      "outputs": [],
      "source": [
        "! zip -r -q result.zip result/ "
      ]
    },
    {
      "cell_type": "code",
      "execution_count": null,
      "metadata": {
        "colab": {
          "base_uri": "https://localhost:8080/"
        },
        "id": "pjCgew0Z6jBS",
        "outputId": "c5093239-da2c-4080-90b4-ebc58e997fff"
      },
      "outputs": [
        {
          "name": "stdout",
          "output_type": "stream",
          "text": [
            "-rw-r--r-- 1 root root 505201500 Sep 12 17:37 result.zip\n"
          ]
        }
      ],
      "source": [
        "! ls -l result.zip"
      ]
    },
    {
      "cell_type": "code",
      "execution_count": null,
      "metadata": {
        "id": "WPnPaA9yInDM"
      },
      "outputs": [],
      "source": [
        "from google.colab import files\n",
        "files.download('./result.zip')\n"
      ]
    }
  ],
  "metadata": {
    "accelerator": "GPU",
    "colab": {
      "provenance": [],
      "collapsed_sections": [
        "N222fwjzS8eX"
      ]
    },
    "gpuClass": "standard",
    "kernelspec": {
      "display_name": "Python 3 (ipykernel)",
      "language": "python",
      "name": "python3"
    },
    "language_info": {
      "codemirror_mode": {
        "name": "ipython",
        "version": 3
      },
      "file_extension": ".py",
      "mimetype": "text/x-python",
      "name": "python",
      "nbconvert_exporter": "python",
      "pygments_lexer": "ipython3",
      "version": "3.9.7"
    }
  },
  "nbformat": 4,
  "nbformat_minor": 0
}